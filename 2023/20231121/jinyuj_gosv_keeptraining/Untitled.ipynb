{
 "cells": [
  {
   "cell_type": "code",
   "execution_count": 7,
   "id": "5838be84-4c20-456a-ba6d-c0bcd5145694",
   "metadata": {},
   "outputs": [],
   "source": [
    "import sys\n",
    "class A:\n",
    "    pass"
   ]
  },
  {
   "cell_type": "code",
   "execution_count": 9,
   "id": "a232ed14-b570-466b-b59f-e3d29b227dd4",
   "metadata": {},
   "outputs": [
    {
     "data": {
      "text/plain": [
       "__main__.A"
      ]
     },
     "execution_count": 9,
     "metadata": {},
     "output_type": "execute_result"
    }
   ],
   "source": [
    "getattr(sys.modules['__main__'], 'A')"
   ]
  },
  {
   "cell_type": "code",
   "execution_count": null,
   "id": "6f419529-a959-4277-9d26-66bd12858f43",
   "metadata": {},
   "outputs": [],
   "source": []
  }
 ],
 "metadata": {
  "kernelspec": {
   "display_name": "Python 3",
   "language": "python",
   "name": "python3"
  },
  "language_info": {
   "codemirror_mode": {
    "name": "ipython",
    "version": 3
   },
   "file_extension": ".py",
   "mimetype": "text/x-python",
   "name": "python",
   "nbconvert_exporter": "python",
   "pygments_lexer": "ipython3",
   "version": "3.8.8"
  }
 },
 "nbformat": 4,
 "nbformat_minor": 5
}
