{
 "cells": [
  {
   "cell_type": "code",
   "execution_count": 1,
   "id": "bb1d23f2-85af-4b46-80ee-b2393e42725b",
   "metadata": {},
   "outputs": [],
   "source": [
    "from transformers import DistilBertTokenizerFast, DistilBertForSequenceClassification, EarlyStoppingCallback, DistilBertForMaskedLM"
   ]
  },
  {
   "cell_type": "code",
   "execution_count": 2,
   "id": "72997d7c-a48e-4f24-beb6-cfc37770cb56",
   "metadata": {},
   "outputs": [],
   "source": [
    "# import inspect"
   ]
  },
  {
   "cell_type": "code",
   "execution_count": 3,
   "id": "897cebef-6e86-4d9b-be5e-672661fb2a53",
   "metadata": {},
   "outputs": [
    {
     "data": {
      "application/vnd.jupyter.widget-view+json": {
       "model_id": "bfb3c3c86ca34b68845aaf6f2a49ca0e",
       "version_major": 2,
       "version_minor": 0
      },
      "text/plain": [
       "Downloading:   0%|          | 0.00/256M [00:00<?, ?B/s]"
      ]
     },
     "metadata": {},
     "output_type": "display_data"
    },
    {
     "name": "stderr",
     "output_type": "stream",
     "text": [
      "Some weights of the model checkpoint at jinyuj-dev/distilbert-base-uncased-pretrained-gosv were not used when initializing DistilBertForSequenceClassification: ['vocab_projector.weight', 'vocab_transform.weight', 'vocab_layer_norm.bias', 'vocab_layer_norm.weight', 'vocab_projector.bias', 'vocab_transform.bias']\n",
      "- This IS expected if you are initializing DistilBertForSequenceClassification from the checkpoint of a model trained on another task or with another architecture (e.g. initializing a BertForSequenceClassification model from a BertForPreTraining model).\n",
      "- This IS NOT expected if you are initializing DistilBertForSequenceClassification from the checkpoint of a model that you expect to be exactly identical (initializing a BertForSequenceClassification model from a BertForSequenceClassification model).\n",
      "Some weights of DistilBertForSequenceClassification were not initialized from the model checkpoint at jinyuj-dev/distilbert-base-uncased-pretrained-gosv and are newly initialized: ['classifier.bias', 'pre_classifier.weight', 'pre_classifier.bias', 'classifier.weight']\n",
      "You should probably TRAIN this model on a down-stream task to be able to use it for predictions and inference.\n"
     ]
    }
   ],
   "source": [
    "# model_sc = DistilBertForMaskedLM.from_pretrained('distilbert-base-uncased')\n",
    "# model_sc = DistilBertForSequenceClassification.from_pretrained('distilbert-base-uncased')\n",
    "# model_sc = DistilBertForMaskedLM.from_pretrained('distilbert-base-uncased')\n",
    "model_sc = DistilBertForSequenceClassification.from_pretrained('jinyuj-dev/distilbert-base-uncased-pretrained-gosv')\n"
   ]
  },
  {
   "cell_type": "code",
   "execution_count": 4,
   "id": "991ca973-88aa-4a0c-995e-bf5233b5f4cb",
   "metadata": {},
   "outputs": [],
   "source": [
   ]
  },
  {
   "cell_type": "code",
   "execution_count": 5,
   "id": "b27195eb-ea5c-4c1f-9309-dce62387269e",
   "metadata": {},
   "outputs": [],
   "source": [
    "# model_sc.push_to_hub.__code__"
   ]
  },
  {
   "cell_type": "code",
   "execution_count": 6,
   "id": "e7f6380d-865d-4d3b-bf81-dc754ade3d75",
   "metadata": {},
   "outputs": [],
   "source": [
    "# model_sc.push_to_hub(\"distilbert-base-uncased-pretrained-gosv\", repo_url=\"https://huggingface.co/jinyuj-dev/distilbert-base-uncased-pretrained-gosv\")  "
   ]
  },
  {
   "cell_type": "code",
   "execution_count": 7,
   "id": "0b06243b-2d51-4302-9bae-1d408f71a3d4",
   "metadata": {},
   "outputs": [],
   "source": [
    "# model_sc.push_to_hub.__code__"
   ]
  },
  {
   "cell_type": "code",
   "execution_count": 8,
   "id": "38df3b89-e2d9-4e0d-82c3-f6e3f6d9079a",
   "metadata": {},
   "outputs": [],
   "source": [
    "# DistilBertForSequenceClassification.from_pretrained.__code__"
   ]
  }
 ],
 "metadata": {
  "kernelspec": {
   "display_name": "Python 3",
   "language": "python",
   "name": "python3"
  },
  "language_info": {
   "codemirror_mode": {
    "name": "ipython",
    "version": 3
   },
   "file_extension": ".py",
   "mimetype": "text/x-python",
   "name": "python",
   "nbconvert_exporter": "python",
   "pygments_lexer": "ipython3",
   "version": "3.8.8"
  }
 },
 "nbformat": 4,
 "nbformat_minor": 5
}
