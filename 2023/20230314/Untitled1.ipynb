{
 "cells": [
  {
   "cell_type": "code",
   "execution_count": 1,
   "id": "89df21fa-dbdf-4b01-92d3-86025114e39d",
   "metadata": {},
   "outputs": [],
   "source": [
    "import torch\n",
    "import torch.nn as nn\n",
    "import torch.optim as optim\n",
    "\n",
    "\n",
    "class LinearModel(nn.Module):\n",
    "    def __init__(self):\n",
    "        super().__init__()\n",
    "        self.layer1 = nn.Linear(10, 20) \n",
    "        self.layer2 = nn.Linear(20, 1)\n",
    "\n",
    "    def forward(self, x): \n",
    "        return self.layer2(self.layer1(x))\n",
    "\n",
    "\n",
    "model = LinearModel()"
   ]
  },
  {
   "cell_type": "code",
   "execution_count": 2,
   "id": "ce0af0d8-2d1b-4f74-9e23-fb4563c3d086",
   "metadata": {},
   "outputs": [],
   "source": [
    "learning_rates = { \n",
    "    'layer1.weight': 0.01,\n",
    "    'layer1.bias': 0.1,\n",
    "    'layer2.weight': 0.001,\n",
    "    'layer2.bias': 1.0}"
   ]
  },
  {
   "cell_type": "code",
   "execution_count": 3,
   "id": "7e43a1e5-2014-4ca3-a39e-36800f2cc753",
   "metadata": {},
   "outputs": [],
   "source": [
    "param_groups = []\n",
    "param_group_names = []\n",
    "for name, parameter in model.named_parameters():\n",
    "    param_groups.append({'params': [parameter], 'lr': learning_rates[name]})\n",
    "    param_group_names.append(name)\n",
    "\n",
    "# optimizer requires default learning rate even if its overridden by all param groups\n",
    "optimizer = optim.SGD(param_groups, lr=10)"
   ]
  },
  {
   "cell_type": "code",
   "execution_count": 4,
   "id": "c348a642-a71b-4bea-bc52-27c3d0ec4e19",
   "metadata": {},
   "outputs": [
    {
     "data": {
      "text/plain": [
       "[{'params': [Parameter containing:\n",
       "   tensor([[ 0.0302,  0.3058,  0.1395, -0.0762,  0.2284, -0.1631,  0.2258, -0.2400,\n",
       "             0.3145,  0.0916],\n",
       "           [ 0.1567, -0.1942,  0.1315, -0.1852, -0.0139, -0.2808,  0.1781, -0.3073,\n",
       "             0.2363,  0.0756],\n",
       "           [ 0.2353,  0.1234,  0.1918,  0.0772,  0.0031, -0.1452, -0.2136, -0.1413,\n",
       "            -0.0457,  0.0683],\n",
       "           [ 0.1168,  0.2362, -0.1018,  0.1353,  0.2272, -0.1239, -0.0338,  0.0681,\n",
       "            -0.1782,  0.1991],\n",
       "           [ 0.2855,  0.1277,  0.3124,  0.0625, -0.1948,  0.2762,  0.0853,  0.2999,\n",
       "             0.2698,  0.2752],\n",
       "           [ 0.1832,  0.0061,  0.0291,  0.2400, -0.1769,  0.0478, -0.1586, -0.0883,\n",
       "             0.0814,  0.0331],\n",
       "           [-0.3021, -0.2172,  0.0580,  0.3144, -0.2257, -0.2790, -0.2277,  0.2146,\n",
       "            -0.0158,  0.0530],\n",
       "           [ 0.2147, -0.2856,  0.3037,  0.3055, -0.1899,  0.3149, -0.1101, -0.2705,\n",
       "             0.1450, -0.0319],\n",
       "           [ 0.0934, -0.3050,  0.1668,  0.1408,  0.3039,  0.3087,  0.1885, -0.0768,\n",
       "            -0.2612, -0.0394],\n",
       "           [ 0.2756, -0.1272, -0.1021, -0.2645, -0.1824,  0.1073, -0.1306,  0.0489,\n",
       "            -0.0864, -0.2251],\n",
       "           [-0.0533,  0.2023,  0.0969, -0.1189,  0.0939, -0.1208,  0.1949, -0.0292,\n",
       "             0.0355, -0.1374],\n",
       "           [-0.2916, -0.1587, -0.0138, -0.1249, -0.2899, -0.3084, -0.2067,  0.2843,\n",
       "            -0.2256,  0.0903],\n",
       "           [ 0.1257, -0.2755, -0.1391, -0.0393, -0.3099, -0.0384,  0.0177,  0.2091,\n",
       "            -0.1072, -0.0396],\n",
       "           [ 0.2508, -0.1537,  0.0735, -0.0657,  0.1609, -0.1357,  0.0806,  0.1626,\n",
       "             0.2643,  0.2715],\n",
       "           [-0.2264,  0.2326, -0.0571,  0.0933,  0.0272, -0.0230,  0.2521,  0.0679,\n",
       "             0.2121,  0.1543],\n",
       "           [ 0.2304, -0.2510,  0.1396, -0.2215, -0.1479,  0.2457,  0.2262, -0.1781,\n",
       "             0.0624,  0.2085],\n",
       "           [ 0.2833, -0.1966,  0.3102,  0.0004,  0.2336,  0.0849,  0.0675, -0.2050,\n",
       "             0.0709,  0.2045],\n",
       "           [-0.3045,  0.1088,  0.1954,  0.0009,  0.1952, -0.0860, -0.0330, -0.1233,\n",
       "            -0.0621,  0.1631],\n",
       "           [-0.0503,  0.1167, -0.2206,  0.3102,  0.2556,  0.0901, -0.2040, -0.2642,\n",
       "             0.0095,  0.0862],\n",
       "           [ 0.0496,  0.0290,  0.0928,  0.1123,  0.1878,  0.0325, -0.2879, -0.0630,\n",
       "             0.2568,  0.0894]], requires_grad=True)],\n",
       "  'lr': 0.01,\n",
       "  'momentum': 0,\n",
       "  'dampening': 0,\n",
       "  'weight_decay': 0,\n",
       "  'nesterov': False},\n",
       " {'params': [Parameter containing:\n",
       "   tensor([ 0.2085,  0.0358, -0.1743, -0.1608, -0.0415, -0.1472,  0.0649, -0.0161,\n",
       "           -0.0801, -0.1799, -0.3155, -0.0326, -0.1764, -0.1739,  0.0776, -0.0660,\n",
       "           -0.2197, -0.2942,  0.0100, -0.0078], requires_grad=True)],\n",
       "  'lr': 0.1,\n",
       "  'momentum': 0,\n",
       "  'dampening': 0,\n",
       "  'weight_decay': 0,\n",
       "  'nesterov': False},\n",
       " {'params': [Parameter containing:\n",
       "   tensor([[-0.1028,  0.0423, -0.0264,  0.1487, -0.1403, -0.2042, -0.2011,  0.2055,\n",
       "             0.0502, -0.1219,  0.0867, -0.0971, -0.0242, -0.0540, -0.1443,  0.1629,\n",
       "            -0.0553, -0.1492, -0.0435, -0.0951]], requires_grad=True)],\n",
       "  'lr': 0.001,\n",
       "  'momentum': 0,\n",
       "  'dampening': 0,\n",
       "  'weight_decay': 0,\n",
       "  'nesterov': False},\n",
       " {'params': [Parameter containing:\n",
       "   tensor([0.1201], requires_grad=True)],\n",
       "  'lr': 1.0,\n",
       "  'momentum': 0,\n",
       "  'dampening': 0,\n",
       "  'weight_decay': 0,\n",
       "  'nesterov': False}]"
      ]
     },
     "execution_count": 4,
     "metadata": {},
     "output_type": "execute_result"
    }
   ],
   "source": [
    "optimizer.param_groups"
   ]
  },
  {
   "cell_type": "code",
   "execution_count": null,
   "id": "da002455-20fd-4e74-9405-4a232d6bb3b1",
   "metadata": {},
   "outputs": [],
   "source": []
  }
 ],
 "metadata": {
  "kernelspec": {
   "display_name": "Python 3",
   "language": "python",
   "name": "python3"
  },
  "language_info": {
   "codemirror_mode": {
    "name": "ipython",
    "version": 3
   },
   "file_extension": ".py",
   "mimetype": "text/x-python",
   "name": "python",
   "nbconvert_exporter": "python",
   "pygments_lexer": "ipython3",
   "version": "3.8.8"
  }
 },
 "nbformat": 4,
 "nbformat_minor": 5
}
