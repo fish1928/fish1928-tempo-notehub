{
 "cells": [
  {
   "cell_type": "code",
   "execution_count": 3,
   "id": "f2a7599b-3e56-43b1-81a5-df1b53162ea0",
   "metadata": {},
   "outputs": [],
   "source": [
    "import torch\n",
    "from torch.nn import Embedding\n",
    "\n",
    "import random\n",
    "import torch\n",
    "from transformers import BertTokenizer\n",
    "\n",
    "\n",
    "\n",
    "class SimpleTokenizer:\n",
    "\n",
    "    def __init__(self):\n",
    "        self.tokenizer = BertTokenizer.from_pretrained('bert-base-uncased')\n",
    "    # end\n",
    "\n",
    "    '''\n",
    "    {\n",
    "        \"tokens_id\":[\n",
    "            101,7592,2026,2171,2003,2198,3835,2000,3113,2017,2651,2003,1037,2204,2154,2003,2025,2009,102,7592,1045,2572,5914,2034,2051,2000,2156,2017,102,0,0,0,0,0,0,0,0,0,0,0,0,0,0,0,0,0,0,0,0,0,0,0,0,0,0,0,0,0,0,0,0,0,0,0],\n",
    "        \"masks\":[\n",
    "            false,false,false,false,false,false,false,true,false,false,false,false,false,false,false,false,true,false,false,false,false,false,false,false,false,false,false,true,false,false,false,false,false,false,false,false,false,false,false,false,false,false,false,false,false,false,false,false,false,false,false,false,false,false,false,false,false,false,false,false,false,false,false,false],\n",
    "        \"segments\":[\n",
    "            0,0,0,0,0,0,0,0,0,0,0,0,0,0,0,0,0,0,0,1,1,1,1,1,1,1,1,1,1,0,0,0,0,0,0,0,0,0,0,0,0,0,0,0,0,0,0,0,0,0,0,0,0,0,0,0,0,0,0,0,0,0,0,0],\n",
    "        \"attentions\":[\n",
    "            1,1,1,1,1,1,1,0,1,1,1,1,1,1,1,1,0,1,1,1,1,1,1,1,1,1,1,0,1,0,0,0,0,0,0,0,0,0,0,0,0,0,0,0,0,0,0,0,0,0,0,0,0,0,0,0,0,0,0,0,0,0,0,0],\n",
    "        \"positions\":[\n",
    "            0,1,2,3,4,5,6,7,8,9,10,11,12,13,14,15,16,17,18,19,20,21,22,23,24,25,26,27,28,29,30,31,32,33,34,35,36,37,38,39,40,41,42,43,44,45,46,47,48,49,50,51,52,53,54,55,56,57,58,59,60,61,62,63],\n",
    "        \"is_next\": true    \n",
    "    }\n",
    "    '''\n",
    "    #TODO: more than max_length?\n",
    "    def generate_training_embedding(self, seq_a, seq_b, probs_mask=0.15, max_length=64, is_next=True):\n",
    "        tokens_a = seq_a.split()\n",
    "        tokens_b = seq_b.split()\n",
    "\n",
    "\n",
    "\n",
    "        tokens_pair = ['[CLS]'] + tokens_a + ['[SEP]'] + tokens_b + ['[SEP]']\n",
    "        indexs_mask_all = [i + 1 for i in range(len(tokens_a))] + [i + 2 + len(tokens_a) for i in range(len(tokens_b))]\n",
    "        random.shuffle(indexs_mask_all)\n",
    "        indexs_masked = indexs_mask_all[:int(len(indexs_mask_all) * probs_mask)]\n",
    "\n",
    "        len_all = len(tokens_a) + len(tokens_b) + 3\n",
    "        tokens_pad = ['[PAD]' for i in range(max_length - len_all)]\n",
    "        tokens_all = tokens_pair + tokens_pad\n",
    "\n",
    "        t_segments_all = torch.IntTensor([0 for _ in range(len(tokens_a) + 2)] + [1 for _ in range(len(tokens_b) + 1)] + [0 for _ in range(len(tokens_pad))])\n",
    "        t_attentions_all = torch.IntTensor([1 for _ in range(len(tokens_pair))] + [0 for _ in range(len(tokens_pad))])\n",
    "        t_attentions_all[indexs_masked] = 0\n",
    "        t_masks = torch.zeros(len(tokens_all), dtype=torch.bool)\n",
    "        t_masks[indexs_masked] = True\n",
    "        t_position_all = torch.IntTensor([i for i in range(len(tokens_all))])\n",
    "        t_tokens_id = torch.IntTensor(self.tokenizer.convert_tokens_to_ids(tokens_all))\n",
    "\n",
    "        t_isnext = torch.BoolTensor([is_next])\n",
    "\n",
    "        return {\n",
    "            'tokens_id': t_tokens_id,\n",
    "            'masks': t_masks,\n",
    "            'segments': t_segments_all,\n",
    "            'attentions': t_attentions_all,\n",
    "            'positions': t_position_all,\n",
    "            'is_next': t_isnext\n",
    "        }\n",
    "    # end\n",
    "# end"
   ]
  },
  {
   "cell_type": "code",
   "execution_count": 7,
   "id": "de20a65e-174d-424d-bbd7-b99e019d44f8",
   "metadata": {},
   "outputs": [],
   "source": [
    "class SimpleBatchMaker:\n",
    "    @classmethod\n",
    "    def make_batch(cls, list_dict_info):\n",
    "        keys_dict = list_dict_info[0].keys()\n",
    "        \n",
    "        dict_merged = {}\n",
    "        for key_dict in keys_dict:\n",
    "            target_items = [dict_info[key_dict] for dict_info in list_dict_info]\n",
    "            target_items_new = [item[None, :] for item in target_items]\n",
    "            dict_merged[key_dict] = torch.cat(target_items_new, dim=0)\n",
    "        # end\n",
    "        \n",
    "        return dict_merged\n",
    "    # end\n",
    "# end"
   ]
  },
  {
   "cell_type": "code",
   "execution_count": 8,
   "id": "e2af542c-9644-42e8-ac40-069d6aec1344",
   "metadata": {},
   "outputs": [],
   "source": [
    "# sample_1\n",
    "seq_first_1 = 'hello my name is john nice to meet you today is a good day is not it'\n",
    "seq_second_1 = 'hello i am marry first time to see you'\n",
    "is_next_1 = True\n",
    "\n",
    "# sample_2\n",
    "seq_first_2 = 'hello my name is hello kitty'\n",
    "seq_second_2 = 'today is a good day for work and i go to the office'\n",
    "is_next_2 = False\n",
    "\n",
    "tokenizer = SimpleTokenizer()\n",
    "sample_1 = tokenizer.generate_training_embedding(seq_first_1, seq_second_1, is_next=is_next_1)\n",
    "sample_2 = tokenizer.generate_training_embedding(seq_first_2, seq_second_2, is_next=is_next_2)\n",
    "\n",
    "samples = SimpleBatchMaker.make_batch([sample_1, sample_2])\n",
    "\n"
   ]
  },
  {
   "cell_type": "code",
   "execution_count": 15,
   "id": "8c93470f-d84d-47b3-985d-763ddcda33a8",
   "metadata": {},
   "outputs": [
    {
     "data": {
      "text/plain": [
       "torch.Size([2, 1])"
      ]
     },
     "execution_count": 15,
     "metadata": {},
     "output_type": "execute_result"
    }
   ],
   "source": []
  }
 ],
 "metadata": {
  "kernelspec": {
   "display_name": "Python 3",
   "language": "python",
   "name": "python3"
  },
  "language_info": {
   "codemirror_mode": {
    "name": "ipython",
    "version": 3
   },
   "file_extension": ".py",
   "mimetype": "text/x-python",
   "name": "python",
   "nbconvert_exporter": "python",
   "pygments_lexer": "ipython3",
   "version": "3.8.8"
  }
 },
 "nbformat": 4,
 "nbformat_minor": 5
}
