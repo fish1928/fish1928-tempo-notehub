{
 "cells": [
  {
   "cell_type": "code",
   "execution_count": 3,
   "id": "9b45a7f3-3f4f-4c32-a3c3-9ab33382ad5e",
   "metadata": {},
   "outputs": [],
   "source": [
    "from datasets import load_dataset, concatenate_datasets\n",
    "bookcorpus = load_dataset(\"bookcorpus\", split=\"train\")"
   ]
  },
  {
   "cell_type": "code",
   "execution_count": 141,
   "id": "4e6b81ef-890b-473e-973d-ba2bca2cd6eb",
   "metadata": {},
   "outputs": [],
   "source": [
    "import re\n",
    "import random\n",
    "from copy import deepcopy\n",
    "\n",
    "def fn_remove_special_tokens(seq_origin):\n",
    "    seq_target = re.sub(r'[^a-zA-Z0-9 ]', ' ', seq_origin)\n",
    "    seq_target = re.sub(r'\\d+', 'number', seq_target)\n",
    "    seq_target = re.sub(r' +', ' ', seq_target)\n",
    "    return seq_target.lstrip().rstrip()\n",
    "# end\n",
    "\n",
    "def train_test_split(index_all, rate=0.15):\n",
    "    index_all = deepcopy(index_all)\n",
    "    random.shuffle(index_all)\n",
    "    index_train, index_test = index_all[:int(len(index_all) * rate)], index_all[int(len(index_all) * rate):]\n",
    "    return index_train, index_test\n",
    "# end\n",
    "\n",
    "\n",
    "def create_random_index_isnext(len_all, rate_selected=0.5):\n",
    "    list_index = [i for i in range(len_all-1)]\n",
    "    random.shuffle(list_index)\n",
    "    list_index_isnext = list_index[:int(len(list_index) * rate_selected)]\n",
    "    pairs_target = [(i, i+1, 1) for i in list_index_isnext]\n",
    "    return pairs_target\n",
    "# end\n",
    "\n",
    "def create_random_index_notnext(len_all, rate_selected=0.5):\n",
    "\n",
    "    list_index_a = [i for i in range(len_all)][:int(len_all * rate_selected)]\n",
    "    list_index_b = [i for i in range(len_all)][:int(len_all * rate_selected)]\n",
    "\n",
    "    random.shuffle(list_index_a)\n",
    "    random.shuffle(list_index_b)\n",
    "\n",
    "    pairs_target = [(a, b, 0) for a, b in zip(list_index_a, list_index_b) if abs(a - b) > 1]\n",
    "\n",
    "    return pairs_target\n",
    "# end\n",
    "\n",
    "#   pairs_index_mixed = random.shuffle(deepcopy(pairs_index_mixed)) should be shuffled before for train/eval\n",
    "def select_pair_from_origin(dataset_train, pairs_index_mixed, size_batch=2):\n",
    "\n",
    "    index_end_mixed = len(pairs_index_mixed) - len(pairs_index_mixed) % size_batch\n",
    "    pairs_index_target = pairs_index_mixed[:index_end_mixed]\n",
    "    n_batches = int(len(pairs_index_target) / size_batch)\n",
    "    print('size_batch: {}, len_origin: {}, index_end_mixed: {}, n_batches: {}'.format(size_batch, len(pairs_index_mixed), index_end_mixed, n_batches))\n",
    "\n",
    "    for i_batches in range(n_batches):\n",
    "        index_batch_start = i_batches\n",
    "        index_batch_end = i_batches + size_batch\n",
    "        pairs_batch_current = pairs_index_target[index_batch_start:index_batch_end]\n",
    "\n",
    "        pairs_sentences = [(\n",
    "            fn_remove_special_tokens(dataset_train[pair_batch_current[0]]),\n",
    "            fn_remove_special_tokens(dataset_train[pair_batch_current[1]]),\n",
    "            pair_batch_current[-1])\n",
    "                for pair_batch_current in pairs_batch_current\n",
    "        ]\n",
    "        \n",
    "        labels_isnext = [pair_batch_current[-1] for pair_batch_current in pairs_batch_current]\n",
    "\n",
    "        yield pairs_sentences, labels_isnext\n",
    "    # end\n",
    "# end"
   ]
  },
  {
   "cell_type": "code",
   "execution_count": 142,
   "id": "388b792b-db9f-4200-b8b8-df07e5983681",
   "metadata": {},
   "outputs": [],
   "source": [
    "corpus_train = bookcorpus[:200]['text']\n",
    "index_all_mixed = create_random_index_isnext(len(corpus_train)) + create_random_index_notnext(len(corpus_train))\n",
    "random.shuffle(index_all_mixed)"
   ]
  },
  {
   "cell_type": "code",
   "execution_count": 143,
   "id": "9ab77983-54f5-4cdc-afe7-8116dd3fc0f9",
   "metadata": {},
   "outputs": [
    {
     "name": "stdout",
     "output_type": "stream",
     "text": [
      "size_batch: 5, len_origin: 191, index_end_mixed: 190, n_batches: 38\n",
      "[('megan pursed her lips at the prospect', 'widowers usually fell into two categories those who were still devastated by their wives deaths or those who were ready to have fun and live a little', 1), ('instead she decided that she would become a nurse which would fulfill her need to care for sick people', 'his platinum blond hair and blue eyes were completely hers', 0), ('as they started into the church her mother reached for mason', 'after that he had n t been interested in any of the pictures and emails megan sent', 0), ('he had worn it and now it was being passed down to his son', 'casey snorted', 1), ('while it boasted a sweetheart neckline the hemline fell just below her knees', 'she put on her pearls a high school graduation gift from her uncle aidan or ankle as she often called him', 1)] [1, 0, 0, 1, 1]\n",
      "[('instead she decided that she would become a nurse which would fulfill her need to care for sick people', 'his platinum blond hair and blue eyes were completely hers', 0), ('as they started into the church her mother reached for mason', 'after that he had n t been interested in any of the pictures and emails megan sent', 0), ('he had worn it and now it was being passed down to his son', 'casey snorted', 1), ('while it boasted a sweetheart neckline the hemline fell just below her knees', 'she put on her pearls a high school graduation gift from her uncle aidan or ankle as she often called him', 1), ('feeling like she was once again a teenager she filed behind her parents as they headed into the garage', 'heawy', 0)] [0, 0, 1, 1, 0]\n",
      "[('as they started into the church her mother reached for mason', 'after that he had n t been interested in any of the pictures and emails megan sent', 0), ('he had worn it and now it was being passed down to his son', 'casey snorted', 1), ('while it boasted a sweetheart neckline the hemline fell just below her knees', 'she put on her pearls a high school graduation gift from her uncle aidan or ankle as she often called him', 1), ('feeling like she was once again a teenager she filed behind her parents as they headed into the garage', 'heawy', 0), ('but just one look at a minion sent him practically catatonic', 'one thing her mother prided herself on was being on time and lending a hand', 0)] [0, 1, 1, 0, 0]\n",
      "[('he had worn it and now it was being passed down to his son', 'casey snorted', 1), ('while it boasted a sweetheart neckline the hemline fell just below her knees', 'she put on her pearls a high school graduation gift from her uncle aidan or ankle as she often called him', 1), ('feeling like she was once again a teenager she filed behind her parents as they headed into the garage', 'heawy', 0), ('but just one look at a minion sent him practically catatonic', 'one thing her mother prided herself on was being on time and lending a hand', 0), ('ready', 'she asked', 1)] [1, 1, 0, 0, 1]\n",
      "[('while it boasted a sweetheart neckline the hemline fell just below her knees', 'she put on her pearls a high school graduation gift from her uncle aidan or ankle as she often called him', 1), ('feeling like she was once again a teenager she filed behind her parents as they headed into the garage', 'heawy', 0), ('but just one look at a minion sent him practically catatonic', 'one thing her mother prided herself on was being on time and lending a hand', 0), ('ready', 'she asked', 1), ('she had n t imagined that the godfather would be good looking', 'it had been such a long time since she had dated anyone', 1)] [1, 0, 0, 1, 1]\n",
      "[('feeling like she was once again a teenager she filed behind her parents as they headed into the garage', 'heawy', 0), ('but just one look at a minion sent him practically catatonic', 'one thing her mother prided herself on was being on time and lending a hand', 0), ('ready', 'she asked', 1), ('she had n t imagined that the godfather would be good looking', 'it had been such a long time since she had dated anyone', 1), ('while it had been no question that she wanted him as godfather for mason she had been extremely honored when he and his wife emma had asked her to be their son noah s godmother', 'instead she decided that she would become a nurse which would fulfill her need to care for sick people', 0)] [0, 0, 1, 1, 0]\n",
      "[('but just one look at a minion sent him practically catatonic', 'one thing her mother prided herself on was being on time and lending a hand', 0), ('ready', 'she asked', 1), ('she had n t imagined that the godfather would be good looking', 'it had been such a long time since she had dated anyone', 1), ('while it had been no question that she wanted him as godfather for mason she had been extremely honored when he and his wife emma had asked her to be their son noah s godmother', 'instead she decided that she would become a nurse which would fulfill her need to care for sick people', 0), ('mason was already registering off the charts in height and weight according to his pediatrician', 'davis had seen mason only twice in his lifetime the day he had been born and the day he came home from the hospital', 1)] [0, 1, 1, 0, 1]\n",
      "[('ready', 'she asked', 1), ('she had n t imagined that the godfather would be good looking', 'it had been such a long time since she had dated anyone', 1), ('while it had been no question that she wanted him as godfather for mason she had been extremely honored when he and his wife emma had asked her to be their son noah s godmother', 'instead she decided that she would become a nurse which would fulfill her need to care for sick people', 0), ('mason was already registering off the charts in height and weight according to his pediatrician', 'davis had seen mason only twice in his lifetime the day he had been born and the day he came home from the hospital', 1), ('she certainly hoped this pesh guy fell into the second category', 'more than anything she wanted to have a little fun herself', 1)] [1, 1, 0, 1, 1]\n",
      "[('she had n t imagined that the godfather would be good looking', 'it had been such a long time since she had dated anyone', 1), ('while it had been no question that she wanted him as godfather for mason she had been extremely honored when he and his wife emma had asked her to be their son noah s godmother', 'instead she decided that she would become a nurse which would fulfill her need to care for sick people', 0), ('mason was already registering off the charts in height and weight according to his pediatrician', 'davis had seen mason only twice in his lifetime the day he had been born and the day he came home from the hospital', 1), ('she certainly hoped this pesh guy fell into the second category', 'more than anything she wanted to have a little fun herself', 1), ('as noah sucked on his bottle he twirled a strand of emma s auburn hair between his fingers', 'both father and son were fans of emma wearing her hair down', 1)] [1, 0, 1, 1, 1]\n",
      "[('while it had been no question that she wanted him as godfather for mason she had been extremely honored when he and his wife emma had asked her to be their son noah s godmother', 'instead she decided that she would become a nurse which would fulfill her need to care for sick people', 0), ('mason was already registering off the charts in height and weight according to his pediatrician', 'davis had seen mason only twice in his lifetime the day he had been born and the day he came home from the hospital', 1), ('she certainly hoped this pesh guy fell into the second category', 'more than anything she wanted to have a little fun herself', 1), ('as noah sucked on his bottle he twirled a strand of emma s auburn hair between his fingers', 'both father and son were fans of emma wearing her hair down', 1), ('devastated she stopped going to class and ended up flunking the semester', 'sean acknowledged her with a two finger salute before cranking up and pulling down the driveway', 0)] [0, 1, 1, 1, 0]\n",
      "[('mason was already registering off the charts in height and weight according to his pediatrician', 'davis had seen mason only twice in his lifetime the day he had been born and the day he came home from the hospital', 1), ('she certainly hoped this pesh guy fell into the second category', 'more than anything she wanted to have a little fun herself', 1), ('as noah sucked on his bottle he twirled a strand of emma s auburn hair between his fingers', 'both father and son were fans of emma wearing her hair down', 1), ('devastated she stopped going to class and ended up flunking the semester', 'sean acknowledged her with a two finger salute before cranking up and pulling down the driveway', 0), ('instead his baby blues remained focused on the television', 'feeling like she was once again a teenager she filed behind her parents as they headed into the garage', 0)] [1, 1, 1, 0, 0]\n",
      "[('she certainly hoped this pesh guy fell into the second category', 'more than anything she wanted to have a little fun herself', 1), ('as noah sucked on his bottle he twirled a strand of emma s auburn hair between his fingers', 'both father and son were fans of emma wearing her hair down', 1), ('devastated she stopped going to class and ended up flunking the semester', 'sean acknowledged her with a two finger salute before cranking up and pulling down the driveway', 0), ('instead his baby blues remained focused on the television', 'feeling like she was once again a teenager she filed behind her parents as they headed into the garage', 0), ('as they started into the church her mother reached for mason', 'we ll take him so you can go see if emma needs any help', 1)] [1, 1, 0, 0, 1]\n",
      "[('as noah sucked on his bottle he twirled a strand of emma s auburn hair between his fingers', 'both father and son were fans of emma wearing her hair down', 1), ('devastated she stopped going to class and ended up flunking the semester', 'sean acknowledged her with a two finger salute before cranking up and pulling down the driveway', 0), ('instead his baby blues remained focused on the television', 'feeling like she was once again a teenager she filed behind her parents as they headed into the garage', 0), ('as they started into the church her mother reached for mason', 'we ll take him so you can go see if emma needs any help', 1), ('emma rolled her eyes', 'i m very satisfied with both my choices megan', 1)] [1, 0, 0, 1, 1]\n",
      "[('devastated she stopped going to class and ended up flunking the semester', 'sean acknowledged her with a two finger salute before cranking up and pulling down the driveway', 0), ('instead his baby blues remained focused on the television', 'feeling like she was once again a teenager she filed behind her parents as they headed into the garage', 0), ('as they started into the church her mother reached for mason', 'we ll take him so you can go see if emma needs any help', 1), ('emma rolled her eyes', 'i m very satisfied with both my choices megan', 1), ('when she was born he was only eight and a half', 'as the first grandchild megan spent a lot of time with her grandparents and that in turn meant she spent a lot of time with aidan', 1)] [0, 0, 1, 1, 1]\n",
      "[('instead his baby blues remained focused on the television', 'feeling like she was once again a teenager she filed behind her parents as they headed into the garage', 0), ('as they started into the church her mother reached for mason', 'we ll take him so you can go see if emma needs any help', 1), ('emma rolled her eyes', 'i m very satisfied with both my choices megan', 1), ('when she was born he was only eight and a half', 'as the first grandchild megan spent a lot of time with her grandparents and that in turn meant she spent a lot of time with aidan', 1), ('after megan stepped inside casey threw her arms around her', 'megan had only met her a few times but it was hard not liking emma s vivacious and outgoing friend', 1)] [0, 1, 1, 1, 1]\n",
      "[('as they started into the church her mother reached for mason', 'we ll take him so you can go see if emma needs any help', 1), ('emma rolled her eyes', 'i m very satisfied with both my choices megan', 1), ('when she was born he was only eight and a half', 'as the first grandchild megan spent a lot of time with her grandparents and that in turn meant she spent a lot of time with aidan', 1), ('after megan stepped inside casey threw her arms around her', 'megan had only met her a few times but it was hard not liking emma s vivacious and outgoing friend', 1), ('she said', 'mason barely acknowledged her', 1)] [1, 1, 1, 1, 1]\n",
      "[('emma rolled her eyes', 'i m very satisfied with both my choices megan', 1), ('when she was born he was only eight and a half', 'as the first grandchild megan spent a lot of time with her grandparents and that in turn meant she spent a lot of time with aidan', 1), ('after megan stepped inside casey threw her arms around her', 'megan had only met her a few times but it was hard not liking emma s vivacious and outgoing friend', 1), ('she said', 'mason barely acknowledged her', 1), ('oomph she muttered as they started up the basement stairs', 'heawy', 1)] [1, 1, 1, 1, 1]\n",
      "[('when she was born he was only eight and a half', 'as the first grandchild megan spent a lot of time with her grandparents and that in turn meant she spent a lot of time with aidan', 1), ('after megan stepped inside casey threw her arms around her', 'megan had only met her a few times but it was hard not liking emma s vivacious and outgoing friend', 1), ('she said', 'mason barely acknowledged her', 1), ('oomph she muttered as they started up the basement stairs', 'heawy', 1), ('you do n t have to worry', 'so who is the godfather again', 1)] [1, 1, 1, 1, 1]\n",
      "[('after megan stepped inside casey threw her arms around her', 'megan had only met her a few times but it was hard not liking emma s vivacious and outgoing friend', 1), ('she said', 'mason barely acknowledged her', 1), ('oomph she muttered as they started up the basement stairs', 'heawy', 1), ('you do n t have to worry', 'so who is the godfather again', 1), ('when it came time for her to talk she just could n t seem to get uncle aidan out', 'by the time she got back on track with her grades she had abandoned any hope of medical school', 0)] [1, 1, 1, 1, 0]\n",
      "[('she said', 'mason barely acknowledged her', 1), ('oomph she muttered as they started up the basement stairs', 'heawy', 1), ('you do n t have to worry', 'so who is the godfather again', 1), ('when it came time for her to talk she just could n t seem to get uncle aidan out', 'by the time she got back on track with her grades she had abandoned any hope of medical school', 0), ('yes you re getting to be such a big heavy boy', 'when they made it to the kitchen megan paused to catch her breath', 1)] [1, 1, 1, 0, 1]\n",
      "[('oomph she muttered as they started up the basement stairs', 'heawy', 1), ('you do n t have to worry', 'so who is the godfather again', 1), ('when it came time for her to talk she just could n t seem to get uncle aidan out', 'by the time she got back on track with her grades she had abandoned any hope of medical school', 0), ('yes you re getting to be such a big heavy boy', 'when they made it to the kitchen megan paused to catch her breath', 1), ('megan worked to get mason into the car seat in her parents land rover', 'once he was safely strapped and buckled in she hopped in beside him', 1)] [1, 1, 0, 1, 1]\n",
      "[('you do n t have to worry', 'so who is the godfather again', 1), ('when it came time for her to talk she just could n t seem to get uncle aidan out', 'by the time she got back on track with her grades she had abandoned any hope of medical school', 0), ('yes you re getting to be such a big heavy boy', 'when they made it to the kitchen megan paused to catch her breath', 1), ('megan worked to get mason into the car seat in her parents land rover', 'once he was safely strapped and buckled in she hopped in beside him', 1), ('megan shrugged', 'no i have n t', 1)] [1, 0, 1, 1, 1]\n",
      "[('when it came time for her to talk she just could n t seem to get uncle aidan out', 'by the time she got back on track with her grades she had abandoned any hope of medical school', 0), ('yes you re getting to be such a big heavy boy', 'when they made it to the kitchen megan paused to catch her breath', 1), ('megan worked to get mason into the car seat in her parents land rover', 'once he was safely strapped and buckled in she hopped in beside him', 1), ('megan shrugged', 'no i have n t', 1), ('megan worked to get mason into the car seat in her parents land rover', 'we have such a fun day ahead of us', 0)] [0, 1, 1, 1, 0]\n",
      "[('yes you re getting to be such a big heavy boy', 'when they made it to the kitchen megan paused to catch her breath', 1), ('megan worked to get mason into the car seat in her parents land rover', 'once he was safely strapped and buckled in she hopped in beside him', 1), ('megan shrugged', 'no i have n t', 1), ('megan worked to get mason into the car seat in her parents land rover', 'we have such a fun day ahead of us', 0), ('you mean you ve never met dr mcdreamy bollywood', 'megan shrugged', 1)] [1, 1, 1, 0, 1]\n",
      "[('megan worked to get mason into the car seat in her parents land rover', 'once he was safely strapped and buckled in she hopped in beside him', 1), ('megan shrugged', 'no i have n t', 1), ('megan worked to get mason into the car seat in her parents land rover', 'we have such a fun day ahead of us', 0), ('you mean you ve never met dr mcdreamy bollywood', 'megan shrugged', 1), ('she winked at megan', 'first off he is seriously delectable', 1)] [1, 1, 0, 1, 1]\n",
      "[('megan shrugged', 'no i have n t', 1), ('megan worked to get mason into the car seat in her parents land rover', 'we have such a fun day ahead of us', 0), ('you mean you ve never met dr mcdreamy bollywood', 'megan shrugged', 1), ('she winked at megan', 'first off he is seriously delectable', 1), ('that too megan agreed', 'thinking about her position she cocked her head at casey', 1)] [1, 0, 1, 1, 1]\n",
      "[('megan worked to get mason into the car seat in her parents land rover', 'we have such a fun day ahead of us', 0), ('you mean you ve never met dr mcdreamy bollywood', 'megan shrugged', 1), ('she winked at megan', 'first off he is seriously delectable', 1), ('that too megan agreed', 'thinking about her position she cocked her head at casey', 1), ('mmm hmm', 'he reminds me of that bollywood actor john abraham casey said', 1)] [0, 1, 1, 1, 1]\n",
      "[('you mean you ve never met dr mcdreamy bollywood', 'megan shrugged', 1), ('she winked at megan', 'first off he is seriously delectable', 1), ('that too megan agreed', 'thinking about her position she cocked her head at casey', 1), ('mmm hmm', 'he reminds me of that bollywood actor john abraham casey said', 1), ('she d always loved how the dress made her feel sexy but at the same time was very respectable', 'while it boasted a sweetheart neckline the hemline fell just below her knees', 1)] [1, 1, 1, 1, 1]\n",
      "[('she winked at megan', 'first off he is seriously delectable', 1), ('that too megan agreed', 'thinking about her position she cocked her head at casey', 1), ('mmm hmm', 'he reminds me of that bollywood actor john abraham casey said', 1), ('she d always loved how the dress made her feel sexy but at the same time was very respectable', 'while it boasted a sweetheart neckline the hemline fell just below her knees', 1), ('he d seen the movie almost by mistake considering he was a little young for the pg cartoon but with older cousins along with her brothers mason was often exposed to things that were older', 'she liked to think being surrounded by adults and older kids was one reason why he was a such a good talker for his age', 1)] [1, 1, 1, 1, 1]\n",
      "[('that too megan agreed', 'thinking about her position she cocked her head at casey', 1), ('mmm hmm', 'he reminds me of that bollywood actor john abraham casey said', 1), ('she d always loved how the dress made her feel sexy but at the same time was very respectable', 'while it boasted a sweetheart neckline the hemline fell just below her knees', 1), ('he d seen the movie almost by mistake considering he was a little young for the pg cartoon but with older cousins along with her brothers mason was often exposed to things that were older', 'she liked to think being surrounded by adults and older kids was one reason why he was a such a good talker for his age', 1), ('he grinned and then happily dodged her mother s arms for her father s instead which made megan smile', 'she only had a second before her mother breezed in with sean and her youngest brother gavin', 0)] [1, 1, 1, 1, 0]\n",
      "[('mmm hmm', 'he reminds me of that bollywood actor john abraham casey said', 1), ('she d always loved how the dress made her feel sexy but at the same time was very respectable', 'while it boasted a sweetheart neckline the hemline fell just below her knees', 1), ('he d seen the movie almost by mistake considering he was a little young for the pg cartoon but with older cousins along with her brothers mason was often exposed to things that were older', 'she liked to think being surrounded by adults and older kids was one reason why he was a such a good talker for his age', 1), ('he grinned and then happily dodged her mother s arms for her father s instead which made megan smile', 'she only had a second before her mother breezed in with sean and her youngest brother gavin', 0), ('wrestling around to get the zipper all the way up caused her to huff and puff', 'when they made it to the kitchen megan paused to catch her breath', 0)] [1, 1, 1, 0, 0]\n",
      "[('she d always loved how the dress made her feel sexy but at the same time was very respectable', 'while it boasted a sweetheart neckline the hemline fell just below her knees', 1), ('he d seen the movie almost by mistake considering he was a little young for the pg cartoon but with older cousins along with her brothers mason was often exposed to things that were older', 'she liked to think being surrounded by adults and older kids was one reason why he was a such a good talker for his age', 1), ('he grinned and then happily dodged her mother s arms for her father s instead which made megan smile', 'she only had a second before her mother breezed in with sean and her youngest brother gavin', 0), ('wrestling around to get the zipper all the way up caused her to huff and puff', 'when they made it to the kitchen megan paused to catch her breath', 0), ('her mother s voice brought megan out of her thoughts', 'she put on her pearls a high school graduation gift from her uncle aidan or ankle as she often called him', 0)] [1, 1, 0, 0, 0]\n",
      "[('he d seen the movie almost by mistake considering he was a little young for the pg cartoon but with older cousins along with her brothers mason was often exposed to things that were older', 'she liked to think being surrounded by adults and older kids was one reason why he was a such a good talker for his age', 1), ('he grinned and then happily dodged her mother s arms for her father s instead which made megan smile', 'she only had a second before her mother breezed in with sean and her youngest brother gavin', 0), ('wrestling around to get the zipper all the way up caused her to huff and puff', 'when they made it to the kitchen megan paused to catch her breath', 0), ('her mother s voice brought megan out of her thoughts', 'she put on her pearls a high school graduation gift from her uncle aidan or ankle as she often called him', 0), ('it was a nickname that had stuck with him even now that he was thirty four and married', 'while it had been no question that she wanted him as godfather for mason she had been extremely honored when he and his wife emma had asked her to be their son noah s godmother', 1)] [1, 0, 0, 0, 1]\n",
      "[('he grinned and then happily dodged her mother s arms for her father s instead which made megan smile', 'she only had a second before her mother breezed in with sean and her youngest brother gavin', 0), ('wrestling around to get the zipper all the way up caused her to huff and puff', 'when they made it to the kitchen megan paused to catch her breath', 0), ('her mother s voice brought megan out of her thoughts', 'she put on her pearls a high school graduation gift from her uncle aidan or ankle as she often called him', 0), ('it was a nickname that had stuck with him even now that he was thirty four and married', 'while it had been no question that she wanted him as godfather for mason she had been extremely honored when he and his wife emma had asked her to be their son noah s godmother', 1), ('instead she decided that she would become a nurse which would fulfill her need to care for sick people', 'of course her relationship with davis ended up derailing shortly before graduation when she got pregnant unexpectedly', 1)] [0, 0, 0, 1, 1]\n",
      "[('wrestling around to get the zipper all the way up caused her to huff and puff', 'when they made it to the kitchen megan paused to catch her breath', 0), ('her mother s voice brought megan out of her thoughts', 'she put on her pearls a high school graduation gift from her uncle aidan or ankle as she often called him', 0), ('it was a nickname that had stuck with him even now that he was thirty four and married', 'while it had been no question that she wanted him as godfather for mason she had been extremely honored when he and his wife emma had asked her to be their son noah s godmother', 1), ('instead she decided that she would become a nurse which would fulfill her need to care for sick people', 'of course her relationship with davis ended up derailing shortly before graduation when she got pregnant unexpectedly', 1), ('when she was with him she had little time for studying', 'oomph she muttered as they started up the basement stairs', 0)] [0, 0, 1, 1, 0]\n",
      "[('her mother s voice brought megan out of her thoughts', 'she put on her pearls a high school graduation gift from her uncle aidan or ankle as she often called him', 0), ('it was a nickname that had stuck with him even now that he was thirty four and married', 'while it had been no question that she wanted him as godfather for mason she had been extremely honored when he and his wife emma had asked her to be their son noah s godmother', 1), ('instead she decided that she would become a nurse which would fulfill her need to care for sick people', 'of course her relationship with davis ended up derailing shortly before graduation when she got pregnant unexpectedly', 1), ('when she was with him she had little time for studying', 'oomph she muttered as they started up the basement stairs', 0), ('where megan was a diminutive number number davis was number number and two hundred pounds', 'mason was already registering off the charts in height and weight according to his pediatrician', 1)] [0, 1, 1, 0, 1]\n",
      "[('it was a nickname that had stuck with him even now that he was thirty four and married', 'while it had been no question that she wanted him as godfather for mason she had been extremely honored when he and his wife emma had asked her to be their son noah s godmother', 1), ('instead she decided that she would become a nurse which would fulfill her need to care for sick people', 'of course her relationship with davis ended up derailing shortly before graduation when she got pregnant unexpectedly', 1), ('when she was with him she had little time for studying', 'oomph she muttered as they started up the basement stairs', 0), ('where megan was a diminutive number number davis was number number and two hundred pounds', 'mason was already registering off the charts in height and weight according to his pediatrician', 1), ('leaning forward in her seat megan eyed the clock on the dashboard', 'as the first grandchild megan spent a lot of time with her grandparents and that in turn meant she spent a lot of time with aidan', 0)] [1, 1, 0, 1, 0]\n",
      "[('instead she decided that she would become a nurse which would fulfill her need to care for sick people', 'of course her relationship with davis ended up derailing shortly before graduation when she got pregnant unexpectedly', 1), ('when she was with him she had little time for studying', 'oomph she muttered as they started up the basement stairs', 0), ('where megan was a diminutive number number davis was number number and two hundred pounds', 'mason was already registering off the charts in height and weight according to his pediatrician', 1), ('leaning forward in her seat megan eyed the clock on the dashboard', 'as the first grandchild megan spent a lot of time with her grandparents and that in turn meant she spent a lot of time with aidan', 0), ('pesh needs a relationship not a hook up after all he s been through', 'besides his wife s death he has n t had it easy on the dating front', 1)] [1, 0, 1, 0, 1]\n"
     ]
    }
   ],
   "source": [
    "for a,b in select_pair_from_origin(bookcorpus[:200]['text'], deepcopy(index_all_mixed), 5):\n",
    "    print(a,b)"
   ]
  },
  {
   "cell_type": "code",
   "execution_count": null,
   "id": "b669e784-91c8-4728-b6ea-d9efacd376bd",
   "metadata": {},
   "outputs": [],
   "source": []
  }
 ],
 "metadata": {
  "kernelspec": {
   "display_name": "Python 3",
   "language": "python",
   "name": "python3"
  },
  "language_info": {
   "codemirror_mode": {
    "name": "ipython",
    "version": 3
   },
   "file_extension": ".py",
   "mimetype": "text/x-python",
   "name": "python",
   "nbconvert_exporter": "python",
   "pygments_lexer": "ipython3",
   "version": "3.8.8"
  }
 },
 "nbformat": 4,
 "nbformat_minor": 5
}
