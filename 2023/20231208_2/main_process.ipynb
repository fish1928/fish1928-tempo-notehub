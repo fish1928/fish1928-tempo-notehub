{
 "cells": [
  {
   "cell_type": "code",
   "execution_count": 4,
   "id": "2df452af-3747-4f3d-be89-70b1f8b2a1de",
   "metadata": {},
   "outputs": [],
   "source": [
    "import os\n",
    "from main_process import process_entitys, main"
   ]
  },
  {
   "cell_type": "code",
   "execution_count": 12,
   "id": "88de6bf4-0fe0-4603-9651-eff0c458e129",
   "metadata": {},
   "outputs": [],
   "source": [
    "name_folder = 'dataset'\n",
    "filenames = [n for n in os.listdir(name_folder) if n[0] != '.' and n[-1] == '1']"
   ]
  },
  {
   "cell_type": "code",
   "execution_count": 6,
   "id": "a7c9cd40-3b10-4918-84c0-0d01933c7633",
   "metadata": {},
   "outputs": [],
   "source": [
    "# for filename in filenames:\n",
    "#     path_file_origin = os.path.join(name_folder, filename)\n",
    "#     path_file_target = os.path.join(name_folder, f'{filename}.1')\n",
    "#     main(path_file_origin, path_file_target)\n",
    "# # end"
   ]
  },
  {
   "cell_type": "code",
   "execution_count": 7,
   "id": "4ba2f903-6c8d-4f83-96b4-73a8ccfa209a",
   "metadata": {},
   "outputs": [
    {
     "data": {
      "application/vnd.jupyter.widget-view+json": {
       "model_id": "b26962848a7f4a1f9265cd931159ae50",
       "version_major": 2,
       "version_minor": 0
      },
      "text/plain": [
       "(…)f3d3c277d6e90027e55de9125/.gitattributes:   0%|          | 0.00/1.18k [00:00<?, ?B/s]"
      ]
     },
     "metadata": {},
     "output_type": "display_data"
    },
    {
     "data": {
      "application/vnd.jupyter.widget-view+json": {
       "model_id": "dc20cc5e7f0d47c9b6b2d28ad81731f8",
       "version_major": 2,
       "version_minor": 0
      },
      "text/plain": [
       "(…)7d6e90027e55de9125/1_Pooling/config.json:   0%|          | 0.00/190 [00:00<?, ?B/s]"
      ]
     },
     "metadata": {},
     "output_type": "display_data"
    },
    {
     "data": {
      "application/vnd.jupyter.widget-view+json": {
       "model_id": "de7732161e1c4db58a1351d4b365f8b9",
       "version_major": 2,
       "version_minor": 0
      },
      "text/plain": [
       "(…)e2f80f3d3c277d6e90027e55de9125/README.md:   0%|          | 0.00/10.6k [00:00<?, ?B/s]"
      ]
     },
     "metadata": {},
     "output_type": "display_data"
    },
    {
     "data": {
      "application/vnd.jupyter.widget-view+json": {
       "model_id": "3a3f5418ed274512a1e8f1ecebb57702",
       "version_major": 2,
       "version_minor": 0
      },
      "text/plain": [
       "(…)f80f3d3c277d6e90027e55de9125/config.json:   0%|          | 0.00/612 [00:00<?, ?B/s]"
      ]
     },
     "metadata": {},
     "output_type": "display_data"
    },
    {
     "data": {
      "application/vnd.jupyter.widget-view+json": {
       "model_id": "8a3b0414cac2461a8efa08c3164c53eb",
       "version_major": 2,
       "version_minor": 0
      },
      "text/plain": [
       "(…)de9125/config_sentence_transformers.json:   0%|          | 0.00/116 [00:00<?, ?B/s]"
      ]
     },
     "metadata": {},
     "output_type": "display_data"
    },
    {
     "data": {
      "application/vnd.jupyter.widget-view+json": {
       "model_id": "cba5cc1dc6194cc98b77bf2914f4de8c",
       "version_major": 2,
       "version_minor": 0
      },
      "text/plain": [
       "(…)d3c277d6e90027e55de9125/data_config.json:   0%|          | 0.00/39.3k [00:00<?, ?B/s]"
      ]
     },
     "metadata": {},
     "output_type": "display_data"
    },
    {
     "data": {
      "application/vnd.jupyter.widget-view+json": {
       "model_id": "004f3dc6d2944391a3b90d9bc213d0eb",
       "version_major": 2,
       "version_minor": 0
      },
      "text/plain": [
       "pytorch_model.bin:   0%|          | 0.00/90.9M [00:00<?, ?B/s]"
      ]
     },
     "metadata": {},
     "output_type": "display_data"
    },
    {
     "data": {
      "application/vnd.jupyter.widget-view+json": {
       "model_id": "6f04754b3dca422d808ec96b40c802a4",
       "version_major": 2,
       "version_minor": 0
      },
      "text/plain": [
       "(…)90027e55de9125/sentence_bert_config.json:   0%|          | 0.00/53.0 [00:00<?, ?B/s]"
      ]
     },
     "metadata": {},
     "output_type": "display_data"
    },
    {
     "data": {
      "application/vnd.jupyter.widget-view+json": {
       "model_id": "a331f539757340e6ad76e418e11b2b61",
       "version_major": 2,
       "version_minor": 0
      },
      "text/plain": [
       "(…)6e90027e55de9125/special_tokens_map.json:   0%|          | 0.00/112 [00:00<?, ?B/s]"
      ]
     },
     "metadata": {},
     "output_type": "display_data"
    },
    {
     "data": {
      "application/vnd.jupyter.widget-view+json": {
       "model_id": "04df82575c1948ebb0168ad4fb555e01",
       "version_major": 2,
       "version_minor": 0
      },
      "text/plain": [
       "(…)f3d3c277d6e90027e55de9125/tokenizer.json:   0%|          | 0.00/466k [00:00<?, ?B/s]"
      ]
     },
     "metadata": {},
     "output_type": "display_data"
    },
    {
     "data": {
      "application/vnd.jupyter.widget-view+json": {
       "model_id": "26a6b8fb183042229c92249fa8005884",
       "version_major": 2,
       "version_minor": 0
      },
      "text/plain": [
       "(…)7d6e90027e55de9125/tokenizer_config.json:   0%|          | 0.00/350 [00:00<?, ?B/s]"
      ]
     },
     "metadata": {},
     "output_type": "display_data"
    },
    {
     "data": {
      "application/vnd.jupyter.widget-view+json": {
       "model_id": "a8b3cc0b1bbe4e4693486463b1db2364",
       "version_major": 2,
       "version_minor": 0
      },
      "text/plain": [
       "(…)3d3c277d6e90027e55de9125/train_script.py:   0%|          | 0.00/13.2k [00:00<?, ?B/s]"
      ]
     },
     "metadata": {},
     "output_type": "display_data"
    },
    {
     "data": {
      "application/vnd.jupyter.widget-view+json": {
       "model_id": "8c193926ed7b4aadbaa52170fc15e0f0",
       "version_major": 2,
       "version_minor": 0
      },
      "text/plain": [
       "(…)e2f80f3d3c277d6e90027e55de9125/vocab.txt:   0%|          | 0.00/232k [00:00<?, ?B/s]"
      ]
     },
     "metadata": {},
     "output_type": "display_data"
    },
    {
     "data": {
      "application/vnd.jupyter.widget-view+json": {
       "model_id": "01bd2809a3e04c06837605afe272315d",
       "version_major": 2,
       "version_minor": 0
      },
      "text/plain": [
       "(…)80f3d3c277d6e90027e55de9125/modules.json:   0%|          | 0.00/349 [00:00<?, ?B/s]"
      ]
     },
     "metadata": {},
     "output_type": "display_data"
    }
   ],
   "source": [
    "from sentence_transformers import SentenceTransformer\n",
    "model = SentenceTransformer('all-MiniLM-L6-v2')"
   ]
  },
  {
   "cell_type": "code",
   "execution_count": 44,
   "id": "642e8706-d916-454c-b3f5-ffae307d48be",
   "metadata": {},
   "outputs": [],
   "source": [
    "from scipy import spatial\n",
    "import numpy as np\n",
    "\n",
    "def details_cosine_distance(e1, e2):\n",
    "    return spatial.distance.cosine(e1, e2)\n",
    "# end"
   ]
  },
  {
   "cell_type": "code",
   "execution_count": 36,
   "id": "861e01e0-e658-457d-9d96-abc841ea0795",
   "metadata": {},
   "outputs": [],
   "source": [
    "def print_nxn(model, sentences):\n",
    "    sims = np.zeros((len(sentences), len(sentences)))\n",
    "    \n",
    "    embeddings = model.encode(sentences)\n",
    "\n",
    "    for i1, s1 in enumerate(embeddings):\n",
    "        for i2, s2 in enumerate(embeddings):\n",
    "            # if i2<= i1:\n",
    "            #     continue\n",
    "            # # end\n",
    "            \n",
    "            sims[i1][i2] = details_cosine_distance(s1, s2)\n",
    "            # print('[{}]x[{}]: {}'.format(i1, i2, details_cosine_distance(s1, s2)))\n",
    "        # end\n",
    "    # end\n",
    "    \n",
    "    return sims\n",
    "# end"
   ]
  },
  {
   "cell_type": "code",
   "execution_count": 45,
   "id": "96defb81-b02c-4dbc-aa61-751e668d8c7e",
   "metadata": {},
   "outputs": [],
   "source": [
    "sentences = []\n",
    "\n",
    "for filename in filenames:\n",
    "    path_file = os.path.join(name_folder, filename)\n",
    "    with open(path_file, 'r') as file:\n",
    "        lines = file.read().splitlines()\n",
    "        sentence = ' '.join(lines)\n",
    "        sentences.append((filename, sentence, len(sentence.split(' '))))\n",
    "    # end\n",
    "# end\n",
    "\n",
    "\n",
    "sentences.append(('jinyuj_added1','profile restore op main vc task validator number',1))\n",
    "sentences.append(('jinyuj_added2','virtual machine re configure com vmware vc runtime fault summary',1))\n"
   ]
  },
  {
   "cell_type": "code",
   "execution_count": 46,
   "id": "19710201-ddb4-4eff-988a-c34c6ae2e2b0",
   "metadata": {},
   "outputs": [],
   "source": [
    "sims = print_nxn(model, [s[1] for s in sentences])"
   ]
  },
  {
   "cell_type": "code",
   "execution_count": 47,
   "id": "aad04b45-118c-4942-bba3-83c0ce2a0657",
   "metadata": {},
   "outputs": [
    {
     "name": "stdout",
     "output_type": "stream",
     "text": [
      "[[0.         0.38519031 0.4646095  0.28105122 0.49873126 0.64298287]\n",
      " [0.38519031 0.         0.18395644 0.20471239 0.31718999 0.38301444]\n",
      " [0.4646095  0.18395644 0.         0.37048256 0.1928001  0.21185768]\n",
      " [0.28105122 0.20471239 0.37048256 0.         0.48025465 0.55855316]\n",
      " [0.49873126 0.31718999 0.1928001  0.48025465 0.         0.64309645]\n",
      " [0.64298287 0.38301444 0.21185768 0.55855316 0.64309645 0.        ]]\n"
     ]
    }
   ],
   "source": [
    "print(sims)"
   ]
  },
  {
   "cell_type": "code",
   "execution_count": 48,
   "id": "8d0ee4bd-dc55-4cde-aec0-64ddddf80ff4",
   "metadata": {},
   "outputs": [
    {
     "data": {
      "text/plain": [
       "[('3053311_error_log.txt.1',\n",
       "  'host failback op vm connected validator number vms are connected host failback op vm powered on validator number vms are powered on apply profile op vm connected validator number vms are connected apply profile op vm powered on validator number vms are powered on apply profile op profile applied validator verified all profile requests have been applied successfully apply profile op main vc task validator number virtual machine re configure com vmware vc runtime fault summary com vmware vc invalid state the operation is not allowed in the current state apply profile op vm connected validator number vms are connected apply profile op vm powered on validator number vms are powered on apply profile op data health validator number checks passed for data health vsan master backup failure op vm connected validator number vms are connected vsan master backup failure op vm powered on validator number vms are powered on vsan master backup failure op data health validator number checks passed for data health host failback op vm connected validator number vms are connected host failback op vm powered on validator number vms are powered on host failback op cluster health validator number checks passed for cluster health host failback op data health validator number checks passed for data health host failback op vm connected validator number vms are connected host failback op vm powered on validator number vms are powered on host failback op cluster health validator number checks passed for cluster health profile restore op general validator timestamp found un healthy data object after wait for re sync profile restore op main vc task validator number virtual machine re configure com vmware vc invalid state the operation is not allowed in the current state com vmware vc invalid vm configuration invalid virtual machine configuration check compliance apply profile op check compliance re sync completed op additional vm connected validator number vms are connected check compliance apply profile op check compliance re sync completed op additional vm powered on validator number vms are powered on check compliance apply profile op check compliance re sync completed op additional general validator number vms are compliant number non compliant number not applicable number unknown number out of date number na no profile or can not get it from vc check compliance apply profile op check compliance re sync completed op additional vm connected validator number vms are connected check compliance apply profile op check compliance re sync completed op additional vm powered on validator number vms are powered on delete profile op profile not exists validator number profile s deleted',\n",
       "  428),\n",
       " ('3055012_error_log.txt.1',\n",
       "  'apply profile op profile applied validator verified all profile requests have been applied successfully apply profile op main vc task validator number virtual machine re configure com vmware vc runtime fault summary apply profile op data health validator number checks passed for data health',\n",
       "  44),\n",
       " ('3056403_error_log.txt.1',\n",
       "  'profile restore op main vc task validator number virtual machine re configure com vmware vc runtime fault summary',\n",
       "  18),\n",
       " ('3053191_error_log.txt.1',\n",
       "  'prepare vms with data disk apply profile op profile applied validator verified all profile requests have been applied successfully prepare vms with data disk apply profile op general validator timestamp found un healthy data object after wait for re sync prepare vms with data disk apply profile op main vc task validator number virtual machine re configure com vmware vc invalid vm configuration invalid virtual machine configuration prepare vms with data disk apply profile op cluster health validator number checks passed for cluster health prepare vms with data disk check compliance power on v mop general validator timestamp found un healthy data object after wait for re sync prepare vms with data disk check compliance power on v mop general validator number vms are compliant number non compliant number not applicable number unknown number out of date number na no profile or can not get it from vc apply profile op profile applied validator verified all profile requests have been applied successfully apply profile op main vc task validator number virtual machine re configure com vmware vc invalid vm configuration invalid virtual machine configuration apply profile op profile applied validator verified all profile requests have been applied successfully apply profile op general validator timestamp found un healthy data object after wait for re sync apply profile op main vc task validator number virtual machine re configure com vmware vc invalid state the operation is not allowed in the current state com vmware vc invalid vm configuration invalid virtual machine configuration apply profile op host ha state validator number hosts have the correct ha state',\n",
       "  264),\n",
       " ('jinyuj_added1', 'profile restore op main vc task validator number', 1),\n",
       " ('jinyuj_added2',\n",
       "  'virtual machine re configure com vmware vc runtime fault summary',\n",
       "  1)]"
      ]
     },
     "execution_count": 48,
     "metadata": {},
     "output_type": "execute_result"
    }
   ],
   "source": [
    "sentences"
   ]
  }
 ],
 "metadata": {
  "kernelspec": {
   "display_name": "Python 3",
   "language": "python",
   "name": "python3"
  },
  "language_info": {
   "codemirror_mode": {
    "name": "ipython",
    "version": 3
   },
   "file_extension": ".py",
   "mimetype": "text/x-python",
   "name": "python",
   "nbconvert_exporter": "python",
   "pygments_lexer": "ipython3",
   "version": "3.8.8"
  }
 },
 "nbformat": 4,
 "nbformat_minor": 5
}
