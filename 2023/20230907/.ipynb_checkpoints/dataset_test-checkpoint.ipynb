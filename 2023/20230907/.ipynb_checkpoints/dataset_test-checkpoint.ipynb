{
 "cells": [
  {
   "cell_type": "code",
   "execution_count": 12,
   "id": "d048853a-ce08-4dea-9f54-2e2275ab118c",
   "metadata": {},
   "outputs": [],
   "source": [
    "import os\n",
    "from datasets import load_dataset"
   ]
  },
  {
   "cell_type": "code",
   "execution_count": 36,
   "id": "6b4acd86-d8ed-4f64-9971-f1904d2ae9da",
   "metadata": {},
   "outputs": [],
   "source": [
    "# num_worker = os.cpu_count()\n",
    "# dataset = load_dataset('dataset', data_files={'train': '202206171000_train.csv'}, split='train', num_proc=num_worker)\n",
    "# dataset = load_dataset('dataset', data_files={'train': '202206171000_test.csv', 'test': '202206171000_test.csv'},  num_proc=num_worker)\n",
    "\n",
    "# dataset = load_dataset('dataset', data_files={'train': '202206171000_test.csv', 'test': '202206171000_test.csv'}, split='train[:20%]' ,num_proc=num_worker)\n",
    "dataset = load_dataset('dataset', data_files={'train': '202206171000_test.csv', 'test': '202206171000_test.csv'}, split='train[20%:]')"
   ]
  },
  {
   "cell_type": "code",
   "execution_count": 39,
   "id": "7741fa7c-94d3-404e-9448-a4badc3a2adf",
   "metadata": {},
   "outputs": [
    {
     "data": {
      "text/plain": [
       "{'id': 1632,\n",
       " 'name': '5.txt',\n",
       " 'raw': \"2022-06-06 08:41:44,006 | Failed at Play [stat_balloon] ******************************\\n2022-06-06 08:41:44,006 | TASK [Skip testcase: stat_balloon, reason: Blocked] ********\\ntask path: /home/worker/workspace/Ansible_Windows_11_MAIN_PARAVIRTUAL_VMXNET3_EFI/ansible-vsphere-gos-validation/common/skip_test_case.yml:20\\nfatal: [localhost]: FAILED! => Test case 'stat_balloon' is blocked because VMware tools installed: False, running: False\",\n",
       " 'category': 'vmtools_not_installed',\n",
       " 'processed': 'timestamp failed at play stat balloon timestamp task skip test case stat balloon reason blocked task path home worker workspace ansible windows number main para virtual vmxnet number efi ansible vsphere gos validation common skip test case yml number fatal localhost failed test case stat balloon is blocked because vmware tools installed false running false',\n",
       " 'solution': 'deepdive',\n",
       " 'target': 'usererror',\n",
       " 'version': 202206171000}"
      ]
     },
     "execution_count": 39,
     "metadata": {},
     "output_type": "execute_result"
    }
   ],
   "source": [
    "dataset[0]"
   ]
  }
 ],
 "metadata": {
  "kernelspec": {
   "display_name": "Python 3 (ipykernel)",
   "language": "python",
   "name": "python3"
  },
  "language_info": {
   "codemirror_mode": {
    "name": "ipython",
    "version": 3
   },
   "file_extension": ".py",
   "mimetype": "text/x-python",
   "name": "python",
   "nbconvert_exporter": "python",
   "pygments_lexer": "ipython3",
   "version": "3.8.8"
  }
 },
 "nbformat": 4,
 "nbformat_minor": 5
}
