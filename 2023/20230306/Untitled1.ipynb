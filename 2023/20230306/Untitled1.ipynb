{
 "cells": [
  {
   "cell_type": "code",
   "execution_count": 1,
   "id": "f71a456a-bba0-4ed8-915a-f78e93bea48b",
   "metadata": {},
   "outputs": [],
   "source": [
    "import json\n",
    "import os\n",
    "\n",
    "\n",
    "from sentence_transformers import SentenceTransformer\n",
    "model = SentenceTransformer('all-MiniLM-L6-v2')"
   ]
  },
  {
   "cell_type": "code",
   "execution_count": 2,
   "id": "49a34152-adb3-497c-84e3-c9f78c747529",
   "metadata": {},
   "outputs": [],
   "source": [
    "with open('goscv_20230306_processed.json', 'r') as file:\n",
    "    dict_logid_detail = json.load(file)"
   ]
  },
  {
   "cell_type": "code",
   "execution_count": 3,
   "id": "546a81c1-5d5b-4670-835e-9a6084a4f964",
   "metadata": {},
   "outputs": [],
   "source": [
    "pairs_logid_detail = [(logid, detail) for logid, detail in dict_logid_detail.items()]"
   ]
  },
  {
   "cell_type": "code",
   "execution_count": 4,
   "id": "12057904-c7b3-4c2a-bffe-734c840a5a2d",
   "metadata": {},
   "outputs": [],
   "source": [
    "raws = [pair_logid_detail[1][0] for pair_logid_detail in pairs_logid_detail]\n",
    "processes = [pair_logid_detail[1][1] for pair_logid_detail in pairs_logid_detail]"
   ]
  },
  {
   "cell_type": "code",
   "execution_count": 5,
   "id": "a781e7be-515b-4c59-9b32-520d3d1f25dc",
   "metadata": {},
   "outputs": [],
   "source": [
    "es_raw = model.encode(raws)\n",
    "es_pro = model.encode(processes)"
   ]
  },
  {
   "cell_type": "code",
   "execution_count": 16,
   "id": "18bb55f0-0eb3-4592-89aa-bf2d93c27f1e",
   "metadata": {},
   "outputs": [],
   "source": [
    "dict_logid_es = {}"
   ]
  },
  {
   "cell_type": "code",
   "execution_count": 17,
   "id": "9f8ca286-d39a-4f37-a658-0e96c4617207",
   "metadata": {},
   "outputs": [],
   "source": [
    "for pair_logid_detail, e_raw, e_pro in zip(pairs_logid_detail, es_raw, es_pro):\n",
    "    logid = pair_logid_detail[0]\n",
    "    dict_logid_es[logid] = {\n",
    "        'e_raw': e_raw.tolist(),\n",
    "        'e_pro': e_pro.tolist(),\n",
    "        'raw': pair_logid_detail[1][0],\n",
    "        'pro': pair_logid_detail[1][1],\n",
    "    }\n",
    "\n",
    "# end"
   ]
  },
  {
   "cell_type": "code",
   "execution_count": 18,
   "id": "2f3d6af1-bcd1-4964-a604-71bb345f483e",
   "metadata": {},
   "outputs": [],
   "source": [
    "with open('goscv_20230306_processed_re_embedding.json', 'w+') as file:\n",
    "    file.write(json.dumps(dict_logid_es))"
   ]
  }
 ],
 "metadata": {
  "kernelspec": {
   "display_name": "Python 3",
   "language": "python",
   "name": "python3"
  },
  "language_info": {
   "codemirror_mode": {
    "name": "ipython",
    "version": 3
   },
   "file_extension": ".py",
   "mimetype": "text/x-python",
   "name": "python",
   "nbconvert_exporter": "python",
   "pygments_lexer": "ipython3",
   "version": "3.8.8"
  }
 },
 "nbformat": 4,
 "nbformat_minor": 5
}
