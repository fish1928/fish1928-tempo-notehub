{
 "cells": [
  {
   "cell_type": "code",
   "execution_count": 1,
   "id": "a9011a17-4879-467f-a4de-1734203fddab",
   "metadata": {},
   "outputs": [],
   "source": [
    "from sentence_transformers import SentenceTransformer\n",
    "model = SentenceTransformer('all-MiniLM-L6-v2')"
   ]
  },
  {
   "cell_type": "code",
   "execution_count": 7,
   "id": "a7bfdeb5-e190-47e6-8cb9-ac4fe66ca542",
   "metadata": {},
   "outputs": [],
   "source": [
    "from scipy import spatial\n",
    "def details_cosine_distance(e1, e2):\n",
    "    return spatial.distance.cosine(e1, e2)\n",
    "# end\n"
   ]
  },
  {
   "cell_type": "code",
   "execution_count": 8,
   "id": "d2125e24-b2d5-4861-99da-1025432e13ab",
   "metadata": {},
   "outputs": [],
   "source": [
    "\n",
    "sentences = [\n",
    "    'timestamp failed at play deploy vm efi para virtual vmxnet number timestamp task deploy vm efi para virtual vmxnet number check vmware tools is running and collects guest os full name successfully task path home worker workspace ansible cycle ubuntu number desktop iso ansible vsphere gos validation common vm wait guest full name yml number fatal localhost failed it s timed out for vmware tools collecting guest os full name in number seconds current vmware tools running status is guest tools not running and guest os full name is error message it s timed out for vmware tools collecting guest os full name in number seconds current vmware tools running status is guest tools not running and guest os full name is timestamp task deploy vm efi para virtual vmxnet number testing exit due to failure task path home worker workspace ansible cycle ubuntu number desktop iso ansible vsphere gos validation common test rescue yml number fatal localhost failed exit testing when exit testing when fail is set to true in test case deploy vm efi para virtual vmxnet number error message exit testing when exit testing when fail is set to true in test case deploy vm efi para virtual vmxnet number timestamp task deploy vm efi para virtual vmxnet number check vmware tools is running and collects guest os full name successfully task path home worker workspace ansible cycle ubuntu number desktop iso ansible vsphere gos validation common vm wait guest full name yml number fatal localhost failed it s timed out for vmware tools collecting guest os full name in number seconds current vmware tools running status is guest tools not running and guest os full name is error message it s timed out for vmware tools collecting guest os full name in number seconds current vmware tools running status is guest tools not running and guest os full name is',\n",
    "    'timestamp failed at play deploy vm efi para virtual vmxnet number timestamp task deploy vm efi para virtual vmxnet number check vmware tools is running and collects guest os full name successfully task path home worker workspace ansible regression ubuntu number desktop iso ansible vsphere gos validation common vm wait guest full name yml number fatal localhost failed it s timed out for vmware tools collecting guest os full name in number seconds current vmware tools running status is guest tools not running and guest os full name is error message it s timed out for vmware tools collecting guest os full name in number seconds current vmware tools running status is guest tools not running and guest os full name is timestamp task deploy vm efi para virtual vmxnet number testing exit due to failure task path home worker workspace ansible regression ubuntu number desktop iso ansible vsphere gos validation common test rescue yml number fatal localhost failed exit testing when exit testing when fail is set to true in test case deploy vm efi para virtual vmxnet number error message exit testing when exit testing when fail is set to true in test case deploy vm efi para virtual vmxnet number timestamp task deploy vm efi para virtual vmxnet number check vmware tools is running and collects guest os full name successfully task path home worker workspace ansible regression ubuntu number desktop iso ansible vsphere gos validation common vm wait guest full name yml number fatal localhost failed it s timed out for vmware tools collecting guest os full name in number seconds current vmware tools running status is guest tools not running and guest os full name is error message it s timed out for vmware tools collecting guest os full name in number seconds current vmware tools running status is guest tools not running and guest os full name is',\n",
    "    'timestamp failed at play deploy vm efi para virtual vmxnet number timestamp task deploy vm efi para virtual vmxnet number data store file operation task path home worker workspace ansible cycle ubuntu number desktop iso ansible vsphere gos validation common esxi check delete data store file yml number fatal localhost failed file os linux ubuntu number version id ubuntu version id desktop amd number i so is absent can not continue error message file os linux ubuntu number version id ubuntu version id desktop amd number i so is absent can not continue timestamp task deploy vm efi para virtual vmxnet number testing exit due to failure task path home worker workspace ansible cycle ubuntu number desktop iso ansible vsphere gos validation common test rescue yml number fatal localhost failed exit testing when exit testing when fail is set to true in test case deploy vm efi para virtual vmxnet number error message exit testing when exit testing when fail is set to true in test case deploy vm efi para virtual vmxnet number'\n",
    "]\n",
    "\n",
    "#Sentences are encoded by calling model.encode()\n",
    "embeddings = model.encode(sentences)"
   ]
  },
  {
   "cell_type": "code",
   "execution_count": 12,
   "id": "04876529-f47f-4620-859d-3ffe68728717",
   "metadata": {},
   "outputs": [
    {
     "data": {
      "text/plain": [
       "0.0024358034133911133"
      ]
     },
     "execution_count": 12,
     "metadata": {},
     "output_type": "execute_result"
    }
   ],
   "source": [
    "details_cosine_distance(embeddings[0], embeddings[1])"
   ]
  }
 ],
 "metadata": {
  "kernelspec": {
   "display_name": "Python 3",
   "language": "python",
   "name": "python3"
  },
  "language_info": {
   "codemirror_mode": {
    "name": "ipython",
    "version": 3
   },
   "file_extension": ".py",
   "mimetype": "text/x-python",
   "name": "python",
   "nbconvert_exporter": "python",
   "pygments_lexer": "ipython3",
   "version": "3.8.8"
  }
 },
 "nbformat": 4,
 "nbformat_minor": 5
}
