{
 "cells": [
  {
   "cell_type": "code",
   "execution_count": 3,
   "id": "c3a8ce35-7b46-4a63-9c6f-7b19465e573e",
   "metadata": {},
   "outputs": [],
   "source": [
    "import torch\n",
    "\n",
    "class LayerA(torch.nn.Module):\n",
    "    def __init__(self, dim_in, dim_out):\n",
    "        super(LayerA, self).__init__()\n",
    "        \n",
    "        self.encoder = torch.nn.Linear(dim_in, dim_out)\n",
    "        self.activation = torch.nn.ReLU()\n",
    "    # end\n",
    "    \n",
    "    def forward(self, sequence):\n",
    "        return self.activation(self.encoder(sequence))\n",
    "    # end\n",
    "# end\n",
    "\n",
    "class HeadA(torch.nn.Module):\n",
    "    def __init__(self, layer_encoder):\n",
    "        super(HeadA, self).__init__()\n",
    "\n",
    "        self.layer_encoder = layer_encoder\n",
    "        \n",
    "        dim_in = layer_encoder.encoder.out_features\n",
    "        dim_out = layer_encoder.encoder.in_features\n",
    "        self.decoder = torch.nn.Linear(dim_in, dim_out)\n",
    "    # end\n",
    "    \n",
    "    def forward(self, sequence):\n",
    "        return self.decoder(self.layer_encoder(sequence)).softmax(dim=-1)\n",
    "    # end\n",
    "# end\n",
    "\n",
    "\n",
    "class HeadB(torch.nn.Module):\n",
    "    def __init__(self, layer_encoder):\n",
    "        super(HeadA, self).__init__()\n",
    "\n",
    "        self.layer_encoder = layer_encoder\n",
    "        \n",
    "        dim_in = layer_encoder.encoder.out_features\n",
    "        dim_out = layer_encoder.encoder.in_features\n",
    "        self.decoder = torch.nn.Linear(dim_in, dim_out)\n",
    "    # end\n",
    "    \n",
    "    def forward(self, sequence):\n",
    "        return self.decoder(self.layer_encoder(sequence)).softmax(dim=-1)\n",
    "    # end\n",
    "# end"
   ]
  },
  {
   "cell_type": "code",
   "execution_count": 6,
   "id": "61fb4dcb-f270-4d3a-a68d-c6821bab4ae7",
   "metadata": {},
   "outputs": [],
   "source": [
    "layer_a = LayerA(2,3)"
   ]
  },
  {
   "cell_type": "code",
   "execution_count": 9,
   "id": "3c939fe9-aed7-462a-bb4a-fe28eab99045",
   "metadata": {},
   "outputs": [],
   "source": [
    "torch.save(layer_a.state_dict(), './layera.pt')"
   ]
  },
  {
   "cell_type": "code",
   "execution_count": 19,
   "id": "eca0a5f5-1d99-45ad-89fe-af7d3b085057",
   "metadata": {},
   "outputs": [],
   "source": [
    "torch.save(layer_a.state_dict(), './layera.pt')\n",
    "layer_b = LayerA(2,3)\n",
    "layer_b.load_state_dict(torch.load('./layera.pt'))\n",
    "head_a = HeadA(layer_b)"
   ]
  },
  {
   "cell_type": "code",
   "execution_count": 24,
   "id": "21de9bcd-22ec-4292-b707-c2d1f5d1cc25",
   "metadata": {},
   "outputs": [
    {
     "data": {
      "text/plain": [
       "OrderedDict([('encoder.weight',\n",
       "              tensor([[-0.6163,  0.6652],\n",
       "                      [ 0.5920,  0.5670],\n",
       "                      [-0.3521,  0.4188]])),\n",
       "             ('encoder.bias', tensor([-0.5758, -0.2209,  0.1403]))])"
      ]
     },
     "execution_count": 24,
     "metadata": {},
     "output_type": "execute_result"
    }
   ],
   "source": [
    "torch.load('./layera.pt')"
   ]
  },
  {
   "cell_type": "code",
   "execution_count": 27,
   "id": "88e29593-4be1-41f7-8cd5-c512309d0b19",
   "metadata": {},
   "outputs": [],
   "source": [
    "from collections import OrderedDict\n",
    "\n",
    "def update_state_dict_prefix(prefix, dict_state):\n",
    "    dict_state_new = OrderedDict()\n",
    "    for k_old, v in dict_state.items():\n",
    "        dict_state_new[f'{prefix}.{k_old}'] = v\n",
    "    # end\n",
    "    \n",
    "    return dict_state_new\n",
    "# end"
   ]
  },
  {
   "cell_type": "code",
   "execution_count": null,
   "id": "29637f62-5faa-4ed7-99b4-e982c247c6c8",
   "metadata": {},
   "outputs": [
    {
     "data": {
      "text/plain": [
       "OrderedDict([('layer_encoder.encoder.weight',\n",
       "              tensor([[-0.6163,  0.6652],\n",
       "                      [ 0.5920,  0.5670],\n",
       "                      [-0.3521,  0.4188]])),\n",
       "             ('layer_encoder.encoder.bias',\n",
       "              tensor([-0.5758, -0.2209,  0.1403]))])"
      ]
     },
     "execution_count": 28,
     "metadata": {},
     "output_type": "execute_result"
    }
   ],
   "source": [
    "update_state_dict_prefix('layer_encoder', torch.load('./layera.pt'))\n"
   ]
  }
 ],
 "metadata": {
  "kernelspec": {
   "display_name": "Python 3",
   "language": "python",
   "name": "python3"
  },
  "language_info": {
   "codemirror_mode": {
    "name": "ipython",
    "version": 3
   },
   "file_extension": ".py",
   "mimetype": "text/x-python",
   "name": "python",
   "nbconvert_exporter": "python",
   "pygments_lexer": "ipython3",
   "version": "3.8.8"
  }
 },
 "nbformat": 4,
 "nbformat_minor": 5
}
