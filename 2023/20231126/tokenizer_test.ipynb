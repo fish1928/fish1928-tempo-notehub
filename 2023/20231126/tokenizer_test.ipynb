{
 "cells": [
  {
   "cell_type": "code",
   "execution_count": 1,
   "id": "2728669e-0a6f-47a8-8bf1-035918a5e176",
   "metadata": {},
   "outputs": [],
   "source": [
    "from transformers import AutoTokenizer, AutoModelForSequenceClassification\n",
    "tokenizer = AutoTokenizer.from_pretrained(\"bert-base-uncased\")"
   ]
  },
  {
   "cell_type": "code",
   "execution_count": 2,
   "id": "84b12646-7774-46b3-b529-1f3a0987f514",
   "metadata": {},
   "outputs": [
    {
     "data": {
      "text/plain": [
       "{'input_ids': [[7592, 1998], [2204, 2851], [2748, 2198]], 'token_type_ids': [[0, 0], [0, 0], [0, 0]], 'attention_mask': [[1, 1], [1, 1], [1, 1]]}"
      ]
     },
     "execution_count": 2,
     "metadata": {},
     "output_type": "execute_result"
    }
   ],
   "source": [
    "tokenizer.batch_encode_plus(['hello and','good morning','yes john'], add_special_tokens=False)"
   ]
  },
  {
   "cell_type": "code",
   "execution_count": 3,
   "id": "92f31d5c-68d3-4aa0-b94f-66fae23b311a",
   "metadata": {},
   "outputs": [
    {
     "data": {
      "text/plain": [
       "'instead,'"
      ]
     },
     "execution_count": 3,
     "metadata": {},
     "output_type": "execute_result"
    }
   ],
   "source": [
    "tokenizer.decode(tokenizer.encode_plus(\"instead,\", add_special_tokens=False)['input_ids'])"
   ]
  },
  {
   "cell_type": "code",
   "execution_count": 4,
   "id": "467f0749-f814-45dd-907f-aa1868954101",
   "metadata": {},
   "outputs": [
    {
     "data": {
      "text/plain": [
       "[2612, 1010]"
      ]
     },
     "execution_count": 4,
     "metadata": {},
     "output_type": "execute_result"
    }
   ],
   "source": [
    "tokenizer.encode_plus(\"instead,\", add_special_tokens=False)['input_ids']\n",
    "                                                            "
   ]
  },
  {
   "cell_type": "code",
   "execution_count": 5,
   "id": "87a30985-a964-49c8-888f-f03fcb021fbe",
   "metadata": {},
   "outputs": [],
   "source": [
    "line = '''Senjō no Valkyria 3 : <unk> Chronicles ( Japanese : 戦場のヴァルキュリア3 , lit . Valkyria of the Battlefield 3 ) , commonly referred to as Valkyria Chronicles III outside Japan , is a tactical role @-@ playing video game developed by Sega and Media.Vision for the PlayStation Portable . Released in January 2011 in Japan , it is the third game in the Valkyria series . Employing the same fusion of tactical and real @-@ time gameplay as its predecessors , the story runs parallel to the first game and follows the \" Nameless \" , a penal military unit serving the nation of Gallia during the Second Europan War who perform secret black operations and are pitted against the Imperial unit \" <unk> Raven \" .'''"
   ]
  },
  {
   "cell_type": "code",
   "execution_count": 6,
   "id": "ffe2fc0e-de65-4d10-8eec-c83d98648ab9",
   "metadata": {},
   "outputs": [
    {
     "data": {
      "text/plain": [
       "'senjo no valkyria 3 : < unk > chronicles ( japanese : 戦 場 のウァルキュリア3, lit. valkyria of the battlefield 3 ), commonly referred to as valkyria chronicles iii outside japan, is a tactical role @ - @ playing video game developed by sega and media. vision for the playstation portable. released in january 2011 in japan, it is the third game in the valkyria series. employing the same fusion of tactical and real @ - @ time gameplay as its predecessors, the story runs parallel to the first game and follows the \" nameless \", a penal military unit serving the nation of gallia during the second europan war who perform secret black operations and are pitted against the imperial unit \" < unk > raven \".'"
      ]
     },
     "execution_count": 6,
     "metadata": {},
     "output_type": "execute_result"
    }
   ],
   "source": [
    "tokenizer.decode(tokenizer.encode_plus(line, add_special_tokens=False)['input_ids'])"
   ]
  },
  {
   "cell_type": "code",
   "execution_count": 7,
   "id": "2d24a4a2-e603-4e51-9292-89633ad7cc7a",
   "metadata": {},
   "outputs": [
    {
     "data": {
      "text/plain": [
       "'senjo no valkyria 3 : < unk > chronicles ( japanese : 戦 場 のウァルキュリア3, lit. valkyria of the battlefield 3 ), commonly referred to as valkyria chronicles iii outside japan, is a tactical role @ - @ playing video game developed by sega and media. vision for the playstation portable. released in january 2011 in japan, it is the third game in the valkyria series. employing the same fusion of tactical and real @ - @ time gameplay as its predecessors, the story runs parallel to the first game and follows the \" nameless \", a penal military unit serving the nation of gallia during the second europan war who perform secret black operations and are pitted against the imperial unit \" < unk > raven \".'"
      ]
     },
     "execution_count": 7,
     "metadata": {},
     "output_type": "execute_result"
    }
   ],
   "source": [
    "tokenizer.decode(tokenizer.encode_plus(line, add_special_tokens=False)['input_ids'])"
   ]
  },
  {
   "cell_type": "code",
   "execution_count": 8,
   "id": "0d39e916-7c1d-4c7b-a7a6-35ebb136dc7d",
   "metadata": {},
   "outputs": [
    {
     "data": {
      "text/plain": [
       "['戦',\n",
       " '場',\n",
       " 'の',\n",
       " '##ウ',\n",
       " '##ァ',\n",
       " '##ル',\n",
       " '##キ',\n",
       " '##ュ',\n",
       " '##リ',\n",
       " '##ア',\n",
       " '##3',\n",
       " ',',\n",
       " 'lit',\n",
       " '.',\n",
       " 'val',\n",
       " '##ky',\n",
       " '##ria',\n",
       " 'of',\n",
       " 'the',\n",
       " 'battlefield',\n",
       " '3']"
      ]
     },
     "execution_count": 8,
     "metadata": {},
     "output_type": "execute_result"
    }
   ],
   "source": [
    "tokenizer.batch_decode([i for i in tokenizer.encode_plus('戦 場 のウァルキュリア3, lit. valkyria of the battlefield 3', add_special_tokens=False)['input_ids']])"
   ]
  },
  {
   "cell_type": "code",
   "execution_count": 9,
   "id": "82d716e6-1155-4b08-a005-f50fa967a4d7",
   "metadata": {},
   "outputs": [
    {
     "data": {
      "text/plain": [
       "'starry _ eyed4sa'"
      ]
     },
     "execution_count": 9,
     "metadata": {},
     "output_type": "execute_result"
    }
   ],
   "source": [
    "tokenizer.decode(tokenizer.encode_plus('starry_eyed4sa', add_special_tokens=False)['input_ids'])"
   ]
  }
 ],
 "metadata": {
  "kernelspec": {
   "display_name": "Python 3",
   "language": "python",
   "name": "python3"
  },
  "language_info": {
   "codemirror_mode": {
    "name": "ipython",
    "version": 3
   },
   "file_extension": ".py",
   "mimetype": "text/x-python",
   "name": "python",
   "nbconvert_exporter": "python",
   "pygments_lexer": "ipython3",
   "version": "3.8.8"
  }
 },
 "nbformat": 4,
 "nbformat_minor": 5
}
