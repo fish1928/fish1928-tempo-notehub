{
 "cells": [
  {
   "cell_type": "code",
   "execution_count": 1,
   "id": "abd2d1bb-78ad-4604-ae97-c9f353bc9473",
   "metadata": {},
   "outputs": [],
   "source": [
    "import torch"
   ]
  },
  {
   "cell_type": "code",
   "execution_count": 2,
   "id": "c3288143-9ba6-42ef-aeae-4e584708294c",
   "metadata": {},
   "outputs": [],
   "source": [
    "gpu = 1\n",
    "torch.cuda.set_device(gpu)"
   ]
  },
  {
   "cell_type": "code",
   "execution_count": null,
   "id": "c76994b1-4640-41bc-bfbd-49bdebc3195d",
   "metadata": {},
   "outputs": [],
   "source": []
  }
 ],
 "metadata": {
  "kernelspec": {
   "display_name": "Python 3",
   "language": "python",
   "name": "python3"
  },
  "language_info": {
   "codemirror_mode": {
    "name": "ipython",
    "version": 3
   },
   "file_extension": ".py",
   "mimetype": "text/x-python",
   "name": "python",
   "nbconvert_exporter": "python",
   "pygments_lexer": "ipython3",
   "version": "3.8.8"
  }
 },
 "nbformat": 4,
 "nbformat_minor": 5
}
