{
 "cells": [
  {
   "cell_type": "code",
   "execution_count": 18,
   "id": "c3a8ce35-7b46-4a63-9c6f-7b19465e573e",
   "metadata": {},
   "outputs": [],
   "source": [
    "import torch\n",
    "\n",
    "class Encoder(torch.nn.Module):\n",
    "    def __init__(self, dim_in, dim_out):\n",
    "        super(Encoder, self).__init__()\n",
    "        \n",
    "        self.l = torch.nn.Linear(dim_in, dim_out, bias=False)\n",
    "        self.a = torch.nn.ReLU()\n",
    "    # end\n",
    "    \n",
    "    def forward(self, sequence):\n",
    "        return self.a(self.l(sequence))\n",
    "    # end\n",
    "# end\n",
    "\n",
    "class Decoder(torch.nn.Module):\n",
    "    def __init__(self, dim_in, dim_out, source):\n",
    "        super(Decoder, self).__init__()\n",
    "        \n",
    "        self.l = torch.nn.Linear(dim_in, dim_out, bias=False)\n",
    "        self.l.weight = torch.nn.Parameter(source.l.weight.t())\n",
    "        self.a = torch.nn.ReLU()\n",
    "        \n",
    "    # end\n",
    "    \n",
    "    def forward(self, sequence):\n",
    "        return self.a(self.l(sequence))\n",
    "    # end\n",
    "# end\n"
   ]
  },
  {
   "cell_type": "code",
   "execution_count": 19,
   "id": "61fb4dcb-f270-4d3a-a68d-c6821bab4ae7",
   "metadata": {},
   "outputs": [],
   "source": [
    "e = Encoder(2,3)\n",
    "d = Decoder(3,2,e)"
   ]
  },
  {
   "cell_type": "code",
   "execution_count": 52,
   "id": "3c939fe9-aed7-462a-bb4a-fe28eab99045",
   "metadata": {},
   "outputs": [],
   "source": [
    "seq = torch.Tensor([[8, 6]])"
   ]
  },
  {
   "cell_type": "code",
   "execution_count": 53,
   "id": "eca0a5f5-1d99-45ad-89fe-af7d3b085057",
   "metadata": {},
   "outputs": [],
   "source": [
    "func_loss = torch.nn.MSELoss()\n",
    "optimizer = torch.optim.Adam(e.parameters(), lr=1e-4, betas=(0.9, 0.999), eps=1e-08, weight_decay=0.01, amsgrad=False)"
   ]
  },
  {
   "cell_type": "code",
   "execution_count": 58,
   "id": "f1ba387e-1b92-4526-81f3-91de7ab37d56",
   "metadata": {},
   "outputs": [
    {
     "data": {
      "text/plain": [
       "tensor([[0., 0., 0.]], grad_fn=<ReluBackward0>)"
      ]
     },
     "execution_count": 58,
     "metadata": {},
     "output_type": "execute_result"
    }
   ],
   "source": [
    "e(seq)"
   ]
  },
  {
   "cell_type": "code",
   "execution_count": 59,
   "id": "3fbb3ee4-855f-45f3-a794-667f5f843f22",
   "metadata": {},
   "outputs": [
    {
     "name": "stdout",
     "output_type": "stream",
     "text": [
      "tensor(3.6667, grad_fn=<MseLossBackward0>)\n"
     ]
    }
   ],
   "source": [
    "loss = func_loss(e(seq), torch.Tensor([1,3,1]))\n",
    "print(loss)\n",
    "loss.backward()\n",
    "optimizer.step()\n"
   ]
  },
  {
   "cell_type": "code",
   "execution_count": 60,
   "id": "f884b7b1-3e19-4585-a278-117e678249f6",
   "metadata": {},
   "outputs": [
    {
     "data": {
      "text/plain": [
       "OrderedDict([('l.weight',\n",
       "              tensor([[ 0.0926, -0.1739],\n",
       "                      [-0.4285, -0.5430],\n",
       "                      [-0.1478, -0.4638]]))])"
      ]
     },
     "execution_count": 60,
     "metadata": {},
     "output_type": "execute_result"
    }
   ],
   "source": [
    "e.state_dict()"
   ]
  },
  {
   "cell_type": "code",
   "execution_count": 62,
   "id": "6302130f-9ad5-442f-aedf-e2db13879f51",
   "metadata": {},
   "outputs": [
    {
     "data": {
      "text/plain": [
       "OrderedDict([('l.weight',\n",
       "              tensor([[ 0.0926, -0.4285, -0.1478],\n",
       "                      [-0.1739, -0.5430, -0.4638]]))])"
      ]
     },
     "execution_count": 62,
     "metadata": {},
     "output_type": "execute_result"
    }
   ],
   "source": [
    "d.state_dict()"
   ]
  },
  {
   "cell_type": "code",
   "execution_count": 63,
   "id": "92c8cb27-5ffb-4ca7-a023-0a3cc0fd4121",
   "metadata": {},
   "outputs": [],
   "source": [
    "torch.save(e.state_dict(), './e.pt')\n",
    "torch.save(d.state_dict(), './d.pt')"
   ]
  },
  {
   "cell_type": "code",
   "execution_count": 64,
   "id": "2687a520-70d2-4b4e-b280-796a89ebd9bb",
   "metadata": {},
   "outputs": [],
   "source": [
    "e2 = Encoder(2,3)\n",
    "e2.load_state_dict(torch.load('./e.pt'))"
   ]
  },
  {
   "cell_type": "code",
   "execution_count": 69,
   "id": "89eb196a-e45e-45ae-aff7-fbe5fe38d72f",
   "metadata": {},
   "outputs": [
    {
     "data": {
      "text/plain": [
       "OrderedDict([('l.weight',\n",
       "              tensor([[ 0.0926, -0.1739],\n",
       "                      [-0.4285, -0.5430],\n",
       "                      [-0.1478, -0.4638]]))])"
      ]
     },
     "execution_count": 69,
     "metadata": {},
     "output_type": "execute_result"
    }
   ],
   "source": [
    "e2.state_dict()"
   ]
  },
  {
   "cell_type": "code",
   "execution_count": 68,
   "id": "117845e7-13ce-4749-a3a4-7f6a6d34d058",
   "metadata": {},
   "outputs": [],
   "source": [
    "d2 = Decoder(3,2,e2)\n",
    "d2.load_state_dict(torch.load('./d.pt'))"
   ]
  },
  {
   "cell_type": "code",
   "execution_count": 80,
   "id": "bbbfec45-18de-4e45-8666-4c26443cc993",
   "metadata": {},
   "outputs": [],
   "source": [
    "optimizer = torch.optim.Adam(e2.parameters(), lr=1e-4, betas=(0.9, 0.999), eps=1e-08, weight_decay=0.01, amsgrad=False)"
   ]
  },
  {
   "cell_type": "code",
   "execution_count": 92,
   "id": "0e7a54ec-d06c-4c71-ad77-d8b51d5ae131",
   "metadata": {},
   "outputs": [
    {
     "name": "stdout",
     "output_type": "stream",
     "text": [
      "tensor(3.6667, grad_fn=<MseLossBackward0>)\n"
     ]
    }
   ],
   "source": [
    "loss = func_loss(e2(seq), torch.Tensor([1,3,1]))\n",
    "print(loss)\n",
    "loss.backward()\n",
    "optimizer.step()"
   ]
  },
  {
   "cell_type": "code",
   "execution_count": 93,
   "id": "1366c6d6-771d-4691-94cf-44bba927b65f",
   "metadata": {},
   "outputs": [
    {
     "data": {
      "text/plain": [
       "OrderedDict([('l.weight',\n",
       "              tensor([[ 0.0919, -0.1732],\n",
       "                      [-0.4278, -0.5423],\n",
       "                      [-0.1471, -0.4631]]))])"
      ]
     },
     "execution_count": 93,
     "metadata": {},
     "output_type": "execute_result"
    }
   ],
   "source": [
    "e2.state_dict()"
   ]
  },
  {
   "cell_type": "code",
   "execution_count": 94,
   "id": "68a90cef-a8d6-4d58-9dce-510d91bb34cd",
   "metadata": {},
   "outputs": [
    {
     "data": {
      "text/plain": [
       "OrderedDict([('l.weight',\n",
       "              tensor([[ 0.0919, -0.4278, -0.1471],\n",
       "                      [-0.1732, -0.5423, -0.4631]]))])"
      ]
     },
     "execution_count": 94,
     "metadata": {},
     "output_type": "execute_result"
    }
   ],
   "source": [
    "d2.state_dict()"
   ]
  }
 ],
 "metadata": {
  "kernelspec": {
   "display_name": "Python 3",
   "language": "python",
   "name": "python3"
  },
  "language_info": {
   "codemirror_mode": {
    "name": "ipython",
    "version": 3
   },
   "file_extension": ".py",
   "mimetype": "text/x-python",
   "name": "python",
   "nbconvert_exporter": "python",
   "pygments_lexer": "ipython3",
   "version": "3.8.8"
  }
 },
 "nbformat": 4,
 "nbformat_minor": 5
}
