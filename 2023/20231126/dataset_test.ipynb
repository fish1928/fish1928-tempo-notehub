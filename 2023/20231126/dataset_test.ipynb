{
 "cells": [
  {
   "cell_type": "code",
   "execution_count": 1,
   "id": "8c81cf9c-03a9-416c-a9a4-80e71224095d",
   "metadata": {},
   "outputs": [],
   "source": [
    "import datasets"
   ]
  },
  {
   "cell_type": "code",
   "execution_count": 2,
   "id": "228bfdbd-725d-439f-936d-4a08cec05030",
   "metadata": {},
   "outputs": [],
   "source": [
    "bookcorpus = datasets.load_dataset('bookcorpus')"
   ]
  },
  {
   "cell_type": "code",
   "execution_count": 5,
   "id": "2d40a6ef-b05e-4f56-91f7-b306d81f9a97",
   "metadata": {},
   "outputs": [],
   "source": [
    "bookcorpus_50w = bookcorpus['train']['text'][:500000]"
   ]
  },
  {
   "cell_type": "code",
   "execution_count": 14,
   "id": "2cd664dc-f7dd-4622-97af-d1bef27ede9d",
   "metadata": {},
   "outputs": [
    {
     "name": "stdout",
     "output_type": "stream",
     "text": [
      "33671822\n"
     ]
    }
   ],
   "source": [
    "merged_50w = '\\n'.join(bookcorpus_50w)\n",
    "print(len(merged_50w))"
   ]
  },
  {
   "cell_type": "code",
   "execution_count": 47,
   "id": "6b45b137-bcc7-4705-84e3-37d8370a977b",
   "metadata": {},
   "outputs": [
    {
     "data": {
      "text/plain": [
       "False"
      ]
     },
     "execution_count": 47,
     "metadata": {},
     "output_type": "execute_result"
    }
   ],
   "source": [
    "'[]' in merged_50w"
   ]
  },
  {
   "cell_type": "code",
   "execution_count": 16,
   "id": "ec6fa2fc-f62e-4c3e-a045-a722e8c30783",
   "metadata": {},
   "outputs": [],
   "source": [
    "import re"
   ]
  },
  {
   "cell_type": "code",
   "execution_count": 50,
   "id": "0fd09c1f-a111-4140-9904-cb7038a47a88",
   "metadata": {},
   "outputs": [],
   "source": [
    "re.search(r'\\[.*?\\]', merged_50w)"
   ]
  },
  {
   "cell_type": "code",
   "execution_count": 42,
   "id": "18765bbb-b3c3-45e4-8e4f-abc41cd06b7a",
   "metadata": {},
   "outputs": [
    {
     "data": {
      "text/plain": [
       "\"ouse and move in with my best friend , then glen and i 'll never be able to afford to get married .\\n: } btw , i did n't mean you had to order four cupcakes every week , you goose !\""
      ]
     },
     "execution_count": 42,
     "metadata": {},
     "output_type": "execute_result"
    }
   ],
   "source": [
    "merged_50w[33381578: 33381758]"
   ]
  }
 ],
 "metadata": {
  "kernelspec": {
   "display_name": "Python 3",
   "language": "python",
   "name": "python3"
  },
  "language_info": {
   "codemirror_mode": {
    "name": "ipython",
    "version": 3
   },
   "file_extension": ".py",
   "mimetype": "text/x-python",
   "name": "python",
   "nbconvert_exporter": "python",
   "pygments_lexer": "ipython3",
   "version": "3.8.8"
  }
 },
 "nbformat": 4,
 "nbformat_minor": 5
}
