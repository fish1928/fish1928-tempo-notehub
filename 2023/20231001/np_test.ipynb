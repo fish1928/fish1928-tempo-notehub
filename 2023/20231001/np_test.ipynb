{
 "cells": [
  {
   "cell_type": "code",
   "execution_count": 1,
   "id": "695d70c2-bc9a-46a2-8233-375d28988bdb",
   "metadata": {},
   "outputs": [],
   "source": [
    "import numpy as np"
   ]
  },
  {
   "cell_type": "code",
   "execution_count": 2,
   "id": "71ccc6d2-a9ae-4d58-b515-53d94a74ef23",
   "metadata": {},
   "outputs": [],
   "source": [
    "mu, sigma = 0, 0.1 # mean and standard deviation\n",
    "a1 = np.random.normal(mu, sigma, 120*258*30522)\n",
    "# a2 = np.random.normal(mu, sigma, 120*258*30522)"
   ]
  },
  {
   "cell_type": "code",
   "execution_count": 3,
   "id": "7adcae2a-8bd7-4eea-8d92-83a49030b987",
   "metadata": {},
   "outputs": [],
   "source": [
    "from sys import getsizeof"
   ]
  },
  {
   "cell_type": "code",
   "execution_count": 13,
   "id": "e26f5172-e782-4538-bbd1-b87d0b2e0fa8",
   "metadata": {},
   "outputs": [
    {
     "data": {
      "text/plain": [
       "119.296"
      ]
     },
     "execution_count": 13,
     "metadata": {},
     "output_type": "execute_result"
    }
   ],
   "source": [
    "0.233 * 512"
   ]
  },
  {
   "cell_type": "code",
   "execution_count": 8,
   "id": "cdadbfb0-0f94-4ff8-b72f-f08cc9b1f12d",
   "metadata": {},
   "outputs": [
    {
     "data": {
      "text/plain": [
       "numpy.ndarray"
      ]
     },
     "execution_count": 8,
     "metadata": {},
     "output_type": "execute_result"
    }
   ],
   "source": [
    "'''\n",
    "/opt/conda/lib/python3.8/site-packages/transformers/trainer_pt_utils.py\n",
    "np.concatenate(arr1, arr2), arr1 -> 7G, arr2 -> 7G -> OOM, kernel down\n",
    "'''"
   ]
  }
 ],
 "metadata": {
  "kernelspec": {
   "display_name": "Python 3",
   "language": "python",
   "name": "python3"
  },
  "language_info": {
   "codemirror_mode": {
    "name": "ipython",
    "version": 3
   },
   "file_extension": ".py",
   "mimetype": "text/x-python",
   "name": "python",
   "nbconvert_exporter": "python",
   "pygments_lexer": "ipython3",
   "version": "3.8.8"
  }
 },
 "nbformat": 4,
 "nbformat_minor": 5
}
