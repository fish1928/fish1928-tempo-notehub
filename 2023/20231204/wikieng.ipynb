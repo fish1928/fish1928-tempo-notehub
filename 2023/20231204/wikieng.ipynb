{
 "cells": [
  {
   "cell_type": "code",
   "execution_count": 1,
   "id": "8675713f-e272-4c67-a501-d0725502159e",
   "metadata": {},
   "outputs": [],
   "source": [
    "import datasets\n",
    "import json"
   ]
  },
  {
   "cell_type": "code",
   "execution_count": 2,
   "id": "06294cb8-02a9-44eb-ab83-862ccac57857",
   "metadata": {},
   "outputs": [
    {
     "data": {
      "text/plain": [
       "<code object load_dataset at 0x7f423f32f710, file \"/opt/conda/lib/python3.8/site-packages/datasets/load.py\", line 1869>"
      ]
     },
     "execution_count": 2,
     "metadata": {},
     "output_type": "execute_result"
    }
   ],
   "source": [
    "datasets.load_dataset.__code__"
   ]
  },
  {
   "cell_type": "code",
   "execution_count": 3,
   "id": "ab3f5d83-10bb-4352-a7d0-c1ca6e9ddd4a",
   "metadata": {},
   "outputs": [
    {
     "data": {
      "application/vnd.jupyter.widget-view+json": {
       "model_id": "5a11a0957f874fef9116a529888f81ab",
       "version_major": 2,
       "version_minor": 0
      },
      "text/plain": [
       "Resolving data files:   0%|          | 0/41 [00:00<?, ?it/s]"
      ]
     },
     "metadata": {},
     "output_type": "display_data"
    },
    {
     "data": {
      "application/vnd.jupyter.widget-view+json": {
       "model_id": "7e8809c360454ac79ee610f84b9348d3",
       "version_major": 2,
       "version_minor": 0
      },
      "text/plain": [
       "Downloading data files:   0%|          | 0/1 [00:00<?, ?it/s]"
      ]
     },
     "metadata": {},
     "output_type": "display_data"
    },
    {
     "data": {
      "application/vnd.jupyter.widget-view+json": {
       "model_id": "a4a129cfaa3d43da984b3b60415728d6",
       "version_major": 2,
       "version_minor": 0
      },
      "text/plain": [
       "Extracting data files:   0%|          | 0/1 [00:00<?, ?it/s]"
      ]
     },
     "metadata": {},
     "output_type": "display_data"
    },
    {
     "data": {
      "application/vnd.jupyter.widget-view+json": {
       "model_id": "2d158cdd0a4c48d2ba507360603eb7ef",
       "version_major": 2,
       "version_minor": 0
      },
      "text/plain": [
       "Generating train split: 0 examples [00:00, ? examples/s]"
      ]
     },
     "metadata": {},
     "output_type": "display_data"
    }
   ],
   "source": [
    "wikieng = datasets.load_dataset(\"wikipedia\", \"20220301.en\", split=\"train\", cache_dir='.')"
   ]
  },
  {
   "cell_type": "code",
   "execution_count": null,
   "id": "d04c3f4e-bdc2-4835-9f06-b37a6d4dd58a",
   "metadata": {},
   "outputs": [],
   "source": [
    "wikieng_2000 = wikieng['text'][:2000]"
   ]
  },
  {
   "cell_type": "code",
   "execution_count": null,
   "id": "e52b58ff-2384-4423-9942-6f3d268b35e2",
   "metadata": {},
   "outputs": [],
   "source": [
    "print('hello')"
   ]
  }
 ],
 "metadata": {
  "kernelspec": {
   "display_name": "Python 3",
   "language": "python",
   "name": "python3"
  },
  "language_info": {
   "codemirror_mode": {
    "name": "ipython",
    "version": 3
   },
   "file_extension": ".py",
   "mimetype": "text/x-python",
   "name": "python",
   "nbconvert_exporter": "python",
   "pygments_lexer": "ipython3",
   "version": "3.8.8"
  }
 },
 "nbformat": 4,
 "nbformat_minor": 5
}
