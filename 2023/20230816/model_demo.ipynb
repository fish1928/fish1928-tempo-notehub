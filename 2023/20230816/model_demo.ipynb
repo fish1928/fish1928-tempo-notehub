{
 "cells": [
  {
   "cell_type": "code",
   "execution_count": 2,
   "id": "217dc944-e1fb-4d03-a8f9-545d91e6e582",
   "metadata": {},
   "outputs": [],
   "source": [
    "import torch\n",
    "from transformers import DistilBertTokenizerFast, EarlyStoppingCallback\n",
    "from sklearn.metrics import accuracy_score, precision_score, recall_score, f1_score\n",
    "from transformers import Trainer, TrainingArguments\n",
    "from sklearn.metrics import accuracy_score, precision_score, recall_score, f1_score\n",
    "from datetime import datetime\n",
    "\n",
    "model_name = 'distilbert-base-uncased'\n",
    "max_length=512\n",
    "tokenizer = DistilBertTokenizerFast.from_pretrained(model_name, do_lower_case=True)"
   ]
  },
  {
   "cell_type": "code",
   "execution_count": 5,
   "id": "50d39598-2bfa-42e7-a283-03a8501192a9",
   "metadata": {},
   "outputs": [
    {
     "data": {
      "text/plain": [
       "{'input_ids': tensor([[  101,  2335, 15464,  2361,  3478,   103,  2377, 21296,   102]]), 'attention_mask': tensor([[1, 1, 1, 1, 1, 1, 1, 1, 1]])}"
      ]
     },
     "execution_count": 5,
     "metadata": {},
     "output_type": "execute_result"
    }
   ],
   "source": [
    "# train_samples = ['timestamp failed [MASK] play deploy']\n",
    "# tokenizer.batch_encode_plus(train_samples, truncation=True, padding=True, max_length=max_length,\n",
    "#                                               return_tensors='pt')\n"
   ]
  },
  {
   "cell_type": "code",
   "execution_count": 6,
   "id": "27078dd6-54cf-42ae-8d92-2040be50bd29",
   "metadata": {},
   "outputs": [],
   "source": [
    "# trains_encoded = [[101,  2335, 15464,  2361,  3478,   103,  2377, 21296,   102]]\n",
    "# tokenizer.batch_encode_plus(trains_encoded, truncation=True, padding=True, max_length=max_length,\n",
    "#                                               return_tensors='pt', is_pretokenized=True)"
   ]
  },
  {
   "cell_type": "code",
   "execution_count": 9,
   "id": "037df023-4ec3-41b7-aea6-19d742229e76",
   "metadata": {},
   "outputs": [
    {
     "data": {
      "text/plain": [
       "{'input_ids': [101, 2003, 6502, 3291, 102], 'attention_mask': [1, 1, 1, 1, 1]}"
      ]
     },
     "execution_count": 9,
     "metadata": {},
     "output_type": "execute_result"
    }
   ],
   "source": [
    "tokenizer.encode_plus('is infrastructure problem')"
   ]
  }
 ],
 "metadata": {
  "kernelspec": {
   "display_name": "Python 3",
   "language": "python",
   "name": "python3"
  },
  "language_info": {
   "codemirror_mode": {
    "name": "ipython",
    "version": 3
   },
   "file_extension": ".py",
   "mimetype": "text/x-python",
   "name": "python",
   "nbconvert_exporter": "python",
   "pygments_lexer": "ipython3",
   "version": "3.8.8"
  }
 },
 "nbformat": 4,
 "nbformat_minor": 5
}
