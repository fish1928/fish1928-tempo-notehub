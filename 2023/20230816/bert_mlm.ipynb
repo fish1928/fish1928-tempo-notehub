{
 "cells": [
  {
   "cell_type": "code",
   "execution_count": 1,
   "id": "64439b96-83a9-47fd-b4d2-8509e6b2e4f5",
   "metadata": {},
   "outputs": [],
   "source": [
    "import torch\n",
    "from transformers import DistilBertTokenizerFast, DistilBertForSequenceClassification, EarlyStoppingCallback, DistilBertForMaskedLM\n",
    "\n",
    "model_name = 'distilbert-base-uncased'\n",
    "num_labels = 6\n",
    "\n",
    "model = DistilBertForMaskedLM.from_pretrained(model_name)\n",
    "model.eval()\n",
    "tokenizer = DistilBertTokenizerFast.from_pretrained(model_name, do_lower_case=True)"
   ]
  },
  {
   "cell_type": "code",
   "execution_count": 2,
   "id": "4e623b21-e884-46da-97d2-d21e3d89ee0b",
   "metadata": {},
   "outputs": [
    {
     "name": "stdout",
     "output_type": "stream",
     "text": [
      "['hello', 'how', '[MASK]', 'you', 'doing', '?']\n"
     ]
    }
   ],
   "source": [
    "text = \"Hello how are you doing?\"\n",
    "tokenized_text = tokenizer.tokenize(text)\n",
    "\n",
    "masked_index = 2\n",
    "tokenized_text[masked_index] = '[MASK]'\n",
    "\n",
    "print(tokenized_text)\n",
    "\n",
    "indexed_tokens = tokenizer.convert_tokens_to_ids(tokenized_text)\n",
    "tokens_tensor = torch.tensor([indexed_tokens])"
   ]
  },
  {
   "cell_type": "code",
   "execution_count": 10,
   "id": "87c6c3b4-2875-4914-9fe5-de4806982936",
   "metadata": {},
   "outputs": [],
   "source": [
    "with torch.no_grad():\n",
    "    output = model(tokens_tensor)\n",
    "# end"
   ]
  },
  {
   "cell_type": "code",
   "execution_count": 21,
   "id": "eedcdd7a-2c20-4612-b52e-0e86bf689b1e",
   "metadata": {},
   "outputs": [
    {
     "data": {
      "text/plain": [
       "torch.Size([1, 6, 30522])"
      ]
     },
     "execution_count": 21,
     "metadata": {},
     "output_type": "execute_result"
    }
   ],
   "source": [
    "output.logits.shape"
   ]
  },
  {
   "cell_type": "code",
   "execution_count": 22,
   "id": "bd0fb740-1076-4ff7-bccd-7def5e5e5b42",
   "metadata": {},
   "outputs": [
    {
     "data": {
      "text/plain": [
       "torch.Size([6])"
      ]
     },
     "execution_count": 22,
     "metadata": {},
     "output_type": "execute_result"
    }
   ],
   "source": [
    "torch.argmax(output.logits, dim=2).squeeze(0).shape"
   ]
  },
  {
   "cell_type": "code",
   "execution_count": 60,
   "id": "7f467cbb-a88d-4c59-9578-1a011f33a3a7",
   "metadata": {},
   "outputs": [
    {
     "data": {
      "text/plain": [
       "'doing'"
      ]
     },
     "execution_count": 63,
     "metadata": {},
     "output_type": "execute_result"
    }
   ],
   "source": [
    "predicted_index = torch.argmax(output.logits, dim=2).squeeze(0)[2].item()\n",
    "predicted_token = tokenizer.convert_ids_to_tokens([predicted_index])[0]\n",
    "predicted_token"
   ]
  },
  {
   "cell_type": "code",
   "execution_count": 23,
   "id": "f277c5ae-9575-4207-99b8-eaf8b979d9f3",
   "metadata": {},
   "outputs": [],
   "source": []
  },
  {
   "cell_type": "code",
   "execution_count": 24,
   "id": "e39dcdd8-3e29-4cb2-859a-42e8a5b0faf4",
   "metadata": {},
   "outputs": [],
   "source": [
    "predicted_token"
   ]
  },
  {
   "cell_type": "code",
   "execution_count": 31,
   "id": "e10e31f6-8da3-4cef-a72f-0150e5d56f67",
   "metadata": {},
   "outputs": [],
   "source": [
    "tokenizer.encode_plus(['good morning','is [MASK]'])"
   ]
  },
  {
   "cell_type": "code",
   "execution_count": 41,
   "id": "5cd0ddab-9a8d-4b6f-9f8e-a1d86c583c5f",
   "metadata": {},
   "outputs": [],
   "source": [
    "tokenizer.decode(tokenizer.convert_tokens_to_ids(['product']))   # testcase: test, targetvm: machine, network: network, nimbus: nimbus, testbed: environment, usererror: user, product: product"
   ]
  },
  {
   "cell_type": "code",
   "execution_count": 43,
   "id": "1cdcc8e8-9585-419b-bb73-16f6f41c8151",
   "metadata": {},
   "outputs": [
    {
     "data": {
      "text/plain": [
       "[4031]"
      ]
     },
     "execution_count": 43,
     "metadata": {},
     "output_type": "execute_result"
    }
   ],
   "source": [
    "tokenizer.convert_tokens_to_ids(['product'])   # testcase: test, targetvm: machine, network: network, nimbus: nimbus, testbed: environment, usererror: user, product: product"
   ]
  },
  {
   "cell_type": "code",
   "execution_count": 50,
   "id": "b286f20c-8a32-43f8-b3d4-b6597e6312b7",
   "metadata": {},
   "outputs": [],
   "source": [
    "labels_outdomain = ['testcase', 'targetvm', 'nimbus', 'testbed', 'usererror', 'product', 'infra']\n",
    "labels_indomain = ['test','machine','nimbus','environment','user', 'product', 'infrastructure']\n",
    "tokenids_indomain = tokenizer.convert_tokens_to_ids(labels_indomain)\n",
    "dict_labelout_tokenid = {labelout:tokenid for labelout, tokenid in zip(labels_outdomain, tokenids_indomain)}\n",
    "dict_tokenid_labelout = {tokenid:labelout for labelout, tokenid in zip(labels_outdomain, tokenids_indomain)}"
   ]
  },
  {
   "cell_type": "code",
   "execution_count": 55,
   "id": "df3aed0a-8eb7-477e-8da8-a3425811431e",
   "metadata": {},
   "outputs": [],
   "source": []
  },
  {
   "cell_type": "code",
   "execution_count": 56,
   "id": "45f46e49-8ced-42b2-b9b4-ccb91ba2805a",
   "metadata": {},
   "outputs": [
    {
     "data": {
      "text/plain": [
       "{3231: 'testcase',\n",
       " 3698: 'targetvm',\n",
       " 100: 'nimbus',\n",
       " 4044: 'testbed',\n",
       " 5310: 'usererror',\n",
       " 4031: 'product',\n",
       " 6502: 'infra'}"
      ]
     },
     "execution_count": 56,
     "metadata": {},
     "output_type": "execute_result"
    }
   ],
   "source": [
    "dict_tokenid_labelout"
   ]
  },
  {
   "cell_type": "code",
   "execution_count": 53,
   "id": "95749c57-736a-411d-a46c-73f7144ffa76",
   "metadata": {},
   "outputs": [],
   "source": []
  }
 ],
 "metadata": {
  "kernelspec": {
   "display_name": "Python 3",
   "language": "python",
   "name": "python3"
  },
  "language_info": {
   "codemirror_mode": {
    "name": "ipython",
    "version": 3
   },
   "file_extension": ".py",
   "mimetype": "text/x-python",
   "name": "python",
   "nbconvert_exporter": "python",
   "pygments_lexer": "ipython3",
   "version": "3.8.8"
  }
 },
 "nbformat": 4,
 "nbformat_minor": 5
}
