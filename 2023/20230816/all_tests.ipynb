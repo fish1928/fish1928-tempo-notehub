{
 "cells": [
  {
   "cell_type": "code",
   "execution_count": 1,
   "id": "7d4773ab-b602-4836-a223-32ed94db7847",
   "metadata": {},
   "outputs": [],
   "source": [
    "import torch\n",
    "from transformers import DistilBertTokenizerFast\n",
    "import pandas as pd\n",
    "import json\n",
    "from sklearn.model_selection import train_test_split"
   ]
  },
  {
   "cell_type": "code",
   "execution_count": 42,
   "id": "f9204322-c2b6-4611-8127-e46b883af74c",
   "metadata": {},
   "outputs": [],
   "source": [
    "path_test = 'data_model_mlm/202206171000_test.csv'"
   ]
  },
  {
   "cell_type": "code",
   "execution_count": 43,
   "id": "d8dabeea-530f-4276-843f-f2311863574f",
   "metadata": {},
   "outputs": [],
   "source": [
    "def read_passages(path_data, test_size=0):\n",
    "    df = pd.read_csv(path_data)\n",
    "\n",
    "    pairs_mask_embedding = [(eval(str_masks), eval(str_embedding)) for str_masks, str_embedding in zip(df['masks'], df['embedding'])]\n",
    "    \n",
    "    samples = []\n",
    "    labels = []\n",
    "                             \n",
    "    for masks, embedding in pairs_mask_embedding:\n",
    "\n",
    "        while len(embedding) < MAX_LENGTH:\n",
    "            embedding.append(0)\n",
    "        # end\n",
    "\n",
    "        attention = list([1 for _ in range(MAX_LENGTH)])\n",
    "\n",
    "        pt_embedding = torch.LongTensor(embedding)\n",
    "        pt_label = torch.LongTensor(embedding)\n",
    "        pt_attention = torch.LongTensor(attention)\n",
    "\n",
    "        pt_index_masks = torch.LongTensor(masks)\n",
    "\n",
    "        pt_embedding.index_fill_(0, pt_index_masks, 103)\n",
    "        pt_attention.masked_fill_(pt_attention == 103, 0)\n",
    "        pt_attention.masked_fill_(pt_attention == 0, 0)\n",
    "\n",
    "        samples.append((pt_embedding, pt_attention))\n",
    "        labels.append(pt_label)\n",
    "    # end\n",
    "    \n",
    "    \n",
    "    if test_size > 0:\n",
    "        return train_test_split(samples, labels, test_size=test_size, random_state=234)\n",
    "    else:\n",
    "        return (samples, samples, labels, labels)\n",
    "    # end\n",
    "# end"
   ]
  },
  {
   "cell_type": "code",
   "execution_count": 45,
   "id": "bf8b222e-3521-4923-ba7a-4ebb5db6d27d",
   "metadata": {},
   "outputs": [],
   "source": [
    "samples_train, samples_eval, labels_train, labels_eval = read_passages(path_test, 0.2)"
   ]
  },
  {
   "cell_type": "code",
   "execution_count": 47,
   "id": "4f162470-c2ab-4101-b65f-e6c6af622ad3",
   "metadata": {},
   "outputs": [
    {
     "data": {
      "text/plain": [
       "(tensor([  101,  2335, 15464,  2361,  3478,  2012,  2377, 21296,  1058,  2213,\n",
       "          1041,  8873,  1050,  2615,  4168,  2335, 15464,  2361,  4708,  4638,\n",
       "          1058,  2213,  3231,  3645,  2193, 12997,  4769,  4708,  4130,  2188,\n",
       "          7309,  2573, 15327,  2019, 19307, 26237,  3645,  2193,  2019, 19307,\n",
       "          5443, 27921,  2063,  2175,  2015, 27354,  2691,  1058,  2213,  2131,\n",
       "         12997,  1061, 19968,  2193, 10611,  2334, 15006,  2102,  3478,  3478,\n",
       "          2000,  2131,  1058,  2213,  3231,  3645,  2193, 12997,  4769,  2335,\n",
       "         15464,  2361,  4708,  5604,  6164,  2349,  2000,  4945,  4708,  4130,\n",
       "          2188,  7309,  2573, 15327,  2019, 19307, 26237,  3645,  2193,  2019,\n",
       "         19307,  5443, 27921,  2063,  2175,  2015, 27354,  2691,  3231,  5343,\n",
       "          1061, 19968,  2193, 10611,  2334, 15006,  2102,  3478,  6164,  5604,\n",
       "          2043,  6164,  5604,  2043,  8246,  2003,  2275,  2000,  2995,  1999,\n",
       "          3231,  2553, 21296,  1058,  2213,  1041,  8873,  1050,  2615,  4168,\n",
       "          1041,  2193,  1041,   102,  2003,   103,  3291,   102],\n",
       "        dtype=torch.int32),\n",
       " tensor([1, 1, 1, 1, 1, 1, 1, 1, 1, 1, 1, 1, 1, 1, 1, 1, 1, 1, 1, 1, 1, 1, 1, 1,\n",
       "         1, 1, 1, 1, 1, 1, 1, 1, 1, 1, 1, 1, 1, 1, 1, 1, 1, 1, 1, 1, 1, 1, 1, 1,\n",
       "         1, 1, 1, 1, 1, 1, 1, 1, 1, 1, 1, 1, 1, 1, 1, 1, 1, 1, 1, 1, 1, 1, 1, 1,\n",
       "         1, 1, 1, 1, 1, 1, 1, 1, 1, 1, 1, 1, 1, 1, 1, 1, 1, 1, 1, 1, 1, 1, 1, 1,\n",
       "         1, 1, 1, 1, 1, 1, 1, 1, 1, 1, 1, 1, 1, 1, 1, 1, 1, 1, 1, 1, 1, 1, 1, 1,\n",
       "         1, 1, 1, 1, 1, 1, 1, 1, 1, 1, 1, 1, 1, 1, 1, 0, 1, 1],\n",
       "        dtype=torch.int32))"
      ]
     },
     "execution_count": 47,
     "metadata": {},
     "output_type": "execute_result"
    }
   ],
   "source": [
    "samples_train[0]"
   ]
  },
  {
   "cell_type": "code",
   "execution_count": 4,
   "id": "847e8f43-6747-44c4-8550-40c0bb7910e6",
   "metadata": {},
   "outputs": [
    {
     "data": {
      "text/plain": [
       "{'input_ids': tensor([[ 101, 2204, 2851,  ...,    0,    0,    0],\n",
       "        [ 101, 2204, 3944,  ...,    0,    0,    0]]), 'attention_mask': tensor([[1, 1, 1,  ..., 0, 0, 0],\n",
       "        [1, 1, 1,  ..., 0, 0, 0]])}"
      ]
     },
     "execution_count": 4,
     "metadata": {},
     "output_type": "execute_result"
    }
   ],
   "source": [
    "model_name = 'distilbert-base-uncased'\n",
    "tokenizer = DistilBertTokenizerFast.from_pretrained(model_name, do_lower_case=True)\n",
    "\n",
    "\n",
    "pairs = [['good morning', 'my baby'],['good evening', 'my baby']]\n",
    "tokenizer.batch_encode_plus(pairs, truncation=True, padding='max_length', max_length=512,\n",
    "                                                  return_tensors='pt')"
   ]
  },
  {
   "cell_type": "code",
   "execution_count": 26,
   "id": "80bf5ab7-15c2-4d77-9fc1-c71a0e28542f",
   "metadata": {},
   "outputs": [],
   "source": [
    "torch.IntTensor([1,2]) == 1"
   ]
  },
  {
   "cell_type": "code",
   "execution_count": 51,
   "id": "352dc29a-d59d-49fe-93a4-5e973c998f32",
   "metadata": {},
   "outputs": [],
   "source": [
    "torch.IntTensor([1,2]).unsqueeze(0)"
   ]
  },
  {
   "cell_type": "code",
   "execution_count": 5,
   "id": "4dcbedb0-b61c-44c4-96bc-0a5b0b228cc8",
   "metadata": {},
   "outputs": [],
   "source": [
    "result = tokenizer.encode_plus('good morning my friend', truncation=True, max_length=512,\n",
    "                                                  return_tensors='pt')"
   ]
  },
  {
   "cell_type": "code",
   "execution_count": 6,
   "id": "4bf2b16d-4087-4b5e-bfe9-73ed3f430a7f",
   "metadata": {},
   "outputs": [
    {
     "data": {
      "text/plain": [
       "tensor([ 101,    1,    1, 2026, 2767,  102])"
      ]
     },
     "execution_count": 6,
     "metadata": {},
     "output_type": "execute_result"
    }
   ],
   "source": [
    "a = result.input_ids\n",
    "b = a.squeeze(0).index_fill_(0, torch.LongTensor([1,2]), 0)\n",
    "b.masked_fill_(b == 0, 1)"
   ]
  },
  {
   "cell_type": "code",
   "execution_count": 21,
   "id": "7c676e3e-43bf-4661-840c-e9106d6db429",
   "metadata": {},
   "outputs": [
    {
     "data": {
      "text/plain": [
       "tensor([1, 2])"
      ]
     },
     "execution_count": 21,
     "metadata": {},
     "output_type": "execute_result"
    }
   ],
   "source": [
    "(a.squeeze(0) == 1).nonzero(as_tuple=True)[0]"
   ]
  },
  {
   "cell_type": "code",
   "execution_count": 23,
   "id": "b7d1cbc3-94ec-4a6c-b08e-984fe8cd2110",
   "metadata": {},
   "outputs": [],
   "source": [
    "a = torch.Tensor([[1,2],[3,4]])"
   ]
  },
  {
   "cell_type": "code",
   "execution_count": 73,
   "id": "03e56720-d556-4a30-bcbc-532e672cfe21",
   "metadata": {},
   "outputs": [
    {
     "data": {
      "text/plain": [
       "1"
      ]
     },
     "execution_count": 73,
     "metadata": {},
     "output_type": "execute_result"
    }
   ],
   "source": [
    "torch.LongTensor([1]).tolist()[0]"
   ]
  },
  {
   "cell_type": "code",
   "execution_count": 83,
   "id": "891db6fd-f9d7-4f22-a5a8-3a21d6ad632e",
   "metadata": {},
   "outputs": [],
   "source": [
    "DICT_labelOrigin_labelTarget = {\n",
    "    'infra': 'infrastructure',\n",
    "    'targetvm': 'machine',\n",
    "    'testcase': 'test',\n",
    "    'nimbus': 'environment',\n",
    "    'usererror': 'user',\n",
    "    'product': 'product',\n",
    "    'testbed': 'server'\n",
    "}"
   ]
  },
  {
   "cell_type": "code",
   "execution_count": 84,
   "id": "287d83a7-dd87-4cf9-b650-92fcddbe0a51",
   "metadata": {},
   "outputs": [],
   "source": [
    "dict_labelorigin_codetarget = {k: tokenizer.convert_tokens_to_ids(v) for k,v in DICT_labelOrigin_labelTarget.items()}"
   ]
  },
  {
   "cell_type": "code",
   "execution_count": 85,
   "id": "a0c26212-cfdc-43a0-a984-817c1d41f5fe",
   "metadata": {},
   "outputs": [
    {
     "data": {
      "text/plain": [
       "{'infra': 6502,\n",
       " 'targetvm': 3698,\n",
       " 'testcase': 3231,\n",
       " 'nimbus': 4044,\n",
       " 'usererror': 5310,\n",
       " 'product': 4031,\n",
       " 'testbed': 8241}"
      ]
     },
     "execution_count": 85,
     "metadata": {},
     "output_type": "execute_result"
    }
   ],
   "source": [
    "dict_labelorigin_codetarget"
   ]
  },
  {
   "cell_type": "code",
   "execution_count": 86,
   "id": "289fff7c-8b34-43f3-a079-d1627b7cf6ee",
   "metadata": {},
   "outputs": [],
   "source": [
    "dict_code_label = {v:k for k,v in dict_labelorigin_codetarget.items()}"
   ]
  },
  {
   "cell_type": "code",
   "execution_count": 87,
   "id": "bb3021f0-ef5f-48d6-8a71-ac55bb120419",
   "metadata": {},
   "outputs": [
    {
     "data": {
      "text/plain": [
       "{6502: 'infra',\n",
       " 3698: 'targetvm',\n",
       " 3231: 'testcase',\n",
       " 4044: 'nimbus',\n",
       " 5310: 'usererror',\n",
       " 4031: 'product',\n",
       " 8241: 'testbed'}"
      ]
     },
     "execution_count": 87,
     "metadata": {},
     "output_type": "execute_result"
    }
   ],
   "source": [
    "dict_code_label"
   ]
  },
  {
   "cell_type": "code",
   "execution_count": 88,
   "id": "683e695f-3d3a-4422-95b7-68220106cf7c",
   "metadata": {},
   "outputs": [],
   "source": [
    "index_labels = sorted(dict_code_label.keys())"
   ]
  },
  {
   "cell_type": "code",
   "execution_count": 89,
   "id": "a56d4f02-f5bc-499c-8c14-aaf54f24b7cb",
   "metadata": {},
   "outputs": [],
   "source": [
    "labels = [dict_code_label[i] for i in index_labels]"
   ]
  },
  {
   "cell_type": "code",
   "execution_count": 90,
   "id": "a7bca871-6ca2-47d8-975e-9b6acebd8cb5",
   "metadata": {},
   "outputs": [
    {
     "data": {
      "text/plain": [
       "[3231, 3698, 4031, 4044, 5310, 6502, 8241]"
      ]
     },
     "execution_count": 90,
     "metadata": {},
     "output_type": "execute_result"
    }
   ],
   "source": [
    "index_labels"
   ]
  },
  {
   "cell_type": "code",
   "execution_count": 91,
   "id": "a0b30f77-69bf-4745-b157-abc5b0d50226",
   "metadata": {},
   "outputs": [
    {
     "data": {
      "text/plain": [
       "['testcase', 'targetvm', 'product', 'nimbus', 'usererror', 'infra', 'testbed']"
      ]
     },
     "execution_count": 91,
     "metadata": {},
     "output_type": "execute_result"
    }
   ],
   "source": [
    "labels"
   ]
  },
  {
   "cell_type": "code",
   "execution_count": 92,
   "id": "e744b95a-4c5e-4841-931a-d7037ebe8b0d",
   "metadata": {},
   "outputs": [
    {
     "data": {
      "text/plain": [
       "tensor([1, 3])"
      ]
     },
     "execution_count": 92,
     "metadata": {},
     "output_type": "execute_result"
    }
   ],
   "source": [
    "torch.index_select(torch.LongTensor([1,2,3]), 0, torch.LongTensor([0,2]))"
   ]
  },
  {
   "cell_type": "code",
   "execution_count": 93,
   "id": "66c10a44-73d1-40df-9f06-843766423dd2",
   "metadata": {},
   "outputs": [
    {
     "data": {
      "text/plain": [
       "1.0"
      ]
     },
     "execution_count": 93,
     "metadata": {},
     "output_type": "execute_result"
    }
   ],
   "source": [
    "torch.Tensor([1]).squeeze(0).item()"
   ]
  },
  {
   "cell_type": "code",
   "execution_count": 97,
   "id": "0eba37fc-0bfe-48a5-97c9-471e9f9bc221",
   "metadata": {},
   "outputs": [
    {
     "data": {
      "text/plain": [
       "['test',\n",
       " 'machine',\n",
       " 'product',\n",
       " 'environment',\n",
       " 'user',\n",
       " 'infrastructure',\n",
       " 'server']"
      ]
     },
     "execution_count": 97,
     "metadata": {},
     "output_type": "execute_result"
    }
   ],
   "source": [
    "tokenizer.convert_ids_to_tokens([3231, 3698, 4031, 4044, 5310, 6502, 8241])"
   ]
  },
  {
   "cell_type": "code",
   "execution_count": 98,
   "id": "48455b5b-f1de-4bb1-a78b-cedbd468fafa",
   "metadata": {},
   "outputs": [
    {
     "data": {
      "text/plain": [
       "[101, 2204, 22822, 23500, 3070, 2004, 2094, 1040, 8241, 102]"
      ]
     },
     "execution_count": 98,
     "metadata": {},
     "output_type": "execute_result"
    }
   ],
   "source": [
    "tokenizer.encode('good mornning asd d server')"
   ]
  },
  {
   "cell_type": "code",
   "execution_count": null,
   "id": "abfd1ed3-25f1-4e84-9e6b-17d727d26f9c",
   "metadata": {},
   "outputs": [],
   "source": []
  }
 ],
 "metadata": {
  "kernelspec": {
   "display_name": "Python 3",
   "language": "python",
   "name": "python3"
  },
  "language_info": {
   "codemirror_mode": {
    "name": "ipython",
    "version": 3
   },
   "file_extension": ".py",
   "mimetype": "text/x-python",
   "name": "python",
   "nbconvert_exporter": "python",
   "pygments_lexer": "ipython3",
   "version": "3.8.8"
  }
 },
 "nbformat": 4,
 "nbformat_minor": 5
}
