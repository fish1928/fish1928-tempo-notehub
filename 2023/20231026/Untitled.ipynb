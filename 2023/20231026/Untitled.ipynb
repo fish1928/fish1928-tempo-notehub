{
 "cells": [
  {
   "cell_type": "code",
   "execution_count": 1,
   "id": "7668a9da-7467-44a3-8b73-ef4e06a334e7",
   "metadata": {},
   "outputs": [
    {
     "name": "stdout",
     "output_type": "stream",
     "text": [
      "Finished.\n",
      "Vocabulary sizes: 6191\n"
     ]
    }
   ],
   "source": [
    "import torch\n",
    "import os\n",
    "from torch.utils.data import DataLoader, Dataset\n",
    "from torchtext.data.functional import to_map_style_dataset\n",
    "\n",
    "import spacy\n",
    "\n",
    "\n",
    "def Multi30k(language_pair=None):\n",
    "    corpus_lines_train = []\n",
    "\n",
    "    for lan in language_pair:\n",
    "        with open('text/train.{}'.format(lan), 'r') as file:\n",
    "            corpus_lines_train.append(file.read().splitlines())\n",
    "        # end\n",
    "    # end\n",
    "\n",
    "    corpus_train = list(zip(*corpus_lines_train))\n",
    "\n",
    "    corpus_lines_eval = []\n",
    "\n",
    "    for lan in language_pair:\n",
    "        with open('text/val.{}'.format(lan), 'r') as file:\n",
    "            corpus_lines_eval.append(file.read().splitlines())\n",
    "        # end\n",
    "    # end\n",
    "\n",
    "    corpus_eval = list(zip(*corpus_lines_eval))\n",
    "\n",
    "    return corpus_train, corpus_eval, None\n",
    "# end\n",
    "\n",
    "\n",
    "def load_vocab(spacy_en):\n",
    "    if not os.path.exists(\"vocab.pt\"):\n",
    "        vocab_tgt = build_vocabulary(spacy_en)\n",
    "        torch.save(vocab_tgt, \"vocab.pt\")\n",
    "    else:\n",
    "        vocab_tgt = torch.load(\"vocab.pt\")\n",
    "    print(\"Finished.\\nVocabulary sizes: {}\".format(len(vocab_tgt)))\n",
    "    return vocab_tgt\n",
    "# end\n",
    "\n",
    "def load_spacy():\n",
    "\n",
    "    try:\n",
    "        spacy_en = spacy.load(\"en_core_web_sm\")\n",
    "    except IOError:\n",
    "        os.system(\"python -m spacy download en_core_web_sm\")\n",
    "        spacy_en = spacy.load(\"en_core_web_sm\")\n",
    "\n",
    "    return spacy_en\n",
    "# end\n",
    "\n",
    "\n",
    "seq_max = 64\n",
    "batch_size = 3\n",
    "dim_hidden = 128\n",
    "dim_feedforward = 128\n",
    "n_head = 4\n",
    "n_layer = 2\n",
    "\n",
    "spacy_en = load_spacy()\n",
    "vocab = load_vocab(spacy_en)\n",
    "\n",
    "train_iter, valid_iter, _ = Multi30k(language_pair=(\"de\", \"en\"))\n",
    "# to test sim\n",
    "\n",
    "train_source = to_map_style_dataset(valid_iter)"
   ]
  },
  {
   "cell_type": "code",
   "execution_count": 4,
   "id": "21ed5435-2b38-489b-8670-632ce884ac25",
   "metadata": {},
   "outputs": [],
   "source": [
    "list_en = [i[1] for i in valid_iter]"
   ]
  },
  {
   "cell_type": "code",
   "execution_count": 6,
   "id": "7105fbb7-e00f-4b10-b372-5a64863c6638",
   "metadata": {},
   "outputs": [],
   "source": [
    "list_en_0 = [seq for i, seq in enumerate(list_en) if i%2==0]\n",
    "list_en_1 = [seq for i, seq in enumerate(list_en) if i%2==1]"
   ]
  },
  {
   "cell_type": "code",
   "execution_count": 9,
   "id": "ce855f49-b693-4391-897a-3146eec794b3",
   "metadata": {},
   "outputs": [],
   "source": [
    "list_en_0 = list_en_0[:-1]"
   ]
  },
  {
   "cell_type": "code",
   "execution_count": 14,
   "id": "899cd3e3-b2ef-4449-a21c-744628610e48",
   "metadata": {},
   "outputs": [],
   "source": [
    "list_final = []\n",
    "for en_0, en_1 in zip(list_en_0, list_en_1):\n",
    "    tokens_en_0 = set(en_0.split(' '))\n",
    "    tokens_en_1 = set(en_1.split(' '))\n",
    "    sim = len(tokens_en_0 & tokens_en_1) / len(tokens_en_0 | tokens_en_1)\n",
    "    list_final.append([en_0, en_1, sim])\n",
    "# end"
   ]
  },
  {
   "cell_type": "code",
   "execution_count": 16,
   "id": "48da05c7-32fe-4b08-8ba2-57ab65678d39",
   "metadata": {},
   "outputs": [],
   "source": [
    "import json\n",
    "with open('corpus.json', 'w+') as file:\n",
    "    file.write(json.dumps(list_final))\n",
    "# end"
   ]
  }
 ],
 "metadata": {
  "kernelspec": {
   "display_name": "Python 3",
   "language": "python",
   "name": "python3"
  },
  "language_info": {
   "codemirror_mode": {
    "name": "ipython",
    "version": 3
   },
   "file_extension": ".py",
   "mimetype": "text/x-python",
   "name": "python",
   "nbconvert_exporter": "python",
   "pygments_lexer": "ipython3",
   "version": "3.8.8"
  }
 },
 "nbformat": 4,
 "nbformat_minor": 5
}
