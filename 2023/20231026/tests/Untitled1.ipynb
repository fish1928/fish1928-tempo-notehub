{
 "cells": [
  {
   "cell_type": "code",
   "execution_count": 1,
   "id": "17fe529f-5e34-4a12-b8c9-8277582842cf",
   "metadata": {},
   "outputs": [],
   "source": [
    "class SimpleTextIter:\n",
    "    pass\n",
    "# end\n",
    "\n",
    "def Multi30k(language_pair=None):\n",
    "    corpus_lines_train = []\n",
    "\n",
    "    for lan in language_pair:\n",
    "        with open('text/train.{}'.format(lan), 'r') as file:\n",
    "            corpus_lines_train.append(file.read().splitlines())\n",
    "        # end\n",
    "    # end\n",
    "\n",
    "    corpus_train = list(zip(*corpus_lines_train))\n",
    "\n",
    "    corpus_lines_eval = []\n",
    "\n",
    "    for lan in language_pair:\n",
    "        with open('text/val.{}'.format(lan), 'r') as file:\n",
    "            corpus_lines_eval.append(file.read().splitlines())\n",
    "        # end\n",
    "    # end\n",
    "\n",
    "    corpus_lines_eval = list(zip(*corpus_lines_train))\n",
    "\n",
    "    return corpus_lines_train, corpus_lines_eval, None\n",
    "# end\n",
    "\n",
    "\n",
    "a,b,_ = Multi30k(language_pair=('de', 'en'))"
   ]
  },
  {
   "cell_type": "code",
   "execution_count": 6,
   "id": "5044c316-177a-422f-8dc0-5127815059fe",
   "metadata": {},
   "outputs": [
    {
     "data": {
      "text/plain": [
       "('Mehrere Männer mit Schutzhelmen bedienen ein Antriebsradsystem.',\n",
       " 'Several men in hard hats are operating a giant pulley system.')"
      ]
     },
     "execution_count": 6,
     "metadata": {},
     "output_type": "execute_result"
    }
   ],
   "source": []
  }
 ],
 "metadata": {
  "kernelspec": {
   "display_name": "Python 3",
   "language": "python",
   "name": "python3"
  },
  "language_info": {
   "codemirror_mode": {
    "name": "ipython",
    "version": 3
   },
   "file_extension": ".py",
   "mimetype": "text/x-python",
   "name": "python",
   "nbconvert_exporter": "python",
   "pygments_lexer": "ipython3",
   "version": "3.8.8"
  }
 },
 "nbformat": 4,
 "nbformat_minor": 5
}
