{
 "cells": [
  {
   "cell_type": "code",
   "execution_count": 1,
   "id": "2c999034-ea4e-4f78-8ad8-68f2ec47773e",
   "metadata": {},
   "outputs": [],
   "source": [
    "from torch.utils.data import DataLoader, Dataset\n",
    "from torchtext.data.functional import to_map_style_dataset"
   ]
  },
  {
   "cell_type": "code",
   "execution_count": 2,
   "id": "5d6e7627-c1b3-45fd-ace1-c090a1016d1d",
   "metadata": {},
   "outputs": [],
   "source": [
    "data_origin = to_map_style_dataset(range(100))"
   ]
  },
  {
   "cell_type": "code",
   "execution_count": 3,
   "id": "e8012b4e-44f8-4c86-bb5b-4cd1862c46dd",
   "metadata": {},
   "outputs": [],
   "source": [
    "def mycollator(batch):\n",
    "    list_batch = []\n",
    "    for i in batch:\n",
    "        list_batch.append(i)\n",
    "    # end\n",
    "    \n",
    "    print(list_batch)\n",
    "# end"
   ]
  },
  {
   "cell_type": "code",
   "execution_count": 4,
   "id": "17da4b8e-11c4-41e5-abc7-07bb706f8a96",
   "metadata": {},
   "outputs": [],
   "source": [
    "dataloader = DataLoader(data_origin, batch_size=5,\n",
    "                              shuffle=False, collate_fn=mycollator)"
   ]
  },
  {
   "cell_type": "code",
   "execution_count": 5,
   "id": "566822b5-e670-4e48-8818-cbfbf8b48d2e",
   "metadata": {},
   "outputs": [
    {
     "name": "stdout",
     "output_type": "stream",
     "text": [
      "[0, 1, 2, 3, 4]\n",
      "None\n",
      "[5, 6, 7, 8, 9]\n",
      "None\n",
      "[10, 11, 12, 13, 14]\n",
      "None\n",
      "[15, 16, 17, 18, 19]\n",
      "None\n",
      "[20, 21, 22, 23, 24]\n",
      "None\n",
      "[25, 26, 27, 28, 29]\n",
      "None\n",
      "[30, 31, 32, 33, 34]\n",
      "None\n",
      "[35, 36, 37, 38, 39]\n",
      "None\n",
      "[40, 41, 42, 43, 44]\n",
      "None\n",
      "[45, 46, 47, 48, 49]\n",
      "None\n",
      "[50, 51, 52, 53, 54]\n",
      "None\n",
      "[55, 56, 57, 58, 59]\n",
      "None\n",
      "[60, 61, 62, 63, 64]\n",
      "None\n",
      "[65, 66, 67, 68, 69]\n",
      "None\n",
      "[70, 71, 72, 73, 74]\n",
      "None\n",
      "[75, 76, 77, 78, 79]\n",
      "None\n",
      "[80, 81, 82, 83, 84]\n",
      "None\n",
      "[85, 86, 87, 88, 89]\n",
      "None\n",
      "[90, 91, 92, 93, 94]\n",
      "None\n",
      "[95, 96, 97, 98, 99]\n",
      "None\n"
     ]
    }
   ],
   "source": [
    "for batch_new in dataloader:\n",
    "    print(batch_new)\n",
    "# end"
   ]
  }
 ],
 "metadata": {
  "kernelspec": {
   "display_name": "Python 3",
   "language": "python",
   "name": "python3"
  },
  "language_info": {
   "codemirror_mode": {
    "name": "ipython",
    "version": 3
   },
   "file_extension": ".py",
   "mimetype": "text/x-python",
   "name": "python",
   "nbconvert_exporter": "python",
   "pygments_lexer": "ipython3",
   "version": "3.8.8"
  }
 },
 "nbformat": 4,
 "nbformat_minor": 5
}
