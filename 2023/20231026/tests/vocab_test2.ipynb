{
 "cells": [
  {
   "cell_type": "code",
   "execution_count": 1,
   "id": "4b5ce48e-45bf-4fd8-8c68-2710029f2ef4",
   "metadata": {},
   "outputs": [],
   "source": [
    "import spacy\n",
    "import os\n",
    "import torch\n",
    "\n",
    "def load_vocab(spacy_en):\n",
    "    if not os.path.exists(\"../vocab.pt\"):\n",
    "        vocab_tgt = build_vocabulary(spacy_en)\n",
    "        torch.save(vocab_tgt, \"../vocab.pt\")\n",
    "    else:\n",
    "        vocab_tgt = torch.load(\"../vocab.pt\")\n",
    "    print(\"Finished.\\nVocabulary sizes:\")\n",
    "    print(len(vocab_tgt))\n",
    "    return vocab_tgt\n",
    "# end\n",
    "\n",
    "def load_spacy():\n",
    "\n",
    "    try:\n",
    "        spacy_en = spacy.load(\"en_core_web_sm\")\n",
    "    except IOError:\n",
    "        os.system(\"python -m spacy download en_core_web_sm\")\n",
    "        spacy_en = spacy.load(\"en_core_web_sm\")\n",
    "\n",
    "    return spacy_en\n",
    "# end"
   ]
  },
  {
   "cell_type": "code",
   "execution_count": 2,
   "id": "525b1f39-6059-429e-a6f9-5328c73760af",
   "metadata": {},
   "outputs": [
    {
     "name": "stdout",
     "output_type": "stream",
     "text": [
      "Finished.\n",
      "Vocabulary sizes:\n",
      "6191\n"
     ]
    }
   ],
   "source": [
    "spacy_en = load_spacy()\n",
    "vocab = load_vocab(spacy_en)"
   ]
  },
  {
   "cell_type": "code",
   "execution_count": 4,
   "id": "a8b45abf-e730-4d06-b051-a9b8f93819d1",
   "metadata": {},
   "outputs": [
    {
     "data": {
      "text/plain": [
       "[('on', 9),\n",
       " ('the', 8),\n",
       " ('in', 7),\n",
       " ('A', 6),\n",
       " ('.', 5),\n",
       " ('a', 4),\n",
       " ('<unk>', 3),\n",
       " ('<blank>', 2),\n",
       " ('</s>', 1),\n",
       " ('<s>', 0)]"
      ]
     },
     "execution_count": 4,
     "metadata": {},
     "output_type": "execute_result"
    }
   ],
   "source": []
  }
 ],
 "metadata": {
  "kernelspec": {
   "display_name": "Python 3",
   "language": "python",
   "name": "python3"
  },
  "language_info": {
   "codemirror_mode": {
    "name": "ipython",
    "version": 3
   },
   "file_extension": ".py",
   "mimetype": "text/x-python",
   "name": "python",
   "nbconvert_exporter": "python",
   "pygments_lexer": "ipython3",
   "version": "3.8.8"
  }
 },
 "nbformat": 4,
 "nbformat_minor": 5
}
