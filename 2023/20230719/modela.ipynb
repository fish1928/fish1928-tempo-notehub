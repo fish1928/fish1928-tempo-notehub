{
 "cells": [
  {
   "cell_type": "code",
   "execution_count": 20,
   "id": "54cbd400-31b6-4ce0-937e-408ea6acf6db",
   "metadata": {},
   "outputs": [],
   "source": [
    "import torch\n",
    "import numpy as np\n",
    "\n",
    "class ModelA(torch.nn.Module):\n",
    "    def __init__(self):\n",
    "        super(ModelA, self).__init__()\n",
    "        self.linear_a = torch.nn.Linear(16,32,True)\n",
    "    # end\n",
    "    \n",
    "    def forward(self, v_in):\n",
    "        return self.linear_a(v_in)\n",
    "    # end\n",
    "# end"
   ]
  },
  {
   "cell_type": "code",
   "execution_count": 21,
   "id": "2d97b873-ab6d-41fe-8b8e-de0d6cf25609",
   "metadata": {},
   "outputs": [],
   "source": [
    "a = ModelA()"
   ]
  },
  {
   "cell_type": "code",
   "execution_count": 24,
   "id": "219b52cc-d0f8-4329-8310-52a96de14813",
   "metadata": {},
   "outputs": [],
   "source": [
    "my_in = torch.FloatTensor(np.arange(16))"
   ]
  },
  {
   "cell_type": "code",
   "execution_count": 28,
   "id": "e5f9c6fb-b506-4732-8c1e-37a22840372b",
   "metadata": {},
   "outputs": [
    {
     "data": {
      "text/plain": [
       "tensor([  2.7910,   4.0806,   2.9423,   3.8643,  -5.2659,  -3.4999,  -1.3081,\n",
       "          6.4022,  -5.9310, -12.0574,   8.3587,   4.1335,  -1.0320,   8.4114,\n",
       "          4.6384,   3.9912,  -4.4845,   5.2404,   2.1117,   5.3145,   3.3914,\n",
       "         -0.4856,   5.9469,  -1.9974,   1.8222,   2.8186,  -3.7125,   2.0840,\n",
       "         -1.4541,   3.0929,  -2.5411,   5.2988], grad_fn=<AddBackward0>)"
      ]
     },
     "execution_count": 28,
     "metadata": {},
     "output_type": "execute_result"
    }
   ],
   "source": [
    "a.linear_a(my_in)"
   ]
  },
  {
   "cell_type": "code",
   "execution_count": null,
   "id": "8b2092ad-8fdd-4553-9b3b-73280edf41e7",
   "metadata": {},
   "outputs": [],
   "source": []
  }
 ],
 "metadata": {
  "kernelspec": {
   "display_name": "Python 3",
   "language": "python",
   "name": "python3"
  },
  "language_info": {
   "codemirror_mode": {
    "name": "ipython",
    "version": 3
   },
   "file_extension": ".py",
   "mimetype": "text/x-python",
   "name": "python",
   "nbconvert_exporter": "python",
   "pygments_lexer": "ipython3",
   "version": "3.8.8"
  }
 },
 "nbformat": 4,
 "nbformat_minor": 5
}
