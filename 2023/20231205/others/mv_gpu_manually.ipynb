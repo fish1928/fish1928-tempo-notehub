{
 "cells": [
  {
   "cell_type": "code",
   "execution_count": 3,
   "id": "62ae0056-3586-4b71-8181-de5523a5b918",
   "metadata": {},
   "outputs": [],
   "source": [
    "import torch\n",
    "import numpy as np"
   ]
  },
  {
   "cell_type": "code",
   "execution_count": 5,
   "id": "bb873240-ad85-4865-acb7-0976a868ae88",
   "metadata": {},
   "outputs": [],
   "source": [
    "a = torch.Tensor(np.arange(24).reshape(2,3,4))"
   ]
  },
  {
   "cell_type": "code",
   "execution_count": 9,
   "id": "896547aa-e9ab-475b-9c68-14e7ffae5c1c",
   "metadata": {},
   "outputs": [],
   "source": [
    "a = a.cuda()"
   ]
  },
  {
   "cell_type": "code",
   "execution_count": 14,
   "id": "7e7f5d3a-2ae5-4ea0-995e-f2235024158a",
   "metadata": {},
   "outputs": [],
   "source": [
    "b = a.to('cuda:1')"
   ]
  },
  {
   "cell_type": "code",
   "execution_count": 29,
   "id": "e9802237-05ff-48bc-9552-84127c52ed95",
   "metadata": {},
   "outputs": [],
   "source": [
    "c = a.to('cuda:0')"
   ]
  },
  {
   "cell_type": "code",
   "execution_count": 32,
   "id": "47790490-5892-4d1e-8692-6a71ebb935b3",
   "metadata": {},
   "outputs": [],
   "source": [
    "c[0,0,0] = -1"
   ]
  },
  {
   "cell_type": "code",
   "execution_count": 41,
   "id": "9fcb4e3f-84a0-4f9f-a822-33cdb4624f55",
   "metadata": {},
   "outputs": [
    {
     "data": {
      "text/plain": [
       "140166805708688"
      ]
     },
     "execution_count": 41,
     "metadata": {},
     "output_type": "execute_result"
    }
   ],
   "source": [
    "id(a)"
   ]
  },
  {
   "cell_type": "code",
   "execution_count": 40,
   "id": "0220ec44-6b35-4704-a3c9-b95b95a9c0e9",
   "metadata": {},
   "outputs": [
    {
     "data": {
      "text/plain": [
       "140166805708688"
      ]
     },
     "execution_count": 40,
     "metadata": {},
     "output_type": "execute_result"
    }
   ],
   "source": [
    "id(c)"
   ]
  }
 ],
 "metadata": {
  "kernelspec": {
   "display_name": "Python 3",
   "language": "python",
   "name": "python3"
  },
  "language_info": {
   "codemirror_mode": {
    "name": "ipython",
    "version": 3
   },
   "file_extension": ".py",
   "mimetype": "text/x-python",
   "name": "python",
   "nbconvert_exporter": "python",
   "pygments_lexer": "ipython3",
   "version": "3.8.8"
  }
 },
 "nbformat": 4,
 "nbformat_minor": 5
}
