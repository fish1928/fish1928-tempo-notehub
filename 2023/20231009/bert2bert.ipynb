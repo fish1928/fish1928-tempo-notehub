{
 "cells": [
  {
   "cell_type": "code",
   "execution_count": 1,
   "id": "4bc74f7e-190e-4e01-80af-1cfb09120eec",
   "metadata": {},
   "outputs": [],
   "source": [
    "from transformers import BertConfig, EncoderDecoderConfig, EncoderDecoderModel, BertTokenizer"
   ]
  },
  {
   "cell_type": "code",
   "execution_count": null,
   "id": "b815b3de-53f2-43bd-8310-8d9a95d90593",
   "metadata": {},
   "outputs": [],
   "source": [
    "# config_encoder = BertConfig()\n",
    "# config_decoder = BertConfig()"
   ]
  },
  {
   "cell_type": "code",
   "execution_count": null,
   "id": "645b6f67-76a5-4496-aaae-a157b2bb4b3a",
   "metadata": {},
   "outputs": [],
   "source": [
    "# config = EncoderDecoderConfig.from_encoder_decoder_configs(config_encoder, config_decoder)\n",
    "# model = EncoderDecoderModel(config=config)"
   ]
  },
  {
   "cell_type": "code",
   "execution_count": 2,
   "id": "595e5fb6-da36-4804-9c07-1dd0adfecaa5",
   "metadata": {},
   "outputs": [],
   "source": [
    "tokenizer = BertTokenizer.from_pretrained(\"bert-base-uncased\")\n",
    "model = EncoderDecoderModel.from_encoder_decoder_pretrained(\"bert-base-uncased\", \"bert-base-uncased\")"
   ]
  },
  {
   "cell_type": "code",
   "execution_count": 3,
   "id": "b5e376d6-f495-40ee-ac6a-09f1e6069ec7",
   "metadata": {},
   "outputs": [],
   "source": [
    "model.tie_weights()"
   ]
  },
  {
   "cell_type": "code",
   "execution_count": null,
   "id": "d0111904-1cde-427f-bb09-e2bf49b67a2a",
   "metadata": {},
   "outputs": [],
   "source": []
  },
  {
   "cell_type": "code",
   "execution_count": null,
   "id": "f3f0e4de-fcca-4bca-9f91-43d73ca4fa3c",
   "metadata": {},
   "outputs": [],
   "source": [
    "model.config.decoder_start_token_id = tokenizer.cls_token_id\n",
    "model.config.pad_token_id = tokenizer.pad_token_id"
   ]
  },
  {
   "cell_type": "code",
   "execution_count": null,
   "id": "e84464f9-cd1b-49bf-a801-438a0a91ed09",
   "metadata": {},
   "outputs": [],
   "source": [
    "sample = \"The tower is 324 metres (1,063 ft) tall, about the same height as an 81-storey building, and the tallest structure in Paris. Its base is square, measuring 125 metres (410 ft) on each side.During its construction, the Eiffel Tower surpassed the Washington Monument to become the tallest man-made structure in the world, a title it held for 41 years until the Chrysler Building in New York City was  finished in 1930. It was the first structure to reach a height of 300 metres. Due to the addition of a broadcasting aerial at the top of the tower in 1957, it is now taller than the Chrysler Building by 5.2 metres (17 ft).Excluding transmitters, the Eiffel Tower is the second tallest free-standing structure in France after the Millau Viaduct.\"\n",
    "\n",
    "input_ids = tokenizer(sample,return_tensors=\"pt\",).input_ids\n",
    "labels = tokenizer(sample,return_tensors=\"pt\",).input_ids\n",
    "\n",
    "loss = model(input_ids=input_ids, labels=labels).loss"
   ]
  },
  {
   "cell_type": "code",
   "execution_count": null,
   "id": "71cf4a35-0f42-4ade-8507-93aabb4ea1b0",
   "metadata": {},
   "outputs": [],
   "source": [
    "result = model.generate(input_ids=input_ids)"
   ]
  },
  {
   "cell_type": "code",
   "execution_count": null,
   "id": "d089f084-e2fa-463d-88f3-7c8dd3c3c9ec",
   "metadata": {},
   "outputs": [],
   "source": [
    "# [tokenizer.decode(i) for i in result.tolist()[0]]"
   ]
  },
  {
   "cell_type": "code",
   "execution_count": null,
   "id": "640c55d0-21fd-4477-9fd3-f6dc80c27efa",
   "metadata": {},
   "outputs": [],
   "source": [
    "trainer = Seq2SeqTrainer(\n",
    "model=roberta2roberta,\n",
    "tokenizer=tokenizer,\n",
    "args=training_args,\n",
    "compute_metrics=compute_metrics,\n",
    "train_dataset=train_data,\n",
    "eval_dataset=val_data,\n",
    ")\n",
    "trainer.train()"
   ]
  }
 ],
 "metadata": {
  "kernelspec": {
   "display_name": "Python 3",
   "language": "python",
   "name": "python3"
  },
  "language_info": {
   "codemirror_mode": {
    "name": "ipython",
    "version": 3
   },
   "file_extension": ".py",
   "mimetype": "text/x-python",
   "name": "python",
   "nbconvert_exporter": "python",
   "pygments_lexer": "ipython3",
   "version": "3.8.8"
  }
 },
 "nbformat": 4,
 "nbformat_minor": 5
}
