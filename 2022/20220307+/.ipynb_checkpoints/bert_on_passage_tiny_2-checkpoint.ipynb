{
 "cells": [
  {
   "cell_type": "code",
   "execution_count": 1,
   "id": "66a6d8e0-5800-4e55-ae2e-dab30c423b3f",
   "metadata": {},
   "outputs": [],
   "source": [
    "# you get all pretrained model name here\n",
    "# https://huggingface.co/transformers/pretrained_models.html\n",
    "import pandas as pd\n",
    "import os\n",
    "import torch\n",
    "import transformers\n",
    "from transformers.file_utils import is_tf_available, is_torch_available, is_torch_tpu_available\n",
    "# from transformers import BertTokenizerFast, BertForSequenceClassification\n",
    "from transformers import DistilBertTokenizerFast, DistilBertForSequenceClassification, EarlyStoppingCallback\n",
    "from transformers import Trainer, TrainingArguments\n",
    "import numpy as np\n",
    "import random\n",
    "from sklearn.datasets import fetch_20newsgroups\n",
    "from sklearn.model_selection import train_test_split"
   ]
  },
  {
   "cell_type": "code",
   "execution_count": 2,
   "id": "2adce6ab-61dd-4ce6-8a19-ae6a376de4ad",
   "metadata": {},
   "outputs": [],
   "source": [
    "# the model we gonna train, base uncased BERT\n",
    "# check text classification models here: https://huggingface.co/models?filter=text-classification\n",
    "# model_name = \"bert-base-uncased\"\n",
    "model_name = \"distilbert-base-uncased\"\n",
    "model_dir = 'models_target'\n",
    "# max sequence length for each document/sentence sample\n",
    "max_length = 512"
   ]
  },
  {
   "cell_type": "code",
   "execution_count": 3,
   "id": "4ef49596-da0b-4ba2-9157-afa279f76193",
   "metadata": {},
   "outputs": [],
   "source": [
    "# tokenizer = BertTokenizerFast.from_pretrained(model_name, do_lower_case=True)\n",
    "tokenizer = DistilBertTokenizerFast.from_pretrained(model_name, do_lower_case=True)"
   ]
  },
  {
   "cell_type": "code",
   "execution_count": 4,
   "id": "c3d4a022-6660-4130-9b11-c320f27cdefa",
   "metadata": {},
   "outputs": [],
   "source": [
    "def read_passages(path_data, test_size=0.1):\n",
    "    df = pd.read_csv(path_data)\n",
    "    documents = df['processed'].to_list()\n",
    "    labels_str = df['target'].to_list()\n",
    "    labels_list = sorted(list(set(labels_str)))\n",
    "    labels_all = {l:idx for idx, l in enumerate(labels_list)}\n",
    "    labels = [labels_all[label_str] for label_str in labels_str]\n",
    "    return train_test_split(documents, labels, test_size=test_size), labels_list\n",
    "# end"
   ]
  },
  {
   "cell_type": "code",
   "execution_count": 5,
   "id": "5d950615-e084-4753-a30f-c02f4e5f4e3b",
   "metadata": {},
   "outputs": [],
   "source": [
    "# call the function\n",
    "dir_data = 'data'\n",
    "name_data_file = 'log_content_4_20220201.csv'\n",
    "path_data_relative = os.path.join(dir_data, name_data_file)\n",
    "(train_texts, valid_texts, train_labels, valid_labels), target_names = read_passages(path_data_relative)"
   ]
  },
  {
   "cell_type": "code",
   "execution_count": 6,
   "id": "197caaae-45f3-4c3e-88e6-3c0c4bf9c19d",
   "metadata": {},
   "outputs": [
    {
     "data": {
      "text/plain": [
       "5"
      ]
     },
     "execution_count": 6,
     "metadata": {},
     "output_type": "execute_result"
    }
   ],
   "source": [
    "train_labels[0]"
   ]
  },
  {
   "cell_type": "code",
   "execution_count": 7,
   "id": "bf4c11b0-34df-46fd-b81c-26a13682e059",
   "metadata": {},
   "outputs": [],
   "source": [
    "train_encodings = tokenizer(train_texts, truncation=True, padding=True, max_length=max_length)\n",
    "valid_encodings = tokenizer(valid_texts, truncation=True, padding=True, max_length=max_length)"
   ]
  },
  {
   "cell_type": "code",
   "execution_count": 8,
   "id": "e6c635d7-7eb0-4513-b10d-b3ea53217e75",
   "metadata": {},
   "outputs": [],
   "source": [
    "class NewsGroupsDataset(torch.utils.data.Dataset):\n",
    "    def __init__(self, encodings, labels):\n",
    "        self.encodings = encodings\n",
    "        self.labels = labels\n",
    "\n",
    "    def __getitem__(self, idx):\n",
    "        item = {k: torch.tensor(v[idx]) for k, v in self.encodings.items()}\n",
    "        item[\"labels\"] = torch.tensor([self.labels[idx]])\n",
    "        return item\n",
    "\n",
    "    def __len__(self):\n",
    "        return len(self.labels)"
   ]
  },
  {
   "cell_type": "code",
   "execution_count": 9,
   "id": "896c1278-aa9d-456a-9329-2c5a315d14c5",
   "metadata": {},
   "outputs": [],
   "source": [
    "train_dataset = NewsGroupsDataset(train_encodings, train_labels)\n",
    "valid_dataset = NewsGroupsDataset(valid_encodings, valid_labels)"
   ]
  },
  {
   "cell_type": "code",
   "execution_count": 10,
   "id": "7ea18b82-385c-4897-bcb4-9a4805e8704b",
   "metadata": {},
   "outputs": [
    {
     "name": "stdout",
     "output_type": "stream",
     "text": [
      "load model from official\n"
     ]
    },
    {
     "name": "stderr",
     "output_type": "stream",
     "text": [
      "Some weights of the model checkpoint at distilbert-base-uncased were not used when initializing DistilBertForSequenceClassification: ['vocab_projector.bias', 'vocab_projector.weight', 'vocab_layer_norm.weight', 'vocab_layer_norm.bias', 'vocab_transform.weight', 'vocab_transform.bias']\n",
      "- This IS expected if you are initializing DistilBertForSequenceClassification from the checkpoint of a model trained on another task or with another architecture (e.g. initializing a BertForSequenceClassification model from a BertForPreTraining model).\n",
      "- This IS NOT expected if you are initializing DistilBertForSequenceClassification from the checkpoint of a model that you expect to be exactly identical (initializing a BertForSequenceClassification model from a BertForSequenceClassification model).\n",
      "Some weights of DistilBertForSequenceClassification were not initialized from the model checkpoint at distilbert-base-uncased and are newly initialized: ['pre_classifier.weight', 'classifier.weight', 'pre_classifier.bias', 'classifier.bias']\n",
      "You should probably TRAIN this model on a down-stream task to be able to use it for predictions and inference.\n"
     ]
    }
   ],
   "source": [
    "# model = BertForSequenceClassification.from_pretrained(model_name, num_labels=len(target_names))\n",
    "if len(os.listdir(model_dir)) > 0:\n",
    "    print('load model from local')\n",
    "    model_info = model_dir\n",
    "else:\n",
    "    print('load model from official')\n",
    "    model_info = model_name\n",
    "    \n",
    "model = DistilBertForSequenceClassification.from_pretrained(model_info, num_labels=len(target_names))"
   ]
  },
  {
   "cell_type": "code",
   "execution_count": 11,
   "id": "d2b1702c-ced3-4170-a078-1aff7d98598d",
   "metadata": {},
   "outputs": [],
   "source": [
    "from sklearn.metrics import accuracy_score, precision_score, recall_score, f1_score\n",
    "\n",
    "def compute_metrics(pred):\n",
    "    labels = pred.label_ids.reshape(-1)\n",
    "    # pred = np.argmax(pred, axis=1)\n",
    "    preds = pred.predictions.argmax(-1).reshape(-1)\n",
    "\n",
    "    # print('labels: {}'.format(labels))\n",
    "    # print('pred: {}'.format(preds))\n",
    "    accuracy = accuracy_score(y_true=labels, y_pred=preds)\n",
    "    precision = precision_score(y_true=labels, y_pred=preds, zero_division=1, average='macro')\n",
    "    recall = recall_score(y_true=labels, y_pred=preds, zero_division=1, average='macro')\n",
    "    f1 = f1_score(y_true=labels, y_pred=preds, zero_division=1, average='macro')\n",
    "\n",
    "    return {\"accuracy\": accuracy, \"precision\": precision, \"recall\": recall, \"f1\": f1}"
   ]
  },
  {
   "cell_type": "code",
   "execution_count": 12,
   "id": "5b592a11-8722-40e8-8ad6-ef9f31f3455c",
   "metadata": {},
   "outputs": [],
   "source": [
    "training_args = TrainingArguments(\n",
    "    output_dir='./results',          # output directory\n",
    "    num_train_epochs=20,              # total number of training epochs\n",
    "    per_device_train_batch_size=2,  # batch size per device during training\n",
    "    per_device_eval_batch_size=2,   # batch size for evaluation\n",
    "    warmup_steps=0,                # number of warmup steps for learning rate scheduler\n",
    "    weight_decay=0.01,               # strength of weight decay\n",
    "    logging_dir='./logs',            # directory for storing logs\n",
    "    load_best_model_at_end=True,     # load the best model when finished training (default metric is loss)    # but you can specify `metric_for_best_model` argument to change to accuracy or other metric\n",
    "    logging_steps=1,               # log & save weights each logging_steps\n",
    "    evaluation_strategy=\"epoch\",     # evaluate each `logging_steps`\n",
    "    learning_rate=2e-5,\n",
    "    save_strategy='epoch',\n",
    "    save_total_limit=5,\n",
    "    metric_for_best_model='f1'\n",
    ")"
   ]
  },
  {
   "cell_type": "code",
   "execution_count": 13,
   "id": "debb769a-0bc7-4d6b-a34c-6e57e6760c5f",
   "metadata": {},
   "outputs": [],
   "source": [
    "trainer = Trainer(\n",
    "    model=model,                         # the instantiated Transformers model to be trained\n",
    "    args=training_args,                  # training arguments, defined above\n",
    "    train_dataset=train_dataset,         # training dataset\n",
    "    eval_dataset=valid_dataset,          # evaluation dataset\n",
    "    compute_metrics=compute_metrics,     # the callback that computes metrics of interest\n",
    "    callbacks=[EarlyStoppingCallback(early_stopping_patience=5)]\n",
    ")"
   ]
  },
  {
   "cell_type": "code",
   "execution_count": 14,
   "id": "ffa6a7f1-2255-4c98-9cee-2ed5214b69a6",
   "metadata": {},
   "outputs": [
    {
     "name": "stderr",
     "output_type": "stream",
     "text": [
      "***** Running training *****\n",
      "  Num examples = 855\n",
      "  Num Epochs = 20\n",
      "  Instantaneous batch size per device = 2\n",
      "  Total train batch size (w. parallel, distributed & accumulation) = 2\n",
      "  Gradient Accumulation steps = 1\n",
      "  Total optimization steps = 8560\n"
     ]
    },
    {
     "data": {
      "text/html": [
       "\n",
       "    <div>\n",
       "      \n",
       "      <progress value='4280' max='8560' style='width:300px; height:20px; vertical-align: middle;'></progress>\n",
       "      [4280/8560 21:14 < 21:15, 3.36 it/s, Epoch 10/20]\n",
       "    </div>\n",
       "    <table border=\"1\" class=\"dataframe\">\n",
       "  <thead>\n",
       "    <tr style=\"text-align: left;\">\n",
       "      <th>Epoch</th>\n",
       "      <th>Training Loss</th>\n",
       "      <th>Validation Loss</th>\n",
       "      <th>Accuracy</th>\n",
       "      <th>Precision</th>\n",
       "      <th>Recall</th>\n",
       "      <th>F1</th>\n",
       "    </tr>\n",
       "  </thead>\n",
       "  <tbody>\n",
       "    <tr>\n",
       "      <td>1</td>\n",
       "      <td>0.017200</td>\n",
       "      <td>0.226577</td>\n",
       "      <td>0.958333</td>\n",
       "      <td>0.977778</td>\n",
       "      <td>0.611111</td>\n",
       "      <td>0.621429</td>\n",
       "    </tr>\n",
       "    <tr>\n",
       "      <td>2</td>\n",
       "      <td>0.002900</td>\n",
       "      <td>0.071558</td>\n",
       "      <td>0.989583</td>\n",
       "      <td>0.993827</td>\n",
       "      <td>0.833333</td>\n",
       "      <td>0.830189</td>\n",
       "    </tr>\n",
       "    <tr>\n",
       "      <td>3</td>\n",
       "      <td>0.001300</td>\n",
       "      <td>0.064684</td>\n",
       "      <td>0.989583</td>\n",
       "      <td>0.993827</td>\n",
       "      <td>0.833333</td>\n",
       "      <td>0.830189</td>\n",
       "    </tr>\n",
       "    <tr>\n",
       "      <td>4</td>\n",
       "      <td>0.000600</td>\n",
       "      <td>0.011718</td>\n",
       "      <td>0.989583</td>\n",
       "      <td>0.993827</td>\n",
       "      <td>0.833333</td>\n",
       "      <td>0.830189</td>\n",
       "    </tr>\n",
       "    <tr>\n",
       "      <td>5</td>\n",
       "      <td>0.000200</td>\n",
       "      <td>0.000527</td>\n",
       "      <td>1.000000</td>\n",
       "      <td>1.000000</td>\n",
       "      <td>1.000000</td>\n",
       "      <td>1.000000</td>\n",
       "    </tr>\n",
       "    <tr>\n",
       "      <td>6</td>\n",
       "      <td>0.000400</td>\n",
       "      <td>0.005549</td>\n",
       "      <td>1.000000</td>\n",
       "      <td>1.000000</td>\n",
       "      <td>1.000000</td>\n",
       "      <td>1.000000</td>\n",
       "    </tr>\n",
       "    <tr>\n",
       "      <td>7</td>\n",
       "      <td>0.000300</td>\n",
       "      <td>0.065606</td>\n",
       "      <td>0.989583</td>\n",
       "      <td>0.976190</td>\n",
       "      <td>0.996599</td>\n",
       "      <td>0.985461</td>\n",
       "    </tr>\n",
       "    <tr>\n",
       "      <td>8</td>\n",
       "      <td>0.000200</td>\n",
       "      <td>0.000539</td>\n",
       "      <td>1.000000</td>\n",
       "      <td>1.000000</td>\n",
       "      <td>1.000000</td>\n",
       "      <td>1.000000</td>\n",
       "    </tr>\n",
       "    <tr>\n",
       "      <td>9</td>\n",
       "      <td>0.000100</td>\n",
       "      <td>0.066425</td>\n",
       "      <td>0.979167</td>\n",
       "      <td>0.888889</td>\n",
       "      <td>0.987179</td>\n",
       "      <td>0.910000</td>\n",
       "    </tr>\n",
       "    <tr>\n",
       "      <td>10</td>\n",
       "      <td>0.000100</td>\n",
       "      <td>0.085974</td>\n",
       "      <td>0.979167</td>\n",
       "      <td>0.888889</td>\n",
       "      <td>0.987179</td>\n",
       "      <td>0.910000</td>\n",
       "    </tr>\n",
       "  </tbody>\n",
       "</table><p>"
      ],
      "text/plain": [
       "<IPython.core.display.HTML object>"
      ]
     },
     "metadata": {},
     "output_type": "display_data"
    },
    {
     "name": "stderr",
     "output_type": "stream",
     "text": [
      "***** Running Evaluation *****\n",
      "  Num examples = 96\n",
      "  Batch size = 2\n",
      "Saving model checkpoint to ./results/checkpoint-428\n",
      "Configuration saved in ./results/checkpoint-428/config.json\n",
      "Model weights saved in ./results/checkpoint-428/pytorch_model.bin\n",
      "***** Running Evaluation *****\n",
      "  Num examples = 96\n",
      "  Batch size = 2\n",
      "Saving model checkpoint to ./results/checkpoint-856\n",
      "Configuration saved in ./results/checkpoint-856/config.json\n",
      "Model weights saved in ./results/checkpoint-856/pytorch_model.bin\n",
      "***** Running Evaluation *****\n",
      "  Num examples = 96\n",
      "  Batch size = 2\n",
      "Saving model checkpoint to ./results/checkpoint-1284\n",
      "Configuration saved in ./results/checkpoint-1284/config.json\n",
      "Model weights saved in ./results/checkpoint-1284/pytorch_model.bin\n",
      "***** Running Evaluation *****\n",
      "  Num examples = 96\n",
      "  Batch size = 2\n",
      "Saving model checkpoint to ./results/checkpoint-1712\n",
      "Configuration saved in ./results/checkpoint-1712/config.json\n",
      "Model weights saved in ./results/checkpoint-1712/pytorch_model.bin\n",
      "***** Running Evaluation *****\n",
      "  Num examples = 96\n",
      "  Batch size = 2\n",
      "Saving model checkpoint to ./results/checkpoint-2140\n",
      "Configuration saved in ./results/checkpoint-2140/config.json\n",
      "Model weights saved in ./results/checkpoint-2140/pytorch_model.bin\n",
      "***** Running Evaluation *****\n",
      "  Num examples = 96\n",
      "  Batch size = 2\n",
      "Saving model checkpoint to ./results/checkpoint-2568\n",
      "Configuration saved in ./results/checkpoint-2568/config.json\n",
      "Model weights saved in ./results/checkpoint-2568/pytorch_model.bin\n",
      "Deleting older checkpoint [results/checkpoint-428] due to args.save_total_limit\n",
      "***** Running Evaluation *****\n",
      "  Num examples = 96\n",
      "  Batch size = 2\n",
      "Saving model checkpoint to ./results/checkpoint-2996\n",
      "Configuration saved in ./results/checkpoint-2996/config.json\n",
      "Model weights saved in ./results/checkpoint-2996/pytorch_model.bin\n",
      "Deleting older checkpoint [results/checkpoint-856] due to args.save_total_limit\n",
      "***** Running Evaluation *****\n",
      "  Num examples = 96\n",
      "  Batch size = 2\n",
      "Saving model checkpoint to ./results/checkpoint-3424\n",
      "Configuration saved in ./results/checkpoint-3424/config.json\n",
      "Model weights saved in ./results/checkpoint-3424/pytorch_model.bin\n",
      "Deleting older checkpoint [results/checkpoint-1284] due to args.save_total_limit\n",
      "***** Running Evaluation *****\n",
      "  Num examples = 96\n",
      "  Batch size = 2\n",
      "Saving model checkpoint to ./results/checkpoint-3852\n",
      "Configuration saved in ./results/checkpoint-3852/config.json\n",
      "Model weights saved in ./results/checkpoint-3852/pytorch_model.bin\n",
      "Deleting older checkpoint [results/checkpoint-1712] due to args.save_total_limit\n",
      "***** Running Evaluation *****\n",
      "  Num examples = 96\n",
      "  Batch size = 2\n",
      "Saving model checkpoint to ./results/checkpoint-4280\n",
      "Configuration saved in ./results/checkpoint-4280/config.json\n",
      "Model weights saved in ./results/checkpoint-4280/pytorch_model.bin\n",
      "Deleting older checkpoint [results/checkpoint-2568] due to args.save_total_limit\n",
      "\n",
      "\n",
      "Training completed. Do not forget to share your model on huggingface.co/models =)\n",
      "\n",
      "\n",
      "Loading best model from ./results/checkpoint-2140 (score: 1.0).\n"
     ]
    },
    {
     "data": {
      "text/plain": [
       "TrainOutput(global_step=4280, training_loss=0.14604179442260481, metrics={'train_runtime': 1275.0102, 'train_samples_per_second': 13.412, 'train_steps_per_second': 6.714, 'total_flos': 1132697249740800.0, 'train_loss': 0.14604179442260481, 'epoch': 10.0})"
      ]
     },
     "execution_count": 14,
     "metadata": {},
     "output_type": "execute_result"
    }
   ],
   "source": [
    "trainer.train()"
   ]
  },
  {
   "cell_type": "code",
   "execution_count": 15,
   "id": "70ed2a8c-34d2-4871-8a3a-0e533f3d09e3",
   "metadata": {},
   "outputs": [
    {
     "name": "stderr",
     "output_type": "stream",
     "text": [
      "***** Running Evaluation *****\n",
      "  Num examples = 96\n",
      "  Batch size = 2\n"
     ]
    },
    {
     "data": {
      "text/html": [
       "\n",
       "    <div>\n",
       "      \n",
       "      <progress value='48' max='48' style='width:300px; height:20px; vertical-align: middle;'></progress>\n",
       "      [48/48 00:03]\n",
       "    </div>\n",
       "    "
      ],
      "text/plain": [
       "<IPython.core.display.HTML object>"
      ]
     },
     "metadata": {},
     "output_type": "display_data"
    },
    {
     "data": {
      "text/plain": [
       "{'eval_loss': 0.0005266197840683162,\n",
       " 'eval_accuracy': 1.0,\n",
       " 'eval_precision': 1.0,\n",
       " 'eval_recall': 1.0,\n",
       " 'eval_f1': 1.0,\n",
       " 'eval_runtime': 3.5409,\n",
       " 'eval_samples_per_second': 27.112,\n",
       " 'eval_steps_per_second': 13.556,\n",
       " 'epoch': 10.0}"
      ]
     },
     "execution_count": 15,
     "metadata": {},
     "output_type": "execute_result"
    }
   ],
   "source": [
    "trainer.evaluate()"
   ]
  },
  {
   "cell_type": "code",
   "execution_count": 16,
   "id": "2013c187-af0a-4aa0-b119-122dcc9c4bac",
   "metadata": {},
   "outputs": [
    {
     "name": "stderr",
     "output_type": "stream",
     "text": [
      "Configuration saved in models_target/config.json\n",
      "Model weights saved in models_target/pytorch_model.bin\n"
     ]
    }
   ],
   "source": [
    "model.save_pretrained(model_dir)"
   ]
  },
  {
   "cell_type": "code",
   "execution_count": null,
   "id": "b1be7187-23eb-4970-bbcd-f9bda226e44c",
   "metadata": {},
   "outputs": [],
   "source": []
  }
 ],
 "metadata": {
  "kernelspec": {
   "display_name": "Python 3 (ipykernel)",
   "language": "python",
   "name": "python3"
  },
  "language_info": {
   "codemirror_mode": {
    "name": "ipython",
    "version": 3
   },
   "file_extension": ".py",
   "mimetype": "text/x-python",
   "name": "python",
   "nbconvert_exporter": "python",
   "pygments_lexer": "ipython3",
   "version": "3.9.5"
  }
 },
 "nbformat": 4,
 "nbformat_minor": 5
}
