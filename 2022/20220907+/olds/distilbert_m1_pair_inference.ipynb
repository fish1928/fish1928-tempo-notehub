{
 "cells": [
  {
   "cell_type": "code",
   "execution_count": 1,
   "id": "66a6d8e0-5800-4e55-ae2e-dab30c423b3f",
   "metadata": {},
   "outputs": [],
   "source": [
    "# you get all pretrained model name here\n",
    "# https://huggingface.co/transformers/pretrained_models.html\n",
    "import json\n",
    "import pandas as pd\n",
    "import os\n",
    "import torch\n",
    "import transformers\n",
    "from transformers.file_utils import is_tf_available, is_torch_available, is_torch_tpu_available\n",
    "# from transformers import BertTokenizerFast, BertForSequenceClassification\n",
    "from transformers import DistilBertTokenizerFast, DistilBertForSequenceClassification, EarlyStoppingCallback\n",
    "from transformers import Trainer, TrainingArguments\n",
    "import numpy as np\n",
    "import random\n",
    "from sklearn.datasets import fetch_20newsgroups\n",
    "from sklearn.model_selection import train_test_split"
   ]
  },
  {
   "cell_type": "code",
   "execution_count": 2,
   "id": "2adce6ab-61dd-4ce6-8a19-ae6a376de4ad",
   "metadata": {},
   "outputs": [],
   "source": [
    "# the model we gonna train, base uncased BERT\n",
    "# check text classification models here: https://huggingface.co/models?filter=text-classification\n",
    "# model_name = \"bert-base-uncased\"\n",
    "model_name = \"distilbert-base-uncased\"\n",
    "#model_dir = 'model_esxdeploy_filter_distilbert_1'\n",
    "model_dir = 'model_esxdeploy_filter_distilbert__nonumber_1'\n",
    "path_data = 'datasource/esxdeploy_20220512_ancher_ri_lines_all_nonumber.json'\n",
    "max_length = 512\n",
    "target_names = ['irrelevant','relevant']"
   ]
  },
  {
   "cell_type": "code",
   "execution_count": 3,
   "id": "238edfec-10e7-4a7c-abe1-3a543c40ed2e",
   "metadata": {},
   "outputs": [],
   "source": [
    "tokenizer = DistilBertTokenizerFast.from_pretrained(model_name, do_lower_case=True)"
   ]
  },
  {
   "cell_type": "code",
   "execution_count": 4,
   "id": "0554c2a8-952c-4763-8331-6ac9877346a7",
   "metadata": {},
   "outputs": [],
   "source": [
    "def load_content(path_data):\n",
    "    with open(path_data, 'r') as file:\n",
    "        dict_filename_content = json.load(file)\n",
    "    # end\n",
    "    \n",
    "    return dict_filename_content\n",
    "# edn"
   ]
  },
  {
   "cell_type": "code",
   "execution_count": 5,
   "id": "7ea18b82-385c-4897-bcb4-9a4805e8704b",
   "metadata": {},
   "outputs": [
    {
     "name": "stdout",
     "output_type": "stream",
     "text": [
      "load model from official\n"
     ]
    },
    {
     "name": "stderr",
     "output_type": "stream",
     "text": [
      "Some weights of the model checkpoint at distilbert-base-uncased were not used when initializing DistilBertForSequenceClassification: ['vocab_transform.weight', 'vocab_projector.weight', 'vocab_layer_norm.bias', 'vocab_layer_norm.weight', 'vocab_projector.bias', 'vocab_transform.bias']\n",
      "- This IS expected if you are initializing DistilBertForSequenceClassification from the checkpoint of a model trained on another task or with another architecture (e.g. initializing a BertForSequenceClassification model from a BertForPreTraining model).\n",
      "- This IS NOT expected if you are initializing DistilBertForSequenceClassification from the checkpoint of a model that you expect to be exactly identical (initializing a BertForSequenceClassification model from a BertForSequenceClassification model).\n",
      "Some weights of DistilBertForSequenceClassification were not initialized from the model checkpoint at distilbert-base-uncased and are newly initialized: ['pre_classifier.bias', 'classifier.bias', 'pre_classifier.weight', 'classifier.weight']\n",
      "You should probably TRAIN this model on a down-stream task to be able to use it for predictions and inference.\n"
     ]
    }
   ],
   "source": [
    "# model = BertForSequenceClassification.from_pretrained(model_name, num_labels=len(target_names))\n",
    "if os.path.exists(model_dir) and len(os.listdir(model_dir)) > 0:\n",
    "    print('load model from local')\n",
    "    model_info = model_dir\n",
    "else:\n",
    "    print('load model from official')\n",
    "    model_info = model_name\n",
    "# end\n",
    "\n",
    "model = DistilBertForSequenceClassification.from_pretrained(model_info, num_labels=len(target_names))\n",
    "model = model.cuda()"
   ]
  },
  {
   "cell_type": "code",
   "execution_count": 6,
   "id": "929a6d28-246b-4cd3-8b62-4d9ded834fd7",
   "metadata": {},
   "outputs": [],
   "source": [
    "dict_filename_content = load_content(path_data)"
   ]
  },
  {
   "cell_type": "code",
   "execution_count": 7,
   "id": "3efa9601-fa3c-4a54-91d0-dbc9dc4818a0",
   "metadata": {},
   "outputs": [
    {
     "name": "stdout",
     "output_type": "stream",
     "text": [
      "103\n"
     ]
    }
   ],
   "source": [
    "print(len(dict_filename_content))"
   ]
  },
  {
   "cell_type": "code",
   "execution_count": 8,
   "id": "7ea05acd-e2cd-459a-85bb-91c7757447c2",
   "metadata": {},
   "outputs": [],
   "source": [
    "contents_predicted = []\n",
    "\n",
    "for content in list(dict_filename_content.values()):\n",
    "    content['lines_conf_raw'] = []\n",
    "    content['lines_label'] = []\n",
    "    \n",
    "    ancher = content['lines_target'][-1]\n",
    "    documents = content['lines_target'][:-1]\n",
    "    content['ancher_from_doc'] = ancher\n",
    "    content['lines_target'] = documents\n",
    "    \n",
    "    for document in documents:\n",
    "        pair_sample = (ancher, document)\n",
    "    \n",
    "        input_tokenized = tokenizer.encode_plus(pair_sample, padding=True, truncation=True, max_length=max_length, return_tensors='pt').to('cuda')\n",
    "        with torch.no_grad():\n",
    "            out = model(**input_tokenized, output_hidden_states=True, output_attentions=True)\n",
    "        # end\n",
    "\n",
    "        probas_evaluate = torch.nn.functional.softmax(out.logits, dim=-1)\n",
    "        answer_evaluate = int(probas_evaluate.argmax().cpu())\n",
    "\n",
    "        label_evaluate = target_names[answer_evaluate]\n",
    "        # list_conf.append(max(probas_evaluate.cpu().numpy().tolist()[0]))\n",
    "        content['lines_conf_raw'].append(probas_evaluate.cpu().numpy().tolist()[0])\n",
    "        content['lines_label'].append(label_evaluate)\n",
    "    # end\n",
    "        \n",
    "    contents_predicted.append(content)\n",
    "# end"
   ]
  },
  {
   "cell_type": "code",
   "execution_count": 9,
   "id": "70ed2a8c-34d2-4871-8a3a-0e533f3d09e3",
   "metadata": {},
   "outputs": [],
   "source": [
    "with open('datasource/esxdeploy_20220512_ancher_ri_lines_all_nonumber_predicted_20220707.json', \"w+\") as file:\n",
    "    file.write(json.dumps(contents_predicted, indent=4))\n",
    "# end"
   ]
  },
  {
   "cell_type": "code",
   "execution_count": null,
   "id": "2013c187-af0a-4aa0-b119-122dcc9c4bac",
   "metadata": {},
   "outputs": [],
   "source": []
  },
  {
   "cell_type": "code",
   "execution_count": null,
   "id": "b1be7187-23eb-4970-bbcd-f9bda226e44c",
   "metadata": {},
   "outputs": [],
   "source": []
  }
 ],
 "metadata": {
  "kernelspec": {
   "display_name": "Python 3",
   "language": "python",
   "name": "python3"
  },
  "language_info": {
   "codemirror_mode": {
    "name": "ipython",
    "version": 3
   },
   "file_extension": ".py",
   "mimetype": "text/x-python",
   "name": "python",
   "nbconvert_exporter": "python",
   "pygments_lexer": "ipython3",
   "version": "3.8.8"
  }
 },
 "nbformat": 4,
 "nbformat_minor": 5
}
