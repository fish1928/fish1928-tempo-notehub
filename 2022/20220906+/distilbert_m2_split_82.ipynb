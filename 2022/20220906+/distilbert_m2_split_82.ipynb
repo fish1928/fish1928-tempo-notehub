{
 "cells": [
  {
   "cell_type": "code",
   "execution_count": 1,
   "id": "66a6d8e0-5800-4e55-ae2e-dab30c423b3f",
   "metadata": {},
   "outputs": [],
   "source": [
    "# you get all pretrained model name here\n",
    "# https://huggingface.co/transformers/pretrained_models.html\n",
    "import pandas as pd\n",
    "import os\n",
    "import torch\n",
    "import transformers\n",
    "from transformers.file_utils import is_tf_available, is_torch_available, is_torch_tpu_available\n",
    "# from transformers import BertTokenizerFast, BertForSequenceClassification\n",
    "from transformers import DistilBertTokenizerFast, DistilBertForSequenceClassification, EarlyStoppingCallback\n",
    "from transformers import Trainer, TrainingArguments\n",
    "import numpy as np\n",
    "import random\n",
    "from sklearn.datasets import fetch_20newsgroups\n",
    "from sklearn.model_selection import train_test_split"
   ]
  },
  {
   "cell_type": "code",
   "execution_count": 2,
   "id": "2adce6ab-61dd-4ce6-8a19-ae6a376de4ad",
   "metadata": {},
   "outputs": [],
   "source": [
    "# the model we gonna train, base uncased BERT\n",
    "# check text classification models here: https://huggingface.co/models?filter=text-classification\n",
    "# model_name = \"bert-base-uncased\"\n",
    "model_name = \"distilbert-base-uncased\"\n",
    "model_dir = 'model_82'\n",
    "# max sequence length for each document/sentence sample\n",
    "max_length = 512"
   ]
  },
  {
   "cell_type": "code",
   "execution_count": 3,
   "id": "4ef49596-da0b-4ba2-9157-afa279f76193",
   "metadata": {},
   "outputs": [],
   "source": [
    "# tokenizer = BertTokenizerFast.from_pretrained(model_name, do_lower_case=True)\n",
    "tokenizer = DistilBertTokenizerFast.from_pretrained(model_name, do_lower_case=True)"
   ]
  },
  {
   "cell_type": "code",
   "execution_count": 4,
   "id": "c3d4a022-6660-4130-9b11-c320f27cdefa",
   "metadata": {},
   "outputs": [],
   "source": [
    "def read_passages(path_data,test_size=0.2):\n",
    "    df = pd.read_csv(path_data)\n",
    "\n",
    "    documents = df['processed'].to_list()\n",
    "    labels_str = df['target'].to_list()\n",
    "    \n",
    "    samples = documents\n",
    "    \n",
    "    labels_list = sorted(list(set(labels_str)))\n",
    "    labels_all = {l:idx for idx, l in enumerate(labels_list)}\n",
    "    labels = [labels_all[label_str] for label_str in labels_str]\n",
    "\n",
    "    return train_test_split(samples, labels, test_size=test_size), labels_list\n",
    "# end"
   ]
  },
  {
   "cell_type": "code",
   "execution_count": 5,
   "id": "62ccf01d-49ea-4f8b-8570-7f4e3ac20888",
   "metadata": {},
   "outputs": [],
   "source": [
    "# call the function\n",
    "dir_data = 'datasource'\n",
    "name_data_file = 'goscv_555_202205240000.csv'\n",
    "path_data_relative = os.path.join(dir_data, name_data_file)\n",
    "(train_samples, valid_samples, train_labels, valid_labels), target_names = read_passages(path_data_relative)"
   ]
  },
  {
   "cell_type": "code",
   "execution_count": 6,
   "id": "a4482838-28d7-4fc4-b4d4-52d861463d3d",
   "metadata": {},
   "outputs": [],
   "source": [
    "# train_samples[837]"
   ]
  },
  {
   "cell_type": "code",
   "execution_count": 7,
   "id": "536e29f8-269f-4de8-adb3-a05a16636adc",
   "metadata": {},
   "outputs": [],
   "source": [
    "train_encodings = tokenizer.batch_encode_plus(train_samples, truncation=True, padding=True, max_length=max_length, return_tensors='pt')\n",
    "valid_encodings = tokenizer.batch_encode_plus(valid_samples, truncation=True, padding=True, max_length=max_length, return_tensors='pt')"
   ]
  },
  {
   "cell_type": "code",
   "execution_count": 8,
   "id": "e6c635d7-7eb0-4513-b10d-b3ea53217e75",
   "metadata": {},
   "outputs": [],
   "source": [
    "class SimpleDataset(torch.utils.data.Dataset):\n",
    "    def __init__(self, encodings, labels):\n",
    "        self.encodings = encodings\n",
    "        self.labels = labels\n",
    "\n",
    "    def __getitem__(self, idx):\n",
    "        item = {k: torch.tensor(v[idx]) for k, v in self.encodings.items()}\n",
    "        item[\"labels\"] = torch.tensor([self.labels[idx]])\n",
    "        return item\n",
    "\n",
    "    def __len__(self):\n",
    "        return len(self.labels)"
   ]
  },
  {
   "cell_type": "code",
   "execution_count": 9,
   "id": "896c1278-aa9d-456a-9329-2c5a315d14c5",
   "metadata": {},
   "outputs": [],
   "source": [
    "train_dataset = SimpleDataset(train_encodings, train_labels)\n",
    "valid_dataset = SimpleDataset(valid_encodings, valid_labels)"
   ]
  },
  {
   "cell_type": "code",
   "execution_count": 10,
   "id": "7ea18b82-385c-4897-bcb4-9a4805e8704b",
   "metadata": {},
   "outputs": [
    {
     "name": "stdout",
     "output_type": "stream",
     "text": [
      "load model from official\n"
     ]
    },
    {
     "name": "stderr",
     "output_type": "stream",
     "text": [
      "Some weights of the model checkpoint at distilbert-base-uncased were not used when initializing DistilBertForSequenceClassification: ['vocab_layer_norm.weight', 'vocab_transform.bias', 'vocab_layer_norm.bias', 'vocab_projector.weight', 'vocab_transform.weight', 'vocab_projector.bias']\n",
      "- This IS expected if you are initializing DistilBertForSequenceClassification from the checkpoint of a model trained on another task or with another architecture (e.g. initializing a BertForSequenceClassification model from a BertForPreTraining model).\n",
      "- This IS NOT expected if you are initializing DistilBertForSequenceClassification from the checkpoint of a model that you expect to be exactly identical (initializing a BertForSequenceClassification model from a BertForSequenceClassification model).\n",
      "Some weights of DistilBertForSequenceClassification were not initialized from the model checkpoint at distilbert-base-uncased and are newly initialized: ['classifier.weight', 'pre_classifier.bias', 'pre_classifier.weight', 'classifier.bias']\n",
      "You should probably TRAIN this model on a down-stream task to be able to use it for predictions and inference.\n"
     ]
    }
   ],
   "source": [
    "# model = BertForSequenceClassification.from_pretrained(model_name, num_labels=len(target_names))\n",
    "if os.path.exists(model_dir) and len(os.listdir(model_dir)) > 0:\n",
    "    print('load model from local')\n",
    "    model_info = model_dir\n",
    "else:\n",
    "    print('load model from official')\n",
    "    model_info = model_name\n",
    "    \n",
    "model = DistilBertForSequenceClassification.from_pretrained(model_info, num_labels=len(target_names))"
   ]
  },
  {
   "cell_type": "code",
   "execution_count": 11,
   "id": "d2b1702c-ced3-4170-a078-1aff7d98598d",
   "metadata": {},
   "outputs": [],
   "source": [
    "from sklearn.metrics import accuracy_score, precision_score, recall_score, f1_score\n",
    "\n",
    "def compute_metrics(pred):\n",
    "    labels = pred.label_ids.reshape(-1)\n",
    "    # pred = np.argmax(pred, axis=1)\n",
    "    preds = pred.predictions.argmax(-1).reshape(-1)\n",
    "\n",
    "    # print('labels: {}'.format(labels))\n",
    "    # print('pred: {}'.format(preds))\n",
    "    accuracy = accuracy_score(y_true=labels, y_pred=preds)\n",
    "    precision = precision_score(y_true=labels, y_pred=preds, zero_division=1, average='macro')\n",
    "    recall = recall_score(y_true=labels, y_pred=preds, zero_division=1, average='macro')\n",
    "    f1 = f1_score(y_true=labels, y_pred=preds, zero_division=1, average='macro')\n",
    "\n",
    "    return {\"accuracy\": accuracy, \"precision\": precision, \"recall\": recall, \"f1\": f1}"
   ]
  },
  {
   "cell_type": "code",
   "execution_count": 12,
   "id": "5b592a11-8722-40e8-8ad6-ef9f31f3455c",
   "metadata": {},
   "outputs": [],
   "source": [
    "training_args = TrainingArguments(\n",
    "    output_dir='./results',          # output directory\n",
    "    num_train_epochs=20,              # total number of training epochs\n",
    "    per_device_train_batch_size=2,  # batch size per device during training\n",
    "    per_device_eval_batch_size=2,   # batch size for evaluation\n",
    "    warmup_steps=0,                # number of warmup steps for learning rate scheduler\n",
    "    weight_decay=0.01,               # strength of weight decay\n",
    "    logging_dir='./logs',            # directory for storing logs\n",
    "    load_best_model_at_end=True,     # load the best model when finished training (default metric is loss)    # but you can specify `metric_for_best_model` argument to change to accuracy or other metric\n",
    "    logging_steps=1,               # log & save weights each logging_steps\n",
    "    evaluation_strategy=\"epoch\",     # evaluate each `logging_steps`\n",
    "    learning_rate=2e-5,\n",
    "    save_strategy='epoch',\n",
    "    save_total_limit=10,\n",
    "    metric_for_best_model='f1'\n",
    ")"
   ]
  },
  {
   "cell_type": "code",
   "execution_count": 13,
   "id": "debb769a-0bc7-4d6b-a34c-6e57e6760c5f",
   "metadata": {},
   "outputs": [],
   "source": [
    "# trainer = Trainer(\n",
    "#     model=model,                         # the instantiated Transformers model to be trained\n",
    "#     args=training_args,                  # training arguments, defined above\n",
    "#     train_dataset=train_dataset,         # training dataset\n",
    "#     compute_metrics=compute_metrics,     # the callback that computes metrics of interest\n",
    "#     callbacks=[EarlyStoppingCallback(early_stopping_patience=5)]\n",
    "# )\n",
    "\n",
    "trainer = Trainer(\n",
    "    model=model,                         # the instantiated Transformers model to be trained\n",
    "    args=training_args,                  # training arguments, defined above\n",
    "    train_dataset=train_dataset,         # training dataset\n",
    "    eval_dataset=valid_dataset,          # evaluation dataset\n",
    "    compute_metrics=compute_metrics,     # the callback that computes metrics of interest\n",
    "    callbacks=[EarlyStoppingCallback(early_stopping_patience=5)]\n",
    ")"
   ]
  },
  {
   "cell_type": "code",
   "execution_count": 14,
   "id": "ffa6a7f1-2255-4c98-9cee-2ed5214b69a6",
   "metadata": {},
   "outputs": [
    {
     "name": "stderr",
     "output_type": "stream",
     "text": [
      "/opt/conda/lib/python3.8/site-packages/transformers/optimization.py:306: FutureWarning: This implementation of AdamW is deprecated and will be removed in a future version. Use the PyTorch implementation torch.optim.AdamW instead, or set `no_deprecation_warning=True` to disable this warning\n",
      "  warnings.warn(\n",
      "***** Running training *****\n",
      "  Num examples = 444\n",
      "  Num Epochs = 20\n",
      "  Instantaneous batch size per device = 2\n",
      "  Total train batch size (w. parallel, distributed & accumulation) = 2\n",
      "  Gradient Accumulation steps = 1\n",
      "  Total optimization steps = 4440\n",
      "<ipython-input-8-869644865237>:7: UserWarning: To copy construct from a tensor, it is recommended to use sourceTensor.clone().detach() or sourceTensor.clone().detach().requires_grad_(True), rather than torch.tensor(sourceTensor).\n",
      "  item = {k: torch.tensor(v[idx]) for k, v in self.encodings.items()}\n"
     ]
    },
    {
     "data": {
      "text/html": [
       "\n",
       "    <div>\n",
       "      \n",
       "      <progress value='2220' max='4440' style='width:300px; height:20px; vertical-align: middle;'></progress>\n",
       "      [2220/4440 02:51 < 02:51, 12.91 it/s, Epoch 10/20]\n",
       "    </div>\n",
       "    <table border=\"1\" class=\"dataframe\">\n",
       "  <thead>\n",
       " <tr style=\"text-align: left;\">\n",
       "      <th>Epoch</th>\n",
       "      <th>Training Loss</th>\n",
       "      <th>Validation Loss</th>\n",
       "      <th>Accuracy</th>\n",
       "      <th>Precision</th>\n",
       "      <th>Recall</th>\n",
       "      <th>F1</th>\n",
       "    </tr>\n",
       "  </thead>\n",
       "  <tbody>\n",
       "    <tr>\n",
       "      <td>1</td>\n",
       "      <td>0.204300</td>\n",
       "      <td>0.628014</td>\n",
       "      <td>0.801802</td>\n",
       "      <td>0.888177</td>\n",
       "      <td>0.516035</td>\n",
       "      <td>0.522960</td>\n",
       "    </tr>\n",
       "    <tr>\n",
       "      <td>2</td>\n",
       "      <td>0.009900</td>\n",
       "      <td>0.533582</td>\n",
       "      <td>0.873874</td>\n",
       "      <td>0.936744</td>\n",
       "      <td>0.590260</td>\n",
       "      <td>0.592304</td>\n",
       "    </tr>\n",
       "    <tr>\n",
       "      <td>3</td>\n",
       "      <td>0.003400</td>\n",
       "      <td>0.585582</td>\n",
       "      <td>0.900901</td>\n",
       "      <td>0.863707</td>\n",
       "      <td>0.882395</td>\n",
       "      <td>0.867868</td>\n",
       "    </tr>\n",
       "    <tr>\n",
       "      <td>4</td>\n",
       "      <td>0.014200</td>\n",
       "      <td>0.580460</td>\n",
       "      <td>0.891892</td>\n",
       "      <td>0.845377</td>\n",
       "      <td>0.889610</td>\n",
       "      <td>0.861198</td>\n",
       "    </tr>\n",
       "    <tr>\n",
       "      <td>5</td>\n",
       "      <td>0.006800</td>\n",
       "      <td>0.526650</td>\n",
       "      <td>0.918919</td>\n",
       "      <td>0.881561</td>\n",
       "      <td>0.901515</td>\n",
       "      <td>0.887319</td>\n",
       "    </tr>\n",
       "    <tr>\n",
       "      <td>6</td>\n",
       "      <td>0.001000</td>\n",
       "      <td>0.638449</td>\n",
       "      <td>0.909910</td>\n",
       "      <td>0.880373</td>\n",
       "      <td>0.897547</td>\n",
       "      <td>0.883741</td>\n",
       "    </tr>\n",
       "    <tr>\n",
       "      <td>7</td>\n",
       "      <td>0.001000</td>\n",
       "      <td>0.640448</td>\n",
       "      <td>0.909910</td>\n",
       "      <td>0.868975</td>\n",
       "      <td>0.897547</td>\n",
       "      <td>0.878788</td>\n",
       "    </tr>\n",
       "    <tr>\n",
       "      <td>8</td>\n",
       "      <td>0.001500</td>\n",
       "      <td>0.638431</td>\n",
       "      <td>0.909910</td>\n",
       "      <td>0.866277</td>\n",
       "      <td>0.897547</td>\n",
       "      <td>0.877718</td>\n",
       "    </tr>\n",
       "    <tr>\n",
       "      <td>9</td>\n",
       "      <td>0.000400</td>\n",
       "      <td>0.596725</td>\n",
       "      <td>0.909910</td>\n",
       "      <td>0.865981</td>\n",
       "      <td>0.897547</td>\n",
       "      <td>0.878234</td>\n",
       "    </tr>\n",
       "    <tr>\n",
       "      <td>10</td>\n",
       "      <td>0.007100</td>\n",
       "      <td>0.744424</td>\n",
       "      <td>0.909910</td>\n",
       "      <td>0.880373</td>\n",
       "      <td>0.897547</td>\n",
       "      <td>0.883741</td>\n",
       "    </tr>\n",
       "  </tbody>\n",
       "</table><p>"
      ],
      "text/plain": [
       "<IPython.core.display.HTML object>"
      ]
     },
     "metadata": {},
     "output_type": "display_data"
    },
    {
     "name": "stderr",
     "output_type": "stream",
     "text": [
      "***** Running Evaluation *****\n",
      "  Num examples = 111\n",
      "  Batch size = 2\n",
      "Saving model checkpoint to ./results/checkpoint-222\n",
      "Configuration saved in ./results/checkpoint-222/config.json\n",
      "Model weights saved in ./results/checkpoint-222/pytorch_model.bin\n",
      "Deleting older checkpoint [results/checkpoint-1000] due to args.save_total_limit\n",
      "<ipython-input-8-869644865237>:7: UserWarning: To copy construct from a tensor, it is recommended to use sourceTensor.clone().detach() or sourceTensor.clone().detach().requires_grad_(True), rather than torch.tensor(sourceTensor).\n",
      "  item = {k: torch.tensor(v[idx]) for k, v in self.encodings.items()}\n",
      "***** Running Evaluation *****\n",
      "  Num examples = 111\n",
      "  Batch size = 2\n",
      "Saving model checkpoint to ./results/checkpoint-444\n",
      "Configuration saved in ./results/checkpoint-444/config.json\n",
      "Model weights saved in ./results/checkpoint-444/pytorch_model.bin\n",
      "Deleting older checkpoint [results/checkpoint-1250] due to args.save_total_limit\n",
      "<ipython-input-8-869644865237>:7: UserWarning: To copy construct from a tensor, it is recommended to use sourceTensor.clone().detach() or sourceTensor.clone().detach().requires_grad_(True), rather than torch.tensor(sourceTensor).\n",
      "  item = {k: torch.tensor(v[idx]) for k, v in self.encodings.items()}\n",
      "***** Running Evaluation *****\n",
      "  Num examples = 111\n",
      "  Batch size = 2\n",
      "Saving model checkpoint to ./results/checkpoint-666\n",
      "Configuration saved in ./results/checkpoint-666/config.json\n",
      "Model weights saved in ./results/checkpoint-666/pytorch_model.bin\n",
      "Deleting older checkpoint [results/checkpoint-1500] due to args.save_total_limit\n",
      "<ipython-input-8-869644865237>:7: UserWarning: To copy construct from a tensor, it is recommended to use sourceTensor.clone().detach() or sourceTensor.clone().detach().requires_grad_(True), rather than torch.tensor(sourceTensor).\n",
      "  item = {k: torch.tensor(v[idx]) for k, v in self.encodings.items()}\n",
      "***** Running Evaluation *****\n",
      "  Num examples = 111\n",
      "  Batch size = 2\n",
      "Saving model checkpoint to ./results/checkpoint-888\n",
      "Configuration saved in ./results/checkpoint-888/config.json\n",
      "Model weights saved in ./results/checkpoint-888/pytorch_model.bin\n",
      "Deleting older checkpoint [results/checkpoint-1750] due to args.save_total_limit\n",
      "<ipython-input-8-869644865237>:7: UserWarning: To copy construct from a tensor, it is recommended to use sourceTensor.clone().detach() or sourceTensor.clone().detach().requires_grad_(True), rather than torch.tensor(sourceTensor).\n",
      "  item = {k: torch.tensor(v[idx]) for k, v in self.encodings.items()}\n",
      "***** Running Evaluation *****\n",
      "  Num examples = 111\n",
      "  Batch size = 2\n",
      "Saving model checkpoint to ./results/checkpoint-1110\n",
      "Configuration saved in ./results/checkpoint-1110/config.json\n",
      "Model weights saved in ./results/checkpoint-1110/pytorch_model.bin\n",
      "Deleting older checkpoint [results/checkpoint-2000] due to args.save_total_limit\n",
      "<ipython-input-8-869644865237>:7: UserWarning: To copy construct from a tensor, it is recommended to use sourceTensor.clone().detach() or sourceTensor.clone().detach().requires_grad_(True), rather than torch.tensor(sourceTensor).\n",
      "  item = {k: torch.tensor(v[idx]) for k, v in self.encodings.items()}\n",
      "***** Running Evaluation *****\n",
      "  Num examples = 111\n",
      "  Batch size = 2\n",
      "Saving model checkpoint to ./results/checkpoint-1332\n",
      "Configuration saved in ./results/checkpoint-1332/config.json\n",
      "Model weights saved in ./results/checkpoint-1332/pytorch_model.bin\n",
      "Deleting older checkpoint [results/checkpoint-2250] due to args.save_total_limit\n",
      "<ipython-input-8-869644865237>:7: UserWarning: To copy construct from a tensor, it is recommended to use sourceTensor.clone().detach() or sourceTensor.clone().detach().requires_grad_(True), rather than torch.tensor(sourceTensor).\n",
      "  item = {k: torch.tensor(v[idx]) for k, v in self.encodings.items()}\n",
      "***** Running Evaluation *****\n",
      "  Num examples = 111\n",
      "  Batch size = 2\n",
      "Saving model checkpoint to ./results/checkpoint-1554\n",
      "Configuration saved in ./results/checkpoint-1554/config.json\n",
      "Model weights saved in ./results/checkpoint-1554/pytorch_model.bin\n",
      "Deleting older checkpoint [results/checkpoint-2500] due to args.save_total_limit\n",
      "<ipython-input-8-869644865237>:7: UserWarning: To copy construct from a tensor, it is recommended to use sourceTensor.clone().detach() or sourceTensor.clone().detach().requires_grad_(True), rather than torch.tensor(sourceTensor).\n",
      "  item = {k: torch.tensor(v[idx]) for k, v in self.encodings.items()}\n",
      "***** Running Evaluation *****\n",
      "  Num examples = 111\n",
      "  Batch size = 2\n",
      "Saving model checkpoint to ./results/checkpoint-1776\n",
      "Configuration saved in ./results/checkpoint-1776/config.json\n",
      "Model weights saved in ./results/checkpoint-1776/pytorch_model.bin\n",
      "Deleting older checkpoint [results/checkpoint-2750] due to args.save_total_limit\n",
      "<ipython-input-8-869644865237>:7: UserWarning: To copy construct from a tensor, it is recommended to use sourceTensor.clone().detach() or sourceTensor.clone().detach().requires_grad_(True), rather than torch.tensor(sourceTensor).\n",
      "  item = {k: torch.tensor(v[idx]) for k, v in self.encodings.items()}\n",
      "***** Running Evaluation *****\n",
      "  Num examples = 111\n",
      "  Batch size = 2\n",
      "Saving model checkpoint to ./results/checkpoint-1998\n",
      "Configuration saved in ./results/checkpoint-1998/config.json\n",
      "Model weights saved in ./results/checkpoint-1998/pytorch_model.bin\n",
      "Deleting older checkpoint [results/checkpoint-3000] due to args.save_total_limit\n",
      "<ipython-input-8-869644865237>:7: UserWarning: To copy construct from a tensor, it is recommended to use sourceTensor.clone().detach() or sourceTensor.clone().detach().requires_grad_(True), rather than torch.tensor(sourceTensor).\n",
      "  item = {k: torch.tensor(v[idx]) for k, v in self.encodings.items()}\n",
      "***** Running Evaluation *****\n",
      "  Num examples = 111\n",
      "  Batch size = 2\n",
      "Saving model checkpoint to ./results/checkpoint-2220\n",
      "Configuration saved in ./results/checkpoint-2220/config.json\n",
      "Model weights saved in ./results/checkpoint-2220/pytorch_model.bin\n",
      "Deleting older checkpoint [results/checkpoint-3250] due to args.save_total_limit\n",
      "\n",
      "\n",
      "Training completed. Do not forget to share your model on huggingface.co/models =)\n",
      "\n",
      "\n",
      "Loading best model from ./results/checkpoint-1110 (score: 0.887319030176173).\n"
     ]
    },
    {
     "data": {
      "text/plain": [
       "TrainOutput(global_step=2220, training_loss=0.27347839178943795, metrics={'train_runtime': 172.2182, 'train_samples_per_second': 51.563, 'train_steps_per_second': 25.781, 'total_flos': 588207694602240.0, 'train_loss': 0.27347839178943795, 'epoch': 10.0})"
      ]
     },
     "execution_count": 14,
     "metadata": {},
     "output_type": "execute_result"
    }
   ],
   "source": [
    "trainer.train()"
   ]
  },
  {
   "cell_type": "code",
   "execution_count": 15,
   "id": "70ed2a8c-34d2-4871-8a3a-0e533f3d09e3",
   "metadata": {},
   "outputs": [
    {
     "name": "stderr",
     "output_type": "stream",
     "text": [
      "***** Running Evaluation *****\n",
      "  Num examples = 111\n",
      "  Batch size = 2\n",
      "<ipython-input-8-869644865237>:7: UserWarning: To copy construct from a tensor, it is recommended to use sourceTensor.clone().detach() or sourceTensor.clone().detach().requires_grad_(True), rather than torch.tensor(sourceTensor).\n",
      "  item = {k: torch.tensor(v[idx]) for k, v in self.encodings.items()}\n"
     ]
    },
    {
     "data": {
      "text/html": [
       "\n",
       "    <div>\n",
       "      \n",
       "      <progress value='56' max='56' style='width:300px; height:20px; vertical-align: middle;'></progress>\n",
       "      [56/56 00:00]\n",
       "    </div>\n",
       "    "
      ],
      "text/plain": [
       "<IPython.core.display.HTML object>"
      ]
     },
     "metadata": {},
     "output_type": "display_data"
    },
    {
     "data": {
      "text/plain": [
       "{'eval_loss': 0.5266498327255249,\n",
       " 'eval_accuracy': 0.918918918918919,\n",
       " 'eval_precision': 0.8815608465608465,\n",
       " 'eval_recall': 0.9015151515151515,\n",
       " 'eval_f1': 0.887319030176173,\n",
       " 'eval_runtime': 0.794,\n",
       " 'eval_samples_per_second': 139.791,\n",
       " 'eval_steps_per_second': 70.525,\n",
       " 'epoch': 10.0}"
      ]
     },
     "execution_count": 15,
     "metadata": {},
     "output_type": "execute_result"
    }
   ],
   "source": [
    "trainer.evaluate()"
   ]
  },
  {
   "cell_type": "code",
   "execution_count": 16,
   "id": "2013c187-af0a-4aa0-b119-122dcc9c4bac",
   "metadata": {},
   "outputs": [
    {
     "name": "stderr",
     "output_type": "stream",
     "text": [
      "Configuration saved in model_82/config.json\n",
      "Model weights saved in model_82/pytorch_model.bin\n"
     ]
    }
   ],
   "source": [
    "model.save_pretrained(model_dir)"
   ]
  },
  {
   "cell_type": "code",
   "execution_count": 17,
   "id": "b1be7187-23eb-4970-bbcd-f9bda226e44c",
   "metadata": {},
   "outputs": [],
   "source": [
    "import json\n",
    "with open(f'{model_dir}/labels.json', 'w+') as file:\n",
    "    file.write(json.dumps(target_names))"
   ]
  }
 ],
 "metadata": {
  "kernelspec": {
   "display_name": "Python 3",
   "language": "python",
   "name": "python3"
  },
  "language_info": {
   "codemirror_mode": {
    "name": "ipython",
    "version": 3
   },
   "file_extension": ".py",
   "mimetype": "text/x-python",
   "name": "python",
   "nbconvert_exporter": "python",
   "pygments_lexer": "ipython3",
   "version": "3.8.8"
  }
 },
 "nbformat": 4,
 "nbformat_minor": 5
}
