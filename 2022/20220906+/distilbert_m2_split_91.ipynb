{
 "cells": [
  {
   "cell_type": "code",
   "execution_count": 1,
   "id": "66a6d8e0-5800-4e55-ae2e-dab30c423b3f",
   "metadata": {},
   "outputs": [],
   "source": [
    "# you get all pretrained model name here\n",
    "# https://huggingface.co/transformers/pretrained_models.html\n",
    "import pandas as pd\n",
    "import os\n",
    "import torch\n",
    "import transformers\n",
    "from transformers.file_utils import is_tf_available, is_torch_available, is_torch_tpu_available\n",
    "# from transformers import BertTokenizerFast, BertForSequenceClassification\n",
    "from transformers import DistilBertTokenizerFast, DistilBertForSequenceClassification, EarlyStoppingCallback\n",
    "from transformers import Trainer, TrainingArguments\n",
    "import numpy as np\n",
    "import random\n",
    "from sklearn.datasets import fetch_20newsgroups\n",
    "from sklearn.model_selection import train_test_split"
   ]
  },
  {
   "cell_type": "code",
   "execution_count": 2,
   "id": "2adce6ab-61dd-4ce6-8a19-ae6a376de4ad",
   "metadata": {},
   "outputs": [],
   "source": [
    "# the model we gonna train, base uncased BERT\n",
    "# check text classification models here: https://huggingface.co/models?filter=text-classification\n",
    "# model_name = \"bert-base-uncased\"\n",
    "model_name = \"distilbert-base-uncased\"\n",
    "model_dir = 'model_91'\n",
    "# max sequence length for each document/sentence sample\n",
    "max_length = 512"
   ]
  },
  {
   "cell_type": "code",
   "execution_count": 3,
   "id": "4ef49596-da0b-4ba2-9157-afa279f76193",
   "metadata": {},
   "outputs": [],
   "source": [
    "# tokenizer = BertTokenizerFast.from_pretrained(model_name, do_lower_case=True)\n",
    "tokenizer = DistilBertTokenizerFast.from_pretrained(model_name, do_lower_case=True)"
   ]
  },
  {
   "cell_type": "code",
   "execution_count": 4,
   "id": "c3d4a022-6660-4130-9b11-c320f27cdefa",
   "metadata": {},
   "outputs": [],
   "source": [
    "def read_passages(path_data,test_size=0.1):\n",
    "    df = pd.read_csv(path_data)\n",
    "\n",
    "    documents = df['processed'].to_list()\n",
    "    labels_str = df['target'].to_list()\n",
    "    \n",
    "    samples = documents\n",
    "    \n",
    "    labels_list = sorted(list(set(labels_str)))\n",
    "    labels_all = {l:idx for idx, l in enumerate(labels_list)}\n",
    "    labels = [labels_all[label_str] for label_str in labels_str]\n",
    "\n",
    "    return train_test_split(samples, labels, test_size=test_size), labels_list\n",
    "# end"
   ]
  },
  {
   "cell_type": "code",
   "execution_count": 5,
   "id": "62ccf01d-49ea-4f8b-8570-7f4e3ac20888",
   "metadata": {},
   "outputs": [],
   "source": [
    "# call the function\n",
    "dir_data = 'datasource'\n",
    "name_data_file = 'goscv_555_202205240000.csv'\n",
    "path_data_relative = os.path.join(dir_data, name_data_file)\n",
    "(train_samples, valid_samples, train_labels, valid_labels), target_names = read_passages(path_data_relative)"
   ]
  },
  {
   "cell_type": "code",
   "execution_count": 6,
   "id": "a4482838-28d7-4fc4-b4d4-52d861463d3d",
   "metadata": {},
   "outputs": [],
   "source": [
    "# train_samples[837]"
   ]
  },
  {
   "cell_type": "code",
   "execution_count": 7,
   "id": "536e29f8-269f-4de8-adb3-a05a16636adc",
   "metadata": {},
   "outputs": [],
   "source": [
    "train_encodings = tokenizer.batch_encode_plus(train_samples, truncation=True, padding=True, max_length=max_length, return_tensors='pt')\n",
    "valid_encodings = tokenizer.batch_encode_plus(valid_samples, truncation=True, padding=True, max_length=max_length, return_tensors='pt')"
   ]
  },
  {
   "cell_type": "code",
   "execution_count": 8,
   "id": "e6c635d7-7eb0-4513-b10d-b3ea53217e75",
   "metadata": {},
   "outputs": [],
   "source": [
    "class SimpleDataset(torch.utils.data.Dataset):\n",
    "    def __init__(self, encodings, labels):\n",
    "        self.encodings = encodings\n",
    "        self.labels = labels\n",
    "\n",
    "    def __getitem__(self, idx):\n",
    "        item = {k: torch.tensor(v[idx]) for k, v in self.encodings.items()}\n",
    "        item[\"labels\"] = torch.tensor([self.labels[idx]])\n",
    "        return item\n",
    "\n",
    "    def __len__(self):\n",
    "        return len(self.labels)"
   ]
  },
  {
   "cell_type": "code",
   "execution_count": 9,
   "id": "896c1278-aa9d-456a-9329-2c5a315d14c5",
   "metadata": {},
   "outputs": [],
   "source": [
    "train_dataset = SimpleDataset(train_encodings, train_labels)\n",
    "valid_dataset = SimpleDataset(valid_encodings, valid_labels)"
   ]
  },
  {
   "cell_type": "code",
   "execution_count": 10,
   "id": "7ea18b82-385c-4897-bcb4-9a4805e8704b",
   "metadata": {},
   "outputs": [
    {
     "name": "stdout",
     "output_type": "stream",
     "text": [
      "load model from official\n"
     ]
    },
    {
     "name": "stderr",
     "output_type": "stream",
     "text": [
      "Some weights of the model checkpoint at distilbert-base-uncased were not used when initializing DistilBertForSequenceClassification: ['vocab_transform.weight', 'vocab_layer_norm.weight', 'vocab_projector.weight', 'vocab_projector.bias', 'vocab_transform.bias', 'vocab_layer_norm.bias']\n",
      "- This IS expected if you are initializing DistilBertForSequenceClassification from the checkpoint of a model trained on another task or with another architecture (e.g. initializing a BertForSequenceClassification model from a BertForPreTraining model).\n",
      "- This IS NOT expected if you are initializing DistilBertForSequenceClassification from the checkpoint of a model that you expect to be exactly identical (initializing a BertForSequenceClassification model from a BertForSequenceClassification model).\n",
      "Some weights of DistilBertForSequenceClassification were not initialized from the model checkpoint at distilbert-base-uncased and are newly initialized: ['pre_classifier.weight', 'pre_classifier.bias', 'classifier.bias', 'classifier.weight']\n",
      "You should probably TRAIN this model on a down-stream task to be able to use it for predictions and inference.\n"
     ]
    }
   ],
   "source": [
    "# model = BertForSequenceClassification.from_pretrained(model_name, num_labels=len(target_names))\n",
    "if os.path.exists(model_dir) and len(os.listdir(model_dir)) > 0:\n",
    "    print('load model from local')\n",
    "    model_info = model_dir\n",
    "else:\n",
    "    print('load model from official')\n",
    "    model_info = model_name\n",
    "    \n",
    "model = DistilBertForSequenceClassification.from_pretrained(model_info, num_labels=len(target_names))"
   ]
  },
  {
   "cell_type": "code",
   "execution_count": 11,
   "id": "d2b1702c-ced3-4170-a078-1aff7d98598d",
   "metadata": {},
   "outputs": [],
   "source": [
    "from sklearn.metrics import accuracy_score, precision_score, recall_score, f1_score\n",
    "\n",
    "def compute_metrics(pred):\n",
    "    labels = pred.label_ids.reshape(-1)\n",
    "    # pred = np.argmax(pred, axis=1)\n",
    "    preds = pred.predictions.argmax(-1).reshape(-1)\n",
    "\n",
    "    # print('labels: {}'.format(labels))\n",
    "    # print('pred: {}'.format(preds))\n",
    "    accuracy = accuracy_score(y_true=labels, y_pred=preds)\n",
    "    precision = precision_score(y_true=labels, y_pred=preds, zero_division=1, average='macro')\n",
    "    recall = recall_score(y_true=labels, y_pred=preds, zero_division=1, average='macro')\n",
    "    f1 = f1_score(y_true=labels, y_pred=preds, zero_division=1, average='macro')\n",
    "\n",
    "    return {\"accuracy\": accuracy, \"precision\": precision, \"recall\": recall, \"f1\": f1}"
   ]
  },
  {
   "cell_type": "code",
   "execution_count": 12,
   "id": "5b592a11-8722-40e8-8ad6-ef9f31f3455c",
   "metadata": {},
   "outputs": [],
   "source": [
    "training_args = TrainingArguments(\n",
    "    output_dir='./results',          # output directory\n",
    "    num_train_epochs=25,              # total number of training epochs\n",
    "    per_device_train_batch_size=2,  # batch size per device during training\n",
    "    per_device_eval_batch_size=2,   # batch size for evaluation\n",
    "    warmup_steps=0,                # number of warmup steps for learning rate scheduler\n",
    "    weight_decay=0.01,               # strength of weight decay\n",
    "    logging_dir='./logs',            # directory for storing logs\n",
    "    load_best_model_at_end=True,     # load the best model when finished training (default metric is loss)    # but you can specify `metric_for_best_model` argument to change to accuracy or other metric\n",
    "    logging_steps=1,               # log & save weights each logging_steps\n",
    "    evaluation_strategy=\"epoch\",     # evaluate each `logging_steps`\n",
    "    learning_rate=2e-5,\n",
    "    save_strategy='epoch',\n",
    "    save_total_limit=10,\n",
    "    metric_for_best_model='f1'\n",
    ")"
   ]
  },
  {
   "cell_type": "code",
   "execution_count": 13,
   "id": "debb769a-0bc7-4d6b-a34c-6e57e6760c5f",
   "metadata": {},
   "outputs": [],
   "source": [
    "# trainer = Trainer(\n",
    "#     model=model,                         # the instantiated Transformers model to be trained\n",
    "#     args=training_args,                  # training arguments, defined above\n",
    "#     train_dataset=train_dataset,         # training dataset\n",
    "#     compute_metrics=compute_metrics,     # the callback that computes metrics of interest\n",
    "#     callbacks=[EarlyStoppingCallback(early_stopping_patience=5)]\n",
    "# )\n",
    "\n",
    "trainer = Trainer(\n",
    "    model=model,                         # the instantiated Transformers model to be trained\n",
    "    args=training_args,                  # training arguments, defined above\n",
    "    train_dataset=train_dataset,         # training dataset\n",
    "    eval_dataset=valid_dataset,          # evaluation dataset\n",
    "    compute_metrics=compute_metrics,     # the callback that computes metrics of interest\n",
    "    callbacks=[EarlyStoppingCallback(early_stopping_patience=10)]\n",
    ")"
   ]
  },
  {
   "cell_type": "code",
   "execution_count": 14,
   "id": "ffa6a7f1-2255-4c98-9cee-2ed5214b69a6",
   "metadata": {},
   "outputs": [
    {
     "name": "stderr",
     "output_type": "stream",
     "text": [
      "/opt/conda/lib/python3.8/site-packages/transformers/optimization.py:407: FutureWarning: This implementation of AdamW is deprecated and will be removed in a future version. Use the PyTorch implementation torch.optim.AdamW instead, or set `no_deprecation_warning=True` to disable this warning\n",
      "  warnings.warn(\n",
      "<ipython-input-8-869644865237>:7: UserWarning: To copy construct from a tensor, it is recommended to use sourceTensor.clone().detach() or sourceTensor.clone().detach().requires_grad_(True), rather than torch.tensor(sourceTensor).\n",
      "  item = {k: torch.tensor(v[idx]) for k, v in self.encodings.items()}\n"
     ]
    },
    {
     "data": {
      "text/html": [
       "\n",
       "    <div>\n",
       "      \n",
       "      <progress value='5250' max='6250' style='width:300px; height:20px; vertical-align: middle;'></progress>\n",
       "      [5250/6250 08:23 < 01:35, 10.43 it/s, Epoch 21/25]\n",
       "    </div>\n",
       "    <table border=\"1\" class=\"dataframe\">\n",
       "  <thead>\n",
       " <tr style=\"text-align: left;\">\n",
       "      <th>Epoch</th>\n",
       "      <th>Training Loss</th>\n",
       "      <th>Validation Loss</th>\n",
       "      <th>Accuracy</th>\n",
       "      <th>Precision</th>\n",
       "      <th>Recall</th>\n",
       "      <th>F1</th>\n",
       "    </tr>\n",
       "  </thead>\n",
       "  <tbody>\n",
       "    <tr>\n",
       "      <td>1</td>\n",
       "      <td>1.108600</td>\n",
       "      <td>0.732795</td>\n",
       "      <td>0.785714</td>\n",
       "      <td>0.916190</td>\n",
       "      <td>0.503532</td>\n",
       "      <td>0.487906</td>\n",
       "    </tr>\n",
       "    <tr>\n",
       "      <td>2</td>\n",
       "      <td>0.009000</td>\n",
       "      <td>0.665781</td>\n",
       "      <td>0.875000</td>\n",
       "      <td>0.945959</td>\n",
       "      <td>0.687275</td>\n",
       "      <td>0.669222</td>\n",
       "    </tr>\n",
       "    <tr>\n",
       "      <td>3</td>\n",
       "      <td>0.108900</td>\n",
       "      <td>0.535623</td>\n",
       "      <td>0.892857</td>\n",
       "      <td>0.927444</td>\n",
       "      <td>0.826761</td>\n",
       "      <td>0.803328</td>\n",
       "    </tr>\n",
       "    <tr>\n",
       "      <td>4</td>\n",
       "      <td>0.000900</td>\n",
       "      <td>0.661266</td>\n",
       "      <td>0.875000</td>\n",
       "      <td>0.917857</td>\n",
       "      <td>0.818358</td>\n",
       "      <td>0.794195</td>\n",
       "    </tr>\n",
       "    <tr>\n",
       "      <td>5</td>\n",
       "      <td>0.001600</td>\n",
       "      <td>0.611147</td>\n",
       "      <td>0.910714</td>\n",
       "      <td>0.935043</td>\n",
       "      <td>0.837750</td>\n",
       "      <td>0.813110</td>\n",
       "    </tr>\n",
       "    <tr>\n",
       "      <td>6</td>\n",
       "      <td>0.007300</td>\n",
       "      <td>0.627615</td>\n",
       "      <td>0.910714</td>\n",
       "      <td>0.935043</td>\n",
       "      <td>0.837750</td>\n",
       "      <td>0.813110</td>\n",
       "    </tr>\n",
       "    <tr>\n",
       "      <td>7</td>\n",
       "      <td>0.001200</td>\n",
       "      <td>0.519851</td>\n",
       "      <td>0.910714</td>\n",
       "      <td>0.954347</td>\n",
       "      <td>0.876966</td>\n",
       "      <td>0.891252</td>\n",
       "    </tr>\n",
       "    <tr>\n",
       "      <td>8</td>\n",
       "      <td>0.000400</td>\n",
       "      <td>0.598014</td>\n",
       "      <td>0.892857</td>\n",
       "      <td>0.947344</td>\n",
       "      <td>0.829347</td>\n",
       "      <td>0.816222</td>\n",
       "    </tr>\n",
       "    <tr>\n",
       "      <td>9</td>\n",
       "      <td>0.000800</td>\n",
       "      <td>0.608599</td>\n",
       "      <td>0.910714</td>\n",
       "      <td>0.954347</td>\n",
       "      <td>0.876966</td>\n",
       "      <td>0.891252</td>\n",
       "    </tr>\n",
       "    <tr>\n",
       "      <td>10</td>\n",
       "      <td>0.000400</td>\n",
       "      <td>0.642215</td>\n",
       "      <td>0.910714</td>\n",
       "      <td>0.954347</td>\n",
       "      <td>0.876966</td>\n",
       "      <td>0.891252</td>\n",
       "    </tr>\n",
       "    <tr>\n",
       "      <td>11</td>\n",
       "      <td>0.000200</td>\n",
       "      <td>0.591720</td>\n",
       "      <td>0.928571</td>\n",
       "      <td>0.962225</td>\n",
       "      <td>0.924585</td>\n",
       "      <td>0.937929</td>\n",
       "    </tr>\n",
       "    <tr>\n",
       "      <td>12</td>\n",
       "      <td>0.000400</td>\n",
       "      <td>0.584930</td>\n",
       "      <td>0.928571</td>\n",
       "      <td>0.962225</td>\n",
       "      <td>0.924585</td>\n",
       "      <td>0.937929</td>\n",
       "    </tr>\n",
       "    <tr>\n",
       "      <td>13</td>\n",
       "      <td>0.000200</td>\n",
       "      <td>0.589315</td>\n",
       "      <td>0.928571</td>\n",
       "      <td>0.962225</td>\n",
       "      <td>0.924585</td>\n",
       "      <td>0.937929</td>\n",
       "    </tr>\n",
       "    <tr>\n",
       "      <td>14</td>\n",
       "      <td>0.000100</td>\n",
       "      <td>0.634009</td>\n",
       "      <td>0.910714</td>\n",
       "      <td>0.954347</td>\n",
       "      <td>0.876966</td>\n",
       "      <td>0.891252</td>\n",
       "    </tr>\n",
       "    <tr>\n",
       "      <td>15</td>\n",
       "      <td>0.000200</td>\n",
       "      <td>0.649730</td>\n",
       "      <td>0.928571</td>\n",
       "      <td>0.962225</td>\n",
       "      <td>0.924585</td>\n",
       "      <td>0.937929</td>\n",
       "    </tr>\n",
       "    <tr>\n",
       "      <td>16</td>\n",
       "      <td>0.000100</td>\n",
       "      <td>0.635558</td>\n",
       "      <td>0.928571</td>\n",
       "      <td>0.962225</td>\n",
       "      <td>0.924585</td>\n",
       "      <td>0.937929</td>\n",
       "    </tr>\n",
       "    <tr>\n",
       "      <td>17</td>\n",
       "      <td>0.000200</td>\n",
       "      <td>0.617176</td>\n",
       "      <td>0.928571</td>\n",
       "      <td>0.962225</td>\n",
       "      <td>0.924585</td>\n",
       "      <td>0.937929</td>\n",
       "    </tr>\n",
       "    <tr>\n",
       "      <td>18</td>\n",
       "      <td>0.002000</td>\n",
       "      <td>0.715354</td>\n",
       "      <td>0.910714</td>\n",
       "      <td>0.954347</td>\n",
       "      <td>0.876966</td>\n",
       "      <td>0.891252</td>\n",
       "    </tr>\n",
       "    <tr>\n",
       "      <td>19</td>\n",
       "      <td>7.349400</td>\n",
       "      <td>0.725215</td>\n",
       "      <td>0.910714</td>\n",
       "      <td>0.954347</td>\n",
       "      <td>0.876966</td>\n",
       "      <td>0.891252</td>\n",
       "    </tr>\n",
       "    <tr>\n",
       "      <td>20</td>\n",
       "      <td>0.000000</td>\n",
       "      <td>0.643589</td>\n",
       "      <td>0.928571</td>\n",
       "      <td>0.962225</td>\n",
       "      <td>0.924585</td>\n",
       "      <td>0.937929</td>\n",
       "    </tr>\n",
       "    <tr>\n",
       "      <td>21</td>\n",
       "      <td>0.001300</td>\n",
       "      <td>0.631139</td>\n",
       "      <td>0.928571</td>\n",
       "      <td>0.962225</td>\n",
       "      <td>0.924585</td>\n",
       "      <td>0.937929</td>\n",
       "    </tr>\n",
       "  </tbody>\n",
       "</table><p>"
      ],
      "text/plain": [
       "<IPython.core.display.HTML object>"
      ]
     },
     "metadata": {},
     "output_type": "display_data"
    },
    {
     "name": "stderr",
     "output_type": "stream",
     "text": [
      "<ipython-input-8-869644865237>:7: UserWarning: To copy construct from a tensor, it is recommended to use sourceTensor.clone().detach() or sourceTensor.clone().detach().requires_grad_(True), rather than torch.tensor(sourceTensor).\n",
      "  item = {k: torch.tensor(v[idx]) for k, v in self.encodings.items()}\n",
      "<ipython-input-8-869644865237>:7: UserWarning: To copy construct from a tensor, it is recommended to use sourceTensor.clone().detach() or sourceTensor.clone().detach().requires_grad_(True), rather than torch.tensor(sourceTensor).\n",
      "  item = {k: torch.tensor(v[idx]) for k, v in self.encodings.items()}\n",
      "<ipython-input-8-869644865237>:7: UserWarning: To copy construct from a tensor, it is recommended to use sourceTensor.clone().detach() or sourceTensor.clone().detach().requires_grad_(True), rather than torch.tensor(sourceTensor).\n",
      "  item = {k: torch.tensor(v[idx]) for k, v in self.encodings.items()}\n",
      "<ipython-input-8-869644865237>:7: UserWarning: To copy construct from a tensor, it is recommended to use sourceTensor.clone().detach() or sourceTensor.clone().detach().requires_grad_(True), rather than torch.tensor(sourceTensor).\n",
      "  item = {k: torch.tensor(v[idx]) for k, v in self.encodings.items()}\n",
      "<ipython-input-8-869644865237>:7: UserWarning: To copy construct from a tensor, it is recommended to use sourceTensor.clone().detach() or sourceTensor.clone().detach().requires_grad_(True), rather than torch.tensor(sourceTensor).\n",
      "  item = {k: torch.tensor(v[idx]) for k, v in self.encodings.items()}\n",
      "<ipython-input-8-869644865237>:7: UserWarning: To copy construct from a tensor, it is recommended to use sourceTensor.clone().detach() or sourceTensor.clone().detach().requires_grad_(True), rather than torch.tensor(sourceTensor).\n",
      "  item = {k: torch.tensor(v[idx]) for k, v in self.encodings.items()}\n",
      "<ipython-input-8-869644865237>:7: UserWarning: To copy construct from a tensor, it is recommended to use sourceTensor.clone().detach() or sourceTensor.clone().detach().requires_grad_(True), rather than torch.tensor(sourceTensor).\n",
      "  item = {k: torch.tensor(v[idx]) for k, v in self.encodings.items()}\n",
      "<ipython-input-8-869644865237>:7: UserWarning: To copy construct from a tensor, it is recommended to use sourceTensor.clone().detach() or sourceTensor.clone().detach().requires_grad_(True), rather than torch.tensor(sourceTensor).\n",
      "  item = {k: torch.tensor(v[idx]) for k, v in self.encodings.items()}\n",
      "<ipython-input-8-869644865237>:7: UserWarning: To copy construct from a tensor, it is recommended to use sourceTensor.clone().detach() or sourceTensor.clone().detach().requires_grad_(True), rather than torch.tensor(sourceTensor).\n",
      "  item = {k: torch.tensor(v[idx]) for k, v in self.encodings.items()}\n",
      "<ipython-input-8-869644865237>:7: UserWarning: To copy construct from a tensor, it is recommended to use sourceTensor.clone().detach() or sourceTensor.clone().detach().requires_grad_(True), rather than torch.tensor(sourceTensor).\n",
      "  item = {k: torch.tensor(v[idx]) for k, v in self.encodings.items()}\n",
      "<ipython-input-8-869644865237>:7: UserWarning: To copy construct from a tensor, it is recommended to use sourceTensor.clone().detach() or sourceTensor.clone().detach().requires_grad_(True), rather than torch.tensor(sourceTensor).\n",
      "  item = {k: torch.tensor(v[idx]) for k, v in self.encodings.items()}\n",
      "<ipython-input-8-869644865237>:7: UserWarning: To copy construct from a tensor, it is recommended to use sourceTensor.clone().detach() or sourceTensor.clone().detach().requires_grad_(True), rather than torch.tensor(sourceTensor).\n",
      "  item = {k: torch.tensor(v[idx]) for k, v in self.encodings.items()}\n",
      "<ipython-input-8-869644865237>:7: UserWarning: To copy construct from a tensor, it is recommended to use sourceTensor.clone().detach() or sourceTensor.clone().detach().requires_grad_(True), rather than torch.tensor(sourceTensor).\n",
      "  item = {k: torch.tensor(v[idx]) for k, v in self.encodings.items()}\n",
      "<ipython-input-8-869644865237>:7: UserWarning: To copy construct from a tensor, it is recommended to use sourceTensor.clone().detach() or sourceTensor.clone().detach().requires_grad_(True), rather than torch.tensor(sourceTensor).\n",
      "  item = {k: torch.tensor(v[idx]) for k, v in self.encodings.items()}\n",
      "<ipython-input-8-869644865237>:7: UserWarning: To copy construct from a tensor, it is recommended to use sourceTensor.clone().detach() or sourceTensor.clone().detach().requires_grad_(True), rather than torch.tensor(sourceTensor).\n",
      "  item = {k: torch.tensor(v[idx]) for k, v in self.encodings.items()}\n",
      "<ipython-input-8-869644865237>:7: UserWarning: To copy construct from a tensor, it is recommended to use sourceTensor.clone().detach() or sourceTensor.clone().detach().requires_grad_(True), rather than torch.tensor(sourceTensor).\n",
      "  item = {k: torch.tensor(v[idx]) for k, v in self.encodings.items()}\n",
      "<ipython-input-8-869644865237>:7: UserWarning: To copy construct from a tensor, it is recommended to use sourceTensor.clone().detach() or sourceTensor.clone().detach().requires_grad_(True), rather than torch.tensor(sourceTensor).\n",
      "  item = {k: torch.tensor(v[idx]) for k, v in self.encodings.items()}\n",
      "<ipython-input-8-869644865237>:7: UserWarning: To copy construct from a tensor, it is recommended to use sourceTensor.clone().detach() or sourceTensor.clone().detach().requires_grad_(True), rather than torch.tensor(sourceTensor).\n",
      "  item = {k: torch.tensor(v[idx]) for k, v in self.encodings.items()}\n",
      "<ipython-input-8-869644865237>:7: UserWarning: To copy construct from a tensor, it is recommended to use sourceTensor.clone().detach() or sourceTensor.clone().detach().requires_grad_(True), rather than torch.tensor(sourceTensor).\n",
      "  item = {k: torch.tensor(v[idx]) for k, v in self.encodings.items()}\n",
      "<ipython-input-8-869644865237>:7: UserWarning: To copy construct from a tensor, it is recommended to use sourceTensor.clone().detach() or sourceTensor.clone().detach().requires_grad_(True), rather than torch.tensor(sourceTensor).\n",
      "  item = {k: torch.tensor(v[idx]) for k, v in self.encodings.items()}\n"
     ]
    },
    {
     "data": {
      "text/plain": [
       "TrainOutput(global_step=5250, training_loss=0.12019535274127806, metrics={'train_runtime': 505.8672, 'train_samples_per_second': 24.661, 'train_steps_per_second': 12.355, 'total_flos': 1388249646787584.0, 'train_loss': 0.12019535274127806, 'epoch': 21.0})"
      ]
     },
     "execution_count": 14,
     "metadata": {},
     "output_type": "execute_result"
    }
   ],
   "source": [
    "trainer.train()"
   ]
  },
  {
   "cell_type": "code",
   "execution_count": 15,
   "id": "70ed2a8c-34d2-4871-8a3a-0e533f3d09e3",
   "metadata": {},
   "outputs": [
    {
     "name": "stderr",
     "output_type": "stream",
     "text": [
      "<ipython-input-8-869644865237>:7: UserWarning: To copy construct from a tensor, it is recommended to use sourceTensor.clone().detach() or sourceTensor.clone().detach().requires_grad_(True), rather than torch.tensor(sourceTensor).\n",
      "  item = {k: torch.tensor(v[idx]) for k, v in self.encodings.items()}\n"
     ]
    },
    {
     "data": {
      "text/html": [
       "\n",
       "    <div>\n",
       "      \n",
       "      <progress value='28' max='28' style='width:300px; height:20px; vertical-align: middle;'></progress>\n",
       "      [28/28 00:00]\n",
       "    </div>\n",
       "    "
      ],
      "text/plain": [
       "<IPython.core.display.HTML object>"
      ]
     },
     "metadata": {},
     "output_type": "display_data"
    },
    {
     "data": {
      "text/plain": [
       "{'eval_loss': 0.5917195081710815,\n",
       " 'eval_accuracy': 0.9285714285714286,\n",
       " 'eval_precision': 0.9622252747252747,\n",
       " 'eval_recall': 0.9245852187028658,\n",
       " 'eval_f1': 0.937928737928738,\n",
       " 'eval_runtime': 0.2368,\n",
       " 'eval_samples_per_second': 236.464,\n",
       " 'eval_steps_per_second': 118.232,\n",
       " 'epoch': 21.0}"
      ]
     },
     "execution_count": 15,
     "metadata": {},
     "output_type": "execute_result"
    }
   ],
   "source": [
    "trainer.evaluate()"
   ]
  },
  {
   "cell_type": "code",
   "execution_count": 57,
   "id": "f5ca4ea6-f349-45ea-bdf8-ed0cd185d325",
   "metadata": {},
   "outputs": [],
   "source": [
    "from torch import BoolTensor\n",
    "device = \"cuda\"\n",
    "\n",
    "input_sample = train_encodings['input_ids'][0]\n",
    "input_sample = input_sample.to(device)\n",
    "\n",
    "masks_sample = train_encodings['attention_mask'][0]\n",
    "indicates_sample = BoolTensor(masks_sample == 1)\n",
    "\n",
    "masks_sample = masks_sample.to(device)\n",
    "indicates_sample = indicates_sample.to(device)"
   ]
  },
  {
   "cell_type": "code",
   "execution_count": 58,
   "id": "410c811e-af81-4471-bc83-fb9ddaa7b505",
   "metadata": {},
   "outputs": [],
   "source": [
    "result = model(input_sample, attention_mask=masks_sample ,output_attentions=True, output_hidden_states=True)"
   ]
  },
  {
   "cell_type": "code",
   "execution_count": 65,
   "id": "3fddd98b-e87a-4e90-b51c-01c926acdc7a",
   "metadata": {},
   "outputs": [
    {
     "data": {
      "text/plain": [
       "tensor([[[[0.0588, 0.0147, 0.0138,  ..., 0.0000, 0.0000, 0.0000],\n",
       "          [0.0268, 0.0443, 0.0263,  ..., 0.0000, 0.0000, 0.0000],\n",
       "          [0.0322, 0.0490, 0.0400,  ..., 0.0000, 0.0000, 0.0000],\n",
       "          ...,\n",
       "          [0.1874, 0.0056, 0.0048,  ..., 0.0000, 0.0000, 0.0000],\n",
       "          [0.1982, 0.0039, 0.0030,  ..., 0.0000, 0.0000, 0.0000],\n",
       "          [0.1999, 0.0067, 0.0056,  ..., 0.0000, 0.0000, 0.0000]],\n",
       "\n",
       "         [[0.1005, 0.0225, 0.0047,  ..., 0.0000, 0.0000, 0.0000],\n",
       "          [0.0212, 0.0346, 0.0712,  ..., 0.0000, 0.0000, 0.0000],\n",
       "          [0.0148, 0.0688, 0.0816,  ..., 0.0000, 0.0000, 0.0000],\n",
       "          ...,\n",
       "          [0.0994, 0.0024, 0.0010,  ..., 0.0000, 0.0000, 0.0000],\n",
       "          [0.0941, 0.0013, 0.0007,  ..., 0.0000, 0.0000, 0.0000],\n",
       "          [0.0834, 0.0032, 0.0015,  ..., 0.0000, 0.0000, 0.0000]],\n",
       "\n",
       "         [[0.0346, 0.0294, 0.0153,  ..., 0.0000, 0.0000, 0.0000],\n",
       "          [0.0165, 0.0557, 0.0375,  ..., 0.0000, 0.0000, 0.0000],\n",
       "          [0.0104, 0.0536, 0.0466,  ..., 0.0000, 0.0000, 0.0000],\n",
       "          ...,\n",
       "          [0.0464, 0.0170, 0.0047,  ..., 0.0000, 0.0000, 0.0000],\n",
       "          [0.0435, 0.0112, 0.0027,  ..., 0.0000, 0.0000, 0.0000],\n",
       "          [0.0436, 0.0162, 0.0050,  ..., 0.0000, 0.0000, 0.0000]],\n",
       "\n",
       "         ...,\n",
       "\n",
       "         [[0.0147, 0.0057, 0.0140,  ..., 0.0000, 0.0000, 0.0000],\n",
       "          [0.0237, 0.0534, 0.1364,  ..., 0.0000, 0.0000, 0.0000],\n",
       "          [0.0251, 0.0166, 0.1427,  ..., 0.0000, 0.0000, 0.0000],\n",
       "          ...,\n",
       "          [0.0312, 0.0023, 0.0040,  ..., 0.0000, 0.0000, 0.0000],\n",
       "          [0.0278, 0.0020, 0.0028,  ..., 0.0000, 0.0000, 0.0000],\n",
       "          [0.0345, 0.0028, 0.0055,  ..., 0.0000, 0.0000, 0.0000]],\n",
       "\n",
       "         [[0.0395, 0.0171, 0.0172,  ..., 0.0000, 0.0000, 0.0000],\n",
       "          [0.0205, 0.0569, 0.0358,  ..., 0.0000, 0.0000, 0.0000],\n",
       "          [0.0176, 0.0469, 0.0374,  ..., 0.0000, 0.0000, 0.0000],\n",
       "          ...,\n",
       "          [0.0794, 0.0046, 0.0024,  ..., 0.0000, 0.0000, 0.0000],\n",
       "          [0.0865, 0.0031, 0.0016,  ..., 0.0000, 0.0000, 0.0000],\n",
       "          [0.0758, 0.0056, 0.0031,  ..., 0.0000, 0.0000, 0.0000]],\n",
       "\n",
       "         [[0.0150, 0.0560, 0.0245,  ..., 0.0000, 0.0000, 0.0000],\n",
       "          [0.0081, 0.1349, 0.1017,  ..., 0.0000, 0.0000, 0.0000],\n",
       "          [0.0057, 0.0913, 0.1092,  ..., 0.0000, 0.0000, 0.0000],\n",
       "          ...,\n",
       "          [0.0318, 0.0097, 0.0058,  ..., 0.0000, 0.0000, 0.0000],\n",
       "          [0.0312, 0.0071, 0.0036,  ..., 0.0000, 0.0000, 0.0000],\n",
       "          [0.0264, 0.0111, 0.0077,  ..., 0.0000, 0.0000, 0.0000]]]],\n",
       "       grad_fn=<CopyBackwards>)"
      ]
     },
     "execution_count": 65,
     "metadata": {},
     "output_type": "execute_result"
    }
   ],
   "source": [
    "result.attentions[-1].cpu()"
   ]
  },
  {
   "cell_type": "code",
   "execution_count": 50,
   "id": "ec18f502-4b36-4f75-af3c-b1c18d789c74",
   "metadata": {},
   "outputs": [
    {
     "data": {
      "text/plain": [
       "[0.02458353340625763,\n",
       " 0.015769971534609795,\n",
       " 0.01693333126604557,\n",
       " 0.015847831964492798,\n",
       " 0.017280802130699158,\n",
       " 0.020594904199242592,\n",
       " 0.01508481428027153,\n",
       " 0.020402587950229645,\n",
       " 0.02642880007624626,\n",
       " 0.014142136089503765,\n",
       " 0.02215564250946045,\n",
       " 0.019940588623285294,\n",
       " 0.016019348055124283,\n",
       " 0.0162869393825531,\n",
       " 0.01800132915377617,\n",
       " 0.05113176256418228,\n",
       " 0.03984392061829567,\n",
       " 0.02846301719546318,\n",
       " 0.03237047791481018,\n",
       " 0.037791114300489426,\n",
       " 0.019019294530153275,\n",
       " 0.02857819013297558,\n",
       " 0.045432932674884796,\n",
       " 0.01855025440454483,\n",
       " 0.01677907630801201,\n",
       " 0.02137036621570587,\n",
       " 0.013771604746580124,\n",
       " 0.020632941275835037,\n",
       " 0.018100213259458542,\n",
       " 0.05540812015533447,\n",
       " 0.027427103370428085,\n",
       " 0.02120598778128624]"
      ]
     },
     "execution_count": 50,
     "metadata": {},
     "output_type": "execute_result"
    }
   ],
   "source": [
    "torch.masked_select((torch.sum(result['attentions'][-1][:,:,0,:], 1) / result['attentions'][-1].shape[1])[0], indicates_sample).tolist()[1:-1]"
   ]
  },
  {
   "cell_type": "code",
   "execution_count": 100,
   "id": "a0535e8c-b6b0-4dad-9dc2-0dcf9911ad46",
   "metadata": {},
   "outputs": [],
   "source": [
    "from torch import IntTensor\n",
    "DEVICE_DEFAULT = 'cuda'\n",
    "def predict_plus(input_tokenized, model):\n",
    "    masks_sample = input_tokenized.attention_mask\n",
    "\n",
    "    indicates_sample = BoolTensor(masks_sample == 1)\n",
    "    indicates_sample = indicates_sample.to(DEVICE_DEFAULT)\n",
    "\n",
    "    out = model(**input_tokenized.to(DEVICE_DEFAULT), output_attentions=True)\n",
    "\n",
    "    logits = out.logits.cpu().tolist()\n",
    "    attentions = out.attentions[-1].cpu()\n",
    "\n",
    "    attentions_sum = torch.masked_select((torch.sum(attentions[:, :, 0, :], 1) / attentions.shape[1])[0],\n",
    "                        indicates_sample).tolist()[1:-1]\n",
    "\n",
    "    return logits, attentions_sum\n",
    "# end"
   ]
  },
  {
   "cell_type": "code",
   "execution_count": 101,
   "id": "e87b05f4-038c-4b3a-9a7b-fcc5137cbbc8",
   "metadata": {},
   "outputs": [
    {
     "data": {
      "text/plain": [
       "([[-2.268066644668579,\n",
       "   -3.006159543991089,\n",
       "   -1.8981214761734009,\n",
       "   8.328487396240234,\n",
       "   -2.4117915630340576,\n",
       "   -2.0045924186706543,\n",
       "   -2.5799660682678223]],\n",
       " [0.02458353340625763,\n",
       "  0.01576998271048069,\n",
       "  0.016933344304561615,\n",
       "  0.015847833827137947,\n",
       "  0.017280809581279755,\n",
       "  0.02059491164982319,\n",
       "  0.01508481428027153,\n",
       "  0.0204025711864233,\n",
       "  0.026428798213601112,\n",
       "  0.014142129570245743,\n",
       "  0.022155655547976494,\n",
       "  0.019940590485930443,\n",
       "  0.01601935364305973,\n",
       "  0.0162869431078434,\n",
       "  0.018001336604356766,\n",
       "  0.051131755113601685,\n",
       "  0.03984392061829567,\n",
       "  0.028463007882237434,\n",
       "  0.03237047791481018,\n",
       "  0.03779113292694092,\n",
       "  0.019019296392798424,\n",
       "  0.028578199446201324,\n",
       "  0.045432936400175095,\n",
       "  0.018550259992480278,\n",
       "  0.016779057681560516,\n",
       "  0.021370351314544678,\n",
       "  0.013771605677902699,\n",
       "  0.020632950589060783,\n",
       "  0.018100207671523094,\n",
       "  0.05540815368294716,\n",
       "  0.027427084743976593,\n",
       "  0.021206000819802284])"
      ]
     },
     "execution_count": 101,
     "metadata": {},
     "output_type": "execute_result"
    }
   ],
   "source": [
    "test1_encoding = tokenizer.batch_encode_plus([train_samples[0]], truncation=True, padding=True, max_length=max_length, return_tensors='pt')\n",
    "predict_plus(test1_encoding, model)"
   ]
  },
  {
   "cell_type": "code",
   "execution_count": 18,
   "id": "d3b020a7-b084-4517-8b38-3b88b9bcea88",
   "metadata": {},
   "outputs": [],
   "source": [
    "def get_attention_1(input_sample, result_model):\n",
    "    scores_attention = (torch.sum(result['attentions'][-1][:,:,0,:], 1) / result['attentions'][-1].shape[1])[0].tolist()\n",
    "    ids_input = input_sample.tolist()\n",
    "    return list(zip(ids_input, scores_attention))\n",
    "# end\n",
    "\n",
    "def get_attention_2(encoder, model, index_input=0):\n",
    "    \n",
    "    device = \"cuda:0\"\n",
    "    \n",
    "    input_sample = train_encodings['input_ids'][index_input]\n",
    "    input_sample = input_sample.to(device)\n",
    "    \n",
    "    masks_sample = train_encodings['attention_mask'][index_input]\n",
    "    masks_sample = masks_sample.to(device)\n",
    "    \n",
    "    result = model(input_sample, attention_mask=masks_sample,output_attentions=True, output_hidden_states=True)\n",
    "    \n",
    "    scores_attention = (torch.sum(result['attentions'][-1][:,:,0,:], 1) / result['attentions'][-1].shape[1])[0].tolist()\n",
    "    ids_input = input_sample.tolist()\n",
    "    return list(zip(ids_input, scores_attention))\n",
    "# end\n",
    "    \n",
    "    "
   ]
  },
  {
   "cell_type": "code",
   "execution_count": 19,
   "id": "a2aac677-9f4f-41bb-8ea1-1c5d9bd119f7",
   "metadata": {},
   "outputs": [],
   "source": [
    "# [(a, float('{:.4f}'.format(b))) for a,b in get_attention_1(input_sample, result)[:37]]\n",
    "[(a, float('{:.4f}'.format(b))) for a,b in get_attention_2(train_encodings, model, 3)[:100]]"
   ]
  },
  {
   "cell_type": "code",
   "execution_count": 29,
   "id": "9d647d1c-8259-43ca-a79f-507cc0f2762b",
   "metadata": {},
   "outputs": [
    {
     "data": {
      "text/plain": [
       "tensor([[-0.6371,  1.4537, -2.4508, -0.1007, -1.6882, -0.8329, -1.7313]],\n",
       "       device='cuda:0', grad_fn=<AddmmBackward>)"
      ]
     },
     "execution_count": 29,
     "metadata": {},
     "output_type": "execute_result"
    }
   ],
   "source": [
    "model(input_sample).logits"
   ]
  },
  {
   "cell_type": "code",
   "execution_count": 30,
   "id": "85e15a4a-0fb2-4d18-bc40-f107a342729e",
   "metadata": {},
   "outputs": [
    {
     "data": {
      "text/plain": [
       "tensor([[-2.2681, -3.0062, -1.8981,  8.3285, -2.4118, -2.0046, -2.5800]],\n",
       "       device='cuda:0', grad_fn=<AddmmBackward>)"
      ]
     },
     "execution_count": 30,
     "metadata": {},
     "output_type": "execute_result"
    }
   ],
   "source": [
    "model(input_sample, masks_sample).logits"
   ]
  }
 ],
 "metadata": {
  "kernelspec": {
   "display_name": "Python 3",
   "language": "python",
   "name": "python3"
  },
  "language_info": {
   "codemirror_mode": {
    "name": "ipython",
    "version": 3
   },
   "file_extension": ".py",
   "mimetype": "text/x-python",
   "name": "python",
   "nbconvert_exporter": "python",
   "pygments_lexer": "ipython3",
   "version": "3.8.8"
  }
 },
 "nbformat": 4,
 "nbformat_minor": 5
}
