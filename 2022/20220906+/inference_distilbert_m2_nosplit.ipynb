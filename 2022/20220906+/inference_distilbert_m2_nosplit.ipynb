{
 "cells": [
  {
   "cell_type": "code",
   "execution_count": 1,
   "id": "66a6d8e0-5800-4e55-ae2e-dab30c423b3f",
   "metadata": {},
   "outputs": [],
   "source": [
    "# you get all pretrained model name here\n",
    "# https://huggingface.co/transformers/pretrained_models.html\n",
    "import json\n",
    "import pandas as pd\n",
    "import os\n",
    "import torch\n",
    "import transformers\n",
    "from transformers.file_utils import is_tf_available, is_torch_available, is_torch_tpu_available\n",
    "# from transformers import BertTokenizerFast, BertForSequenceClassification\n",
    "from transformers import DistilBertTokenizerFast, DistilBertForSequenceClassification, EarlyStoppingCallback\n",
    "from transformers import Trainer, TrainingArguments\n",
    "import numpy as np\n",
    "import random\n",
    "from sklearn.datasets import fetch_20newsgroups\n",
    "from sklearn.model_selection import train_test_split"
   ]
  },
  {
   "cell_type": "code",
   "execution_count": 2,
   "id": "2adce6ab-61dd-4ce6-8a19-ae6a376de4ad",
   "metadata": {},
   "outputs": [],
   "source": [
    "# the model we gonna train, base uncased BERT\n",
    "# check text classification models here: https://huggingface.co/models?filter=text-classification\n",
    "# model_name = \"bert-base-uncased\"\n",
    "model_name = \"distilbert-base-uncased\"\n",
    "model_dir = 'model_10'\n",
    "# path_data = 'datasource/goscv_84_202206171000.csv'\n",
    "path_data = 'datasource/goscv_115_202206171000+.csv'\n",
    "max_length = 512"
   ]
  },
  {
   "cell_type": "code",
   "execution_count": 3,
   "id": "238edfec-10e7-4a7c-abe1-3a543c40ed2e",
   "metadata": {},
   "outputs": [],
   "source": [
    "tokenizer = DistilBertTokenizerFast.from_pretrained(model_name, do_lower_case=True)"
   ]
  },
  {
   "cell_type": "code",
   "execution_count": 4,
   "id": "0554c2a8-952c-4763-8331-6ac9877346a7",
   "metadata": {},
   "outputs": [],
   "source": [
    "def load_content(path_data,test_size=0):\n",
    "    df = pd.read_csv(path_data)\n",
    "\n",
    "    documents = df['processed'].to_list()\n",
    "    labels_str = df['target'].to_list()\n",
    "    \n",
    "    samples = documents\n",
    "\n",
    "    if test_size:\n",
    "        return train_test_split(samples, labels_str, test_size)\n",
    "    else:\n",
    "        return samples, samples, labels_str, labels_str\n",
    "    # end\n",
    "# end"
   ]
  },
  {
   "cell_type": "code",
   "execution_count": 5,
   "id": "7ea18b82-385c-4897-bcb4-9a4805e8704b",
   "metadata": {},
   "outputs": [
    {
     "name": "stdout",
     "output_type": "stream",
     "text": [
      "load model from local\n"
     ]
    }
   ],
   "source": [
    "# model = BertForSequenceClassification.from_pretrained(model_name, num_labels=len(target_names))\n",
    "if os.path.exists(model_dir) and len(os.listdir(model_dir)) > 0:\n",
    "    print('load model from local')\n",
    "    model_info = model_dir\n",
    "    with open(os.path.join(model_dir, 'labels.json'), 'r') as file:\n",
    "        target_names = json.load(file)\n",
    "    # end\n",
    "else:\n",
    "    print('load model from official')\n",
    "    model_info = model_name\n",
    "# end\n",
    "\n",
    "model = DistilBertForSequenceClassification.from_pretrained(model_info, num_labels=len(target_names))\n",
    "model = model.cuda()"
   ]
  },
  {
   "cell_type": "code",
   "execution_count": 6,
   "id": "196b91c1-a004-4b4d-b4a0-92b18844ac65",
   "metadata": {},
   "outputs": [],
   "source": [
    "samples, _, labels, _ = load_content(path_data)"
   ]
  },
  {
   "cell_type": "code",
   "execution_count": 7,
   "id": "729ebc3d-edec-42db-ad75-81bd0b594ca0",
   "metadata": {},
   "outputs": [],
   "source": [
    "list_conf_output = []\n",
    "list_label_output = []\n",
    "\n",
    "for sample, label_origin in zip(samples, labels):\n",
    "\n",
    "    document = sample\n",
    "    input_tokenized = tokenizer.encode_plus(document, padding=True, truncation=True, max_length=max_length, return_tensors='pt').to('cuda')\n",
    "    with torch.no_grad():\n",
    "        out = model(**input_tokenized, output_hidden_states=True, output_attentions=True)\n",
    "    # end\n",
    "\n",
    "    probas_evaluate = torch.nn.functional.softmax(out.logits, dim=-1)\n",
    "    answer_evaluate = int(probas_evaluate.argmax().cpu())\n",
    "\n",
    "    label_evaluate = target_names[answer_evaluate]\n",
    "\n",
    "    list_conf_output.append(probas_evaluate.cpu().numpy().tolist()[0][answer_evaluate])\n",
    "    list_label_output.append(label_evaluate)\n",
    "# end"
   ]
  },
  {
   "cell_type": "code",
   "execution_count": 8,
   "id": "d527ad09-64f6-4068-ac99-9b0e0ddb74f5",
   "metadata": {},
   "outputs": [
    {
     "data": {
      "text/plain": [
       "20"
      ]
     },
     "execution_count": 8,
     "metadata": {},
     "output_type": "execute_result"
    }
   ],
   "source": [
    "int(len([True for label_origin, label_output in zip(labels, list_label_output) if label_origin == label_output]) / len(labels) * 100)"
   ]
  },
  {
   "cell_type": "code",
   "execution_count": 9,
   "id": "4ae93f61-109c-4327-8589-166ec3ae3ad6",
   "metadata": {},
   "outputs": [
    {
     "data": {
      "text/plain": [
       "0.9957655082578244"
      ]
     },
     "execution_count": 9,
     "metadata": {},
     "output_type": "execute_result"
    }
   ],
   "source": [
    "sum(list_conf_output) / len(list_conf_output)"
   ]
  },
  {
   "cell_type": "code",
   "execution_count": 10,
   "id": "aa30cbe9-3dc1-4959-b822-2ff20eb723de",
   "metadata": {},
   "outputs": [
    {
     "data": {
      "text/plain": [
       "0.9826086956521739"
      ]
     },
     "execution_count": 10,
     "metadata": {},
     "output_type": "execute_result"
    }
   ],
   "source": [
    "len([conf for conf in list_conf_output if conf > 0.9]) / len(list_conf_output)"
   ]
  }
 ],
 "metadata": {
  "kernelspec": {
   "display_name": "Python 3",
   "language": "python",
   "name": "python3"
  },
  "language_info": {
   "codemirror_mode": {
    "name": "ipython",
    "version": 3
   },
   "file_extension": ".py",
   "mimetype": "text/x-python",
   "name": "python",
   "nbconvert_exporter": "python",
   "pygments_lexer": "ipython3",
   "version": "3.8.8"
  }
 },
 "nbformat": 4,
 "nbformat_minor": 5
}
