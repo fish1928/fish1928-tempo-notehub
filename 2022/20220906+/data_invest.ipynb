{
 "cells": [
  {
   "cell_type": "code",
   "execution_count": 1,
   "id": "38fde836-04e3-4f34-a1fb-02519aad540e",
   "metadata": {},
   "outputs": [],
   "source": [
    "import json\n",
    "import os\n",
    "import pandas as pd"
   ]
  },
  {
   "cell_type": "code",
   "execution_count": 8,
   "id": "2f024516-d337-4dc6-89b5-df22ecf5e19b",
   "metadata": {},
   "outputs": [],
   "source": [
    "folder_base = 'datasource'\n",
    "filename_data_more = 'goscv_555_202205240000.csv'\n",
    "filename_data_less = 'goscv_334_202206171000+.csv'\n",
    "filename_data_all = 'goscv_all.csv'"
   ]
  },
  {
   "cell_type": "code",
   "execution_count": 15,
   "id": "7e7a8ec6-ea16-41fe-8162-f586df2e464e",
   "metadata": {},
   "outputs": [],
   "source": [
    "path_file_data_more = os.path.join(folder_base, filename_data_more)\n",
    "path_file_data_less = os.path.join(folder_base, filename_data_less)\n",
    "path_file_data_all = os.path.join(folder_base, filename_data_all)\n",
    "\n",
    "set_logs_more = set(pd.read_csv(path_file_data_more)['processed'].to_list())\n",
    "set_logs_less = set(pd.read_csv(path_file_data_less)['processed'].to_list())\n",
    "set_logs_all = set(pd.read_csv(path_file_data_all)['processed'].to_list())"
   ]
  },
  {
   "cell_type": "code",
   "execution_count": 18,
   "id": "7414e4a6-499b-4f71-8734-367e643eedef",
   "metadata": {},
   "outputs": [
    {
     "data": {
      "text/plain": [
       "748"
      ]
     },
     "execution_count": 18,
     "metadata": {},
     "output_type": "execute_result"
    }
   ],
   "source": [
    "len(set_logs_more)"
   ]
  }
 ],
 "metadata": {
  "kernelspec": {
   "display_name": "Python 3",
   "language": "python",
   "name": "python3"
  },
  "language_info": {
   "codemirror_mode": {
    "name": "ipython",
    "version": 3
   },
   "file_extension": ".py",
   "mimetype": "text/x-python",
   "name": "python",
   "nbconvert_exporter": "python",
   "pygments_lexer": "ipython3",
   "version": "3.8.8"
  }
 },
 "nbformat": 4,
 "nbformat_minor": 5
}
