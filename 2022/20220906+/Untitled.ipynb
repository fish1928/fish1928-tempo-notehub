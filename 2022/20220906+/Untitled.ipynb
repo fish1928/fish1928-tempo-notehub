{
 "cells": [
  {
   "cell_type": "code",
   "execution_count": 1,
   "id": "438279f8-4bac-4865-b7a6-43c1ffb9dd5f",
   "metadata": {},
   "outputs": [],
   "source": [
    "from transformers import BertTokenizer"
   ]
  },
  {
   "cell_type": "code",
   "execution_count": 6,
   "id": "a26cebc4-ae29-4a31-bb30-d98a4544a3b1",
   "metadata": {},
   "outputs": [],
   "source": [
    "tokenizer = BertTokenizer.from_pretrained('distilbert-base-uncased')"
   ]
  },
  {
   "cell_type": "code",
   "execution_count": 8,
   "id": "e8b21eb8-7433-4bf1-8490-b3cbe0c7cc67",
   "metadata": {},
   "outputs": [],
   "source": [
    "words = 'hello my name is john'.split(' ')"
   ]
  },
  {
   "cell_type": "code",
   "execution_count": null,
   "id": "3a84cc27-2254-4797-a214-705c8a5baf3e",
   "metadata": {},
   "outputs": [],
   "source": [
    "tokenizer.encode_plus(words, None, add_special_tokens=True, max_length=512, padding='max_length', return_token_type_ids=True, truncation=True)"
   ]
  }
 ],
 "metadata": {
  "kernelspec": {
   "display_name": "Python 3",
   "language": "python",
   "name": "python3"
  },
  "language_info": {
   "codemirror_mode": {
    "name": "ipython",
    "version": 3
   },
   "file_extension": ".py",
   "mimetype": "text/x-python",
   "name": "python",
   "nbconvert_exporter": "python",
   "pygments_lexer": "ipython3",
   "version": "3.8.8"
  }
 },
 "nbformat": 4,
 "nbformat_minor": 5
}
