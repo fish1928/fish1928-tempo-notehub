{
 "cells": [
  {
   "cell_type": "code",
   "execution_count": 2,
   "id": "acede9d8-95e0-46be-be59-a07c3d2e5336",
   "metadata": {},
   "outputs": [],
   "source": [
    "from sklearn.decomposition import PCA\n",
    "from sklearn.manifold import TSNE\n",
    "import numpy as np\n",
    "import os\n",
    "import json"
   ]
  },
  {
   "cell_type": "code",
   "execution_count": 3,
   "id": "3f0a932e-703b-4dcd-aae2-ed841e4b3a86",
   "metadata": {},
   "outputs": [],
   "source": [
    "pca = PCA(n_components=100)\n",
    "tsne = TSNE(n_components=2, verbose=1, perplexity=40, n_iter=2000)"
   ]
  },
  {
   "cell_type": "code",
   "execution_count": 4,
   "id": "f817c89c-0c0e-4806-a4f5-71b0938f33f2",
   "metadata": {},
   "outputs": [],
   "source": [
    "folder_data = 'datasource'\n",
    "filename_embedding = 'esxdeploy_0812_processed_fingerprint_embedding.json'\n",
    "path_file_embedding = os.path.join(folder_data, filename_embedding)\n",
    "with open(path_file_embedding, 'r') as file:\n",
    "    dict_filename_embedding = json.load(file)\n",
    "# end"
   ]
  },
  {
   "cell_type": "code",
   "execution_count": 8,
   "id": "6390fb59-64b6-4108-83fd-129bf1edc89c",
   "metadata": {},
   "outputs": [],
   "source": [
    "units_filename_embedding = ([(filename, embedding) for filename, embedding in dict_filename_embedding.items()])\n",
    "embeddings = [unit[-1] for unit in units_filename_embedding]"
   ]
  },
  {
   "cell_type": "code",
   "execution_count": 10,
   "id": "f48c1569-451a-46f5-9f67-d1a3c1bb5afe",
   "metadata": {},
   "outputs": [
    {
     "name": "stdout",
     "output_type": "stream",
     "text": [
      "[t-SNE] Computing 121 nearest neighbors...\n",
      "[t-SNE] Indexed 18356 samples in 0.002s...\n",
      "[t-SNE] Computed neighbors for 18356 samples in 8.133s...\n",
      "[t-SNE] Computed conditional probabilities for sample 1000 / 18356\n",
      "[t-SNE] Computed conditional probabilities for sample 2000 / 18356\n",
      "[t-SNE] Computed conditional probabilities for sample 3000 / 18356\n",
      "[t-SNE] Computed conditional probabilities for sample 4000 / 18356\n",
      "[t-SNE] Computed conditional probabilities for sample 5000 / 18356\n",
      "[t-SNE] Computed conditional probabilities for sample 6000 / 18356\n",
      "[t-SNE] Computed conditional probabilities for sample 7000 / 18356\n",
      "[t-SNE] Computed conditional probabilities for sample 8000 / 18356\n",
      "[t-SNE] Computed conditional probabilities for sample 9000 / 18356\n",
      "[t-SNE] Computed conditional probabilities for sample 10000 / 18356\n",
      "[t-SNE] Computed conditional probabilities for sample 11000 / 18356\n",
      "[t-SNE] Computed conditional probabilities for sample 12000 / 18356\n",
      "[t-SNE] Computed conditional probabilities for sample 13000 / 18356\n",
      "[t-SNE] Computed conditional probabilities for sample 14000 / 18356\n",
      "[t-SNE] Computed conditional probabilities for sample 15000 / 18356\n",
      "[t-SNE] Computed conditional probabilities for sample 16000 / 18356\n",
      "[t-SNE] Computed conditional probabilities for sample 17000 / 18356\n",
      "[t-SNE] Computed conditional probabilities for sample 18000 / 18356\n",
      "[t-SNE] Computed conditional probabilities for sample 18356 / 18356\n",
      "[t-SNE] Mean sigma: 0.000000\n",
      "[t-SNE] KL divergence after 250 iterations with early exaggeration: 67.042465\n",
      "[t-SNE] KL divergence after 2000 iterations: 0.385996\n"
     ]
    }
   ],
   "source": [
    "embeddings_pca = pca.fit_transform(embeddings)\n",
    "matrix_embeddings_pca = np.array(embeddings_pca)\n",
    "# matrix_embeddings_pca = np.array(corpus_embeddings)\n",
    "matrix_embeddings_pca_tsne = tsne.fit_transform(matrix_embeddings_pca)"
   ]
  },
  {
   "cell_type": "code",
   "execution_count": 13,
   "id": "85fcbd40-c942-4eaa-b0dc-a0f79d811352",
   "metadata": {},
   "outputs": [],
   "source": [
    "arrays_embedding2 = matrix_embeddings_pca_tsne.tolist()"
   ]
  },
  {
   "cell_type": "code",
   "execution_count": 16,
   "id": "646d215a-1f5e-4992-a86b-5a9a80000210",
   "metadata": {},
   "outputs": [],
   "source": [
    "dict_filename_embedding2 = {}"
   ]
  },
  {
   "cell_type": "code",
   "execution_count": 17,
   "id": "b24310ee-7845-43a7-96de-424ae04d916f",
   "metadata": {},
   "outputs": [],
   "source": [
    "for unit_filename_embedding, array_embedding2 in zip(units_filename_embedding, arrays_embedding2):\n",
    "    filename = unit_filename_embedding[0]\n",
    "    dict_filename_embedding2[filename] = array_embedding2\n",
    "# end"
   ]
  },
  {
   "cell_type": "code",
   "execution_count": 19,
   "id": "c204010b-88f2-45ed-8366-d26038f57ecc",
   "metadata": {},
   "outputs": [],
   "source": [
    "filename_target = 'esxdeploy_0812_processed_fingerprint_embedding2.json'\n",
    "path_file_target = os.path.join(folder_data, filename_target)\n",
    "with open(path_file_target, 'w+') as file:\n",
    "    file.write(json.dumps(dict_filename_embedding2))\n",
    "# end"
   ]
  }
 ],
 "metadata": {
  "kernelspec": {
   "display_name": "Python 3",
   "language": "python",
   "name": "python3"
  },
  "language_info": {
   "codemirror_mode": {
    "name": "ipython",
    "version": 3
   },
   "file_extension": ".py",
   "mimetype": "text/x-python",
   "name": "python",
   "nbconvert_exporter": "python",
   "pygments_lexer": "ipython3",
   "version": "3.8.8"
  }
 },
 "nbformat": 4,
 "nbformat_minor": 5
}
