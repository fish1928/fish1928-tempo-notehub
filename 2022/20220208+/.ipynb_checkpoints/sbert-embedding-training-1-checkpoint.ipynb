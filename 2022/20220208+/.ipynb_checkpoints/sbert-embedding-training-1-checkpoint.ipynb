{
 "cells": [
  {
   "cell_type": "code",
   "execution_count": 1,
   "id": "683beb27-e7bd-4abd-8b5c-ddb399ff2ea5",
   "metadata": {},
   "outputs": [],
   "source": [
    "from torch.utils.data import DataLoader\n",
    "import math\n",
    "from sentence_transformers import SentenceTransformer, LoggingHandler, losses, util, InputExample\n",
    "from sentence_transformers.evaluation import EmbeddingSimilarityEvaluator\n",
    "import logging\n",
    "from datetime import datetime\n",
    "import os\n",
    "import gzip\n",
    "import csv\n",
    "import pandas as pd\n",
    "from sklearn.model_selection import train_test_split"
   ]
  },
  {
   "cell_type": "code",
   "execution_count": 2,
   "id": "2ce86202-645f-447d-8746-eaac4f0dbf5e",
   "metadata": {},
   "outputs": [],
   "source": [
    "def read_passages(path_data, test_size=0.1):\n",
    "    df = pd.read_csv(path_data)\n",
    "    documents_a = df['log_a'].to_list()\n",
    "    documents_b = df['log_b'].to_list()\n",
    "    labels_str = df['target_same'].to_list()\n",
    "\n",
    "    labels = [1.0 if label_str else 0.0 for label_str in labels_str]\n",
    "    return train_test_split(list(zip(documents_a, documents_b)),labels, test_size=test_size)\n",
    "# end"
   ]
  },
  {
   "cell_type": "code",
   "execution_count": 3,
   "id": "874ff492-50a6-4b1f-8cfd-4df50ec0f1df",
   "metadata": {},
   "outputs": [],
   "source": [
    "model_name = 'nli-distilroberta-base-v2'\n",
    "train_batch_size = 4\n",
    "num_epochs = 10\n",
    "test_size=0.1"
   ]
  },
  {
   "cell_type": "code",
   "execution_count": 4,
   "id": "1bdcd61f-72e8-4db4-b9ea-5c85b943036d",
   "metadata": {},
   "outputs": [],
   "source": [
    "content = pd.read_csv('data/pair_all_1.csv')\n",
    "text_train_list, text_valid_list, labels_train, labels_valid = read_passages('data/pair_all_1.csv')"
   ]
  },
  {
   "cell_type": "code",
   "execution_count": 5,
   "id": "7bf2794c-af42-4ffe-8019-6cdf24a30936",
   "metadata": {},
   "outputs": [],
   "source": [
    "# labels_train[:20]"
   ]
  },
  {
   "cell_type": "code",
   "execution_count": 6,
   "id": "5504d393-2bd3-48b5-b4c7-305330eb19d4",
   "metadata": {},
   "outputs": [],
   "source": [
    "samples_train = []\n",
    "samples_valid = []\n",
    "\n",
    "for text_train_2, label_train in zip(text_train_list, labels_train):\n",
    "    samples_train.append(InputExample(texts=[*text_train_2], label=label_train))\n",
    "# end\n",
    "\n",
    "for text_valid_2, label_valid in zip(text_valid_list, labels_valid):\n",
    "    samples_valid.append(InputExample(texts=[*text_valid_2], label=label_valid))\n",
    "# end"
   ]
  },
  {
   "cell_type": "code",
   "execution_count": 7,
   "id": "26d8f84d-e6de-4eba-8b9d-da43607bf52f",
   "metadata": {},
   "outputs": [],
   "source": [
    "model = SentenceTransformer(model_name)"
   ]
  },
  {
   "cell_type": "code",
   "execution_count": 8,
   "id": "d5378741-5a10-47c4-a129-c12969a70d7f",
   "metadata": {},
   "outputs": [],
   "source": [
    "train_dataloader = DataLoader(samples_train, shuffle=True, batch_size=train_batch_size)\n",
    "train_loss = losses.CosineSimilarityLoss(model=model)\n",
    "evaluator = EmbeddingSimilarityEvaluator.from_input_examples(samples_valid)\n",
    "warmup_steps = math.ceil(len(train_dataloader) * num_epochs * 0.1)"
   ]
  },
  {
   "cell_type": "code",
   "execution_count": 9,
   "id": "e095c7b4-03a5-4e23-bfa3-7e1eb4834d8e",
   "metadata": {},
   "outputs": [
    {
     "data": {
      "application/vnd.jupyter.widget-view+json": {
       "model_id": "82888f6c05bc4ef98b54ec380da14700",
       "version_major": 2,
       "version_minor": 0
      },
      "text/plain": [
       "Epoch:   0%|          | 0/10 [00:00<?, ?it/s]"
      ]
     },
     "metadata": {},
     "output_type": "display_data"
    },
    {
     "data": {
      "application/vnd.jupyter.widget-view+json": {
       "model_id": "db7952d2211440e4b5e249a90ca23e98",
       "version_major": 2,
       "version_minor": 0
      },
      "text/plain": [
       "Iteration:   0%|          | 0/23620 [00:00<?, ?it/s]"
      ]
     },
     "metadata": {},
     "output_type": "display_data"
    },
    {
     "data": {
      "application/vnd.jupyter.widget-view+json": {
       "model_id": "09479833ae714ca5bf6ad11a55d677c9",
       "version_major": 2,
       "version_minor": 0
      },
      "text/plain": [
       "Iteration:   0%|          | 0/23620 [00:00<?, ?it/s]"
      ]
     },
     "metadata": {},
     "output_type": "display_data"
    },
    {
     "data": {
      "application/vnd.jupyter.widget-view+json": {
       "model_id": "d90554861a37488bb8d8cf3f1ff36a36",
       "version_major": 2,
       "version_minor": 0
      },
      "text/plain": [
       "Iteration:   0%|          | 0/23620 [00:00<?, ?it/s]"
      ]
     },
     "metadata": {},
     "output_type": "display_data"
    },
    {
     "data": {
      "application/vnd.jupyter.widget-view+json": {
       "model_id": "a1b8faf5c01745e396d95acbfb084cee",
       "version_major": 2,
       "version_minor": 0
      },
      "text/plain": [
       "Iteration:   0%|          | 0/23620 [00:00<?, ?it/s]"
      ]
     },
     "metadata": {},
     "output_type": "display_data"
    },
    {
     "data": {
      "application/vnd.jupyter.widget-view+json": {
       "model_id": "92a8469684804cb5b1ac2cda9d2cacb4",
       "version_major": 2,
       "version_minor": 0
      },
      "text/plain": [
       "Iteration:   0%|          | 0/23620 [00:00<?, ?it/s]"
      ]
     },
     "metadata": {},
     "output_type": "display_data"
    },
    {
     "data": {
      "application/vnd.jupyter.widget-view+json": {
       "model_id": "0adc8b85e6d94212898ca71de93aacd3",
       "version_major": 2,
       "version_minor": 0
      },
      "text/plain": [
       "Iteration:   0%|          | 0/23620 [00:00<?, ?it/s]"
      ]
     },
     "metadata": {},
     "output_type": "display_data"
    },
    {
     "data": {
      "application/vnd.jupyter.widget-view+json": {
       "model_id": "37ee4e528c014cfab5e2784010023c35",
       "version_major": 2,
       "version_minor": 0
      },
      "text/plain": [
       "Iteration:   0%|          | 0/23620 [00:00<?, ?it/s]"
      ]
     },
     "metadata": {},
     "output_type": "display_data"
    },
    {
     "data": {
      "application/vnd.jupyter.widget-view+json": {
       "model_id": "0e31269489e143ff924e3af5c3133ca5",
       "version_major": 2,
       "version_minor": 0
      },
      "text/plain": [
       "Iteration:   0%|          | 0/23620 [00:00<?, ?it/s]"
      ]
     },
     "metadata": {},
     "output_type": "display_data"
    },
    {
     "data": {
      "application/vnd.jupyter.widget-view+json": {
       "model_id": "c02ba3c3bdee495ab5e5524d7a5135a8",
       "version_major": 2,
       "version_minor": 0
      },
      "text/plain": [
       "Iteration:   0%|          | 0/23620 [00:00<?, ?it/s]"
      ]
     },
     "metadata": {},
     "output_type": "display_data"
    },
    {
     "data": {
      "application/vnd.jupyter.widget-view+json": {
       "model_id": "4f6b6625877240a093561c0b8c7142bc",
       "version_major": 2,
       "version_minor": 0
      },
      "text/plain": [
       "Iteration:   0%|          | 0/23620 [00:00<?, ?it/s]"
      ]
     },
     "metadata": {},
     "output_type": "display_data"
    }
   ],
   "source": [
    "model.fit(train_objectives=[(train_dataloader, train_loss)],\n",
    "          evaluator=evaluator,\n",
    "          epochs=num_epochs,\n",
    "          evaluation_steps=1000,\n",
    "          warmup_steps=0,\n",
    "          output_path='./models-{}'.format(model_name))"
   ]
  },
  {
   "cell_type": "code",
   "execution_count": 10,
   "id": "2b1a6a29-e6ae-4e13-9fb7-9a22e9acb7ab",
   "metadata": {},
   "outputs": [],
   "source": [
    "# test_evaluator = EmbeddingSimilarityEvaluator.from_input_examples(samples_valid)\n",
    "# test_evaluator(model, output_path='./models2')"
   ]
  }
 ],
 "metadata": {
  "kernelspec": {
   "display_name": "Python 3 (ipykernel)",
   "language": "python",
   "name": "python3"
  },
  "language_info": {
   "codemirror_mode": {
    "name": "ipython",
    "version": 3
   },
   "file_extension": ".py",
   "mimetype": "text/x-python",
   "name": "python",
   "nbconvert_exporter": "python",
   "pygments_lexer": "ipython3",
   "version": "3.9.5"
  }
 },
 "nbformat": 4,
 "nbformat_minor": 5
}
