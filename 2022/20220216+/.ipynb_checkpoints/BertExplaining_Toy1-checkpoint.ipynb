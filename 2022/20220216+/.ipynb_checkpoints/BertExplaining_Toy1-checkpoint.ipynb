{
 "cells": [
  {
   "cell_type": "code",
   "execution_count": 1,
   "id": "06cc04e9-4b6a-4eff-89ba-27022f5f6af8",
   "metadata": {},
   "outputs": [],
   "source": [
    "import os\n",
    "import json\n",
    "import torch\n",
    "\n",
    "import numpy as np\n",
    "from scipy.special import softmax\n",
    "from numpy import argmax\n",
    "\n",
    "from transformers import DistilBertTokenizerFast, DistilBertForSequenceClassification\n",
    "\n",
    "from datetime import datetime\n",
    "from torch.utils.data import Dataset, DataLoader\n",
    "\n",
    "\n",
    "class FactoryEncoder:\n",
    "\n",
    "    def __init__(self, tokenizer, device, max_length):\n",
    "        self.tokenizer = tokenizer\n",
    "        self.device = device\n",
    "        self.max_length = max_length\n",
    "    # end\n",
    "\n",
    "    # Q: WHY NOT USING PARAMETERS?\n",
    "    # A: FOR FUN\n",
    "    def get_instance(self, sentences):\n",
    "        instance = SimpleEncoder(sentences)\n",
    "        instance.set_tokenizer(self.tokenizer)\n",
    "        instance.set_device(self.device)\n",
    "        instance.set_max_length(self.max_length)\n",
    "        return instance\n",
    "    # end\n",
    "# end\n",
    "\n",
    "class SimpleEncoder(Dataset):\n",
    "    def __init__(self, sentences):\n",
    "        self.sentences = sentences\n",
    "    # end\n",
    "\n",
    "    def __getitem__(self, index):\n",
    "        sentence = self.sentences[index]\n",
    "        sentence = ' '.join(sentence.split())\n",
    "        inputs = self.tokenizer.encode_plus(\n",
    "            sentence, None,\n",
    "            add_special_tokens=True,\n",
    "            max_length=self.max_length,\n",
    "            padding='max_length',\n",
    "            return_token_type_ids=False,\n",
    "            truncation=True,\n",
    "            return_tensors='pt'\n",
    "        )\n",
    "\n",
    "        for key in inputs:\n",
    "            inputs[key].to(self.device)\n",
    "        # end\n",
    "\n",
    "        return inputs\n",
    "    # end\n",
    "\n",
    "    def set_tokenizer(self, tokenizer):\n",
    "        self.tokenizer = tokenizer\n",
    "    # end\n",
    "\n",
    "    def set_device(self, device):\n",
    "        self.device = device\n",
    "    # end\n",
    "\n",
    "    def set_max_length(self, max_length):\n",
    "        self.max_length = max_length\n",
    "    # end\n",
    "\n",
    "\n",
    "class FactoryDecoder:\n",
    "    def __init__(self, labels):\n",
    "        self.labels = labels\n",
    "    # end\n",
    "\n",
    "    # outputs_raw:\n",
    "    def get_instance(self, outputs_raw):\n",
    "        instance = SimpleDecoder(self.labels, outputs_raw)\n",
    "        instance.enable_label().enable_proba().enable_index()\n",
    "        return instance\n",
    "    # end\n",
    "# end\n",
    "\n",
    "class SimpleDecoder:\n",
    "\n",
    "    def __init__(self, labels, outputs_raw):\n",
    "        self.outputs_raw = outputs_raw\n",
    "        self.labels = labels\n",
    "        self.decoders = {}\n",
    "    # end\n",
    "\n",
    "    def enable_label(self):\n",
    "        def decode_label(outputs_raw):\n",
    "            return [self.labels for i in range(len(outputs_raw))]\n",
    "        # end\n",
    "\n",
    "        self.decoders['label'] = decode_label\n",
    "        return self\n",
    "    # end\n",
    "\n",
    "    def enable_proba(self):\n",
    "        def decode_proba(outputs_raw):\n",
    "            # print('jinyuj: decode_proba:185 outputs_raw: {}'.format(outputs_raw))\n",
    "            probas = softmax(outputs_raw, axis=1).tolist()\n",
    "            return probas\n",
    "        # end\n",
    "\n",
    "        self.decoders['proba'] = decode_proba\n",
    "        return self\n",
    "    # end\n",
    "\n",
    "    def enable_index(self):\n",
    "        def decode_index(outputs_raw):\n",
    "            return [list(range(len(self.labels))) for i in range(len(outputs_raw))]\n",
    "        # end\n",
    "\n",
    "        self.decoders['index'] = decode_index\n",
    "        return self\n",
    "    # end\n",
    "\n",
    "    def decode(self, str_items_output):\n",
    "        items_output = str_items_output.split(',')\n",
    "        dict_output_decoded = {}\n",
    "\n",
    "        for item_output in items_output:\n",
    "            if item_output in self.decoders:\n",
    "                func_decode = self.decoders[item_output]\n",
    "                dict_output_decoded[item_output] = func_decode(self.outputs_raw)\n",
    "            # end\n",
    "        # end\n",
    "\n",
    "        # get inner quantity(quantity of samples)\n",
    "        num_samples = len(dict_output_decoded[list(dict_output_decoded.keys())[0]])\n",
    "        num_klasses = len(dict_output_decoded[list(dict_output_decoded.keys())[0]][0])\n",
    "\n",
    "        # infos_outputs = [[{}] * num_klasses] * num_samples\n",
    "        infos_outputs = [[{} for j in range(num_klasses)] for i in range(num_samples)]\n",
    "\n",
    "        # transform\n",
    "        #  {\n",
    "        #       'label': [['safe', 'comment'], ['safe', 'comment']],\n",
    "        #       'proba': [[0.02207409217953682, 0.9779258370399475], [0.7, 0.3]],\n",
    "        #       'index': [[0, 1], [0, 1]]\n",
    "        #  }\n",
    "        # to\n",
    "        #  [[{'label': 'safe', 'proba': 0.01701054722070694, 'index': 0}, {'label': 'comment', 'proba': 0.982989490032196, 'index': 1}]]\n",
    "        for item_output in dict_output_decoded:\n",
    "            outputs_decoded = dict_output_decoded[item_output]\n",
    "            for i, output_decoded in enumerate(outputs_decoded):        # i for num_samples\n",
    "                for j, item_decoded in enumerate(output_decoded):\n",
    "                    infos_outputs[i][j][item_output] = item_decoded           # output_decoded = ['safe', comment]\n",
    "                # end\n",
    "            # end\n",
    "        # end transformation\n",
    "\n",
    "        return infos_outputs\n",
    "    # end\n",
    "# end\n",
    "\n",
    "class SimpleBertClassifier(torch.nn.Module):\n",
    "\n",
    "    DEFAULT_FILENAME_LABEL = 'labels.json'\n",
    "\n",
    "    def __init__(self, path_folder_model=None, name_model=None, max_length=512):\n",
    "        super(SimpleBertClassifier, self).__init__()\n",
    "\n",
    "        self.path_folder_model = path_folder_model\n",
    "        self.name_model = name_model\n",
    "        path_file_labels = os.path.join(self.path_folder_model, self.__class__.DEFAULT_FILENAME_LABEL)\n",
    "\n",
    "        with open(path_file_labels, 'r') as file:\n",
    "            self.labels_output_classifier = sorted(json.load(file))\n",
    "        # end\n",
    "\n",
    "        self.dict_label_index = {label: index for index, label in enumerate(self.labels_output_classifier)}\n",
    "        self.classifier_max_length = max_length\n",
    "        self.classifier = None\n",
    "\n",
    "        self.device = 'cuda' if torch.cuda.is_available() else 'cpu'\n",
    "        self.loaded = False\n",
    "    # end\n",
    "\n",
    "    def forward(self, *inputs, **params):\n",
    "        output = self.classifier(*inputs, **params)\n",
    "        return output\n",
    "    # end\n",
    "\n",
    "    def load(self):\n",
    "        if not self.loaded:\n",
    "            self.classifier = DistilBertForSequenceClassification.from_pretrained(self.path_folder_model)\n",
    "            self.tokenizer = DistilBertTokenizerFast.from_pretrained(self.name_model)\n",
    "\n",
    "            self.factory_encoder = FactoryEncoder(self.tokenizer, self.device, self.classifier_max_length)\n",
    "            self.factory_decoder = FactoryDecoder(self.labels_output_classifier)\n",
    "            self.loaded = True\n",
    "        # end\n",
    "\n",
    "        return self\n",
    "    # end\n",
    "\n",
    "    def predicts(self, samples_input, outputs='label'):\n",
    "        items_output = outputs  # transform name\n",
    "        encoder = self.factory_encoder.get_instance(samples_input)\n",
    "        outputs_raw = []\n",
    "        for sample_encoded in encoder:\n",
    "            # sample_encoded['output_hidden_states'] = True\n",
    "            # sample_encoded['output_attentions'] = True\n",
    "\n",
    "            with torch.no_grad():\n",
    "                output_raw = self(**sample_encoded).logits.cpu().numpy().flatten()\n",
    "                outputs_raw.append(output_raw)\n",
    "            # end\n",
    "        # end\n",
    "        outputs_raw = np.array(outputs_raw)\n",
    "\n",
    "        decoder = self.factory_decoder.get_instance(outputs_raw)\n",
    "        info_output = decoder.decode(items_output)\n",
    "        return info_output\n",
    "    # end\n",
    "# end"
   ]
  },
  {
   "cell_type": "code",
   "execution_count": 2,
   "id": "e366184b-d47f-4d62-9936-5c497a0b73fc",
   "metadata": {},
   "outputs": [],
   "source": [
    "import functools\n",
    "import numpy as np\n",
    "from sklearn import linear_model\n",
    "from sklearn import metrics\n",
    "import copy\n",
    "\n",
    "\n",
    "class SimpleLimeExplainer:\n",
    "\n",
    "    TOKENIZER_DEFAULT = str.split\n",
    "\n",
    "    def __init__(\n",
    "            self,\n",
    "            token_mask=None,\n",
    "            num_samples=None,\n",
    "            alpha=None,\n",
    "            name_distance_function=None,\n",
    "            scale_distance=None,\n",
    "            name_solver=None,\n",
    "            width_kernel=None\n",
    "        ):\n",
    "        # hard code configuration starts\n",
    "        self.tokenizer = self.__class__.TOKENIZER_DEFAULT\n",
    "        self.function_kernel = self._exponential_kernel\n",
    "        self.width_kernel = width_kernel\n",
    "\n",
    "        # parameter configuration starts\n",
    "        self.token_mask = token_mask\n",
    "        self.num_samples = num_samples\n",
    "        self.alpha = alpha\n",
    "        self.function_distance = functools.partial(metrics.pairwise.pairwise_distances, metric=name_distance_function)\n",
    "        self.scale_distance = scale_distance\n",
    "        self.name_solver = name_solver\n",
    "    # end\n",
    "\n",
    "\n",
    "    def explain(self, sentence, model_predict):\n",
    "        tokens = self.tokenizer(sentence)\n",
    "        num_features = len(tokens)\n",
    "\n",
    "        masks_input = self._prepare_masks(self.num_samples, num_features)\n",
    "        distances_input = self._calculate_distance(self.function_distance, self.scale_distance, self.function_kernel, self.width_kernel, masks_input)\n",
    "        samples_input = list(self._get_perturbations(tokens, masks_input, self.token_mask))\n",
    "\n",
    "        #\n",
    "        # [\n",
    "        #       [\n",
    "        #           {'label': 'safe', 'proba': 0.01701054722070694, 'index': 0},        # item 1\n",
    "        #           {'label': 'comment', 'proba': 0.982989490032196, 'index': 1},       # item 2\n",
    "        #           {...}                                                               # item 3\n",
    "        #       ],      # sample 1\n",
    "        #       [...],  # sample 2\n",
    "        #       ...     # sample N\n",
    "        # ]\n",
    "        list_items_sample = model_predict.predicts(samples_input, outputs='label,proba,index')    # numpy outputs\n",
    "        list_items_sample_sorted = [sorted(items_sample, key=lambda item: -item['proba']) for items_sample in list_items_sample]\n",
    "        indexes_base = np.array([items_sample_sorted[0]['index'] for items_sample_sorted in list_items_sample_sorted])\n",
    "        # print('indexes_base: {}'.format(indexes_base.tolist()))\n",
    "        info_final = {}\n",
    "        items_sample_sorted_origin = list_items_sample_sorted[0]\n",
    "        for item_sample_sorted_root in items_sample_sorted_origin:\n",
    "\n",
    "            index_item = item_sample_sorted_root['index']\n",
    "            label_item = item_sample_sorted_root['label']\n",
    "            proba_item = item_sample_sorted_root['proba']\n",
    "            # print('jinyuj: simple_lime_explainer.explain {} {} {}'.format(index_item, label_item, proba_item))\n",
    "\n",
    "            indexes = copy.deepcopy(indexes_base)\n",
    "            indexes[np.where(indexes != index_item)] = -1\n",
    "            indexes[np.where(indexes == index_item)] = 1\n",
    "\n",
    "            # print('indexes: {}'.format(indexes.tolist()))\n",
    "\n",
    "            model_explain = linear_model.Ridge(alpha=self.alpha, solver=self.name_solver)\n",
    "            model_explain.fit(masks_input, indexes, sample_weight=distances_input)  # one-time use\n",
    "            coefs_token = model_explain.coef_\n",
    "\n",
    "            info_final[label_item] = {\n",
    "                'confidence': proba_item,\n",
    "                'features': [(token, coefs_token) for token, coefs_token in zip(tokens, coefs_token)]\n",
    "            }\n",
    "\n",
    "        return info_final\n",
    "    # end\n",
    "\n",
    "    def _prepare_masks(self, num_samples, num_features):\n",
    "        masks = self._sample_masks(num_samples + 1, num_features)\n",
    "        # print('jinyuj: _prepare_masks:64: masks.shape: {}, num_samples: {}'.format(masks.shape, num_samples))\n",
    "        assert masks.shape[0] == num_samples + 1, 'Expected num_samples + 1 masks.'\n",
    "        all_true_mask = np.ones_like(masks[0], dtype=np.bool)\n",
    "        masks[0] = all_true_mask\n",
    "        return masks\n",
    "    # end\n",
    "\n",
    "    def _sample_masks(self, num_samples, num_features):\n",
    "        rng = np.random.RandomState()\n",
    "        positions = np.tile(np.arange(num_features), (num_samples, 1))\n",
    "        permutation_fn = np.vectorize(rng.permutation, signature='(n)->(n)')\n",
    "        permutations = permutation_fn(positions)  # A shuffled range of positions.\n",
    "        num_disabled_features = rng.randint(1, num_features + 1, (num_samples, 1))\n",
    "        return permutations >= num_disabled_features\n",
    "    # end\n",
    "\n",
    "    def _calculate_distance(self, function_distance, scale_distance, function_kernel, width_kernel, masks):\n",
    "        distances = function_distance(masks[0].reshape(1, -1), masks).flatten()\n",
    "        distances = scale_distance * distances\n",
    "        distances = function_kernel(distances, width_kernel)\n",
    "        return distances\n",
    "    # end\n",
    "\n",
    "    def _get_perturbations(self, tokens, masks, token_mask):\n",
    "        for mask in masks:\n",
    "            parts = [t if mask[i] else token_mask for i, t in enumerate(tokens)]\n",
    "            yield ' '.join(parts)\n",
    "        # end\n",
    "    # end\n",
    "\n",
    "    def _exponential_kernel(self, distance, width_kernel):\n",
    "        return np.sqrt(np.exp(-(distance ** 2) / width_kernel ** 2))\n",
    "    # end\n",
    "# end"
   ]
  },
  {
   "cell_type": "code",
   "execution_count": 3,
   "id": "70dcfbf6-6835-47b8-9a12-658510c9d586",
   "metadata": {},
   "outputs": [],
   "source": [
    "config_explainer = {\n",
    "    \"token_mask\": \"[MASK]\",\n",
    "    \"alpha\": 1.0,\n",
    "    \"name_distance_function\": \"cosine\",\n",
    "    \"name_solver\": \"cholesky\",\n",
    "    \"num_samples\": 256,\n",
    "    \"width_kernel\": 25,\n",
    "    \"scale_distance\": 100.0\n",
    "}\n",
    "explainer = SimpleLimeExplainer(**config_explainer)"
   ]
  },
  {
   "cell_type": "code",
   "execution_count": 4,
   "id": "689251bf-e153-4576-b2ad-c999fe928feb",
   "metadata": {},
   "outputs": [],
   "source": [
    "import os\n",
    "import pandas as pd\n",
    "import numpy as np\n",
    "import random"
   ]
  },
  {
   "cell_type": "code",
   "execution_count": 5,
   "id": "3599fed6-47e9-4f2c-932d-010fbb9b3235",
   "metadata": {},
   "outputs": [],
   "source": [
    "# model_name = \"bert-base-uncased\"\n",
    "model_name = \"distilbert-base-uncased\"\n",
    "model_dir = 'models_target'\n",
    "max_length = 512\n",
    "\n",
    "dir_data = 'data'\n",
    "name_data_file = 'log_content_3_20220209.csv'\n",
    "#name_data_file_target = 'log_content_3_20220209_target.csv'\n",
    "\n",
    "name_label_file = 'labels.json'\n",
    "path_data_relative = os.path.join(dir_data, name_data_file)\n",
    "path_label_relative = os.path.join(dir_data, name_label_file)\n",
    "#path_file_target_relative = os.path.join(dir_data, name_data_file_target)"
   ]
  },
  {
   "cell_type": "code",
   "execution_count": 6,
   "id": "869edaaf-4412-4af4-8d08-06b1bde46c9e",
   "metadata": {},
   "outputs": [],
   "source": [
    "def read_passages(path_data, path_label):\n",
    "    df = pd.read_csv(path_data)\n",
    "    documents = df['processed'].to_list()\n",
    "    \n",
    "    with open(path_label, 'r') as file:\n",
    "        labels_list = sorted(json.load(file))\n",
    "    # end\n",
    "    \n",
    "    labels_all = {l:idx for idx, l in enumerate(labels_list)}\n",
    "\n",
    "    return documents, labels_list\n",
    "# end"
   ]
  },
  {
   "cell_type": "code",
   "execution_count": 7,
   "id": "0a70e6a9-1c2b-4e58-b984-6c72954b672b",
   "metadata": {},
   "outputs": [],
   "source": [
    "texts_predict, target_names = read_passages(path_data_relative, path_label_relative)"
   ]
  },
  {
   "cell_type": "code",
   "execution_count": 8,
   "id": "7e6ba056-ef8b-40da-a77a-e32d33029ed5",
   "metadata": {},
   "outputs": [
    {
     "data": {
      "text/plain": [
       "SimpleBertClassifier(\n",
       "  (classifier): DistilBertForSequenceClassification(\n",
       "    (distilbert): DistilBertModel(\n",
       "      (embeddings): Embeddings(\n",
       "        (word_embeddings): Embedding(30522, 768, padding_idx=0)\n",
       "        (position_embeddings): Embedding(512, 768)\n",
       "        (LayerNorm): LayerNorm((768,), eps=1e-12, elementwise_affine=True)\n",
       "        (dropout): Dropout(p=0.1, inplace=False)\n",
       "      )\n",
       "      (transformer): Transformer(\n",
       "        (layer): ModuleList(\n",
       "          (0): TransformerBlock(\n",
       "            (attention): MultiHeadSelfAttention(\n",
       "              (dropout): Dropout(p=0.1, inplace=False)\n",
       "              (q_lin): Linear(in_features=768, out_features=768, bias=True)\n",
       "              (k_lin): Linear(in_features=768, out_features=768, bias=True)\n",
       "              (v_lin): Linear(in_features=768, out_features=768, bias=True)\n",
       "              (out_lin): Linear(in_features=768, out_features=768, bias=True)\n",
       "            )\n",
       "            (sa_layer_norm): LayerNorm((768,), eps=1e-12, elementwise_affine=True)\n",
       "            (ffn): FFN(\n",
       "              (dropout): Dropout(p=0.1, inplace=False)\n",
       "              (lin1): Linear(in_features=768, out_features=3072, bias=True)\n",
       "              (lin2): Linear(in_features=3072, out_features=768, bias=True)\n",
       "            )\n",
       "            (output_layer_norm): LayerNorm((768,), eps=1e-12, elementwise_affine=True)\n",
       "          )\n",
       "          (1): TransformerBlock(\n",
       "            (attention): MultiHeadSelfAttention(\n",
       "              (dropout): Dropout(p=0.1, inplace=False)\n",
       "              (q_lin): Linear(in_features=768, out_features=768, bias=True)\n",
       "              (k_lin): Linear(in_features=768, out_features=768, bias=True)\n",
       "              (v_lin): Linear(in_features=768, out_features=768, bias=True)\n",
       "              (out_lin): Linear(in_features=768, out_features=768, bias=True)\n",
       "            )\n",
       "            (sa_layer_norm): LayerNorm((768,), eps=1e-12, elementwise_affine=True)\n",
       "            (ffn): FFN(\n",
       "              (dropout): Dropout(p=0.1, inplace=False)\n",
       "              (lin1): Linear(in_features=768, out_features=3072, bias=True)\n",
       "              (lin2): Linear(in_features=3072, out_features=768, bias=True)\n",
       "            )\n",
       "            (output_layer_norm): LayerNorm((768,), eps=1e-12, elementwise_affine=True)\n",
       "          )\n",
       "          (2): TransformerBlock(\n",
       "            (attention): MultiHeadSelfAttention(\n",
       "              (dropout): Dropout(p=0.1, inplace=False)\n",
       "              (q_lin): Linear(in_features=768, out_features=768, bias=True)\n",
       "              (k_lin): Linear(in_features=768, out_features=768, bias=True)\n",
       "              (v_lin): Linear(in_features=768, out_features=768, bias=True)\n",
       "              (out_lin): Linear(in_features=768, out_features=768, bias=True)\n",
       "            )\n",
       "            (sa_layer_norm): LayerNorm((768,), eps=1e-12, elementwise_affine=True)\n",
       "            (ffn): FFN(\n",
       "              (dropout): Dropout(p=0.1, inplace=False)\n",
       "              (lin1): Linear(in_features=768, out_features=3072, bias=True)\n",
       "              (lin2): Linear(in_features=3072, out_features=768, bias=True)\n",
       "            )\n",
       "            (output_layer_norm): LayerNorm((768,), eps=1e-12, elementwise_affine=True)\n",
       "          )\n",
       "          (3): TransformerBlock(\n",
       "            (attention): MultiHeadSelfAttention(\n",
       "              (dropout): Dropout(p=0.1, inplace=False)\n",
       "              (q_lin): Linear(in_features=768, out_features=768, bias=True)\n",
       "              (k_lin): Linear(in_features=768, out_features=768, bias=True)\n",
       "              (v_lin): Linear(in_features=768, out_features=768, bias=True)\n",
       "              (out_lin): Linear(in_features=768, out_features=768, bias=True)\n",
       "            )\n",
       "            (sa_layer_norm): LayerNorm((768,), eps=1e-12, elementwise_affine=True)\n",
       "            (ffn): FFN(\n",
       "              (dropout): Dropout(p=0.1, inplace=False)\n",
       "              (lin1): Linear(in_features=768, out_features=3072, bias=True)\n",
       "              (lin2): Linear(in_features=3072, out_features=768, bias=True)\n",
       "            )\n",
       "            (output_layer_norm): LayerNorm((768,), eps=1e-12, elementwise_affine=True)\n",
       "          )\n",
       "          (4): TransformerBlock(\n",
       "            (attention): MultiHeadSelfAttention(\n",
       "              (dropout): Dropout(p=0.1, inplace=False)\n",
       "              (q_lin): Linear(in_features=768, out_features=768, bias=True)\n",
       "              (k_lin): Linear(in_features=768, out_features=768, bias=True)\n",
       "              (v_lin): Linear(in_features=768, out_features=768, bias=True)\n",
       "              (out_lin): Linear(in_features=768, out_features=768, bias=True)\n",
       "            )\n",
       "            (sa_layer_norm): LayerNorm((768,), eps=1e-12, elementwise_affine=True)\n",
       "            (ffn): FFN(\n",
       "              (dropout): Dropout(p=0.1, inplace=False)\n",
       "              (lin1): Linear(in_features=768, out_features=3072, bias=True)\n",
       "              (lin2): Linear(in_features=3072, out_features=768, bias=True)\n",
       "            )\n",
       "            (output_layer_norm): LayerNorm((768,), eps=1e-12, elementwise_affine=True)\n",
       "          )\n",
       "          (5): TransformerBlock(\n",
       "            (attention): MultiHeadSelfAttention(\n",
       "              (dropout): Dropout(p=0.1, inplace=False)\n",
       "              (q_lin): Linear(in_features=768, out_features=768, bias=True)\n",
       "              (k_lin): Linear(in_features=768, out_features=768, bias=True)\n",
       "              (v_lin): Linear(in_features=768, out_features=768, bias=True)\n",
       "              (out_lin): Linear(in_features=768, out_features=768, bias=True)\n",
       "            )\n",
       "            (sa_layer_norm): LayerNorm((768,), eps=1e-12, elementwise_affine=True)\n",
       "            (ffn): FFN(\n",
       "              (dropout): Dropout(p=0.1, inplace=False)\n",
       "              (lin1): Linear(in_features=768, out_features=3072, bias=True)\n",
       "              (lin2): Linear(in_features=3072, out_features=768, bias=True)\n",
       "            )\n",
       "            (output_layer_norm): LayerNorm((768,), eps=1e-12, elementwise_affine=True)\n",
       "          )\n",
       "        )\n",
       "      )\n",
       "    )\n",
       "    (pre_classifier): Linear(in_features=768, out_features=768, bias=True)\n",
       "    (classifier): Linear(in_features=768, out_features=7, bias=True)\n",
       "    (dropout): Dropout(p=0.2, inplace=False)\n",
       "  )\n",
       ")"
      ]
     },
     "execution_count": 8,
     "metadata": {},
     "output_type": "execute_result"
    }
   ],
   "source": [
    "classifier = SimpleBertClassifier('models_target', 'distilbert-base-uncased')\n",
    "classifier.load()"
   ]
  },
  {
   "cell_type": "code",
   "execution_count": null,
   "id": "408d7134-a291-40bd-9445-8bc9922f2008",
   "metadata": {},
   "outputs": [
    {
     "name": "stdout",
     "output_type": "stream",
     "text": [
      "[10:26:08] start to handle 0: timestamp failed at play lsi logic v hba device ops timestamp task wait for device list changed fatal localhost ip address failed when ls blk\n"
     ]
    },
    {
     "name": "stderr",
     "output_type": "stream",
     "text": [
      "<ipython-input-2-ae9b77f97518>:90: DeprecationWarning: `np.bool` is a deprecated alias for the builtin `bool`. To silence this warning, use `bool` by itself. Doing this will not modify any behavior and is safe. If you specifically wanted the numpy scalar type, use `np.bool_` here.\n",
      "Deprecated in NumPy 1.20; for more details and guidance: https://numpy.org/devdocs/release/1.20.0-notes.html#deprecations\n",
      "  all_true_mask = np.ones_like(masks[0], dtype=np.bool)\n"
     ]
    },
    {
     "name": "stdout",
     "output_type": "stream",
     "text": [
      "[10:27:19] done with 0\n",
      "[10:27:19] ignore duplicated case: 1\n",
      "[10:27:19] ignore duplicated case: 2\n",
      "[10:27:19] ignore duplicated case: 3\n",
      "[10:27:19] ignore duplicated case: 4\n",
      "[10:27:19] ignore duplicated case: 5\n",
      "[10:27:19] start to handle 6: timestamp failed at play network device ops timestamp task apply net plan configuration file for new added nic in ubuntu fatal localhost failed failed to connect to the host via ssh ssh connect to host ip address port number connection timed out\n"
     ]
    },
    {
     "name": "stderr",
     "output_type": "stream",
     "text": [
      "<ipython-input-2-ae9b77f97518>:90: DeprecationWarning: `np.bool` is a deprecated alias for the builtin `bool`. To silence this warning, use `bool` by itself. Doing this will not modify any behavior and is safe. If you specifically wanted the numpy scalar type, use `np.bool_` here.\n",
      "Deprecated in NumPy 1.20; for more details and guidance: https://numpy.org/devdocs/release/1.20.0-notes.html#deprecations\n",
      "  all_true_mask = np.ones_like(masks[0], dtype=np.bool)\n"
     ]
    },
    {
     "name": "stdout",
     "output_type": "stream",
     "text": [
      "[10:28:23] done with 6\n",
      "[10:28:23] start to handle 7: timestamp failed at play vmxnet number network device ops timestamp task apply net plan configuration file for new added nic in ubuntu fatal localhost failed failed to connect to the host via ssh ssh connect to host ip address port number connection timed out\n"
     ]
    },
    {
     "name": "stderr",
     "output_type": "stream",
     "text": [
      "<ipython-input-2-ae9b77f97518>:90: DeprecationWarning: `np.bool` is a deprecated alias for the builtin `bool`. To silence this warning, use `bool` by itself. Doing this will not modify any behavior and is safe. If you specifically wanted the numpy scalar type, use `np.bool_` here.\n",
      "Deprecated in NumPy 1.20; for more details and guidance: https://numpy.org/devdocs/release/1.20.0-notes.html#deprecations\n",
      "  all_true_mask = np.ones_like(masks[0], dtype=np.bool)\n"
     ]
    },
    {
     "name": "stdout",
     "output_type": "stream",
     "text": [
      "[10:29:26] done with 7\n",
      "[10:29:26] start to handle 8: timestamp failed at play lsi logic v hba device ops timestamp task re scan all scsi devices fatal localhost failed failed to connect to the host via ssh ssh connect to host ip address port number no route to host\n"
     ]
    },
    {
     "name": "stderr",
     "output_type": "stream",
     "text": [
      "<ipython-input-2-ae9b77f97518>:90: DeprecationWarning: `np.bool` is a deprecated alias for the builtin `bool`. To silence this warning, use `bool` by itself. Doing this will not modify any behavior and is safe. If you specifically wanted the numpy scalar type, use `np.bool_` here.\n",
      "Deprecated in NumPy 1.20; for more details and guidance: https://numpy.org/devdocs/release/1.20.0-notes.html#deprecations\n",
      "  all_true_mask = np.ones_like(masks[0], dtype=np.bool)\n"
     ]
    },
    {
     "name": "stdout",
     "output_type": "stream",
     "text": [
      "[10:30:29] done with 8\n",
      "[10:30:29] start to handle 9: timestamp failed at play lsi logic v hba device ops timestamp task re scan all scsi devices fatal localhost failed failed to connect to the host via ssh ssh connect to host ip address port number connection timed out\n"
     ]
    },
    {
     "name": "stderr",
     "output_type": "stream",
     "text": [
      "<ipython-input-2-ae9b77f97518>:90: DeprecationWarning: `np.bool` is a deprecated alias for the builtin `bool`. To silence this warning, use `bool` by itself. Doing this will not modify any behavior and is safe. If you specifically wanted the numpy scalar type, use `np.bool_` here.\n",
      "Deprecated in NumPy 1.20; for more details and guidance: https://numpy.org/devdocs/release/1.20.0-notes.html#deprecations\n",
      "  all_true_mask = np.ones_like(masks[0], dtype=np.bool)\n"
     ]
    },
    {
     "name": "stdout",
     "output_type": "stream",
     "text": [
      "[10:31:32] done with 9\n",
      "[10:31:32] start to handle 10: timestamp failed at play network device ops timestamp task apply net plan configuration file for new added nic in ubuntu fatal localhost failed failed to connect to the host via ssh ssh connect to host ip address port number no route to host\n"
     ]
    },
    {
     "name": "stderr",
     "output_type": "stream",
     "text": [
      "<ipython-input-2-ae9b77f97518>:90: DeprecationWarning: `np.bool` is a deprecated alias for the builtin `bool`. To silence this warning, use `bool` by itself. Doing this will not modify any behavior and is safe. If you specifically wanted the numpy scalar type, use `np.bool_` here.\n",
      "Deprecated in NumPy 1.20; for more details and guidance: https://numpy.org/devdocs/release/1.20.0-notes.html#deprecations\n",
      "  all_true_mask = np.ones_like(masks[0], dtype=np.bool)\n"
     ]
    },
    {
     "name": "stdout",
     "output_type": "stream",
     "text": [
      "[10:32:37] done with 10\n",
      "[10:32:37] start to handle 11: timestamp failed at play vmxnet number network device ops timestamp task apply net plan configuration file for new added nic in ubuntu fatal localhost failed failed to connect to the host via ssh ssh connect to host ip address port number no route to host\n"
     ]
    },
    {
     "name": "stderr",
     "output_type": "stream",
     "text": [
      "<ipython-input-2-ae9b77f97518>:90: DeprecationWarning: `np.bool` is a deprecated alias for the builtin `bool`. To silence this warning, use `bool` by itself. Doing this will not modify any behavior and is safe. If you specifically wanted the numpy scalar type, use `np.bool_` here.\n",
      "Deprecated in NumPy 1.20; for more details and guidance: https://numpy.org/devdocs/release/1.20.0-notes.html#deprecations\n",
      "  all_true_mask = np.ones_like(masks[0], dtype=np.bool)\n"
     ]
    },
    {
     "name": "stdout",
     "output_type": "stream",
     "text": [
      "[10:33:42] done with 11\n",
      "[10:33:42] ignore duplicated case: 12\n",
      "[10:33:42] ignore duplicated case: 13\n",
      "[10:33:42] ignore duplicated case: 14\n",
      "[10:33:42] ignore duplicated case: 15\n",
      "[10:33:42] ignore duplicated case: 16\n",
      "[10:33:42] ignore duplicated case: 17\n",
      "[10:33:42] start to handle 18: timestamp failed at play go sc perl dhcp timestamp task wait for vmware tools collecting guest info fatal localhost failed hardware configuration table\n"
     ]
    },
    {
     "name": "stderr",
     "output_type": "stream",
     "text": [
      "<ipython-input-2-ae9b77f97518>:90: DeprecationWarning: `np.bool` is a deprecated alias for the builtin `bool`. To silence this warning, use `bool` by itself. Doing this will not modify any behavior and is safe. If you specifically wanted the numpy scalar type, use `np.bool_` here.\n",
      "Deprecated in NumPy 1.20; for more details and guidance: https://numpy.org/devdocs/release/1.20.0-notes.html#deprecations\n",
      "  all_true_mask = np.ones_like(masks[0], dtype=np.bool)\n"
     ]
    },
    {
     "name": "stdout",
     "output_type": "stream",
     "text": [
      "[10:34:44] done with 18\n",
      "[10:34:44] ignore duplicated case: 19\n",
      "[10:34:44] start to handle 20: timestamp failed at play go sc perl static ip timestamp task wait for vmware tools collecting guest info fatal localhost failed hardware configuration table\n"
     ]
    },
    {
     "name": "stderr",
     "output_type": "stream",
     "text": [
      "<ipython-input-2-ae9b77f97518>:90: DeprecationWarning: `np.bool` is a deprecated alias for the builtin `bool`. To silence this warning, use `bool` by itself. Doing this will not modify any behavior and is safe. If you specifically wanted the numpy scalar type, use `np.bool_` here.\n",
      "Deprecated in NumPy 1.20; for more details and guidance: https://numpy.org/devdocs/release/1.20.0-notes.html#deprecations\n",
      "  all_true_mask = np.ones_like(masks[0], dtype=np.bool)\n"
     ]
    },
    {
     "name": "stdout",
     "output_type": "stream",
     "text": [
      "[10:35:47] done with 20\n",
      "[10:35:47] ignore duplicated case: 21\n",
      "[10:35:47] start to handle 22: timestamp failed at play go sc cloud init static ip timestamp task wait for vmware tools collecting guest info fatal localhost failed hardware configuration table\n"
     ]
    },
    {
     "name": "stderr",
     "output_type": "stream",
     "text": [
      "<ipython-input-2-ae9b77f97518>:90: DeprecationWarning: `np.bool` is a deprecated alias for the builtin `bool`. To silence this warning, use `bool` by itself. Doing this will not modify any behavior and is safe. If you specifically wanted the numpy scalar type, use `np.bool_` here.\n",
      "Deprecated in NumPy 1.20; for more details and guidance: https://numpy.org/devdocs/release/1.20.0-notes.html#deprecations\n",
      "  all_true_mask = np.ones_like(masks[0], dtype=np.bool)\n"
     ]
    },
    {
     "name": "stdout",
     "output_type": "stream",
     "text": [
      "[10:36:50] done with 22\n",
      "[10:36:50] ignore duplicated case: 23\n",
      "[10:36:50] ignore duplicated case: 24\n",
      "[10:36:50] start to handle 25: timestamp failed at play lsi logic v hba device ops timestamp task wait for device list changed fatal localhost un reachable failed to create temporary directory in some cases you may have been able to authenticate and did not have permissions on the target directory consider changing the remote tmp path in ansible configuration to a path rooted in tmp for more error information use v v v failed command was u mask number mkdir p echo tmp mkdir echo tmp ansible tmp hex id number timestamp echo ansible tmp hex id number timestamp echo tmp ansible tmp hex id number timestamp exited with result number\n"
     ]
    },
    {
     "name": "stderr",
     "output_type": "stream",
     "text": [
      "<ipython-input-2-ae9b77f97518>:90: DeprecationWarning: `np.bool` is a deprecated alias for the builtin `bool`. To silence this warning, use `bool` by itself. Doing this will not modify any behavior and is safe. If you specifically wanted the numpy scalar type, use `np.bool_` here.\n",
      "Deprecated in NumPy 1.20; for more details and guidance: https://numpy.org/devdocs/release/1.20.0-notes.html#deprecations\n",
      "  all_true_mask = np.ones_like(masks[0], dtype=np.bool)\n"
     ]
    },
    {
     "name": "stdout",
     "output_type": "stream",
     "text": [
      "[10:37:54] done with 25\n",
      "[10:37:54] ignore duplicated case: 26\n",
      "[10:37:54] ignore duplicated case: 27\n",
      "[10:37:54] ignore duplicated case: 28\n",
      "[10:37:54] ignore duplicated case: 29\n",
      "[10:37:54] ignore duplicated case: 30\n",
      "[10:37:54] ignore duplicated case: 31\n",
      "[10:37:54] ignore duplicated case: 32\n",
      "[10:37:54] ignore duplicated case: 33\n",
      "[10:37:54] ignore duplicated case: 34\n",
      "[10:37:54] ignore duplicated case: 35\n",
      "[10:37:54] ignore duplicated case: 36\n",
      "[10:37:54] ignore duplicated case: 37\n",
      "[10:37:54] start to handle 38: timestamp failed at play lsi logic v hba device ops timestamp task wait for device list changed fatal localhost un reachable failed to create temporary directory in some cases you may have been able to authenticate and did not have permissions on the target directory consider changing the remote tmp path in ansible configuration to a path rooted in tmp for more error information use v v v failed command was u mask number mkdir p echo tmp mkdir echo tmp ansible tmp hex id number number timestamp echo ansible tmp hex id number number timestamp echo tmp ansible tmp hex id number number timestamp exited with result number\n"
     ]
    },
    {
     "name": "stderr",
     "output_type": "stream",
     "text": [
      "<ipython-input-2-ae9b77f97518>:90: DeprecationWarning: `np.bool` is a deprecated alias for the builtin `bool`. To silence this warning, use `bool` by itself. Doing this will not modify any behavior and is safe. If you specifically wanted the numpy scalar type, use `np.bool_` here.\n",
      "Deprecated in NumPy 1.20; for more details and guidance: https://numpy.org/devdocs/release/1.20.0-notes.html#deprecations\n",
      "  all_true_mask = np.ones_like(masks[0], dtype=np.bool)\n"
     ]
    },
    {
     "name": "stdout",
     "output_type": "stream",
     "text": [
      "[10:38:57] done with 38\n",
      "[10:38:57] ignore duplicated case: 39\n",
      "[10:38:57] start to handle 40: timestamp failed at play environment setup timestamp task enable guest ip hack on esxi host ip address fatal localhost un reachable failed to create temporary directory in some cases you may have been able to authenticate and did not have permissions on the target directory consider changing the remote tmp path in ansible configuration to a path rooted in tmp for more error information use v v v failed command was u mask number mkdir p echo vmfs volumes data store number mkdir echo vmfs volumes data store number ansible tmp hex id number number timestamp echo ansible tmp hex id number number timestamp echo vmfs volumes data store number ansible tmp hex id number number timestamp exited with result number\n"
     ]
    },
    {
     "name": "stderr",
     "output_type": "stream",
     "text": [
      "<ipython-input-2-ae9b77f97518>:90: DeprecationWarning: `np.bool` is a deprecated alias for the builtin `bool`. To silence this warning, use `bool` by itself. Doing this will not modify any behavior and is safe. If you specifically wanted the numpy scalar type, use `np.bool_` here.\n",
      "Deprecated in NumPy 1.20; for more details and guidance: https://numpy.org/devdocs/release/1.20.0-notes.html#deprecations\n",
      "  all_true_mask = np.ones_like(masks[0], dtype=np.bool)\n"
     ]
    },
    {
     "name": "stdout",
     "output_type": "stream",
     "text": [
      "[10:39:59] done with 40\n",
      "[10:39:59] ignore duplicated case: 41\n",
      "[10:39:59] ignore duplicated case: 42\n",
      "[10:39:59] start to handle 43: timestamp failed at play ovt verify install timestamp task un install package on sled number fatal localhost ip address failed zypper run command failed with return code number when user bin zypper\n"
     ]
    },
    {
     "name": "stderr",
     "output_type": "stream",
     "text": [
      "<ipython-input-2-ae9b77f97518>:90: DeprecationWarning: `np.bool` is a deprecated alias for the builtin `bool`. To silence this warning, use `bool` by itself. Doing this will not modify any behavior and is safe. If you specifically wanted the numpy scalar type, use `np.bool_` here.\n",
      "Deprecated in NumPy 1.20; for more details and guidance: https://numpy.org/devdocs/release/1.20.0-notes.html#deprecations\n",
      "  all_true_mask = np.ones_like(masks[0], dtype=np.bool)\n"
     ]
    },
    {
     "name": "stdout",
     "output_type": "stream",
     "text": [
      "[10:41:03] done with 43\n",
      "[10:41:03] ignore duplicated case: 44\n",
      "[10:41:03] start to handle 45: timestamp failed at play check os full name timestamp task assert guest os full name is either other number x or later linux number b it or other number x linux number b it fatal localhost failed vm test vm guest os full name is alma linux number b it not expected other number x or later linux number b it or other number x linux number b it\n"
     ]
    },
    {
     "name": "stderr",
     "output_type": "stream",
     "text": [
      "<ipython-input-2-ae9b77f97518>:90: DeprecationWarning: `np.bool` is a deprecated alias for the builtin `bool`. To silence this warning, use `bool` by itself. Doing this will not modify any behavior and is safe. If you specifically wanted the numpy scalar type, use `np.bool_` here.\n",
      "Deprecated in NumPy 1.20; for more details and guidance: https://numpy.org/devdocs/release/1.20.0-notes.html#deprecations\n",
      "  all_true_mask = np.ones_like(masks[0], dtype=np.bool)\n"
     ]
    },
    {
     "name": "stdout",
     "output_type": "stream",
     "text": [
      "[10:42:07] done with 45\n",
      "[10:42:07] start to handle 46: timestamp failed at play check os full name timestamp task assert guest os full name is either other number x or later linux number b it or other number x linux number b it fatal localhost failed vm test vm guest os full name is rocky linux number b it not expected other number x or later linux number b it or other number x linux number b it\n"
     ]
    },
    {
     "name": "stderr",
     "output_type": "stream",
     "text": [
      "<ipython-input-2-ae9b77f97518>:90: DeprecationWarning: `np.bool` is a deprecated alias for the builtin `bool`. To silence this warning, use `bool` by itself. Doing this will not modify any behavior and is safe. If you specifically wanted the numpy scalar type, use `np.bool_` here.\n",
      "Deprecated in NumPy 1.20; for more details and guidance: https://numpy.org/devdocs/release/1.20.0-notes.html#deprecations\n",
      "  all_true_mask = np.ones_like(masks[0], dtype=np.bool)\n"
     ]
    },
    {
     "name": "stdout",
     "output_type": "stream",
     "text": [
      "[10:43:09] done with 46\n",
      "[10:43:09] ignore duplicated case: 47\n",
      "[10:43:09] ignore duplicated case: 48\n",
      "[10:43:09] start to handle 49: timestamp failed at play check os full name timestamp task assert guest os full name is either other number x or later linux number b it or other number x linux number b it fatal localhost failed vm test vm number guest os full name is alma linux number b it not expected other number x or later linux number b it or other number x linux number b it\n"
     ]
    },
    {
     "name": "stderr",
     "output_type": "stream",
     "text": [
      "<ipython-input-2-ae9b77f97518>:90: DeprecationWarning: `np.bool` is a deprecated alias for the builtin `bool`. To silence this warning, use `bool` by itself. Doing this will not modify any behavior and is safe. If you specifically wanted the numpy scalar type, use `np.bool_` here.\n",
      "Deprecated in NumPy 1.20; for more details and guidance: https://numpy.org/devdocs/release/1.20.0-notes.html#deprecations\n",
      "  all_true_mask = np.ones_like(masks[0], dtype=np.bool)\n"
     ]
    },
    {
     "name": "stdout",
     "output_type": "stream",
     "text": [
      "[10:44:13] done with 49\n",
      "[10:44:13] ignore duplicated case: 50\n",
      "[10:44:13] ignore duplicated case: 51\n",
      "[10:44:13] start to handle 52: timestamp failed at play check os full name timestamp task assert guest os full name is either other number x or later linux number b it or other number x linux number b it fatal localhost failed vm test vm number guest os full name is rocky linux number b it not expected other number x or later linux number b it or other number x linux number b it\n"
     ]
    },
    {
     "name": "stderr",
     "output_type": "stream",
     "text": [
      "<ipython-input-2-ae9b77f97518>:90: DeprecationWarning: `np.bool` is a deprecated alias for the builtin `bool`. To silence this warning, use `bool` by itself. Doing this will not modify any behavior and is safe. If you specifically wanted the numpy scalar type, use `np.bool_` here.\n",
      "Deprecated in NumPy 1.20; for more details and guidance: https://numpy.org/devdocs/release/1.20.0-notes.html#deprecations\n",
      "  all_true_mask = np.ones_like(masks[0], dtype=np.bool)\n"
     ]
    },
    {
     "name": "stdout",
     "output_type": "stream",
     "text": [
      "[10:45:18] done with 52\n",
      "[10:45:18] ignore duplicated case: 53\n",
      "[10:45:18] ignore duplicated case: 54\n",
      "[10:45:18] ignore duplicated case: 55\n",
      "[10:45:18] ignore duplicated case: 56\n",
      "[10:45:18] ignore duplicated case: 57\n",
      "[10:45:18] ignore duplicated case: 58\n",
      "[10:45:18] ignore duplicated case: 59\n",
      "[10:45:18] ignore duplicated case: 60\n",
      "[10:45:18] ignore duplicated case: 61\n",
      "[10:45:18] ignore duplicated case: 62\n",
      "[10:45:18] ignore duplicated case: 63\n",
      "[10:45:18] ignore duplicated case: 64\n",
      "[10:45:18] ignore duplicated case: 65\n",
      "[10:45:18] start to handle 66: timestamp failed at play go sc perl dhcp timestamp task customize linux guest os fatal localhost failed customization failed for detailed information see warnings waiting for customization result event timed out\n"
     ]
    },
    {
     "name": "stderr",
     "output_type": "stream",
     "text": [
      "<ipython-input-2-ae9b77f97518>:90: DeprecationWarning: `np.bool` is a deprecated alias for the builtin `bool`. To silence this warning, use `bool` by itself. Doing this will not modify any behavior and is safe. If you specifically wanted the numpy scalar type, use `np.bool_` here.\n",
      "Deprecated in NumPy 1.20; for more details and guidance: https://numpy.org/devdocs/release/1.20.0-notes.html#deprecations\n",
      "  all_true_mask = np.ones_like(masks[0], dtype=np.bool)\n"
     ]
    },
    {
     "name": "stdout",
     "output_type": "stream",
     "text": [
      "[10:46:22] done with 66\n",
      "[10:46:22] start to handle 67: timestamp failed at play go sc perl static ip timestamp task customize linux guest os fatal localhost failed customization failed for detailed information see warnings waiting for customization result event timed out\n"
     ]
    },
    {
     "name": "stderr",
     "output_type": "stream",
     "text": [
      "<ipython-input-2-ae9b77f97518>:90: DeprecationWarning: `np.bool` is a deprecated alias for the builtin `bool`. To silence this warning, use `bool` by itself. Doing this will not modify any behavior and is safe. If you specifically wanted the numpy scalar type, use `np.bool_` here.\n",
      "Deprecated in NumPy 1.20; for more details and guidance: https://numpy.org/devdocs/release/1.20.0-notes.html#deprecations\n",
      "  all_true_mask = np.ones_like(masks[0], dtype=np.bool)\n"
     ]
    },
    {
     "name": "stdout",
     "output_type": "stream",
     "text": [
      "[10:47:33] done with 67\n",
      "[10:47:33] start to handle 68: timestamp failed at play testbed deploy nimbus timestamp task check nimbus testbed deploy status every number seconds fatal localhost wdc eng vmware com failed nimbus testbed deploy error\n"
     ]
    },
    {
     "name": "stderr",
     "output_type": "stream",
     "text": [
      "<ipython-input-2-ae9b77f97518>:90: DeprecationWarning: `np.bool` is a deprecated alias for the builtin `bool`. To silence this warning, use `bool` by itself. Doing this will not modify any behavior and is safe. If you specifically wanted the numpy scalar type, use `np.bool_` here.\n",
      "Deprecated in NumPy 1.20; for more details and guidance: https://numpy.org/devdocs/release/1.20.0-notes.html#deprecations\n",
      "  all_true_mask = np.ones_like(masks[0], dtype=np.bool)\n"
     ]
    },
    {
     "name": "stdout",
     "output_type": "stream",
     "text": [
      "[10:48:38] done with 68\n",
      "[10:48:38] ignore duplicated case: 69\n",
      "[10:48:38] ignore duplicated case: 70\n",
      "[10:48:38] ignore duplicated case: 71\n",
      "[10:48:38] ignore duplicated case: 72\n",
      "[10:48:38] ignore duplicated case: 73\n",
      "[10:48:38] ignore duplicated case: 74\n",
      "[10:48:38] ignore duplicated case: 75\n",
      "[10:48:38] ignore duplicated case: 76\n",
      "[10:48:38] ignore duplicated case: 77\n",
      "[10:48:38] start to handle 78: timestamp failed at play deploy vm efi para virtual timestamp task check vm test vm number ip address fatal localhost failed failed to get vm test vm number ip address timestamp task check if exit testing parameter is set fatal localhost failed exit testing when exit testing when fail is set to true\n"
     ]
    },
    {
     "name": "stderr",
     "output_type": "stream",
     "text": [
      "<ipython-input-2-ae9b77f97518>:90: DeprecationWarning: `np.bool` is a deprecated alias for the builtin `bool`. To silence this warning, use `bool` by itself. Doing this will not modify any behavior and is safe. If you specifically wanted the numpy scalar type, use `np.bool_` here.\n",
      "Deprecated in NumPy 1.20; for more details and guidance: https://numpy.org/devdocs/release/1.20.0-notes.html#deprecations\n",
      "  all_true_mask = np.ones_like(masks[0], dtype=np.bool)\n"
     ]
    },
    {
     "name": "stdout",
     "output_type": "stream",
     "text": [
      "[10:49:43] done with 78\n",
      "[10:49:43] ignore duplicated case: 79\n",
      "[10:49:43] start to handle 80: timestamp failed at play win tools complete install verify timestamp task check vm test vm number ip address fatal localhost failed failed to get vm test vm number ip address\n"
     ]
    },
    {
     "name": "stderr",
     "output_type": "stream",
     "text": [
      "<ipython-input-2-ae9b77f97518>:90: DeprecationWarning: `np.bool` is a deprecated alias for the builtin `bool`. To silence this warning, use `bool` by itself. Doing this will not modify any behavior and is safe. If you specifically wanted the numpy scalar type, use `np.bool_` here.\n",
      "Deprecated in NumPy 1.20; for more details and guidance: https://numpy.org/devdocs/release/1.20.0-notes.html#deprecations\n",
      "  all_true_mask = np.ones_like(masks[0], dtype=np.bool)\n"
     ]
    },
    {
     "name": "stdout",
     "output_type": "stream",
     "text": [
      "[10:50:46] done with 80\n",
      "[10:50:46] start to handle 81: timestamp failed at play check ip address timestamp task check vm test vm number ip address fatal localhost failed failed to get vm test vm number ip address\n"
     ]
    },
    {
     "name": "stderr",
     "output_type": "stream",
     "text": [
      "<ipython-input-2-ae9b77f97518>:90: DeprecationWarning: `np.bool` is a deprecated alias for the builtin `bool`. To silence this warning, use `bool` by itself. Doing this will not modify any behavior and is safe. If you specifically wanted the numpy scalar type, use `np.bool_` here.\n",
      "Deprecated in NumPy 1.20; for more details and guidance: https://numpy.org/devdocs/release/1.20.0-notes.html#deprecations\n",
      "  all_true_mask = np.ones_like(masks[0], dtype=np.bool)\n"
     ]
    },
    {
     "name": "stdout",
     "output_type": "stream",
     "text": [
      "[10:51:48] done with 81\n",
      "[10:51:48] start to handle 82: timestamp failed at play vg auth check service timestamp task check vm test vm number ip address fatal localhost failed failed to get vm test vm number ip address\n"
     ]
    },
    {
     "name": "stderr",
     "output_type": "stream",
     "text": [
      "<ipython-input-2-ae9b77f97518>:90: DeprecationWarning: `np.bool` is a deprecated alias for the builtin `bool`. To silence this warning, use `bool` by itself. Doing this will not modify any behavior and is safe. If you specifically wanted the numpy scalar type, use `np.bool_` here.\n",
      "Deprecated in NumPy 1.20; for more details and guidance: https://numpy.org/devdocs/release/1.20.0-notes.html#deprecations\n",
      "  all_true_mask = np.ones_like(masks[0], dtype=np.bool)\n"
     ]
    },
    {
     "name": "stdout",
     "output_type": "stream",
     "text": [
      "[10:52:52] done with 82\n",
      "[10:52:52] start to handle 83: timestamp failed at play para virtual v hba device ops timestamp task check vm test vm number ip address fatal localhost failed failed to get vm test vm number ip address\n"
     ]
    },
    {
     "name": "stderr",
     "output_type": "stream",
     "text": [
      "<ipython-input-2-ae9b77f97518>:90: DeprecationWarning: `np.bool` is a deprecated alias for the builtin `bool`. To silence this warning, use `bool` by itself. Doing this will not modify any behavior and is safe. If you specifically wanted the numpy scalar type, use `np.bool_` here.\n",
      "Deprecated in NumPy 1.20; for more details and guidance: https://numpy.org/devdocs/release/1.20.0-notes.html#deprecations\n",
      "  all_true_mask = np.ones_like(masks[0], dtype=np.bool)\n"
     ]
    },
    {
     "name": "stdout",
     "output_type": "stream",
     "text": [
      "[10:53:56] done with 83\n",
      "[10:53:56] start to handle 84: timestamp failed at play nvme v hba device ops timestamp task check vm test vm number ip address fatal localhost failed failed to get vm test vm number ip address\n"
     ]
    },
    {
     "name": "stderr",
     "output_type": "stream",
     "text": [
      "<ipython-input-2-ae9b77f97518>:90: DeprecationWarning: `np.bool` is a deprecated alias for the builtin `bool`. To silence this warning, use `bool` by itself. Doing this will not modify any behavior and is safe. If you specifically wanted the numpy scalar type, use `np.bool_` here.\n",
      "Deprecated in NumPy 1.20; for more details and guidance: https://numpy.org/devdocs/release/1.20.0-notes.html#deprecations\n",
      "  all_true_mask = np.ones_like(masks[0], dtype=np.bool)\n"
     ]
    },
    {
     "name": "stdout",
     "output_type": "stream",
     "text": [
      "[10:55:00] done with 84\n",
      "[10:55:00] start to handle 85: timestamp failed at play memory hot add basic timestamp task check vm test vm number ip address fatal localhost failed failed to get vm test vm number ip address\n"
     ]
    },
    {
     "name": "stderr",
     "output_type": "stream",
     "text": [
      "<ipython-input-2-ae9b77f97518>:90: DeprecationWarning: `np.bool` is a deprecated alias for the builtin `bool`. To silence this warning, use `bool` by itself. Doing this will not modify any behavior and is safe. If you specifically wanted the numpy scalar type, use `np.bool_` here.\n",
      "Deprecated in NumPy 1.20; for more details and guidance: https://numpy.org/devdocs/release/1.20.0-notes.html#deprecations\n",
      "  all_true_mask = np.ones_like(masks[0], dtype=np.bool)\n"
     ]
    },
    {
     "name": "stdout",
     "output_type": "stream",
     "text": [
      "[10:56:03] done with 85\n",
      "[10:56:04] start to handle 86: timestamp failed at play cpu multi cores per socket timestamp task check vm test vm number ip address fatal localhost failed failed to get vm test vm number ip address\n"
     ]
    },
    {
     "name": "stderr",
     "output_type": "stream",
     "text": [
      "<ipython-input-2-ae9b77f97518>:90: DeprecationWarning: `np.bool` is a deprecated alias for the builtin `bool`. To silence this warning, use `bool` by itself. Doing this will not modify any behavior and is safe. If you specifically wanted the numpy scalar type, use `np.bool_` here.\n",
      "Deprecated in NumPy 1.20; for more details and guidance: https://numpy.org/devdocs/release/1.20.0-notes.html#deprecations\n",
      "  all_true_mask = np.ones_like(masks[0], dtype=np.bool)\n"
     ]
    },
    {
     "name": "stdout",
     "output_type": "stream",
     "text": [
      "[10:57:06] done with 86\n",
      "[10:57:06] ignore duplicated case: 87\n",
      "[10:57:06] start to handle 88: timestamp failed at play mouse driver vm tools timestamp task check vm test vm number ip address fatal localhost failed failed to get vm test vm number ip address\n"
     ]
    },
    {
     "name": "stderr",
     "output_type": "stream",
     "text": [
      "<ipython-input-2-ae9b77f97518>:90: DeprecationWarning: `np.bool` is a deprecated alias for the builtin `bool`. To silence this warning, use `bool` by itself. Doing this will not modify any behavior and is safe. If you specifically wanted the numpy scalar type, use `np.bool_` here.\n",
      "Deprecated in NumPy 1.20; for more details and guidance: https://numpy.org/devdocs/release/1.20.0-notes.html#deprecations\n",
      "  all_true_mask = np.ones_like(masks[0], dtype=np.bool)\n"
     ]
    },
    {
     "name": "stdout",
     "output_type": "stream",
     "text": [
      "[10:58:11] done with 88\n",
      "[10:58:11] start to handle 89: timestamp failed at play stat balloon timestamp task check vm test vm number ip address fatal localhost failed failed to get vm test vm number ip address\n"
     ]
    },
    {
     "name": "stderr",
     "output_type": "stream",
     "text": [
      "<ipython-input-2-ae9b77f97518>:90: DeprecationWarning: `np.bool` is a deprecated alias for the builtin `bool`. To silence this warning, use `bool` by itself. Doing this will not modify any behavior and is safe. If you specifically wanted the numpy scalar type, use `np.bool_` here.\n",
      "Deprecated in NumPy 1.20; for more details and guidance: https://numpy.org/devdocs/release/1.20.0-notes.html#deprecations\n",
      "  all_true_mask = np.ones_like(masks[0], dtype=np.bool)\n"
     ]
    },
    {
     "name": "stdout",
     "output_type": "stream",
     "text": [
      "[10:59:16] done with 89\n",
      "[10:59:16] ignore duplicated case: 90\n",
      "[10:59:16] start to handle 91: timestamp failed at play win tools un install verify timestamp task check vm test vm number ip address fatal localhost failed failed to get vm test vm number ip address\n"
     ]
    },
    {
     "name": "stderr",
     "output_type": "stream",
     "text": [
      "<ipython-input-2-ae9b77f97518>:90: DeprecationWarning: `np.bool` is a deprecated alias for the builtin `bool`. To silence this warning, use `bool` by itself. Doing this will not modify any behavior and is safe. If you specifically wanted the numpy scalar type, use `np.bool_` here.\n",
      "Deprecated in NumPy 1.20; for more details and guidance: https://numpy.org/devdocs/release/1.20.0-notes.html#deprecations\n",
      "  all_true_mask = np.ones_like(masks[0], dtype=np.bool)\n"
     ]
    },
    {
     "name": "stdout",
     "output_type": "stream",
     "text": [
      "[11:00:21] done with 91\n",
      "[11:00:21] start to handle 92: timestamp failed at play deploy vm efi para virtual timestamp task check vm test vm ip address fatal localhost failed failed to get vm test vm ip address timestamp task check if exit testing parameter is set fatal localhost failed exit testing when exit testing when fail is set to true\n"
     ]
    },
    {
     "name": "stderr",
     "output_type": "stream",
     "text": [
      "<ipython-input-2-ae9b77f97518>:90: DeprecationWarning: `np.bool` is a deprecated alias for the builtin `bool`. To silence this warning, use `bool` by itself. Doing this will not modify any behavior and is safe. If you specifically wanted the numpy scalar type, use `np.bool_` here.\n",
      "Deprecated in NumPy 1.20; for more details and guidance: https://numpy.org/devdocs/release/1.20.0-notes.html#deprecations\n",
      "  all_true_mask = np.ones_like(masks[0], dtype=np.bool)\n"
     ]
    },
    {
     "name": "stdout",
     "output_type": "stream",
     "text": [
      "[11:01:25] done with 92\n",
      "[11:01:25] ignore duplicated case: 93\n",
      "[11:01:25] ignore duplicated case: 94\n",
      "[11:01:25] ignore duplicated case: 95\n",
      "[11:01:25] ignore duplicated case: 96\n",
      "[11:01:25] ignore duplicated case: 97\n",
      "[11:01:25] ignore duplicated case: 98\n",
      "[11:01:25] ignore duplicated case: 99\n",
      "[11:01:25] ignore duplicated case: 100\n",
      "[11:01:25] ignore duplicated case: 101\n",
      "[11:01:25] start to handle 102: timestamp failed at play deploy vm efi para virtual timestamp task check vm test vm ip address fatal localhost failed failed to get vm test vm ip address timestamp task revert snapshot failed fatal localhost failed revert to snapshot base snapshot failed\n"
     ]
    },
    {
     "name": "stderr",
     "output_type": "stream",
     "text": [
      "<ipython-input-2-ae9b77f97518>:90: DeprecationWarning: `np.bool` is a deprecated alias for the builtin `bool`. To silence this warning, use `bool` by itself. Doing this will not modify any behavior and is safe. If you specifically wanted the numpy scalar type, use `np.bool_` here.\n",
      "Deprecated in NumPy 1.20; for more details and guidance: https://numpy.org/devdocs/release/1.20.0-notes.html#deprecations\n",
      "  all_true_mask = np.ones_like(masks[0], dtype=np.bool)\n"
     ]
    },
    {
     "name": "stdout",
     "output_type": "stream",
     "text": [
      "[11:02:31] done with 102\n",
      "[11:02:31] start to handle 103: timestamp failed at play lsi logic sas v hba device ops timestamp task execute powershell command in windows guest fatal localhost un reachable basic https connection pool host ip address port number max retries exceeded with url wsman caused by connect timeout error url library number connection https connection object at hex id connection to ip address timed out connect timeout number\n"
     ]
    },
    {
     "name": "stderr",
     "output_type": "stream",
     "text": [
      "<ipython-input-2-ae9b77f97518>:90: DeprecationWarning: `np.bool` is a deprecated alias for the builtin `bool`. To silence this warning, use `bool` by itself. Doing this will not modify any behavior and is safe. If you specifically wanted the numpy scalar type, use `np.bool_` here.\n",
      "Deprecated in NumPy 1.20; for more details and guidance: https://numpy.org/devdocs/release/1.20.0-notes.html#deprecations\n",
      "  all_true_mask = np.ones_like(masks[0], dtype=np.bool)\n"
     ]
    },
    {
     "name": "stdout",
     "output_type": "stream",
     "text": [
      "[11:03:36] done with 103\n",
      "[11:03:36] start to handle 104: timestamp failed at play ovt verify install timestamp task install packages open vm tools fatal localhost ip address failed non zero return code when tdnf\n"
     ]
    },
    {
     "name": "stderr",
     "output_type": "stream",
     "text": [
      "<ipython-input-2-ae9b77f97518>:90: DeprecationWarning: `np.bool` is a deprecated alias for the builtin `bool`. To silence this warning, use `bool` by itself. Doing this will not modify any behavior and is safe. If you specifically wanted the numpy scalar type, use `np.bool_` here.\n",
      "Deprecated in NumPy 1.20; for more details and guidance: https://numpy.org/devdocs/release/1.20.0-notes.html#deprecations\n",
      "  all_true_mask = np.ones_like(masks[0], dtype=np.bool)\n"
     ]
    },
    {
     "name": "stdout",
     "output_type": "stream",
     "text": [
      "[11:04:41] done with 104\n",
      "[11:04:41] ignore duplicated case: 105\n",
      "[11:04:41] ignore duplicated case: 106\n",
      "[11:04:41] ignore duplicated case: 107\n",
      "[11:04:41] ignore duplicated case: 108\n",
      "[11:04:41] start to handle 109: timestamp failed at play ovt verify install timestamp task install packages open vm tools open vm tools desktop fatal localhost ip address failed non zero return code when dn f\n"
     ]
    },
    {
     "name": "stderr",
     "output_type": "stream",
     "text": [
      "<ipython-input-2-ae9b77f97518>:90: DeprecationWarning: `np.bool` is a deprecated alias for the builtin `bool`. To silence this warning, use `bool` by itself. Doing this will not modify any behavior and is safe. If you specifically wanted the numpy scalar type, use `np.bool_` here.\n",
      "Deprecated in NumPy 1.20; for more details and guidance: https://numpy.org/devdocs/release/1.20.0-notes.html#deprecations\n",
      "  all_true_mask = np.ones_like(masks[0], dtype=np.bool)\n"
     ]
    },
    {
     "name": "stdout",
     "output_type": "stream",
     "text": [
      "[11:05:44] done with 109\n",
      "[11:05:44] ignore duplicated case: 110\n",
      "[11:05:44] ignore duplicated case: 111\n",
      "[11:05:44] ignore duplicated case: 112\n",
      "[11:05:44] ignore duplicated case: 113\n",
      "[11:05:44] ignore duplicated case: 114\n",
      "[11:05:44] start to handle 115: timestamp failed at play go sc perl dhcp timestamp task install package on vmware photon os number fatal localhost ip address failed non zero return code when tdnf\n"
     ]
    },
    {
     "name": "stderr",
     "output_type": "stream",
     "text": [
      "<ipython-input-2-ae9b77f97518>:90: DeprecationWarning: `np.bool` is a deprecated alias for the builtin `bool`. To silence this warning, use `bool` by itself. Doing this will not modify any behavior and is safe. If you specifically wanted the numpy scalar type, use `np.bool_` here.\n",
      "Deprecated in NumPy 1.20; for more details and guidance: https://numpy.org/devdocs/release/1.20.0-notes.html#deprecations\n",
      "  all_true_mask = np.ones_like(masks[0], dtype=np.bool)\n"
     ]
    },
    {
     "name": "stdout",
     "output_type": "stream",
     "text": [
      "[11:06:49] done with 115\n",
      "[11:06:49] start to handle 116: timestamp failed at play go sc perl static ip timestamp task install package on vmware photon os number fatal localhost ip address failed non zero return code when tdnf\n"
     ]
    },
    {
     "name": "stderr",
     "output_type": "stream",
     "text": [
      "<ipython-input-2-ae9b77f97518>:90: DeprecationWarning: `np.bool` is a deprecated alias for the builtin `bool`. To silence this warning, use `bool` by itself. Doing this will not modify any behavior and is safe. If you specifically wanted the numpy scalar type, use `np.bool_` here.\n",
      "Deprecated in NumPy 1.20; for more details and guidance: https://numpy.org/devdocs/release/1.20.0-notes.html#deprecations\n",
      "  all_true_mask = np.ones_like(masks[0], dtype=np.bool)\n"
     ]
    },
    {
     "name": "stdout",
     "output_type": "stream",
     "text": [
      "[11:07:53] done with 116\n",
      "[11:07:53] start to handle 117: timestamp failed at play go sc cloud init dhcp timestamp task install package on vmware photon os number fatal localhost ip address failed non zero return code when tdnf\n"
     ]
    },
    {
     "name": "stderr",
     "output_type": "stream",
     "text": [
      "<ipython-input-2-ae9b77f97518>:90: DeprecationWarning: `np.bool` is a deprecated alias for the builtin `bool`. To silence this warning, use `bool` by itself. Doing this will not modify any behavior and is safe. If you specifically wanted the numpy scalar type, use `np.bool_` here.\n",
      "Deprecated in NumPy 1.20; for more details and guidance: https://numpy.org/devdocs/release/1.20.0-notes.html#deprecations\n",
      "  all_true_mask = np.ones_like(masks[0], dtype=np.bool)\n"
     ]
    },
    {
     "name": "stdout",
     "output_type": "stream",
     "text": [
      "[11:08:57] done with 117\n",
      "[11:08:57] start to handle 118: timestamp failed at play go sc cloud init static ip timestamp task install package on vmware photon os number fatal localhost ip address failed non zero return code when tdnf\n"
     ]
    },
    {
     "name": "stderr",
     "output_type": "stream",
     "text": [
      "<ipython-input-2-ae9b77f97518>:90: DeprecationWarning: `np.bool` is a deprecated alias for the builtin `bool`. To silence this warning, use `bool` by itself. Doing this will not modify any behavior and is safe. If you specifically wanted the numpy scalar type, use `np.bool_` here.\n",
      "Deprecated in NumPy 1.20; for more details and guidance: https://numpy.org/devdocs/release/1.20.0-notes.html#deprecations\n",
      "  all_true_mask = np.ones_like(masks[0], dtype=np.bool)\n"
     ]
    },
    {
     "name": "stdout",
     "output_type": "stream",
     "text": [
      "[11:10:01] done with 118\n",
      "[11:10:01] ignore duplicated case: 119\n",
      "[11:10:01] ignore duplicated case: 120\n",
      "[11:10:01] ignore duplicated case: 121\n",
      "[11:10:01] ignore duplicated case: 122\n",
      "[11:10:01] ignore duplicated case: 123\n",
      "[11:10:01] ignore duplicated case: 124\n",
      "[11:10:01] ignore duplicated case: 125\n",
      "[11:10:01] ignore duplicated case: 126\n",
      "[11:10:01] ignore duplicated case: 127\n",
      "[11:10:01] ignore duplicated case: 128\n",
      "[11:10:01] ignore duplicated case: 129\n",
      "[11:10:01] ignore duplicated case: 130\n",
      "[11:10:01] ignore duplicated case: 131\n",
      "[11:10:01] ignore duplicated case: 132\n",
      "[11:10:01] ignore duplicated case: 133\n",
      "[11:10:01] ignore duplicated case: 134\n",
      "[11:10:01] ignore duplicated case: 135\n",
      "[11:10:01] ignore duplicated case: 136\n",
      "[11:10:01] ignore duplicated case: 137\n",
      "[11:10:01] ignore duplicated case: 138\n",
      "[11:10:01] ignore duplicated case: 139\n",
      "[11:10:01] ignore duplicated case: 140\n",
      "[11:10:01] ignore duplicated case: 141\n",
      "[11:10:01] ignore duplicated case: 142\n",
      "[11:10:01] ignore duplicated case: 143\n",
      "[11:10:01] ignore duplicated case: 144\n",
      "[11:10:01] start to handle 145: timestamp failed at play cpu multi cores per socket timestamp task get esxi host specified property exception in vmware python when connect to api in socket python when create connection fatal localhost failed unknown error while connecting to vcenter or esxi api at ip address error number number connection timed out\n"
     ]
    },
    {
     "name": "stderr",
     "output_type": "stream",
     "text": [
      "<ipython-input-2-ae9b77f97518>:90: DeprecationWarning: `np.bool` is a deprecated alias for the builtin `bool`. To silence this warning, use `bool` by itself. Doing this will not modify any behavior and is safe. If you specifically wanted the numpy scalar type, use `np.bool_` here.\n",
      "Deprecated in NumPy 1.20; for more details and guidance: https://numpy.org/devdocs/release/1.20.0-notes.html#deprecations\n",
      "  all_true_mask = np.ones_like(masks[0], dtype=np.bool)\n"
     ]
    },
    {
     "name": "stdout",
     "output_type": "stream",
     "text": [
      "[11:11:03] done with 145\n",
      "[11:11:03] start to handle 146: timestamp failed at play environment setup timestamp task get all register dv ms and templates on ip address exception in vmware python when connect to api in socket python when create connection fatal localhost failed unknown error while connecting to vcenter or esxi api at ip address error number number connection timed out\n"
     ]
    },
    {
     "name": "stderr",
     "output_type": "stream",
     "text": [
      "<ipython-input-2-ae9b77f97518>:90: DeprecationWarning: `np.bool` is a deprecated alias for the builtin `bool`. To silence this warning, use `bool` by itself. Doing this will not modify any behavior and is safe. If you specifically wanted the numpy scalar type, use `np.bool_` here.\n",
      "Deprecated in NumPy 1.20; for more details and guidance: https://numpy.org/devdocs/release/1.20.0-notes.html#deprecations\n",
      "  all_true_mask = np.ones_like(masks[0], dtype=np.bool)\n"
     ]
    },
    {
     "name": "stdout",
     "output_type": "stream",
     "text": [
      "[11:12:07] done with 146\n",
      "[11:12:07] start to handle 147: timestamp failed at play environment setup timestamp task get all register dv ms and templates on ip address exception in vmware python when connect to api in socket python when create connection fatal localhost failed unknown error while connecting to vcenter or esxi api at ip address error number number no route to host\n"
     ]
    },
    {
     "name": "stderr",
     "output_type": "stream",
     "text": [
      "<ipython-input-2-ae9b77f97518>:90: DeprecationWarning: `np.bool` is a deprecated alias for the builtin `bool`. To silence this warning, use `bool` by itself. Doing this will not modify any behavior and is safe. If you specifically wanted the numpy scalar type, use `np.bool_` here.\n",
      "Deprecated in NumPy 1.20; for more details and guidance: https://numpy.org/devdocs/release/1.20.0-notes.html#deprecations\n",
      "  all_true_mask = np.ones_like(masks[0], dtype=np.bool)\n"
     ]
    },
    {
     "name": "stdout",
     "output_type": "stream",
     "text": [
      "[11:13:10] done with 147\n",
      "[11:13:10] start to handle 148: timestamp failed at play testbed deploy nimbus timestamp task get esxi data stores info exception in vmware python when connect to api in socket python when create connection fatal localhost failed unknown error while connecting to vcenter or esxi api at ip address error number number connection timed out\n"
     ]
    },
    {
     "name": "stderr",
     "output_type": "stream",
     "text": [
      "<ipython-input-2-ae9b77f97518>:90: DeprecationWarning: `np.bool` is a deprecated alias for the builtin `bool`. To silence this warning, use `bool` by itself. Doing this will not modify any behavior and is safe. If you specifically wanted the numpy scalar type, use `np.bool_` here.\n",
      "Deprecated in NumPy 1.20; for more details and guidance: https://numpy.org/devdocs/release/1.20.0-notes.html#deprecations\n",
      "  all_true_mask = np.ones_like(masks[0], dtype=np.bool)\n"
     ]
    },
    {
     "name": "stdout",
     "output_type": "stream",
     "text": [
      "[11:14:14] done with 148\n",
      "[11:14:14] start to handle 149: timestamp failed at play environment setup timestamp task deploy vm from ovf template exception in vmware python when connect to api in socket python when create connection fatal localhost failed unknown error while connecting to vcenter or esxi api at ip address error number number connection timed out\n"
     ]
    },
    {
     "name": "stderr",
     "output_type": "stream",
     "text": [
      "<ipython-input-2-ae9b77f97518>:90: DeprecationWarning: `np.bool` is a deprecated alias for the builtin `bool`. To silence this warning, use `bool` by itself. Doing this will not modify any behavior and is safe. If you specifically wanted the numpy scalar type, use `np.bool_` here.\n",
      "Deprecated in NumPy 1.20; for more details and guidance: https://numpy.org/devdocs/release/1.20.0-notes.html#deprecations\n",
      "  all_true_mask = np.ones_like(masks[0], dtype=np.bool)\n"
     ]
    },
    {
     "name": "stdout",
     "output_type": "stream",
     "text": [
      "[11:15:17] done with 149\n",
      "[11:15:17] start to handle 150: timestamp failed at play go sc perl static ip timestamp task fetch file etc hosts from vm guest exception in vmware guest file operation python when fetch in soap adapter python when invoke method fatal localhost failed failed to fetch file from vm vmware exception vim fault guest operations unavailable dynamic property vmodl dynamic property message the guest operations agent could not be contacted fault message vmodl localizable message\n"
     ]
    },
    {
     "name": "stderr",
     "output_type": "stream",
     "text": [
      "<ipython-input-2-ae9b77f97518>:90: DeprecationWarning: `np.bool` is a deprecated alias for the builtin `bool`. To silence this warning, use `bool` by itself. Doing this will not modify any behavior and is safe. If you specifically wanted the numpy scalar type, use `np.bool_` here.\n",
      "Deprecated in NumPy 1.20; for more details and guidance: https://numpy.org/devdocs/release/1.20.0-notes.html#deprecations\n",
      "  all_true_mask = np.ones_like(masks[0], dtype=np.bool)\n"
     ]
    },
    {
     "name": "stdout",
     "output_type": "stream",
     "text": [
      "[11:16:21] done with 150\n",
      "[11:16:21] ignore duplicated case: 151\n",
      "[11:16:21] start to handle 152: timestamp failed at play go sc perl static ip timestamp task fetch file tmp hostname f text from vm guest exception in vmware guest file operation python when fetch in soap adapter python when invoke method fatal localhost failed failed to fetch file from vm vmware exception vim fault guest operations unavailable dynamic property vmodl dynamic property message the guest operations agent could not be contacted fault message vmodl localizable message\n"
     ]
    },
    {
     "name": "stderr",
     "output_type": "stream",
     "text": [
      "<ipython-input-2-ae9b77f97518>:90: DeprecationWarning: `np.bool` is a deprecated alias for the builtin `bool`. To silence this warning, use `bool` by itself. Doing this will not modify any behavior and is safe. If you specifically wanted the numpy scalar type, use `np.bool_` here.\n",
      "Deprecated in NumPy 1.20; for more details and guidance: https://numpy.org/devdocs/release/1.20.0-notes.html#deprecations\n",
      "  all_true_mask = np.ones_like(masks[0], dtype=np.bool)\n"
     ]
    },
    {
     "name": "stdout",
     "output_type": "stream",
     "text": [
      "[11:17:26] done with 152\n",
      "[11:17:26] start to handle 153: timestamp failed at play memory hot add basic timestamp task guest win rm should be connectable fatal localhost failed guest win rm is not connectable in number seconds\n"
     ]
    },
    {
     "name": "stderr",
     "output_type": "stream",
     "text": [
      "<ipython-input-2-ae9b77f97518>:90: DeprecationWarning: `np.bool` is a deprecated alias for the builtin `bool`. To silence this warning, use `bool` by itself. Doing this will not modify any behavior and is safe. If you specifically wanted the numpy scalar type, use `np.bool_` here.\n",
      "Deprecated in NumPy 1.20; for more details and guidance: https://numpy.org/devdocs/release/1.20.0-notes.html#deprecations\n",
      "  all_true_mask = np.ones_like(masks[0], dtype=np.bool)\n"
     ]
    },
    {
     "name": "stdout",
     "output_type": "stream",
     "text": [
      "[11:18:30] done with 153\n",
      "[11:18:30] start to handle 154: timestamp failed at play cpu multi cores per socket timestamp task guest win rm should be connectable fatal localhost failed guest win rm is not connectable in number seconds\n"
     ]
    },
    {
     "name": "stderr",
     "output_type": "stream",
     "text": [
      "<ipython-input-2-ae9b77f97518>:90: DeprecationWarning: `np.bool` is a deprecated alias for the builtin `bool`. To silence this warning, use `bool` by itself. Doing this will not modify any behavior and is safe. If you specifically wanted the numpy scalar type, use `np.bool_` here.\n",
      "Deprecated in NumPy 1.20; for more details and guidance: https://numpy.org/devdocs/release/1.20.0-notes.html#deprecations\n",
      "  all_true_mask = np.ones_like(masks[0], dtype=np.bool)\n"
     ]
    },
    {
     "name": "stdout",
     "output_type": "stream",
     "text": [
      "[11:19:34] done with 154\n",
      "[11:19:34] start to handle 155: timestamp failed at play deploy vm efi nvme timestamp task guest win rm should be connectable fatal localhost failed guest win rm is not connectable in number seconds timestamp task check if exit testing parameter is set fatal localhost failed exit testing when exit testing when fail is set to true\n"
     ]
    },
    {
     "name": "stderr",
     "output_type": "stream",
     "text": [
      "<ipython-input-2-ae9b77f97518>:90: DeprecationWarning: `np.bool` is a deprecated alias for the builtin `bool`. To silence this warning, use `bool` by itself. Doing this will not modify any behavior and is safe. If you specifically wanted the numpy scalar type, use `np.bool_` here.\n",
      "Deprecated in NumPy 1.20; for more details and guidance: https://numpy.org/devdocs/release/1.20.0-notes.html#deprecations\n",
      "  all_true_mask = np.ones_like(masks[0], dtype=np.bool)\n"
     ]
    },
    {
     "name": "stdout",
     "output_type": "stream",
     "text": [
      "[11:20:38] done with 155\n",
      "[11:20:38] start to handle 156: timestamp failed at play deploy vm efi ide vmxnet number timestamp task create a new vm test vm on server ip address fatal localhost failed value of controller type must be one of bus logic lsi logic para virtual lsi logic sas sata nvme got ide found in disk timestamp task exit testing when exit testing when fail is set true fatal localhost failed failed to run test case deploy vm efi ide vmxnet number\n"
     ]
    },
    {
     "name": "stderr",
     "output_type": "stream",
     "text": [
      "<ipython-input-2-ae9b77f97518>:90: DeprecationWarning: `np.bool` is a deprecated alias for the builtin `bool`. To silence this warning, use `bool` by itself. Doing this will not modify any behavior and is safe. If you specifically wanted the numpy scalar type, use `np.bool_` here.\n",
      "Deprecated in NumPy 1.20; for more details and guidance: https://numpy.org/devdocs/release/1.20.0-notes.html#deprecations\n",
      "  all_true_mask = np.ones_like(masks[0], dtype=np.bool)\n"
     ]
    },
    {
     "name": "stdout",
     "output_type": "stream",
     "text": [
      "[11:21:43] done with 156\n",
      "[11:21:43] ignore duplicated case: 157\n",
      "[11:21:43] start to handle 158: timestamp failed at play deploy vm bios ide vmxnet number timestamp task create a new vm test vm on server ip address fatal localhost failed value of controller type must be one of bus logic lsi logic para virtual lsi logic sas sata nvme got ide found in disk timestamp task exit testing when exit testing when fail is set true fatal localhost failed failed to run test case deploy vm bios ide vmxnet number\n"
     ]
    },
    {
     "name": "stderr",
     "output_type": "stream",
     "text": [
      "<ipython-input-2-ae9b77f97518>:90: DeprecationWarning: `np.bool` is a deprecated alias for the builtin `bool`. To silence this warning, use `bool` by itself. Doing this will not modify any behavior and is safe. If you specifically wanted the numpy scalar type, use `np.bool_` here.\n",
      "Deprecated in NumPy 1.20; for more details and guidance: https://numpy.org/devdocs/release/1.20.0-notes.html#deprecations\n",
      "  all_true_mask = np.ones_like(masks[0], dtype=np.bool)\n"
     ]
    },
    {
     "name": "stdout",
     "output_type": "stream",
     "text": [
      "[11:22:48] done with 158\n",
      "[11:22:48] start to handle 159: timestamp failed at play testbed deploy nimbus timestamp task transfer nimbus testbed deploy spec to database c server fatal localhost un reachable invalid incorrect username password skipping remaining number retries to prevent account lockout warning permanently added wdc eng vmware com to the list of known hosts permission denied please try again permission denied please try again svc go sv automation wdc eng vmware com permission denied public key gss api k eye x gss api with mic password\n"
     ]
    },
    {
     "name": "stderr",
     "output_type": "stream",
     "text": [
      "<ipython-input-2-ae9b77f97518>:90: DeprecationWarning: `np.bool` is a deprecated alias for the builtin `bool`. To silence this warning, use `bool` by itself. Doing this will not modify any behavior and is safe. If you specifically wanted the numpy scalar type, use `np.bool_` here.\n",
      "Deprecated in NumPy 1.20; for more details and guidance: https://numpy.org/devdocs/release/1.20.0-notes.html#deprecations\n",
      "  all_true_mask = np.ones_like(masks[0], dtype=np.bool)\n"
     ]
    },
    {
     "name": "stdout",
     "output_type": "stream",
     "text": [
      "[11:23:51] done with 159\n",
      "[11:23:51] ignore duplicated case: 160\n",
      "[11:23:51] ignore duplicated case: 161\n",
      "[11:23:51] ignore duplicated case: 162\n",
      "[11:23:51] ignore duplicated case: 163\n",
      "[11:23:51] ignore duplicated case: 164\n",
      "[11:23:51] ignore duplicated case: 165\n",
      "[11:23:51] ignore duplicated case: 166\n",
      "[11:23:51] ignore duplicated case: 167\n",
      "[11:23:51] ignore duplicated case: 168\n",
      "[11:23:51] start to handle 169: timestamp failed at play go sc sanity dhcp timestamp task execute powershell command in windows guest fatal localhost un reachable win rm connection error https connection pool host ip address port number read timed out read timeout number\n"
     ]
    },
    {
     "name": "stderr",
     "output_type": "stream",
     "text": [
      "<ipython-input-2-ae9b77f97518>:90: DeprecationWarning: `np.bool` is a deprecated alias for the builtin `bool`. To silence this warning, use `bool` by itself. Doing this will not modify any behavior and is safe. If you specifically wanted the numpy scalar type, use `np.bool_` here.\n",
      "Deprecated in NumPy 1.20; for more details and guidance: https://numpy.org/devdocs/release/1.20.0-notes.html#deprecations\n",
      "  all_true_mask = np.ones_like(masks[0], dtype=np.bool)\n"
     ]
    },
    {
     "name": "stdout",
     "output_type": "stream",
     "text": [
      "[11:24:54] done with 169\n",
      "[11:24:54] start to handle 170: timestamp failed at play check os full name timestamp task get specified property info for vm test vm fatal localhost failed unable to gather information for non existing vm test vm\n"
     ]
    },
    {
     "name": "stderr",
     "output_type": "stream",
     "text": [
      "<ipython-input-2-ae9b77f97518>:90: DeprecationWarning: `np.bool` is a deprecated alias for the builtin `bool`. To silence this warning, use `bool` by itself. Doing this will not modify any behavior and is safe. If you specifically wanted the numpy scalar type, use `np.bool_` here.\n",
      "Deprecated in NumPy 1.20; for more details and guidance: https://numpy.org/devdocs/release/1.20.0-notes.html#deprecations\n",
      "  all_true_mask = np.ones_like(masks[0], dtype=np.bool)\n"
     ]
    },
    {
     "name": "stdout",
     "output_type": "stream",
     "text": [
      "[11:25:59] done with 170\n",
      "[11:25:59] start to handle 171: timestamp failed at play lsi logic v hba device ops timestamp task get specified property info for vm test vm fatal localhost failed unable to gather information for non existing vm test vm\n"
     ]
    },
    {
     "name": "stderr",
     "output_type": "stream",
     "text": [
      "<ipython-input-2-ae9b77f97518>:90: DeprecationWarning: `np.bool` is a deprecated alias for the builtin `bool`. To silence this warning, use `bool` by itself. Doing this will not modify any behavior and is safe. If you specifically wanted the numpy scalar type, use `np.bool_` here.\n",
      "Deprecated in NumPy 1.20; for more details and guidance: https://numpy.org/devdocs/release/1.20.0-notes.html#deprecations\n",
      "  all_true_mask = np.ones_like(masks[0], dtype=np.bool)\n"
     ]
    },
    {
     "name": "stdout",
     "output_type": "stream",
     "text": [
      "[11:27:02] done with 171\n",
      "[11:27:02] start to handle 172: timestamp failed at play lsi logic sas v hba device ops timestamp task get specified property info for vm test vm fatal localhost failed unable to gather information for non existing vm test vm\n"
     ]
    },
    {
     "name": "stderr",
     "output_type": "stream",
     "text": [
      "<ipython-input-2-ae9b77f97518>:90: DeprecationWarning: `np.bool` is a deprecated alias for the builtin `bool`. To silence this warning, use `bool` by itself. Doing this will not modify any behavior and is safe. If you specifically wanted the numpy scalar type, use `np.bool_` here.\n",
      "Deprecated in NumPy 1.20; for more details and guidance: https://numpy.org/devdocs/release/1.20.0-notes.html#deprecations\n",
      "  all_true_mask = np.ones_like(masks[0], dtype=np.bool)\n"
     ]
    },
    {
     "name": "stdout",
     "output_type": "stream",
     "text": [
      "[11:28:05] done with 172\n",
      "[11:28:05] start to handle 173: timestamp failed at play ovt verify install timestamp task get specified property info for vm test vm fatal localhost failed unable to gather information for non existing vm test vm\n"
     ]
    },
    {
     "name": "stderr",
     "output_type": "stream",
     "text": [
      "<ipython-input-2-ae9b77f97518>:90: DeprecationWarning: `np.bool` is a deprecated alias for the builtin `bool`. To silence this warning, use `bool` by itself. Doing this will not modify any behavior and is safe. If you specifically wanted the numpy scalar type, use `np.bool_` here.\n",
      "Deprecated in NumPy 1.20; for more details and guidance: https://numpy.org/devdocs/release/1.20.0-notes.html#deprecations\n",
      "  all_true_mask = np.ones_like(masks[0], dtype=np.bool)\n"
     ]
    },
    {
     "name": "stdout",
     "output_type": "stream",
     "text": [
      "[11:29:08] done with 173\n",
      "[11:29:08] ignore duplicated case: 174\n",
      "[11:29:08] ignore duplicated case: 175\n",
      "[11:29:08] ignore duplicated case: 176\n",
      "[11:29:08] ignore duplicated case: 177\n",
      "[11:29:08] ignore duplicated case: 178\n",
      "[11:29:08] start to handle 179: timestamp failed at play network device ops timestamp task get specified property info for vm test vm fatal localhost failed unable to gather information for non existing vm test vm\n"
     ]
    },
    {
     "name": "stderr",
     "output_type": "stream",
     "text": [
      "<ipython-input-2-ae9b77f97518>:90: DeprecationWarning: `np.bool` is a deprecated alias for the builtin `bool`. To silence this warning, use `bool` by itself. Doing this will not modify any behavior and is safe. If you specifically wanted the numpy scalar type, use `np.bool_` here.\n",
      "Deprecated in NumPy 1.20; for more details and guidance: https://numpy.org/devdocs/release/1.20.0-notes.html#deprecations\n",
      "  all_true_mask = np.ones_like(masks[0], dtype=np.bool)\n"
     ]
    },
    {
     "name": "stdout",
     "output_type": "stream",
     "text": [
      "[11:30:11] done with 179\n",
      "[11:30:11] start to handle 180: timestamp failed at play vmxnet number network device ops timestamp task get specified property info for vm test vm fatal localhost failed unable to gather information for non existing vm test vm\n"
     ]
    },
    {
     "name": "stderr",
     "output_type": "stream",
     "text": [
      "<ipython-input-2-ae9b77f97518>:90: DeprecationWarning: `np.bool` is a deprecated alias for the builtin `bool`. To silence this warning, use `bool` by itself. Doing this will not modify any behavior and is safe. If you specifically wanted the numpy scalar type, use `np.bool_` here.\n",
      "Deprecated in NumPy 1.20; for more details and guidance: https://numpy.org/devdocs/release/1.20.0-notes.html#deprecations\n",
      "  all_true_mask = np.ones_like(masks[0], dtype=np.bool)\n"
     ]
    },
    {
     "name": "stdout",
     "output_type": "stream",
     "text": [
      "[11:31:13] done with 180\n",
      "[11:31:13] start to handle 181: timestamp failed at play go sc perl static ip timestamp task get specified property info for vm test vm fatal localhost failed unable to gather information for non existing vm test vm\n"
     ]
    },
    {
     "name": "stderr",
     "output_type": "stream",
     "text": [
      "<ipython-input-2-ae9b77f97518>:90: DeprecationWarning: `np.bool` is a deprecated alias for the builtin `bool`. To silence this warning, use `bool` by itself. Doing this will not modify any behavior and is safe. If you specifically wanted the numpy scalar type, use `np.bool_` here.\n",
      "Deprecated in NumPy 1.20; for more details and guidance: https://numpy.org/devdocs/release/1.20.0-notes.html#deprecations\n",
      "  all_true_mask = np.ones_like(masks[0], dtype=np.bool)\n"
     ]
    },
    {
     "name": "stdout",
     "output_type": "stream",
     "text": [
      "[11:32:16] done with 181\n",
      "[11:32:16] start to handle 182: timestamp failed at play check ip address timestamp task get specified property info for vm test vm fatal localhost failed unable to gather information for non existing vm test vm timestamp task revert snapshot failed fatal localhost failed revert to snapshot base snapshot failed\n"
     ]
    },
    {
     "name": "stderr",
     "output_type": "stream",
     "text": [
      "<ipython-input-2-ae9b77f97518>:90: DeprecationWarning: `np.bool` is a deprecated alias for the builtin `bool`. To silence this warning, use `bool` by itself. Doing this will not modify any behavior and is safe. If you specifically wanted the numpy scalar type, use `np.bool_` here.\n",
      "Deprecated in NumPy 1.20; for more details and guidance: https://numpy.org/devdocs/release/1.20.0-notes.html#deprecations\n",
      "  all_true_mask = np.ones_like(masks[0], dtype=np.bool)\n"
     ]
    },
    {
     "name": "stdout",
     "output_type": "stream",
     "text": [
      "[11:33:20] done with 182\n",
      "[11:33:20] start to handle 183: timestamp failed at play memory hot add basic timestamp task try to ping ip fatal localhost failed non zero return code when ping\n"
     ]
    },
    {
     "name": "stderr",
     "output_type": "stream",
     "text": [
      "<ipython-input-2-ae9b77f97518>:90: DeprecationWarning: `np.bool` is a deprecated alias for the builtin `bool`. To silence this warning, use `bool` by itself. Doing this will not modify any behavior and is safe. If you specifically wanted the numpy scalar type, use `np.bool_` here.\n",
      "Deprecated in NumPy 1.20; for more details and guidance: https://numpy.org/devdocs/release/1.20.0-notes.html#deprecations\n",
      "  all_true_mask = np.ones_like(masks[0], dtype=np.bool)\n"
     ]
    },
    {
     "name": "stdout",
     "output_type": "stream",
     "text": [
      "[11:34:22] done with 183\n",
      "[11:34:22] ignore duplicated case: 184\n",
      "[11:34:22] ignore duplicated case: 185\n",
      "[11:34:22] start to handle 186: timestamp failed at play environment setup timestamp task enable guest ip hack on esxi host ip address fatal localhost ip address failed module failure see stdout stderr for the exact error\n"
     ]
    },
    {
     "name": "stderr",
     "output_type": "stream",
     "text": [
      "<ipython-input-2-ae9b77f97518>:90: DeprecationWarning: `np.bool` is a deprecated alias for the builtin `bool`. To silence this warning, use `bool` by itself. Doing this will not modify any behavior and is safe. If you specifically wanted the numpy scalar type, use `np.bool_` here.\n",
      "Deprecated in NumPy 1.20; for more details and guidance: https://numpy.org/devdocs/release/1.20.0-notes.html#deprecations\n",
      "  all_true_mask = np.ones_like(masks[0], dtype=np.bool)\n"
     ]
    },
    {
     "name": "stdout",
     "output_type": "stream",
     "text": [
      "[11:35:25] done with 186\n",
      "[11:35:25] start to handle 187: timestamp failed at play environment setup timestamp task check vm test vm number exists fatal localhost failed vm test vm number doesn t exist please set new vm to true to deploy the vm or provide an existing vm name\n"
     ]
    },
    {
     "name": "stderr",
     "output_type": "stream",
     "text": [
      "<ipython-input-2-ae9b77f97518>:90: DeprecationWarning: `np.bool` is a deprecated alias for the builtin `bool`. To silence this warning, use `bool` by itself. Doing this will not modify any behavior and is safe. If you specifically wanted the numpy scalar type, use `np.bool_` here.\n",
      "Deprecated in NumPy 1.20; for more details and guidance: https://numpy.org/devdocs/release/1.20.0-notes.html#deprecations\n",
      "  all_true_mask = np.ones_like(masks[0], dtype=np.bool)\n"
     ]
    },
    {
     "name": "stdout",
     "output_type": "stream",
     "text": [
      "[11:36:28] done with 187\n",
      "[11:36:28] ignore duplicated case: 188\n",
      "[11:36:28] ignore duplicated case: 189\n",
      "[11:36:28] ignore duplicated case: 190\n",
      "[11:36:28] ignore duplicated case: 191\n",
      "[11:36:28] ignore duplicated case: 192\n",
      "[11:36:28] start to handle 193: timestamp failed at play environment setup timestamp task check vm test vm number does not exist fatal localhost failed can n t deploy vm as a vm with same name test vm number already exists please provide a new vm name\n"
     ]
    },
    {
     "name": "stderr",
     "output_type": "stream",
     "text": [
      "<ipython-input-2-ae9b77f97518>:90: DeprecationWarning: `np.bool` is a deprecated alias for the builtin `bool`. To silence this warning, use `bool` by itself. Doing this will not modify any behavior and is safe. If you specifically wanted the numpy scalar type, use `np.bool_` here.\n",
      "Deprecated in NumPy 1.20; for more details and guidance: https://numpy.org/devdocs/release/1.20.0-notes.html#deprecations\n",
      "  all_true_mask = np.ones_like(masks[0], dtype=np.bool)\n"
     ]
    }
   ],
   "source": [
    "from datetime import datetime\n",
    "from collections import defaultdict\n",
    "\n",
    "dict_text_predict = defaultdict(list)\n",
    "\n",
    "for id_text, text_predict in enumerate(texts_predict):\n",
    "    \n",
    "    if text_predict not in dict_text_predict:\n",
    "\n",
    "        print('[{}] start to handle {}: {}'.format(datetime.now().strftime(\"%H:%M:%S\"), id_text, text_predict))\n",
    "        info_explained = explainer.explain(text_predict, classifier)\n",
    "\n",
    "        with open('data/explains/{}.json'.format(id_text), 'w+') as file:\n",
    "            file.write(json.dumps({\n",
    "                    'processed': text_predict,\n",
    "                    'detail': info_explained\n",
    "                }, indent=4)\n",
    "            )\n",
    "        # end\n",
    "        print('[{}] done with {}'.format(datetime.now().strftime(\"%H:%M:%S\"), id_text))\n",
    "    else:\n",
    "        print('[{}] ignore duplicated case: {}'.format(datetime.now().strftime(\"%H:%M:%S\"), id_text))\n",
    "    # end\n",
    "    dict_text_predict[text_predict].append(id_text)\n",
    "# end"
   ]
  },
  {
   "cell_type": "code",
   "execution_count": null,
   "id": "efeda879-bf2a-4ce1-beba-aa265e7151a9",
   "metadata": {},
   "outputs": [],
   "source": [
    "with open('data/dict_text_predict.json', 'w+') as file:\n",
    "    file.write(json.dumps(dict_text_predict))\n",
    "# end"
   ]
  }
 ],
 "metadata": {
  "kernelspec": {
   "display_name": "Python 3",
   "language": "python",
   "name": "python3"
  },
  "language_info": {
   "codemirror_mode": {
    "name": "ipython",
    "version": 3
   },
   "file_extension": ".py",
   "mimetype": "text/x-python",
   "name": "python",
   "nbconvert_exporter": "python",
   "pygments_lexer": "ipython3",
   "version": "3.8.8"
  }
 },
 "nbformat": 4,
 "nbformat_minor": 5
}
