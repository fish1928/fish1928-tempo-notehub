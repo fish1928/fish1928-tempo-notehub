{
 "cells": [
  {
   "cell_type": "code",
   "execution_count": 1,
   "id": "66a6d8e0-5800-4e55-ae2e-dab30c423b3f",
   "metadata": {},
   "outputs": [],
   "source": [
    "# you get all pretrained model name here\n",
    "# https://huggingface.co/transformers/pretrained_models.html\n",
    "import json\n",
    "import pandas as pd\n",
    "import os\n",
    "import torch\n",
    "import transformers\n",
    "from transformers.file_utils import is_tf_available, is_torch_available, is_torch_tpu_available\n",
    "# from transformers import BertTokenizerFast, BertForSequenceClassification\n",
    "from transformers import DistilBertTokenizerFast, DistilBertForSequenceClassification, EarlyStoppingCallback\n",
    "from transformers import Trainer, TrainingArguments\n",
    "import numpy as np\n",
    "import random\n",
    "from sklearn.datasets import fetch_20newsgroups\n",
    "from sklearn.model_selection import train_test_split"
   ]
  },
  {
   "cell_type": "code",
   "execution_count": 2,
   "id": "2adce6ab-61dd-4ce6-8a19-ae6a376de4ad",
   "metadata": {},
   "outputs": [],
   "source": [
    "# the model we gonna train, base uncased BERT\n",
    "# check text classification models here: https://huggingface.co/models?filter=text-classification\n",
    "# model_name = \"bert-base-uncased\"\n",
    "model_name = \"distilbert-base-uncased\"\n",
    "model_dir = 'model_esxdeploy_classifier_target_distilbert_1'\n",
    "path_data = 'datasource/esxdeploy_0512_selected_validate_nodup_label_merged_predicted.json'\n",
    "max_length = 512"
   ]
  },
  {
   "cell_type": "code",
   "execution_count": 3,
   "id": "238edfec-10e7-4a7c-abe1-3a543c40ed2e",
   "metadata": {},
   "outputs": [],
   "source": [
    "tokenizer = DistilBertTokenizerFast.from_pretrained(model_name, do_lower_case=True)"
   ]
  },
  {
   "cell_type": "code",
   "execution_count": 4,
   "id": "0554c2a8-952c-4763-8331-6ac9877346a7",
   "metadata": {},
   "outputs": [],
   "source": [
    "def load_content(path_data):\n",
    "    with open(path_data, 'r') as file:\n",
    "        dict_filename_content = json.load(file)\n",
    "    # end\n",
    "    \n",
    "    return dict_filename_content\n",
    "# edn"
   ]
  },
  {
   "cell_type": "code",
   "execution_count": 5,
   "id": "7ea18b82-385c-4897-bcb4-9a4805e8704b",
   "metadata": {},
   "outputs": [
    {
     "name": "stdout",
     "output_type": "stream",
     "text": [
      "load model from local\n"
     ]
    }
   ],
   "source": [
    "# model = BertForSequenceClassification.from_pretrained(model_name, num_labels=len(target_names))\n",
    "if os.path.exists(model_dir) and len(os.listdir(model_dir)) > 0:\n",
    "    print('load model from local')\n",
    "    model_info = model_dir\n",
    "    with open(os.path.join(model_dir, 'labels.json'), 'r') as file:\n",
    "        target_names = json.load(file)\n",
    "    # end\n",
    "else:\n",
    "    print('load model from official')\n",
    "    model_info = model_name\n",
    "# end\n",
    "\n",
    "model = DistilBertForSequenceClassification.from_pretrained(model_info, num_labels=len(target_names))\n",
    "model = model.cuda()"
   ]
  },
  {
   "cell_type": "code",
   "execution_count": 6,
   "id": "5b592a11-8722-40e8-8ad6-ef9f31f3455c",
   "metadata": {},
   "outputs": [],
   "source": [
    "contents = load_content(path_data)\n",
    "list_conf_output = []\n",
    "list_label_output = []\n",
    "list_doc_output = []utput for label_output, label_origin in zip(list_label_output, list_label_origin) if label_output == label_origin]) / len(li\n",
    "list_label_origin = []\n",
    "\n",
    "for content in contents:\n",
    "\n",
    "    list_log = content['logs']\n",
    "    ancher = content['ancher']\n",
    "    \n",
    "    list_conf = content['logs_conf_raw']\n",
    "    list_label = content['logs_label']\n",
    "    \n",
    "    ids_relevant = [id for id, label in enumerate(list_label) if label == 'relevant']\n",
    "    ids_relevant_2 = [id_relevant for id_relevant in ids_relevant if list_conf[id_relevant][1] > 0.8]\n",
    "    \n",
    "    logs_relevant = [list_log[id_relevant] for id_relevant in ids_relevant_2]\n",
    "    logs_relevant_cut = logs_relevant[-9:]\n",
    "    document = ' '.join(logs_relevant_cut + [ancher])\n",
    "    \n",
    "    input_tokenized = tokenizer.encode_plus(document, padding=True, truncation=True, max_length=max_length, return_tensors='pt').to('cuda')\n",
    "    with torch.no_grad():\n",
    "        out = model(**input_tokenized, output_hidden_states=True, output_attentions=True)\n",
    "    # end\n",
    "\n",
    "    probas_evaluate = torch.nn.functional.softmax(out.logits, dim=-1)\n",
    "    answer_evaluate = int(probas_evaluate.argmax().cpu())\n",
    "\n",
    "    label_evaluate = target_names[answer_evaluate]\n",
    "\n",
    "    list_doc_output.append(document)\n",
    "    list_conf_output.append(probas_evaluate.cpu().numpy().tolist()[0][answer_evaluate])\n",
    "    list_label_output.append(label_evaluate)\n",
    "    list_label_origin.append(content['target'])\n",
    "# end"
   ]
  },
  {
   "cell_type": "code",
   "execution_count": 7,
   "id": "d6b5f20b-26b9-457c-9444-942f7c6be433",
   "metadata": {},
   "outputs": [],
   "source": [
    "contents = load_content(path_data)\n",
    "list_label_origin = [content['target'] for content in contents]"
   ]
  },
  {
   "cell_type": "code",
   "execution_count": 8,
   "id": "c7f5cb34-b48a-4f36-9cae-3ff92d0f8f66",
   "metadata": {},
   "outputs": [
    {
     "data": {
      "text/plain": [
       "267"
      ]
     },
     "execution_count": 8,
     "metadata": {},
     "output_type": "execute_result"
    }
   ],
   "source": [
    "len(list_label_origin)"
   ]
  },
  {
   "cell_type": "code",
   "execution_count": 10,
   "id": "5b378122-66b3-4ede-8a33-c8bdf30e43a6",
   "metadata": {},
   "outputs": [
    {
     "data": {
      "text/plain": [
       "0.6404494382022472"
      ]
     },
     "execution_count": 10,
     "metadata": {},
     "output_type": "execute_result"
    }
   ],
   "source": [
    "len([label_output for label_output, label_origin in zip(list_label_output, list_label_origin) if label_output == label_origin]) / len(list_label_origin)"
   ]
  },
  {
   "cell_type": "code",
   "execution_count": null,
   "id": "2013c187-af0a-4aa0-b119-122dcc9c4bac",
   "metadata": {},
   "outputs": [],
   "source": []
  },
  {
   "cell_type": "code",
   "execution_count": null,
   "id": "b1be7187-23eb-4970-bbcd-f9bda226e44c",
   "metadata": {},
   "outputs": [],
   "source": []
  }
 ],
 "metadata": {
  "kernelspec": {
   "display_name": "Python 3",
   "language": "python",
   "name": "python3"
  },
  "language_info": {
   "codemirror_mode": {
    "name": "ipython",
    "version": 3
   },
   "file_extension": ".py",
   "mimetype": "text/x-python",
   "name": "python",
   "nbconvert_exporter": "python",
   "pygments_lexer": "ipython3",
   "version": "3.8.8"
  }
 },
 "nbformat": 4,
 "nbformat_minor": 5
}
