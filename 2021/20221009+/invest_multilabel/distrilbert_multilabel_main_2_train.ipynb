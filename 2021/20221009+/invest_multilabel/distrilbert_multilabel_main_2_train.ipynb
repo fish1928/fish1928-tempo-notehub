{
 "cells": [
  {
   "cell_type": "code",
   "execution_count": 1,
   "id": "107b236d-8707-41d1-95c8-5749adb5c7a5",
   "metadata": {},
   "outputs": [],
   "source": [
    "import os\n",
    "import json\n",
    "import numpy as np"
   ]
  },
  {
   "cell_type": "code",
   "execution_count": 2,
   "id": "cd8c3f13-b47f-4377-90f7-62e59cbd1b21",
   "metadata": {},
   "outputs": [],
   "source": [
    "def load_dataset(path_data, tokenizer):\n",
    "    with open(path_data, 'r') as file: \n",
    "        list_content = json.load(file)\n",
    "    # end\n",
    "    \n",
    "    labels_all = sorted(list(list_content[0]['issues'].keys()))\n",
    "    id2label = {id_label:label for id_label, label in enumerate(labels_all)}\n",
    "    label2id = {label:id_label for id_label, label in id2label.items()}\n",
    "    \n",
    "    samples = []\n",
    "    for content in list_content:\n",
    "        sample = tokenizer(content['processed'], padding=\"max_length\", truncation=True, max_length=128)\n",
    "        label_target = np.zeros(len(labels_all))\n",
    "        \n",
    "        for label, val in content['issues'].items():\n",
    "            if val > 0:\n",
    "                id_label = label2id[label]\n",
    "                label_target[id_label] = 1.0\n",
    "            # end\n",
    "        # end\n",
    "        \n",
    "        sample['label'] = label_target\n",
    "        samples.append(sample)\n",
    "    # end\n",
    "    \n",
    "    return samples, labels_all, id2label, label2id\n",
    "# end"
   ]
  },
  {
   "cell_type": "code",
   "execution_count": 3,
   "id": "94781aa0-2e1b-44c3-80ea-e09a03c8eafa",
   "metadata": {},
   "outputs": [],
   "source": [
    "folder_data = 'dataset'\n",
    "filename_data_origin = 'goscv_deduplicate_20221009_merged_train_patched.json'\n",
    "path_data_origin = os.path.join(folder_data, filename_data_origin)\n",
    "\n"
   ]
  },
  {
   "cell_type": "code",
   "execution_count": 4,
   "id": "b5e495a6-14ed-43b8-9159-f7cd6e52da18",
   "metadata": {},
   "outputs": [],
   "source": [
    "from transformers import AutoTokenizer\n",
    "import numpy as np\n",
    "\n",
    "tokenizer = AutoTokenizer.from_pretrained(\"distilbert-base-uncased\")\n",
    "samples, labels_all, id2label, label2id  = load_dataset(path_data_origin, tokenizer)"
   ]
  },
  {
   "cell_type": "code",
   "execution_count": 5,
   "id": "fd5ee51d-20b1-4bfa-bbdc-763991f62cd2",
   "metadata": {},
   "outputs": [
    {
     "name": "stderr",
     "output_type": "stream",
     "text": [
      "Some weights of the model checkpoint at distilbert-base-uncased were not used when initializing DistilBertForSequenceClassification: ['vocab_layer_norm.bias', 'vocab_projector.bias', 'vocab_projector.weight', 'vocab_transform.bias', 'vocab_layer_norm.weight', 'vocab_transform.weight']\n",
      "- This IS expected if you are initializing DistilBertForSequenceClassification from the checkpoint of a model trained on another task or with another architecture (e.g. initializing a BertForSequenceClassification model from a BertForPreTraining model).\n",
      "- This IS NOT expected if you are initializing DistilBertForSequenceClassification from the checkpoint of a model that you expect to be exactly identical (initializing a BertForSequenceClassification model from a BertForSequenceClassification model).\n",
      "Some weights of DistilBertForSequenceClassification were not initialized from the model checkpoint at distilbert-base-uncased and are newly initialized: ['classifier.weight', 'classifier.bias', 'pre_classifier.weight', 'pre_classifier.bias']\n",
      "You should probably TRAIN this model on a down-stream task to be able to use it for predictions and inference.\n"
     ]
    }
   ],
   "source": [
    "from transformers import AutoModelForSequenceClassification\n",
    "\n",
    "model = AutoModelForSequenceClassification.from_pretrained(\"distilbert-base-uncased\", \n",
    "                                                           problem_type=\"multi_label_classification\", \n",
    "                                                           num_labels=len(labels_all),\n",
    "                                                           id2label=id2label,\n",
    "                                                           label2id=label2id)"
   ]
  },
  {
   "cell_type": "code",
   "execution_count": 6,
   "id": "00a2311b-ff5f-4e62-99be-0347b0e862f4",
   "metadata": {},
   "outputs": [],
   "source": [
    "from transformers import TrainingArguments, Trainer\n",
    "\n",
    "args = TrainingArguments(\n",
    "    \"multilabel_main_1\",\n",
    "    evaluation_strategy = \"epoch\",\n",
    "#     save_strategy = \"epoch\",\n",
    "    learning_rate=2e-5,\n",
    "    per_device_train_batch_size=2,\n",
    "    per_device_eval_batch_size=2,\n",
    "    num_train_epochs=5,\n",
    "    weight_decay=0.01,\n",
    "#     load_best_model_at_end=True,\n",
    "    metric_for_best_model='f1',\n",
    "    save_strategy='no',\n",
    "    save_total_limit=1,\n",
    "    #push_to_hub=True,\n",
    ")"
   ]
  },
  {
   "cell_type": "code",
   "execution_count": 7,
   "id": "b1ca1e7f-88eb-4618-93f4-80bac4555bcd",
   "metadata": {},
   "outputs": [],
   "source": [
    "from sklearn.metrics import f1_score, roc_auc_score, accuracy_score\n",
    "from transformers import EvalPrediction\n",
    "import torch\n",
    "    \n",
    "# source: https://jesusleal.io/2021/04/21/Longformer-multilabel-classification/\n",
    "def multi_label_metrics(predictions, labels, threshold=0.5):\n",
    "    # first, apply sigmoid on predictions which are of shape (batch_size, num_labels)\n",
    "    sigmoid = torch.nn.Sigmoid()\n",
    "    probs = sigmoid(torch.Tensor(predictions))\n",
    "    # next, use threshold to turn them into integer predictions\n",
    "    y_pred = np.zeros(probs.shape)\n",
    "    y_pred[np.where(probs >= threshold)] = 1\n",
    "    # finally, compute metrics\n",
    "    y_true = labels\n",
    "    f1_micro_average = f1_score(y_true=y_true, y_pred=y_pred, average='micro')\n",
    "    roc_auc = roc_auc_score(y_true, y_pred, average = 'micro')\n",
    "    accuracy = accuracy_score(y_true, y_pred)\n",
    "    # return as dictionary\n",
    "    metrics = {'f1': f1_micro_average,\n",
    "               'roc_auc': roc_auc,\n",
    "               'accuracy': accuracy}\n",
    "    return metrics\n",
    "\n",
    "def compute_metrics(p: EvalPrediction):\n",
    "    preds = p.predictions[0] if isinstance(p.predictions, \n",
    "            tuple) else p.predictions\n",
    "    result = multi_label_metrics(\n",
    "        predictions=preds, \n",
    "        labels=p.label_ids)\n",
    "    return result"
   ]
  },
  {
   "cell_type": "code",
   "execution_count": 8,
   "id": "c8e173e3-d59a-45ef-9fdf-7f35e3a4c407",
   "metadata": {},
   "outputs": [],
   "source": [
    "trainer = Trainer(\n",
    "    model,\n",
    "    args,\n",
    "    train_dataset=samples,\n",
    "    eval_dataset=samples,\n",
    "    tokenizer=tokenizer,\n",
    "    compute_metrics=compute_metrics\n",
    ")"
   ]
  },
  {
   "cell_type": "code",
   "execution_count": 9,
   "id": "f2efb322-9fe4-4b0b-b5f3-ca5a42919c54",
   "metadata": {},
   "outputs": [],
   "source": [
    "trainer.train()"
   ]
  },
  {
   "cell_type": "code",
   "execution_count": 11,
   "id": "a8e46964-da9b-40a8-9614-46ede4f3a4df",
   "metadata": {},
   "outputs": [
    {
     "name": "stderr",
     "output_type": "stream",
     "text": [
      "Configuration saved in distilbert_multilabel_main_2/config.json\n",
      "Model weights saved in distilbert_multilabel_main_2/pytorch_model.bin\n"
     ]
    }
   ],
   "source": [
    "model_dir = 'distilbert_multilabel_main_2'\n",
    "model.save_pretrained(model_dir)\n",
    "import json\n",
    "with open(f'{model_dir}/labels.json', 'w+') as file:\n",
    "    file.write(json.dumps(id2label))"
   ]
  }
 ],
 "metadata": {
  "kernelspec": {
   "display_name": "Python 3",
   "language": "python",
   "name": "python3"
  },
  "language_info": {
   "codemirror_mode": {
    "name": "ipython",
    "version": 3
   },
   "file_extension": ".py",
   "mimetype": "text/x-python",
   "name": "python",
   "nbconvert_exporter": "python",
   "pygments_lexer": "ipython3",
   "version": "3.8.8"
  }
 },
 "nbformat": 4,
 "nbformat_minor": 5
}
