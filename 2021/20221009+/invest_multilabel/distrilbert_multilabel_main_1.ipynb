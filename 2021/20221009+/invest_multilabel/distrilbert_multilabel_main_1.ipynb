{
 "cells": [
  {
   "cell_type": "code",
   "execution_count": 1,
   "id": "107b236d-8707-41d1-95c8-5749adb5c7a5",
   "metadata": {},
   "outputs": [],
   "source": [
    "import os\n",
    "import json\n",
    "import numpy as np"
   ]
  },
  {
   "cell_type": "code",
   "execution_count": 2,
   "id": "cd8c3f13-b47f-4377-90f7-62e59cbd1b21",
   "metadata": {},
   "outputs": [],
   "source": [
    "def load_dataset(path_data, tokenizer):\n",
    "    with open(path_data, 'r') as file: \n",
    "        list_content = json.load(file)\n",
    "    # end\n",
    "    \n",
    "    labels_all = sorted(list(list_content[0]['multilabels'].keys()))\n",
    "    id2label = {id_label:label for id_label, label in enumerate(labels_all)}\n",
    "    label2id = {label:id_label for id_label, label in id2label.items()}\n",
    "    \n",
    "    samples = []\n",
    "    for content in list_content:\n",
    "        sample = tokenizer(content['processed'], padding=\"max_length\", truncation=True, max_length=128)\n",
    "        label_target = np.zeros(len(labels_all))\n",
    "        \n",
    "        for label, val in content['multilabels'].items():\n",
    "            if val > 0:\n",
    "                id_label = label2id[label]\n",
    "                label_target[id_label] = 1.0\n",
    "            # end\n",
    "        # end\n",
    "        \n",
    "        sample['label'] = label_target\n",
    "        samples.append(sample)\n",
    "    # end\n",
    "    \n",
    "    return samples, labels_all, id2label, label2id\n",
    "# end"
   ]
  },
  {
   "cell_type": "code",
   "execution_count": 3,
   "id": "94781aa0-2e1b-44c3-80ea-e09a03c8eafa",
   "metadata": {},
   "outputs": [],
   "source": [
    "folder_data = 'dataset'\n",
    "filename_data_origin = 'goscv_trainingdataset_unpatched_0722_merged.json'\n",
    "path_data_origin = os.path.join(folder_data, filename_data_origin)\n",
    "\n"
   ]
  },
  {
   "cell_type": "code",
   "execution_count": 4,
   "id": "b5e495a6-14ed-43b8-9159-f7cd6e52da18",
   "metadata": {},
   "outputs": [],
   "source": [
    "from transformers import AutoTokenizer\n",
    "import numpy as np\n",
    "\n",
    "tokenizer = AutoTokenizer.from_pretrained(\"distilbert-base-uncased\")\n",
    "samples, labels_all, id2label, label2id  = load_dataset(path_data_origin, tokenizer)"
   ]
  },
  {
   "cell_type": "code",
   "execution_count": 5,
   "id": "fd5ee51d-20b1-4bfa-bbdc-763991f62cd2",
   "metadata": {},
   "outputs": [
    {
     "name": "stderr",
     "output_type": "stream",
     "text": [
      "Some weights of the model checkpoint at distilbert-base-uncased were not used when initializing DistilBertForSequenceClassification: ['vocab_transform.bias', 'vocab_projector.weight', 'vocab_layer_norm.weight', 'vocab_projector.bias', 'vocab_layer_norm.bias', 'vocab_transform.weight']\n",
      "- This IS expected if you are initializing DistilBertForSequenceClassification from the checkpoint of a model trained on another task or with another architecture (e.g. initializing a BertForSequenceClassification model from a BertForPreTraining model).\n",
      "- This IS NOT expected if you are initializing DistilBertForSequenceClassification from the checkpoint of a model that you expect to be exactly identical (initializing a BertForSequenceClassification model from a BertForSequenceClassification model).\n",
      "Some weights of DistilBertForSequenceClassification were not initialized from the model checkpoint at distilbert-base-uncased and are newly initialized: ['pre_classifier.bias', 'classifier.bias', 'pre_classifier.weight', 'classifier.weight']\n",
      "You should probably TRAIN this model on a down-stream task to be able to use it for predictions and inference.\n"
     ]
    }
   ],
   "source": [
    "from transformers import AutoModelForSequenceClassification\n",
    "\n",
    "model = AutoModelForSequenceClassification.from_pretrained(\"distilbert-base-uncased\", \n",
    "                                                           problem_type=\"multi_label_classification\", \n",
    "                                                           num_labels=len(labels_all),\n",
    "                                                           id2label=id2label,\n",
    "                                                           label2id=label2id)"
   ]
  },
  {
   "cell_type": "code",
   "execution_count": 6,
   "id": "00a2311b-ff5f-4e62-99be-0347b0e862f4",
   "metadata": {},
   "outputs": [],
   "source": [
    "from transformers import TrainingArguments, Trainer\n",
    "\n",
    "args = TrainingArguments(\n",
    "    \"multilabel_main_1\",\n",
    "    evaluation_strategy = \"epoch\",\n",
    "    save_strategy = \"epoch\",\n",
    "    learning_rate=2e-5,\n",
    "    per_device_train_batch_size=2,\n",
    "    per_device_eval_batch_size=2,\n",
    "    num_train_epochs=5,\n",
    "    weight_decay=0.01,\n",
    "    load_best_model_at_end=True,\n",
    "    metric_for_best_model='f1',\n",
    "    #push_to_hub=True,\n",
    ")"
   ]
  },
  {
   "cell_type": "code",
   "execution_count": 7,
   "id": "b1ca1e7f-88eb-4618-93f4-80bac4555bcd",
   "metadata": {},
   "outputs": [],
   "source": [
    "from sklearn.metrics import f1_score, roc_auc_score, accuracy_score\n",
    "from transformers import EvalPrediction\n",
    "import torch\n",
    "    \n",
    "# source: https://jesusleal.io/2021/04/21/Longformer-multilabel-classification/\n",
    "def multi_label_metrics(predictions, labels, threshold=0.5):\n",
    "    # first, apply sigmoid on predictions which are of shape (batch_size, num_labels)\n",
    "    sigmoid = torch.nn.Sigmoid()\n",
    "    probs = sigmoid(torch.Tensor(predictions))\n",
    "    # next, use threshold to turn them into integer predictions\n",
    "    y_pred = np.zeros(probs.shape)\n",
    "    y_pred[np.where(probs >= threshold)] = 1\n",
    "    # finally, compute metrics\n",
    "    y_true = labels\n",
    "    f1_micro_average = f1_score(y_true=y_true, y_pred=y_pred, average='micro')\n",
    "    roc_auc = roc_auc_score(y_true, y_pred, average = 'micro')\n",
    "    accuracy = accuracy_score(y_true, y_pred)\n",
    "    # return as dictionary\n",
    "    metrics = {'f1': f1_micro_average,\n",
    "               'roc_auc': roc_auc,\n",
    "               'accuracy': accuracy}\n",
    "    return metrics\n",
    "\n",
    "def compute_metrics(p: EvalPrediction):\n",
    "    preds = p.predictions[0] if isinstance(p.predictions, \n",
    "            tuple) else p.predictions\n",
    "    result = multi_label_metrics(\n",
    "        predictions=preds, \n",
    "        labels=p.label_ids)\n",
    "    return result"
   ]
  },
  {
   "cell_type": "code",
   "execution_count": 8,
   "id": "c8e173e3-d59a-45ef-9fdf-7f35e3a4c407",
   "metadata": {},
   "outputs": [],
   "source": [
    "trainer = Trainer(\n",
    "    model,\n",
    "    args,\n",
    "    train_dataset=samples,\n",
    "    eval_dataset=samples,\n",
    "    tokenizer=tokenizer,\n",
    "    compute_metrics=compute_metrics\n",
    ")"
   ]
  },
  {
   "cell_type": "code",
   "execution_count": 9,
   "id": "0f97cd29-864e-4e62-9e65-9e0b769355ab",
   "metadata": {},
   "outputs": [
    {
     "name": "stderr",
     "output_type": "stream",
     "text": [
      "/opt/conda/lib/python3.8/site-packages/transformers/optimization.py:306: FutureWarning: This implementation of AdamW is deprecated and will be removed in a future version. Use the PyTorch implementation torch.optim.AdamW instead, or set `no_deprecation_warning=True` to disable this warning\n",
      "  warnings.warn(\n",
      "***** Running training *****\n",
      "  Num examples = 731\n",
      "  Num Epochs = 5\n",
      "  Instantaneous batch size per device = 2\n",
      "  Total train batch size (w. parallel, distributed & accumulation) = 2\n",
      "  Gradient Accumulation steps = 1\n",
      "  Total optimization steps = 1830\n"
     ]
    },
    {
     "data": {
      "text/html": [
       "\n",
       "    <div>\n",
       "      \n",
       "      <progress value='1830' max='1830' style='width:300px; height:20px; vertical-align: middle;'></progress>\n",
       "      [1830/1830 01:29, Epoch 5/5]\n",
       "    </div>\n",
       "    <table border=\"1\" class=\"dataframe\">\n",
       "  <thead>\n",
       " <tr style=\"text-align: left;\">\n",
       "      <th>Epoch</th>\n",
       "      <th>Training Loss</th>\n",
       "      <th>Validation Loss</th>\n",
       "      <th>F1</th>\n",
       "      <th>Roc Auc</th>\n",
       "      <th>Accuracy</th>\n",
       "    </tr>\n",
       "  </thead>\n",
       "  <tbody>\n",
       "    <tr>\n",
       "      <td>1</td>\n",
       "      <td>No log</td>\n",
       "      <td>0.219380</td>\n",
       "      <td>0.813936</td>\n",
       "      <td>0.855042</td>\n",
       "      <td>0.496580</td>\n",
       "    </tr>\n",
       "    <tr>\n",
       "      <td>2</td>\n",
       "      <td>0.322700</td>\n",
       "      <td>0.096679</td>\n",
       "      <td>0.955348</td>\n",
       "      <td>0.967364</td>\n",
       "      <td>0.896033</td>\n",
       "    </tr>\n",
       "    <tr>\n",
       "      <td>3</td>\n",
       "      <td>0.132400</td>\n",
       "      <td>0.059121</td>\n",
       "      <td>0.973421</td>\n",
       "      <td>0.979773</td>\n",
       "      <td>0.935705</td>\n",
       "    </tr>\n",
       "    <tr>\n",
       "      <td>4</td>\n",
       "      <td>0.132400</td>\n",
       "      <td>0.044410</td>\n",
       "      <td>0.981481</td>\n",
       "      <td>0.987151</td>\n",
       "      <td>0.961696</td>\n",
       "    </tr>\n",
       "    <tr>\n",
       "      <td>5</td>\n",
       "      <td>0.063000</td>\n",
       "      <td>0.038971</td>\n",
       "      <td>0.983888</td>\n",
       "      <td>0.988812</td>\n",
       "      <td>0.965800</td>\n",
       "    </tr>\n",
       "  </tbody>\n",
       "</table><p>"
      ],
      "text/plain": [
       "<IPython.core.display.HTML object>"
      ]
     },
     "metadata": {},
     "output_type": "display_data"
    },
    {
     "name": "stderr",
     "output_type": "stream",
     "text": [
      "***** Running Evaluation *****\n",
      "  Num examples = 731\n",
      "  Batch size = 2\n",
      "Saving model checkpoint to multilabel_main_1/checkpoint-366\n",
      "Configuration saved in multilabel_main_1/checkpoint-366/config.json\n",
      "Model weights saved in multilabel_main_1/checkpoint-366/pytorch_model.bin\n",
      "tokenizer config file saved in multilabel_main_1/checkpoint-366/tokenizer_config.json\n",
      "Special tokens file saved in multilabel_main_1/checkpoint-366/special_tokens_map.json\n",
      "***** Running Evaluation *****\n",
      "  Num examples = 731\n",
      "  Batch size = 2\n",
      "Saving model checkpoint to multilabel_main_1/checkpoint-732\n",
      "Configuration saved in multilabel_main_1/checkpoint-732/config.json\n",
      "Model weights saved in multilabel_main_1/checkpoint-732/pytorch_model.bin\n",
      "tokenizer config file saved in multilabel_main_1/checkpoint-732/tokenizer_config.json\n",
      "Special tokens file saved in multilabel_main_1/checkpoint-732/special_tokens_map.json\n",
      "***** Running Evaluation *****\n",
      "  Num examples = 731\n",
      "  Batch size = 2\n",
      "Saving model checkpoint to multilabel_main_1/checkpoint-1098\n",
      "Configuration saved in multilabel_main_1/checkpoint-1098/config.json\n",
      "Model weights saved in multilabel_main_1/checkpoint-1098/pytorch_model.bin\n",
      "tokenizer config file saved in multilabel_main_1/checkpoint-1098/tokenizer_config.json\n",
      "Special tokens file saved in multilabel_main_1/checkpoint-1098/special_tokens_map.json\n",
      "***** Running Evaluation *****\n",
      "  Num examples = 731\n",
      "  Batch size = 2\n",
      "Saving model checkpoint to multilabel_main_1/checkpoint-1464\n",
      "Configuration saved in multilabel_main_1/checkpoint-1464/config.json\n",
      "Model weights saved in multilabel_main_1/checkpoint-1464/pytorch_model.bin\n",
      "tokenizer config file saved in multilabel_main_1/checkpoint-1464/tokenizer_config.json\n",
      "Special tokens file saved in multilabel_main_1/checkpoint-1464/special_tokens_map.json\n",
      "***** Running Evaluation *****\n",
      "  Num examples = 731\n",
      "  Batch size = 2\n",
      "Saving model checkpoint to multilabel_main_1/checkpoint-1830\n",
      "Configuration saved in multilabel_main_1/checkpoint-1830/config.json\n",
      "Model weights saved in multilabel_main_1/checkpoint-1830/pytorch_model.bin\n",
      "tokenizer config file saved in multilabel_main_1/checkpoint-1830/tokenizer_config.json\n",
      "Special tokens file saved in multilabel_main_1/checkpoint-1830/special_tokens_map.json\n",
      "\n",
      "\n",
      "Training completed. Do not forget to share your model on huggingface.co/models =)\n",
      "\n",
      "\n",
      "Loading best model from multilabel_main_1/checkpoint-1830 (score: 0.9838875557079191).\n"
     ]
    },
    {
     "data": {
      "text/plain": [
       "TrainOutput(global_step=1830, training_loss=0.1498341596843115, metrics={'train_runtime': 90.0714, 'train_samples_per_second': 40.579, 'train_steps_per_second': 20.317, 'total_flos': 121057195818240.0, 'train_loss': 0.1498341596843115, 'epoch': 5.0})"
      ]
     },
     "execution_count": 9,
     "metadata": {},
     "output_type": "execute_result"
    }
   ],
   "source": [
    "trainer.train()"
   ]
  }
 ],
 "metadata": {
  "kernelspec": {
   "display_name": "Python 3",
   "language": "python",
   "name": "python3"
  },
  "language_info": {
   "codemirror_mode": {
    "name": "ipython",
    "version": 3
   },
   "file_extension": ".py",
   "mimetype": "text/x-python",
   "name": "python",
   "nbconvert_exporter": "python",
   "pygments_lexer": "ipython3",
   "version": "3.8.8"
  }
 },
 "nbformat": 4,
 "nbformat_minor": 5
}
