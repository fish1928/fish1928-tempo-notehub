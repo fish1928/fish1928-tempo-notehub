{
 "cells": [
  {
   "cell_type": "code",
   "execution_count": 1,
   "id": "ac809225-7382-4c43-bcf0-b9cba6b7995e",
   "metadata": {},
   "outputs": [],
   "source": [
    "import torch\n",
    "import numpy as np\n",
    "from transformers import BertTokenizer\n",
    "import pandas as pd\n",
    "\n",
    "from lit_nlp import notebook\n",
    "from lit_nlp.api import dataset as lit_dataset\n",
    "from lit_nlp.api import model as lit_model\n",
    "from lit_nlp.api import types as lit_types\n",
    "from lit_nlp.lib import utils"
   ]
  },
  {
   "cell_type": "code",
   "execution_count": 2,
   "id": "98096ffa-a2c1-4e53-a1ec-89834560c0f4",
   "metadata": {},
   "outputs": [],
   "source": [
    "tokenizer = BertTokenizer.from_pretrained('bert-base-cased')\n",
    "datapath='bbc-text-mini.csv'\n",
    "df= pd.read_csv(datapath)"
   ]
  },
  {
   "cell_type": "code",
   "execution_count": 3,
   "id": "fa8113b0-7dec-4e51-81db-817bcad723c4",
   "metadata": {},
   "outputs": [],
   "source": [
    "LABELS = {\n",
    "    'business':0,\n",
    "    'entertainment':1,\n",
    "    'sport':2,\n",
    "    'tech': 3,\n",
    "    'politics':4\n",
    "}"
   ]
  },
  {
   "cell_type": "code",
   "execution_count": 4,
   "id": "ff751347-b790-4c69-afbd-84c6757ce13d",
   "metadata": {},
   "outputs": [],
   "source": [
    "class Dataset(lit_dataset.Dataset):\n",
    "    def __init__(self, df):\n",
    "        self.labels = [LABELS[label] for label in df['category']]\n",
    "        self.texts = [tokenizer(text, padding='max_length',max_length=512, truncation=True,return_tensors='pt') for text in df['text']]\n",
    "    # end\n",
    "    \n",
    "    def classes(self):\n",
    "        return self.labels\n",
    "    # end\n",
    "    \n",
    "    def __len__(self):\n",
    "        return len(self.labels)\n",
    "    # end\n",
    "    \n",
    "    def get_batch_labels(self, idx):\n",
    "        return np.array(self.labels[idx])\n",
    "    # end\n",
    "    \n",
    "    def get_batch_texts(self, idx):\n",
    "        return self.texts[idx]\n",
    "    # end\n",
    "    \n",
    "    def __getitem__(self, idx):\n",
    "        batch_texts = self.get_batch_texts(idx)\n",
    "        batch_y = self.get_batch_labels(idx)\n",
    "        return batch_texts, batch_y\n",
    "    # end\n",
    "    \n",
    "    def spec(self) -> lit_types.Spec:\n",
    "        return {\n",
    "            'text': lit_types.TextSegment(),\n",
    "            'label': lit_types.CategoryLabel(vocab=self.labels)\n",
    "        }\n",
    "    # end"
   ]
  },
  {
   "cell_type": "code",
   "execution_count": 5,
   "id": "e382612a-a84b-4221-806e-c1e6e5948891",
   "metadata": {},
   "outputs": [],
   "source": [
    "df_train, df_val, df_test = np.split(df.sample(frac=1, random_state=42), \n",
    "                                     [int(.8*len(df)), int(.9*len(df))])"
   ]
  },
  {
   "cell_type": "code",
   "execution_count": 6,
   "id": "0b997e12-3870-48aa-b563-e7871379d286",
   "metadata": {},
   "outputs": [
    {
     "name": "stdout",
     "output_type": "stream",
     "text": [
      "79 10 10\n"
     ]
    }
   ],
   "source": [
    "print(len(df_train),len(df_val), len(df_test))"
   ]
  },
  {
   "cell_type": "code",
   "execution_count": 7,
   "id": "a1f9b3c6-06f4-44e7-91d7-22117f6acfdf",
   "metadata": {},
   "outputs": [],
   "source": [
    "# start to build the model\n",
    "from torch import nn\n",
    "from transformers import BertModel\n",
    "\n",
    "class BertClassifier(nn.Module):\n",
    "    def __init__(self, dropout=0.5):\n",
    "        super (BertClassifier, self).__init__()\n",
    "        \n",
    "        self.bert = BertModel.from_pretrained('bert-base-cased')\n",
    "        self.dropout = nn.Dropout(dropout)\n",
    "        self.linear = nn.Linear(768, 5)\n",
    "        self.relu = nn.ReLU()\n",
    "    # end\n",
    "    \n",
    "    def forward(self, input_id, mask):\n",
    "        _, pooled_output = self.bert(input_ids=input_id, attention_mask=mask, return_dict=False)\n",
    "        dropout_output = self.dropout(pooled_output)\n",
    "        linear_output = self.linear(dropout_output)\n",
    "        final_layer = self.relu(linear_output)\n",
    "        \n",
    "        return final_layer\n",
    "    # end\n",
    "# end class\n",
    "\n",
    "\n",
    "\n",
    "class BertTrainer(lit_model.Model):\n",
    "    def __init__(self, model, train_dataset, val_dataset,learning_rate=1e-6):\n",
    "        self.model = model\n",
    "        self.labels = [LABELS[label] for label in df['category']]\n",
    "        self.train_dataloader = torch.utils.data.DataLoader(train_dataset, batch_size=2, shuffle=True)\n",
    "        self.val_dataloader = torch.utils.data.DataLoader(val_dataset, batch_size=2)\n",
    "        \n",
    "        self.use_cuda = torch.cuda.is_available()\n",
    "        self.device = torch.device(\"cuda\" if self.use_cuda else \"cpu\")\n",
    "        self.criterion = nn.CrossEntropyLoss()\n",
    "        \n",
    "        self.optimizer = Adam(model.parameters(), lr=learning_rate)\n",
    "    # end\n",
    "    \n",
    "    \n",
    "    def input_spec(self) -> lit_types.Spec:\n",
    "        return {\n",
    "            \"text\": lit_types.TextSegment(),\n",
    "            \"label\": lit_types.CategoryLabel(vocab=self.labels, required=False)\n",
    "        }\n",
    "\n",
    "    def output_spec(self) -> lit_types.Spec:\n",
    "        return {\n",
    "            \"tokens\": lit_types.Tokens(),\n",
    "            \"probas\": lit_types.MulticlassPreds(parent=\"label\", vocab=self.labels),\n",
    "            \"cls_emb\": lit_types.Embeddings()\n",
    "        }\n",
    "    # end\n",
    "    \n",
    "    \n",
    "    def train(self, epochs, tokenizer):\n",
    "        device = self.device\n",
    "        \n",
    "        if self.use_cuda:\n",
    "            model = self.model.cuda()\n",
    "            criterion = self.criterion.cuda()\n",
    "        # end\n",
    "\n",
    "        for epoch_num in range(epochs):\n",
    "\n",
    "            total_acc_train = 0\n",
    "            total_loss_train = 0\n",
    "\n",
    "            for train_input, train_label in tqdm(self.train_dataloader):\n",
    "\n",
    "                train_label = train_label.to(device)\n",
    "                mask = train_input['attention_mask'].to(device)\n",
    "                input_id = train_input['input_ids'].squeeze(1).to(device)\n",
    "\n",
    "                output = model(input_id, mask)\n",
    "                \n",
    "                batch_loss = criterion(output, train_label)\n",
    "                total_loss_train += batch_loss.item()\n",
    "                \n",
    "                acc = (output.argmax(dim=1) == train_label).sum().item()\n",
    "                total_acc_train += acc\n",
    "\n",
    "                model.zero_grad()\n",
    "                batch_loss.backward()\n",
    "                self.optimizer.step()\n",
    "            \n",
    "#             total_acc_val = 0\n",
    "#             total_loss_val = 0\n",
    "            \n",
    "#             for val_inputs, val_label in tqdm(self.train_dataloader):\n",
    "#                 current_loss_val, current_acc_val = self.predict_minibatch(val_inputs, val_label, tokenizer)\n",
    "#             # end\n",
    "            \n",
    "#             total_acc_val += current_loss_val\n",
    "#             total_loss_val += current_loss_val\n",
    "            \n",
    "#             print(\n",
    "#             f'Epochs: {epoch_num + 1} | Train Loss: {total_loss_train / len(train_data): .3f} \\\n",
    "#             | Train Accuracy: {total_acc_train / len(train_data): .3f} \\\n",
    "#             | Val Loss: {total_loss_val / len(val_data): .3f} \\\n",
    "#             | Val Accuracy: {total_acc_val / len(val_data): .3f}')\n",
    "        # end print\n",
    "\n",
    "    def max_minibatch_size(self):\n",
    "        return 32\n",
    "    \n",
    "    def predict_minibatch(self, val_input, val_label, tokenizer, model):\n",
    "        device = self.device\n",
    "        model = self.model\n",
    "        criterion = self.criterion\n",
    "        \n",
    "        if self.use_cuda:\n",
    "            model = self.model.cuda()\n",
    "            criterion = self.criterion.cuda()\n",
    "        # end\n",
    "        \n",
    "        with torch.no_grad():\n",
    "            val_label = val_label.to(device)\n",
    "            mask = val_input['attention_mask'].to(device)\n",
    "            input_id = val_input['input_ids'].squeeze(1).to(device)\n",
    "\n",
    "            output = model(input_id, mask)\n",
    "\n",
    "            batch_loss = criterion(output, val_label)\n",
    "            current_loss_val = batch_loss.item()\n",
    "            acc = (output.argmax(dim=1) == val_label).sum().item()\n",
    "             \n",
    "            output_yield = {}\n",
    "            output_yield['tokens'] = [tokenizer.decode(dimension23.reshape(-1)) for dimension23 in val_input['input_ids']]\n",
    "            output_yield[\"probas\"] = torch.nn.functional.softmax(output.logits, dim=-1),\n",
    "            output_yield['cls_emb'] = output.hidden_states[-1][:, 0]\n",
    "            yield output_yield\n",
    "        # end\n",
    "        \n",
    "        return current_loss_val, acc\n",
    "\n",
    "    # end\n",
    "    \n",
    "    \n",
    "\n",
    "# end class"
   ]
  },
  {
   "cell_type": "code",
   "execution_count": 8,
   "id": "bc5e3896-37f1-450d-9ec9-ed1382ce4c45",
   "metadata": {},
   "outputs": [
    {
     "name": "stderr",
     "output_type": "stream",
     "text": [
      "Some weights of the model checkpoint at bert-base-cased were not used when initializing BertModel: ['cls.seq_relationship.weight', 'cls.predictions.transform.dense.bias', 'cls.predictions.transform.LayerNorm.bias', 'cls.predictions.transform.dense.weight', 'cls.predictions.bias', 'cls.predictions.decoder.weight', 'cls.predictions.transform.LayerNorm.weight', 'cls.seq_relationship.bias']\n",
      "- This IS expected if you are initializing BertModel from the checkpoint of a model trained on another task or with another architecture (e.g. initializing a BertForSequenceClassification model from a BertForPreTraining model).\n",
      "- This IS NOT expected if you are initializing BertModel from the checkpoint of a model that you expect to be exactly identical (initializing a BertForSequenceClassification model from a BertForSequenceClassification model).\n",
      "100%|██████████| 40/40 [00:03<00:00, 10.35it/s]\n"
     ]
    }
   ],
   "source": [
    "from torch.optim import Adam\n",
    "from tqdm import tqdm\n",
    "\n",
    "                  \n",
    "EPOCHS = 1\n",
    "model = BertClassifier()\n",
    "train_dataset, val_dataset = Dataset(df_train), Dataset(df_val)\n",
    "LR = 1e-6\n",
    "\n",
    "trainer = BertTrainer(model, train_dataset, val_dataset)\n",
    "trainer.train(EPOCHS, tokenizer)  "
   ]
  },
  {
   "cell_type": "code",
   "execution_count": 9,
   "id": "7fceda3a-3202-4de4-96f4-0425f39aeb59",
   "metadata": {},
   "outputs": [
    {
     "name": "stderr",
     "output_type": "stream",
     "text": [
      "100%|██████████| 5/5 [00:00<00:00, 4729.71it/s]\n"
     ]
    }
   ],
   "source": [
    "val_dataloader = torch.utils.data.DataLoader(val_dataset, batch_size=2)\n",
    "\n",
    "for val_inputs, val_label in tqdm(val_dataloader):\n",
    "    trainer.predict_minibatch(val_inputs, val_label, tokenizer, model)\n",
    "# end"
   ]
  },
  {
   "cell_type": "code",
   "execution_count": 10,
   "id": "ff19a745-3fe8-44c5-ba0c-6dfa9d79cbb4",
   "metadata": {},
   "outputs": [],
   "source": [
    "models = {\"SR-2-PR\": trainer}\n",
    "datasets = {'SR-2-PR': val_dataset}"
   ]
  },
  {
   "cell_type": "code",
   "execution_count": 11,
   "id": "e553298f-575b-4265-8743-cc34f2b1fb82",
   "metadata": {},
   "outputs": [
    {
     "name": "stderr",
     "output_type": "stream",
     "text": [
      "INFO:absl:\n",
      " (    (           \n",
      " )\\ ) )\\ )  *   ) \n",
      "(()/((()/(` )  /( \n",
      " /(_))/(_))( )(_))\n",
      "(_)) (_)) (_(_()) \n",
      "| |  |_ _||_   _| \n",
      "| |__ | |   | |   \n",
      "|____|___|  |_|   \n",
      "\n",
      "\n",
      "INFO:absl:Starting LIT server...\n",
      "INFO:absl:CachingModelWrapper 'SR-2-PR': no cache path specified, not loading.\n",
      "INFO:absl:Warm-start of model 'SR-2-PR' on dataset '_union_empty'\n",
      "INFO:absl:CachingModelWrapper 'SR-2-PR': misses (dataset=_union_empty): []\n",
      "INFO:absl:CachingModelWrapper 'SR-2-PR': 0 misses out of 0 inputs\n",
      "INFO:absl:Prepared 0 inputs for model\n",
      "INFO:absl:Received 0 predictions from model\n",
      "INFO:absl:Requested types: ['LitType']\n",
      "INFO:absl:Will return keys: {'probas', 'tokens', 'cls_emb'}\n",
      "INFO:absl:CachingModelWrapper 'SR-2-PR': no cache path specified, not saving.\n"
     ]
    }
   ],
   "source": [
    "widget = notebook.LitWidget(models, datasets, height=1024)"
   ]
  },
  {
   "cell_type": "code",
   "execution_count": 12,
   "id": "8c0a6695-af5c-43c0-b340-1c4d77491601",
   "metadata": {},
   "outputs": [
    {
     "data": {
      "text/html": [
       "\n",
       "    <style>div.output_scroll { height: 1034px; }</style>\n",
       "    <iframe id='lit-frame-c2dae92e0e3ec3fb' width='100%' height='1024' frameborder='0'>\n",
       "    </iframe>\n",
       "    <script>\n",
       "      (function() {\n",
       "        const frame = document.getElementById(\"lit-frame-c2dae92e0e3ec3fb\");\n",
       "        const url = new URL(\"/\", window.location);\n",
       "        const port = 20503;\n",
       "        if (port) {\n",
       "          url.port = port;\n",
       "        }\n",
       "        frame.src = url;\n",
       "      })();\n",
       "    </script>\n",
       "  "
      ],
      "text/plain": [
       "<IPython.core.display.HTML object>"
      ]
     },
     "metadata": {},
     "output_type": "display_data"
    }
   ],
   "source": [
    "widget.render()"
   ]
  },
  {
   "cell_type": "code",
   "execution_count": null,
   "id": "9d03f997-e1cc-4ef0-b555-972917a8095b",
   "metadata": {},
   "outputs": [],
   "source": []
  }
 ],
 "metadata": {
  "kernelspec": {
   "display_name": "Python 3",
   "language": "python",
   "name": "python3"
  },
  "language_info": {
   "codemirror_mode": {
    "name": "ipython",
    "version": 3
   },
   "file_extension": ".py",
   "mimetype": "text/x-python",
   "name": "python",
   "nbconvert_exporter": "python",
   "pygments_lexer": "ipython3",
   "version": "3.8.8"
  }
 },
 "nbformat": 4,
 "nbformat_minor": 5
}
