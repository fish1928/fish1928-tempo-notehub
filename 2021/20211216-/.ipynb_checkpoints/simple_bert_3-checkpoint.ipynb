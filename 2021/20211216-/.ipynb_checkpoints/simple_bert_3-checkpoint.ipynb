{
 "cells": [
  {
   "cell_type": "code",
   "execution_count": 1,
   "id": "12ccbfe1-055f-44cc-b4a3-1b55b76dd3e7",
   "metadata": {},
   "outputs": [],
   "source": [
    "import torch\n",
    "import transformers\n",
    "from transformers.file_utils import is_tf_available, is_torch_available, is_torch_tpu_available\n",
    "from transformers import BertTokenizerFast, BertForSequenceClassification\n",
    "from transformers import Trainer, TrainingArguments\n",
    "import numpy as np\n",
    "import random\n",
    "from sklearn.datasets import fetch_20newsgroups\n",
    "from sklearn.model_selection import train_test_split"
   ]
  },
  {
   "cell_type": "code",
   "execution_count": 2,
   "id": "d107ce45-4ee9-45e9-962c-a9edf6d7eb63",
   "metadata": {},
   "outputs": [],
   "source": [
    "from absl import app\n",
    "from absl import flags\n",
    "from absl import logging\n",
    "from lit_nlp import dev_server\n",
    "from lit_nlp import server_flags\n",
    "from lit_nlp.api import model as lit_model\n",
    "from lit_nlp.api import types as lit_types\n",
    "# Use the regular GLUE data loaders, because these are very simple already.\n",
    "from lit_nlp.lib import utils"
   ]
  },
  {
   "cell_type": "code",
   "execution_count": 3,
   "id": "2adce6ab-61dd-4ce6-8a19-ae6a376de4ad",
   "metadata": {},
   "outputs": [],
   "source": [
    "# the model we gonna train, base uncased BERT\n",
    "# check text classification models here: https://huggingface.co/models?filter=text-classification\n",
    "model_name = \"bert-base-uncased\"\n",
    "# max sequence length for each document/sentence sample\n",
    "max_length = 512"
   ]
  },
  {
   "cell_type": "code",
   "execution_count": 4,
   "id": "4ef49596-da0b-4ba2-9157-afa279f76193",
   "metadata": {},
   "outputs": [],
   "source": [
    "tokenizer = BertTokenizerFast.from_pretrained(model_name, do_lower_case=True)"
   ]
  },
  {
   "cell_type": "code",
   "execution_count": 5,
   "id": "c3d4a022-6660-4130-9b11-c320f27cdefa",
   "metadata": {},
   "outputs": [],
   "source": [
    "def read_20newsgroups(test_size=0.2):\n",
    "  # download & load 20newsgroups dataset from sklearn's repos\n",
    "  dataset = fetch_20newsgroups(subset=\"all\", shuffle=True, remove=(\"headers\", \"footers\", \"quotes\"))\n",
    "  documents = dataset.data[:200]\n",
    "  labels = dataset.target[:200]\n",
    "  # split into training & testing a return data as well as label names\n",
    "  return train_test_split(documents, labels, test_size=test_size), dataset.target_names"
   ]
  },
  {
   "cell_type": "code",
   "execution_count": 6,
   "id": "5d950615-e084-4753-a30f-c02f4e5f4e3b",
   "metadata": {},
   "outputs": [],
   "source": [
    "# call the function\n",
    "(train_texts, valid_texts, train_labels, valid_labels), target_names = read_20newsgroups()"
   ]
  },
  {
   "cell_type": "code",
   "execution_count": 7,
   "id": "197caaae-45f3-4c3e-88e6-3c0c4bf9c19d",
   "metadata": {},
   "outputs": [
    {
     "data": {
      "text/plain": [
       "20"
      ]
     },
     "execution_count": 7,
     "metadata": {},
     "output_type": "execute_result"
    }
   ],
   "source": [
    "len(target_names)"
   ]
  },
  {
   "cell_type": "code",
   "execution_count": 7,
   "id": "bf4c11b0-34df-46fd-b81c-26a13682e059",
   "metadata": {},
   "outputs": [],
   "source": [
    "train_encodings = tokenizer(train_texts, truncation=True, padding=True, max_length=max_length)\n",
    "valid_encodings = tokenizer(valid_texts, truncation=True, padding=True, max_length=max_length)"
   ]
  },
  {
   "cell_type": "code",
   "execution_count": 8,
   "id": "e6c635d7-7eb0-4513-b10d-b3ea53217e75",
   "metadata": {},
   "outputs": [],
   "source": [
    "class NewsGroupsDataset(torch.utils.data.Dataset):\n",
    "    def __init__(self, encodings, labels):\n",
    "        self.encodings = encodings\n",
    "        self.labels = labels\n",
    "\n",
    "    def __getitem__(self, idx):\n",
    "        item = {k: torch.tensor(v[idx]) for k, v in self.encodings.items()}\n",
    "        item[\"labels\"] = torch.tensor([self.labels[idx]])\n",
    "        return item\n",
    "\n",
    "    def __len__(self):\n",
    "        return len(self.labels)"
   ]
  },
  {
   "cell_type": "code",
   "execution_count": 9,
   "id": "896c1278-aa9d-456a-9329-2c5a315d14c5",
   "metadata": {},
   "outputs": [],
   "source": [
    "train_dataset = NewsGroupsDataset(train_encodings, train_labels)\n",
    "valid_dataset = NewsGroupsDataset(valid_encodings, valid_labels)"
   ]
  },
  {
   "cell_type": "code",
   "execution_count": 10,
   "id": "7ea18b82-385c-4897-bcb4-9a4805e8704b",
   "metadata": {},
   "outputs": [
    {
     "name": "stderr",
     "output_type": "stream",
     "text": [
      "Some weights of the model checkpoint at bert-base-uncased were not used when initializing BertForSequenceClassification: ['cls.predictions.transform.LayerNorm.weight', 'cls.predictions.transform.LayerNorm.bias', 'cls.predictions.bias', 'cls.predictions.transform.dense.weight', 'cls.predictions.decoder.weight', 'cls.seq_relationship.bias', 'cls.seq_relationship.weight', 'cls.predictions.transform.dense.bias']\n",
      "- This IS expected if you are initializing BertForSequenceClassification from the checkpoint of a model trained on another task or with another architecture (e.g. initializing a BertForSequenceClassification model from a BertForPreTraining model).\n",
      "- This IS NOT expected if you are initializing BertForSequenceClassification from the checkpoint of a model that you expect to be exactly identical (initializing a BertForSequenceClassification model from a BertForSequenceClassification model).\n",
      "Some weights of BertForSequenceClassification were not initialized from the model checkpoint at bert-base-uncased and are newly initialized: ['classifier.weight', 'classifier.bias']\n",
      "You should probably TRAIN this model on a down-stream task to be able to use it for predictions and inference.\n"
     ]
    }
   ],
   "source": [
    "model = BertForSequenceClassification.from_pretrained(model_name, num_labels=len(target_names)).to(\"cuda\")"
   ]
  },
  {
   "cell_type": "code",
   "execution_count": 11,
   "id": "d2b1702c-ced3-4170-a078-1aff7d98598d",
   "metadata": {},
   "outputs": [],
   "source": [
    "from sklearn.metrics import accuracy_score\n",
    "\n",
    "def compute_metrics(pred):\n",
    "  labels = pred.label_ids\n",
    "  preds = pred.predictions.argmax(-1)\n",
    "  # calculate accuracy using sklearn's function\n",
    "  acc = accuracy_score(labels, preds)\n",
    "  return {\n",
    "      'accuracy': acc,\n",
    "  }"
   ]
  },
  {
   "cell_type": "code",
   "execution_count": 12,
   "id": "5b592a11-8722-40e8-8ad6-ef9f31f3455c",
   "metadata": {},
   "outputs": [],
   "source": [
    "training_args = TrainingArguments(\n",
    "    output_dir='./results',          # output directory\n",
    "    num_train_epochs=3,              # total number of training epochs\n",
    "    per_device_train_batch_size=4,  # batch size per device during training\n",
    "    per_device_eval_batch_size=4,   # batch size for evaluation\n",
    "    warmup_steps=20,                # number of warmup steps for learning rate scheduler\n",
    "    weight_decay=0.01,               # strength of weight decay\n",
    "    logging_dir='./logs',            # directory for storing logs\n",
    "    load_best_model_at_end=True,     # load the best model when finished training (default metric is loss)\n",
    "    # but you can specify `metric_for_best_model` argument to change to accuracy or other metric\n",
    "    logging_steps=10,               # log & save weights each logging_steps\n",
    "    evaluation_strategy=\"steps\",     # evaluate each `logging_steps`\n",
    ")"
   ]
  },
  {
   "cell_type": "code",
   "execution_count": 13,
   "id": "debb769a-0bc7-4d6b-a34c-6e57e6760c5f",
   "metadata": {},
   "outputs": [],
   "source": [
    "trainer = Trainer(\n",
    "    model=model,                         # the instantiated Transformers model to be trained\n",
    "    args=training_args,                  # training arguments, defined above\n",
    "    train_dataset=train_dataset,         # training dataset\n",
    "    eval_dataset=valid_dataset,          # evaluation dataset\n",
    "    compute_metrics=compute_metrics,     # the callback that computes metrics of interest\n",
    ")"
   ]
  },
  {
   "cell_type": "code",
   "execution_count": 14,
   "id": "ffa6a7f1-2255-4c98-9cee-2ed5214b69a6",
   "metadata": {},
   "outputs": [
    {
     "name": "stderr",
     "output_type": "stream",
     "text": [
      "***** Running training *****\n",
      "  Num examples = 160\n",
      "  Num Epochs = 3\n",
      "  Instantaneous batch size per device = 4\n",
      "  Total train batch size (w. parallel, distributed & accumulation) = 4\n",
      "  Gradient Accumulation steps = 1\n",
      "  Total optimization steps = 120\n"
     ]
    },
    {
     "data": {
      "text/html": [
       "\n",
       "    <div>\n",
       "      \n",
       "      <progress value='120' max='120' style='width:300px; height:20px; vertical-align: middle;'></progress>\n",
       "      [120/120 00:24, Epoch 3/3]\n",
       "    </div>\n",
       "    <table border=\"1\" class=\"dataframe\">\n",
       "  <thead>\n",
       "    <tr style=\"text-align: left;\">\n",
       "      <th>Step</th>\n",
       "      <th>Training Loss</th>\n",
       "      <th>Validation Loss</th>\n",
       "      <th>Accuracy</th>\n",
       "    </tr>\n",
       "  </thead>\n",
       "  <tbody>\n",
       "    <tr>\n",
       "      <td>10</td>\n",
       "      <td>3.078200</td>\n",
       "      <td>3.098712</td>\n",
       "      <td>0.025000</td>\n",
       "    </tr>\n",
       "    <tr>\n",
       "      <td>20</td>\n",
       "      <td>3.093100</td>\n",
       "      <td>2.963238</td>\n",
       "      <td>0.050000</td>\n",
       "    </tr>\n",
       "    <tr>\n",
       "      <td>30</td>\n",
       "      <td>2.959100</td>\n",
       "      <td>2.926141</td>\n",
       "      <td>0.100000</td>\n",
       "    </tr>\n",
       "    <tr>\n",
       "      <td>40</td>\n",
       "      <td>3.013000</td>\n",
       "      <td>2.926519</td>\n",
       "      <td>0.125000</td>\n",
       "    </tr>\n",
       "    <tr>\n",
       "      <td>50</td>\n",
       "      <td>2.924900</td>\n",
       "      <td>2.926198</td>\n",
       "      <td>0.025000</td>\n",
       "    </tr>\n",
       "    <tr>\n",
       "      <td>60</td>\n",
       "      <td>2.854800</td>\n",
       "      <td>3.027048</td>\n",
       "      <td>0.025000</td>\n",
       "    </tr>\n",
       "    <tr>\n",
       "      <td>70</td>\n",
       "      <td>2.907700</td>\n",
       "      <td>2.967653</td>\n",
       "      <td>0.075000</td>\n",
       "    </tr>\n",
       "    <tr>\n",
       "      <td>80</td>\n",
       "      <td>2.808900</td>\n",
       "      <td>2.932856</td>\n",
       "      <td>0.050000</td>\n",
       "    </tr>\n",
       "    <tr>\n",
       "      <td>90</td>\n",
       "      <td>2.702700</td>\n",
       "      <td>2.770093</td>\n",
       "      <td>0.225000</td>\n",
       "    </tr>\n",
       "    <tr>\n",
       "      <td>100</td>\n",
       "      <td>2.597400</td>\n",
       "      <td>2.659444</td>\n",
       "      <td>0.325000</td>\n",
       "    </tr>\n",
       "    <tr>\n",
       "      <td>110</td>\n",
       "      <td>2.494300</td>\n",
       "      <td>2.614200</td>\n",
       "      <td>0.275000</td>\n",
       "    </tr>\n",
       "    <tr>\n",
       "      <td>120</td>\n",
       "      <td>2.435600</td>\n",
       "      <td>2.606042</td>\n",
       "      <td>0.275000</td>\n",
       "    </tr>\n",
       "  </tbody>\n",
       "</table><p>"
      ],
      "text/plain": [
       "<IPython.core.display.HTML object>"
      ]
     },
     "metadata": {},
     "output_type": "display_data"
    },
    {
     "name": "stderr",
     "output_type": "stream",
     "text": [
      "***** Running Evaluation *****\n",
      "  Num examples = 40\n",
      "  Batch size = 4\n",
      "***** Running Evaluation *****\n",
      "  Num examples = 40\n",
      "  Batch size = 4\n",
      "***** Running Evaluation *****\n",
      "  Num examples = 40\n",
      "  Batch size = 4\n",
      "***** Running Evaluation *****\n",
      "  Num examples = 40\n",
      "  Batch size = 4\n",
      "***** Running Evaluation *****\n",
      "  Num examples = 40\n",
      "  Batch size = 4\n",
      "***** Running Evaluation *****\n",
      "  Num examples = 40\n",
      "  Batch size = 4\n",
      "***** Running Evaluation *****\n",
      "  Num examples = 40\n",
      "  Batch size = 4\n",
      "***** Running Evaluation *****\n",
      "  Num examples = 40\n",
      "  Batch size = 4\n",
      "***** Running Evaluation *****\n",
      "  Num examples = 40\n",
      "  Batch size = 4\n",
      "***** Running Evaluation *****\n",
      "  Num examples = 40\n",
      "  Batch size = 4\n",
      "***** Running Evaluation *****\n",
      "  Num examples = 40\n",
      "  Batch size = 4\n",
      "***** Running Evaluation *****\n",
      "  Num examples = 40\n",
      "  Batch size = 4\n",
      "\n",
      "\n",
      "Training completed. Do not forget to share your model on huggingface.co/models =)\n",
      "\n",
      "\n"
     ]
    },
    {
     "data": {
      "text/plain": [
       "TrainOutput(global_step=120, training_loss=2.822476323445638, metrics={'train_runtime': 25.0234, 'train_samples_per_second': 19.182, 'train_steps_per_second': 4.796, 'total_flos': 126313717432320.0, 'train_loss': 2.822476323445638, 'epoch': 3.0})"
      ]
     },
     "execution_count": 14,
     "metadata": {},
     "output_type": "execute_result"
    }
   ],
   "source": [
    "trainer.train()"
   ]
  },
  {
   "cell_type": "code",
   "execution_count": 15,
   "id": "70ed2a8c-34d2-4871-8a3a-0e533f3d09e3",
   "metadata": {},
   "outputs": [
    {
     "name": "stderr",
     "output_type": "stream",
     "text": [
      "***** Running Evaluation *****\n",
      "  Num examples = 40\n",
      "  Batch size = 4\n"
     ]
    },
    {
     "data": {
      "text/html": [
       "\n",
       "    <div>\n",
       "      \n",
       "      <progress value='10' max='10' style='width:300px; height:20px; vertical-align: middle;'></progress>\n",
       "      [10/10 00:00]\n",
       "    </div>\n",
       "    "
      ],
      "text/plain": [
       "<IPython.core.display.HTML object>"
      ]
     },
     "metadata": {},
     "output_type": "display_data"
    },
    {
     "data": {
      "text/plain": [
       "{'eval_loss': 2.6060421466827393,\n",
       " 'eval_accuracy': 0.275,\n",
       " 'eval_runtime': 0.4881,\n",
       " 'eval_samples_per_second': 81.954,\n",
       " 'eval_steps_per_second': 20.488,\n",
       " 'epoch': 3.0}"
      ]
     },
     "execution_count": 15,
     "metadata": {},
     "output_type": "execute_result"
    }
   ],
   "source": [
    "trainer.evaluate()"
   ]
  },
  {
   "cell_type": "code",
   "execution_count": 15,
   "id": "a73e7c6f-5e1d-45db-be55-589fd0ca13e5",
   "metadata": {},
   "outputs": [],
   "source": [
    "def get_prediction(text):\n",
    "    # prepare our text into tokenized sequence\n",
    "    inputs = tokenizer(text, padding=True, truncation=True, max_length=max_length, return_tensors=\"pt\").to(\"cuda\")\n",
    "    # perform inference to our model\n",
    "    outputs = model(**inputs)\n",
    "    # get output probabilities by doing softmax\n",
    "    probs = outputs[0].softmax(1)\n",
    "    # executing argmax function to get the candidate label\n",
    "    return target_names[probs.argmax()]"
   ]
  },
  {
   "cell_type": "code",
   "execution_count": 16,
   "id": "8483a9f5-0794-469a-a778-5221f9ac327b",
   "metadata": {},
   "outputs": [],
   "source": [
    "class SimpleModelWrapper(lit_model.Model):\n",
    "\n",
    "    def __init__(self, tokenizer, model, labels):\n",
    "        self.tokenizer = tokenizer\n",
    "        self.model = model\n",
    "        self.labels = labels\n",
    "  # end\n",
    "\n",
    "\n",
    "    def max_minibatch_size(self):\n",
    "        return 32\n",
    "    # end\n",
    "    \n",
    "    \n",
    "    def predict_minibatch(self, inputs):\n",
    "        inputs = tokenizer(text, padding=True, truncation=True, max_length=max_length,return_tensors=\"pt\").to(\"cuda\")\n",
    "        with torch.no_grad():  # remove this if you need gradients.\n",
    "            out: transformers.modeling_outputs.SequenceClassifierOutput = self.model(**inputs)\n",
    "        # end\n",
    "        \n",
    "        batched_outputs = {\n",
    "            \"probas\": torch.nn.functional.softmax(out.logits, dim=-1),\n",
    "            \"input_ids\": inputs[\"input_ids\"],\n",
    "            \"ntok\": torch.sum(inputs[\"attention_mask\"], dim=1),\n",
    "            \"cls_emb\": out.hidden_states[-1][:, 0],  # last layer, first token\n",
    "        }\n",
    "\n",
    "        # Return as NumPy for further processing.\n",
    "        detached_outputs = {k: v.cpu().numpy() for k, v in batched_outputs.items()}\n",
    "        # Unbatch outputs so we get one record per input example.\n",
    "        for output in utils.unbatch_preds(detached_outputs):\n",
    "            ntok = output.pop(\"ntok\")\n",
    "            output[\"tokens\"] = self.tokenizer.convert_ids_to_tokens(output.pop(\"input_ids\")[1:ntok - 1])\n",
    "            yield output\n",
    "        # end\n",
    "    # end\n",
    "        \n",
    "        \n",
    "    def input_spec(self) -> lit_types.Spec:\n",
    "        return {\n",
    "            \"sentence\": lit_types.TextSegment(),\n",
    "            \"label\": lit_types.CategoryLabel(vocab=self.labels, required=False)\n",
    "        }\n",
    "    # end\n",
    "    \n",
    "    \n",
    "    def output_spec(self) -> lit_types.Spec:\n",
    "        return {\n",
    "            \"tokens\": lit_types.Tokens(),\n",
    "            \"probas\": lit_types.MulticlassPreds(parent=\"label\", vocab=self.labels, null_idx=0),\n",
    "            \"cls_emb\": lit_types.Embeddings()\n",
    "        }\n",
    "    # end\n",
    "# end class"
   ]
  },
  {
   "cell_type": "code",
   "execution_count": 17,
   "id": "4413b777-55f7-432b-87c8-630a33e69a8e",
   "metadata": {},
   "outputs": [],
   "source": [
    "model_wrapper = SimpleModelWrapper(tokenizer, model, target_names)"
   ]
  },
  {
   "cell_type": "code",
   "execution_count": 26,
   "id": "f93e150b-ac50-4cc8-8050-8b5713caab72",
   "metadata": {},
   "outputs": [],
   "source": [
    "from lit_nlp.api import dataset as lit_dataset\n",
    "class LITDataset(lit_dataset.Dataset):\n",
    "    \n",
    "    def __init__(self, texts, labels, heads):\n",
    "        self.texts = texts\n",
    "        self.labels = labels\n",
    "        self.heads = heads\n",
    "\n",
    "        self._examples = []  # populate this with data records\n",
    "        for text, label in zip(texts, labels):\n",
    "            self._examples.append({\n",
    "                \"text\": text,\n",
    "                \"label\": heads[label],\n",
    "            })\n",
    "\n",
    "    def spec(self) -> lit_types.Spec:\n",
    "        return {\n",
    "            \"text\": lit_types.TextSegment(),\n",
    "            \"label\": lit_types.CategoryLabel(vocab=self.heads),\n",
    "        }\n",
    "    # end\n",
    "# end"
   ]
  },
  {
   "cell_type": "code",
   "execution_count": 27,
   "id": "69674921-e053-4a94-9d0e-d57ce153533d",
   "metadata": {},
   "outputs": [],
   "source": [
    "datasets = {'jinyuj': LITDataset(valid_texts, valid_labels, target_names)}\n",
    "models = {'jinyuj': model_wrapper}"
   ]
  },
  {
   "cell_type": "code",
   "execution_count": 28,
   "id": "03db86e9-b9fe-42d8-8d05-cc777fd077c2",
   "metadata": {},
   "outputs": [
    {
     "name": "stderr",
     "output_type": "stream",
     "text": [
      "INFO:absl:\n",
      " (    (           \n",
      " )\\ ) )\\ )  *   ) \n",
      "(()/((()/(` )  /( \n",
      " /(_))/(_))( )(_))\n",
      "(_)) (_)) (_(_()) \n",
      "| |  |_ _||_   _| \n",
      "| |__ | |   | |   \n",
      "|____|___|  |_|   \n",
      "\n",
      "\n",
      "INFO:absl:Starting LIT server...\n",
      "INFO:absl:CachingModelWrapper 'jinyuj': no cache path specified, not loading.\n",
      "INFO:absl:Warm-start of model 'jinyuj' on dataset '_union_empty'\n",
      "INFO:absl:CachingModelWrapper 'jinyuj': misses (dataset=_union_empty): []\n",
      "INFO:absl:CachingModelWrapper 'jinyuj': 0 misses out of 0 inputs\n",
      "INFO:absl:Prepared 0 inputs for model\n",
      "INFO:absl:Received 0 predictions from model\n",
      "INFO:absl:Requested types: ['LitType']\n",
      "INFO:absl:Will return keys: {'cls_emb', 'tokens', 'probas'}\n",
      "INFO:absl:CachingModelWrapper 'jinyuj': no cache path specified, not saving.\n"
     ]
    }
   ],
   "source": [
    "from lit_nlp import notebook\n",
    "widget = notebook.LitWidget(models, datasets, height=1024)"
   ]
  },
  {
   "cell_type": "code",
   "execution_count": 29,
   "id": "e8b22121-94cb-4110-984c-95c62796b2cd",
   "metadata": {},
   "outputs": [
    {
     "data": {
      "text/html": [
       "\n",
       "    <style>div.output_scroll { height: 1034px; }</style>\n",
       "    <iframe id='lit-frame-1c80317fa3b1799d' width='100%' height='1024' frameborder='0'>\n",
       "    </iframe>\n",
       "    <script>\n",
       "      (function() {\n",
       "        const frame = document.getElementById(\"lit-frame-1c80317fa3b1799d\");\n",
       "        const url = new URL(\"/\", window.location);\n",
       "        const port = 18799;\n",
       "        if (port) {\n",
       "          url.port = port;\n",
       "        }\n",
       "        frame.src = url;\n",
       "      })();\n",
       "    </script>\n",
       "  "
      ],
      "text/plain": [
       "<IPython.core.display.HTML object>"
      ]
     },
     "metadata": {},
     "output_type": "display_data"
    }
   ],
   "source": [
    "widget.render()"
   ]
  },
  {
   "cell_type": "code",
   "execution_count": null,
   "id": "4d714953-8a33-4909-a2df-521f54b86f7e",
   "metadata": {},
   "outputs": [],
   "source": []
  }
 ],
 "metadata": {
  "kernelspec": {
   "display_name": "Python 3",
   "language": "python",
   "name": "python3"
  },
  "language_info": {
   "codemirror_mode": {
    "name": "ipython",
    "version": 3
   },
   "file_extension": ".py",
   "mimetype": "text/x-python",
   "name": "python",
   "nbconvert_exporter": "python",
   "pygments_lexer": "ipython3",
   "version": "3.8.8"
  }
 },
 "nbformat": 4,
 "nbformat_minor": 5
}
