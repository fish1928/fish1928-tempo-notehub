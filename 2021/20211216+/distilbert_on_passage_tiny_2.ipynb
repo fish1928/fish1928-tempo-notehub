{
 "cells": [
  {
   "cell_type": "code",
   "execution_count": 1,
   "id": "66a6d8e0-5800-4e55-ae2e-dab30c423b3f",
   "metadata": {},
   "outputs": [],
   "source": [
    "# you get all pretrained model name here\n",
    "# https://huggingface.co/transformers/pretrained_models.html\n",
    "import pandas as pd\n",
    "import os\n",
    "import torch\n",
    "import transformers\n",
    "from transformers.file_utils import is_tf_available, is_torch_available, is_torch_tpu_available\n",
    "from transformers import BertTokenizerFast, BertForSequenceClassification,EarlyStoppingCallback\n",
    "# from transformers import DistilBertTokenizerFast, DistilBertForSequenceClassification, EarlyStoppingCallback\n",
    "from transformers import Trainer, TrainingArguments\n",
    "import numpy as np\n",
    "import random\n",
    "from sklearn.datasets import fetch_20newsgroups\n",
    "from sklearn.model_selection import train_test_split"
   ]
  },
  {
   "cell_type": "code",
   "execution_count": 2,
   "id": "2adce6ab-61dd-4ce6-8a19-ae6a376de4ad",
   "metadata": {},
   "outputs": [],
   "source": [
    "# the model we gonna train, base uncased BERT\n",
    "# check text classification models here: https://huggingface.co/models?filter=text-classification\n",
    "# model_name = \"bert-base-uncased\"\n",
    "# model_name = \"distilbert-base-uncased\"\n",
    "model_name = 'vbert-base-pretrain'\n",
    "model_dir = 'models-vbert-pretrain'\n",
    "# max sequence length for each document/sentence sample\n",
    "max_length = 512"
   ]
  },
  {
   "cell_type": "code",
   "execution_count": 3,
   "id": "4ef49596-da0b-4ba2-9157-afa279f76193",
   "metadata": {},
   "outputs": [],
   "source": [
    "tokenizer = BertTokenizerFast.from_pretrained(model_dir, do_lower_case=True)\n",
    "# tokenizer = DistilBertTokenizerFast.from_pretrained(model_name, do_lower_case=True)"
   ]
  },
  {
   "cell_type": "code",
   "execution_count": 4,
   "id": "96807454-7f29-4a2b-a64f-42ee4a0ace7c",
   "metadata": {},
   "outputs": [],
   "source": [
    "# df = pd.read_csv('data/importance_detection_30_100000.csv')"
   ]
  },
  {
   "cell_type": "code",
   "execution_count": 5,
   "id": "2b7dcbf6-52dc-4327-a623-4d66f7f69f83",
   "metadata": {},
   "outputs": [],
   "source": [
    "# df.head()"
   ]
  },
  {
   "cell_type": "code",
   "execution_count": 6,
   "id": "0cda8ba0-5056-4432-b062-27d485e67ffd",
   "metadata": {},
   "outputs": [],
   "source": [
    "def read_passages(path_data, test_size=0.2):\n",
    "    df = pd.read_csv(path_data)\n",
    "    documents = df['log'].to_list()\n",
    "    labels_str = df['pcc'].to_list()\n",
    "    labels_list = sorted(list(set(labels_str)))\n",
    "    labels_all = {l:idx for idx, l in enumerate(labels_list)}\n",
    "    labels = [labels_all[label_str] for label_str in labels_str]\n",
    "    return train_test_split(documents, labels, test_size=test_size), labels_list\n",
    "# end"
   ]
  },
  {
   "cell_type": "code",
   "execution_count": 7,
   "id": "5d950615-e084-4753-a30f-c02f4e5f4e3b",
   "metadata": {},
   "outputs": [],
   "source": [
    "# call the function\n",
    "dir_data = 'data'\n",
    "# name_data_file = 'importance_detection_30_2000_rand0.csv'\n",
    "name_data_file = 'importance_detection_30_12000_rand0.csv'\n",
    "path_data_relative = os.path.join(dir_data, name_data_file)\n",
    "(train_texts, valid_texts, train_labels, valid_labels), target_names = read_passages(path_data_relative)"
   ]
  },
  {
   "cell_type": "code",
   "execution_count": 8,
   "id": "197caaae-45f3-4c3e-88e6-3c0c4bf9c19d",
   "metadata": {},
   "outputs": [
    {
     "data": {
      "text/plain": [
       "1"
      ]
     },
     "execution_count": 8,
     "metadata": {},
     "output_type": "execute_result"
    }
   ],
   "source": [
    "train_labels[0]"
   ]
  },
  {
   "cell_type": "code",
   "execution_count": 9,
   "id": "bf4c11b0-34df-46fd-b81c-26a13682e059",
   "metadata": {},
   "outputs": [],
   "source": [
    "train_encodings = tokenizer(train_texts, truncation=True, padding=True, max_length=max_length)\n",
    "valid_encodings = tokenizer(valid_texts, truncation=True, padding=True, max_length=max_length)"
   ]
  },
  {
   "cell_type": "code",
   "execution_count": 10,
   "id": "e6c635d7-7eb0-4513-b10d-b3ea53217e75",
   "metadata": {},
   "outputs": [],
   "source": [
    "class NewsGroupsDataset(torch.utils.data.Dataset):\n",
    "    def __init__(self, encodings, labels):\n",
    "        self.encodings = encodings\n",
    "        self.labels = labels\n",
    "\n",
    "    def __getitem__(self, idx):\n",
    "        item = {k: torch.tensor(v[idx]) for k, v in self.encodings.items()}\n",
    "        item[\"labels\"] = torch.tensor([self.labels[idx]])\n",
    "        return item\n",
    "\n",
    "    def __len__(self):\n",
    "        return len(self.labels)"
   ]
  },
  {
   "cell_type": "code",
   "execution_count": 11,
   "id": "896c1278-aa9d-456a-9329-2c5a315d14c5",
   "metadata": {},
   "outputs": [],
   "source": [
    "train_dataset = NewsGroupsDataset(train_encodings, train_labels)\n",
    "valid_dataset = NewsGroupsDataset(valid_encodings, valid_labels)\n",
    "\n",
    "# dataloader_train = torch.utils.data.DataLoader(train_dataset, batch_size=8, shuffle=True)\n",
    "# dataloader_valid = torch.utils.data.DataLoader(valid_dataset, batch_size=8, shuffle=True)"
   ]
  },
  {
   "cell_type": "code",
   "execution_count": 12,
   "id": "7ea18b82-385c-4897-bcb4-9a4805e8704b",
   "metadata": {},
   "outputs": [
    {
     "name": "stdout",
     "output_type": "stream",
     "text": [
      "load model from local\n"
     ]
    },
    {
     "name": "stderr",
     "output_type": "stream",
     "text": [
      "Some weights of the model checkpoint at models-vbert-pretrain were not used when initializing BertForSequenceClassification: ['cls.predictions.transform.dense.weight', 'cls.seq_relationship.weight', 'cls.predictions.bias', 'cls.predictions.transform.LayerNorm.bias', 'cls.predictions.transform.dense.bias', 'cls.predictions.transform.LayerNorm.weight', 'cls.seq_relationship.bias', 'cls.predictions.decoder.weight', 'cls.predictions.decoder.bias']\n",
      "- This IS expected if you are initializing BertForSequenceClassification from the checkpoint of a model trained on another task or with another architecture (e.g. initializing a BertForSequenceClassification model from a BertForPreTraining model).\n",
      "- This IS NOT expected if you are initializing BertForSequenceClassification from the checkpoint of a model that you expect to be exactly identical (initializing a BertForSequenceClassification model from a BertForSequenceClassification model).\n",
      "Some weights of BertForSequenceClassification were not initialized from the model checkpoint at models-vbert-pretrain and are newly initialized: ['classifier.weight', 'classifier.bias']\n",
      "You should probably TRAIN this model on a down-stream task to be able to use it for predictions and inference.\n"
     ]
    }
   ],
   "source": [
    "# model = BertForSequenceClassification.from_pretrained(model_name, num_labels=len(target_names))\n",
    "if len(os.listdir(model_dir)) > 0:\n",
    "    print('load model from local')\n",
    "    model_info = model_dir\n",
    "else:\n",
    "    print('load model from official')\n",
    "    model_info = model_name\n",
    "    \n",
    "# model = DistilBertForSequenceClassification.from_pretrained(model_info)\n",
    "model = BertForSequenceClassification.from_pretrained(model_info)\n",
    "\n",
    "if torch.cuda.is_available():\n",
    "    model = model.cuda()\n",
    "# end"
   ]
  },
  {
   "cell_type": "code",
   "execution_count": 13,
   "id": "d2b1702c-ced3-4170-a078-1aff7d98598d",
   "metadata": {},
   "outputs": [],
   "source": [
    "from sklearn.metrics import accuracy_score, precision_score, recall_score, f1_score\n",
    "\n",
    "def compute_metrics(pred):\n",
    "    labels = pred.label_ids.reshape(-1)\n",
    "    # pred = np.argmax(pred, axis=1)\n",
    "    preds = pred.predictions.argmax(-1).reshape(-1)\n",
    "\n",
    "#     print('labels: {}'.format(labels))\n",
    "#     print('pred: {}'.format(preds))\n",
    "    accuracy = accuracy_score(y_true=labels, y_pred=preds)\n",
    "    precision = precision_score(y_true=labels, y_pred=preds, zero_division=1)\n",
    "    recall = recall_score(y_true=labels, y_pred=preds, zero_division=1)\n",
    "    f1 = f1_score(y_true=labels, y_pred=preds, zero_division=1)\n",
    "\n",
    "    return {\"accuracy\": accuracy, \"precision\": precision, \"recall\": recall, \"f1\": f1}"
   ]
  },
  {
   "cell_type": "code",
   "execution_count": 14,
   "id": "5b592a11-8722-40e8-8ad6-ef9f31f3455c",
   "metadata": {},
   "outputs": [],
   "source": [
    "training_args = TrainingArguments(\n",
    "    output_dir='./results',          # output directory\n",
    "    num_train_epochs=10,              # total number of training epochs\n",
    "    per_device_train_batch_size=8,  # batch size per device during training\n",
    "    per_device_eval_batch_size=8,   # batch size for evaluation\n",
    "    warmup_steps=0,                # number of warmup steps for learning rate scheduler\n",
    "    weight_decay=0.01,               # strength of weight decay\n",
    "    logging_dir='./logs',            # directory for storing logs\n",
    "    load_best_model_at_end=True,     # load the best model when finished training (default metric is loss)    # but you can specify `metric_for_best_model` argument to change to accuracy or other metric\n",
    "    logging_steps=1,               # log & save weights each logging_steps\n",
    "    evaluation_strategy=\"epoch\",     # evaluate each `logging_steps`\n",
    "    learning_rate=2e-5,\n",
    "    save_strategy='epoch',\n",
    "    save_total_limit=3,\n",
    "    metric_for_best_model='f1'\n",
    ")"
   ]
  },
  {
   "cell_type": "code",
   "execution_count": 15,
   "id": "debb769a-0bc7-4d6b-a34c-6e57e6760c5f",
   "metadata": {},
   "outputs": [],
   "source": [
    "trainer = Trainer(\n",
    "    model=model,                         # the instantiated Transformers model to be trained\n",
    "    args=training_args,                  # training arguments, defined above\n",
    "    train_dataset=train_dataset,         # training dataset\n",
    "    eval_dataset=valid_dataset,          # evaluation dataset\n",
    "    compute_metrics=compute_metrics,     # the callback that computes metrics of interest\n",
    "    callbacks=[EarlyStoppingCallback(early_stopping_patience=3)]\n",
    ")"
   ]
  },
  {
   "cell_type": "code",
   "execution_count": 16,
   "id": "ffa6a7f1-2255-4c98-9cee-2ed5214b69a6",
   "metadata": {},
   "outputs": [
    {
     "name": "stderr",
     "output_type": "stream",
     "text": [
      "***** Running training *****\n",
      "  Num examples = 9581\n",
      "  Num Epochs = 10\n",
      "  Instantaneous batch size per device = 8\n",
      "  Total train batch size (w. parallel, distributed & accumulation) = 8\n",
      "  Gradient Accumulation steps = 1\n",
      "  Total optimization steps = 11980\n"
     ]
    },
    {
     "data": {
      "text/html": [
       "\n",
       "    <div>\n",
       "      \n",
       "      <progress value='10782' max='11980' style='width:300px; height:20px; vertical-align: middle;'></progress>\n",
       "      [10782/11980 54:48 < 06:05, 3.28 it/s, Epoch 9/10]\n",
       "    </div>\n",
       "    <table border=\"1\" class=\"dataframe\">\n",
       "  <thead>\n",
       "    <tr style=\"text-align: left;\">\n",
       "      <th>Epoch</th>\n",
       "      <th>Training Loss</th>\n",
       "      <th>Validation Loss</th>\n",
       "      <th>Accuracy</th>\n",
       "      <th>Precision</th>\n",
       "      <th>Recall</th>\n",
       "      <th>F1</th>\n",
       "    </tr>\n",
       "  </thead>\n",
       "  <tbody>\n",
       "    <tr>\n",
       "      <td>1</td>\n",
       "      <td>0.000500</td>\n",
       "      <td>0.015378</td>\n",
       "      <td>0.995826</td>\n",
       "      <td>0.995823</td>\n",
       "      <td>1.000000</td>\n",
       "      <td>0.997907</td>\n",
       "    </tr>\n",
       "    <tr>\n",
       "      <td>2</td>\n",
       "      <td>0.000100</td>\n",
       "      <td>0.026145</td>\n",
       "      <td>0.997078</td>\n",
       "      <td>0.997072</td>\n",
       "      <td>1.000000</td>\n",
       "      <td>0.998534</td>\n",
       "    </tr>\n",
       "    <tr>\n",
       "      <td>3</td>\n",
       "      <td>0.000500</td>\n",
       "      <td>0.034783</td>\n",
       "      <td>0.995409</td>\n",
       "      <td>0.995407</td>\n",
       "      <td>1.000000</td>\n",
       "      <td>0.997698</td>\n",
       "    </tr>\n",
       "    <tr>\n",
       "      <td>4</td>\n",
       "      <td>0.000400</td>\n",
       "      <td>0.012434</td>\n",
       "      <td>0.998331</td>\n",
       "      <td>0.998325</td>\n",
       "      <td>1.000000</td>\n",
       "      <td>0.999162</td>\n",
       "    </tr>\n",
       "    <tr>\n",
       "      <td>5</td>\n",
       "      <td>0.000100</td>\n",
       "      <td>0.019138</td>\n",
       "      <td>0.996661</td>\n",
       "      <td>0.996656</td>\n",
       "      <td>1.000000</td>\n",
       "      <td>0.998325</td>\n",
       "    </tr>\n",
       "    <tr>\n",
       "      <td>6</td>\n",
       "      <td>0.000100</td>\n",
       "      <td>0.011477</td>\n",
       "      <td>0.998748</td>\n",
       "      <td>0.998743</td>\n",
       "      <td>1.000000</td>\n",
       "      <td>0.999371</td>\n",
       "    </tr>\n",
       "    <tr>\n",
       "      <td>7</td>\n",
       "      <td>0.000100</td>\n",
       "      <td>0.017068</td>\n",
       "      <td>0.997913</td>\n",
       "      <td>0.997907</td>\n",
       "      <td>1.000000</td>\n",
       "      <td>0.998952</td>\n",
       "    </tr>\n",
       "    <tr>\n",
       "      <td>8</td>\n",
       "      <td>0.000200</td>\n",
       "      <td>0.013617</td>\n",
       "      <td>0.998331</td>\n",
       "      <td>0.998325</td>\n",
       "      <td>1.000000</td>\n",
       "      <td>0.999162</td>\n",
       "    </tr>\n",
       "    <tr>\n",
       "      <td>9</td>\n",
       "      <td>0.000000</td>\n",
       "      <td>0.009992</td>\n",
       "      <td>0.998748</td>\n",
       "      <td>0.999161</td>\n",
       "      <td>0.999581</td>\n",
       "      <td>0.999371</td>\n",
       "    </tr>\n",
       "  </tbody>\n",
       "</table><p>"
      ],
      "text/plain": [
       "<IPython.core.display.HTML object>"
      ]
     },
     "metadata": {},
     "output_type": "display_data"
    },
    {
     "name": "stderr",
     "output_type": "stream",
     "text": [
      "***** Running Evaluation *****\n",
      "  Num examples = 2396\n",
      "  Batch size = 8\n",
      "Saving model checkpoint to ./results/checkpoint-1198\n",
      "Configuration saved in ./results/checkpoint-1198/config.json\n",
      "Model weights saved in ./results/checkpoint-1198/pytorch_model.bin\n",
      "***** Running Evaluation *****\n",
      "  Num examples = 2396\n",
      "  Batch size = 8\n",
      "Saving model checkpoint to ./results/checkpoint-2396\n",
      "Configuration saved in ./results/checkpoint-2396/config.json\n",
      "Model weights saved in ./results/checkpoint-2396/pytorch_model.bin\n",
      "***** Running Evaluation *****\n",
      "  Num examples = 2396\n",
      "  Batch size = 8\n",
      "Saving model checkpoint to ./results/checkpoint-3594\n",
      "Configuration saved in ./results/checkpoint-3594/config.json\n",
      "Model weights saved in ./results/checkpoint-3594/pytorch_model.bin\n",
      "***** Running Evaluation *****\n",
      "  Num examples = 2396\n",
      "  Batch size = 8\n",
      "Saving model checkpoint to ./results/checkpoint-4792\n",
      "Configuration saved in ./results/checkpoint-4792/config.json\n",
      "Model weights saved in ./results/checkpoint-4792/pytorch_model.bin\n",
      "Deleting older checkpoint [results/checkpoint-1198] due to args.save_total_limit\n",
      "***** Running Evaluation *****\n",
      "  Num examples = 2396\n",
      "  Batch size = 8\n",
      "Saving model checkpoint to ./results/checkpoint-5990\n",
      "Configuration saved in ./results/checkpoint-5990/config.json\n",
      "Model weights saved in ./results/checkpoint-5990/pytorch_model.bin\n",
      "Deleting older checkpoint [results/checkpoint-2396] due to args.save_total_limit\n",
      "***** Running Evaluation *****\n",
      "  Num examples = 2396\n",
      "  Batch size = 8\n",
      "Saving model checkpoint to ./results/checkpoint-7188\n",
      "Configuration saved in ./results/checkpoint-7188/config.json\n",
      "Model weights saved in ./results/checkpoint-7188/pytorch_model.bin\n",
      "Deleting older checkpoint [results/checkpoint-3594] due to args.save_total_limit\n",
      "***** Running Evaluation *****\n",
      "  Num examples = 2396\n",
      "  Batch size = 8\n",
      "Saving model checkpoint to ./results/checkpoint-8386\n",
      "Configuration saved in ./results/checkpoint-8386/config.json\n",
      "Model weights saved in ./results/checkpoint-8386/pytorch_model.bin\n",
      "Deleting older checkpoint [results/checkpoint-4792] due to args.save_total_limit\n",
      "***** Running Evaluation *****\n",
      "  Num examples = 2396\n",
      "  Batch size = 8\n",
      "Saving model checkpoint to ./results/checkpoint-9584\n",
      "Configuration saved in ./results/checkpoint-9584/config.json\n",
      "Model weights saved in ./results/checkpoint-9584/pytorch_model.bin\n",
      "Deleting older checkpoint [results/checkpoint-5990] due to args.save_total_limit\n",
      "***** Running Evaluation *****\n",
      "  Num examples = 2396\n",
      "  Batch size = 8\n",
      "Saving model checkpoint to ./results/checkpoint-10782\n",
      "Configuration saved in ./results/checkpoint-10782/config.json\n",
      "Model weights saved in ./results/checkpoint-10782/pytorch_model.bin\n",
      "Deleting older checkpoint [results/checkpoint-8386] due to args.save_total_limit\n",
      "\n",
      "\n",
      "Training completed. Do not forget to share your model on huggingface.co/models =)\n",
      "\n",
      "\n",
      "Loading best model from ./results/checkpoint-7188 (score: 0.9993712010060785).\n"
     ]
    },
    {
     "data": {
      "text/plain": [
       "TrainOutput(global_step=10782, training_loss=0.008308707701905326, metrics={'train_runtime': 3288.7127, 'train_samples_per_second': 29.133, 'train_steps_per_second': 3.643, 'total_flos': 2.268780319263744e+16, 'train_loss': 0.008308707701905326, 'epoch': 9.0})"
      ]
     },
     "execution_count": 16,
     "metadata": {},
     "output_type": "execute_result"
    }
   ],
   "source": [
    "trainer.train()"
   ]
  },
  {
   "cell_type": "code",
   "execution_count": 17,
   "id": "70ed2a8c-34d2-4871-8a3a-0e533f3d09e3",
   "metadata": {},
   "outputs": [],
   "source": [
    "# trainer.evaluate()"
   ]
  },
  {
   "cell_type": "code",
   "execution_count": 18,
   "id": "2013c187-af0a-4aa0-b119-122dcc9c4bac",
   "metadata": {},
   "outputs": [
    {
     "name": "stderr",
     "output_type": "stream",
     "text": [
      "Configuration saved in ./models-vbert-finetune/config.json\n",
      "Model weights saved in ./models-vbert-finetune/pytorch_model.bin\n"
     ]
    }
   ],
   "source": [
    "model.save_pretrained('./models-vbert-finetune')"
   ]
  },
  {
   "cell_type": "code",
   "execution_count": null,
   "id": "b1be7187-23eb-4970-bbcd-f9bda226e44c",
   "metadata": {},
   "outputs": [],
   "source": []
  }
 ],
 "metadata": {
  "kernelspec": {
   "display_name": "Python 3",
   "language": "python",
   "name": "python3"
  },
  "language_info": {
   "codemirror_mode": {
    "name": "ipython",
    "version": 3
   },
   "file_extension": ".py",
   "mimetype": "text/x-python",
   "name": "python",
   "nbconvert_exporter": "python",
   "pygments_lexer": "ipython3",
   "version": "3.8.8"
  }
 },
 "nbformat": 4,
 "nbformat_minor": 5
}
