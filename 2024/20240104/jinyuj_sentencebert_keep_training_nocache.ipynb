{
 "cells": [
  {
   "cell_type": "code",
   "execution_count": 1,
   "id": "1856f3e6-33c4-4ce3-9837-28cde9fda578",
   "metadata": {},
   "outputs": [],
   "source": [
    "import torch\n",
    "import os\n",
    "from os.path import exists\n",
    "import torch.nn as nn\n",
    "# from torch.nn.functional import log_softmax, pad, one_hot\n",
    "import math\n",
    "import copy\n",
    "import time\n",
    "from torch.optim.lr_scheduler import LambdaLR\n",
    "import pandas as pd\n",
    "from torch.utils.data import DataLoader\n",
    "import random\n",
    "import json\n",
    "import csv\n",
    "from pathlib import Path\n",
    "import shutil\n",
    "import re\n",
    "import threading\n",
    "\n",
    "### utils.py ###\n",
    "\n",
    "class Dotdict(dict):\n",
    "    \"\"\"dot.notation access to dictionary attributes\"\"\"\n",
    "    __getattr__ = dict.get\n",
    "    __setattr__ = dict.__setitem__\n",
    "    __delattr__ = dict.__delitem__\n",
    "    \n",
    "    def __iadd__(self, other):\n",
    "        for k, v in self.items():\n",
    "            if k in other and other[k]:\n",
    "                self[k] += other[k]\n",
    "            # end\n",
    "        # end\n",
    "\n",
    "        return self\n",
    "    # end\n",
    "# end\n",
    "\n",
    "\n",
    "# Takes the file paths as arguments\n",
    "def parse_csv_file_to_json(path_file_csv):\n",
    "    # create a dictionary\n",
    "    elements = []\n",
    "\n",
    "    # Open a csv reader called DictReader\n",
    "    with open(path_file_csv, encoding='utf-8') as file_csv:\n",
    "    #with open(path_file_csv) as file_csv:\n",
    "        reader_csv = csv.DictReader(file_csv)\n",
    "\n",
    "        # Convert each row into a dictionary\n",
    "        # and add it to data\n",
    "        for dict_head_value in reader_csv:\n",
    "            element = {}\n",
    "\n",
    "            for head, value in dict_head_value.items():\n",
    "                if value and (value[0] in [\"[\", \"{\"]):\n",
    "                    element[head] = value\n",
    "                else:\n",
    "                    element[head] = value\n",
    "\n",
    "            elements.append(element)\n",
    "        # end\n",
    "    # end\n",
    "\n",
    "    return elements\n",
    "# end\n",
    "\n",
    "### utils.py ###\n",
    "\n",
    "\n",
    "\n",
    "### core.py ###\n",
    "\n",
    "\"Produce N identical layers.\"\n",
    "def clones(module, N):\n",
    "    return nn.ModuleList([copy.deepcopy(module) for _ in range(N)])\n",
    "# end\n",
    "\n",
    "\n",
    "class MultiHeadedAttention(nn.Module):\n",
    "\n",
    "    \"Take in model size and number of heads.\"\n",
    "    def __init__(self, h, d_model, dropout=0.1):\n",
    "        super(MultiHeadedAttention, self).__init__()\n",
    "        assert d_model % h == 0\n",
    "        # We assume d_v always equals d_k\n",
    "        self.d_k = d_model // h\n",
    "        self.h = h\n",
    "        self.linears = clones(nn.Linear(d_model, d_model), 4)\n",
    "        self.attn = None\n",
    "        self.dropout = nn.Dropout(p=dropout)\n",
    "    # end\n",
    "\n",
    "\n",
    "    \"Compute 'Scaled Dot Product Attention'\"\n",
    "    def attention(self, query, key, value, mask=None, dropout=None):\n",
    "        d_k = query.size(-1)\n",
    "        scores = torch.matmul(query, key.transpose(-2, -1)) / math.sqrt(d_k)\n",
    "        if mask is not None:\n",
    "            # print('jinyuj: scores: {}, mask: {}'.format(scores.shape, mask.shape))\n",
    "            scores = scores.masked_fill(mask == 0, -1e9)\n",
    "        # end\n",
    "        p_attn = scores.softmax(dim=-1)\n",
    "        if dropout is not None:\n",
    "            p_attn = dropout(p_attn)\n",
    "        # end\n",
    "        return torch.matmul(p_attn, value), p_attn\n",
    "    # end\n",
    "\n",
    "\n",
    "    \"Implements Figure 2\"\n",
    "    def forward(self, query, key, value, mask=None):\n",
    "        if mask is not None:\n",
    "            # Same mask applied to all h heads.\n",
    "            mask = mask.unsqueeze(1)\n",
    "        nbatches = query.size(0)\n",
    "\n",
    "        # 1) Do all the linear projections in batch from d_model => h x d_k\n",
    "        # print('jinyuj: self.h: {}, self.d_k: {}'.format(self.h, self.d_k))\n",
    "        query, key, value = [\n",
    "            lin(x).view(nbatches, -1, self.h, self.d_k).transpose(1, 2)\n",
    "            for lin, x in zip(self.linears, (query, key, value))\n",
    "        ]\n",
    "\n",
    "        # 2) Apply attention on all the projected vectors in batch.\n",
    "        x, self.attn = self.attention(\n",
    "            query, key, value, mask=mask, dropout=self.dropout\n",
    "        )\n",
    "\n",
    "        # 3) \"Concat\" using a view and apply a final linear.\n",
    "        x = (\n",
    "            x.transpose(1, 2)\n",
    "            .contiguous()\n",
    "            .view(nbatches, -1, self.h * self.d_k)\n",
    "        )\n",
    "        del query\n",
    "        del key\n",
    "        del value\n",
    "        return self.linears[-1](x)\n",
    "    # end\n",
    "# end class\n",
    "\n",
    "\n",
    "\"\"\"\n",
    "A residual connection followed by a layer norm.\n",
    "Note for code simplicity the norm is first as opposed to last.\n",
    "\"\"\"\n",
    "class ResidualLayer(nn.Module):\n",
    "\n",
    "    def __init__(self, size, dropout=0.1, eps=1e-6):\n",
    "        super(ResidualLayer, self).__init__()\n",
    "        self.norm = torch.nn.LayerNorm(size, eps)\n",
    "        self.dropout = nn.Dropout(p=dropout)\n",
    "    # end\n",
    "\n",
    "    \"Apply residual connection to any sublayer with the same size.\"\n",
    "    def forward(self, x, sublayer):\n",
    "        return x + self.dropout(sublayer(self.norm(x)))\n",
    "    # end\n",
    "# end class\n",
    "\n",
    "\n",
    "class PositionwiseFeedForward(nn.Module):\n",
    "    \"Implements FFN equation.\"\n",
    "\n",
    "    def __init__(self, d_model, d_ff, dropout=0.1):\n",
    "        super(PositionwiseFeedForward, self).__init__()\n",
    "        self.w_1 = nn.Linear(d_model, d_ff)\n",
    "        self.w_2 = nn.Linear(d_ff, d_model)\n",
    "        self.dropout = nn.Dropout(dropout)\n",
    "\n",
    "    def forward(self, x):\n",
    "        return self.w_2(self.dropout(self.w_1(x).relu()))\n",
    "    # end\n",
    "# end\n",
    "\n",
    "\n",
    "class SimpleIDEmbeddings(nn.Module):\n",
    "    def __init__(self, size_vocab, dim_hidden, id_pad):\n",
    "        super(SimpleIDEmbeddings, self).__init__()\n",
    "        self.lut = nn.Embedding(size_vocab, dim_hidden, padding_idx=id_pad)\n",
    "        self.dim_hidden = dim_hidden\n",
    "\n",
    "    def forward(self, x):\n",
    "        result = self.lut(x)\n",
    "        return result * math.sqrt(self.dim_hidden)\n",
    "    # end\n",
    "\n",
    "    def get_shape(self):\n",
    "        return (self.lut.num_embeddings, self.lut.embedding_dim)\n",
    "    # end\n",
    "# end\n",
    "\n",
    "\n",
    "\"Implement the PE function.\"\n",
    "class PositionalEncoding(nn.Module):\n",
    "\n",
    "    def __init__(self, dim_positional, max_len=512):\n",
    "        super(PositionalEncoding, self).__init__()\n",
    "\n",
    "        # Compute the positional encodings once in log space.\n",
    "        self.dim_positional = dim_positional\n",
    "        pe = torch.zeros(max_len, dim_positional)\n",
    "        position = torch.arange(0, max_len).unsqueeze(1)\n",
    "        div_term = torch.exp(\n",
    "            torch.arange(0, dim_positional, 2) * -(math.log(10000.0) / dim_positional)\n",
    "        )\n",
    "        pe[:, 0::2] = torch.sin(position * div_term)\n",
    "        pe[:, 1::2] = torch.cos(position * div_term)\n",
    "        pe = pe.unsqueeze(0).to('cuda')\n",
    "        self.register_buffer(\"pe\", pe)\n",
    "\n",
    "    def forward(self, x):\n",
    "        x = x + self.pe[:, : x.size(1)].requires_grad_(False)\n",
    "        return x\n",
    "    # end\n",
    "# end\n",
    "\n",
    "\n",
    "class SimpleEmbedder(nn.Module):    # no segment embedder as we do not need that\n",
    "    def __init__(self, size_vocab=None, dim_hidden=128, dropout=0.1, id_pad=0):\n",
    "        super(SimpleEmbedder, self).__init__()\n",
    "        self.size_vocab = size_vocab\n",
    "        self.dim_hidden = dim_hidden\n",
    "        self.id_pad = id_pad\n",
    "\n",
    "        self.embedder = nn.Sequential(\n",
    "            SimpleIDEmbeddings(size_vocab, dim_hidden, id_pad),\n",
    "            PositionalEncoding(dim_hidden),\n",
    "            nn.Dropout(p=dropout)\n",
    "        )\n",
    "    # end\n",
    "\n",
    "    def forward(self, ids_input):   # (batch, seqs_with_padding)\n",
    "        return self.embedder(ids_input)\n",
    "    # end\n",
    "\n",
    "    def get_vocab_size(self):\n",
    "        return self.size_vocab\n",
    "    # end\n",
    "# end\n",
    "\n",
    "### core.py ###\n",
    "\n",
    "\n",
    "\n",
    "class SimpleEncoderLayer(nn.Module):\n",
    "\n",
    "    def __init__(self, dim_hidden, dim_feedforward, n_head, dropout=0.1):\n",
    "        super(SimpleEncoderLayer, self).__init__()\n",
    "\n",
    "        self.n_head = n_head\n",
    "        self.dim_hidden = dim_hidden\n",
    "        self.dim_feedforward = dim_feedforward\n",
    "\n",
    "        self.layer_attention = MultiHeadedAttention(n_head, dim_hidden)\n",
    "        self.layer_feedforward = PositionwiseFeedForward(dim_hidden, dim_feedforward, dropout)\n",
    "        self.layers_residual = clones(ResidualLayer(dim_hidden, dropout), 2)\n",
    "    # end\n",
    "\n",
    "    def forward(self, embeddings, masks, *args):\n",
    "        embeddings = self.layers_residual[0](embeddings, lambda embeddings: self.layer_attention(embeddings, embeddings, embeddings, masks))\n",
    "        return self.layers_residual[1](embeddings, self.layer_feedforward)\n",
    "    # end\n",
    "# end\n",
    "\n",
    "\n",
    "\n",
    "class SimpleDecoderLayer(nn.Module):\n",
    "\n",
    "    def __init__(self, dim_hidden, dim_feedforward, n_head, dropout=0.1):\n",
    "        super(SimpleDecoderLayer, self).__init__()\n",
    "\n",
    "        self.n_head = n_head\n",
    "        self.dim_hidden = dim_hidden\n",
    "        self.dim_feedforward = dim_feedforward\n",
    "\n",
    "        self.layer_attention_decoder = MultiHeadedAttention(n_head, dim_hidden)\n",
    "        self.layer_attention_encoder = MultiHeadedAttention(n_head, dim_hidden)\n",
    "        self.layer_feedforward = PositionwiseFeedForward(dim_hidden, dim_feedforward, dropout)\n",
    "        self.layers_residual = clones(ResidualLayer(dim_hidden, dropout), 3)\n",
    "\n",
    "    def forward(self, embeddings, masks_encoder, output_encoder, masks_decoder, *args):\n",
    "        embeddings = self.layers_residual[0](embeddings, lambda embeddings: self.layer_attention_decoder(embeddings, embeddings, embeddings, masks_decoder))\n",
    "        embeddings = self.layers_residual[1](embeddings, lambda embeddings: self.layer_attention_encoder(embeddings, output_encoder, output_encoder, masks_encoder))\n",
    "        return self.layers_residual[2](embeddings, self.layer_feedforward)\n",
    "    # end\n",
    "# end\n",
    "\n",
    "\n",
    "class SimpleTransformerStack(nn.Module):\n",
    "\n",
    "    def __init__(self, obj_layer, n_layers):\n",
    "        super(SimpleTransformerStack, self).__init__()\n",
    "        self.layers = clones(obj_layer, n_layers)\n",
    "\n",
    "        self.norm = torch.nn.LayerNorm(obj_layer.dim_hidden)\n",
    "    # end\n",
    "\n",
    "    def forward(self, embedding_encoder=None, masks_encoder=None, output_encoder=None, embedding_decoder=None, masks_decoder=None ,noncache=False, **kwargs):  # input -> (batch, len_seq, vocab)\n",
    "\n",
    "        if output_encoder is not None and embedding_decoder is not None and masks_decoder is not None:\n",
    "            embeddings = embedding_decoder\n",
    "        else:\n",
    "            embeddings = embedding_encoder\n",
    "        # end\n",
    "\n",
    "        for layer in self.layers:\n",
    "            embeddings = layer(embeddings, masks_encoder, output_encoder, masks_decoder)\n",
    "        # end\n",
    "\n",
    "        output = self.norm(embeddings)\n",
    "        return output\n",
    "    # end\n",
    "\n",
    "# end\n",
    "\n",
    "\n",
    "class SentenceEncoderDecoder(nn.Module):\n",
    "    def __init__(self, encoder, decoder, embedder_encoder, embedder_decoder, pooling=True):\n",
    "        super(SentenceEncoderDecoder, self).__init__()\n",
    "\n",
    "        self.pooling = pooling\n",
    "        \n",
    "        self.embedder_encoder = embedder_encoder\n",
    "        self.encoder = encoder\n",
    "\n",
    "        self.embedder_decoder = embedder_decoder\n",
    "        self.decoder = decoder\n",
    "\n",
    "    # end\n",
    "\n",
    "    def forward(self, ids_encoder=None, masks_encoder=None, ids_decoder=None, masks_decoder=None, **kwargs):\n",
    "        output_encoder = None\n",
    "        output_encoder_pooled = None\n",
    "        output_decoder = None\n",
    "        \n",
    "        output_encoder_pooled = self.embed_and_encode(ids_encoder=ids_encoder, masks_encoder=masks_encoder)\n",
    "        output_encoder_pooled_expanded = output_encoder_pooled.unsqueeze(-2).expand((ids_encoder.shape[0], ids_encoder.shape[1], -1))\n",
    "        \n",
    "        if self.embedder_decoder and self.decoder:\n",
    "            output_decoder = self.embed_and_decode(ids_decoder=ids_decoder, masks_encoder=masks_encoder, output_encoder=output_encoder_pooled_expanded, masks_decoder=masks_decoder)\n",
    "        # end if\n",
    "        \n",
    "        return {'output_encoder': output_encoder_pooled_expanded, 'output_encoder_pooled': output_encoder_pooled, 'output_decoder': output_decoder}\n",
    "    # end\n",
    "    \n",
    "    def embed_and_encode(self, ids_encoder=None, masks_encoder=None, **kwargs):\n",
    "        \n",
    "        output_encoder = self.encoder({\n",
    "            'input_ids': ids_encoder,\n",
    "            'attention_mask': masks_encoder.squeeze(1),\n",
    "        })\n",
    "        \n",
    "        return output_encoder['sentence_embedding']\n",
    "    # end\n",
    "\n",
    "    \n",
    "    def embed_and_decode(self, ids_decoder=None, masks_encoder=None, output_encoder=None, masks_decoder=None, **kwargs):\n",
    "        \n",
    "        embedding_decoder = self.embedder_decoder(ids_decoder)\n",
    "        output_decoder = self.decoder(\n",
    "            masks_encoder=masks_encoder,\n",
    "            output_encoder=output_encoder,    #(len_seq, dim_hidden) -> (1, dim_hidden)\n",
    "            embedding_decoder=embedding_decoder,\n",
    "            masks_decoder=masks_decoder,\n",
    "        )\n",
    "\n",
    "        return output_decoder\n",
    "    # end\n",
    "    \n",
    "\n",
    "    def get_vocab_size(self, name_embedder):\n",
    "        embedder = getattr(self, f'embedder_{name_embedder}')\n",
    "        return embedder.get_vocab_size()\n",
    "    # end\n",
    "\n",
    "# end\n",
    "\n",
    "class LinearAndNorm(nn.Module):\n",
    "    def __init__(self, dim_in = None, dim_out = None, dropout=0.1, eps_norm=1e-12):\n",
    "        super(LinearAndNorm, self).__init__()\n",
    "\n",
    "        self.linear = torch.nn.Linear(dim_in, dim_out)\n",
    "        self.norm = torch.nn.LayerNorm(dim_out, eps_norm)\n",
    "        self.dropout = torch.nn.Dropout(p=dropout)\n",
    "    # end\n",
    "\n",
    "    def forward(self, seqs_in):\n",
    "        return self.dropout(self.norm(self.linear(seqs_in).relu()))\n",
    "    # end\n",
    "# end\n",
    "\n",
    "\n",
    "\n",
    "\n",
    "class Batch:\n",
    "\n",
    "    def __init__(self, **kwargs):\n",
    "        self.kwargs = {}\n",
    "        for k, v in kwargs.items():\n",
    "            if v is not None and type(v) is not bool:\n",
    "                self.kwargs[k] = v.cuda()\n",
    "            # end\n",
    "        # end\n",
    "        \n",
    "    # end\n",
    "\n",
    "    def __call__(self):\n",
    "        return self.kwargs\n",
    "    # end\n",
    "# end\n",
    "\n",
    "\n",
    "\n",
    "class Collator_Base:\n",
    "\n",
    "    def __init__(self, tokenizer, size_seq_max, need_masked=0.3):\n",
    "        self.tokenizer = tokenizer\n",
    "        self.size_seq_max = size_seq_max\n",
    "        self.need_masked = need_masked\n",
    "\n",
    "        index_special_token_2_id = {k: v for k, v in zip(tokenizer.all_special_tokens, tokenizer.all_special_ids)}\n",
    "\n",
    "        self.id_pad = index_special_token_2_id['[PAD]']\n",
    "        self.id_mask = index_special_token_2_id['[MASK]']\n",
    "        self.id_cls = index_special_token_2_id['[CLS]']\n",
    "        self.id_sep = index_special_token_2_id['[SEP]']\n",
    "        self.id_unk = index_special_token_2_id['[UNK]']\n",
    "        \n",
    "        self.regex_special_token = re.compile(r'\\[(PAD|MASK|CLS|SEP|EOL|UNK)\\]')\n",
    "        \n",
    "        self.index_randtoken_start = 999\n",
    "        self.index_randtoken_end = 30521\n",
    "    # end\n",
    "\n",
    "    def _preprocess(self, line):\n",
    "        line = re.sub(self.regex_special_token, r'<\\1>', line)\n",
    "        line = re.sub(r'''('|\"|`){2}''', '', line)\n",
    "        line = re.sub(r'\\.{2,3}', '', line)\n",
    "        line = re.sub(r' {2,}', ' ', line)\n",
    "        line = line.lstrip().rstrip()\n",
    "        return line\n",
    "    # end\n",
    "    \n",
    "    def _get_random_tokens(self):\n",
    "        return random.randint(self.index_randtoken_start, self.index_randtoken_end)\n",
    "    # end\n",
    "\n",
    "    \n",
    "    def pad_sequences(self, sequences, size_seq_max, need_diagonal=False,\n",
    "                      need_masked=0):  # need_diagonal and need_masked cannot both set, one for bert seq one for s2s seq\n",
    "        \n",
    "        sequences = copy.deepcopy(sequences)\n",
    "        \n",
    "        id_pad = self.id_pad\n",
    "        id_mask = self.id_mask\n",
    "\n",
    "        sequences_masked_padded = []\n",
    "        labels_padded = []\n",
    "\n",
    "        for sequence in sequences:\n",
    "\n",
    "            len_seq = len(sequence)\n",
    "            label = copy.deepcopy(sequence)\n",
    "\n",
    "            if need_masked:\n",
    "                indexs_masked = list(range(1, len_seq - 1))  # 0 = cls, -1 = sep\n",
    "                random.shuffle(indexs_masked)\n",
    "                anchor_mask_all = round(need_masked * (len_seq - 2)) or 1\n",
    "                anchor_mask_replace = int(anchor_mask_all / 2)\n",
    "\n",
    "                if anchor_mask_replace:  # not 0\n",
    "                    indexs_replaced = indexs_masked[:anchor_mask_replace]\n",
    "                    for index_replaced in indexs_replaced:\n",
    "                        sequence[index_replaced] = self._get_random_tokens()\n",
    "                    # end\n",
    "                # end\n",
    "\n",
    "                indexs_masked = indexs_masked[anchor_mask_replace:anchor_mask_all]\n",
    "            # end\n",
    "\n",
    "\n",
    "            count_pad = size_seq_max - len_seq\n",
    "            \n",
    "            label = torch.LongTensor(label)\n",
    "            label_padded = torch.cat((label, torch.LongTensor([id_pad] * count_pad)))\n",
    "            labels_padded.append(label_padded)\n",
    "\n",
    "            if need_masked:\n",
    "\n",
    "                sequence_masked = torch.LongTensor(sequence)\n",
    "                sequence_masked.index_fill_(0, torch.LongTensor(indexs_masked), id_mask)\n",
    "                sequence_masked_padded = torch.cat((sequence_masked, torch.LongTensor([id_pad] * count_pad)))\n",
    "\n",
    "                sequences_masked_padded.append(sequence_masked_padded)\n",
    "            # end\n",
    "        #   # end for\n",
    "\n",
    "        inputs = torch.stack(labels_padded)  # (batch, size_seq_max)\n",
    "        if need_masked:\n",
    "            inputs_masked_padded = torch.stack(sequences_masked_padded)\n",
    "        # end\n",
    "\n",
    "        masks_segment = (inputs != self.id_pad).unsqueeze(-2)  # (nbatch, 1, seq)\n",
    "        masks_attention = self.make_std_mask(inputs, self.id_pad) if need_diagonal else masks_segment\n",
    "\n",
    "        if need_masked:\n",
    "            masks_masked = (inputs_masked_padded != id_mask).unsqueeze(-2)\n",
    "            masks_attention = masks_attention & masks_masked\n",
    "            return inputs_masked_padded, masks_attention, masks_segment, inputs  # (inputs, masks_attention, masks_segment, labels)\n",
    "        else:\n",
    "            return inputs, masks_attention, masks_segment, None\n",
    "        # end\n",
    "    # end\n",
    "\n",
    "\n",
    "    def subsequent_mask(self, size):\n",
    "        \"Mask out subsequent positions.\"\n",
    "        attn_shape = (1, size, size)\n",
    "        subsequent_mask = torch.triu(torch.ones(attn_shape), diagonal=1).type(\n",
    "            torch.uint8\n",
    "        )\n",
    "        return subsequent_mask == 0\n",
    "\n",
    "    def make_std_mask(self, tgt, pad):\n",
    "        \"Create a mask to hide padding and future words.\"\n",
    "        tgt_mask = (tgt != pad).unsqueeze(-2)\n",
    "        tgt_mask = tgt_mask & self.subsequent_mask(tgt.size(-1)).type_as(\n",
    "            tgt_mask.data\n",
    "        )\n",
    "        return tgt_mask\n",
    "    # end\n",
    "# end\n",
    "\n",
    "\n",
    "class Collator_SC(Collator_Base):\n",
    "\n",
    "    def __call__(self, list_corpus_source):\n",
    "\n",
    "        tokens_input_encoder = []\n",
    "        tokens_input_decoder = []\n",
    "        tokens_label_decoder = []\n",
    "        labels_similarity = []\n",
    "        labels_sc = []\n",
    "\n",
    "        for corpus_source in list_corpus_source:  # (line0, line1, sim), output of zip remove single case\n",
    "            if len(corpus_source) == 3:  # (line0, line1, sim)\n",
    "                corpus_line = [corpus_source[0], corpus_source[1]]\n",
    "                labels_similarity.append(corpus_source[2])\n",
    "            elif len(corpus_source) == 2:  # (line, label_sc)\n",
    "                corpus_line = [corpus_source[0]]\n",
    "                labels_sc.append(corpus_source[1])\n",
    "            else:\n",
    "                corpus_line = [corpus_source[0]]\n",
    "            # end\n",
    "\n",
    "            for line in corpus_line:\n",
    "                tokens = self.tokenizer.encode(self._preprocess(line), add_special_tokens=False)\n",
    "\n",
    "                # TODO: check edge\n",
    "                if len(tokens) > self.size_seq_max - 2:\n",
    "                    tokens = tokens[:self.size_seq_max - 2]\n",
    "                # end\n",
    "\n",
    "                tokens_input_encoder.append([self.id_cls] + tokens + [self.id_sep])\n",
    "                tokens_input_decoder.append([self.id_cls] + tokens)\n",
    "                tokens_label_decoder.append(tokens + [self.id_sep])\n",
    "            # end\n",
    "\n",
    "        # end\n",
    "\n",
    "        inputs_encoder, masks_encoder, segments_encoder, labels_encoder = self.pad_sequences(tokens_input_encoder,\n",
    "                                                                                             self.size_seq_max,\n",
    "                                                                                             need_masked=self.need_masked)\n",
    "        inputs_decoder, masks_decoder, segments_decoder, _ = self.pad_sequences(tokens_input_decoder, self.size_seq_max,\n",
    "                                                                                need_diagonal=True)\n",
    "        labels_decoder, masks_label, segments_label, _ = self.pad_sequences(tokens_label_decoder, self.size_seq_max)\n",
    "        # labels_similarity = torch.Tensor(labels_similarity).unsqueeze(0).transpose(0,1)\n",
    "        labels_similarity = torch.Tensor(labels_similarity)\n",
    "        labels_sc = torch.LongTensor(labels_sc)\n",
    "\n",
    "        return Batch(\n",
    "            ids_encoder=inputs_encoder,  # contains [mask]s\n",
    "            masks_encoder=masks_encoder,\n",
    "            labels_encoder=labels_encoder,  # doesn't contain [mask]\n",
    "            segments_encoder=segments_encoder,\n",
    "            ids_decoder=inputs_decoder,\n",
    "            masks_decoder=masks_decoder,\n",
    "            labels_decoder=labels_decoder,\n",
    "            segments_label=segments_label,\n",
    "            labels_similarity=labels_similarity,\n",
    "            labels_sc=labels_sc\n",
    "        )\n",
    "\n",
    "    # end\n",
    "# end\n",
    "\n",
    "\n",
    "class SimpleEncodedDataset(torch.utils.data.Dataset):\n",
    "\n",
    "    # info_file_rows = {'path_file': 1,000,000,...}\n",
    "    def __init__(self, folder_dataset_base, info_file_rows, split=0.001):\n",
    "        self.folder_dataset_base = folder_dataset_base\n",
    "        self.list_tokenized_eval = []\n",
    "        self.dict_filename_loaded = {filename: False for filename, num_rows in info_file_rows.items()}\n",
    "        self.list_corpus_idx_filename_train = []\n",
    "\n",
    "        for filename, num_lines in info_file_rows.items():\n",
    "            idxs_eval = list(range(num_lines))\n",
    "            random.shuffle(idxs_eval)\n",
    "            idxs_eval = idxs_eval[:round(len(idxs_eval) * split)]\n",
    "\n",
    "            for idx_eval in idxs_eval:\n",
    "                self.list_tokenized_eval.append((idx_eval, filename))\n",
    "            # end\n",
    "\n",
    "            set_idxs_eval = set(idxs_eval)\n",
    "            for idx_train in range(num_lines):\n",
    "                if idx_train in set_idxs_eval:\n",
    "                    continue\n",
    "                # end\n",
    "\n",
    "                self.list_corpus_idx_filename_train.append((idx_train, filename))\n",
    "            # end\n",
    "        # end\n",
    "\n",
    "        self.is_train = True\n",
    "        self.rows_cached = []\n",
    "        self.filename_cached = None\n",
    "    # end\n",
    "\n",
    "\n",
    "    def __getitem__(self, idx):  # should not have problem now\n",
    "        # if eval, use all cached eval tokenized\n",
    "        if not self.is_train:\n",
    "            return self.list_tokenized_eval[idx]\n",
    "        # end\n",
    "\n",
    "        # if train\n",
    "        idxs_in_file, filename_current = self.list_corpus_idx_filename_train[idx]\n",
    "\n",
    "        # if file not fully used\n",
    "        if filename_current != self.filename_cached:\n",
    "\n",
    "            # load new file\n",
    "            print('switch from {} to {}'.format(self.filename_cached, filename_current))\n",
    "            path_file = os.path.join(self.folder_dataset_base, filename_current)\n",
    "            with open(path_file, 'r') as file:  # update rows_cached\n",
    "                self.rows_cached = file.read().splitlines()\n",
    "            # end\n",
    "\n",
    "            self.filename_cached = filename_current\n",
    "\n",
    "            if not self.dict_filename_loaded[filename_current]:\n",
    "                for id_list_eval, tokenized_eval in enumerate(self.list_tokenized_eval):\n",
    "                    if type(tokenized_eval) is tuple:\n",
    "                        if tokenized_eval[1] == filename_current:\n",
    "                            self.list_tokenized_eval[id_list_eval] = self._fransfer_one_line_to_tokenized(self.rows_cached[tokenized_eval[0]])\n",
    "                        # end\n",
    "                    # end\n",
    "                # end\n",
    "                self.dict_filename_loaded[filename_current] = True\n",
    "            # end\n",
    "        # end\n",
    "\n",
    "        return self._fransfer_one_line_to_tokenized(self.rows_cached[idxs_in_file])\n",
    "    # end\n",
    "\n",
    "    def __len__(self):\n",
    "        if self.is_train:\n",
    "            return len(self.list_corpus_idx_filename_train)\n",
    "        else:\n",
    "            return len(self.list_tokenized_eval)\n",
    "        # end\n",
    "    # end\n",
    "\n",
    "    def _fransfer_one_line_to_tokenized(self, str_line):\n",
    "        tokenized = [int(t) for t in str_line.split(', ') if t]\n",
    "        return tokenized\n",
    "    # end\n",
    "\n",
    "    def train(self):\n",
    "        self.is_train = True\n",
    "    # end\n",
    "\n",
    "    def eval(self):\n",
    "        self.is_train = False\n",
    "    # end\n",
    "# end\n",
    "\n"
   ]
  },
  {
   "cell_type": "code",
   "execution_count": 2,
   "id": "28f2a7bb",
   "metadata": {},
   "outputs": [],
   "source": [
    "def GOSV(path_base, filename_base, postfix, index_label_2_id, split=0.1):\n",
    "    filename = f'{filename_base}{postfix}'\n",
    "    path_file = os.path.join(path_base, filename)\n",
    "    contents = parse_csv_file_to_json(path_file)\n",
    "    \n",
    "    list_corpus = [(content['processed'], index_label_2_id[content['target']]) for content in contents]\n",
    "    \n",
    "    indexs_all = list(range(len(list_corpus)))\n",
    "    random.shuffle(indexs_all)\n",
    "    \n",
    "    index_split = int(split * len(list_corpus))\n",
    "    \n",
    "    indexs_eval = indexs_all[:index_split]\n",
    "    indexs_train = indexs_all[index_split:]\n",
    "    \n",
    "    list_corpus_eval = [list_corpus[i_e] for i_e in indexs_eval]\n",
    "    list_corpus_train = [list_corpus[i_t] for i_t in indexs_train]\n",
    "    \n",
    "    return list_corpus_train, list_corpus_eval, None\n",
    "# end"
   ]
  },
  {
   "cell_type": "code",
   "execution_count": 3,
   "id": "ccfda394",
   "metadata": {},
   "outputs": [],
   "source": [
    "class DistilBertEncoderHead_MLM(nn.Module):\n",
    "\n",
    "    @classmethod\n",
    "    def get_info_accuracy_template(cls):\n",
    "        return Dotdict({\n",
    "            'corrects_segmented': 0,\n",
    "            'corrects_masked': 0,\n",
    "            'num_segmented': 0,\n",
    "            'num_masked': 0 \n",
    "        })\n",
    "    # end\n",
    "    \n",
    "    def __init__(self, model, size_vocab, dim_hidden=128, dropout=0.1):\n",
    "        super(DistilBertEncoderHead_MLM, self).__init__()\n",
    "        \n",
    "        self.ffn = LinearAndNorm(dim_in=dim_hidden, dim_out=dim_hidden, dropout=dropout)\n",
    "        self.extractor = torch.nn.Linear(dim_hidden, size_vocab, bias=False)\n",
    "        self.extractor.weight = nn.Parameter(model.embedder_encoder.word_embeddings.weight)\n",
    "\n",
    "        self.func_loss = torch.nn.CrossEntropyLoss().cuda()\n",
    "    # end\n",
    "\n",
    "\n",
    "    def forward(self, output_encoder=None, labels_encoder=None, segments_encoder=None, masks_encoder=None, **kwargs):   # labels_input -> (batch, seq, labels)\n",
    "        output_ffn = self.ffn(output_encoder)\n",
    "        output_mlm = self.extractor(output_ffn) # output_mlm = prediction_logits\n",
    "        \n",
    "        return {'output': output_mlm, 'labels_encoder': labels_encoder, 'segments_encoder': segments_encoder, 'masks_encoder': masks_encoder}\n",
    "\n",
    "\n",
    "    \n",
    "    def compute_loss(self, output=None, labels_encoder=None, segments_encoder=None, masks_encoder=None):\n",
    "        \n",
    "        output_mlm = output\n",
    "        labels_mlm = labels_encoder\n",
    "        \n",
    "        info_acc = DistilBertEncoderHead_MLM.get_info_accuracy_template()\n",
    "        \n",
    "        segments_encoder_2d = segments_encoder.transpose(-1,-2)[:,:,0]\n",
    "        hidden_mlm_segmented = output_mlm.masked_select(segments_encoder_2d.unsqueeze(-1)).reshape(-1, output_mlm.shape[-1]) # should be (segmented_all_batchs, size_vocab)\n",
    "        \n",
    "        loss_segments = self.func_loss(hidden_mlm_segmented, labels_mlm.masked_select(segments_encoder_2d))\n",
    "        info_acc.corrects_segmented = torch.sum(hidden_mlm_segmented.argmax(-1) == labels_mlm.masked_select(segments_encoder_2d)).cpu().item()\n",
    "        info_acc.num_segmented = hidden_mlm_segmented.shape[0]\n",
    "        \n",
    "        masks_masked = torch.logical_xor(masks_encoder, segments_encoder) & segments_encoder # True is masked\n",
    "        masks_masked_perbatch = masks_masked[:,0,:]\n",
    "        hidden_mlm_masked = output_mlm.masked_select(masks_masked_perbatch.unsqueeze(-1)).reshape(-1, output_mlm.shape[-1])\n",
    "\n",
    "        if hidden_mlm_masked.shape[0] != 0:\n",
    "            loss_masked = self.func_loss(hidden_mlm_masked, labels_mlm.masked_select(masks_masked_perbatch))       \n",
    "            info_acc.corrects_masked = torch.sum(hidden_mlm_masked.argmax(-1) == labels_mlm.masked_select(masks_masked_perbatch)).cpu().item()\n",
    "            info_acc.num_masked = hidden_mlm_masked.shape[0]\n",
    "        else:\n",
    "            loss_masked = 0\n",
    "            info_acc.corrects_masked = 0\n",
    "            info_acc.num_masked = 1\n",
    "        # end\n",
    "        \n",
    "        loss_mlm = loss_segments + loss_masked * 3\n",
    "        \n",
    "        return loss_mlm, info_acc\n",
    "    # end\n",
    "# end\n",
    "\n",
    "\n",
    "class SimpleDecoderHead_S2S(nn.Module):\n",
    "\n",
    "    @classmethod\n",
    "    def get_info_accuracy_template(cls):\n",
    "        return Dotdict({\n",
    "            'corrects_segmented': 0,\n",
    "            'num_segmented': 0 \n",
    "        })\n",
    "    # end\n",
    "\n",
    "\n",
    "    def __init__(self, model, size_vocab, dim_hidden=128, dropout=0.1):\n",
    "        super(SimpleDecoderHead_S2S, self).__init__()\n",
    "        \n",
    "        self.ffn = LinearAndNorm(dim_in=dim_hidden, dim_out=dim_hidden, dropout=dropout)\n",
    "        self.extractor = torch.nn.Linear(dim_hidden, size_vocab, bias=False)\n",
    "        self.extractor.weight = nn.Parameter(model.embedder_decoder.embedder[0].lut.weight)\n",
    "\n",
    "        self.func_loss = torch.nn.CrossEntropyLoss().cuda()\n",
    "    # end\n",
    "\n",
    "\n",
    "    def forward(self, output_decoder=None, labels_decoder=None, segments_label=None, **kwargs):   # labels_input -> (batch, seq, labels)\n",
    "        \n",
    "        output_ffn = self.ffn(output_decoder)\n",
    "        output_s2s = self.extractor(output_ffn)   # output_mlm = prediction_logits\n",
    "        \n",
    "        return {'output': output_s2s, 'labels_decoder': labels_decoder, 'segments_label': segments_label}\n",
    "    # end\n",
    "\n",
    "\n",
    "    def compute_loss(self, output=None, labels_decoder=None, segments_label=None):\n",
    "        output_s2s = output\n",
    "        labels_s2s = labels_decoder\n",
    "        \n",
    "        info_acc = SimpleDecoderHead_S2S.get_info_accuracy_template()\n",
    "        \n",
    "        segments_label_2d = segments_label.transpose(-1,-2)[:,:,0]\n",
    "        hidden_s2s_segmented = output_s2s.masked_select(segments_label_2d.unsqueeze(-1)).reshape(-1, output_s2s.shape[-1])\n",
    "\n",
    "        loss_segments = self.func_loss(hidden_s2s_segmented, labels_s2s.masked_select(segments_label_2d))\n",
    "        info_acc.corrects_segmented = torch.sum(hidden_s2s_segmented.argmax(-1) == labels_s2s.masked_select(segments_label_2d)).cpu().item()\n",
    "        info_acc.num_segmented = hidden_s2s_segmented.shape[0]\n",
    "        \n",
    "        return loss_segments * 4, info_acc\n",
    "    # end\n",
    "# end\n",
    "\n",
    "\n",
    "class SimpleEncoderHead_AveragePooling_SC(nn.Module):  # SC-> SequenceClassification\n",
    "\n",
    "    @classmethod\n",
    "    def get_info_accuracy_template(cls):\n",
    "        return Dotdict({\n",
    "            'corrects': 0,\n",
    "            'num': 0 \n",
    "        })\n",
    "    # end\n",
    "    \n",
    "    def __init__(self, num_labels, dim_hidden=128, dropout=0.1):\n",
    "        super(SimpleEncoderHead_AveragePooling_SC, self).__init__()\n",
    "        \n",
    "        self.ffn = LinearAndNorm(dim_in=dim_hidden, dim_out=dim_hidden, dropout=dropout)\n",
    "        self.classifier = torch.nn.Linear(dim_hidden, num_labels, bias=False)\n",
    "        self.func_loss = torch.nn.CrossEntropyLoss()\n",
    "    # end\n",
    "\n",
    "\n",
    "    def forward(self, output_encoder_pooled=None, labels_sc=None, **kwargs):   # labels_input -> (batch, seq, labels)\n",
    "        output_ffn = self.ffn(output_encoder_pooled)\n",
    "        output_sc = self.classifier(output_ffn) # output_sc = prediction_logits\n",
    "\n",
    "        return {'output': output_sc, 'labels_sc': labels_sc}\n",
    "    # end\n",
    "    \n",
    "    def compute_loss(self, output=None, labels_sc=None):\n",
    "        \n",
    "        labels_sc = labels_sc\n",
    "        output_sc = output\n",
    "        \n",
    "        info_acc = SimpleEncoderHead_AveragePooling_SC.get_info_accuracy_template()\n",
    "        \n",
    "        loss_sc = self.func_loss(output_sc, labels_sc)\n",
    "        info_acc.corrects = torch.sum(output_sc.argmax(-1) == labels_sc).cpu().item()\n",
    "        info_acc.num = output_sc.shape[0]\n",
    "        \n",
    "        return loss_sc, info_acc\n",
    "    # end\n",
    "# end\n"
   ]
  },
  {
   "cell_type": "code",
   "execution_count": 4,
   "id": "2bc84bc1",
   "metadata": {},
   "outputs": [],
   "source": [
    "class Trainer(nn.Module):\n",
    "    def __init__(self, model):\n",
    "        super(Trainer, self).__init__()\n",
    "        self.index_name_head = set()\n",
    "        self.model = model\n",
    "    # end\n",
    "\n",
    "    def register(self, head):\n",
    "        name_head = head.__class__.__name__\n",
    "        setattr(self, name_head, head)\n",
    "        self.index_name_head.add(name_head)\n",
    "        return self\n",
    "    # end\n",
    "\n",
    "    def forward(self, **kwargs):\n",
    "        output_model = self.model(**kwargs)\n",
    "        dict_head_output = {}\n",
    "        \n",
    "        for name in self.index_name_head:\n",
    "            head = getattr(self, name)\n",
    "            dict_head_output[name] = head.forward(**{**output_model, **kwargs})\n",
    "        # end\n",
    "        \n",
    "        return dict_head_output\n",
    "    # end\n",
    "\n",
    "    def get_head(self, name_klass):\n",
    "        if type(name_klass) is type:\n",
    "            name_klass = klass.__name__\n",
    "        # end\n",
    "        \n",
    "        return getattr(self, name_klass)\n",
    "    # end\n",
    "# end\n",
    "\n",
    "\n",
    "class SaverAndLoader:\n",
    "    def __init__(self, path_checkpoints='./checkpoints'):\n",
    "        self.dict_name_item = {}\n",
    "        self.path_checkpoints = path_checkpoints\n",
    "        self.metadata = None\n",
    "    # end\n",
    "    \n",
    "    def add_item(self, item, name=None):\n",
    "        if not name:\n",
    "            name = item.__class__.__name__\n",
    "        # end\n",
    "        \n",
    "        self.dict_name_item[name] = item\n",
    "        return self\n",
    "    # end\n",
    "    \n",
    "    \n",
    "    def update_checkpoint(self, name_checkpoint, name_checkpoint_previous=None, metadata=None):  # epoch_n\n",
    "        if not self.dict_name_item:\n",
    "            print(f'[ALERT] no item added, skip saving checkpoint.')\n",
    "            return\n",
    "        # end\n",
    "        \n",
    "        if name_checkpoint_previous:\n",
    "            result = self._delete_checkpoint_folder(name_checkpoint_previous)\n",
    "            if result:\n",
    "                print(f'[INFO] {name_checkpoint_previous} is cleared.')\n",
    "            else:\n",
    "                print(f'[ALERT] {name_checkpoint_previous} fail to be cleared.')\n",
    "            # end\n",
    "        # end\n",
    "        \n",
    "        folder_checkpoint = self._create_checkpoint_folder(name_checkpoint)\n",
    "        for name_item, item in self.dict_name_item.items():\n",
    "            path_checkpoint_item = os.path.join(folder_checkpoint, f'{name_item}.pt')\n",
    "            \n",
    "            if hasattr(item, 'save_pretrained'):\n",
    "                item.save_pretrained(path_checkpoint_item)\n",
    "            elif hasattr(item, 'save'):\n",
    "                item.save(path_checkpoint_item)\n",
    "            else:\n",
    "                torch.save(item.state_dict(), path_checkpoint_item)\n",
    "            # end\n",
    "            \n",
    "            size_file_saved_MB = os.path.getsize(path_checkpoint_item) / 1024 / 1024\n",
    "            print(f'[INFO] {name_item} is saved, {size_file_saved_MB} MB')\n",
    "        # end\n",
    "        \n",
    "        if metadata:\n",
    "            path_file_metadata = os.path.join(folder_checkpoint, 'metadata.json')\n",
    "            with open(path_file_metadata,'w+') as file:\n",
    "                file.write(json.dumps(metadata, indent=4))\n",
    "            # end\n",
    "            print(f'[INFO] metadata updated at {path_file_metadata}, : {metadata}')\n",
    "            self.metadata = metadata\n",
    "        # end\n",
    "        \n",
    "        print(f'[INFO] {name_checkpoint} is saved')\n",
    "    # end\n",
    "    \n",
    "    \n",
    "    def load_item_special(self, name_checkpoint, klass_item, name_item_default):\n",
    "        name_item = klass_item.__name__\n",
    "        path_checkpoint_item = os.path.join(self.path_checkpoints, name_checkpoint, f'{name_item}.pt')\n",
    "        \n",
    "        if os.path.exists(path_checkpoint_item):\n",
    "            target = path_checkpoint_item\n",
    "        else:\n",
    "            target = name_item_default\n",
    "        # end\n",
    "            \n",
    "        if hasattr(klass_item, 'from_pretrained'):\n",
    "            instance_item = klass_item.from_pretrained(target)\n",
    "        else:\n",
    "            instance_item = klass_item(target)\n",
    "        # end\n",
    "\n",
    "        print(f'[INFO] {klass_item} loaded for {target}')\n",
    "        \n",
    "        return instance_item\n",
    "    # end\n",
    "\n",
    "    \n",
    "    def load_item_state(self, name_checkpoint, instance_item, name_item=None):\n",
    "        if not name_item:\n",
    "            name_item = instance_item.__class__.__name__\n",
    "        # end\n",
    "        \n",
    "        path_checkpoint_item = os.path.join(self.path_checkpoints, name_checkpoint, f'{name_item}.pt')\n",
    "        if not os.path.exists(path_checkpoint_item):\n",
    "            print(f'[ERROR] {path_checkpoint_item} not exists')\n",
    "            return None\n",
    "        # end\n",
    "        \n",
    "        if issubclass(instance_item.__class__, torch.nn.Module):\n",
    "            instance_item.load_state_dict(torch.load(path_checkpoint_item), strict=False)\n",
    "        else:\n",
    "            instance_item.load_state_dict(torch.load(path_checkpoint_item))\n",
    "        # end\n",
    "        \n",
    "        print(f'[INFO] {name_item} loaded for {name_checkpoint}.')\n",
    "        return instance_item\n",
    "    # end\n",
    "    \n",
    "    def load_metadata(self, name_checkpoint):\n",
    "        path_folder_checkpoint = os.path.join(self.path_checkpoints, name_checkpoint)\n",
    "        path_metadata = os.path.join(path_folder_checkpoint, 'metadata.json')\n",
    "        \n",
    "        if os.path.exists(path_metadata):\n",
    "            with open(path_metadata, 'r') as file:\n",
    "                self.metadata = json.load(file)\n",
    "            # end\n",
    "            print(f'[INFO] {path_metadata} loaded: {self.metadata}')\n",
    "        else:\n",
    "            print(f'[WARN] no metadata found.')\n",
    "        # end\n",
    "    # end\n",
    "    \n",
    "    \n",
    "    def list_items(self):\n",
    "        return list(self.dict_name_item.keys())\n",
    "    # end\n",
    "    \n",
    "    def _create_checkpoint_folder(self, name_checkpoint):\n",
    "        path_folder_target = os.path.join(self.path_checkpoints, name_checkpoint)\n",
    "        Path(path_folder_target).mkdir(parents=True, exist_ok=True)\n",
    "        return path_folder_target\n",
    "    # end\n",
    "    \n",
    "    def _delete_checkpoint_folder(self, name_checkpoint_previous):\n",
    "        path_folder_target = os.path.join(self.path_checkpoints, name_checkpoint_previous)\n",
    "        if os.path.exists(path_folder_target):\n",
    "            shutil.rmtree(path_folder_target, ignore_errors=True)\n",
    "        # end\n",
    "        return (not os.path.exists(path_folder_target))\n",
    "    # end\n",
    "# end\n"
   ]
  },
  {
   "cell_type": "code",
   "execution_count": 5,
   "id": "39d3fa50",
   "metadata": {},
   "outputs": [],
   "source": [
    "\n",
    "class Builder:\n",
    "\n",
    "    @classmethod\n",
    "    def build_model_with_s2s_from_pretrained_encoder(cls, klass_encoder, name_encoder):\n",
    "        \n",
    "        encoder_base = klass_encoder.from_pretrained(name_encoder)\n",
    "        \n",
    "        size_vocab = encoder_base.embeddings.word_embeddings.num_embeddings\n",
    "        dim_hidden = encoder_base.embeddings.word_embeddings.embedding_dim\n",
    "        n_head = int(dim_hidden / 64)\n",
    "        dim_feedforward = encoder_base.transformer.layer[0].ffn.lin1.out_features\n",
    "        n_layer = len(encoder_base.transformer.layer)\n",
    "        \n",
    "        embedder_encoder = encoder_base.embeddings\n",
    "        encoderstack = encoder_base\n",
    "        \n",
    "        embedder_decoder = SimpleEmbedder(size_vocab=size_vocab, dim_hidden=dim_hidden)\n",
    "        sample_decoder = SimpleDecoderLayer(dim_hidden, dim_feedforward, n_head)\n",
    "        decoderstack = SimpleTransformerStack(sample_decoder, n_layer)\n",
    "\n",
    "        model = SimpleEncoderDecoder(encoderstack, decoderstack, embedder_encoder, embedder_decoder, pooling=True)\n",
    "        head_s2s = SimpleDecoderHead_S2S(model, size_vocab, dim_hidden)\n",
    "        trainer = Trainer(model).register(head_s2s)\n",
    "        return trainer\n",
    "    # end\n",
    "    \n",
    "    \n",
    "    \n",
    "    @classmethod\n",
    "    def load_model_with_3heads_from_distilbert(cls, klass_encoder, name_encoder, loader, num_labels, name_checkpoint):\n",
    "        \n",
    "        encoder_base = loader.load_item_special(name_checkpoint, klass_encoder, name_encoder)\n",
    "        \n",
    "        size_vocab = encoder_base.embeddings.word_embeddings.num_embeddings\n",
    "        dim_hidden = encoder_base.embeddings.word_embeddings.embedding_dim\n",
    "        n_head = int(dim_hidden / 64)\n",
    "        dim_feedforward = encoder_base.transformer.layer[0].ffn.lin1.out_features\n",
    "        n_layer = len(encoder_base.transformer.layer)\n",
    "        \n",
    "        embedder_encoder = encoder_base.embeddings\n",
    "        encoderstack = encoder_base\n",
    "        \n",
    "        embedder_decoder = SimpleEmbedder(size_vocab=size_vocab, dim_hidden=dim_hidden)\n",
    "        sample_decoder = SimpleDecoderLayer(dim_hidden, dim_feedforward, n_head)\n",
    "        decoderstack = SimpleTransformerStack(sample_decoder, n_layer)\n",
    "        model = SimpleEncoderDecoder(encoderstack, decoderstack, embedder_encoder, embedder_decoder, pooling=True)\n",
    "        head_s2s = SimpleDecoderHead_S2S(model, size_vocab, dim_hidden)\n",
    "        head_sc = SimpleEncoderHead_AveragePooling_SC(num_labels, dim_hidden)\n",
    "        head_mlm = DistilBertEncoderHead_MLM(model, size_vocab, dim_hidden)\n",
    "        \n",
    "        loader.load_item_state(name_checkpoint, embedder_decoder)\n",
    "        loader.load_item_state(name_checkpoint, decoderstack)\n",
    "        loader.load_item_state(name_checkpoint, head_sc)\n",
    "        loader.load_item_state(name_checkpoint, head_s2s)\n",
    "        loader.load_item_state(name_checkpoint, head_mlm)\n",
    "\n",
    "        loader.add_item(encoder_base)\n",
    "        loader.add_item(embedder_decoder)\n",
    "        loader.add_item(decoderstack)\n",
    "        loader.add_item(head_s2s)\n",
    "        loader.add_item(head_sc)\n",
    "        loader.add_item(head_mlm)\n",
    "\n",
    "        trainer = Trainer(model).register(head_s2s).register(head_sc).register(head_mlm)\n",
    "        return trainer\n",
    "    # end\n",
    "\n",
    "\n",
    "    @classmethod\n",
    "    def load_model_with_2heads_from_sentencebert(cls, size_vocab, dim_hidden, dim_feedforward, n_head, n_layer, klass_encoder, name_encoder, loader, num_labels, name_checkpoint):\n",
    "        \n",
    "        encoderstack = loader.load_item_special(name_checkpoint, klass_encoder, name_encoder)\n",
    "        embedder_decoder = SimpleEmbedder(size_vocab=size_vocab, dim_hidden=dim_hidden)\n",
    "        sample_decoder = SimpleDecoderLayer(dim_hidden, dim_feedforward, n_head)\n",
    "        decoderstack = SimpleTransformerStack(sample_decoder, n_layer)\n",
    "        model = SentenceEncoderDecoder(encoderstack, decoderstack, None, embedder_decoder, pooling=True)\n",
    "        head_s2s = SimpleDecoderHead_S2S(model, size_vocab, dim_hidden)\n",
    "        head_sc = SimpleEncoderHead_AveragePooling_SC(num_labels, dim_hidden)\n",
    "        \n",
    "        loader.load_item_state(name_checkpoint, embedder_decoder)\n",
    "        loader.load_item_state(name_checkpoint, decoderstack)\n",
    "        loader.load_item_state(name_checkpoint, head_s2s)\n",
    "        loader.load_metadata(name_checkpoint)\n",
    "        \n",
    "        loader.add_item(encoderstack)\n",
    "        loader.add_item(embedder_decoder)\n",
    "        loader.add_item(decoderstack)\n",
    "        loader.add_item(head_s2s)\n",
    "        loader.add_item(head_sc)\n",
    "\n",
    "        trainer = Trainer(model).register(head_s2s).register(head_sc)\n",
    "        return trainer\n",
    "    # end\n",
    "# end\n"
   ]
  },
  {
   "cell_type": "code",
   "execution_count": 6,
   "id": "81cae85f",
   "metadata": {},
   "outputs": [],
   "source": [
    "def train_a_batch(batch, trainer, optimizer=None, scheduler=None):\n",
    "    dict_head_output = trainer.forward(**batch())\n",
    "    \n",
    "    loss_s2s, info_acc_s2s = trainer.module.get_head('SimpleDecoderHead_S2S').compute_loss(**dict_head_output['SimpleDecoderHead_S2S'])\n",
    "    loss_sc, info_acc_sc = trainer.module.get_head('SimpleEncoderHead_AveragePooling_SC').compute_loss(**dict_head_output['SimpleEncoderHead_AveragePooling_SC'])\n",
    "    \n",
    "    # crossentropy loss\n",
    "    loss_all = loss_s2s + loss_sc\n",
    "    loss_all_value = loss_all.item()\n",
    "    \n",
    "    \n",
    "    loss_all.backward()\n",
    "    \n",
    "    if optimizer:\n",
    "        optimizer.step()\n",
    "        optimizer.zero_grad(set_to_none=True)\n",
    "    # end\n",
    "    \n",
    "    if scheduler:\n",
    "        scheduler.step()\n",
    "    # end\n",
    "    \n",
    "    return loss_all_value, Dotdict({'s2s': info_acc_s2s, 'sc': info_acc_sc})\n",
    "# end\n",
    "\n",
    "\n",
    "def evaluate_a_batch(batch, trainer, *args, **kwargs):\n",
    "    \n",
    "    with torch.no_grad():\n",
    "        dict_head_output = trainer.forward(**batch())\n",
    "    # end\n",
    "    \n",
    "    loss_s2s, info_acc_s2s = trainer.module.get_head('SimpleDecoderHead_S2S').compute_loss(**dict_head_output['SimpleDecoderHead_S2S'])\n",
    "    loss_sc, info_acc_sc = trainer.module.get_head('SimpleEncoderHead_AveragePooling_SC').compute_loss(**dict_head_output['SimpleEncoderHead_AveragePooling_SC'])\n",
    "    \n",
    "    # crossentropy loss\n",
    "    loss_all = loss_s2s + loss_sc\n",
    "    loss_all_value = loss_all.item()\n",
    "    \n",
    "    return loss_all_value, Dotdict({'s2s': info_acc_s2s, 'sc': info_acc_sc})\n",
    "# end\n",
    "\n",
    "\n",
    "# For s2s head\n",
    "def greedy_generate(model, head, tokenizer, collator, **kwargs):\n",
    "    id_start = collator.id_cls\n",
    "    id_end = collator.id_sep\n",
    "    id_pad = collator.id_pad\n",
    "    size_seq_max = collator.size_seq_max\n",
    "\n",
    "    ids_encoder_twin = kwargs['ids_encoder']\n",
    "    masks_encoder_twin = kwargs['masks_encoder']\n",
    "    \n",
    "    ids_decoder_all = []\n",
    "    \n",
    "    for j in range(ids_encoder_twin.shape[0]):\n",
    "        ids_encoder = ids_encoder_twin[j,].unsqueeze(0)\n",
    "        masks_encoder = masks_encoder_twin[j,].unsqueeze(0)\n",
    "\n",
    "        output_encoder_pooled = model.embed_and_encode(ids_encoder=ids_encoder, masks_encoder=masks_encoder)\n",
    "        output_encoder_pooled_expanded = output_encoder_pooled.unsqueeze(-2).expand((output_encoder_pooled.shape[0], ids_encoder.shape[1], output_encoder_pooled.shape[-1]))\n",
    "        output_encoder = output_encoder_pooled_expanded\n",
    "        ids_decoder = torch.zeros(1, 1).fill_(id_start).type_as(ids_encoder.data)\n",
    "\n",
    "        for i in range(size_seq_max - 1):\n",
    "            masks_decoder = collator.subsequent_mask(ids_decoder.size(1)).type_as(ids_encoder.data)\n",
    "            output_decoder = model.embed_and_decode(ids_decoder=ids_decoder, masks_encoder=masks_encoder, output_encoder=output_encoder, masks_decoder=masks_decoder)\n",
    "\n",
    "            output_ffn = head.ffn(output_decoder)\n",
    "            output_s2s = head.extractor(output_ffn)   # output_mlm = prediction_logits\n",
    "\n",
    "            logits_nextword = torch.softmax(output_s2s[:, -1], dim=-1)  # mynote: select dim2=-1, remain=all; last is the next\n",
    "\n",
    "            id_nextword = torch.argmax(logits_nextword, dim=-1)\n",
    "            id_nextword = id_nextword.data[0]\n",
    "\n",
    "            if id_nextword == id_end:\n",
    "                break\n",
    "            # end\n",
    "\n",
    "            ids_decoder = torch.cat([ids_decoder, torch.zeros(1, 1).type_as(ids_encoder.data).fill_(id_nextword)], dim=1)\n",
    "        # end\n",
    "        \n",
    "        ids_pad = torch.full((1, size_seq_max - ids_decoder.shape[-1]), id_pad).type_as(ids_decoder.data)\n",
    "        \n",
    "        ids_decoder_all.append(torch.cat([ids_decoder, ids_pad], dim=-1).squeeze(0))\n",
    "    # end for \n",
    "\n",
    "    return torch.stack(ids_decoder_all)\n",
    "# end\n"
   ]
  },
  {
   "cell_type": "code",
   "execution_count": 7,
   "id": "baff1455",
   "metadata": {},
   "outputs": [],
   "source": [
    "def main(\n",
    "    folder_data, folder_output, version_data, version_data_last, postfix_train, postfix_test,\n",
    "    tokenizer, collator, index_label_2_labelid, index_labelid_2_label, num_labels,\n",
    "    epochs, seq_max, batch_size, dim_hidden, dim_feedforward, n_head, n_layer,\n",
    "    lr_base_optimizer, betas_optimizer, eps_optimizer, warmup, gpus\n",
    "):\n",
    "\n",
    "    loader = SaverAndLoader('checkpoints_sbert_1')\n",
    "\n",
    "    trainer = Builder.load_model_with_2heads_from_sentencebert(\n",
    "        tokenizer.vocab_size, dim_hidden, dim_feedforward, n_head, n_layer,\n",
    "        SentenceTransformer, 'multi-qa-distilbert-cos-v1', loader, num_labels, str(version_data_last)\n",
    "    )\n",
    "    trainer = trainer.to('cuda')\n",
    "    trainer = torch.nn.DataParallel(trainer, device_ids=gpus)\n",
    "\n",
    "    train_source, valid_source, _ = GOSV(folder_data, version_data, postfix_train, index_label_2_labelid, split=0.1)\n",
    "    test_source, _, _ = GOSV(folder_data, version_data, postfix_test, index_label_2_labelid, split=0)\n",
    "    \n",
    "    dataloader_train = DataLoader(train_source, batch_size, shuffle=False, collate_fn=collator)\n",
    "    dataloader_eval = DataLoader(valid_source, batch_size, shuffle=False, collate_fn=collator)\n",
    "    dataloader_test = DataLoader(test_source, 1, shuffle=False, collate_fn=collator)\n",
    "\n",
    "    optimizer = torch.optim.AdamW(trainer.parameters(), lr=1e-4, betas=(0.9, 0.999), eps=1e-08, weight_decay=0.01)\n",
    "    lr_scheduler = transformers.get_scheduler(\n",
    "        name=\"cosine_with_restarts\", optimizer=optimizer, num_warmup_steps=1000, num_training_steps=len(dataloader_train) * epochs\n",
    "    )\n",
    "    \n",
    "    ### start train/eval epochs ####################################\n",
    "    for e in range(epochs):\n",
    "        \n",
    "        info_acc_heads_train = Dotdict({\n",
    "            'sc': SimpleEncoderHead_AveragePooling_SC.get_info_accuracy_template(),\n",
    "            's2s': SimpleDecoderHead_S2S.get_info_accuracy_template(),\n",
    "        })\n",
    "\n",
    "\n",
    "        info_acc_heads_eval = Dotdict({\n",
    "            'sc': SimpleEncoderHead_AveragePooling_SC.get_info_accuracy_template(),\n",
    "            's2s': SimpleDecoderHead_S2S.get_info_accuracy_template(),\n",
    "        })\n",
    "\n",
    "        # train phase\n",
    "        \n",
    "        losss_per_e = []\n",
    "        for i, batch in enumerate(tqdm(dataloader_train)):\n",
    "            loss_current, info_acc_heads_batch = train_a_batch(batch, trainer, optimizer, lr_scheduler)\n",
    "            info_acc_heads_train += info_acc_heads_batch\n",
    "\n",
    "            losss_per_e.append(loss_current)\n",
    "        # end\n",
    "\n",
    "        loss_average_per_e = sum(losss_per_e) / len(losss_per_e)\n",
    "        print('[{}] Epoch: {} training ends. Status: Average loss: {}, Average SC accuracy: {}, Average S2S accuracy: {}'.format(\n",
    "            datetime.utcnow(), e, loss_average_per_e,\n",
    "            info_acc_heads_train.sc.corrects / info_acc_heads_train.sc.num,\n",
    "            info_acc_heads_train.s2s.corrects_segmented / info_acc_heads_train.s2s.num_segmented,\n",
    "        ))\n",
    "\n",
    "        # eval phase start\n",
    "        losss_per_e = []\n",
    "        for i, batch in enumerate(tqdm(dataloader_eval)):\n",
    "            loss_current, info_acc_heads_batch = evaluate_a_batch(batch, trainer)\n",
    "            info_acc_heads_eval += info_acc_heads_batch\n",
    "\n",
    "            losss_per_e.append(loss_current)\n",
    "        # end\n",
    "\n",
    "        loss_average_per_e = sum(losss_per_e) / len(losss_per_e)\n",
    "        print('[{}] Epoch: {} Evalutation ends. Status: Average loss: {}, Average SC accuracy: {}, Average S2S accuracy: {}'.format(        \n",
    "            datetime.utcnow(), e, loss_average_per_e,\n",
    "            info_acc_heads_eval.sc.corrects / info_acc_heads_eval.sc.num,\n",
    "            info_acc_heads_eval.s2s.corrects_segmented / info_acc_heads_eval.s2s.num_segmented,\n",
    "        ))\n",
    "        # eval phase end\n",
    "    # end\n",
    "    ### end train/eval epochs ####################################\n",
    "    \n",
    "    \n",
    "    ### start test  ##############################################\n",
    "    trainer.eval()\n",
    "    \n",
    "    list_corpus_test = []\n",
    "    for i, batch in enumerate(tqdm(dataloader_test)):\n",
    "\n",
    "        info_batch = batch()\n",
    "        with torch.no_grad():\n",
    "            dict_head_output = trainer.forward(**info_batch)\n",
    "        # end\n",
    "\n",
    "        # this is to calcluate s2s acc\n",
    "        loss_s2s, info_acc_s2s = trainer.module.get_head('SimpleDecoderHead_S2S').compute_loss(**dict_head_output['SimpleDecoderHead_S2S'])\n",
    "        num_s2s = info_acc_s2s['num_segmented']\n",
    "        corrects_s2s = info_acc_s2s['corrects_segmented']\n",
    "        info_s2s = {'num': num_s2s, 'corrects': corrects_s2s}\n",
    "        # end\n",
    "\n",
    "        # this is to calculate sc\n",
    "        label_sc = dict_head_output['SimpleEncoderHead_AveragePooling_SC']['labels_sc'].squeeze(0).detach().cpu()\n",
    "        logit_sc = dict_head_output['SimpleEncoderHead_AveragePooling_SC']['output'].squeeze(0).detach().cpu()\n",
    "        \n",
    "        pred_sc = logit_sc.argmax(-1) # (seq)\n",
    "        conf_sc = torch.index_select(logit_sc.softmax(-1), -1, pred_sc)\n",
    "        info_sc = {'pred': pred_sc.item(), 'label': label_sc.item(), 'conf': conf_sc.item()}\n",
    "        \n",
    "        # this is to calculate greedy decode acc\n",
    "        list_acc_greedy_decode = []\n",
    "        result = greedy_generate(trainer.module.model, trainer.module.get_head('SimpleDecoderHead_S2S'), tokenizer, collator, **info_batch)\n",
    "        result_cpu_list = result.cpu().tolist()\n",
    "        labels_decoder_cpu_list = info_batch['labels_decoder'].cpu().tolist()\n",
    "        \n",
    "        for result_cpu, labels_decoder in zip(result_cpu_list, labels_decoder_cpu_list):\n",
    "        \n",
    "            sentence_predicted = tokenizer.decode(result_cpu).split(' [PAD]')[0]\n",
    "            set_tokens_predicted = set(sentence_predicted.split()) - set(['[CLS]','[SEP]'])\n",
    "            # print('predicted: {}'.format(set_tokens_predicted))\n",
    "\n",
    "            sentence_origin = tokenizer.decode(labels_decoder).split(' [PAD]')[0]\n",
    "            set_tokens_origin = set(sentence_origin.split()) - set(['[CLS]','[SEP]'])\n",
    "            # print('origin: {}'.format(set_tokens_origin))\n",
    "            set_hit = set_tokens_predicted & set_tokens_origin\n",
    "            list_acc_greedy_decode.append({'num': len(set_tokens_origin), 'corrects': len(set_hit)})\n",
    "        # end for\n",
    "        info_greedy = {'greedy': list_acc_greedy_decode}\n",
    "        # end this\n",
    "\n",
    "        list_corpus_test.append({'info_sc': info_sc,'info_s2s': info_s2s, 'info_greedy': info_greedy})\n",
    "    # end for\n",
    "    \n",
    "    path_file_output = os.path.join(folder_output, f'{version_data}.json')\n",
    "    with open(path_file_output, 'w+') as file:\n",
    "        file.write(json.dumps(list_corpus_test))\n",
    "    # end\n",
    "        \n",
    "    ### end   test  ##############################################\n",
    "    \n",
    "    loader.update_checkpoint(str(version_data), str(version_data_last))\n",
    "# end\n"
   ]
  },
  {
   "cell_type": "code",
   "execution_count": 8,
   "id": "b81761fd",
   "metadata": {},
   "outputs": [
    {
     "name": "stdout",
     "output_type": "stream",
     "text": [
      "[INFO] <class 'sentence_transformers.SentenceTransformer.SentenceTransformer'> loaded for checkpoints_sbert_1/202205240000/SentenceTransformer.pt\n",
      "[INFO] SimpleEmbedder loaded for 202205240000.\n",
      "[INFO] SimpleTransformerStack loaded for 202205240000.\n",
      "[INFO] SimpleDecoderHead_S2S loaded for 202205240000.\n",
      "[WARN] no metadata found.\n"
     ]
    },
    {
     "name": "stderr",
     "output_type": "stream",
     "text": [
      "  0%|          | 2/1099 [00:01<11:20,  1.61it/s]Token indices sequence length is longer than the specified maximum sequence length for this model (962 > 512). Running this sequence through the model will result in indexing errors\n",
      "100%|██████████| 1099/1099 [07:25<00:00,  2.47it/s]\n",
      "  1%|          | 1/123 [00:00<00:19,  6.24it/s]"
     ]
    },
    {
     "name": "stdout",
     "output_type": "stream",
     "text": [
      "[2024-01-07 13:00:59.737592] Epoch: 0 training ends. Status: Average loss: 7.828814539505852, Average SC accuracy: 0.808784206633669, Average S2S accuracy: 0.6280354411645181\n"
     ]
    },
    {
     "name": "stderr",
     "output_type": "stream",
     "text": [
      "100%|██████████| 123/123 [00:19<00:00,  6.27it/s]\n",
      "  0%|          | 0/1099 [00:00<?, ?it/s]"
     ]
    },
    {
     "name": "stdout",
     "output_type": "stream",
     "text": [
      "[2024-01-07 13:01:19.346158] Epoch: 0 Evalutation ends. Status: Average loss: 2.39028132349495, Average SC accuracy: 0.9795186891961085, Average S2S accuracy: 0.8257042614743839\n"
     ]
    },
    {
     "name": "stderr",
     "output_type": "stream",
     "text": [
      "100%|██████████| 1099/1099 [07:24<00:00,  2.47it/s]\n",
      "  1%|          | 1/123 [00:00<00:19,  6.16it/s]"
     ]
    },
    {
     "name": "stdout",
     "output_type": "stream",
     "text": [
      "[2024-01-07 13:08:44.266521] Epoch: 1 training ends. Status: Average loss: 1.6504990078298691, Average SC accuracy: 0.9868009330374922, Average S2S accuracy: 0.8739905071151167\n"
     ]
    },
    {
     "name": "stderr",
     "output_type": "stream",
     "text": [
      "100%|██████████| 123/123 [00:19<00:00,  6.24it/s]\n",
      "  0%|          | 0/1099 [00:00<?, ?it/s]"
     ]
    },
    {
     "name": "stdout",
     "output_type": "stream",
     "text": [
      "[2024-01-07 13:09:03.994099] Epoch: 1 Evalutation ends. Status: Average loss: 1.2131478035353063, Average SC accuracy: 0.9882232462877624, Average S2S accuracy: 0.9038860050472928\n"
     ]
    },
    {
     "name": "stderr",
     "output_type": "stream",
     "text": [
      "100%|██████████| 1099/1099 [07:25<00:00,  2.47it/s]\n",
      "  1%|          | 1/123 [00:00<00:19,  6.22it/s]"
     ]
    },
    {
     "name": "stdout",
     "output_type": "stream",
     "text": [
      "[2024-01-07 13:16:29.138421] Epoch: 2 training ends. Status: Average loss: 0.9733735516572454, Average SC accuracy: 0.9924901860385731, Average S2S accuracy: 0.9218840494866783\n"
     ]
    },
    {
     "name": "stderr",
     "output_type": "stream",
     "text": [
      "100%|██████████| 123/123 [00:19<00:00,  6.23it/s]\n",
      "  0%|          | 0/1099 [00:00<?, ?it/s]"
     ]
    },
    {
     "name": "stdout",
     "output_type": "stream",
     "text": [
      "[2024-01-07 13:16:48.883834] Epoch: 2 Evalutation ends. Status: Average loss: 0.8225899748201293, Average SC accuracy: 0.9907834101382489, Average S2S accuracy: 0.9329028088389175\n"
     ]
    },
    {
     "name": "stderr",
     "output_type": "stream",
     "text": [
      "100%|██████████| 1099/1099 [07:25<00:00,  2.47it/s]\n",
      "  1%|          | 1/123 [00:00<00:20,  6.08it/s]"
     ]
    },
    {
     "name": "stdout",
     "output_type": "stream",
     "text": [
      "[2024-01-07 13:24:14.521971] Epoch: 3 training ends. Status: Average loss: 0.6910549260411509, Average SC accuracy: 0.9935711441087786, Average S2S accuracy: 0.9436389088922903\n"
     ]
    },
    {
     "name": "stderr",
     "output_type": "stream",
     "text": [
      "100%|██████████| 123/123 [00:19<00:00,  6.25it/s]\n",
      "  0%|          | 0/1099 [00:00<?, ?it/s]"
     ]
    },
    {
     "name": "stdout",
     "output_type": "stream",
     "text": [
      "[2024-01-07 13:24:34.192981] Epoch: 3 Evalutation ends. Status: Average loss: 0.6219649804316885, Average SC accuracy: 0.996415770609319, Average S2S accuracy: 0.9489679722604075\n"
     ]
    },
    {
     "name": "stderr",
     "output_type": "stream",
     "text": [
      "100%|██████████| 1099/1099 [07:25<00:00,  2.47it/s]\n",
      "  1%|          | 1/123 [00:00<00:20,  5.99it/s]"
     ]
    },
    {
     "name": "stdout",
     "output_type": "stream",
     "text": [
      "[2024-01-07 13:31:59.344424] Epoch: 4 training ends. Status: Average loss: 0.5156831047934115, Average SC accuracy: 0.9968140183193946, Average S2S accuracy: 0.9570745636495601\n"
     ]
    },
    {
     "name": "stderr",
     "output_type": "stream",
     "text": [
      "100%|██████████| 123/123 [00:19<00:00,  6.23it/s]\n",
      "  0%|          | 0/1099 [00:00<?, ?it/s]"
     ]
    },
    {
     "name": "stdout",
     "output_type": "stream",
     "text": [
      "[2024-01-07 13:32:19.077625] Epoch: 4 Evalutation ends. Status: Average loss: 0.5129821477382164, Average SC accuracy: 0.9938556067588326, Average S2S accuracy: 0.9589343236422577\n"
     ]
    },
    {
     "name": "stderr",
     "output_type": "stream",
     "text": [
      "100%|██████████| 1099/1099 [07:24<00:00,  2.47it/s]\n",
      "  1%|          | 1/123 [00:00<00:19,  6.18it/s]"
     ]
    },
    {
     "name": "stdout",
     "output_type": "stream",
     "text": [
      "[2024-01-07 13:39:44.045600] Epoch: 5 training ends. Status: Average loss: 0.40215784705856694, Average SC accuracy: 0.9980087614496217, Average S2S accuracy: 0.9662946318196364\n"
     ]
    },
    {
     "name": "stderr",
     "output_type": "stream",
     "text": [
      "100%|██████████| 123/123 [00:19<00:00,  6.29it/s]\n",
      "  0%|          | 0/1099 [00:00<?, ?it/s]"
     ]
    },
    {
     "name": "stdout",
     "output_type": "stream",
     "text": [
      "[2024-01-07 13:40:03.609723] Epoch: 5 Evalutation ends. Status: Average loss: 0.43613063562207105, Average SC accuracy: 0.9943676395289298, Average S2S accuracy: 0.9645509756047519\n"
     ]
    },
    {
     "name": "stderr",
     "output_type": "stream",
     "text": [
      "100%|██████████| 1099/1099 [07:25<00:00,  2.46it/s]\n",
      "  1%|          | 1/123 [00:00<00:19,  6.12it/s]"
     ]
    },
    {
     "name": "stdout",
     "output_type": "stream",
     "text": [
      "[2024-01-07 13:47:29.521671] Epoch: 6 training ends. Status: Average loss: 0.3326560101786237, Average SC accuracy: 0.998520794219719, Average S2S accuracy: 0.9719595571957398\n"
     ]
    },
    {
     "name": "stderr",
     "output_type": "stream",
     "text": [
      "100%|██████████| 123/123 [00:19<00:00,  6.19it/s]\n",
      "  0%|          | 0/1099 [00:00<?, ?it/s]"
     ]
    },
    {
     "name": "stdout",
     "output_type": "stream",
     "text": [
      "[2024-01-07 13:47:49.384443] Epoch: 6 Evalutation ends. Status: Average loss: 0.362117749707001, Average SC accuracy: 0.9974398361495136, Average S2S accuracy: 0.9698393483657851\n"
     ]
    },
    {
     "name": "stderr",
     "output_type": "stream",
     "text": [
      "100%|██████████| 1099/1099 [07:25<00:00,  2.47it/s]\n",
      "  1%|          | 1/123 [00:00<00:20,  6.08it/s]"
     ]
    },
    {
     "name": "stdout",
     "output_type": "stream",
     "text": [
      "[2024-01-07 13:55:14.684144] Epoch: 7 training ends. Status: Average loss: 0.28054991468882107, Average SC accuracy: 0.9993172896398703, Average S2S accuracy: 0.9760250945906698\n"
     ]
    },
    {
     "name": "stderr",
     "output_type": "stream",
     "text": [
      "100%|██████████| 123/123 [00:19<00:00,  6.24it/s]\n",
      "  0%|          | 0/1099 [00:00<?, ?it/s]"
     ]
    },
    {
     "name": "stdout",
     "output_type": "stream",
     "text": [
      "[2024-01-07 13:55:34.411313] Epoch: 7 Evalutation ends. Status: Average loss: 0.3269762327758277, Average SC accuracy: 0.9969278033794163, Average S2S accuracy: 0.9731939514557131\n"
     ]
    },
    {
     "name": "stderr",
     "output_type": "stream",
     "text": [
      "100%|██████████| 1099/1099 [07:24<00:00,  2.47it/s]\n",
      "  1%|          | 1/123 [00:00<00:19,  6.27it/s]"
     ]
    },
    {
     "name": "stdout",
     "output_type": "stream",
     "text": [
      "[2024-01-07 14:02:58.967934] Epoch: 8 training ends. Status: Average loss: 0.24589259022197688, Average SC accuracy: 0.9996017522899243, Average S2S accuracy: 0.9789504854716574\n"
     ]
    },
    {
     "name": "stderr",
     "output_type": "stream",
     "text": [
      "100%|██████████| 123/123 [00:19<00:00,  6.17it/s]\n",
      "  0%|          | 0/1099 [00:00<?, ?it/s]"
     ]
    },
    {
     "name": "stdout",
     "output_type": "stream",
     "text": [
      "[2024-01-07 14:03:18.906297] Epoch: 8 Evalutation ends. Status: Average loss: 0.30828053377023557, Average SC accuracy: 0.9984639016897081, Average S2S accuracy: 0.9744096103736227\n"
     ]
    },
    {
     "name": "stderr",
     "output_type": "stream",
     "text": [
      "100%|██████████| 1099/1099 [07:25<00:00,  2.47it/s]\n",
      "  1%|          | 1/123 [00:00<00:19,  6.25it/s]"
     ]
    },
    {
     "name": "stdout",
     "output_type": "stream",
     "text": [
      "[2024-01-07 14:10:44.093124] Epoch: 9 training ends. Status: Average loss: 0.23527178269988086, Average SC accuracy: 0.9995448597599135, Average S2S accuracy: 0.9798803357691698\n"
     ]
    },
    {
     "name": "stderr",
     "output_type": "stream",
     "text": [
      "100%|██████████| 123/123 [00:20<00:00,  6.08it/s]\n",
      "  0%|          | 0/84 [00:00<?, ?it/s]"
     ]
    },
    {
     "name": "stdout",
     "output_type": "stream",
     "text": [
      "[2024-01-07 14:11:04.311156] Epoch: 9 Evalutation ends. Status: Average loss: 0.2952912739985357, Average SC accuracy: 0.9979518689196109, Average S2S accuracy: 0.975522682041076\n"
     ]
    },
    {
     "name": "stderr",
     "output_type": "stream",
     "text": [
      "100%|██████████| 84/84 [02:24<00:00,  1.72s/it]\n"
     ]
    },
    {
     "name": "stdout",
     "output_type": "stream",
     "text": [
      "[INFO] 202205240000 is cleared.\n",
      "[INFO] SentenceTransformer is saved, 0.0003910064697265625 MB\n",
      "[INFO] SimpleEmbedder is saved, 90.92114543914795 MB\n",
      "[INFO] SimpleTransformerStack is saved, 216.4018907546997 MB\n",
      "[INFO] SimpleDecoderHead_S2S is saved, 91.68078327178955 MB\n",
      "[INFO] SimpleEncoderHead_AveragePooling_SC is saved, 2.2815237045288086 MB\n",
      "[INFO] 202206171000 is saved\n",
      "[INFO] finish 202206171000\n",
      "[INFO] <class 'sentence_transformers.SentenceTransformer.SentenceTransformer'> loaded for checkpoints_sbert_1/202206171000/SentenceTransformer.pt\n",
      "[INFO] SimpleEmbedder loaded for 202206171000.\n",
      "[INFO] SimpleTransformerStack loaded for 202206171000.\n",
      "[INFO] SimpleDecoderHead_S2S loaded for 202206171000.\n",
      "[WARN] no metadata found.\n"
     ]
    },
    {
     "name": "stderr",
     "output_type": "stream",
     "text": [
      "100%|██████████| 114/114 [00:46<00:00,  2.44it/s]\n",
      "  8%|▊         | 1/13 [00:00<00:02,  5.89it/s]"
     ]
    },
    {
     "name": "stdout",
     "output_type": "stream",
     "text": [
      "[2024-01-07 14:14:50.757810] Epoch: 0 training ends. Status: Average loss: 6.559812938957884, Average SC accuracy: 0.38946791003839826, Average S2S accuracy: 0.7852699860178857\n"
     ]
    },
    {
     "name": "stderr",
     "output_type": "stream",
     "text": [
      "100%|██████████| 13/13 [00:02<00:00,  6.16it/s]\n",
      "  0%|          | 0/114 [00:00<?, ?it/s]"
     ]
    },
    {
     "name": "stdout",
     "output_type": "stream",
     "text": [
      "[2024-01-07 14:14:52.868868] Epoch: 0 Evalutation ends. Status: Average loss: 4.548528781303992, Average SC accuracy: 0.6881188118811881, Average S2S accuracy: 0.8207227138643067\n"
     ]
    },
    {
     "name": "stderr",
     "output_type": "stream",
     "text": [
      "100%|██████████| 114/114 [00:46<00:00,  2.43it/s]\n",
      "  8%|▊         | 1/13 [00:00<00:01,  6.14it/s]"
     ]
    },
    {
     "name": "stdout",
     "output_type": "stream",
     "text": [
      "[2024-01-07 14:15:39.824313] Epoch: 1 training ends. Status: Average loss: 3.2658092473682605, Average SC accuracy: 0.8771256171146462, Average S2S accuracy: 0.8489316598532903\n"
     ]
    },
    {
     "name": "stderr",
     "output_type": "stream",
     "text": [
      "100%|██████████| 13/13 [00:02<00:00,  6.08it/s]\n",
      "  0%|          | 0/114 [00:00<?, ?it/s]"
     ]
    },
    {
     "name": "stdout",
     "output_type": "stream",
     "text": [
      "[2024-01-07 14:15:41.964685] Epoch: 1 Evalutation ends. Status: Average loss: 2.5196795646960917, Average SC accuracy: 0.9108910891089109, Average S2S accuracy: 0.8696902654867257\n"
     ]
    },
    {
     "name": "stderr",
     "output_type": "stream",
     "text": [
      "100%|██████████| 114/114 [00:46<00:00,  2.43it/s]\n",
      "  8%|▊         | 1/13 [00:00<00:01,  6.04it/s]"
     ]
    },
    {
     "name": "stdout",
     "output_type": "stream",
     "text": [
      "[2024-01-07 14:16:28.928658] Epoch: 2 training ends. Status: Average loss: 1.8745345630143817, Average SC accuracy: 0.9648930334613275, Average S2S accuracy: 0.891042016048679\n"
     ]
    },
    {
     "name": "stderr",
     "output_type": "stream",
     "text": [
      "100%|██████████| 13/13 [00:02<00:00,  6.11it/s]\n",
      "  0%|          | 0/114 [00:00<?, ?it/s]"
     ]
    },
    {
     "name": "stdout",
     "output_type": "stream",
     "text": [
      "[2024-01-07 14:16:31.057541] Epoch: 2 Evalutation ends. Status: Average loss: 1.5767653997127826, Average SC accuracy: 0.9801980198019802, Average S2S accuracy: 0.9016592920353982\n"
     ]
    },
    {
     "name": "stderr",
     "output_type": "stream",
     "text": [
      "100%|██████████| 114/114 [00:46<00:00,  2.43it/s]\n",
      "  8%|▊         | 1/13 [00:00<00:01,  6.14it/s]"
     ]
    },
    {
     "name": "stdout",
     "output_type": "stream",
     "text": [
      "[2024-01-07 14:17:17.966824] Epoch: 3 training ends. Status: Average loss: 1.2572144625479715, Average SC accuracy: 0.9906747120131651, Average S2S accuracy: 0.9170052853212401\n"
     ]
    },
    {
     "name": "stderr",
     "output_type": "stream",
     "text": [
      "100%|██████████| 13/13 [00:02<00:00,  6.13it/s]\n",
      "  0%|          | 0/114 [00:00<?, ?it/s]"
     ]
    },
    {
     "name": "stdout",
     "output_type": "stream",
     "text": [
      "[2024-01-07 14:17:20.090010] Epoch: 3 Evalutation ends. Status: Average loss: 1.186731333916004, Average SC accuracy: 0.995049504950495, Average S2S accuracy: 0.9203539823008849\n"
     ]
    },
    {
     "name": "stderr",
     "output_type": "stream",
     "text": [
      "100%|██████████| 114/114 [00:46<00:00,  2.45it/s]\n",
      "  8%|▊         | 1/13 [00:00<00:02,  5.98it/s]"
     ]
    },
    {
     "name": "stdout",
     "output_type": "stream",
     "text": [
      "[2024-01-07 14:18:06.689754] Epoch: 4 training ends. Status: Average loss: 0.9391922846175077, Average SC accuracy: 0.9956116291826659, Average S2S accuracy: 0.9332712817211531\n"
     ]
    },
    {
     "name": "stderr",
     "output_type": "stream",
     "text": [
      "100%|██████████| 13/13 [00:02<00:00,  6.17it/s]\n",
      "  0%|          | 0/114 [00:00<?, ?it/s]"
     ]
    },
    {
     "name": "stdout",
     "output_type": "stream",
     "text": [
      "[2024-01-07 14:18:08.798446] Epoch: 4 Evalutation ends. Status: Average loss: 0.9149948541934674, Average SC accuracy: 1.0, Average S2S accuracy: 0.9354351032448378\n"
     ]
    },
    {
     "name": "stderr",
     "output_type": "stream",
     "text": [
      "100%|██████████| 114/114 [00:46<00:00,  2.45it/s]\n",
      "  8%|▊         | 1/13 [00:00<00:01,  6.28it/s]"
     ]
    },
    {
     "name": "stdout",
     "output_type": "stream",
     "text": [
      "[2024-01-07 14:18:55.242714] Epoch: 5 training ends. Status: Average loss: 0.7513490685245447, Average SC accuracy: 0.9983543609434997, Average S2S accuracy: 0.9437025130902933\n"
     ]
    },
    {
     "name": "stderr",
     "output_type": "stream",
     "text": [
      "100%|██████████| 13/13 [00:02<00:00,  6.37it/s]\n",
      "  0%|          | 0/114 [00:00<?, ?it/s]"
     ]
    },
    {
     "name": "stdout",
     "output_type": "stream",
     "text": [
      "[2024-01-07 14:18:57.286202] Epoch: 5 Evalutation ends. Status: Average loss: 0.7774774753130399, Average SC accuracy: 0.995049504950495, Average S2S accuracy: 0.9419985250737463\n"
     ]
    },
    {
     "name": "stderr",
     "output_type": "stream",
     "text": [
      "100%|██████████| 114/114 [00:46<00:00,  2.47it/s]\n",
      "  8%|▊         | 1/13 [00:00<00:01,  6.11it/s]"
     ]
    },
    {
     "name": "stdout",
     "output_type": "stream",
     "text": [
      "[2024-01-07 14:19:43.396731] Epoch: 6 training ends. Status: Average loss: 0.6326119376901995, Average SC accuracy: 0.9989029072956664, Average S2S accuracy: 0.9501318255064929\n"
     ]
    },
    {
     "name": "stderr",
     "output_type": "stream",
     "text": [
      "100%|██████████| 13/13 [00:02<00:00,  6.06it/s]\n",
      "  0%|          | 0/114 [00:00<?, ?it/s]"
     ]
    },
    {
     "name": "stdout",
     "output_type": "stream",
     "text": [
      "[2024-01-07 14:19:45.544985] Epoch: 6 Evalutation ends. Status: Average loss: 0.7008033119715177, Average SC accuracy: 0.9900990099009901, Average S2S accuracy: 0.9473451327433628\n"
     ]
    },
    {
     "name": "stderr",
     "output_type": "stream",
     "text": [
      "100%|██████████| 114/114 [00:46<00:00,  2.43it/s]\n",
      "  8%|▊         | 1/13 [00:00<00:02,  5.98it/s]"
     ]
    },
    {
     "name": "stdout",
     "output_type": "stream",
     "text": [
      "[2024-01-07 14:20:32.506965] Epoch: 7 training ends. Status: Average loss: 0.558700746611545, Average SC accuracy: 0.9994514536478333, Average S2S accuracy: 0.9550891206029121\n"
     ]
    },
    {
     "name": "stderr",
     "output_type": "stream",
     "text": [
      "100%|██████████| 13/13 [00:02<00:00,  6.05it/s]\n",
      "  0%|          | 0/114 [00:00<?, ?it/s]"
     ]
    },
    {
     "name": "stdout",
     "output_type": "stream",
     "text": [
      "[2024-01-07 14:20:34.656841] Epoch: 7 Evalutation ends. Status: Average loss: 0.6340250212412614, Average SC accuracy: 0.995049504950495, Average S2S accuracy: 0.9516592920353982\n"
     ]
    },
    {
     "name": "stderr",
     "output_type": "stream",
     "text": [
      "100%|██████████| 114/114 [00:46<00:00,  2.44it/s]\n",
      "  8%|▊         | 1/13 [00:00<00:01,  6.08it/s]"
     ]
    },
    {
     "name": "stdout",
     "output_type": "stream",
     "text": [
      "[2024-01-07 14:21:21.459199] Epoch: 8 training ends. Status: Average loss: 0.4852501705550311, Average SC accuracy: 1.0, Average S2S accuracy: 0.9606327624311658\n"
     ]
    },
    {
     "name": "stderr",
     "output_type": "stream",
     "text": [
      "100%|██████████| 13/13 [00:02<00:00,  6.07it/s]\n",
      "  0%|          | 0/114 [00:00<?, ?it/s]"
     ]
    },
    {
     "name": "stdout",
     "output_type": "stream",
     "text": [
      "[2024-01-07 14:21:23.601400] Epoch: 8 Evalutation ends. Status: Average loss: 0.5852221411008102, Average SC accuracy: 0.995049504950495, Average S2S accuracy: 0.9535029498525074\n"
     ]
    },
    {
     "name": "stderr",
     "output_type": "stream",
     "text": [
      "100%|██████████| 114/114 [00:46<00:00,  2.43it/s]\n",
      "  8%|▊         | 1/13 [00:00<00:02,  5.91it/s]"
     ]
    },
    {
     "name": "stdout",
     "output_type": "stream",
     "text": [
      "[2024-01-07 14:22:10.583438] Epoch: 9 training ends. Status: Average loss: 0.4105927260559902, Average SC accuracy: 1.0, Average S2S accuracy: 0.9659795885732093\n"
     ]
    },
    {
     "name": "stderr",
     "output_type": "stream",
     "text": [
      "100%|██████████| 13/13 [00:02<00:00,  6.18it/s]\n",
      "  0%|          | 0/28 [00:00<?, ?it/s]"
     ]
    },
    {
     "name": "stdout",
     "output_type": "stream",
     "text": [
      "[2024-01-07 14:22:12.689590] Epoch: 9 Evalutation ends. Status: Average loss: 0.47860060746853167, Average SC accuracy: 0.995049504950495, Average S2S accuracy: 0.9616150442477877\n"
     ]
    },
    {
     "name": "stderr",
     "output_type": "stream",
     "text": [
      "100%|██████████| 28/28 [00:41<00:00,  1.50s/it]\n"
     ]
    },
    {
     "name": "stdout",
     "output_type": "stream",
     "text": [
      "[INFO] 202206171000 is cleared.\n",
      "[INFO] SentenceTransformer is saved, 0.0003910064697265625 MB\n",
      "[INFO] SimpleEmbedder is saved, 90.92114543914795 MB\n",
      "[INFO] SimpleTransformerStack is saved, 216.4018907546997 MB\n",
      "[INFO] SimpleDecoderHead_S2S is saved, 91.68078327178955 MB\n",
      "[INFO] SimpleEncoderHead_AveragePooling_SC is saved, 2.2815237045288086 MB\n",
      "[INFO] 202207021500 is saved\n",
      "[INFO] finish 202207021500\n",
      "[INFO] <class 'sentence_transformers.SentenceTransformer.SentenceTransformer'> loaded for checkpoints_sbert_1/202207021500/SentenceTransformer.pt\n",
      "[INFO] SimpleEmbedder loaded for 202207021500.\n",
      "[INFO] SimpleTransformerStack loaded for 202207021500.\n",
      "[INFO] SimpleDecoderHead_S2S loaded for 202207021500.\n",
      "[WARN] no metadata found.\n"
     ]
    },
    {
     "name": "stderr",
     "output_type": "stream",
     "text": [
      "100%|██████████| 68/68 [00:28<00:00,  2.41it/s]\n",
      " 12%|█▎        | 1/8 [00:00<00:01,  6.00it/s]"
     ]
    },
    {
     "name": "stdout",
     "output_type": "stream",
     "text": [
      "[2024-01-07 14:24:01.171921] Epoch: 0 training ends. Status: Average loss: 5.267144550295437, Average SC accuracy: 0.22037037037037038, Average S2S accuracy: 0.8533159604633276\n"
     ]
    },
    {
     "name": "stderr",
     "output_type": "stream",
     "text": [
      "100%|██████████| 8/8 [00:01<00:00,  6.12it/s]\n",
      "  0%|          | 0/68 [00:00<?, ?it/s]"
     ]
    },
    {
     "name": "stdout",
     "output_type": "stream",
     "text": [
      "[2024-01-07 14:24:02.480601] Epoch: 0 Evalutation ends. Status: Average loss: 4.0114807188510895, Average SC accuracy: 0.6166666666666667, Average S2S accuracy: 0.8679106438896189\n"
     ]
    },
    {
     "name": "stderr",
     "output_type": "stream",
     "text": [
      "100%|██████████| 68/68 [00:28<00:00,  2.43it/s]\n",
      " 12%|█▎        | 1/8 [00:00<00:01,  6.19it/s]"
     ]
    },
    {
     "name": "stdout",
     "output_type": "stream",
     "text": [
      "[2024-01-07 14:24:30.506152] Epoch: 1 training ends. Status: Average loss: 2.9952026798444638, Average SC accuracy: 0.9175925925925926, Average S2S accuracy: 0.877400727823761\n"
     ]
    },
    {
     "name": "stderr",
     "output_type": "stream",
     "text": [
      "100%|██████████| 8/8 [00:01<00:00,  6.29it/s]\n",
      "  0%|          | 0/68 [00:00<?, ?it/s]"
     ]
    },
    {
     "name": "stdout",
     "output_type": "stream",
     "text": [
      "[2024-01-07 14:24:31.780752] Epoch: 1 Evalutation ends. Status: Average loss: 2.2502551227808, Average SC accuracy: 1.0, Average S2S accuracy: 0.886149802890933\n"
     ]
    },
    {
     "name": "stderr",
     "output_type": "stream",
     "text": [
      "100%|██████████| 68/68 [00:28<00:00,  2.41it/s]\n",
      " 12%|█▎        | 1/8 [00:00<00:01,  5.85it/s]"
     ]
    },
    {
     "name": "stdout",
     "output_type": "stream",
     "text": [
      "[2024-01-07 14:24:59.966650] Epoch: 2 training ends. Status: Average loss: 1.7673097673584433, Average SC accuracy: 0.9981481481481481, Average S2S accuracy: 0.8988049455280166\n"
     ]
    },
    {
     "name": "stderr",
     "output_type": "stream",
     "text": [
      "100%|██████████| 8/8 [00:01<00:00,  6.05it/s]\n",
      "  0%|          | 0/68 [00:00<?, ?it/s]"
     ]
    },
    {
     "name": "stdout",
     "output_type": "stream",
     "text": [
      "[2024-01-07 14:25:01.291423] Epoch: 2 Evalutation ends. Status: Average loss: 1.486078917980194, Average SC accuracy: 1.0, Average S2S accuracy: 0.9064914586070959\n"
     ]
    },
    {
     "name": "stderr",
     "output_type": "stream",
     "text": [
      "100%|██████████| 68/68 [00:28<00:00,  2.42it/s]\n",
      " 12%|█▎        | 1/8 [00:00<00:01,  5.99it/s]"
     ]
    },
    {
     "name": "stdout",
     "output_type": "stream",
     "text": [
      "[2024-01-07 14:25:29.417364] Epoch: 3 training ends. Status: Average loss: 1.2002040445804596, Average SC accuracy: 0.9990740740740741, Average S2S accuracy: 0.9196638694049983\n"
     ]
    },
    {
     "name": "stderr",
     "output_type": "stream",
     "text": [
      "100%|██████████| 8/8 [00:01<00:00,  6.15it/s]\n",
      "  0%|          | 0/68 [00:00<?, ?it/s]"
     ]
    },
    {
     "name": "stdout",
     "output_type": "stream",
     "text": [
      "[2024-01-07 14:25:30.719840] Epoch: 3 Evalutation ends. Status: Average loss: 1.0557768568396568, Average SC accuracy: 1.0, Average S2S accuracy: 0.9249408672798949\n"
     ]
    },
    {
     "name": "stderr",
     "output_type": "stream",
     "text": [
      "100%|██████████| 68/68 [00:27<00:00,  2.43it/s]\n",
      " 12%|█▎        | 1/8 [00:00<00:01,  6.01it/s]"
     ]
    },
    {
     "name": "stdout",
     "output_type": "stream",
     "text": [
      "[2024-01-07 14:25:58.678169] Epoch: 4 training ends. Status: Average loss: 0.8974671372595955, Average SC accuracy: 1.0, Average S2S accuracy: 0.9351559540346003\n"
     ]
    },
    {
     "name": "stderr",
     "output_type": "stream",
     "text": [
      "100%|██████████| 8/8 [00:01<00:00,  6.10it/s]\n",
      "  0%|          | 0/68 [00:00<?, ?it/s]"
     ]
    },
    {
     "name": "stdout",
     "output_type": "stream",
     "text": [
      "[2024-01-07 14:25:59.991810] Epoch: 4 Evalutation ends. Status: Average loss: 0.8268570303916931, Average SC accuracy: 1.0, Average S2S accuracy: 0.9371353482260184\n"
     ]
    },
    {
     "name": "stderr",
     "output_type": "stream",
     "text": [
      "100%|██████████| 68/68 [00:27<00:00,  2.43it/s]\n",
      " 12%|█▎        | 1/8 [00:00<00:01,  5.79it/s]"
     ]
    },
    {
     "name": "stdout",
     "output_type": "stream",
     "text": [
      "[2024-01-07 14:26:27.934433] Epoch: 5 training ends. Status: Average loss: 0.7254085532006096, Average SC accuracy: 1.0, Average S2S accuracy: 0.9444202091632323\n"
     ]
    },
    {
     "name": "stderr",
     "output_type": "stream",
     "text": [
      "100%|██████████| 8/8 [00:01<00:00,  6.25it/s]\n",
      "  0%|          | 0/68 [00:00<?, ?it/s]"
     ]
    },
    {
     "name": "stdout",
     "output_type": "stream",
     "text": [
      "[2024-01-07 14:26:29.216001] Epoch: 5 Evalutation ends. Status: Average loss: 0.7578571811318398, Average SC accuracy: 1.0, Average S2S accuracy: 0.9439684625492772\n"
     ]
    },
    {
     "name": "stderr",
     "output_type": "stream",
     "text": [
      "100%|██████████| 68/68 [00:27<00:00,  2.44it/s]\n",
      " 12%|█▎        | 1/8 [00:00<00:01,  5.86it/s]"
     ]
    },
    {
     "name": "stdout",
     "output_type": "stream",
     "text": [
      "[2024-01-07 14:26:57.114612] Epoch: 6 training ends. Status: Average loss: 0.6276590105365304, Average SC accuracy: 1.0, Average S2S accuracy: 0.9504356610683167\n"
     ]
    },
    {
     "name": "stderr",
     "output_type": "stream",
     "text": [
      "100%|██████████| 8/8 [00:01<00:00,  6.13it/s]\n",
      "  0%|          | 0/68 [00:00<?, ?it/s]"
     ]
    },
    {
     "name": "stdout",
     "output_type": "stream",
     "text": [
      "[2024-01-07 14:26:58.422156] Epoch: 6 Evalutation ends. Status: Average loss: 0.6349312663078308, Average SC accuracy: 1.0, Average S2S accuracy: 0.9490670170827858\n"
     ]
    },
    {
     "name": "stderr",
     "output_type": "stream",
     "text": [
      "100%|██████████| 68/68 [00:28<00:00,  2.41it/s]\n",
      " 12%|█▎        | 1/8 [00:00<00:01,  5.82it/s]"
     ]
    },
    {
     "name": "stdout",
     "output_type": "stream",
     "text": [
      "[2024-01-07 14:27:26.634488] Epoch: 7 training ends. Status: Average loss: 0.5520633827237522, Average SC accuracy: 1.0, Average S2S accuracy: 0.9555901227198108\n"
     ]
    },
    {
     "name": "stderr",
     "output_type": "stream",
     "text": [
      "100%|██████████| 8/8 [00:01<00:00,  6.16it/s]\n",
      "  0%|          | 0/68 [00:00<?, ?it/s]"
     ]
    },
    {
     "name": "stdout",
     "output_type": "stream",
     "text": [
      "[2024-01-07 14:27:27.935111] Epoch: 7 Evalutation ends. Status: Average loss: 0.5680937021970749, Average SC accuracy: 1.0, Average S2S accuracy: 0.952431011826544\n"
     ]
    },
    {
     "name": "stderr",
     "output_type": "stream",
     "text": [
      "100%|██████████| 68/68 [00:28<00:00,  2.41it/s]\n",
      " 12%|█▎        | 1/8 [00:00<00:01,  5.91it/s]"
     ]
    },
    {
     "name": "stdout",
     "output_type": "stream",
     "text": [
      "[2024-01-07 14:27:56.175689] Epoch: 8 training ends. Status: Average loss: 0.4856947336126776, Average SC accuracy: 1.0, Average S2S accuracy: 0.9606125658657544\n"
     ]
    },
    {
     "name": "stderr",
     "output_type": "stream",
     "text": [
      "100%|██████████| 8/8 [00:01<00:00,  6.02it/s]\n",
      "  0%|          | 0/68 [00:00<?, ?it/s]"
     ]
    },
    {
     "name": "stdout",
     "output_type": "stream",
     "text": [
      "[2024-01-07 14:27:57.506166] Epoch: 8 Evalutation ends. Status: Average loss: 0.5030140839517117, Average SC accuracy: 1.0, Average S2S accuracy: 0.9574244415243102\n"
     ]
    },
    {
     "name": "stderr",
     "output_type": "stream",
     "text": [
      "100%|██████████| 68/68 [00:28<00:00,  2.42it/s]\n",
      " 12%|█▎        | 1/8 [00:00<00:01,  5.88it/s]"
     ]
    },
    {
     "name": "stdout",
     "output_type": "stream",
     "text": [
      "[2024-01-07 14:28:25.656313] Epoch: 9 training ends. Status: Average loss: 0.4529354024459334, Average SC accuracy: 1.0, Average S2S accuracy: 0.9621853080623127\n"
     ]
    },
    {
     "name": "stderr",
     "output_type": "stream",
     "text": [
      "100%|██████████| 8/8 [00:01<00:00,  6.25it/s]\n",
      "  0%|          | 0/25 [00:00<?, ?it/s]"
     ]
    },
    {
     "name": "stdout",
     "output_type": "stream",
     "text": [
      "[2024-01-07 14:28:26.938120] Epoch: 9 Evalutation ends. Status: Average loss: 0.5197078473865986, Average SC accuracy: 1.0, Average S2S accuracy: 0.957371879106439\n"
     ]
    },
    {
     "name": "stderr",
     "output_type": "stream",
     "text": [
      "100%|██████████| 25/25 [00:39<00:00,  1.56s/it]\n"
     ]
    },
    {
     "name": "stdout",
     "output_type": "stream",
     "text": [
      "[INFO] 202207021500 is cleared.\n",
      "[INFO] SentenceTransformer is saved, 0.0003910064697265625 MB\n",
      "[INFO] SimpleEmbedder is saved, 90.92114543914795 MB\n",
      "[INFO] SimpleTransformerStack is saved, 216.4018907546997 MB\n",
      "[INFO] SimpleDecoderHead_S2S is saved, 91.68078327178955 MB\n",
      "[INFO] SimpleEncoderHead_AveragePooling_SC is saved, 2.2815237045288086 MB\n",
      "[INFO] 202207041600 is saved\n",
      "[INFO] finish 202207041600\n",
      "[INFO] <class 'sentence_transformers.SentenceTransformer.SentenceTransformer'> loaded for checkpoints_sbert_1/202207041600/SentenceTransformer.pt\n",
      "[INFO] SimpleEmbedder loaded for 202207041600.\n",
      "[INFO] SimpleTransformerStack loaded for 202207041600.\n",
      "[INFO] SimpleDecoderHead_S2S loaded for 202207041600.\n",
      "[WARN] no metadata found.\n"
     ]
    },
    {
     "name": "stderr",
     "output_type": "stream",
     "text": [
      "100%|██████████| 41/41 [00:16<00:00,  2.45it/s]\n",
      " 20%|██        | 1/5 [00:00<00:00,  5.88it/s]"
     ]
    },
    {
     "name": "stdout",
     "output_type": "stream",
     "text": [
      "[2024-01-07 14:30:09.488350] Epoch: 0 training ends. Status: Average loss: 5.965154857170291, Average SC accuracy: 0.1728395061728395, Average S2S accuracy: 0.845135146426035\n"
     ]
    },
    {
     "name": "stderr",
     "output_type": "stream",
     "text": [
      "100%|██████████| 5/5 [00:00<00:00,  6.12it/s]\n",
      "  0%|          | 0/41 [00:00<?, ?it/s]"
     ]
    },
    {
     "name": "stdout",
     "output_type": "stream",
     "text": [
      "[2024-01-07 14:30:10.307256] Epoch: 0 Evalutation ends. Status: Average loss: 5.290987110137939, Average SC accuracy: 0.2777777777777778, Average S2S accuracy: 0.8474453217170342\n"
     ]
    },
    {
     "name": "stderr",
     "output_type": "stream",
     "text": [
      "100%|██████████| 41/41 [00:16<00:00,  2.45it/s]\n",
      " 20%|██        | 1/5 [00:00<00:00,  6.17it/s]"
     ]
    },
    {
     "name": "stdout",
     "output_type": "stream",
     "text": [
      "[2024-01-07 14:30:27.071486] Epoch: 1 training ends. Status: Average loss: 4.481946259010129, Average SC accuracy: 0.4351851851851852, Average S2S accuracy: 0.8610205957304591\n"
     ]
    },
    {
     "name": "stderr",
     "output_type": "stream",
     "text": [
      "100%|██████████| 5/5 [00:00<00:00,  6.65it/s]\n",
      "  0%|          | 0/41 [00:00<?, ?it/s]"
     ]
    },
    {
     "name": "stdout",
     "output_type": "stream",
     "text": [
      "[2024-01-07 14:30:27.824315] Epoch: 1 Evalutation ends. Status: Average loss: 3.724890184402466, Average SC accuracy: 0.7083333333333334, Average S2S accuracy: 0.8666848171340412\n"
     ]
    },
    {
     "name": "stderr",
     "output_type": "stream",
     "text": [
      "100%|██████████| 41/41 [00:16<00:00,  2.45it/s]\n",
      " 20%|██        | 1/5 [00:00<00:00,  5.76it/s]"
     ]
    },
    {
     "name": "stdout",
     "output_type": "stream",
     "text": [
      "[2024-01-07 14:30:44.529723] Epoch: 2 training ends. Status: Average loss: 3.072311959615568, Average SC accuracy: 0.8287037037037037, Average S2S accuracy: 0.8790575260057651\n"
     ]
    },
    {
     "name": "stderr",
     "output_type": "stream",
     "text": [
      "100%|██████████| 5/5 [00:00<00:00,  6.40it/s]\n",
      "  0%|          | 0/41 [00:00<?, ?it/s]"
     ]
    },
    {
     "name": "stdout",
     "output_type": "stream",
     "text": [
      "[2024-01-07 14:30:45.312804] Epoch: 2 Evalutation ends. Status: Average loss: 2.5289620876312258, Average SC accuracy: 0.9305555555555556, Average S2S accuracy: 0.883473999455486\n"
     ]
    },
    {
     "name": "stderr",
     "output_type": "stream",
     "text": [
      "100%|██████████| 41/41 [00:16<00:00,  2.46it/s]\n",
      " 20%|██        | 1/5 [00:00<00:00,  5.83it/s]"
     ]
    },
    {
     "name": "stdout",
     "output_type": "stream",
     "text": [
      "[2024-01-07 14:31:02.005284] Epoch: 3 training ends. Status: Average loss: 2.1319716529148383, Average SC accuracy: 0.9475308641975309, Average S2S accuracy: 0.8950787483811672\n"
     ]
    },
    {
     "name": "stderr",
     "output_type": "stream",
     "text": [
      "100%|██████████| 5/5 [00:00<00:00,  6.35it/s]\n",
      "  0%|          | 0/41 [00:00<?, ?it/s]"
     ]
    },
    {
     "name": "stdout",
     "output_type": "stream",
     "text": [
      "[2024-01-07 14:31:02.794035] Epoch: 3 Evalutation ends. Status: Average loss: 1.9267753839492798, Average SC accuracy: 0.9583333333333334, Average S2S accuracy: 0.8966330883020238\n"
     ]
    },
    {
     "name": "stderr",
     "output_type": "stream",
     "text": [
      "100%|██████████| 41/41 [00:16<00:00,  2.44it/s]\n",
      " 20%|██        | 1/5 [00:00<00:00,  5.87it/s]"
     ]
    },
    {
     "name": "stdout",
     "output_type": "stream",
     "text": [
      "[2024-01-07 14:31:19.566090] Epoch: 4 training ends. Status: Average loss: 1.5734844847423275, Average SC accuracy: 0.9891975308641975, Average S2S accuracy: 0.9102017796716381\n"
     ]
    },
    {
     "name": "stderr",
     "output_type": "stream",
     "text": [
      "100%|██████████| 5/5 [00:00<00:00,  6.46it/s]\n",
      "  0%|          | 0/41 [00:00<?, ?it/s]"
     ]
    },
    {
     "name": "stdout",
     "output_type": "stream",
     "text": [
      "[2024-01-07 14:31:20.341674] Epoch: 4 Evalutation ends. Status: Average loss: 1.4986456632614136, Average SC accuracy: 0.9861111111111112, Average S2S accuracy: 0.910518195843543\n"
     ]
    },
    {
     "name": "stderr",
     "output_type": "stream",
     "text": [
      "100%|██████████| 41/41 [00:16<00:00,  2.46it/s]\n",
      " 20%|██        | 1/5 [00:00<00:00,  5.89it/s]"
     ]
    },
    {
     "name": "stdout",
     "output_type": "stream",
     "text": [
      "[2024-01-07 14:31:37.026162] Epoch: 5 training ends. Status: Average loss: 1.204047919773474, Average SC accuracy: 1.0, Average S2S accuracy: 0.9236537577808414\n"
     ]
    },
    {
     "name": "stderr",
     "output_type": "stream",
     "text": [
      "100%|██████████| 5/5 [00:00<00:00,  6.41it/s]\n",
      "  0%|          | 0/41 [00:00<?, ?it/s]"
     ]
    },
    {
     "name": "stdout",
     "output_type": "stream",
     "text": [
      "[2024-01-07 14:31:37.807407] Epoch: 5 Evalutation ends. Status: Average loss: 1.2229767084121703, Average SC accuracy: 0.9861111111111112, Average S2S accuracy: 0.9228605136582267\n"
     ]
    },
    {
     "name": "stderr",
     "output_type": "stream",
     "text": [
      "100%|██████████| 41/41 [00:16<00:00,  2.50it/s]\n",
      " 20%|██        | 1/5 [00:00<00:00,  6.13it/s]"
     ]
    },
    {
     "name": "stdout",
     "output_type": "stream",
     "text": [
      "[2024-01-07 14:31:54.188802] Epoch: 6 training ends. Status: Average loss: 0.983630846186382, Average SC accuracy: 1.0, Average S2S accuracy: 0.9329698792664076\n"
     ]
    },
    {
     "name": "stderr",
     "output_type": "stream",
     "text": [
      "100%|██████████| 5/5 [00:00<00:00,  6.62it/s]\n",
      "  0%|          | 0/41 [00:00<?, ?it/s]"
     ]
    },
    {
     "name": "stdout",
     "output_type": "stream",
     "text": [
      "[2024-01-07 14:31:54.946337] Epoch: 6 Evalutation ends. Status: Average loss: 0.979950213432312, Average SC accuracy: 1.0, Average S2S accuracy: 0.9338415464198203\n"
     ]
    },
    {
     "name": "stderr",
     "output_type": "stream",
     "text": [
      "100%|██████████| 41/41 [00:16<00:00,  2.50it/s]\n",
      " 20%|██        | 1/5 [00:00<00:00,  5.84it/s]"
     ]
    },
    {
     "name": "stdout",
     "output_type": "stream",
     "text": [
      "[2024-01-07 14:32:11.361507] Epoch: 7 training ends. Status: Average loss: 0.8065851417983451, Average SC accuracy: 1.0, Average S2S accuracy: 0.9425262146467811\n"
     ]
    },
    {
     "name": "stderr",
     "output_type": "stream",
     "text": [
      "100%|██████████| 5/5 [00:00<00:00,  6.55it/s]\n",
      "  0%|          | 0/41 [00:00<?, ?it/s]"
     ]
    },
    {
     "name": "stdout",
     "output_type": "stream",
     "text": [
      "[2024-01-07 14:32:12.126483] Epoch: 7 Evalutation ends. Status: Average loss: 0.8340123891830444, Average SC accuracy: 1.0, Average S2S accuracy: 0.9413739903802523\n"
     ]
    },
    {
     "name": "stderr",
     "output_type": "stream",
     "text": [
      "100%|██████████| 41/41 [00:16<00:00,  2.46it/s]\n",
      " 20%|██        | 1/5 [00:00<00:00,  5.78it/s]"
     ]
    },
    {
     "name": "stdout",
     "output_type": "stream",
     "text": [
      "[2024-01-07 14:32:28.783202] Epoch: 8 training ends. Status: Average loss: 0.6957380219203669, Average SC accuracy: 1.0, Average S2S accuracy: 0.9486151146760246\n"
     ]
    },
    {
     "name": "stderr",
     "output_type": "stream",
     "text": [
      "100%|██████████| 5/5 [00:00<00:00,  6.38it/s]\n",
      "  0%|          | 0/41 [00:00<?, ?it/s]"
     ]
    },
    {
     "name": "stdout",
     "output_type": "stream",
     "text": [
      "[2024-01-07 14:32:29.568510] Epoch: 8 Evalutation ends. Status: Average loss: 0.779328715801239, Average SC accuracy: 1.0, Average S2S accuracy: 0.9408294763590163\n"
     ]
    },
    {
     "name": "stderr",
     "output_type": "stream",
     "text": [
      "100%|██████████| 41/41 [00:16<00:00,  2.48it/s]\n",
      " 20%|██        | 1/5 [00:00<00:00,  6.02it/s]"
     ]
    },
    {
     "name": "stdout",
     "output_type": "stream",
     "text": [
      "[2024-01-07 14:32:46.082514] Epoch: 9 training ends. Status: Average loss: 0.5984817408933872, Average SC accuracy: 1.0, Average S2S accuracy: 0.954975560847224\n"
     ]
    },
    {
     "name": "stderr",
     "output_type": "stream",
     "text": [
      "100%|██████████| 5/5 [00:00<00:00,  6.56it/s]\n",
      "  0%|          | 0/39 [00:00<?, ?it/s]"
     ]
    },
    {
     "name": "stdout",
     "output_type": "stream",
     "text": [
      "[2024-01-07 14:32:46.845707] Epoch: 9 Evalutation ends. Status: Average loss: 0.6875123023986817, Average SC accuracy: 1.0, Average S2S accuracy: 0.9470913876032307\n"
     ]
    },
    {
     "name": "stderr",
     "output_type": "stream",
     "text": [
      "100%|██████████| 39/39 [01:00<00:00,  1.54s/it]\n"
     ]
    },
    {
     "name": "stdout",
     "output_type": "stream",
     "text": [
      "[INFO] 202207041600 is cleared.\n",
      "[INFO] SentenceTransformer is saved, 0.0003910064697265625 MB\n",
      "[INFO] SimpleEmbedder is saved, 90.92114543914795 MB\n",
      "[INFO] SimpleTransformerStack is saved, 216.4018907546997 MB\n",
      "[INFO] SimpleDecoderHead_S2S is saved, 91.68078327178955 MB\n",
      "[INFO] SimpleEncoderHead_AveragePooling_SC is saved, 2.2815237045288086 MB\n",
      "[INFO] 202207151000 is saved\n",
      "[INFO] finish 202207151000\n",
      "[INFO] <class 'sentence_transformers.SentenceTransformer.SentenceTransformer'> loaded for checkpoints_sbert_1/202207151000/SentenceTransformer.pt\n",
      "[INFO] SimpleEmbedder loaded for 202207151000.\n",
      "[INFO] SimpleTransformerStack loaded for 202207151000.\n",
      "[INFO] SimpleDecoderHead_S2S loaded for 202207151000.\n",
      "[WARN] no metadata found.\n"
     ]
    },
    {
     "name": "stderr",
     "output_type": "stream",
     "text": [
      "100%|██████████| 89/89 [00:36<00:00,  2.44it/s]\n",
      " 10%|█         | 1/10 [00:00<00:01,  5.90it/s]"
     ]
    },
    {
     "name": "stdout",
     "output_type": "stream",
     "text": [
      "[2024-01-07 14:34:49.347554] Epoch: 0 training ends. Status: Average loss: 3.0007260769940496, Average SC accuracy: 0.5613540197461213, Average S2S accuracy: 0.9065830904930473\n"
     ]
    },
    {
     "name": "stderr",
     "output_type": "stream",
     "text": [
      "100%|██████████| 10/10 [00:01<00:00,  5.93it/s]\n",
      "  0%|          | 0/89 [00:00<?, ?it/s]"
     ]
    },
    {
     "name": "stdout",
     "output_type": "stream",
     "text": [
      "[2024-01-07 14:34:51.035552] Epoch: 0 Evalutation ends. Status: Average loss: 1.7800047755241395, Average SC accuracy: 0.9235668789808917, Average S2S accuracy: 0.917972943955336\n"
     ]
    },
    {
     "name": "stderr",
     "output_type": "stream",
     "text": [
      "100%|██████████| 89/89 [00:36<00:00,  2.44it/s]\n",
      " 10%|█         | 1/10 [00:00<00:01,  5.63it/s]"
     ]
    },
    {
     "name": "stdout",
     "output_type": "stream",
     "text": [
      "[2024-01-07 14:35:27.578543] Epoch: 1 training ends. Status: Average loss: 1.1709886220064056, Average SC accuracy: 0.9788434414668548, Average S2S accuracy: 0.9358314916586806\n"
     ]
    },
    {
     "name": "stderr",
     "output_type": "stream",
     "text": [
      "100%|██████████| 10/10 [00:01<00:00,  6.09it/s]\n",
      "  0%|          | 0/89 [00:00<?, ?it/s]"
     ]
    },
    {
     "name": "stdout",
     "output_type": "stream",
     "text": [
      "[2024-01-07 14:35:29.222847] Epoch: 1 Evalutation ends. Status: Average loss: 0.9203940093517303, Average SC accuracy: 0.9936305732484076, Average S2S accuracy: 0.9418939231264762\n"
     ]
    },
    {
     "name": "stderr",
     "output_type": "stream",
     "text": [
      "100%|██████████| 89/89 [00:36<00:00,  2.43it/s]\n",
      " 10%|█         | 1/10 [00:00<00:01,  5.94it/s]"
     ]
    },
    {
     "name": "stdout",
     "output_type": "stream",
     "text": [
      "[2024-01-07 14:36:05.848110] Epoch: 2 training ends. Status: Average loss: 0.7174543085392941, Average SC accuracy: 0.9950634696755994, Average S2S accuracy: 0.9500009778803465\n"
     ]
    },
    {
     "name": "stderr",
     "output_type": "stream",
     "text": [
      "100%|██████████| 10/10 [00:01<00:00,  6.07it/s]\n",
      "  0%|          | 0/89 [00:00<?, ?it/s]"
     ]
    },
    {
     "name": "stdout",
     "output_type": "stream",
     "text": [
      "[2024-01-07 14:36:07.495892] Epoch: 2 Evalutation ends. Status: Average loss: 0.6655395418405533, Average SC accuracy: 0.9936305732484076, Average S2S accuracy: 0.951342065707537\n"
     ]
    },
    {
     "name": "stderr",
     "output_type": "stream",
     "text": [
      "100%|██████████| 89/89 [00:36<00:00,  2.44it/s]\n",
      " 10%|█         | 1/10 [00:00<00:01,  5.59it/s]"
     ]
    },
    {
     "name": "stdout",
     "output_type": "stream",
     "text": [
      "[2024-01-07 14:36:44.005436] Epoch: 3 training ends. Status: Average loss: 0.5459594301293406, Average SC accuracy: 0.998589562764457, Average S2S accuracy: 0.9585378733058223\n"
     ]
    },
    {
     "name": "stderr",
     "output_type": "stream",
     "text": [
      "100%|██████████| 10/10 [00:01<00:00,  6.02it/s]\n",
      "  0%|          | 0/89 [00:00<?, ?it/s]"
     ]
    },
    {
     "name": "stdout",
     "output_type": "stream",
     "text": [
      "[2024-01-07 14:36:45.670240] Epoch: 3 Evalutation ends. Status: Average loss: 0.532722869515419, Average SC accuracy: 1.0, Average S2S accuracy: 0.9581704960274855\n"
     ]
    },
    {
     "name": "stderr",
     "output_type": "stream",
     "text": [
      "100%|██████████| 89/89 [00:36<00:00,  2.45it/s]\n",
      " 10%|█         | 1/10 [00:00<00:01,  5.88it/s]"
     ]
    },
    {
     "name": "stdout",
     "output_type": "stream",
     "text": [
      "[2024-01-07 14:37:21.974514] Epoch: 4 training ends. Status: Average loss: 0.45439894848994994, Average SC accuracy: 1.0, Average S2S accuracy: 0.9641998005124093\n"
     ]
    },
    {
     "name": "stderr",
     "output_type": "stream",
     "text": [
      "100%|██████████| 10/10 [00:01<00:00,  6.03it/s]\n",
      "  0%|          | 0/89 [00:00<?, ?it/s]"
     ]
    },
    {
     "name": "stdout",
     "output_type": "stream",
     "text": [
      "[2024-01-07 14:37:23.634844] Epoch: 4 Evalutation ends. Status: Average loss: 0.46177307367324827, Average SC accuracy: 1.0, Average S2S accuracy: 0.9623792140863217\n"
     ]
    },
    {
     "name": "stderr",
     "output_type": "stream",
     "text": [
      "100%|██████████| 89/89 [00:36<00:00,  2.47it/s]\n",
      " 10%|█         | 1/10 [00:00<00:01,  5.91it/s]"
     ]
    },
    {
     "name": "stdout",
     "output_type": "stream",
     "text": [
      "[2024-01-07 14:37:59.733371] Epoch: 5 training ends. Status: Average loss: 0.39025659005293684, Average SC accuracy: 1.0, Average S2S accuracy: 0.9678326259998826\n"
     ]
    },
    {
     "name": "stderr",
     "output_type": "stream",
     "text": [
      "100%|██████████| 10/10 [00:01<00:00,  6.04it/s]\n",
      "  0%|          | 0/89 [00:00<?, ?it/s]"
     ]
    },
    {
     "name": "stdout",
     "output_type": "stream",
     "text": [
      "[2024-01-07 14:38:01.390383] Epoch: 5 Evalutation ends. Status: Average loss: 0.4294907182455063, Average SC accuracy: 1.0, Average S2S accuracy: 0.9656431178870517\n"
     ]
    },
    {
     "name": "stderr",
     "output_type": "stream",
     "text": [
      "100%|██████████| 89/89 [00:35<00:00,  2.47it/s]\n",
      " 10%|█         | 1/10 [00:00<00:01,  5.92it/s]"
     ]
    },
    {
     "name": "stdout",
     "output_type": "stream",
     "text": [
      "[2024-01-07 14:38:37.362636] Epoch: 6 training ends. Status: Average loss: 0.3466583302851473, Average SC accuracy: 1.0, Average S2S accuracy: 0.9711574191781893\n"
     ]
    },
    {
     "name": "stderr",
     "output_type": "stream",
     "text": [
      "100%|██████████| 10/10 [00:01<00:00,  6.14it/s]\n",
      "  0%|          | 0/89 [00:00<?, ?it/s]"
     ]
    },
    {
     "name": "stdout",
     "output_type": "stream",
     "text": [
      "[2024-01-07 14:38:38.993096] Epoch: 6 Evalutation ends. Status: Average loss: 0.381673139333725, Average SC accuracy: 1.0, Average S2S accuracy: 0.9675756925059051\n"
     ]
    },
    {
     "name": "stderr",
     "output_type": "stream",
     "text": [
      "100%|██████████| 89/89 [00:36<00:00,  2.44it/s]\n",
      " 10%|█         | 1/10 [00:00<00:01,  6.01it/s]"
     ]
    },
    {
     "name": "stdout",
     "output_type": "stream",
     "text": [
      "[2024-01-07 14:39:15.525377] Epoch: 7 training ends. Status: Average loss: 0.3269632982738902, Average SC accuracy: 1.0, Average S2S accuracy: 0.9722086405507422\n"
     ]
    },
    {
     "name": "stderr",
     "output_type": "stream",
     "text": [
      "100%|██████████| 10/10 [00:01<00:00,  6.09it/s]\n",
      "  0%|          | 0/89 [00:00<?, ?it/s]"
     ]
    },
    {
     "name": "stdout",
     "output_type": "stream",
     "text": [
      "[2024-01-07 14:39:17.168082] Epoch: 7 Evalutation ends. Status: Average loss: 0.36116554737091067, Average SC accuracy: 1.0, Average S2S accuracy: 0.971054326819841\n"
     ]
    },
    {
     "name": "stderr",
     "output_type": "stream",
     "text": [
      "100%|██████████| 89/89 [00:36<00:00,  2.43it/s]\n",
      " 10%|█         | 1/10 [00:00<00:01,  5.97it/s]"
     ]
    },
    {
     "name": "stdout",
     "output_type": "stream",
     "text": [
      "[2024-01-07 14:39:53.766500] Epoch: 8 training ends. Status: Average loss: 0.3024643092008119, Average SC accuracy: 1.0, Average S2S accuracy: 0.9747462400500675\n"
     ]
    },
    {
     "name": "stderr",
     "output_type": "stream",
     "text": [
      "100%|██████████| 10/10 [00:01<00:00,  5.98it/s]\n",
      "  0%|          | 0/89 [00:00<?, ?it/s]"
     ]
    },
    {
     "name": "stdout",
     "output_type": "stream",
     "text": [
      "[2024-01-07 14:39:55.441233] Epoch: 8 Evalutation ends. Status: Average loss: 0.3620732992887497, Average SC accuracy: 1.0, Average S2S accuracy: 0.9699377281511703\n"
     ]
    },
    {
     "name": "stderr",
     "output_type": "stream",
     "text": [
      "100%|██████████| 89/89 [00:36<00:00,  2.43it/s]\n",
      " 10%|█         | 1/10 [00:00<00:01,  5.89it/s]"
     ]
    },
    {
     "name": "stdout",
     "output_type": "stream",
     "text": [
      "[2024-01-07 14:40:32.043638] Epoch: 9 training ends. Status: Average loss: 0.2865808296404528, Average SC accuracy: 1.0, Average S2S accuracy: 0.9757338992000939\n"
     ]
    },
    {
     "name": "stderr",
     "output_type": "stream",
     "text": [
      "100%|██████████| 10/10 [00:01<00:00,  6.07it/s]\n",
      "  0%|          | 0/28 [00:00<?, ?it/s]"
     ]
    },
    {
     "name": "stdout",
     "output_type": "stream",
     "text": [
      "[2024-01-07 14:40:33.694577] Epoch: 9 Evalutation ends. Status: Average loss: 0.37663248777389524, Average SC accuracy: 1.0, Average S2S accuracy: 0.9683057762508053\n"
     ]
    },
    {
     "name": "stderr",
     "output_type": "stream",
     "text": [
      "100%|██████████| 28/28 [00:42<00:00,  1.52s/it]\n"
     ]
    },
    {
     "name": "stdout",
     "output_type": "stream",
     "text": [
      "[INFO] 202207151000 is cleared.\n",
      "[INFO] SentenceTransformer is saved, 0.0003910064697265625 MB\n",
      "[INFO] SimpleEmbedder is saved, 90.92114543914795 MB\n",
      "[INFO] SimpleTransformerStack is saved, 216.4018907546997 MB\n",
      "[INFO] SimpleDecoderHead_S2S is saved, 91.68078327178955 MB\n",
      "[INFO] SimpleEncoderHead_AveragePooling_SC is saved, 2.2815237045288086 MB\n",
      "[INFO] 202207221500 is saved\n",
      "[INFO] finish 202207221500\n",
      "[INFO] <class 'sentence_transformers.SentenceTransformer.SentenceTransformer'> loaded for checkpoints_sbert_1/202207221500/SentenceTransformer.pt\n",
      "[INFO] SimpleEmbedder loaded for 202207221500.\n",
      "[INFO] SimpleTransformerStack loaded for 202207221500.\n",
      "[INFO] SimpleDecoderHead_S2S loaded for 202207221500.\n",
      "[WARN] no metadata found.\n"
     ]
    },
    {
     "name": "stderr",
     "output_type": "stream",
     "text": [
      "100%|██████████| 68/68 [00:28<00:00,  2.43it/s]\n",
      " 12%|█▎        | 1/8 [00:00<00:01,  5.94it/s]"
     ]
    },
    {
     "name": "stdout",
     "output_type": "stream",
     "text": [
      "[2024-01-07 14:42:10.049019] Epoch: 0 training ends. Status: Average loss: 2.837695102481281, Average SC accuracy: 0.25277777777777777, Average S2S accuracy: 0.9279348555885205\n"
     ]
    },
    {
     "name": "stderr",
     "output_type": "stream",
     "text": [
      "100%|██████████| 8/8 [00:01<00:00,  6.17it/s]\n",
      "  0%|          | 0/68 [00:00<?, ?it/s]"
     ]
    },
    {
     "name": "stdout",
     "output_type": "stream",
     "text": [
      "[2024-01-07 14:42:11.347047] Epoch: 0 Evalutation ends. Status: Average loss: 1.9386443495750427, Average SC accuracy: 0.725, Average S2S accuracy: 0.9475111678366305\n"
     ]
    },
    {
     "name": "stderr",
     "output_type": "stream",
     "text": [
      "100%|██████████| 68/68 [00:28<00:00,  2.42it/s]\n",
      " 12%|█▎        | 1/8 [00:00<00:01,  5.85it/s]"
     ]
    },
    {
     "name": "stdout",
     "output_type": "stream",
     "text": [
      "[2024-01-07 14:42:39.399378] Epoch: 1 training ends. Status: Average loss: 1.2850135775173412, Average SC accuracy: 0.9435185185185185, Average S2S accuracy: 0.9492077884069116\n"
     ]
    },
    {
     "name": "stderr",
     "output_type": "stream",
     "text": [
      "100%|██████████| 8/8 [00:01<00:00,  6.29it/s]\n",
      "  0%|          | 0/68 [00:00<?, ?it/s]"
     ]
    },
    {
     "name": "stdout",
     "output_type": "stream",
     "text": [
      "[2024-01-07 14:42:40.672246] Epoch: 1 Evalutation ends. Status: Average loss: 0.769208125770092, Average SC accuracy: 1.0, Average S2S accuracy: 0.954158689640502\n"
     ]
    },
    {
     "name": "stderr",
     "output_type": "stream",
     "text": [
      "100%|██████████| 68/68 [00:27<00:00,  2.45it/s]\n",
      " 12%|█▎        | 1/8 [00:00<00:01,  6.58it/s]"
     ]
    },
    {
     "name": "stdout",
     "output_type": "stream",
     "text": [
      "[2024-01-07 14:43:08.427793] Epoch: 2 training ends. Status: Average loss: 0.6385002228267053, Average SC accuracy: 0.9990740740740741, Average S2S accuracy: 0.9562892017055074\n"
     ]
    },
    {
     "name": "stderr",
     "output_type": "stream",
     "text": [
      "100%|██████████| 8/8 [00:01<00:00,  6.93it/s]\n",
      "  0%|          | 0/68 [00:00<?, ?it/s]"
     ]
    },
    {
     "name": "stdout",
     "output_type": "stream",
     "text": [
      "[2024-01-07 14:43:09.583740] Epoch: 2 Evalutation ends. Status: Average loss: 0.54672996327281, Average SC accuracy: 1.0, Average S2S accuracy: 0.9594767070835992\n"
     ]
    },
    {
     "name": "stderr",
     "output_type": "stream",
     "text": [
      "100%|██████████| 68/68 [00:27<00:00,  2.49it/s]\n",
      " 12%|█▎        | 1/8 [00:00<00:01,  5.94it/s]"
     ]
    },
    {
     "name": "stdout",
     "output_type": "stream",
     "text": [
      "[2024-01-07 14:43:36.904736] Epoch: 3 training ends. Status: Average loss: 0.5054817699334201, Average SC accuracy: 1.0, Average S2S accuracy: 0.961281770238553\n"
     ]
    },
    {
     "name": "stderr",
     "output_type": "stream",
     "text": [
      "100%|██████████| 8/8 [00:01<00:00,  6.18it/s]\n",
      "  0%|          | 0/68 [00:00<?, ?it/s]"
     ]
    },
    {
     "name": "stdout",
     "output_type": "stream",
     "text": [
      "[2024-01-07 14:43:38.201257] Epoch: 3 Evalutation ends. Status: Average loss: 0.4651718735694885, Average SC accuracy: 1.0, Average S2S accuracy: 0.9642097426079558\n"
     ]
    },
    {
     "name": "stderr",
     "output_type": "stream",
     "text": [
      "100%|██████████| 68/68 [00:27<00:00,  2.45it/s]\n",
      " 12%|█▎        | 1/8 [00:00<00:01,  6.00it/s]"
     ]
    },
    {
     "name": "stdout",
     "output_type": "stream",
     "text": [
      "[2024-01-07 14:44:06.003380] Epoch: 4 training ends. Status: Average loss: 0.43715015229056864, Average SC accuracy: 1.0, Average S2S accuracy: 0.9655397999529436\n"
     ]
    },
    {
     "name": "stderr",
     "output_type": "stream",
     "text": [
      "100%|██████████| 8/8 [00:01<00:00,  6.21it/s]\n",
      "  0%|          | 0/68 [00:00<?, ?it/s]"
     ]
    },
    {
     "name": "stdout",
     "output_type": "stream",
     "text": [
      "[2024-01-07 14:44:07.294601] Epoch: 4 Evalutation ends. Status: Average loss: 0.43243055418133736, Average SC accuracy: 1.0, Average S2S accuracy: 0.9650606253988513\n"
     ]
    },
    {
     "name": "stderr",
     "output_type": "stream",
     "text": [
      "100%|██████████| 68/68 [00:27<00:00,  2.45it/s]\n",
      " 12%|█▎        | 1/8 [00:00<00:01,  5.77it/s]"
     ]
    },
    {
     "name": "stdout",
     "output_type": "stream",
     "text": [
      "[2024-01-07 14:44:35.055880] Epoch: 5 training ends. Status: Average loss: 0.39822183768538866, Average SC accuracy: 1.0, Average S2S accuracy: 0.9677950636695952\n"
     ]
    },
    {
     "name": "stderr",
     "output_type": "stream",
     "text": [
      "100%|██████████| 8/8 [00:01<00:00,  6.20it/s]\n",
      "  0%|          | 0/68 [00:00<?, ?it/s]"
     ]
    },
    {
     "name": "stdout",
     "output_type": "stream",
     "text": [
      "[2024-01-07 14:44:36.346927] Epoch: 5 Evalutation ends. Status: Average loss: 0.4068836346268654, Average SC accuracy: 1.0, Average S2S accuracy: 0.9666028504573495\n"
     ]
    },
    {
     "name": "stderr",
     "output_type": "stream",
     "text": [
      "100%|██████████| 68/68 [00:27<00:00,  2.43it/s]\n",
      " 12%|█▎        | 1/8 [00:00<00:01,  6.23it/s]"
     ]
    },
    {
     "name": "stdout",
     "output_type": "stream",
     "text": [
      "[2024-01-07 14:45:04.335158] Epoch: 6 training ends. Status: Average loss: 0.3615112403298126, Average SC accuracy: 1.0, Average S2S accuracy: 0.9697748753292513\n"
     ]
    },
    {
     "name": "stderr",
     "output_type": "stream",
     "text": [
      "100%|██████████| 8/8 [00:01<00:00,  6.26it/s]\n",
      "  0%|          | 0/68 [00:00<?, ?it/s]"
     ]
    },
    {
     "name": "stdout",
     "output_type": "stream",
     "text": [
      "[2024-01-07 14:45:05.614919] Epoch: 6 Evalutation ends. Status: Average loss: 0.38607199490070343, Average SC accuracy: 1.0, Average S2S accuracy: 0.9680387151669857\n"
     ]
    },
    {
     "name": "stderr",
     "output_type": "stream",
     "text": [
      "100%|██████████| 68/68 [00:27<00:00,  2.44it/s]\n",
      " 12%|█▎        | 1/8 [00:00<00:01,  6.07it/s]"
     ]
    },
    {
     "name": "stdout",
     "output_type": "stream",
     "text": [
      "[2024-01-07 14:45:33.437682] Epoch: 7 training ends. Status: Average loss: 0.34018664828994694, Average SC accuracy: 1.0, Average S2S accuracy: 0.9719555374471333\n"
     ]
    },
    {
     "name": "stderr",
     "output_type": "stream",
     "text": [
      "100%|██████████| 8/8 [00:01<00:00,  6.20it/s]\n",
      "  0%|          | 0/68 [00:00<?, ?it/s]"
     ]
    },
    {
     "name": "stdout",
     "output_type": "stream",
     "text": [
      "[2024-01-07 14:45:34.729747] Epoch: 7 Evalutation ends. Status: Average loss: 0.3818192221224308, Average SC accuracy: 1.0, Average S2S accuracy: 0.9692086790044672\n"
     ]
    },
    {
     "name": "stderr",
     "output_type": "stream",
     "text": [
      "100%|██████████| 68/68 [00:28<00:00,  2.42it/s]\n",
      " 12%|█▎        | 1/8 [00:00<00:01,  5.81it/s]"
     ]
    },
    {
     "name": "stdout",
     "output_type": "stream",
     "text": [
      "[2024-01-07 14:46:02.841197] Epoch: 8 training ends. Status: Average loss: 0.31831805758616505, Average SC accuracy: 1.0, Average S2S accuracy: 0.9731032543512818\n"
     ]
    },
    {
     "name": "stderr",
     "output_type": "stream",
     "text": [
      "100%|██████████| 8/8 [00:01<00:00,  6.11it/s]\n",
      "  0%|          | 0/68 [00:00<?, ?it/s]"
     ]
    },
    {
     "name": "stdout",
     "output_type": "stream",
     "text": [
      "[2024-01-07 14:46:04.152375] Epoch: 8 Evalutation ends. Status: Average loss: 0.35822775214910507, Average SC accuracy: 1.0, Average S2S accuracy: 0.9682514358647096\n"
     ]
    },
    {
     "name": "stderr",
     "output_type": "stream",
     "text": [
      "100%|██████████| 68/68 [00:27<00:00,  2.43it/s]\n",
      " 12%|█▎        | 1/8 [00:00<00:01,  5.89it/s]"
     ]
    },
    {
     "name": "stdout",
     "output_type": "stream",
     "text": [
      "[2024-01-07 14:46:32.145699] Epoch: 9 training ends. Status: Average loss: 0.30580588364425826, Average SC accuracy: 1.0, Average S2S accuracy: 0.9740730751352872\n"
     ]
    },
    {
     "name": "stderr",
     "output_type": "stream",
     "text": [
      "100%|██████████| 8/8 [00:01<00:00,  6.12it/s]\n",
      "  0%|          | 0/3 [00:00<?, ?it/s]"
     ]
    },
    {
     "name": "stdout",
     "output_type": "stream",
     "text": [
      "[2024-01-07 14:46:33.453824] Epoch: 9 Evalutation ends. Status: Average loss: 0.38189883530139923, Average SC accuracy: 1.0, Average S2S accuracy: 0.9689427781323122\n"
     ]
    },
    {
     "name": "stderr",
     "output_type": "stream",
     "text": [
      "100%|██████████| 3/3 [00:03<00:00,  1.21s/it]\n"
     ]
    },
    {
     "name": "stdout",
     "output_type": "stream",
     "text": [
      "[INFO] 202207221500 is cleared.\n",
      "[INFO] SentenceTransformer is saved, 0.0003910064697265625 MB\n",
      "[INFO] SimpleEmbedder is saved, 90.92114543914795 MB\n",
      "[INFO] SimpleTransformerStack is saved, 216.4018907546997 MB\n",
      "[INFO] SimpleDecoderHead_S2S is saved, 91.68078327178955 MB\n",
      "[INFO] SimpleEncoderHead_AveragePooling_SC is saved, 2.2815237045288086 MB\n",
      "[INFO] 202207260728 is saved\n",
      "[INFO] finish 202207260728\n",
      "[INFO] <class 'sentence_transformers.SentenceTransformer.SentenceTransformer'> loaded for checkpoints_sbert_1/202207260728/SentenceTransformer.pt\n",
      "[INFO] SimpleEmbedder loaded for 202207260728.\n",
      "[INFO] SimpleTransformerStack loaded for 202207260728.\n",
      "[INFO] SimpleDecoderHead_S2S loaded for 202207260728.\n",
      "[WARN] no metadata found.\n"
     ]
    },
    {
     "name": "stderr",
     "output_type": "stream",
     "text": [
      "100%|██████████| 3/3 [00:01<00:00,  2.82it/s]\n",
      "100%|██████████| 1/1 [00:00<00:00, 14.67it/s]\n",
      "  0%|          | 0/3 [00:00<?, ?it/s]"
     ]
    },
    {
     "name": "stdout",
     "output_type": "stream",
     "text": [
      "[2024-01-07 14:47:15.358174] Epoch: 0 training ends. Status: Average loss: 6.069618225097656, Average SC accuracy: 0.4146341463414634, Average S2S accuracy: 0.8388941849380362\n",
      "[2024-01-07 14:47:15.427926] Epoch: 0 Evalutation ends. Status: Average loss: 6.079046726226807, Average SC accuracy: 0.5, Average S2S accuracy: 0.8395348837209302\n"
     ]
    },
    {
     "name": "stderr",
     "output_type": "stream",
     "text": [
      "100%|██████████| 3/3 [00:01<00:00,  2.83it/s]\n",
      "100%|██████████| 1/1 [00:00<00:00, 15.05it/s]\n",
      "  0%|          | 0/3 [00:00<?, ?it/s]"
     ]
    },
    {
     "name": "stdout",
     "output_type": "stream",
     "text": [
      "[2024-01-07 14:47:16.491192] Epoch: 1 training ends. Status: Average loss: 5.979056199391683, Average SC accuracy: 0.4146341463414634, Average S2S accuracy: 0.838417540514776\n",
      "[2024-01-07 14:47:16.559974] Epoch: 1 Evalutation ends. Status: Average loss: 6.199891090393066, Average SC accuracy: 0.25, Average S2S accuracy: 0.8348837209302326\n"
     ]
    },
    {
     "name": "stderr",
     "output_type": "stream",
     "text": [
      "100%|██████████| 3/3 [00:01<00:00,  2.84it/s]\n",
      "100%|██████████| 1/1 [00:00<00:00, 14.54it/s]\n",
      "  0%|          | 0/3 [00:00<?, ?it/s]"
     ]
    },
    {
     "name": "stdout",
     "output_type": "stream",
     "text": [
      "[2024-01-07 14:47:17.618899] Epoch: 2 training ends. Status: Average loss: 5.924286524454753, Average SC accuracy: 0.4878048780487805, Average S2S accuracy: 0.8377025738798856\n",
      "[2024-01-07 14:47:17.689184] Epoch: 2 Evalutation ends. Status: Average loss: 6.189807415008545, Average SC accuracy: 0.25, Average S2S accuracy: 0.8372093023255814\n"
     ]
    },
    {
     "name": "stderr",
     "output_type": "stream",
     "text": [
      "100%|██████████| 3/3 [00:01<00:00,  2.80it/s]\n",
      "100%|██████████| 1/1 [00:00<00:00, 14.74it/s]\n",
      "  0%|          | 0/3 [00:00<?, ?it/s]"
     ]
    },
    {
     "name": "stdout",
     "output_type": "stream",
     "text": [
      "[2024-01-07 14:47:18.761572] Epoch: 3 training ends. Status: Average loss: 5.812260627746582, Average SC accuracy: 0.5365853658536586, Average S2S accuracy: 0.8455672068636797\n",
      "[2024-01-07 14:47:18.831129] Epoch: 3 Evalutation ends. Status: Average loss: 5.94356632232666, Average SC accuracy: 0.75, Average S2S accuracy: 0.8348837209302326\n"
     ]
    },
    {
     "name": "stderr",
     "output_type": "stream",
     "text": [
      "100%|██████████| 3/3 [00:01<00:00,  2.88it/s]\n",
      "100%|██████████| 1/1 [00:00<00:00, 16.22it/s]\n",
      "  0%|          | 0/3 [00:00<?, ?it/s]"
     ]
    },
    {
     "name": "stdout",
     "output_type": "stream",
     "text": [
      "[2024-01-07 14:47:19.872877] Epoch: 4 training ends. Status: Average loss: 5.702610333760579, Average SC accuracy: 0.5121951219512195, Average S2S accuracy: 0.84628217349857\n",
      "[2024-01-07 14:47:19.936194] Epoch: 4 Evalutation ends. Status: Average loss: 5.760196685791016, Average SC accuracy: 0.75, Average S2S accuracy: 0.8348837209302326\n"
     ]
    },
    {
     "name": "stderr",
     "output_type": "stream",
     "text": [
      "100%|██████████| 3/3 [00:01<00:00,  2.85it/s]\n",
      "100%|██████████| 1/1 [00:00<00:00, 13.25it/s]\n",
      "  0%|          | 0/3 [00:00<?, ?it/s]"
     ]
    },
    {
     "name": "stdout",
     "output_type": "stream",
     "text": [
      "[2024-01-07 14:47:20.989600] Epoch: 5 training ends. Status: Average loss: 5.508856455485026, Average SC accuracy: 0.5365853658536586, Average S2S accuracy: 0.8469971401334604\n",
      "[2024-01-07 14:47:21.066730] Epoch: 5 Evalutation ends. Status: Average loss: 5.738621711730957, Average SC accuracy: 0.75, Average S2S accuracy: 0.8372093023255814\n"
     ]
    },
    {
     "name": "stderr",
     "output_type": "stream",
     "text": [
      "100%|██████████| 3/3 [00:01<00:00,  2.89it/s]\n",
      "100%|██████████| 1/1 [00:00<00:00, 15.68it/s]\n",
      "  0%|          | 0/3 [00:00<?, ?it/s]"
     ]
    },
    {
     "name": "stdout",
     "output_type": "stream",
     "text": [
      "[2024-01-07 14:47:22.105267] Epoch: 6 training ends. Status: Average loss: 5.265838781992595, Average SC accuracy: 0.6585365853658537, Average S2S accuracy: 0.8477121067683508\n",
      "[2024-01-07 14:47:22.170733] Epoch: 6 Evalutation ends. Status: Average loss: 5.285808086395264, Average SC accuracy: 0.25, Average S2S accuracy: 0.8511627906976744\n"
     ]
    },
    {
     "name": "stderr",
     "output_type": "stream",
     "text": [
      "100%|██████████| 3/3 [00:01<00:00,  2.83it/s]\n",
      "100%|██████████| 1/1 [00:00<00:00, 15.27it/s]\n",
      "  0%|          | 0/3 [00:00<?, ?it/s]"
     ]
    },
    {
     "name": "stdout",
     "output_type": "stream",
     "text": [
      "[2024-01-07 14:47:23.232835] Epoch: 7 training ends. Status: Average loss: 5.0529937744140625, Average SC accuracy: 0.7560975609756098, Average S2S accuracy: 0.8486653956148713\n",
      "[2024-01-07 14:47:23.299975] Epoch: 7 Evalutation ends. Status: Average loss: 5.359861373901367, Average SC accuracy: 1.0, Average S2S accuracy: 0.8302325581395349\n"
     ]
    },
    {
     "name": "stderr",
     "output_type": "stream",
     "text": [
      "100%|██████████| 3/3 [00:01<00:00,  2.84it/s]\n",
      "100%|██████████| 1/1 [00:00<00:00, 14.97it/s]\n",
      "  0%|          | 0/3 [00:00<?, ?it/s]"
     ]
    },
    {
     "name": "stdout",
     "output_type": "stream",
     "text": [
      "[2024-01-07 14:47:24.359293] Epoch: 8 training ends. Status: Average loss: 4.845944404602051, Average SC accuracy: 0.8048780487804879, Average S2S accuracy: 0.8510486177311726\n",
      "[2024-01-07 14:47:24.427627] Epoch: 8 Evalutation ends. Status: Average loss: 5.211766242980957, Average SC accuracy: 0.75, Average S2S accuracy: 0.8465116279069768\n"
     ]
    },
    {
     "name": "stderr",
     "output_type": "stream",
     "text": [
      "100%|██████████| 3/3 [00:01<00:00,  2.83it/s]\n",
      "100%|██████████| 1/1 [00:00<00:00, 14.74it/s]\n",
      "  0%|          | 0/20 [00:00<?, ?it/s]"
     ]
    },
    {
     "name": "stdout",
     "output_type": "stream",
     "text": [
      "[2024-01-07 14:47:25.488841] Epoch: 9 training ends. Status: Average loss: 4.672342459360759, Average SC accuracy: 0.8780487804878049, Average S2S accuracy: 0.8534318398474738\n",
      "[2024-01-07 14:47:25.559609] Epoch: 9 Evalutation ends. Status: Average loss: 4.848418235778809, Average SC accuracy: 0.75, Average S2S accuracy: 0.8441860465116279\n"
     ]
    },
    {
     "name": "stderr",
     "output_type": "stream",
     "text": [
      "100%|██████████| 20/20 [00:45<00:00,  2.28s/it]\n"
     ]
    },
    {
     "name": "stdout",
     "output_type": "stream",
     "text": [
      "[INFO] 202207260728 is cleared.\n",
      "[INFO] SentenceTransformer is saved, 0.0003910064697265625 MB\n",
      "[INFO] SimpleEmbedder is saved, 90.92114543914795 MB\n",
      "[INFO] SimpleTransformerStack is saved, 216.4018907546997 MB\n",
      "[INFO] SimpleDecoderHead_S2S is saved, 91.68078327178955 MB\n",
      "[INFO] SimpleEncoderHead_AveragePooling_SC is saved, 2.2815237045288086 MB\n",
      "[INFO] 202208031141 is saved\n",
      "[INFO] finish 202208031141\n",
      "[INFO] <class 'sentence_transformers.SentenceTransformer.SentenceTransformer'> loaded for checkpoints_sbert_1/202208031141/SentenceTransformer.pt\n",
      "[INFO] SimpleEmbedder loaded for 202208031141.\n",
      "[INFO] SimpleTransformerStack loaded for 202208031141.\n",
      "[INFO] SimpleDecoderHead_S2S loaded for 202208031141.\n",
      "[WARN] no metadata found.\n"
     ]
    },
    {
     "name": "stderr",
     "output_type": "stream",
     "text": [
      "100%|██████████| 46/46 [00:19<00:00,  2.38it/s]\n",
      " 17%|█▋        | 1/6 [00:00<00:00,  5.56it/s]"
     ]
    },
    {
     "name": "stdout",
     "output_type": "stream",
     "text": [
      "[2024-01-07 14:49:08.189299] Epoch: 0 training ends. Status: Average loss: 5.5274228738701865, Average SC accuracy: 0.17832647462277093, Average S2S accuracy: 0.850986603781626\n"
     ]
    },
    {
     "name": "stderr",
     "output_type": "stream",
     "text": [
      "100%|██████████| 6/6 [00:00<00:00,  6.47it/s]\n",
      "  0%|          | 0/46 [00:00<?, ?it/s]"
     ]
    },
    {
     "name": "stdout",
     "output_type": "stream",
     "text": [
      "[2024-01-07 14:49:09.118138] Epoch: 0 Evalutation ends. Status: Average loss: 4.08556866645813, Average SC accuracy: 0.654320987654321, Average S2S accuracy: 0.8808704855139569\n"
     ]
    },
    {
     "name": "stderr",
     "output_type": "stream",
     "text": [
      "100%|██████████| 46/46 [00:19<00:00,  2.39it/s]\n",
      " 17%|█▋        | 1/6 [00:00<00:00,  5.80it/s]"
     ]
    },
    {
     "name": "stdout",
     "output_type": "stream",
     "text": [
      "[2024-01-07 14:49:28.394204] Epoch: 1 training ends. Status: Average loss: 3.0999585234600566, Average SC accuracy: 0.877914951989026, Average S2S accuracy: 0.8833690849942466\n"
     ]
    },
    {
     "name": "stderr",
     "output_type": "stream",
     "text": [
      "100%|██████████| 6/6 [00:00<00:00,  6.64it/s]\n",
      "  0%|          | 0/46 [00:00<?, ?it/s]"
     ]
    },
    {
     "name": "stdout",
     "output_type": "stream",
     "text": [
      "[2024-01-07 14:49:29.299549] Epoch: 1 Evalutation ends. Status: Average loss: 1.9836470087369282, Average SC accuracy: 1.0, Average S2S accuracy: 0.904550866516735\n"
     ]
    },
    {
     "name": "stderr",
     "output_type": "stream",
     "text": [
      "100%|██████████| 46/46 [00:19<00:00,  2.40it/s]\n",
      " 17%|█▋        | 1/6 [00:00<00:00,  5.46it/s]"
     ]
    },
    {
     "name": "stdout",
     "output_type": "stream",
     "text": [
      "[2024-01-07 14:49:48.494007] Epoch: 2 training ends. Status: Average loss: 1.6203754077786985, Average SC accuracy: 1.0, Average S2S accuracy: 0.908776440839288\n"
     ]
    },
    {
     "name": "stderr",
     "output_type": "stream",
     "text": [
      "100%|██████████| 6/6 [00:00<00:00,  6.47it/s]\n",
      "  0%|          | 0/46 [00:00<?, ?it/s]"
     ]
    },
    {
     "name": "stdout",
     "output_type": "stream",
     "text": [
      "[2024-01-07 14:49:49.424973] Epoch: 2 Evalutation ends. Status: Average loss: 1.1389672060807545, Average SC accuracy: 1.0, Average S2S accuracy: 0.9274374917317105\n"
     ]
    },
    {
     "name": "stderr",
     "output_type": "stream",
     "text": [
      "100%|██████████| 46/46 [00:19<00:00,  2.39it/s]\n",
      " 17%|█▋        | 1/6 [00:00<00:00,  5.43it/s]"
     ]
    },
    {
     "name": "stdout",
     "output_type": "stream",
     "text": [
      "[2024-01-07 14:50:08.634575] Epoch: 3 training ends. Status: Average loss: 1.0174621019674384, Average SC accuracy: 1.0, Average S2S accuracy: 0.9314917676473513\n"
     ]
    },
    {
     "name": "stderr",
     "output_type": "stream",
     "text": [
      "100%|██████████| 6/6 [00:00<00:00,  6.48it/s]\n",
      "  0%|          | 0/46 [00:00<?, ?it/s]"
     ]
    },
    {
     "name": "stdout",
     "output_type": "stream",
     "text": [
      "[2024-01-07 14:50:09.561159] Epoch: 3 Evalutation ends. Status: Average loss: 0.8055979410807291, Average SC accuracy: 1.0, Average S2S accuracy: 0.9405344622304538\n"
     ]
    },
    {
     "name": "stderr",
     "output_type": "stream",
     "text": [
      "100%|██████████| 46/46 [00:19<00:00,  2.40it/s]\n",
      " 17%|█▋        | 1/6 [00:00<00:00,  5.66it/s]"
     ]
    },
    {
     "name": "stdout",
     "output_type": "stream",
     "text": [
      "[2024-01-07 14:50:28.736256] Epoch: 4 training ends. Status: Average loss: 0.7261192630166593, Average SC accuracy: 1.0, Average S2S accuracy: 0.9460741835125651\n"
     ]
    },
    {
     "name": "stderr",
     "output_type": "stream",
     "text": [
      "100%|██████████| 6/6 [00:00<00:00,  6.54it/s]\n",
      "  0%|          | 0/46 [00:00<?, ?it/s]"
     ]
    },
    {
     "name": "stdout",
     "output_type": "stream",
     "text": [
      "[2024-01-07 14:50:29.655940] Epoch: 4 Evalutation ends. Status: Average loss: 0.6073368340730667, Average SC accuracy: 1.0, Average S2S accuracy: 0.9502579706310359\n"
     ]
    },
    {
     "name": "stderr",
     "output_type": "stream",
     "text": [
      "100%|██████████| 46/46 [00:19<00:00,  2.39it/s]\n",
      " 17%|█▋        | 1/6 [00:00<00:00,  5.65it/s]"
     ]
    },
    {
     "name": "stdout",
     "output_type": "stream",
     "text": [
      "[2024-01-07 14:50:48.880956] Epoch: 5 training ends. Status: Average loss: 0.5654174782659697, Average SC accuracy: 1.0, Average S2S accuracy: 0.9556987200431861\n"
     ]
    },
    {
     "name": "stderr",
     "output_type": "stream",
     "text": [
      "100%|██████████| 6/6 [00:00<00:00,  6.61it/s]\n",
      "  0%|          | 0/46 [00:00<?, ?it/s]"
     ]
    },
    {
     "name": "stdout",
     "output_type": "stream",
     "text": [
      "[2024-01-07 14:50:49.790366] Epoch: 5 Evalutation ends. Status: Average loss: 0.48997895419597626, Average SC accuracy: 1.0, Average S2S accuracy: 0.9586585527186136\n"
     ]
    },
    {
     "name": "stderr",
     "output_type": "stream",
     "text": [
      "100%|██████████| 46/46 [00:19<00:00,  2.38it/s]\n",
      " 17%|█▋        | 1/6 [00:00<00:00,  5.34it/s]"
     ]
    },
    {
     "name": "stdout",
     "output_type": "stream",
     "text": [
      "[2024-01-07 14:51:09.151303] Epoch: 6 training ends. Status: Average loss: 0.4904079987950947, Average SC accuracy: 1.0, Average S2S accuracy: 0.9608838947054394\n"
     ]
    },
    {
     "name": "stderr",
     "output_type": "stream",
     "text": [
      "100%|██████████| 6/6 [00:00<00:00,  6.45it/s]\n",
      "  0%|          | 0/46 [00:00<?, ?it/s]"
     ]
    },
    {
     "name": "stdout",
     "output_type": "stream",
     "text": [
      "[2024-01-07 14:51:10.083410] Epoch: 6 Evalutation ends. Status: Average loss: 0.3919142832358678, Average SC accuracy: 1.0, Average S2S accuracy: 0.9628919169202276\n"
     ]
    },
    {
     "name": "stderr",
     "output_type": "stream",
     "text": [
      "100%|██████████| 46/46 [00:19<00:00,  2.39it/s]\n",
      " 17%|█▋        | 1/6 [00:00<00:00,  5.58it/s]"
     ]
    },
    {
     "name": "stdout",
     "output_type": "stream",
     "text": [
      "[2024-01-07 14:51:29.305515] Epoch: 7 training ends. Status: Average loss: 0.43356566260690277, Average SC accuracy: 1.0, Average S2S accuracy: 0.964371457389229\n"
     ]
    },
    {
     "name": "stderr",
     "output_type": "stream",
     "text": [
      "100%|██████████| 6/6 [00:00<00:00,  6.43it/s]\n",
      "  0%|          | 0/46 [00:00<?, ?it/s]"
     ]
    },
    {
     "name": "stdout",
     "output_type": "stream",
     "text": [
      "[2024-01-07 14:51:30.241483] Epoch: 7 Evalutation ends. Status: Average loss: 0.4082799603541692, Average SC accuracy: 1.0, Average S2S accuracy: 0.9627596242889271\n"
     ]
    },
    {
     "name": "stderr",
     "output_type": "stream",
     "text": [
      "100%|██████████| 46/46 [00:19<00:00,  2.38it/s]\n",
      " 17%|█▋        | 1/6 [00:00<00:00,  5.63it/s]"
     ]
    },
    {
     "name": "stdout",
     "output_type": "stream",
     "text": [
      "[2024-01-07 14:51:49.572200] Epoch: 8 training ends. Status: Average loss: 0.3872338533401489, Average SC accuracy: 1.0, Average S2S accuracy: 0.968157345190573\n"
     ]
    },
    {
     "name": "stderr",
     "output_type": "stream",
     "text": [
      "100%|██████████| 6/6 [00:00<00:00,  6.41it/s]\n",
      "  0%|          | 0/46 [00:00<?, ?it/s]"
     ]
    },
    {
     "name": "stdout",
     "output_type": "stream",
     "text": [
      "[2024-01-07 14:51:50.509728] Epoch: 8 Evalutation ends. Status: Average loss: 0.35436200102170307, Average SC accuracy: 1.0, Average S2S accuracy: 0.9677867442783437\n"
     ]
    },
    {
     "name": "stderr",
     "output_type": "stream",
     "text": [
      "100%|██████████| 46/46 [00:19<00:00,  2.40it/s]\n",
      " 17%|█▋        | 1/6 [00:00<00:00,  5.74it/s]"
     ]
    },
    {
     "name": "stdout",
     "output_type": "stream",
     "text": [
      "[2024-01-07 14:52:09.682235] Epoch: 9 training ends. Status: Average loss: 0.3622613374305808, Average SC accuracy: 1.0, Average S2S accuracy: 0.9695921469464294\n"
     ]
    },
    {
     "name": "stderr",
     "output_type": "stream",
     "text": [
      "100%|██████████| 6/6 [00:00<00:00,  6.63it/s]\n",
      "  0%|          | 0/29 [00:00<?, ?it/s]"
     ]
    },
    {
     "name": "stdout",
     "output_type": "stream",
     "text": [
      "[2024-01-07 14:52:10.589159] Epoch: 9 Evalutation ends. Status: Average loss: 0.3329734057188034, Average SC accuracy: 1.0, Average S2S accuracy: 0.9699695726948009\n"
     ]
    },
    {
     "name": "stderr",
     "output_type": "stream",
     "text": [
      "100%|██████████| 29/29 [01:03<00:00,  2.20s/it]\n"
     ]
    },
    {
     "name": "stdout",
     "output_type": "stream",
     "text": [
      "[INFO] 202208031141 is cleared.\n",
      "[INFO] SentenceTransformer is saved, 0.0003910064697265625 MB\n",
      "[INFO] SimpleEmbedder is saved, 90.92114543914795 MB\n",
      "[INFO] SimpleTransformerStack is saved, 216.4018907546997 MB\n",
      "[INFO] SimpleDecoderHead_S2S is saved, 91.68078327178955 MB\n",
      "[INFO] SimpleEncoderHead_AveragePooling_SC is saved, 2.2815237045288086 MB\n",
      "[INFO] 202208172100 is saved\n",
      "[INFO] finish 202208172100\n",
      "[INFO] <class 'sentence_transformers.SentenceTransformer.SentenceTransformer'> loaded for checkpoints_sbert_1/202208172100/SentenceTransformer.pt\n",
      "[INFO] SimpleEmbedder loaded for 202208172100.\n",
      "[INFO] SimpleTransformerStack loaded for 202208172100.\n",
      "[INFO] SimpleDecoderHead_S2S loaded for 202208172100.\n",
      "[WARN] no metadata found.\n"
     ]
    },
    {
     "name": "stderr",
     "output_type": "stream",
     "text": [
      "100%|██████████| 61/61 [00:25<00:00,  2.38it/s]\n",
      " 14%|█▍        | 1/7 [00:00<00:01,  5.54it/s]"
     ]
    },
    {
     "name": "stdout",
     "output_type": "stream",
     "text": [
      "[2024-01-07 14:54:06.036628] Epoch: 0 training ends. Status: Average loss: 5.724221667305368, Average SC accuracy: 0.2551440329218107, Average S2S accuracy: 0.8438803452379577\n"
     ]
    },
    {
     "name": "stderr",
     "output_type": "stream",
     "text": [
      "100%|██████████| 7/7 [00:01<00:00,  5.89it/s]\n",
      "  0%|          | 0/61 [00:00<?, ?it/s]"
     ]
    },
    {
     "name": "stdout",
     "output_type": "stream",
     "text": [
      "[2024-01-07 14:54:07.225619] Epoch: 0 Evalutation ends. Status: Average loss: 4.45121921811785, Average SC accuracy: 0.4722222222222222, Average S2S accuracy: 0.8630151011005887\n"
     ]
    },
    {
     "name": "stderr",
     "output_type": "stream",
     "text": [
      "100%|██████████| 61/61 [00:25<00:00,  2.37it/s]\n",
      " 14%|█▍        | 1/7 [00:00<00:01,  5.56it/s]"
     ]
    },
    {
     "name": "stdout",
     "output_type": "stream",
     "text": [
      "[2024-01-07 14:54:32.941150] Epoch: 1 training ends. Status: Average loss: 3.864734727828229, Average SC accuracy: 0.6018518518518519, Average S2S accuracy: 0.8701371477428971\n"
     ]
    },
    {
     "name": "stderr",
     "output_type": "stream",
     "text": [
      "100%|██████████| 7/7 [00:01<00:00,  5.84it/s]\n",
      "  0%|          | 0/61 [00:00<?, ?it/s]"
     ]
    },
    {
     "name": "stdout",
     "output_type": "stream",
     "text": [
      "[2024-01-07 14:54:34.140540] Epoch: 1 Evalutation ends. Status: Average loss: 2.9952547209603444, Average SC accuracy: 0.8240740740740741, Average S2S accuracy: 0.882518556437164\n"
     ]
    },
    {
     "name": "stderr",
     "output_type": "stream",
     "text": [
      "100%|██████████| 61/61 [00:25<00:00,  2.40it/s]\n",
      " 14%|█▍        | 1/7 [00:00<00:01,  5.57it/s]"
     ]
    },
    {
     "name": "stdout",
     "output_type": "stream",
     "text": [
      "[2024-01-07 14:54:59.593412] Epoch: 2 training ends. Status: Average loss: 2.548175985695886, Average SC accuracy: 0.9310699588477366, Average S2S accuracy: 0.8884042565483137\n"
     ]
    },
    {
     "name": "stderr",
     "output_type": "stream",
     "text": [
      "100%|██████████| 7/7 [00:01<00:00,  6.04it/s]\n",
      "  0%|          | 0/61 [00:00<?, ?it/s]"
     ]
    },
    {
     "name": "stdout",
     "output_type": "stream",
     "text": [
      "[2024-01-07 14:55:00.754600] Epoch: 2 Evalutation ends. Status: Average loss: 1.9823914936610632, Average SC accuracy: 0.9814814814814815, Average S2S accuracy: 0.8981315587407218\n"
     ]
    },
    {
     "name": "stderr",
     "output_type": "stream",
     "text": [
      "100%|██████████| 61/61 [00:25<00:00,  2.41it/s]\n",
      " 14%|█▍        | 1/7 [00:00<00:01,  5.74it/s]"
     ]
    },
    {
     "name": "stdout",
     "output_type": "stream",
     "text": [
      "[2024-01-07 14:55:26.060080] Epoch: 3 training ends. Status: Average loss: 1.6993685609004536, Average SC accuracy: 0.9958847736625515, Average S2S accuracy: 0.9054408485366671\n"
     ]
    },
    {
     "name": "stderr",
     "output_type": "stream",
     "text": [
      "100%|██████████| 7/7 [00:01<00:00,  5.83it/s]\n",
      "  0%|          | 0/61 [00:00<?, ?it/s]"
     ]
    },
    {
     "name": "stdout",
     "output_type": "stream",
     "text": [
      "[2024-01-07 14:55:27.262405] Epoch: 3 Evalutation ends. Status: Average loss: 1.3753306865692139, Average SC accuracy: 1.0, Average S2S accuracy: 0.9135398003583312\n"
     ]
    },
    {
     "name": "stderr",
     "output_type": "stream",
     "text": [
      "100%|██████████| 61/61 [00:25<00:00,  2.39it/s]\n",
      " 14%|█▍        | 1/7 [00:00<00:01,  5.80it/s]"
     ]
    },
    {
     "name": "stdout",
     "output_type": "stream",
     "text": [
      "[2024-01-07 14:55:52.746577] Epoch: 4 training ends. Status: Average loss: 1.224599952580499, Average SC accuracy: 0.9989711934156379, Average S2S accuracy: 0.9211429363713041\n"
     ]
    },
    {
     "name": "stderr",
     "output_type": "stream",
     "text": [
      "100%|██████████| 7/7 [00:01<00:00,  5.89it/s]\n",
      "  0%|          | 0/61 [00:00<?, ?it/s]"
     ]
    },
    {
     "name": "stdout",
     "output_type": "stream",
     "text": [
      "[2024-01-07 14:55:53.937444] Epoch: 4 Evalutation ends. Status: Average loss: 1.1128791570663452, Average SC accuracy: 1.0, Average S2S accuracy: 0.9262349628871257\n"
     ]
    },
    {
     "name": "stderr",
     "output_type": "stream",
     "text": [
      "100%|██████████| 61/61 [00:25<00:00,  2.40it/s]\n",
      " 14%|█▍        | 1/7 [00:00<00:01,  5.74it/s]"
     ]
    },
    {
     "name": "stdout",
     "output_type": "stream",
     "text": [
      "[2024-01-07 14:56:19.366140] Epoch: 5 training ends. Status: Average loss: 0.9469882542969751, Average SC accuracy: 1.0, Average S2S accuracy: 0.9344359842401414\n"
     ]
    },
    {
     "name": "stderr",
     "output_type": "stream",
     "text": [
      "100%|██████████| 7/7 [00:01<00:00,  5.80it/s]\n",
      "  0%|          | 0/61 [00:00<?, ?it/s]"
     ]
    },
    {
     "name": "stdout",
     "output_type": "stream",
     "text": [
      "[2024-01-07 14:56:20.574712] Epoch: 5 Evalutation ends. Status: Average loss: 0.8885216883250645, Average SC accuracy: 1.0, Average S2S accuracy: 0.9353468134118249\n"
     ]
    },
    {
     "name": "stderr",
     "output_type": "stream",
     "text": [
      "100%|██████████| 61/61 [00:25<00:00,  2.42it/s]\n",
      " 14%|█▍        | 1/7 [00:00<00:01,  5.52it/s]"
     ]
    },
    {
     "name": "stdout",
     "output_type": "stream",
     "text": [
      "[2024-01-07 14:56:45.743116] Epoch: 6 training ends. Status: Average loss: 0.7687550118712129, Average SC accuracy: 1.0, Average S2S accuracy: 0.9441068065488913\n"
     ]
    },
    {
     "name": "stderr",
     "output_type": "stream",
     "text": [
      "100%|██████████| 7/7 [00:01<00:00,  5.73it/s]\n",
      "  0%|          | 0/61 [00:00<?, ?it/s]"
     ]
    },
    {
     "name": "stdout",
     "output_type": "stream",
     "text": [
      "[2024-01-07 14:56:46.966929] Epoch: 6 Evalutation ends. Status: Average loss: 0.7707489473479134, Average SC accuracy: 1.0, Average S2S accuracy: 0.9418991553621705\n"
     ]
    },
    {
     "name": "stderr",
     "output_type": "stream",
     "text": [
      "100%|██████████| 61/61 [00:25<00:00,  2.42it/s]\n",
      " 14%|█▍        | 1/7 [00:00<00:01,  5.72it/s]"
     ]
    },
    {
     "name": "stdout",
     "output_type": "stream",
     "text": [
      "[2024-01-07 14:57:12.193238] Epoch: 7 training ends. Status: Average loss: 0.6456404264833107, Average SC accuracy: 1.0, Average S2S accuracy: 0.9513339264462906\n"
     ]
    },
    {
     "name": "stderr",
     "output_type": "stream",
     "text": [
      "100%|██████████| 7/7 [00:01<00:00,  5.94it/s]\n",
      "  0%|          | 0/61 [00:00<?, ?it/s]"
     ]
    },
    {
     "name": "stdout",
     "output_type": "stream",
     "text": [
      "[2024-01-07 14:57:13.373209] Epoch: 7 Evalutation ends. Status: Average loss: 0.6819504754883903, Average SC accuracy: 1.0, Average S2S accuracy: 0.9479907857691323\n"
     ]
    },
    {
     "name": "stderr",
     "output_type": "stream",
     "text": [
      "100%|██████████| 61/61 [00:25<00:00,  2.39it/s]\n",
      " 14%|█▍        | 1/7 [00:00<00:01,  5.98it/s]"
     ]
    },
    {
     "name": "stdout",
     "output_type": "stream",
     "text": [
      "[2024-01-07 14:57:38.865160] Epoch: 8 training ends. Status: Average loss: 0.5654732487240776, Average SC accuracy: 1.0, Average S2S accuracy: 0.9560711273382708\n"
     ]
    },
    {
     "name": "stderr",
     "output_type": "stream",
     "text": [
      "100%|██████████| 7/7 [00:01<00:00,  5.78it/s]\n",
      "  0%|          | 0/61 [00:00<?, ?it/s]"
     ]
    },
    {
     "name": "stdout",
     "output_type": "stream",
     "text": [
      "[2024-01-07 14:57:40.077812] Epoch: 8 Evalutation ends. Status: Average loss: 0.617483411516462, Average SC accuracy: 1.0, Average S2S accuracy: 0.9517276682876887\n"
     ]
    },
    {
     "name": "stderr",
     "output_type": "stream",
     "text": [
      "100%|██████████| 61/61 [00:25<00:00,  2.39it/s]\n",
      " 14%|█▍        | 1/7 [00:00<00:01,  5.63it/s]"
     ]
    },
    {
     "name": "stdout",
     "output_type": "stream",
     "text": [
      "[2024-01-07 14:58:05.632862] Epoch: 9 training ends. Status: Average loss: 0.4996384235679126, Average SC accuracy: 1.0, Average S2S accuracy: 0.9606234618539786\n"
     ]
    },
    {
     "name": "stderr",
     "output_type": "stream",
     "text": [
      "100%|██████████| 7/7 [00:01<00:00,  6.03it/s]\n",
      "  0%|          | 0/3 [00:00<?, ?it/s]"
     ]
    },
    {
     "name": "stdout",
     "output_type": "stream",
     "text": [
      "[2024-01-07 14:58:06.796013] Epoch: 9 Evalutation ends. Status: Average loss: 0.5712187801088605, Average SC accuracy: 1.0, Average S2S accuracy: 0.9536728948041976\n"
     ]
    },
    {
     "name": "stderr",
     "output_type": "stream",
     "text": [
      "100%|██████████| 3/3 [00:05<00:00,  1.98s/it]\n"
     ]
    },
    {
     "name": "stdout",
     "output_type": "stream",
     "text": [
      "[INFO] 202208172100 is cleared.\n",
      "[INFO] SentenceTransformer is saved, 0.0003910064697265625 MB\n",
      "[INFO] SimpleEmbedder is saved, 90.92114543914795 MB\n",
      "[INFO] SimpleTransformerStack is saved, 216.4018907546997 MB\n",
      "[INFO] SimpleDecoderHead_S2S is saved, 91.68078327178955 MB\n",
      "[INFO] SimpleEncoderHead_AveragePooling_SC is saved, 2.2815237045288086 MB\n",
      "[INFO] 202208190706 is saved\n",
      "[INFO] finish 202208190706\n",
      "[INFO] <class 'sentence_transformers.SentenceTransformer.SentenceTransformer'> loaded for checkpoints_sbert_1/202208190706/SentenceTransformer.pt\n",
      "[INFO] SimpleEmbedder loaded for 202208190706.\n",
      "[INFO] SimpleTransformerStack loaded for 202208190706.\n",
      "[INFO] SimpleDecoderHead_S2S loaded for 202208190706.\n",
      "[WARN] no metadata found.\n"
     ]
    },
    {
     "name": "stderr",
     "output_type": "stream",
     "text": [
      "100%|██████████| 3/3 [00:01<00:00,  2.73it/s]\n",
      "100%|██████████| 1/1 [00:00<00:00, 14.94it/s]\n",
      "  0%|          | 0/3 [00:00<?, ?it/s]"
     ]
    },
    {
     "name": "stdout",
     "output_type": "stream",
     "text": [
      "[2024-01-07 14:58:48.086878] Epoch: 0 training ends. Status: Average loss: 3.011569023132324, Average SC accuracy: 0.1951219512195122, Average S2S accuracy: 0.9272287097692965\n",
      "[2024-01-07 14:58:48.155383] Epoch: 0 Evalutation ends. Status: Average loss: 3.2676515579223633, Average SC accuracy: 0.25, Average S2S accuracy: 0.9177215189873418\n"
     ]
    },
    {
     "name": "stderr",
     "output_type": "stream",
     "text": [
      "100%|██████████| 3/3 [00:01<00:00,  2.73it/s]\n",
      "100%|██████████| 1/1 [00:00<00:00, 14.55it/s]\n",
      "  0%|          | 0/3 [00:00<?, ?it/s]"
     ]
    },
    {
     "name": "stdout",
     "output_type": "stream",
     "text": [
      "[2024-01-07 14:58:49.257738] Epoch: 1 training ends. Status: Average loss: 2.8375786940256753, Average SC accuracy: 0.36585365853658536, Average S2S accuracy: 0.9273711193392196\n",
      "[2024-01-07 14:58:49.328571] Epoch: 1 Evalutation ends. Status: Average loss: 3.333434581756592, Average SC accuracy: 0.5, Average S2S accuracy: 0.9224683544303798\n"
     ]
    },
    {
     "name": "stderr",
     "output_type": "stream",
     "text": [
      "100%|██████████| 3/3 [00:01<00:00,  2.77it/s]\n",
      "100%|██████████| 1/1 [00:00<00:00, 14.91it/s]\n",
      "  0%|          | 0/3 [00:00<?, ?it/s]"
     ]
    },
    {
     "name": "stdout",
     "output_type": "stream",
     "text": [
      "[2024-01-07 14:58:50.414363] Epoch: 2 training ends. Status: Average loss: 2.904050668080648, Average SC accuracy: 0.34146341463414637, Average S2S accuracy: 0.9289376246083737\n",
      "[2024-01-07 14:58:50.484178] Epoch: 2 Evalutation ends. Status: Average loss: 3.181800365447998, Average SC accuracy: 0.0, Average S2S accuracy: 0.9193037974683544\n"
     ]
    },
    {
     "name": "stderr",
     "output_type": "stream",
     "text": [
      "100%|██████████| 3/3 [00:01<00:00,  2.81it/s]\n",
      "100%|██████████| 1/1 [00:00<00:00, 15.61it/s]\n",
      "  0%|          | 0/3 [00:00<?, ?it/s]"
     ]
    },
    {
     "name": "stdout",
     "output_type": "stream",
     "text": [
      "[2024-01-07 14:58:51.553555] Epoch: 3 training ends. Status: Average loss: 2.9540158907572427, Average SC accuracy: 0.3170731707317073, Average S2S accuracy: 0.9295072628880661\n",
      "[2024-01-07 14:58:51.619342] Epoch: 3 Evalutation ends. Status: Average loss: 2.6410014629364014, Average SC accuracy: 0.5, Average S2S accuracy: 0.9287974683544303\n"
     ]
    },
    {
     "name": "stderr",
     "output_type": "stream",
     "text": [
      "100%|██████████| 3/3 [00:01<00:00,  2.77it/s]\n",
      "100%|██████████| 1/1 [00:00<00:00, 14.13it/s]\n",
      "  0%|          | 0/3 [00:00<?, ?it/s]"
     ]
    },
    {
     "name": "stdout",
     "output_type": "stream",
     "text": [
      "[2024-01-07 14:58:52.703755] Epoch: 4 training ends. Status: Average loss: 2.771969715754191, Average SC accuracy: 0.2926829268292683, Average S2S accuracy: 0.9316434064369126\n",
      "[2024-01-07 14:58:52.776115] Epoch: 4 Evalutation ends. Status: Average loss: 2.815615177154541, Average SC accuracy: 0.25, Average S2S accuracy: 0.9319620253164557\n"
     ]
    },
    {
     "name": "stderr",
     "output_type": "stream",
     "text": [
      "100%|██████████| 3/3 [00:01<00:00,  2.75it/s]\n",
      "100%|██████████| 1/1 [00:00<00:00, 14.38it/s]\n",
      "  0%|          | 0/3 [00:00<?, ?it/s]"
     ]
    },
    {
     "name": "stdout",
     "output_type": "stream",
     "text": [
      "[2024-01-07 14:58:53.872931] Epoch: 5 training ends. Status: Average loss: 2.724057118097941, Average SC accuracy: 0.34146341463414637, Average S2S accuracy: 0.9370549700939903\n",
      "[2024-01-07 14:58:53.944162] Epoch: 5 Evalutation ends. Status: Average loss: 2.776132106781006, Average SC accuracy: 0.25, Average S2S accuracy: 0.9319620253164557\n"
     ]
    },
    {
     "name": "stderr",
     "output_type": "stream",
     "text": [
      "100%|██████████| 3/3 [00:01<00:00,  2.78it/s]\n",
      "100%|██████████| 1/1 [00:00<00:00, 14.47it/s]\n",
      "  0%|          | 0/3 [00:00<?, ?it/s]"
     ]
    },
    {
     "name": "stdout",
     "output_type": "stream",
     "text": [
      "[2024-01-07 14:58:55.023784] Epoch: 6 training ends. Status: Average loss: 2.5720656712849936, Average SC accuracy: 0.5121951219512195, Average S2S accuracy: 0.9343491882654514\n",
      "[2024-01-07 14:58:55.094294] Epoch: 6 Evalutation ends. Status: Average loss: 2.891253709793091, Average SC accuracy: 0.25, Average S2S accuracy: 0.9272151898734177\n"
     ]
    },
    {
     "name": "stderr",
     "output_type": "stream",
     "text": [
      "100%|██████████| 3/3 [00:01<00:00,  2.75it/s]\n",
      "100%|██████████| 1/1 [00:00<00:00, 14.48it/s]\n",
      "  0%|          | 0/3 [00:00<?, ?it/s]"
     ]
    },
    {
     "name": "stdout",
     "output_type": "stream",
     "text": [
      "[2024-01-07 14:58:56.186649] Epoch: 7 training ends. Status: Average loss: 2.418328603108724, Average SC accuracy: 0.7317073170731707, Average S2S accuracy: 0.9362005126744517\n",
      "[2024-01-07 14:58:56.259472] Epoch: 7 Evalutation ends. Status: Average loss: 2.408261299133301, Average SC accuracy: 0.5, Average S2S accuracy: 0.9414556962025317\n"
     ]
    },
    {
     "name": "stderr",
     "output_type": "stream",
     "text": [
      "100%|██████████| 3/3 [00:01<00:00,  2.76it/s]\n",
      "100%|██████████| 1/1 [00:00<00:00, 14.84it/s]\n",
      "  0%|          | 0/3 [00:00<?, ?it/s]"
     ]
    },
    {
     "name": "stdout",
     "output_type": "stream",
     "text": [
      "[2024-01-07 14:58:57.348558] Epoch: 8 training ends. Status: Average loss: 2.296090602874756, Average SC accuracy: 0.6585365853658537, Average S2S accuracy: 0.9383366562232982\n",
      "[2024-01-07 14:58:57.417504] Epoch: 8 Evalutation ends. Status: Average loss: 2.006869316101074, Average SC accuracy: 1.0, Average S2S accuracy: 0.9477848101265823\n"
     ]
    },
    {
     "name": "stderr",
     "output_type": "stream",
     "text": [
      "100%|██████████| 3/3 [00:01<00:00,  2.75it/s]\n",
      "100%|██████████| 1/1 [00:00<00:00, 14.82it/s]\n",
      "  0%|          | 0/2 [00:00<?, ?it/s]"
     ]
    },
    {
     "name": "stdout",
     "output_type": "stream",
     "text": [
      "[2024-01-07 14:58:58.509554] Epoch: 9 training ends. Status: Average loss: 2.1970272858937583, Average SC accuracy: 0.7804878048780488, Average S2S accuracy: 0.9374821988037596\n",
      "[2024-01-07 14:58:58.578523] Epoch: 9 Evalutation ends. Status: Average loss: 2.5654377937316895, Average SC accuracy: 0.75, Average S2S accuracy: 0.939873417721519\n"
     ]
    },
    {
     "name": "stderr",
     "output_type": "stream",
     "text": [
      "100%|██████████| 2/2 [00:02<00:00,  1.33s/it]\n"
     ]
    },
    {
     "name": "stdout",
     "output_type": "stream",
     "text": [
      "[INFO] 202208190706 is cleared.\n",
      "[INFO] SentenceTransformer is saved, 0.0003910064697265625 MB\n",
      "[INFO] SimpleEmbedder is saved, 90.92114543914795 MB\n",
      "[INFO] SimpleTransformerStack is saved, 216.4018907546997 MB\n",
      "[INFO] SimpleDecoderHead_S2S is saved, 91.68078327178955 MB\n",
      "[INFO] SimpleEncoderHead_AveragePooling_SC is saved, 2.2815237045288086 MB\n",
      "[INFO] 202208240500 is saved\n",
      "[INFO] finish 202208240500\n",
      "[INFO] <class 'sentence_transformers.SentenceTransformer.SentenceTransformer'> loaded for checkpoints_sbert_1/202208240500/SentenceTransformer.pt\n",
      "[INFO] SimpleEmbedder loaded for 202208240500.\n",
      "[INFO] SimpleTransformerStack loaded for 202208240500.\n",
      "[INFO] SimpleDecoderHead_S2S loaded for 202208240500.\n",
      "[WARN] no metadata found.\n"
     ]
    },
    {
     "name": "stderr",
     "output_type": "stream",
     "text": [
      "100%|██████████| 2/2 [00:00<00:00,  2.92it/s]\n",
      "100%|██████████| 1/1 [00:00<00:00, 16.53it/s]\n",
      "  0%|          | 0/2 [00:00<?, ?it/s]"
     ]
    },
    {
     "name": "stdout",
     "output_type": "stream",
     "text": [
      "[2024-01-07 14:59:39.602705] Epoch: 0 training ends. Status: Average loss: 6.106038808822632, Average SC accuracy: 0.2222222222222222, Average S2S accuracy: 0.826929502171734\n",
      "[2024-01-07 14:59:39.665102] Epoch: 0 Evalutation ends. Status: Average loss: 5.293793201446533, Average SC accuracy: 0.3333333333333333, Average S2S accuracy: 0.8414985590778098\n"
     ]
    },
    {
     "name": "stderr",
     "output_type": "stream",
     "text": [
      "100%|██████████| 2/2 [00:00<00:00,  2.93it/s]\n",
      "100%|██████████| 1/1 [00:00<00:00, 17.68it/s]\n",
      "  0%|          | 0/2 [00:00<?, ?it/s]"
     ]
    },
    {
     "name": "stdout",
     "output_type": "stream",
     "text": [
      "[2024-01-07 14:59:40.352374] Epoch: 1 training ends. Status: Average loss: 6.215798616409302, Average SC accuracy: 0.1111111111111111, Average S2S accuracy: 0.8292682926829268\n",
      "[2024-01-07 14:59:40.412570] Epoch: 1 Evalutation ends. Status: Average loss: 5.332653999328613, Average SC accuracy: 0.6666666666666666, Average S2S accuracy: 0.8587896253602305\n"
     ]
    },
    {
     "name": "stderr",
     "output_type": "stream",
     "text": [
      "100%|██████████| 2/2 [00:00<00:00,  2.96it/s]\n",
      "100%|██████████| 1/1 [00:00<00:00, 17.07it/s]\n",
      "  0%|          | 0/2 [00:00<?, ?it/s]"
     ]
    },
    {
     "name": "stdout",
     "output_type": "stream",
     "text": [
      "[2024-01-07 14:59:41.089547] Epoch: 2 training ends. Status: Average loss: 6.092016220092773, Average SC accuracy: 0.2222222222222222, Average S2S accuracy: 0.8346140995656532\n",
      "[2024-01-07 14:59:41.149405] Epoch: 2 Evalutation ends. Status: Average loss: 5.64560604095459, Average SC accuracy: 0.0, Average S2S accuracy: 0.8501440922190202\n"
     ]
    },
    {
     "name": "stderr",
     "output_type": "stream",
     "text": [
      "100%|██████████| 2/2 [00:00<00:00,  2.92it/s]\n",
      "100%|██████████| 1/1 [00:00<00:00, 18.65it/s]\n",
      "  0%|          | 0/2 [00:00<?, ?it/s]"
     ]
    },
    {
     "name": "stdout",
     "output_type": "stream",
     "text": [
      "[2024-01-07 14:59:41.836480] Epoch: 3 training ends. Status: Average loss: 5.796486854553223, Average SC accuracy: 0.2222222222222222, Average S2S accuracy: 0.835282325425994\n",
      "[2024-01-07 14:59:41.891249] Epoch: 3 Evalutation ends. Status: Average loss: 5.4412407875061035, Average SC accuracy: 0.3333333333333333, Average S2S accuracy: 0.8386167146974063\n"
     ]
    },
    {
     "name": "stderr",
     "output_type": "stream",
     "text": [
      "100%|██████████| 2/2 [00:00<00:00,  2.87it/s]\n",
      "100%|██████████| 1/1 [00:00<00:00, 17.03it/s]\n",
      "  0%|          | 0/2 [00:00<?, ?it/s]"
     ]
    },
    {
     "name": "stdout",
     "output_type": "stream",
     "text": [
      "[2024-01-07 14:59:42.589835] Epoch: 4 training ends. Status: Average loss: 6.063087463378906, Average SC accuracy: 0.14814814814814814, Average S2S accuracy: 0.8379552288673572\n",
      "[2024-01-07 14:59:42.651384] Epoch: 4 Evalutation ends. Status: Average loss: 5.181597709655762, Average SC accuracy: 0.3333333333333333, Average S2S accuracy: 0.8530259365994236\n"
     ]
    },
    {
     "name": "stderr",
     "output_type": "stream",
     "text": [
      "100%|██████████| 2/2 [00:00<00:00,  2.90it/s]\n",
      "100%|██████████| 1/1 [00:00<00:00, 20.36it/s]\n",
      "  0%|          | 0/2 [00:00<?, ?it/s]"
     ]
    },
    {
     "name": "stdout",
     "output_type": "stream",
     "text": [
      "[2024-01-07 14:59:43.342773] Epoch: 5 training ends. Status: Average loss: 5.825886011123657, Average SC accuracy: 0.14814814814814814, Average S2S accuracy: 0.8449716004009356\n",
      "[2024-01-07 14:59:43.394102] Epoch: 5 Evalutation ends. Status: Average loss: 5.446669101715088, Average SC accuracy: 0.6666666666666666, Average S2S accuracy: 0.8357348703170029\n"
     ]
    },
    {
     "name": "stderr",
     "output_type": "stream",
     "text": [
      "100%|██████████| 2/2 [00:00<00:00,  2.92it/s]\n",
      "100%|██████████| 1/1 [00:00<00:00, 16.84it/s]\n",
      "  0%|          | 0/2 [00:00<?, ?it/s]"
     ]
    },
    {
     "name": "stdout",
     "output_type": "stream",
     "text": [
      "[2024-01-07 14:59:44.079721] Epoch: 6 training ends. Status: Average loss: 5.939531087875366, Average SC accuracy: 0.2222222222222222, Average S2S accuracy: 0.8292682926829268\n",
      "[2024-01-07 14:59:44.140174] Epoch: 6 Evalutation ends. Status: Average loss: 5.319277763366699, Average SC accuracy: 0.3333333333333333, Average S2S accuracy: 0.8501440922190202\n"
     ]
    },
    {
     "name": "stderr",
     "output_type": "stream",
     "text": [
      "100%|██████████| 2/2 [00:00<00:00,  2.94it/s]\n",
      "100%|██████████| 1/1 [00:00<00:00, 18.61it/s]\n",
      "  0%|          | 0/2 [00:00<?, ?it/s]"
     ]
    },
    {
     "name": "stdout",
     "output_type": "stream",
     "text": [
      "[2024-01-07 14:59:44.822239] Epoch: 7 training ends. Status: Average loss: 5.743518114089966, Average SC accuracy: 0.1111111111111111, Average S2S accuracy: 0.8389575676578683\n",
      "[2024-01-07 14:59:44.877468] Epoch: 7 Evalutation ends. Status: Average loss: 5.086596965789795, Average SC accuracy: 0.3333333333333333, Average S2S accuracy: 0.861671469740634\n"
     ]
    },
    {
     "name": "stderr",
     "output_type": "stream",
     "text": [
      "100%|██████████| 2/2 [00:00<00:00,  2.89it/s]\n",
      "100%|██████████| 1/1 [00:00<00:00, 14.51it/s]\n",
      "  0%|          | 0/2 [00:00<?, ?it/s]"
     ]
    },
    {
     "name": "stdout",
     "output_type": "stream",
     "text": [
      "[2024-01-07 14:59:45.571645] Epoch: 8 training ends. Status: Average loss: 5.283700466156006, Average SC accuracy: 0.37037037037037035, Average S2S accuracy: 0.8419645840294019\n",
      "[2024-01-07 14:59:45.643048] Epoch: 8 Evalutation ends. Status: Average loss: 5.31110143661499, Average SC accuracy: 0.6666666666666666, Average S2S accuracy: 0.8559077809798271\n"
     ]
    },
    {
     "name": "stderr",
     "output_type": "stream",
     "text": [
      "100%|██████████| 2/2 [00:00<00:00,  2.86it/s]\n",
      "100%|██████████| 1/1 [00:00<00:00, 18.12it/s]\n",
      "  0%|          | 0/37 [00:00<?, ?it/s]"
     ]
    },
    {
     "name": "stdout",
     "output_type": "stream",
     "text": [
      "[2024-01-07 14:59:46.344156] Epoch: 9 training ends. Status: Average loss: 5.451719284057617, Average SC accuracy: 0.3333333333333333, Average S2S accuracy: 0.8399599064483796\n",
      "[2024-01-07 14:59:46.401824] Epoch: 9 Evalutation ends. Status: Average loss: 4.944328784942627, Average SC accuracy: 0.6666666666666666, Average S2S accuracy: 0.8386167146974063\n"
     ]
    },
    {
     "name": "stderr",
     "output_type": "stream",
     "text": [
      "100%|██████████| 37/37 [01:13<00:00,  1.98s/it]\n"
     ]
    },
    {
     "name": "stdout",
     "output_type": "stream",
     "text": [
      "[INFO] 202208240500 is cleared.\n",
      "[INFO] SentenceTransformer is saved, 0.0003910064697265625 MB\n",
      "[INFO] SimpleEmbedder is saved, 90.92114543914795 MB\n",
      "[INFO] SimpleTransformerStack is saved, 216.4018907546997 MB\n",
      "[INFO] SimpleDecoderHead_S2S is saved, 91.68078327178955 MB\n",
      "[INFO] SimpleEncoderHead_AveragePooling_SC is saved, 2.2815237045288086 MB\n",
      "[INFO] 202209081034 is saved\n",
      "[INFO] finish 202209081034\n",
      "[INFO] <class 'sentence_transformers.SentenceTransformer.SentenceTransformer'> loaded for checkpoints_sbert_1/202209081034/SentenceTransformer.pt\n",
      "[INFO] SimpleEmbedder loaded for 202209081034.\n",
      "[INFO] SimpleTransformerStack loaded for 202209081034.\n",
      "[INFO] SimpleDecoderHead_S2S loaded for 202209081034.\n",
      "[WARN] no metadata found.\n"
     ]
    },
    {
     "name": "stderr",
     "output_type": "stream",
     "text": [
      "100%|██████████| 117/117 [00:48<00:00,  2.41it/s]\n",
      "  8%|▊         | 1/13 [00:00<00:02,  5.88it/s]"
     ]
    },
    {
     "name": "stdout",
     "output_type": "stream",
     "text": [
      "[2024-01-07 15:02:25.992517] Epoch: 0 training ends. Status: Average loss: 4.052426863939334, Average SC accuracy: 0.5174449812130971, Average S2S accuracy: 0.8671372037750652\n"
     ]
    },
    {
     "name": "stderr",
     "output_type": "stream",
     "text": [
      "100%|██████████| 13/13 [00:02<00:00,  5.87it/s]\n",
      "  0%|          | 0/117 [00:00<?, ?it/s]"
     ]
    },
    {
     "name": "stdout",
     "output_type": "stream",
     "text": [
      "[2024-01-07 15:02:28.210517] Epoch: 0 Evalutation ends. Status: Average loss: 2.3409943764026346, Average SC accuracy: 0.8985507246376812, Average S2S accuracy: 0.8927343689420766\n"
     ]
    },
    {
     "name": "stderr",
     "output_type": "stream",
     "text": [
      "100%|██████████| 117/117 [00:48<00:00,  2.40it/s]\n",
      "  8%|▊         | 1/13 [00:00<00:02,  5.94it/s]"
     ]
    },
    {
     "name": "stdout",
     "output_type": "stream",
     "text": [
      "[2024-01-07 15:03:16.993121] Epoch: 1 training ends. Status: Average loss: 1.611768618098691, Average SC accuracy: 0.9516908212560387, Average S2S accuracy: 0.9121910838313682\n"
     ]
    },
    {
     "name": "stderr",
     "output_type": "stream",
     "text": [
      "100%|██████████| 13/13 [00:02<00:00,  5.73it/s]\n",
      "  0%|          | 0/117 [00:00<?, ?it/s]"
     ]
    },
    {
     "name": "stdout",
     "output_type": "stream",
     "text": [
      "[2024-01-07 15:03:19.264610] Epoch: 1 Evalutation ends. Status: Average loss: 1.1897320380577674, Average SC accuracy: 0.9565217391304348, Average S2S accuracy: 0.9291788363617566\n"
     ]
    },
    {
     "name": "stderr",
     "output_type": "stream",
     "text": [
      "100%|██████████| 117/117 [00:48<00:00,  2.39it/s]\n",
      "  8%|▊         | 1/13 [00:00<00:02,  5.76it/s]"
     ]
    },
    {
     "name": "stdout",
     "output_type": "stream",
     "text": [
      "[2024-01-07 15:04:08.182288] Epoch: 2 training ends. Status: Average loss: 0.9227696866051763, Average SC accuracy: 0.9699409554482018, Average S2S accuracy: 0.9400339202067517\n"
     ]
    },
    {
     "name": "stderr",
     "output_type": "stream",
     "text": [
      "100%|██████████| 13/13 [00:02<00:00,  5.66it/s]\n",
      "  0%|          | 0/117 [00:00<?, ?it/s]"
     ]
    },
    {
     "name": "stdout",
     "output_type": "stream",
     "text": [
      "[2024-01-07 15:04:10.482017] Epoch: 2 Evalutation ends. Status: Average loss: 0.8219503714488103, Average SC accuracy: 0.966183574879227, Average S2S accuracy: 0.94892605133242\n"
     ]
    },
    {
     "name": "stderr",
     "output_type": "stream",
     "text": [
      "100%|██████████| 117/117 [00:48<00:00,  2.39it/s]\n",
      "  8%|▊         | 1/13 [00:00<00:02,  5.83it/s]"
     ]
    },
    {
     "name": "stdout",
     "output_type": "stream",
     "text": [
      "[2024-01-07 15:04:59.398382] Epoch: 3 training ends. Status: Average loss: 0.6820594199702271, Average SC accuracy: 0.9774557165861514, Average S2S accuracy: 0.9529559037312227\n"
     ]
    },
    {
     "name": "stderr",
     "output_type": "stream",
     "text": [
      "100%|██████████| 13/13 [00:02<00:00,  5.72it/s]\n",
      "  0%|          | 0/117 [00:00<?, ?it/s]"
     ]
    },
    {
     "name": "stdout",
     "output_type": "stream",
     "text": [
      "[2024-01-07 15:05:01.671261] Epoch: 3 Evalutation ends. Status: Average loss: 0.6540053945321304, Average SC accuracy: 0.966183574879227, Average S2S accuracy: 0.9579725503373052\n"
     ]
    },
    {
     "name": "stderr",
     "output_type": "stream",
     "text": [
      "100%|██████████| 117/117 [00:48<00:00,  2.39it/s]\n",
      "  8%|▊         | 1/13 [00:00<00:02,  5.82it/s]"
     ]
    },
    {
     "name": "stdout",
     "output_type": "stream",
     "text": [
      "[2024-01-07 15:05:50.563360] Epoch: 4 training ends. Status: Average loss: 0.5463118471650996, Average SC accuracy: 0.9779924852388621, Average S2S accuracy: 0.9605043034820131\n"
     ]
    },
    {
     "name": "stderr",
     "output_type": "stream",
     "text": [
      "100%|██████████| 13/13 [00:02<00:00,  5.78it/s]\n",
      "  0%|          | 0/117 [00:00<?, ?it/s]"
     ]
    },
    {
     "name": "stdout",
     "output_type": "stream",
     "text": [
      "[2024-01-07 15:05:52.813869] Epoch: 4 Evalutation ends. Status: Average loss: 0.6190454822320205, Average SC accuracy: 0.966183574879227, Average S2S accuracy: 0.9599369329783659\n"
     ]
    },
    {
     "name": "stderr",
     "output_type": "stream",
     "text": [
      "100%|██████████| 117/117 [00:49<00:00,  2.38it/s]\n",
      "  8%|▊         | 1/13 [00:00<00:02,  5.87it/s]"
     ]
    },
    {
     "name": "stdout",
     "output_type": "stream",
     "text": [
      "[2024-01-07 15:06:41.929480] Epoch: 5 training ends. Status: Average loss: 0.4731225259283669, Average SC accuracy: 0.9806763285024155, Average S2S accuracy: 0.9649231603479705\n"
     ]
    },
    {
     "name": "stderr",
     "output_type": "stream",
     "text": [
      "100%|██████████| 13/13 [00:02<00:00,  5.72it/s]\n",
      "  0%|          | 0/117 [00:00<?, ?it/s]"
     ]
    },
    {
     "name": "stdout",
     "output_type": "stream",
     "text": [
      "[2024-01-07 15:06:44.203615] Epoch: 5 Evalutation ends. Status: Average loss: 0.5661625243150271, Average SC accuracy: 0.966183574879227, Average S2S accuracy: 0.9638656982604875\n"
     ]
    },
    {
     "name": "stderr",
     "output_type": "stream",
     "text": [
      "100%|██████████| 117/117 [00:49<00:00,  2.38it/s]\n",
      "  8%|▊         | 1/13 [00:00<00:02,  5.80it/s]"
     ]
    },
    {
     "name": "stdout",
     "output_type": "stream",
     "text": [
      "[2024-01-07 15:07:33.300352] Epoch: 6 training ends. Status: Average loss: 0.41385911035741496, Average SC accuracy: 0.9919484702093397, Average S2S accuracy: 0.967969056464453\n"
     ]
    },
    {
     "name": "stderr",
     "output_type": "stream",
     "text": [
      "100%|██████████| 13/13 [00:02<00:00,  5.78it/s]\n",
      "  0%|          | 0/117 [00:00<?, ?it/s]"
     ]
    },
    {
     "name": "stdout",
     "output_type": "stream",
     "text": [
      "[2024-01-07 15:07:35.550387] Epoch: 6 Evalutation ends. Status: Average loss: 0.558969245507167, Average SC accuracy: 0.961352657004831, Average S2S accuracy: 0.965985163741632\n"
     ]
    },
    {
     "name": "stderr",
     "output_type": "stream",
     "text": [
      "100%|██████████| 117/117 [00:48<00:00,  2.39it/s]\n",
      "  8%|▊         | 1/13 [00:00<00:02,  5.56it/s]"
     ]
    },
    {
     "name": "stdout",
     "output_type": "stream",
     "text": [
      "[2024-01-07 15:08:24.523424] Epoch: 7 training ends. Status: Average loss: 0.37291173585969156, Average SC accuracy: 0.989801395598497, Average S2S accuracy: 0.970876502757459\n"
     ]
    },
    {
     "name": "stderr",
     "output_type": "stream",
     "text": [
      "100%|██████████| 13/13 [00:02<00:00,  5.63it/s]\n",
      "  0%|          | 0/117 [00:00<?, ?it/s]"
     ]
    },
    {
     "name": "stdout",
     "output_type": "stream",
     "text": [
      "[2024-01-07 15:08:26.835149] Epoch: 7 Evalutation ends. Status: Average loss: 0.5377470988493699, Average SC accuracy: 0.961352657004831, Average S2S accuracy: 0.9669673550621624\n"
     ]
    },
    {
     "name": "stderr",
     "output_type": "stream",
     "text": [
      "100%|██████████| 117/117 [00:48<00:00,  2.39it/s]\n",
      "  8%|▊         | 1/13 [00:00<00:02,  5.41it/s]"
     ]
    },
    {
     "name": "stdout",
     "output_type": "stream",
     "text": [
      "[2024-01-07 15:09:15.735601] Epoch: 8 training ends. Status: Average loss: 0.3359169837756035, Average SC accuracy: 0.9940955448201825, Average S2S accuracy: 0.9726590442347186\n"
     ]
    },
    {
     "name": "stderr",
     "output_type": "stream",
     "text": [
      "100%|██████████| 13/13 [00:02<00:00,  5.63it/s]\n",
      "  0%|          | 0/117 [00:00<?, ?it/s]"
     ]
    },
    {
     "name": "stdout",
     "output_type": "stream",
     "text": [
      "[2024-01-07 15:09:18.047377] Epoch: 8 Evalutation ends. Status: Average loss: 0.5397697710073911, Average SC accuracy: 0.9565217391304348, Average S2S accuracy: 0.9697588461836698\n"
     ]
    },
    {
     "name": "stderr",
     "output_type": "stream",
     "text": [
      "100%|██████████| 117/117 [00:48<00:00,  2.40it/s]\n",
      "  8%|▊         | 1/13 [00:00<00:02,  5.78it/s]"
     ]
    },
    {
     "name": "stdout",
     "output_type": "stream",
     "text": [
      "[2024-01-07 15:10:06.700716] Epoch: 9 training ends. Status: Average loss: 0.2762559480392016, Average SC accuracy: 0.9967793880837359, Average S2S accuracy: 0.9774471006299467\n"
     ]
    },
    {
     "name": "stderr",
     "output_type": "stream",
     "text": [
      "100%|██████████| 13/13 [00:02<00:00,  5.67it/s]\n",
      "  0%|          | 0/7 [00:00<?, ?it/s]"
     ]
    },
    {
     "name": "stdout",
     "output_type": "stream",
     "text": [
      "[2024-01-07 15:10:08.996222] Epoch: 9 Evalutation ends. Status: Average loss: 0.5054457772236604, Average SC accuracy: 0.961352657004831, Average S2S accuracy: 0.9739202357259169\n"
     ]
    },
    {
     "name": "stderr",
     "output_type": "stream",
     "text": [
      "100%|██████████| 7/7 [00:14<00:00,  2.14s/it]\n"
     ]
    },
    {
     "name": "stdout",
     "output_type": "stream",
     "text": [
      "[INFO] 202209081034 is cleared.\n",
      "[INFO] SentenceTransformer is saved, 0.0003910064697265625 MB\n",
      "[INFO] SimpleEmbedder is saved, 90.92114543914795 MB\n",
      "[INFO] SimpleTransformerStack is saved, 216.4018907546997 MB\n",
      "[INFO] SimpleDecoderHead_S2S is saved, 91.68078327178955 MB\n",
      "[INFO] SimpleEncoderHead_AveragePooling_SC is saved, 2.2815237045288086 MB\n",
      "[INFO] 202209081634 is saved\n",
      "[INFO] finish 202209081634\n",
      "[INFO] <class 'sentence_transformers.SentenceTransformer.SentenceTransformer'> loaded for checkpoints_sbert_1/202209081634/SentenceTransformer.pt\n",
      "[INFO] SimpleEmbedder loaded for 202209081634.\n",
      "[INFO] SimpleTransformerStack loaded for 202209081634.\n",
      "[INFO] SimpleDecoderHead_S2S loaded for 202209081634.\n",
      "[WARN] no metadata found.\n"
     ]
    },
    {
     "name": "stderr",
     "output_type": "stream",
     "text": [
      "100%|██████████| 8/8 [00:03<00:00,  2.49it/s]\n",
      "100%|██████████| 1/1 [00:00<00:00,  7.14it/s]\n",
      "  0%|          | 0/8 [00:00<?, ?it/s]"
     ]
    },
    {
     "name": "stdout",
     "output_type": "stream",
     "text": [
      "[2024-01-07 15:11:05.006178] Epoch: 0 training ends. Status: Average loss: 4.792704641819, Average SC accuracy: 0.07377049180327869, Average S2S accuracy: 0.8896246089676747\n",
      "[2024-01-07 15:11:05.147601] Epoch: 0 Evalutation ends. Status: Average loss: 4.903833389282227, Average SC accuracy: 0.0, Average S2S accuracy: 0.8984721537703302\n"
     ]
    },
    {
     "name": "stderr",
     "output_type": "stream",
     "text": [
      "100%|██████████| 8/8 [00:03<00:00,  2.52it/s]\n",
      "100%|██████████| 1/1 [00:00<00:00,  7.16it/s]\n",
      "  0%|          | 0/8 [00:00<?, ?it/s]"
     ]
    },
    {
     "name": "stdout",
     "output_type": "stream",
     "text": [
      "[2024-01-07 15:11:08.318427] Epoch: 1 training ends. Status: Average loss: 4.619344055652618, Average SC accuracy: 0.07377049180327869, Average S2S accuracy: 0.891866527632951\n",
      "[2024-01-07 15:11:08.459651] Epoch: 1 Evalutation ends. Status: Average loss: 4.681613445281982, Average SC accuracy: 0.0, Average S2S accuracy: 0.9038935436175456\n"
     ]
    },
    {
     "name": "stderr",
     "output_type": "stream",
     "text": [
      "100%|██████████| 8/8 [00:03<00:00,  2.53it/s]\n",
      "100%|██████████| 1/1 [00:00<00:00,  6.74it/s]\n",
      "  0%|          | 0/8 [00:00<?, ?it/s]"
     ]
    },
    {
     "name": "stdout",
     "output_type": "stream",
     "text": [
      "[2024-01-07 15:11:11.621884] Epoch: 2 training ends. Status: Average loss: 4.3631463050842285, Average SC accuracy: 0.13934426229508196, Average S2S accuracy: 0.894577685088634\n",
      "[2024-01-07 15:11:11.771652] Epoch: 2 Evalutation ends. Status: Average loss: 4.471303939819336, Average SC accuracy: 0.07692307692307693, Average S2S accuracy: 0.9014292755051749\n"
     ]
    },
    {
     "name": "stderr",
     "output_type": "stream",
     "text": [
      "100%|██████████| 8/8 [00:03<00:00,  2.53it/s]\n",
      "100%|██████████| 1/1 [00:00<00:00,  7.21it/s]\n",
      "  0%|          | 0/8 [00:00<?, ?it/s]"
     ]
    },
    {
     "name": "stdout",
     "output_type": "stream",
     "text": [
      "[2024-01-07 15:11:14.935039] Epoch: 3 training ends. Status: Average loss: 4.0835839211940765, Average SC accuracy: 0.18032786885245902, Average S2S accuracy: 0.9003649635036496\n",
      "[2024-01-07 15:11:15.075529] Epoch: 3 Evalutation ends. Status: Average loss: 4.015020847320557, Average SC accuracy: 0.07692307692307693, Average S2S accuracy: 0.9078363725973386\n"
     ]
    },
    {
     "name": "stderr",
     "output_type": "stream",
     "text": [
      "100%|██████████| 8/8 [00:03<00:00,  2.53it/s]\n",
      "100%|██████████| 1/1 [00:00<00:00,  7.18it/s]\n",
      "  0%|          | 0/8 [00:00<?, ?it/s]"
     ]
    },
    {
     "name": "stdout",
     "output_type": "stream",
     "text": [
      "[2024-01-07 15:11:18.244970] Epoch: 4 training ends. Status: Average loss: 3.599732607603073, Average SC accuracy: 0.26229508196721313, Average S2S accuracy: 0.9055265901981231\n",
      "[2024-01-07 15:11:18.385819] Epoch: 4 Evalutation ends. Status: Average loss: 3.704066276550293, Average SC accuracy: 0.23076923076923078, Average S2S accuracy: 0.9122720551996057\n"
     ]
    },
    {
     "name": "stderr",
     "output_type": "stream",
     "text": [
      "100%|██████████| 8/8 [00:03<00:00,  2.53it/s]\n",
      "100%|██████████| 1/1 [00:00<00:00,  6.94it/s]\n",
      "  0%|          | 0/8 [00:00<?, ?it/s]"
     ]
    },
    {
     "name": "stdout",
     "output_type": "stream",
     "text": [
      "[2024-01-07 15:11:21.551961] Epoch: 5 training ends. Status: Average loss: 3.1648847460746765, Average SC accuracy: 0.4918032786885246, Average S2S accuracy: 0.9107924921793535\n",
      "[2024-01-07 15:11:21.697645] Epoch: 5 Evalutation ends. Status: Average loss: 2.8183517456054688, Average SC accuracy: 0.38461538461538464, Average S2S accuracy: 0.9285362247412519\n"
     ]
    },
    {
     "name": "stderr",
     "output_type": "stream",
     "text": [
      "100%|██████████| 8/8 [00:03<00:00,  2.52it/s]\n",
      "100%|██████████| 1/1 [00:00<00:00,  7.00it/s]\n",
      "  0%|          | 0/8 [00:00<?, ?it/s]"
     ]
    },
    {
     "name": "stdout",
     "output_type": "stream",
     "text": [
      "[2024-01-07 15:11:24.871884] Epoch: 6 training ends. Status: Average loss: 2.664085328578949, Average SC accuracy: 0.6557377049180327, Average S2S accuracy: 0.9166319082377477\n",
      "[2024-01-07 15:11:25.016146] Epoch: 6 Evalutation ends. Status: Average loss: 2.7750754356384277, Average SC accuracy: 0.46153846153846156, Average S2S accuracy: 0.917200591424347\n"
     ]
    },
    {
     "name": "stderr",
     "output_type": "stream",
     "text": [
      "100%|██████████| 8/8 [00:03<00:00,  2.51it/s]\n",
      "100%|██████████| 1/1 [00:00<00:00,  7.49it/s]\n",
      "  0%|          | 0/8 [00:00<?, ?it/s]"
     ]
    },
    {
     "name": "stdout",
     "output_type": "stream",
     "text": [
      "[2024-01-07 15:11:28.208192] Epoch: 7 training ends. Status: Average loss: 2.2689016461372375, Average SC accuracy: 0.8688524590163934, Average S2S accuracy: 0.9223670490093848\n",
      "[2024-01-07 15:11:28.342883] Epoch: 7 Evalutation ends. Status: Average loss: 2.2453513145446777, Average SC accuracy: 0.7692307692307693, Average S2S accuracy: 0.9285362247412519\n"
     ]
    },
    {
     "name": "stderr",
     "output_type": "stream",
     "text": [
      "100%|██████████| 8/8 [00:03<00:00,  2.50it/s]\n",
      "100%|██████████| 1/1 [00:00<00:00,  7.10it/s]\n",
      "  0%|          | 0/8 [00:00<?, ?it/s]"
     ]
    },
    {
     "name": "stdout",
     "output_type": "stream",
     "text": [
      "[2024-01-07 15:11:31.538888] Epoch: 8 training ends. Status: Average loss: 1.8751560896635056, Average SC accuracy: 0.9672131147540983, Average S2S accuracy: 0.9262252346193952\n",
      "[2024-01-07 15:11:31.681410] Epoch: 8 Evalutation ends. Status: Average loss: 1.6993862390518188, Average SC accuracy: 1.0, Average S2S accuracy: 0.9314933464760966\n"
     ]
    },
    {
     "name": "stderr",
     "output_type": "stream",
     "text": [
      "100%|██████████| 8/8 [00:03<00:00,  2.51it/s]\n",
      "100%|██████████| 1/1 [00:00<00:00,  6.76it/s]\n",
      "  0%|          | 0/22 [00:00<?, ?it/s]"
     ]
    },
    {
     "name": "stdout",
     "output_type": "stream",
     "text": [
      "[2024-01-07 15:11:34.867628] Epoch: 9 training ends. Status: Average loss: 1.5449273884296417, Average SC accuracy: 1.0, Average S2S accuracy: 0.9318561001042753\n",
      "[2024-01-07 15:11:35.017243] Epoch: 9 Evalutation ends. Status: Average loss: 1.349569320678711, Average SC accuracy: 1.0, Average S2S accuracy: 0.9393790044356826\n"
     ]
    },
    {
     "name": "stderr",
     "output_type": "stream",
     "text": [
      "100%|██████████| 22/22 [00:29<00:00,  1.34s/it]\n"
     ]
    },
    {
     "name": "stdout",
     "output_type": "stream",
     "text": [
      "[INFO] 202209081634 is cleared.\n",
      "[INFO] SentenceTransformer is saved, 0.0003910064697265625 MB\n",
      "[INFO] SimpleEmbedder is saved, 90.92114543914795 MB\n",
      "[INFO] SimpleTransformerStack is saved, 216.4018907546997 MB\n",
      "[INFO] SimpleDecoderHead_S2S is saved, 91.68078327178955 MB\n",
      "[INFO] SimpleEncoderHead_AveragePooling_SC is saved, 2.2815237045288086 MB\n",
      "[INFO] 202209151400 is saved\n",
      "[INFO] finish 202209151400\n",
      "[INFO] <class 'sentence_transformers.SentenceTransformer.SentenceTransformer'> loaded for checkpoints_sbert_1/202209151400/SentenceTransformer.pt\n",
      "[INFO] SimpleEmbedder loaded for 202209151400.\n",
      "[INFO] SimpleTransformerStack loaded for 202209151400.\n",
      "[INFO] SimpleDecoderHead_S2S loaded for 202209151400.\n",
      "[WARN] no metadata found.\n"
     ]
    },
    {
     "name": "stderr",
     "output_type": "stream",
     "text": [
      "100%|██████████| 36/36 [00:14<00:00,  2.47it/s]\n",
      " 25%|██▌       | 1/4 [00:00<00:00,  5.87it/s]"
     ]
    },
    {
     "name": "stdout",
     "output_type": "stream",
     "text": [
      "[2024-01-07 15:12:45.096969] Epoch: 0 training ends. Status: Average loss: 4.522656838099162, Average SC accuracy: 0.2962962962962963, Average S2S accuracy: 0.8631276144057684\n"
     ]
    },
    {
     "name": "stderr",
     "output_type": "stream",
     "text": [
      "100%|██████████| 4/4 [00:00<00:00,  5.88it/s]\n",
      "  0%|          | 0/36 [00:00<?, ?it/s]"
     ]
    },
    {
     "name": "stdout",
     "output_type": "stream",
     "text": [
      "[2024-01-07 15:12:45.779338] Epoch: 0 Evalutation ends. Status: Average loss: 3.7014390230178833, Average SC accuracy: 0.4603174603174603, Average S2S accuracy: 0.879775523418951\n"
     ]
    },
    {
     "name": "stderr",
     "output_type": "stream",
     "text": [
      "100%|██████████| 36/36 [00:14<00:00,  2.46it/s]\n",
      " 25%|██▌       | 1/4 [00:00<00:00,  6.17it/s]"
     ]
    },
    {
     "name": "stdout",
     "output_type": "stream",
     "text": [
      "[2024-01-07 15:13:00.387667] Epoch: 1 training ends. Status: Average loss: 2.8100534545050726, Average SC accuracy: 0.8430335097001763, Average S2S accuracy: 0.8914165839687465\n"
     ]
    },
    {
     "name": "stderr",
     "output_type": "stream",
     "text": [
      "100%|██████████| 4/4 [00:00<00:00,  6.08it/s]\n",
      "  0%|          | 0/36 [00:00<?, ?it/s]"
     ]
    },
    {
     "name": "stdout",
     "output_type": "stream",
     "text": [
      "[2024-01-07 15:13:01.047248] Epoch: 1 Evalutation ends. Status: Average loss: 2.0195363759994507, Average SC accuracy: 0.9523809523809523, Average S2S accuracy: 0.9077271746168789\n"
     ]
    },
    {
     "name": "stderr",
     "output_type": "stream",
     "text": [
      "100%|██████████| 36/36 [00:14<00:00,  2.47it/s]\n",
      " 25%|██▌       | 1/4 [00:00<00:00,  5.93it/s]"
     ]
    },
    {
     "name": "stdout",
     "output_type": "stream",
     "text": [
      "[2024-01-07 15:13:15.641538] Epoch: 2 training ends. Status: Average loss: 1.6429914865228865, Average SC accuracy: 0.9858906525573192, Average S2S accuracy: 0.9166028113105631\n"
     ]
    },
    {
     "name": "stderr",
     "output_type": "stream",
     "text": [
      "100%|██████████| 4/4 [00:00<00:00,  5.81it/s]\n",
      "  0%|          | 0/36 [00:00<?, ?it/s]"
     ]
    },
    {
     "name": "stdout",
     "output_type": "stream",
     "text": [
      "[2024-01-07 15:13:16.331789] Epoch: 2 Evalutation ends. Status: Average loss: 1.3533051908016205, Average SC accuracy: 0.9523809523809523, Average S2S accuracy: 0.9261817396935031\n"
     ]
    },
    {
     "name": "stderr",
     "output_type": "stream",
     "text": [
      "100%|██████████| 36/36 [00:14<00:00,  2.46it/s]\n",
      " 25%|██▌       | 1/4 [00:00<00:00,  6.03it/s]"
     ]
    },
    {
     "name": "stdout",
     "output_type": "stream",
     "text": [
      "[2024-01-07 15:13:30.974936] Epoch: 3 training ends. Status: Average loss: 1.1426808734734852, Average SC accuracy: 0.9947089947089947, Average S2S accuracy: 0.9327446078862411\n"
     ]
    },
    {
     "name": "stderr",
     "output_type": "stream",
     "text": [
      "100%|██████████| 4/4 [00:00<00:00,  5.95it/s]\n",
      "  0%|          | 0/36 [00:00<?, ?it/s]"
     ]
    },
    {
     "name": "stdout",
     "output_type": "stream",
     "text": [
      "[2024-01-07 15:13:31.648717] Epoch: 3 Evalutation ends. Status: Average loss: 0.9995474517345428, Average SC accuracy: 0.9841269841269841, Average S2S accuracy: 0.9407511331750485\n"
     ]
    },
    {
     "name": "stderr",
     "output_type": "stream",
     "text": [
      "100%|██████████| 36/36 [00:14<00:00,  2.46it/s]\n",
      " 25%|██▌       | 1/4 [00:00<00:00,  6.24it/s]"
     ]
    },
    {
     "name": "stdout",
     "output_type": "stream",
     "text": [
      "[2024-01-07 15:13:46.269175] Epoch: 4 training ends. Status: Average loss: 0.8683508154418733, Average SC accuracy: 0.9982363315696648, Average S2S accuracy: 0.9464619945482181\n"
     ]
    },
    {
     "name": "stderr",
     "output_type": "stream",
     "text": [
      "100%|██████████| 4/4 [00:00<00:00,  6.13it/s]\n",
      "  0%|          | 0/36 [00:00<?, ?it/s]"
     ]
    },
    {
     "name": "stdout",
     "output_type": "stream",
     "text": [
      "[2024-01-07 15:13:46.922982] Epoch: 4 Evalutation ends. Status: Average loss: 0.8007203042507172, Average SC accuracy: 1.0, Average S2S accuracy: 0.94679473343406\n"
     ]
    },
    {
     "name": "stderr",
     "output_type": "stream",
     "text": [
      "100%|██████████| 36/36 [00:14<00:00,  2.46it/s]\n",
      " 25%|██▌       | 1/4 [00:00<00:00,  5.98it/s]"
     ]
    },
    {
     "name": "stdout",
     "output_type": "stream",
     "text": [
      "[2024-01-07 15:14:01.532542] Epoch: 5 training ends. Status: Average loss: 0.7111798135770692, Average SC accuracy: 1.0, Average S2S accuracy: 0.9539738967678721\n"
     ]
    },
    {
     "name": "stderr",
     "output_type": "stream",
     "text": [
      "100%|██████████| 4/4 [00:00<00:00,  6.06it/s]\n",
      "  0%|          | 0/36 [00:00<?, ?it/s]"
     ]
    },
    {
     "name": "stdout",
     "output_type": "stream",
     "text": [
      "[2024-01-07 15:14:02.194598] Epoch: 5 Evalutation ends. Status: Average loss: 0.7098751664161682, Average SC accuracy: 1.0, Average S2S accuracy: 0.9535937837254479\n"
     ]
    },
    {
     "name": "stderr",
     "output_type": "stream",
     "text": [
      "100%|██████████| 36/36 [00:14<00:00,  2.46it/s]\n",
      " 25%|██▌       | 1/4 [00:00<00:00,  6.04it/s]"
     ]
    },
    {
     "name": "stdout",
     "output_type": "stream",
     "text": [
      "[2024-01-07 15:14:16.849065] Epoch: 6 training ends. Status: Average loss: 0.5956565224462085, Average SC accuracy: 1.0, Average S2S accuracy: 0.9593628700993632\n"
     ]
    },
    {
     "name": "stderr",
     "output_type": "stream",
     "text": [
      "100%|██████████| 4/4 [00:00<00:00,  6.07it/s]\n",
      "  0%|          | 0/36 [00:00<?, ?it/s]"
     ]
    },
    {
     "name": "stdout",
     "output_type": "stream",
     "text": [
      "[2024-01-07 15:14:17.509693] Epoch: 6 Evalutation ends. Status: Average loss: 0.5755152627825737, Average SC accuracy: 1.0, Average S2S accuracy: 0.9594215411180661\n"
     ]
    },
    {
     "name": "stderr",
     "output_type": "stream",
     "text": [
      "100%|██████████| 36/36 [00:14<00:00,  2.48it/s]\n",
      " 25%|██▌       | 1/4 [00:00<00:00,  6.07it/s]"
     ]
    },
    {
     "name": "stdout",
     "output_type": "stream",
     "text": [
      "[2024-01-07 15:14:32.039548] Epoch: 7 training ends. Status: Average loss: 0.5082870854271783, Average SC accuracy: 1.0, Average S2S accuracy: 0.9633951788159333\n"
     ]
    },
    {
     "name": "stderr",
     "output_type": "stream",
     "text": [
      "100%|██████████| 4/4 [00:00<00:00,  5.98it/s]\n",
      "  0%|          | 0/36 [00:00<?, ?it/s]"
     ]
    },
    {
     "name": "stdout",
     "output_type": "stream",
     "text": [
      "[2024-01-07 15:14:32.710018] Epoch: 7 Evalutation ends. Status: Average loss: 0.5086211040616035, Average SC accuracy: 1.0, Average S2S accuracy: 0.960932441182819\n"
     ]
    },
    {
     "name": "stderr",
     "output_type": "stream",
     "text": [
      "100%|██████████| 36/36 [00:14<00:00,  2.46it/s]\n",
      " 25%|██▌       | 1/4 [00:00<00:00,  5.79it/s]"
     ]
    },
    {
     "name": "stdout",
     "output_type": "stream",
     "text": [
      "[2024-01-07 15:14:47.332614] Epoch: 8 training ends. Status: Average loss: 0.4538402838839425, Average SC accuracy: 1.0, Average S2S accuracy: 0.9669375808660042\n"
     ]
    },
    {
     "name": "stderr",
     "output_type": "stream",
     "text": [
      "100%|██████████| 4/4 [00:00<00:00,  6.11it/s]\n",
      "  0%|          | 0/36 [00:00<?, ?it/s]"
     ]
    },
    {
     "name": "stdout",
     "output_type": "stream",
     "text": [
      "[2024-01-07 15:14:47.989072] Epoch: 8 Evalutation ends. Status: Average loss: 0.4070025682449341, Average SC accuracy: 1.0, Average S2S accuracy: 0.9688107058061731\n"
     ]
    },
    {
     "name": "stderr",
     "output_type": "stream",
     "text": [
      "100%|██████████| 36/36 [00:14<00:00,  2.47it/s]\n",
      " 25%|██▌       | 1/4 [00:00<00:00,  5.98it/s]"
     ]
    },
    {
     "name": "stdout",
     "output_type": "stream",
     "text": [
      "[2024-01-07 15:15:02.568515] Epoch: 9 training ends. Status: Average loss: 0.39031317085027695, Average SC accuracy: 1.0, Average S2S accuracy: 0.9709824512919718\n"
     ]
    },
    {
     "name": "stderr",
     "output_type": "stream",
     "text": [
      "100%|██████████| 4/4 [00:00<00:00,  5.97it/s]\n",
      "  0%|          | 0/95 [00:00<?, ?it/s]"
     ]
    },
    {
     "name": "stdout",
     "output_type": "stream",
     "text": [
      "[2024-01-07 15:15:03.240609] Epoch: 9 Evalutation ends. Status: Average loss: 0.42959826439619064, Average SC accuracy: 0.9841269841269841, Average S2S accuracy: 0.9698899201381395\n"
     ]
    },
    {
     "name": "stderr",
     "output_type": "stream",
     "text": [
      "100%|██████████| 95/95 [02:52<00:00,  1.81s/it]\n"
     ]
    },
    {
     "name": "stdout",
     "output_type": "stream",
     "text": [
      "[INFO] 202209151400 is cleared.\n",
      "[INFO] SentenceTransformer is saved, 0.0003910064697265625 MB\n",
      "[INFO] SimpleEmbedder is saved, 90.92114543914795 MB\n",
      "[INFO] SimpleTransformerStack is saved, 216.4018907546997 MB\n",
      "[INFO] SimpleDecoderHead_S2S is saved, 91.68078327178955 MB\n",
      "[INFO] SimpleEncoderHead_AveragePooling_SC is saved, 2.2815237045288086 MB\n",
      "[INFO] 202210102130 is saved\n",
      "[INFO] finish 202210102130\n",
      "[INFO] <class 'sentence_transformers.SentenceTransformer.SentenceTransformer'> loaded for checkpoints_sbert_1/202210102130/SentenceTransformer.pt\n",
      "[INFO] SimpleEmbedder loaded for 202210102130.\n",
      "[INFO] SimpleTransformerStack loaded for 202210102130.\n",
      "[INFO] SimpleDecoderHead_S2S loaded for 202210102130.\n",
      "[WARN] no metadata found.\n"
     ]
    },
    {
     "name": "stderr",
     "output_type": "stream",
     "text": [
      "100%|██████████| 193/193 [01:20<00:00,  2.41it/s]\n",
      "  5%|▍         | 1/22 [00:00<00:03,  5.76it/s]"
     ]
    },
    {
     "name": "stdout",
     "output_type": "stream",
     "text": [
      "[2024-01-07 15:19:41.288339] Epoch: 0 training ends. Status: Average loss: 3.9631678860422244, Average SC accuracy: 0.7592592592592593, Average S2S accuracy: 0.8562470629699248\n"
     ]
    },
    {
     "name": "stderr",
     "output_type": "stream",
     "text": [
      "100%|██████████| 22/22 [00:03<00:00,  6.13it/s]\n",
      "  0%|          | 0/193 [00:00<?, ?it/s]"
     ]
    },
    {
     "name": "stdout",
     "output_type": "stream",
     "text": [
      "[2024-01-07 15:19:44.876225] Epoch: 0 Evalutation ends. Status: Average loss: 1.8946311257102273, Average SC accuracy: 0.97953216374269, Average S2S accuracy: 0.8992100740349022\n"
     ]
    },
    {
     "name": "stderr",
     "output_type": "stream",
     "text": [
      "100%|██████████| 193/193 [01:19<00:00,  2.43it/s]\n",
      "  5%|▍         | 1/22 [00:00<00:03,  5.73it/s]"
     ]
    },
    {
     "name": "stdout",
     "output_type": "stream",
     "text": [
      "[2024-01-07 15:21:04.286613] Epoch: 1 training ends. Status: Average loss: 1.274000524239219, Average SC accuracy: 0.9905782975958415, Average S2S accuracy: 0.9218180950422933\n"
     ]
    },
    {
     "name": "stderr",
     "output_type": "stream",
     "text": [
      "100%|██████████| 22/22 [00:03<00:00,  5.90it/s]\n",
      "  0%|          | 0/193 [00:00<?, ?it/s]"
     ]
    },
    {
     "name": "stdout",
     "output_type": "stream",
     "text": [
      "[2024-01-07 15:21:08.016143] Epoch: 1 Evalutation ends. Status: Average loss: 0.9911178052425385, Average SC accuracy: 1.0, Average S2S accuracy: 0.9345749603384452\n"
     ]
    },
    {
     "name": "stderr",
     "output_type": "stream",
     "text": [
      "100%|██████████| 193/193 [01:20<00:00,  2.41it/s]\n",
      "  5%|▍         | 1/22 [00:00<00:03,  5.73it/s]"
     ]
    },
    {
     "name": "stdout",
     "output_type": "stream",
     "text": [
      "[2024-01-07 15:22:28.070205] Epoch: 2 training ends. Status: Average loss: 0.7315978285871021, Average SC accuracy: 1.0, Average S2S accuracy: 0.9478310032894737\n"
     ]
    },
    {
     "name": "stderr",
     "output_type": "stream",
     "text": [
      "100%|██████████| 22/22 [00:03<00:00,  5.82it/s]\n",
      "  0%|          | 0/193 [00:00<?, ?it/s]"
     ]
    },
    {
     "name": "stdout",
     "output_type": "stream",
     "text": [
      "[2024-01-07 15:22:31.848448] Epoch: 2 Evalutation ends. Status: Average loss: 0.6720759123563766, Average SC accuracy: 1.0, Average S2S accuracy: 0.9499107615018508\n"
     ]
    },
    {
     "name": "stderr",
     "output_type": "stream",
     "text": [
      "100%|██████████| 193/193 [01:20<00:00,  2.41it/s]\n",
      "  5%|▍         | 1/22 [00:00<00:03,  5.70it/s]"
     ]
    },
    {
     "name": "stdout",
     "output_type": "stream",
     "text": [
      "[2024-01-07 15:23:51.908116] Epoch: 3 training ends. Status: Average loss: 0.5321238485642665, Average SC accuracy: 1.0, Average S2S accuracy: 0.9587494125939849\n"
     ]
    },
    {
     "name": "stderr",
     "output_type": "stream",
     "text": [
      "100%|██████████| 22/22 [00:03<00:00,  6.40it/s]\n",
      "  0%|          | 0/193 [00:00<?, ?it/s]"
     ]
    },
    {
     "name": "stdout",
     "output_type": "stream",
     "text": [
      "[2024-01-07 15:23:55.345176] Epoch: 3 Evalutation ends. Status: Average loss: 0.5254482342438265, Average SC accuracy: 1.0, Average S2S accuracy: 0.9594625859333686\n"
     ]
    },
    {
     "name": "stderr",
     "output_type": "stream",
     "text": [
      "100%|██████████| 193/193 [01:19<00:00,  2.42it/s]\n",
      "  5%|▍         | 1/22 [00:00<00:03,  5.76it/s]"
     ]
    },
    {
     "name": "stdout",
     "output_type": "stream",
     "text": [
      "[2024-01-07 15:25:15.155893] Epoch: 4 training ends. Status: Average loss: 0.44316279146955423, Average SC accuracy: 0.9996751137102015, Average S2S accuracy: 0.9642269736842105\n"
     ]
    },
    {
     "name": "stderr",
     "output_type": "stream",
     "text": [
      "100%|██████████| 22/22 [00:03<00:00,  5.87it/s]\n",
      "  0%|          | 0/193 [00:00<?, ?it/s]"
     ]
    },
    {
     "name": "stdout",
     "output_type": "stream",
     "text": [
      "[2024-01-07 15:25:18.908065] Epoch: 4 Evalutation ends. Status: Average loss: 0.4720141169699756, Average SC accuracy: 1.0, Average S2S accuracy: 0.9617596509783184\n"
     ]
    },
    {
     "name": "stderr",
     "output_type": "stream",
     "text": [
      "100%|██████████| 193/193 [01:19<00:00,  2.42it/s]\n",
      "  5%|▍         | 1/22 [00:00<00:03,  5.66it/s]"
     ]
    },
    {
     "name": "stdout",
     "output_type": "stream",
     "text": [
      "[2024-01-07 15:26:38.730260] Epoch: 5 training ends. Status: Average loss: 0.37460248789947886, Average SC accuracy: 1.0, Average S2S accuracy: 0.9686637247415414\n"
     ]
    },
    {
     "name": "stderr",
     "output_type": "stream",
     "text": [
      "100%|██████████| 22/22 [00:03<00:00,  5.85it/s]\n",
      "  0%|          | 0/193 [00:00<?, ?it/s]"
     ]
    },
    {
     "name": "stdout",
     "output_type": "stream",
     "text": [
      "[2024-01-07 15:26:42.490470] Epoch: 5 Evalutation ends. Status: Average loss: 0.4345898926258087, Average SC accuracy: 1.0, Average S2S accuracy: 0.9646351136964569\n"
     ]
    },
    {
     "name": "stderr",
     "output_type": "stream",
     "text": [
      "100%|██████████| 193/193 [01:19<00:00,  2.42it/s]\n",
      "  5%|▍         | 1/22 [00:00<00:03,  5.60it/s]"
     ]
    },
    {
     "name": "stdout",
     "output_type": "stream",
     "text": [
      "[2024-01-07 15:28:02.245523] Epoch: 6 training ends. Status: Average loss: 0.3141903645634034, Average SC accuracy: 1.0, Average S2S accuracy: 0.9735318520911654\n"
     ]
    },
    {
     "name": "stderr",
     "output_type": "stream",
     "text": [
      "100%|██████████| 22/22 [00:03<00:00,  5.91it/s]\n",
      "  0%|          | 0/193 [00:00<?, ?it/s]"
     ]
    },
    {
     "name": "stdout",
     "output_type": "stream",
     "text": [
      "[2024-01-07 15:28:05.971019] Epoch: 6 Evalutation ends. Status: Average loss: 0.3652898520231247, Average SC accuracy: 1.0, Average S2S accuracy: 0.9693118720253834\n"
     ]
    },
    {
     "name": "stderr",
     "output_type": "stream",
     "text": [
      "100%|██████████| 193/193 [01:20<00:00,  2.41it/s]\n",
      "  5%|▍         | 1/22 [00:00<00:03,  5.98it/s]"
     ]
    },
    {
     "name": "stdout",
     "output_type": "stream",
     "text": [
      "[2024-01-07 15:29:26.215742] Epoch: 7 training ends. Status: Average loss: 0.2606561150729965, Average SC accuracy: 1.0, Average S2S accuracy: 0.9777061060855263\n"
     ]
    },
    {
     "name": "stderr",
     "output_type": "stream",
     "text": [
      "100%|██████████| 22/22 [00:03<00:00,  5.94it/s]\n",
      "  0%|          | 0/193 [00:00<?, ?it/s]"
     ]
    },
    {
     "name": "stdout",
     "output_type": "stream",
     "text": [
      "[2024-01-07 15:29:29.920828] Epoch: 7 Evalutation ends. Status: Average loss: 0.32636704499071295, Average SC accuracy: 1.0, Average S2S accuracy: 0.9731458223162348\n"
     ]
    },
    {
     "name": "stderr",
     "output_type": "stream",
     "text": [
      "100%|██████████| 193/193 [01:20<00:00,  2.40it/s]\n",
      "  5%|▍         | 1/22 [00:00<00:03,  5.63it/s]"
     ]
    },
    {
     "name": "stdout",
     "output_type": "stream",
     "text": [
      "[2024-01-07 15:30:50.236541] Epoch: 8 training ends. Status: Average loss: 0.22010192664948153, Average SC accuracy: 1.0, Average S2S accuracy: 0.9812911184210527\n"
     ]
    },
    {
     "name": "stderr",
     "output_type": "stream",
     "text": [
      "100%|██████████| 22/22 [00:03<00:00,  5.88it/s]\n",
      "  0%|          | 0/193 [00:00<?, ?it/s]"
     ]
    },
    {
     "name": "stdout",
     "output_type": "stream",
     "text": [
      "[2024-01-07 15:30:53.981481] Epoch: 8 Evalutation ends. Status: Average loss: 0.29448141089894553, Average SC accuracy: 1.0, Average S2S accuracy: 0.9754428873611846\n"
     ]
    },
    {
     "name": "stderr",
     "output_type": "stream",
     "text": [
      "100%|██████████| 193/193 [01:20<00:00,  2.40it/s]\n",
      "  5%|▍         | 1/22 [00:00<00:03,  5.63it/s]"
     ]
    },
    {
     "name": "stdout",
     "output_type": "stream",
     "text": [
      "[2024-01-07 15:32:14.316321] Epoch: 9 training ends. Status: Average loss: 0.19870873459571384, Average SC accuracy: 1.0, Average S2S accuracy: 0.9830845424107143\n"
     ]
    },
    {
     "name": "stderr",
     "output_type": "stream",
     "text": [
      "100%|██████████| 22/22 [00:03<00:00,  6.01it/s]\n",
      "  0%|          | 0/12 [00:00<?, ?it/s]"
     ]
    },
    {
     "name": "stdout",
     "output_type": "stream",
     "text": [
      "[2024-01-07 15:32:17.981816] Epoch: 9 Evalutation ends. Status: Average loss: 0.2934916270050136, Average SC accuracy: 1.0, Average S2S accuracy: 0.9758064516129032\n"
     ]
    },
    {
     "name": "stderr",
     "output_type": "stream",
     "text": [
      "100%|██████████| 12/12 [00:18<00:00,  1.53s/it]\n"
     ]
    },
    {
     "name": "stdout",
     "output_type": "stream",
     "text": [
      "[INFO] 202210102130 is cleared.\n",
      "[INFO] SentenceTransformer is saved, 0.0003910064697265625 MB\n",
      "[INFO] SimpleEmbedder is saved, 90.92114543914795 MB\n",
      "[INFO] SimpleTransformerStack is saved, 216.4018907546997 MB\n",
      "[INFO] SimpleDecoderHead_S2S is saved, 91.68078327178955 MB\n",
      "[INFO] SimpleEncoderHead_AveragePooling_SC is saved, 2.2815237045288086 MB\n",
      "[INFO] 202210110644 is saved\n",
      "[INFO] finish 202210110644\n",
      "[INFO] <class 'sentence_transformers.SentenceTransformer.SentenceTransformer'> loaded for checkpoints_sbert_1/202210110644/SentenceTransformer.pt\n",
      "[INFO] SimpleEmbedder loaded for 202210110644.\n",
      "[INFO] SimpleTransformerStack loaded for 202210110644.\n",
      "[INFO] SimpleDecoderHead_S2S loaded for 202210110644.\n",
      "[WARN] no metadata found.\n"
     ]
    },
    {
     "name": "stderr",
     "output_type": "stream",
     "text": [
      "100%|██████████| 23/23 [00:09<00:00,  2.46it/s]\n",
      " 33%|███▎      | 1/3 [00:00<00:00,  6.04it/s]"
     ]
    },
    {
     "name": "stdout",
     "output_type": "stream",
     "text": [
      "[2024-01-07 15:33:23.774561] Epoch: 0 training ends. Status: Average loss: 3.1990875886834185, Average SC accuracy: 0.10410958904109589, Average S2S accuracy: 0.9501147403864714\n"
     ]
    },
    {
     "name": "stderr",
     "output_type": "stream",
     "text": [
      "100%|██████████| 3/3 [00:00<00:00,  7.30it/s]\n",
      "  0%|          | 0/23 [00:00<?, ?it/s]"
     ]
    },
    {
     "name": "stdout",
     "output_type": "stream",
     "text": [
      "[2024-01-07 15:33:24.187379] Epoch: 0 Evalutation ends. Status: Average loss: 3.195490757624308, Average SC accuracy: 0.15, Average S2S accuracy: 0.9482825917252147\n"
     ]
    },
    {
     "name": "stderr",
     "output_type": "stream",
     "text": [
      "100%|██████████| 23/23 [00:09<00:00,  2.45it/s]\n",
      " 33%|███▎      | 1/3 [00:00<00:00,  6.07it/s]"
     ]
    },
    {
     "name": "stdout",
     "output_type": "stream",
     "text": [
      "[2024-01-07 15:33:33.569711] Epoch: 1 training ends. Status: Average loss: 2.757450943407805, Average SC accuracy: 0.3150684931506849, Average S2S accuracy: 0.9516160164711434\n"
     ]
    },
    {
     "name": "stderr",
     "output_type": "stream",
     "text": [
      "100%|██████████| 3/3 [00:00<00:00,  6.81it/s]\n",
      "  0%|          | 0/23 [00:00<?, ?it/s]"
     ]
    },
    {
     "name": "stdout",
     "output_type": "stream",
     "text": [
      "[2024-01-07 15:33:34.011916] Epoch: 1 Evalutation ends. Status: Average loss: 2.4337093830108643, Average SC accuracy: 0.775, Average S2S accuracy: 0.9461358313817331\n"
     ]
    },
    {
     "name": "stderr",
     "output_type": "stream",
     "text": [
      "100%|██████████| 23/23 [00:09<00:00,  2.45it/s]\n",
      " 33%|███▎      | 1/3 [00:00<00:00,  5.96it/s]"
     ]
    },
    {
     "name": "stdout",
     "output_type": "stream",
     "text": [
      "[2024-01-07 15:33:43.400914] Epoch: 2 training ends. Status: Average loss: 2.019856551419134, Average SC accuracy: 0.7945205479452054, Average S2S accuracy: 0.9536320157848457\n"
     ]
    },
    {
     "name": "stderr",
     "output_type": "stream",
     "text": [
      "100%|██████████| 3/3 [00:00<00:00,  6.88it/s]\n",
      "  0%|          | 0/23 [00:00<?, ?it/s]"
     ]
    },
    {
     "name": "stdout",
     "output_type": "stream",
     "text": [
      "[2024-01-07 15:33:43.838713] Epoch: 2 Evalutation ends. Status: Average loss: 1.7340870300928752, Average SC accuracy: 0.95, Average S2S accuracy: 0.9527712724434035\n"
     ]
    },
    {
     "name": "stderr",
     "output_type": "stream",
     "text": [
      "100%|██████████| 23/23 [00:09<00:00,  2.46it/s]\n",
      " 33%|███▎      | 1/3 [00:00<00:00,  5.83it/s]"
     ]
    },
    {
     "name": "stdout",
     "output_type": "stream",
     "text": [
      "[2024-01-07 15:33:53.195943] Epoch: 3 training ends. Status: Average loss: 1.4319117794866147, Average SC accuracy: 0.9315068493150684, Average S2S accuracy: 0.956934823171124\n"
     ]
    },
    {
     "name": "stderr",
     "output_type": "stream",
     "text": [
      "100%|██████████| 3/3 [00:00<00:00,  7.03it/s]\n",
      "  0%|          | 0/23 [00:00<?, ?it/s]"
     ]
    },
    {
     "name": "stdout",
     "output_type": "stream",
     "text": [
      "[2024-01-07 15:33:53.624418] Epoch: 3 Evalutation ends. Status: Average loss: 1.3454289038976033, Average SC accuracy: 0.975, Average S2S accuracy: 0.9510148321623731\n"
     ]
    },
    {
     "name": "stderr",
     "output_type": "stream",
     "text": [
      "100%|██████████| 23/23 [00:09<00:00,  2.45it/s]\n",
      " 33%|███▎      | 1/3 [00:00<00:00,  6.08it/s]"
     ]
    },
    {
     "name": "stdout",
     "output_type": "stream",
     "text": [
      "[2024-01-07 15:34:03.011473] Epoch: 4 training ends. Status: Average loss: 1.0779399016629094, Average SC accuracy: 0.9616438356164384, Average S2S accuracy: 0.9594869925150664\n"
     ]
    },
    {
     "name": "stderr",
     "output_type": "stream",
     "text": [
      "100%|██████████| 3/3 [00:00<00:00,  7.05it/s]\n",
      "  0%|          | 0/23 [00:00<?, ?it/s]"
     ]
    },
    {
     "name": "stdout",
     "output_type": "stream",
     "text": [
      "[2024-01-07 15:34:03.438367] Epoch: 4 Evalutation ends. Status: Average loss: 1.0922120213508606, Average SC accuracy: 0.975, Average S2S accuracy: 0.9541373926619828\n"
     ]
    },
    {
     "name": "stderr",
     "output_type": "stream",
     "text": [
      "100%|██████████| 23/23 [00:09<00:00,  2.47it/s]\n",
      " 33%|███▎      | 1/3 [00:00<00:00,  5.94it/s]"
     ]
    },
    {
     "name": "stdout",
     "output_type": "stream",
     "text": [
      "[2024-01-07 15:34:12.759980] Epoch: 5 training ends. Status: Average loss: 0.9040195371793665, Average SC accuracy: 0.9616438356164384, Average S2S accuracy: 0.9622750766723144\n"
     ]
    },
    {
     "name": "stderr",
     "output_type": "stream",
     "text": [
      "100%|██████████| 3/3 [00:00<00:00,  6.99it/s]\n",
      "  0%|          | 0/23 [00:00<?, ?it/s]"
     ]
    },
    {
     "name": "stdout",
     "output_type": "stream",
     "text": [
      "[2024-01-07 15:34:13.190529] Epoch: 5 Evalutation ends. Status: Average loss: 0.9600726763407389, Average SC accuracy: 0.975, Average S2S accuracy: 0.9580405932864949\n"
     ]
    },
    {
     "name": "stderr",
     "output_type": "stream",
     "text": [
      "100%|██████████| 23/23 [00:09<00:00,  2.46it/s]\n",
      " 33%|███▎      | 1/3 [00:00<00:00,  5.67it/s]"
     ]
    },
    {
     "name": "stdout",
     "output_type": "stream",
     "text": [
      "[2024-01-07 15:34:22.545605] Epoch: 6 training ends. Status: Average loss: 0.7881461446699889, Average SC accuracy: 0.9616438356164384, Average S2S accuracy: 0.9652347352392391\n"
     ]
    },
    {
     "name": "stderr",
     "output_type": "stream",
     "text": [
      "100%|██████████| 3/3 [00:00<00:00,  6.71it/s]\n",
      "  0%|          | 0/23 [00:00<?, ?it/s]"
     ]
    },
    {
     "name": "stdout",
     "output_type": "stream",
     "text": [
      "[2024-01-07 15:34:22.995117] Epoch: 6 Evalutation ends. Status: Average loss: 0.887580136458079, Average SC accuracy: 0.975, Average S2S accuracy: 0.960967993754879\n"
     ]
    },
    {
     "name": "stderr",
     "output_type": "stream",
     "text": [
      "100%|██████████| 23/23 [00:09<00:00,  2.47it/s]\n",
      " 33%|███▎      | 1/3 [00:00<00:00,  6.03it/s]"
     ]
    },
    {
     "name": "stdout",
     "output_type": "stream",
     "text": [
      "[2024-01-07 15:34:32.318143] Epoch: 7 training ends. Status: Average loss: 0.6850163768167081, Average SC accuracy: 0.9616438356164384, Average S2S accuracy: 0.9674008621614086\n"
     ]
    },
    {
     "name": "stderr",
     "output_type": "stream",
     "text": [
      "100%|██████████| 3/3 [00:00<00:00,  6.98it/s]\n",
      "  0%|          | 0/23 [00:00<?, ?it/s]"
     ]
    },
    {
     "name": "stdout",
     "output_type": "stream",
     "text": [
      "[2024-01-07 15:34:32.749920] Epoch: 7 Evalutation ends. Status: Average loss: 0.7955778241157532, Average SC accuracy: 0.975, Average S2S accuracy: 0.9642857142857143\n"
     ]
    },
    {
     "name": "stderr",
     "output_type": "stream",
     "text": [
      "100%|██████████| 23/23 [00:09<00:00,  2.45it/s]\n",
      " 33%|███▎      | 1/3 [00:00<00:00,  5.97it/s]"
     ]
    },
    {
     "name": "stdout",
     "output_type": "stream",
     "text": [
      "[2024-01-07 15:34:42.150387] Epoch: 8 training ends. Status: Average loss: 0.6170854322288347, Average SC accuracy: 0.958904109589041, Average S2S accuracy: 0.9694383082763206\n"
     ]
    },
    {
     "name": "stderr",
     "output_type": "stream",
     "text": [
      "100%|██████████| 3/3 [00:00<00:00,  6.97it/s]\n",
      "  0%|          | 0/23 [00:00<?, ?it/s]"
     ]
    },
    {
     "name": "stdout",
     "output_type": "stream",
     "text": [
      "[2024-01-07 15:34:42.582624] Epoch: 8 Evalutation ends. Status: Average loss: 0.7433692415555319, Average SC accuracy: 0.975, Average S2S accuracy: 0.9650663544106167\n"
     ]
    },
    {
     "name": "stderr",
     "output_type": "stream",
     "text": [
      "100%|██████████| 23/23 [00:09<00:00,  2.46it/s]\n",
      " 33%|███▎      | 1/3 [00:00<00:00,  5.46it/s]"
     ]
    },
    {
     "name": "stdout",
     "output_type": "stream",
     "text": [
      "[2024-01-07 15:34:51.937432] Epoch: 9 training ends. Status: Average loss: 0.5608256277830704, Average SC accuracy: 0.9616438356164384, Average S2S accuracy: 0.9722263924335686\n"
     ]
    },
    {
     "name": "stderr",
     "output_type": "stream",
     "text": [
      "100%|██████████| 3/3 [00:00<00:00,  6.66it/s]\n",
      "  0%|          | 0/1 [00:00<?, ?it/s]"
     ]
    },
    {
     "name": "stdout",
     "output_type": "stream",
     "text": [
      "[2024-01-07 15:34:52.389710] Epoch: 9 Evalutation ends. Status: Average loss: 0.7027390996615092, Average SC accuracy: 0.975, Average S2S accuracy: 0.9638953942232631\n"
     ]
    },
    {
     "name": "stderr",
     "output_type": "stream",
     "text": [
      "100%|██████████| 1/1 [00:04<00:00,  4.73s/it]\n"
     ]
    },
    {
     "name": "stdout",
     "output_type": "stream",
     "text": [
      "[INFO] 202210110644 is cleared.\n",
      "[INFO] SentenceTransformer is saved, 0.0003910064697265625 MB\n",
      "[INFO] SimpleEmbedder is saved, 90.92114543914795 MB\n",
      "[INFO] SimpleTransformerStack is saved, 216.4018907546997 MB\n",
      "[INFO] SimpleDecoderHead_S2S is saved, 91.68078327178955 MB\n",
      "[INFO] SimpleEncoderHead_AveragePooling_SC is saved, 2.2815237045288086 MB\n",
      "[INFO] 202210121247 is saved\n",
      "[INFO] finish 202210121247\n",
      "[INFO] <class 'sentence_transformers.SentenceTransformer.SentenceTransformer'> loaded for checkpoints_sbert_1/202210121247/SentenceTransformer.pt\n",
      "[INFO] SimpleEmbedder loaded for 202210121247.\n",
      "[INFO] SimpleTransformerStack loaded for 202210121247.\n",
      "[INFO] SimpleDecoderHead_S2S loaded for 202210121247.\n",
      "[WARN] no metadata found.\n"
     ]
    },
    {
     "name": "stderr",
     "output_type": "stream",
     "text": [
      "100%|██████████| 1/1 [00:00<00:00,  2.13it/s]\n",
      "100%|██████████| 1/1 [00:00<00:00, 21.38it/s]\n",
      "  0%|          | 0/1 [00:00<?, ?it/s]"
     ]
    },
    {
     "name": "stdout",
     "output_type": "stream",
     "text": [
      "[2024-01-07 15:35:34.671218] Epoch: 0 training ends. Status: Average loss: 7.145326137542725, Average SC accuracy: 0.6428571428571429, Average S2S accuracy: 0.7560224089635854\n",
      "[2024-01-07 15:35:34.719669] Epoch: 0 Evalutation ends. Status: Average loss: 13.459280014038086, Average SC accuracy: 1.0, Average S2S accuracy: 0.41568627450980394\n"
     ]
    },
    {
     "name": "stderr",
     "output_type": "stream",
     "text": [
      "100%|██████████| 1/1 [00:00<00:00,  2.42it/s]\n",
      "100%|██████████| 1/1 [00:00<00:00, 16.36it/s]\n",
      "  0%|          | 0/1 [00:00<?, ?it/s]"
     ]
    },
    {
     "name": "stdout",
     "output_type": "stream",
     "text": [
      "[2024-01-07 15:35:35.134542] Epoch: 1 training ends. Status: Average loss: 7.008881568908691, Average SC accuracy: 0.7857142857142857, Average S2S accuracy: 0.7669467787114846\n",
      "[2024-01-07 15:35:35.197035] Epoch: 1 Evalutation ends. Status: Average loss: 14.402087211608887, Average SC accuracy: 1.0, Average S2S accuracy: 0.4117647058823529\n"
     ]
    },
    {
     "name": "stderr",
     "output_type": "stream",
     "text": [
      "100%|██████████| 1/1 [00:00<00:00,  2.45it/s]\n",
      "100%|██████████| 1/1 [00:00<00:00, 22.28it/s]\n",
      "  0%|          | 0/1 [00:00<?, ?it/s]"
     ]
    },
    {
     "name": "stdout",
     "output_type": "stream",
     "text": [
      "[2024-01-07 15:35:35.607327] Epoch: 2 training ends. Status: Average loss: 7.117287635803223, Average SC accuracy: 0.6428571428571429, Average S2S accuracy: 0.7624649859943977\n",
      "[2024-01-07 15:35:35.653601] Epoch: 2 Evalutation ends. Status: Average loss: 13.376134872436523, Average SC accuracy: 1.0, Average S2S accuracy: 0.396078431372549\n"
     ]
    },
    {
     "name": "stderr",
     "output_type": "stream",
     "text": [
      "100%|██████████| 1/1 [00:00<00:00,  2.44it/s]\n",
      "100%|██████████| 1/1 [00:00<00:00, 18.82it/s]\n",
      "  0%|          | 0/1 [00:00<?, ?it/s]"
     ]
    },
    {
     "name": "stdout",
     "output_type": "stream",
     "text": [
      "[2024-01-07 15:35:36.064136] Epoch: 3 training ends. Status: Average loss: 6.858583927154541, Average SC accuracy: 0.7857142857142857, Average S2S accuracy: 0.7633053221288515\n",
      "[2024-01-07 15:35:36.118529] Epoch: 3 Evalutation ends. Status: Average loss: 12.909446716308594, Average SC accuracy: 1.0, Average S2S accuracy: 0.4117647058823529\n"
     ]
    },
    {
     "name": "stderr",
     "output_type": "stream",
     "text": [
      "100%|██████████| 1/1 [00:00<00:00,  2.48it/s]\n",
      "100%|██████████| 1/1 [00:00<00:00, 19.34it/s]\n",
      "  0%|          | 0/1 [00:00<?, ?it/s]"
     ]
    },
    {
     "name": "stdout",
     "output_type": "stream",
     "text": [
      "[2024-01-07 15:35:36.523411] Epoch: 4 training ends. Status: Average loss: 7.050210952758789, Average SC accuracy: 0.6428571428571429, Average S2S accuracy: 0.7672268907563026\n",
      "[2024-01-07 15:35:36.576567] Epoch: 4 Evalutation ends. Status: Average loss: 13.370649337768555, Average SC accuracy: 1.0, Average S2S accuracy: 0.3803921568627451\n"
     ]
    },
    {
     "name": "stderr",
     "output_type": "stream",
     "text": [
      "100%|██████████| 1/1 [00:00<00:00,  2.45it/s]\n",
      "100%|██████████| 1/1 [00:00<00:00, 23.03it/s]\n",
      "  0%|          | 0/1 [00:00<?, ?it/s]"
     ]
    },
    {
     "name": "stdout",
     "output_type": "stream",
     "text": [
      "[2024-01-07 15:35:36.985532] Epoch: 5 training ends. Status: Average loss: 6.976833343505859, Average SC accuracy: 0.6428571428571429, Average S2S accuracy: 0.7669467787114846\n",
      "[2024-01-07 15:35:37.030454] Epoch: 5 Evalutation ends. Status: Average loss: 13.347345352172852, Average SC accuracy: 1.0, Average S2S accuracy: 0.41568627450980394\n"
     ]
    },
    {
     "name": "stderr",
     "output_type": "stream",
     "text": [
      "100%|██████████| 1/1 [00:00<00:00,  2.43it/s]\n",
      "100%|██████████| 1/1 [00:00<00:00, 20.76it/s]\n",
      "  0%|          | 0/1 [00:00<?, ?it/s]"
     ]
    },
    {
     "name": "stdout",
     "output_type": "stream",
     "text": [
      "[2024-01-07 15:35:37.442468] Epoch: 6 training ends. Status: Average loss: 7.263232707977295, Average SC accuracy: 0.7142857142857143, Average S2S accuracy: 0.7546218487394958\n",
      "[2024-01-07 15:35:37.492511] Epoch: 6 Evalutation ends. Status: Average loss: 12.690505027770996, Average SC accuracy: 1.0, Average S2S accuracy: 0.43529411764705883\n"
     ]
    },
    {
     "name": "stderr",
     "output_type": "stream",
     "text": [
      "100%|██████████| 1/1 [00:00<00:00,  2.40it/s]\n",
      "100%|██████████| 1/1 [00:00<00:00, 16.04it/s]\n",
      "  0%|          | 0/1 [00:00<?, ?it/s]"
     ]
    },
    {
     "name": "stdout",
     "output_type": "stream",
     "text": [
      "[2024-01-07 15:35:37.910238] Epoch: 7 training ends. Status: Average loss: 6.959739685058594, Average SC accuracy: 0.8571428571428571, Average S2S accuracy: 0.7610644257703081\n",
      "[2024-01-07 15:35:37.974411] Epoch: 7 Evalutation ends. Status: Average loss: 12.996672630310059, Average SC accuracy: 1.0, Average S2S accuracy: 0.3843137254901961\n"
     ]
    },
    {
     "name": "stderr",
     "output_type": "stream",
     "text": [
      "100%|██████████| 1/1 [00:00<00:00,  2.44it/s]\n",
      "100%|██████████| 1/1 [00:00<00:00, 19.26it/s]\n",
      "  0%|          | 0/1 [00:00<?, ?it/s]"
     ]
    },
    {
     "name": "stdout",
     "output_type": "stream",
     "text": [
      "[2024-01-07 15:35:38.385266] Epoch: 8 training ends. Status: Average loss: 6.997275352478027, Average SC accuracy: 0.7142857142857143, Average S2S accuracy: 0.7630252100840336\n",
      "[2024-01-07 15:35:38.439131] Epoch: 8 Evalutation ends. Status: Average loss: 13.058740615844727, Average SC accuracy: 1.0, Average S2S accuracy: 0.3843137254901961\n"
     ]
    },
    {
     "name": "stderr",
     "output_type": "stream",
     "text": [
      "100%|██████████| 1/1 [00:00<00:00,  2.38it/s]\n",
      "100%|██████████| 1/1 [00:00<00:00, 20.82it/s]\n",
      "  0%|          | 0/3 [00:00<?, ?it/s]"
     ]
    },
    {
     "name": "stdout",
     "output_type": "stream",
     "text": [
      "[2024-01-07 15:35:38.861547] Epoch: 9 training ends. Status: Average loss: 6.849948883056641, Average SC accuracy: 0.8571428571428571, Average S2S accuracy: 0.7610644257703081\n",
      "[2024-01-07 15:35:38.912430] Epoch: 9 Evalutation ends. Status: Average loss: 12.293511390686035, Average SC accuracy: 1.0, Average S2S accuracy: 0.4470588235294118\n"
     ]
    },
    {
     "name": "stderr",
     "output_type": "stream",
     "text": [
      "100%|██████████| 3/3 [00:08<00:00,  2.79s/it]\n"
     ]
    },
    {
     "name": "stdout",
     "output_type": "stream",
     "text": [
      "[INFO] 202210121247 is cleared.\n",
      "[INFO] SentenceTransformer is saved, 0.0003910064697265625 MB\n",
      "[INFO] SimpleEmbedder is saved, 90.92114543914795 MB\n",
      "[INFO] SimpleTransformerStack is saved, 216.4018907546997 MB\n",
      "[INFO] SimpleDecoderHead_S2S is saved, 91.68078327178955 MB\n",
      "[INFO] SimpleEncoderHead_AveragePooling_SC is saved, 2.2815237045288086 MB\n",
      "[INFO] 202210130649 is saved\n",
      "[INFO] finish 202210130649\n",
      "[INFO] <class 'sentence_transformers.SentenceTransformer.SentenceTransformer'> loaded for checkpoints_sbert_1/202210130649/SentenceTransformer.pt\n",
      "[INFO] SimpleEmbedder loaded for 202210130649.\n",
      "[INFO] SimpleTransformerStack loaded for 202210130649.\n",
      "[INFO] SimpleDecoderHead_S2S loaded for 202210130649.\n",
      "[WARN] no metadata found.\n"
     ]
    },
    {
     "name": "stderr",
     "output_type": "stream",
     "text": [
      "100%|██████████| 3/3 [00:01<00:00,  2.66it/s]\n",
      "100%|██████████| 1/1 [00:00<00:00, 14.21it/s]\n",
      "  0%|          | 0/3 [00:00<?, ?it/s]"
     ]
    },
    {
     "name": "stdout",
     "output_type": "stream",
     "text": [
      "[2024-01-07 15:36:17.258202] Epoch: 0 training ends. Status: Average loss: 3.2707298596700034, Average SC accuracy: 0.12195121951219512, Average S2S accuracy: 0.9222885460074333\n",
      "[2024-01-07 15:36:17.330117] Epoch: 0 Evalutation ends. Status: Average loss: 3.867201566696167, Average SC accuracy: 0.0, Average S2S accuracy: 0.9147869674185464\n"
     ]
    },
    {
     "name": "stderr",
     "output_type": "stream",
     "text": [
      "100%|██████████| 3/3 [00:01<00:00,  2.76it/s]\n",
      "100%|██████████| 1/1 [00:00<00:00, 14.06it/s]\n",
      "  0%|          | 0/3 [00:00<?, ?it/s]"
     ]
    },
    {
     "name": "stdout",
     "output_type": "stream",
     "text": [
      "[2024-01-07 15:36:18.419430] Epoch: 1 training ends. Status: Average loss: 3.274873415629069, Average SC accuracy: 0.024390243902439025, Average S2S accuracy: 0.9266809325374479\n",
      "[2024-01-07 15:36:18.492203] Epoch: 1 Evalutation ends. Status: Average loss: 3.589672088623047, Average SC accuracy: 0.0, Average S2S accuracy: 0.9110275689223057\n"
     ]
    },
    {
     "name": "stderr",
     "output_type": "stream",
     "text": [
      "100%|██████████| 3/3 [00:01<00:00,  2.71it/s]\n",
      "100%|██████████| 1/1 [00:00<00:00, 13.26it/s]\n",
      "  0%|          | 0/3 [00:00<?, ?it/s]"
     ]
    },
    {
     "name": "stdout",
     "output_type": "stream",
     "text": [
      "[2024-01-07 15:36:19.603281] Epoch: 2 training ends. Status: Average loss: 3.28955070177714, Average SC accuracy: 0.04878048780487805, Average S2S accuracy: 0.9261178060592409\n",
      "[2024-01-07 15:36:19.680261] Epoch: 2 Evalutation ends. Status: Average loss: 3.3718533515930176, Average SC accuracy: 0.0, Average S2S accuracy: 0.9072681704260651\n"
     ]
    },
    {
     "name": "stderr",
     "output_type": "stream",
     "text": [
      "100%|██████████| 3/3 [00:01<00:00,  2.66it/s]\n",
      "100%|██████████| 1/1 [00:00<00:00, 14.20it/s]\n",
      "  0%|          | 0/3 [00:00<?, ?it/s]"
     ]
    },
    {
     "name": "stdout",
     "output_type": "stream",
     "text": [
      "[2024-01-07 15:36:20.808239] Epoch: 3 training ends. Status: Average loss: 3.2087915738423667, Average SC accuracy: 0.04878048780487805, Average S2S accuracy: 0.9301723167023314\n",
      "[2024-01-07 15:36:20.880582] Epoch: 3 Evalutation ends. Status: Average loss: 3.2980141639709473, Average SC accuracy: 0.25, Average S2S accuracy: 0.9172932330827067\n"
     ]
    },
    {
     "name": "stderr",
     "output_type": "stream",
     "text": [
      "100%|██████████| 3/3 [00:01<00:00,  2.63it/s]\n",
      "100%|██████████| 1/1 [00:00<00:00, 14.37it/s]\n",
      "  0%|          | 0/3 [00:00<?, ?it/s]"
     ]
    },
    {
     "name": "stdout",
     "output_type": "stream",
     "text": [
      "[2024-01-07 15:36:22.022417] Epoch: 4 training ends. Status: Average loss: 3.2135752042134604, Average SC accuracy: 0.12195121951219512, Average S2S accuracy: 0.9270188084243721\n",
      "[2024-01-07 15:36:22.093632] Epoch: 4 Evalutation ends. Status: Average loss: 3.524714231491089, Average SC accuracy: 0.25, Average S2S accuracy: 0.9110275689223057\n"
     ]
    },
    {
     "name": "stderr",
     "output_type": "stream",
     "text": [
      "100%|██████████| 3/3 [00:01<00:00,  2.73it/s]\n",
      "100%|██████████| 1/1 [00:00<00:00, 16.26it/s]\n",
      "  0%|          | 0/3 [00:00<?, ?it/s]"
     ]
    },
    {
     "name": "stdout",
     "output_type": "stream",
     "text": [
      "[2024-01-07 15:36:23.195174] Epoch: 5 training ends. Status: Average loss: 3.1088853677113852, Average SC accuracy: 0.0975609756097561, Average S2S accuracy: 0.9309606937718211\n",
      "[2024-01-07 15:36:23.258018] Epoch: 5 Evalutation ends. Status: Average loss: 3.41957688331604, Average SC accuracy: 0.25, Average S2S accuracy: 0.9085213032581454\n"
     ]
    },
    {
     "name": "stderr",
     "output_type": "stream",
     "text": [
      "100%|██████████| 3/3 [00:01<00:00,  2.68it/s]\n",
      "100%|██████████| 1/1 [00:00<00:00, 13.99it/s]\n",
      "  0%|          | 0/3 [00:00<?, ?it/s]"
     ]
    },
    {
     "name": "stdout",
     "output_type": "stream",
     "text": [
      "[2024-01-07 15:36:24.378816] Epoch: 6 training ends. Status: Average loss: 3.025660673777262, Average SC accuracy: 0.24390243902439024, Average S2S accuracy: 0.9287081878589931\n",
      "[2024-01-07 15:36:24.451851] Epoch: 6 Evalutation ends. Status: Average loss: 3.057628631591797, Average SC accuracy: 0.75, Average S2S accuracy: 0.9210526315789473\n"
     ]
    },
    {
     "name": "stderr",
     "output_type": "stream",
     "text": [
      "100%|██████████| 3/3 [00:01<00:00,  2.66it/s]\n",
      "100%|██████████| 1/1 [00:00<00:00, 13.60it/s]\n",
      "  0%|          | 0/3 [00:00<?, ?it/s]"
     ]
    },
    {
     "name": "stdout",
     "output_type": "stream",
     "text": [
      "[2024-01-07 15:36:25.580258] Epoch: 7 training ends. Status: Average loss: 2.885350545247396, Average SC accuracy: 0.2682926829268293, Average S2S accuracy: 0.931749070841311\n",
      "[2024-01-07 15:36:25.655484] Epoch: 7 Evalutation ends. Status: Average loss: 3.0377039909362793, Average SC accuracy: 0.25, Average S2S accuracy: 0.9210526315789473\n"
     ]
    },
    {
     "name": "stderr",
     "output_type": "stream",
     "text": [
      "100%|██████████| 3/3 [00:01<00:00,  2.70it/s]\n",
      "100%|██████████| 1/1 [00:00<00:00, 14.97it/s]\n",
      "  0%|          | 0/3 [00:00<?, ?it/s]"
     ]
    },
    {
     "name": "stdout",
     "output_type": "stream",
     "text": [
      "[2024-01-07 15:36:26.766086] Epoch: 8 training ends. Status: Average loss: 2.7789599895477295, Average SC accuracy: 0.2926829268292683, Average S2S accuracy: 0.9291586890415587\n",
      "[2024-01-07 15:36:26.834207] Epoch: 8 Evalutation ends. Status: Average loss: 3.0961310863494873, Average SC accuracy: 0.25, Average S2S accuracy: 0.9210526315789473\n"
     ]
    },
    {
     "name": "stderr",
     "output_type": "stream",
     "text": [
      "100%|██████████| 3/3 [00:01<00:00,  2.73it/s]\n",
      "100%|██████████| 1/1 [00:00<00:00, 13.87it/s]\n",
      "  0%|          | 0/11 [00:00<?, ?it/s]"
     ]
    },
    {
     "name": "stdout",
     "output_type": "stream",
     "text": [
      "[2024-01-07 15:36:27.935710] Epoch: 9 training ends. Status: Average loss: 2.598997433980306, Average SC accuracy: 0.5853658536585366, Average S2S accuracy: 0.9308480684761797\n",
      "[2024-01-07 15:36:28.009422] Epoch: 9 Evalutation ends. Status: Average loss: 2.858795642852783, Average SC accuracy: 1.0, Average S2S accuracy: 0.9160401002506265\n"
     ]
    },
    {
     "name": "stderr",
     "output_type": "stream",
     "text": [
      "100%|██████████| 11/11 [00:36<00:00,  3.30s/it]\n"
     ]
    },
    {
     "name": "stdout",
     "output_type": "stream",
     "text": [
      "[INFO] 202210130649 is cleared.\n",
      "[INFO] SentenceTransformer is saved, 0.0003910064697265625 MB\n",
      "[INFO] SimpleEmbedder is saved, 90.92114543914795 MB\n",
      "[INFO] SimpleTransformerStack is saved, 216.4018907546997 MB\n",
      "[INFO] SimpleDecoderHead_S2S is saved, 91.68078327178955 MB\n",
      "[INFO] SimpleEncoderHead_AveragePooling_SC is saved, 2.2815237045288086 MB\n",
      "[INFO] 202210181310 is saved\n",
      "[INFO] finish 202210181310\n",
      "[INFO] <class 'sentence_transformers.SentenceTransformer.SentenceTransformer'> loaded for checkpoints_sbert_1/202210181310/SentenceTransformer.pt\n",
      "[INFO] SimpleEmbedder loaded for 202210181310.\n",
      "[INFO] SimpleTransformerStack loaded for 202210181310.\n",
      "[INFO] SimpleDecoderHead_S2S loaded for 202210181310.\n",
      "[WARN] no metadata found.\n"
     ]
    },
    {
     "name": "stderr",
     "output_type": "stream",
     "text": [
      "100%|██████████| 17/17 [00:07<00:00,  2.37it/s]\n",
      " 50%|█████     | 1/2 [00:00<00:00,  5.64it/s]"
     ]
    },
    {
     "name": "stdout",
     "output_type": "stream",
     "text": [
      "[2024-01-07 15:37:48.703925] Epoch: 0 training ends. Status: Average loss: 6.504748344421387, Average SC accuracy: 0.3333333333333333, Average S2S accuracy: 0.8133358201995711\n"
     ]
    },
    {
     "name": "stderr",
     "output_type": "stream",
     "text": [
      "100%|██████████| 2/2 [00:00<00:00,  5.98it/s]\n",
      "  0%|          | 0/17 [00:00<?, ?it/s]"
     ]
    },
    {
     "name": "stdout",
     "output_type": "stream",
     "text": [
      "[2024-01-07 15:37:49.039784] Epoch: 0 Evalutation ends. Status: Average loss: 6.130372524261475, Average SC accuracy: 0.26666666666666666, Average S2S accuracy: 0.8196781949324949\n"
     ]
    },
    {
     "name": "stderr",
     "output_type": "stream",
     "text": [
      "100%|██████████| 17/17 [00:07<00:00,  2.37it/s]\n",
      " 50%|█████     | 1/2 [00:00<00:00,  5.61it/s]"
     ]
    },
    {
     "name": "stdout",
     "output_type": "stream",
     "text": [
      "[2024-01-07 15:37:56.206529] Epoch: 1 training ends. Status: Average loss: 5.9344139940598435, Average SC accuracy: 0.37777777777777777, Average S2S accuracy: 0.8202368740091392\n"
     ]
    },
    {
     "name": "stderr",
     "output_type": "stream",
     "text": [
      "100%|██████████| 2/2 [00:00<00:00,  6.05it/s]\n",
      "  0%|          | 0/17 [00:00<?, ?it/s]"
     ]
    },
    {
     "name": "stdout",
     "output_type": "stream",
     "text": [
      "[2024-01-07 15:37:56.538600] Epoch: 1 Evalutation ends. Status: Average loss: 5.272887229919434, Average SC accuracy: 0.5333333333333333, Average S2S accuracy: 0.82707601257629\n"
     ]
    },
    {
     "name": "stderr",
     "output_type": "stream",
     "text": [
      "100%|██████████| 17/17 [00:07<00:00,  2.37it/s]\n",
      " 50%|█████     | 1/2 [00:00<00:00,  5.58it/s]"
     ]
    },
    {
     "name": "stdout",
     "output_type": "stream",
     "text": [
      "[2024-01-07 15:38:03.700856] Epoch: 2 training ends. Status: Average loss: 5.111514231737922, Average SC accuracy: 0.4925925925925926, Average S2S accuracy: 0.8282570176256645\n"
     ]
    },
    {
     "name": "stderr",
     "output_type": "stream",
     "text": [
      "100%|██████████| 2/2 [00:00<00:00,  5.78it/s]\n",
      "  0%|          | 0/17 [00:00<?, ?it/s]"
     ]
    },
    {
     "name": "stdout",
     "output_type": "stream",
     "text": [
      "[2024-01-07 15:38:04.048506] Epoch: 2 Evalutation ends. Status: Average loss: 4.431797504425049, Average SC accuracy: 0.7333333333333333, Average S2S accuracy: 0.8431662659515443\n"
     ]
    },
    {
     "name": "stderr",
     "output_type": "stream",
     "text": [
      "100%|██████████| 17/17 [00:07<00:00,  2.36it/s]\n",
      " 50%|█████     | 1/2 [00:00<00:00,  5.58it/s]"
     ]
    },
    {
     "name": "stdout",
     "output_type": "stream",
     "text": [
      "[2024-01-07 15:38:11.238579] Epoch: 3 training ends. Status: Average loss: 4.304219259935267, Average SC accuracy: 0.662962962962963, Average S2S accuracy: 0.8392614007274084\n"
     ]
    },
    {
     "name": "stderr",
     "output_type": "stream",
     "text": [
      "100%|██████████| 2/2 [00:00<00:00,  5.80it/s]\n",
      "  0%|          | 0/17 [00:00<?, ?it/s]"
     ]
    },
    {
     "name": "stdout",
     "output_type": "stream",
     "text": [
      "[2024-01-07 15:38:11.584886] Epoch: 3 Evalutation ends. Status: Average loss: 3.707510232925415, Average SC accuracy: 0.8333333333333334, Average S2S accuracy: 0.849639356389865\n"
     ]
    },
    {
     "name": "stderr",
     "output_type": "stream",
     "text": [
      "100%|██████████| 17/17 [00:07<00:00,  2.37it/s]\n",
      " 50%|█████     | 1/2 [00:00<00:00,  5.36it/s]"
     ]
    },
    {
     "name": "stdout",
     "output_type": "stream",
     "text": [
      "[2024-01-07 15:38:18.763158] Epoch: 4 training ends. Status: Average loss: 3.568428572486429, Average SC accuracy: 0.8481481481481481, Average S2S accuracy: 0.8512916161521962\n"
     ]
    },
    {
     "name": "stderr",
     "output_type": "stream",
     "text": [
      "100%|██████████| 2/2 [00:00<00:00,  5.64it/s]\n",
      "  0%|          | 0/17 [00:00<?, ?it/s]"
     ]
    },
    {
     "name": "stdout",
     "output_type": "stream",
     "text": [
      "[2024-01-07 15:38:19.119370] Epoch: 4 Evalutation ends. Status: Average loss: 3.0466774702072144, Average SC accuracy: 0.9, Average S2S accuracy: 0.8636952099130757\n"
     ]
    },
    {
     "name": "stderr",
     "output_type": "stream",
     "text": [
      "100%|██████████| 17/17 [00:07<00:00,  2.37it/s]\n",
      " 50%|█████     | 1/2 [00:00<00:00,  5.72it/s]"
     ]
    },
    {
     "name": "stdout",
     "output_type": "stream",
     "text": [
      "[2024-01-07 15:38:26.280875] Epoch: 5 training ends. Status: Average loss: 3.026627358268289, Average SC accuracy: 0.9111111111111111, Average S2S accuracy: 0.8620535297957661\n"
     ]
    },
    {
     "name": "stderr",
     "output_type": "stream",
     "text": [
      "100%|██████████| 2/2 [00:00<00:00,  6.04it/s]\n",
      "  0%|          | 0/17 [00:00<?, ?it/s]"
     ]
    },
    {
     "name": "stdout",
     "output_type": "stream",
     "text": [
      "[2024-01-07 15:38:26.613760] Epoch: 5 Evalutation ends. Status: Average loss: 2.587381601333618, Average SC accuracy: 0.9666666666666667, Average S2S accuracy: 0.873682263732199\n"
     ]
    },
    {
     "name": "stderr",
     "output_type": "stream",
     "text": [
      "100%|██████████| 17/17 [00:07<00:00,  2.38it/s]\n",
      " 50%|█████     | 1/2 [00:00<00:00,  5.77it/s]"
     ]
    },
    {
     "name": "stdout",
     "output_type": "stream",
     "text": [
      "[2024-01-07 15:38:33.768930] Epoch: 6 training ends. Status: Average loss: 2.568021157208611, Average SC accuracy: 0.9814814814814815, Average S2S accuracy: 0.8712487177095962\n"
     ]
    },
    {
     "name": "stderr",
     "output_type": "stream",
     "text": [
      "100%|██████████| 2/2 [00:00<00:00,  6.10it/s]\n",
      "  0%|          | 0/17 [00:00<?, ?it/s]"
     ]
    },
    {
     "name": "stdout",
     "output_type": "stream",
     "text": [
      "[2024-01-07 15:38:34.098271] Epoch: 6 Evalutation ends. Status: Average loss: 2.180530548095703, Average SC accuracy: 1.0, Average S2S accuracy: 0.8786757906417607\n"
     ]
    },
    {
     "name": "stderr",
     "output_type": "stream",
     "text": [
      "100%|██████████| 17/17 [00:07<00:00,  2.36it/s]\n",
      " 50%|█████     | 1/2 [00:00<00:00,  5.40it/s]"
     ]
    },
    {
     "name": "stdout",
     "output_type": "stream",
     "text": [
      "[2024-01-07 15:38:41.291987] Epoch: 7 training ends. Status: Average loss: 2.171959133709178, Average SC accuracy: 0.9925925925925926, Average S2S accuracy: 0.8828126457148187\n"
     ]
    },
    {
     "name": "stderr",
     "output_type": "stream",
     "text": [
      "100%|██████████| 2/2 [00:00<00:00,  5.90it/s]\n",
      "  0%|          | 0/17 [00:00<?, ?it/s]"
     ]
    },
    {
     "name": "stdout",
     "output_type": "stream",
     "text": [
      "[2024-01-07 15:38:41.632494] Epoch: 7 Evalutation ends. Status: Average loss: 1.8875236511230469, Average SC accuracy: 1.0, Average S2S accuracy: 0.8897725171074533\n"
     ]
    },
    {
     "name": "stderr",
     "output_type": "stream",
     "text": [
      "100%|██████████| 17/17 [00:07<00:00,  2.38it/s]\n",
      " 50%|█████     | 1/2 [00:00<00:00,  5.70it/s]"
     ]
    },
    {
     "name": "stdout",
     "output_type": "stream",
     "text": [
      "[2024-01-07 15:38:48.776646] Epoch: 8 training ends. Status: Average loss: 1.8903021041084738, Average SC accuracy: 1.0, Average S2S accuracy: 0.8926046815256924\n"
     ]
    },
    {
     "name": "stderr",
     "output_type": "stream",
     "text": [
      "100%|██████████| 2/2 [00:00<00:00,  6.08it/s]\n",
      "  0%|          | 0/17 [00:00<?, ?it/s]"
     ]
    },
    {
     "name": "stdout",
     "output_type": "stream",
     "text": [
      "[2024-01-07 15:38:49.106950] Epoch: 8 Evalutation ends. Status: Average loss: 1.6438063979148865, Average SC accuracy: 1.0, Average S2S accuracy: 0.9040133160717588\n"
     ]
    },
    {
     "name": "stderr",
     "output_type": "stream",
     "text": [
      "100%|██████████| 17/17 [00:07<00:00,  2.36it/s]\n",
      " 50%|█████     | 1/2 [00:00<00:00,  5.57it/s]"
     ]
    },
    {
     "name": "stdout",
     "output_type": "stream",
     "text": [
      "[2024-01-07 15:38:56.299900] Epoch: 9 training ends. Status: Average loss: 1.6244360839619356, Average SC accuracy: 1.0, Average S2S accuracy: 0.9020796418912618\n"
     ]
    },
    {
     "name": "stderr",
     "output_type": "stream",
     "text": [
      "100%|██████████| 2/2 [00:00<00:00,  6.02it/s]\n",
      "  0%|          | 0/8 [00:00<?, ?it/s]"
     ]
    },
    {
     "name": "stdout",
     "output_type": "stream",
     "text": [
      "[2024-01-07 15:38:56.634272] Epoch: 9 Evalutation ends. Status: Average loss: 1.399903655052185, Average SC accuracy: 1.0, Average S2S accuracy: 0.9101165156278898\n"
     ]
    },
    {
     "name": "stderr",
     "output_type": "stream",
     "text": [
      "100%|██████████| 8/8 [00:21<00:00,  2.66s/it]\n"
     ]
    },
    {
     "name": "stdout",
     "output_type": "stream",
     "text": [
      "[INFO] 202210181310 is cleared.\n",
      "[INFO] SentenceTransformer is saved, 0.0003910064697265625 MB\n",
      "[INFO] SimpleEmbedder is saved, 90.92114543914795 MB\n",
      "[INFO] SimpleTransformerStack is saved, 216.4018907546997 MB\n",
      "[INFO] SimpleDecoderHead_S2S is saved, 91.68078327178955 MB\n",
      "[INFO] SimpleEncoderHead_AveragePooling_SC is saved, 2.2815237045288086 MB\n",
      "[INFO] 202210200116 is saved\n",
      "[INFO] finish 202210200116\n",
      "[INFO] <class 'sentence_transformers.SentenceTransformer.SentenceTransformer'> loaded for checkpoints_sbert_1/202210200116/SentenceTransformer.pt\n",
      "[INFO] SimpleEmbedder loaded for 202210200116.\n",
      "[INFO] SimpleTransformerStack loaded for 202210200116.\n",
      "[INFO] SimpleDecoderHead_S2S loaded for 202210200116.\n",
      "[WARN] no metadata found.\n"
     ]
    },
    {
     "name": "stderr",
     "output_type": "stream",
     "text": [
      "100%|██████████| 11/11 [00:04<00:00,  2.51it/s]\n",
      " 50%|█████     | 1/2 [00:00<00:00,  5.19it/s]"
     ]
    },
    {
     "name": "stdout",
     "output_type": "stream",
     "text": [
      "[2024-01-07 15:39:56.162536] Epoch: 0 training ends. Status: Average loss: 4.528586994517934, Average SC accuracy: 0.037037037037037035, Average S2S accuracy: 0.869211091181746\n"
     ]
    },
    {
     "name": "stderr",
     "output_type": "stream",
     "text": [
      "100%|██████████| 2/2 [00:00<00:00,  8.06it/s]\n",
      "  0%|          | 0/11 [00:00<?, ?it/s]"
     ]
    },
    {
     "name": "stdout",
     "output_type": "stream",
     "text": [
      "[2024-01-07 15:39:56.411805] Epoch: 0 Evalutation ends. Status: Average loss: 4.581430673599243, Average SC accuracy: 0.05555555555555555, Average S2S accuracy: 0.8686011497399397\n"
     ]
    },
    {
     "name": "stderr",
     "output_type": "stream",
     "text": [
      "100%|██████████| 11/11 [00:04<00:00,  2.50it/s]\n",
      " 50%|█████     | 1/2 [00:00<00:00,  5.59it/s]"
     ]
    },
    {
     "name": "stdout",
     "output_type": "stream",
     "text": [
      "[2024-01-07 15:40:00.812893] Epoch: 1 training ends. Status: Average loss: 4.409616773778742, Average SC accuracy: 0.043209876543209874, Average S2S accuracy: 0.870063806639419\n"
     ]
    },
    {
     "name": "stderr",
     "output_type": "stream",
     "text": [
      "100%|██████████| 2/2 [00:00<00:00,  7.97it/s]\n",
      "  0%|          | 0/11 [00:00<?, ?it/s]"
     ]
    },
    {
     "name": "stdout",
     "output_type": "stream",
     "text": [
      "[2024-01-07 15:40:01.064749] Epoch: 1 Evalutation ends. Status: Average loss: 3.7544448375701904, Average SC accuracy: 0.05555555555555555, Average S2S accuracy: 0.8727073638105667\n"
     ]
    },
    {
     "name": "stderr",
     "output_type": "stream",
     "text": [
      "100%|██████████| 11/11 [00:04<00:00,  2.53it/s]\n",
      " 50%|█████     | 1/2 [00:00<00:00,  5.43it/s]"
     ]
    },
    {
     "name": "stdout",
     "output_type": "stream",
     "text": [
      "[2024-01-07 15:40:05.409840] Epoch: 2 training ends. Status: Average loss: 4.069523377852007, Average SC accuracy: 0.15432098765432098, Average S2S accuracy: 0.8754447352171484\n"
     ]
    },
    {
     "name": "stderr",
     "output_type": "stream",
     "text": [
      "100%|██████████| 2/2 [00:00<00:00,  8.43it/s]\n",
      "  0%|          | 0/11 [00:00<?, ?it/s]"
     ]
    },
    {
     "name": "stdout",
     "output_type": "stream",
     "text": [
      "[2024-01-07 15:40:05.648721] Epoch: 2 Evalutation ends. Status: Average loss: 3.7925750017166138, Average SC accuracy: 0.3888888888888889, Average S2S accuracy: 0.8718861209964412\n"
     ]
    },
    {
     "name": "stderr",
     "output_type": "stream",
     "text": [
      "100%|██████████| 11/11 [00:04<00:00,  2.52it/s]\n",
      " 50%|█████     | 1/2 [00:00<00:00,  5.53it/s]"
     ]
    },
    {
     "name": "stdout",
     "output_type": "stream",
     "text": [
      "[2024-01-07 15:40:10.010170] Epoch: 3 training ends. Status: Average loss: 3.7660692821849477, Average SC accuracy: 0.35802469135802467, Average S2S accuracy: 0.8784145373283543\n"
     ]
    },
    {
     "name": "stderr",
     "output_type": "stream",
     "text": [
      "100%|██████████| 2/2 [00:00<00:00,  8.62it/s]\n",
      "  0%|          | 0/11 [00:00<?, ?it/s]"
     ]
    },
    {
     "name": "stdout",
     "output_type": "stream",
     "text": [
      "[2024-01-07 15:40:10.243510] Epoch: 3 Evalutation ends. Status: Average loss: 3.3145952224731445, Average SC accuracy: 0.5555555555555556, Average S2S accuracy: 0.8757185874623598\n"
     ]
    },
    {
     "name": "stderr",
     "output_type": "stream",
     "text": [
      "100%|██████████| 11/11 [00:04<00:00,  2.52it/s]\n",
      " 50%|█████     | 1/2 [00:00<00:00,  5.50it/s]"
     ]
    },
    {
     "name": "stdout",
     "output_type": "stream",
     "text": [
      "[2024-01-07 15:40:14.613803] Epoch: 4 training ends. Status: Average loss: 3.3738676634701816, Average SC accuracy: 0.5555555555555556, Average S2S accuracy: 0.8800905642624012\n"
     ]
    },
    {
     "name": "stderr",
     "output_type": "stream",
     "text": [
      "100%|██████████| 2/2 [00:00<00:00,  8.45it/s]\n",
      "  0%|          | 0/11 [00:00<?, ?it/s]"
     ]
    },
    {
     "name": "stdout",
     "output_type": "stream",
     "text": [
      "[2024-01-07 15:40:14.854089] Epoch: 4 Evalutation ends. Status: Average loss: 2.824226140975952, Average SC accuracy: 0.6666666666666666, Average S2S accuracy: 0.8817410347659458\n"
     ]
    },
    {
     "name": "stderr",
     "output_type": "stream",
     "text": [
      "100%|██████████| 11/11 [00:04<00:00,  2.51it/s]\n",
      " 50%|█████     | 1/2 [00:00<00:00,  5.45it/s]"
     ]
    },
    {
     "name": "stdout",
     "output_type": "stream",
     "text": [
      "[2024-01-07 15:40:19.231488] Epoch: 5 training ends. Status: Average loss: 2.9849090576171875, Average SC accuracy: 0.7345679012345679, Average S2S accuracy: 0.885677320709224\n"
     ]
    },
    {
     "name": "stderr",
     "output_type": "stream",
     "text": [
      "100%|██████████| 2/2 [00:00<00:00,  8.50it/s]\n",
      "  0%|          | 0/11 [00:00<?, ?it/s]"
     ]
    },
    {
     "name": "stdout",
     "output_type": "stream",
     "text": [
      "[2024-01-07 15:40:19.468092] Epoch: 5 Evalutation ends. Status: Average loss: 2.6503700017929077, Average SC accuracy: 0.8888888888888888, Average S2S accuracy: 0.884204763208322\n"
     ]
    },
    {
     "name": "stderr",
     "output_type": "stream",
     "text": [
      "100%|██████████| 11/11 [00:04<00:00,  2.50it/s]\n",
      " 50%|█████     | 1/2 [00:00<00:00,  5.36it/s]"
     ]
    },
    {
     "name": "stdout",
     "output_type": "stream",
     "text": [
      "[2024-01-07 15:40:23.875464] Epoch: 6 training ends. Status: Average loss: 2.6456624161113393, Average SC accuracy: 0.8209876543209876, Average S2S accuracy: 0.8913522890999441\n"
     ]
    },
    {
     "name": "stderr",
     "output_type": "stream",
     "text": [
      "100%|██████████| 2/2 [00:00<00:00,  8.59it/s]\n",
      "  0%|          | 0/11 [00:00<?, ?it/s]"
     ]
    },
    {
     "name": "stdout",
     "output_type": "stream",
     "text": [
      "[2024-01-07 15:40:24.109447] Epoch: 6 Evalutation ends. Status: Average loss: 2.4204440116882324, Average SC accuracy: 1.0, Average S2S accuracy: 0.8833835203941965\n"
     ]
    },
    {
     "name": "stderr",
     "output_type": "stream",
     "text": [
      "100%|██████████| 11/11 [00:04<00:00,  2.52it/s]\n",
      " 50%|█████     | 1/2 [00:00<00:00,  5.47it/s]"
     ]
    },
    {
     "name": "stdout",
     "output_type": "stream",
     "text": [
      "[2024-01-07 15:40:28.483474] Epoch: 7 training ends. Status: Average loss: 2.3627473441037266, Average SC accuracy: 0.845679012345679, Average S2S accuracy: 0.8934399717721779\n"
     ]
    },
    {
     "name": "stderr",
     "output_type": "stream",
     "text": [
      "100%|██████████| 2/2 [00:00<00:00,  8.46it/s]\n",
      "  0%|          | 0/11 [00:00<?, ?it/s]"
     ]
    },
    {
     "name": "stdout",
     "output_type": "stream",
     "text": [
      "[2024-01-07 15:40:28.721134] Epoch: 7 Evalutation ends. Status: Average loss: 2.3919358253479004, Average SC accuracy: 1.0, Average S2S accuracy: 0.8877634820695319\n"
     ]
    },
    {
     "name": "stderr",
     "output_type": "stream",
     "text": [
      "100%|██████████| 11/11 [00:04<00:00,  2.51it/s]\n",
      "  0%|          | 0/2 [00:00<?, ?it/s]"
     ]
    },
    {
     "name": "stdout",
     "output_type": "stream",
     "text": [
      "[2024-01-07 15:40:33.112790] Epoch: 8 training ends. Status: Average loss: 2.111944166096774, Average SC accuracy: 0.9506172839506173, Average S2S accuracy: 0.8989385162751037\n"
     ]
    },
    {
     "name": "stderr",
     "output_type": "stream",
     "text": [
      "100%|██████████| 2/2 [00:00<00:00,  7.66it/s]\n",
      "  0%|          | 0/11 [00:00<?, ?it/s]"
     ]
    },
    {
     "name": "stdout",
     "output_type": "stream",
     "text": [
      "[2024-01-07 15:40:33.375445] Epoch: 8 Evalutation ends. Status: Average loss: 2.1088459491729736, Average SC accuracy: 1.0, Average S2S accuracy: 0.8872159868601149\n"
     ]
    },
    {
     "name": "stderr",
     "output_type": "stream",
     "text": [
      "100%|██████████| 11/11 [00:04<00:00,  2.50it/s]\n",
      " 50%|█████     | 1/2 [00:00<00:00,  5.46it/s]"
     ]
    },
    {
     "name": "stdout",
     "output_type": "stream",
     "text": [
      "[2024-01-07 15:40:37.784241] Epoch: 9 training ends. Status: Average loss: 1.8677575588226318, Average SC accuracy: 0.9814814814814815, Average S2S accuracy: 0.90473110059102\n"
     ]
    },
    {
     "name": "stderr",
     "output_type": "stream",
     "text": [
      "100%|██████████| 2/2 [00:00<00:00,  8.33it/s]\n",
      "  0%|          | 0/147 [00:00<?, ?it/s]"
     ]
    },
    {
     "name": "stdout",
     "output_type": "stream",
     "text": [
      "[2024-01-07 15:40:38.026147] Epoch: 9 Evalutation ends. Status: Average loss: 2.0054354071617126, Average SC accuracy: 1.0, Average S2S accuracy: 0.8924171913495756\n"
     ]
    },
    {
     "name": "stderr",
     "output_type": "stream",
     "text": [
      "100%|██████████| 147/147 [07:38<00:00,  3.12s/it]\n"
     ]
    },
    {
     "name": "stdout",
     "output_type": "stream",
     "text": [
      "[INFO] 202210200116 is cleared.\n",
      "[INFO] SentenceTransformer is saved, 0.0003910064697265625 MB\n",
      "[INFO] SimpleEmbedder is saved, 90.92114543914795 MB\n",
      "[INFO] SimpleTransformerStack is saved, 216.4018907546997 MB\n",
      "[INFO] SimpleDecoderHead_S2S is saved, 91.68078327178955 MB\n",
      "[INFO] SimpleEncoderHead_AveragePooling_SC is saved, 2.2815237045288086 MB\n",
      "[INFO] 202212132000 is saved\n",
      "[INFO] finish 202212132000\n",
      "[INFO] <class 'sentence_transformers.SentenceTransformer.SentenceTransformer'> loaded for checkpoints_sbert_1/202212132000/SentenceTransformer.pt\n",
      "[INFO] SimpleEmbedder loaded for 202212132000.\n",
      "[INFO] SimpleTransformerStack loaded for 202212132000.\n",
      "[INFO] SimpleDecoderHead_S2S loaded for 202212132000.\n",
      "[WARN] no metadata found.\n"
     ]
    },
    {
     "name": "stderr",
     "output_type": "stream",
     "text": [
      "100%|██████████| 401/401 [02:50<00:00,  2.35it/s]\n",
      "  2%|▏         | 1/45 [00:00<00:07,  5.62it/s]"
     ]
    },
    {
     "name": "stdout",
     "output_type": "stream",
     "text": [
      "[2024-01-07 15:51:36.315705] Epoch: 0 training ends. Status: Average loss: 2.76934053356808, Average SC accuracy: 0.830500545766412, Average S2S accuracy: 0.8809808304059219\n"
     ]
    },
    {
     "name": "stderr",
     "output_type": "stream",
     "text": [
      "100%|██████████| 45/45 [00:08<00:00,  5.58it/s]\n",
      "  0%|          | 0/401 [00:00<?, ?it/s]"
     ]
    },
    {
     "name": "stdout",
     "output_type": "stream",
     "text": [
      "[2024-01-07 15:51:44.384654] Epoch: 0 Evalutation ends. Status: Average loss: 1.2212823496924505, Average SC accuracy: 0.9985955056179775, Average S2S accuracy: 0.9181643973777105\n"
     ]
    },
    {
     "name": "stderr",
     "output_type": "stream",
     "text": [
      "100%|██████████| 401/401 [02:50<00:00,  2.35it/s]\n",
      "  2%|▏         | 1/45 [00:00<00:07,  5.63it/s]"
     ]
    },
    {
     "name": "stdout",
     "output_type": "stream",
     "text": [
      "[2024-01-07 15:54:34.743059] Epoch: 1 training ends. Status: Average loss: 0.8450460899203198, Average SC accuracy: 1.0, Average S2S accuracy: 0.9381107491856677\n"
     ]
    },
    {
     "name": "stderr",
     "output_type": "stream",
     "text": [
      "100%|██████████| 45/45 [00:08<00:00,  5.57it/s]\n",
      "  0%|          | 0/401 [00:00<?, ?it/s]"
     ]
    },
    {
     "name": "stdout",
     "output_type": "stream",
     "text": [
      "[2024-01-07 15:54:42.823068] Epoch: 1 Evalutation ends. Status: Average loss: 0.679144889778561, Average SC accuracy: 1.0, Average S2S accuracy: 0.9462161707850059\n"
     ]
    },
    {
     "name": "stderr",
     "output_type": "stream",
     "text": [
      "100%|██████████| 401/401 [02:51<00:00,  2.34it/s]\n",
      "  2%|▏         | 1/45 [00:00<00:07,  5.51it/s]"
     ]
    },
    {
     "name": "stdout",
     "output_type": "stream",
     "text": [
      "[2024-01-07 15:57:34.091992] Epoch: 2 training ends. Status: Average loss: 0.5545633369847723, Average SC accuracy: 1.0, Average S2S accuracy: 0.9553434318751948\n"
     ]
    },
    {
     "name": "stderr",
     "output_type": "stream",
     "text": [
      "100%|██████████| 45/45 [00:08<00:00,  5.55it/s]\n",
      "  0%|          | 0/401 [00:00<?, ?it/s]"
     ]
    },
    {
     "name": "stdout",
     "output_type": "stream",
     "text": [
      "[2024-01-07 15:57:42.208909] Epoch: 2 Evalutation ends. Status: Average loss: 0.5149023089143965, Average SC accuracy: 1.0, Average S2S accuracy: 0.9580097495377374\n"
     ]
    },
    {
     "name": "stderr",
     "output_type": "stream",
     "text": [
      "100%|██████████| 401/401 [02:50<00:00,  2.35it/s]\n",
      "  2%|▏         | 1/45 [00:00<00:08,  5.46it/s]"
     ]
    },
    {
     "name": "stdout",
     "output_type": "stream",
     "text": [
      "[2024-01-07 16:00:32.891798] Epoch: 3 training ends. Status: Average loss: 0.4287306311867778, Average SC accuracy: 1.0, Average S2S accuracy: 0.9642971634560418\n"
     ]
    },
    {
     "name": "stderr",
     "output_type": "stream",
     "text": [
      "100%|██████████| 45/45 [00:08<00:00,  5.60it/s]\n",
      "  0%|          | 0/401 [00:00<?, ?it/s]"
     ]
    },
    {
     "name": "stdout",
     "output_type": "stream",
     "text": [
      "[2024-01-07 16:00:40.924116] Epoch: 3 Evalutation ends. Status: Average loss: 0.4300209926234351, Average SC accuracy: 1.0, Average S2S accuracy: 0.964128424945369\n"
     ]
    },
    {
     "name": "stderr",
     "output_type": "stream",
     "text": [
      "100%|██████████| 401/401 [02:50<00:00,  2.36it/s]\n",
      "  2%|▏         | 1/45 [00:00<00:08,  5.47it/s]"
     ]
    },
    {
     "name": "stdout",
     "output_type": "stream",
     "text": [
      "[2024-01-07 16:03:31.188153] Epoch: 4 training ends. Status: Average loss: 0.35223452271220096, Average SC accuracy: 1.0, Average S2S accuracy: 0.970190844058457\n"
     ]
    },
    {
     "name": "stderr",
     "output_type": "stream",
     "text": [
      "100%|██████████| 45/45 [00:08<00:00,  5.57it/s]\n",
      "  0%|          | 0/401 [00:00<?, ?it/s]"
     ]
    },
    {
     "name": "stdout",
     "output_type": "stream",
     "text": [
      "[2024-01-07 16:03:39.274764] Epoch: 4 Evalutation ends. Status: Average loss: 0.3761103676425086, Average SC accuracy: 1.0, Average S2S accuracy: 0.9678937636577576\n"
     ]
    },
    {
     "name": "stderr",
     "output_type": "stream",
     "text": [
      "100%|██████████| 401/401 [02:49<00:00,  2.37it/s]\n",
      "  2%|▏         | 1/45 [00:00<00:08,  5.43it/s]"
     ]
    },
    {
     "name": "stdout",
     "output_type": "stream",
     "text": [
      "[2024-01-07 16:06:28.656536] Epoch: 5 training ends. Status: Average loss: 0.2938427748228249, Average SC accuracy: 1.0, Average S2S accuracy: 0.9749628796013788\n"
     ]
    },
    {
     "name": "stderr",
     "output_type": "stream",
     "text": [
      "100%|██████████| 45/45 [00:08<00:00,  5.54it/s]\n",
      "  0%|          | 0/401 [00:00<?, ?it/s]"
     ]
    },
    {
     "name": "stdout",
     "output_type": "stream",
     "text": [
      "[2024-01-07 16:06:36.777293] Epoch: 5 Evalutation ends. Status: Average loss: 0.3270062678390079, Average SC accuracy: 1.0, Average S2S accuracy: 0.971780131114473\n"
     ]
    },
    {
     "name": "stderr",
     "output_type": "stream",
     "text": [
      "100%|██████████| 401/401 [02:49<00:00,  2.37it/s]\n",
      "  2%|▏         | 1/45 [00:00<00:08,  5.18it/s]"
     ]
    },
    {
     "name": "stdout",
     "output_type": "stream",
     "text": [
      "[2024-01-07 16:09:26.121763] Epoch: 6 training ends. Status: Average loss: 0.2510044886881574, Average SC accuracy: 1.0, Average S2S accuracy: 0.9785019275705736\n"
     ]
    },
    {
     "name": "stderr",
     "output_type": "stream",
     "text": [
      "100%|██████████| 45/45 [00:08<00:00,  5.55it/s]\n",
      "  0%|          | 0/401 [00:00<?, ?it/s]"
     ]
    },
    {
     "name": "stdout",
     "output_type": "stream",
     "text": [
      "[2024-01-07 16:09:34.234022] Epoch: 6 Evalutation ends. Status: Average loss: 0.29881283243497214, Average SC accuracy: 1.0, Average S2S accuracy: 0.9748932593713229\n"
     ]
    },
    {
     "name": "stderr",
     "output_type": "stream",
     "text": [
      "100%|██████████| 401/401 [02:49<00:00,  2.37it/s]\n",
      "  2%|▏         | 1/45 [00:00<00:07,  5.57it/s]"
     ]
    },
    {
     "name": "stdout",
     "output_type": "stream",
     "text": [
      "[2024-01-07 16:12:23.524260] Epoch: 7 training ends. Status: Average loss: 0.21617619570651256, Average SC accuracy: 1.0, Average S2S accuracy: 0.9814431633828098\n"
     ]
    },
    {
     "name": "stderr",
     "output_type": "stream",
     "text": [
      "100%|██████████| 45/45 [00:08<00:00,  5.60it/s]\n",
      "  0%|          | 0/401 [00:00<?, ?it/s]"
     ]
    },
    {
     "name": "stdout",
     "output_type": "stream",
     "text": [
      "[2024-01-07 16:12:31.568210] Epoch: 7 Evalutation ends. Status: Average loss: 0.27547785705990263, Average SC accuracy: 1.0, Average S2S accuracy: 0.9761035468145907\n"
     ]
    },
    {
     "name": "stderr",
     "output_type": "stream",
     "text": [
      "100%|██████████| 401/401 [02:50<00:00,  2.35it/s]\n",
      "  0%|          | 0/45 [00:00<?, ?it/s]"
     ]
    },
    {
     "name": "stdout",
     "output_type": "stream",
     "text": [
      "[2024-01-07 16:15:22.083263] Epoch: 8 training ends. Status: Average loss: 0.19805955925858823, Average SC accuracy: 1.0, Average S2S accuracy: 0.9828517582776434\n"
     ]
    },
    {
     "name": "stderr",
     "output_type": "stream",
     "text": [
      "100%|██████████| 45/45 [00:07<00:00,  5.66it/s]\n",
      "  0%|          | 0/401 [00:00<?, ?it/s]"
     ]
    },
    {
     "name": "stdout",
     "output_type": "stream",
     "text": [
      "[2024-01-07 16:15:30.041737] Epoch: 8 Evalutation ends. Status: Average loss: 0.25364422864384123, Average SC accuracy: 1.0, Average S2S accuracy: 0.9777307110438729\n"
     ]
    },
    {
     "name": "stderr",
     "output_type": "stream",
     "text": [
      "100%|██████████| 401/401 [02:49<00:00,  2.36it/s]\n",
      "  2%|▏         | 1/45 [00:00<00:07,  5.57it/s]"
     ]
    },
    {
     "name": "stdout",
     "output_type": "stream",
     "text": [
      "[2024-01-07 16:18:19.623946] Epoch: 9 training ends. Status: Average loss: 0.18766701351526074, Average SC accuracy: 1.0, Average S2S accuracy: 0.983826939358682\n"
     ]
    },
    {
     "name": "stderr",
     "output_type": "stream",
     "text": [
      "100%|██████████| 45/45 [00:07<00:00,  5.65it/s]\n",
      "  0%|          | 0/5 [00:00<?, ?it/s]"
     ]
    },
    {
     "name": "stdout",
     "output_type": "stream",
     "text": [
      "[2024-01-07 16:18:27.596152] Epoch: 9 Evalutation ends. Status: Average loss: 0.2510546604792277, Average SC accuracy: 1.0, Average S2S accuracy: 0.9782686165742142\n"
     ]
    },
    {
     "name": "stderr",
     "output_type": "stream",
     "text": [
      "100%|██████████| 5/5 [00:14<00:00,  2.96s/it]\n"
     ]
    },
    {
     "name": "stdout",
     "output_type": "stream",
     "text": [
      "[INFO] 202212132000 is cleared.\n",
      "[INFO] SentenceTransformer is saved, 0.0003910064697265625 MB\n",
      "[INFO] SimpleEmbedder is saved, 90.92114543914795 MB\n",
      "[INFO] SimpleTransformerStack is saved, 216.4018907546997 MB\n",
      "[INFO] SimpleDecoderHead_S2S is saved, 91.68078327178955 MB\n",
      "[INFO] SimpleEncoderHead_AveragePooling_SC is saved, 2.2815237045288086 MB\n",
      "[INFO] 202302070551 is saved\n",
      "[INFO] finish 202302070551\n",
      "[INFO] <class 'sentence_transformers.SentenceTransformer.SentenceTransformer'> loaded for checkpoints_sbert_1/202302070551/SentenceTransformer.pt\n",
      "[INFO] SimpleEmbedder loaded for 202302070551.\n",
      "[INFO] SimpleTransformerStack loaded for 202302070551.\n",
      "[INFO] SimpleDecoderHead_S2S loaded for 202302070551.\n",
      "[WARN] no metadata found.\n"
     ]
    },
    {
     "name": "stderr",
     "output_type": "stream",
     "text": [
      "100%|██████████| 7/7 [00:02<00:00,  2.56it/s]\n",
      "100%|██████████| 1/1 [00:00<00:00,  7.82it/s]\n",
      "  0%|          | 0/7 [00:00<?, ?it/s]"
     ]
    },
    {
     "name": "stdout",
     "output_type": "stream",
     "text": [
      "[2024-01-07 16:19:16.721237] Epoch: 0 training ends. Status: Average loss: 4.374365193503244, Average SC accuracy: 0.05555555555555555, Average S2S accuracy: 0.9105161822682681\n",
      "[2024-01-07 16:19:16.851163] Epoch: 0 Evalutation ends. Status: Average loss: 4.3661208152771, Average SC accuracy: 0.16666666666666666, Average S2S accuracy: 0.9179837676206749\n"
     ]
    },
    {
     "name": "stderr",
     "output_type": "stream",
     "text": [
      "100%|██████████| 7/7 [00:02<00:00,  2.49it/s]\n",
      "100%|██████████| 1/1 [00:00<00:00,  7.23it/s]\n",
      "  0%|          | 0/7 [00:00<?, ?it/s]"
     ]
    },
    {
     "name": "stdout",
     "output_type": "stream",
     "text": [
      "[2024-01-07 16:19:19.661599] Epoch: 1 training ends. Status: Average loss: 4.286817789077759, Average SC accuracy: 0.10185185185185185, Average S2S accuracy: 0.9111121298248831\n",
      "[2024-01-07 16:19:19.801576] Epoch: 1 Evalutation ends. Status: Average loss: 4.2256059646606445, Average SC accuracy: 0.25, Average S2S accuracy: 0.9141392567278941\n"
     ]
    },
    {
     "name": "stderr",
     "output_type": "stream",
     "text": [
      "100%|██████████| 7/7 [00:02<00:00,  2.48it/s]\n",
      "100%|██████████| 1/1 [00:00<00:00,  7.04it/s]\n",
      "  0%|          | 0/7 [00:00<?, ?it/s]"
     ]
    },
    {
     "name": "stdout",
     "output_type": "stream",
     "text": [
      "[2024-01-07 16:19:22.623095] Epoch: 2 training ends. Status: Average loss: 4.065074171338763, Average SC accuracy: 0.16666666666666666, Average S2S accuracy: 0.9129916567342073\n",
      "[2024-01-07 16:19:22.766232] Epoch: 2 Evalutation ends. Status: Average loss: 4.060268402099609, Average SC accuracy: 0.25, Average S2S accuracy: 0.9158479282357966\n"
     ]
    },
    {
     "name": "stderr",
     "output_type": "stream",
     "text": [
      "100%|██████████| 7/7 [00:02<00:00,  2.51it/s]\n",
      "100%|██████████| 1/1 [00:00<00:00,  8.13it/s]\n",
      "  0%|          | 0/7 [00:00<?, ?it/s]"
     ]
    },
    {
     "name": "stdout",
     "output_type": "stream",
     "text": [
      "[2024-01-07 16:19:25.555846] Epoch: 3 training ends. Status: Average loss: 3.724734136036464, Average SC accuracy: 0.2962962962962963, Average S2S accuracy: 0.9199596589346292\n",
      "[2024-01-07 16:19:25.680108] Epoch: 3 Evalutation ends. Status: Average loss: 3.7464728355407715, Average SC accuracy: 0.25, Average S2S accuracy: 0.9205467748825288\n"
     ]
    },
    {
     "name": "stderr",
     "output_type": "stream",
     "text": [
      "100%|██████████| 7/7 [00:02<00:00,  2.54it/s]\n",
      "100%|██████████| 1/1 [00:00<00:00,  7.84it/s]\n",
      "  0%|          | 0/7 [00:00<?, ?it/s]"
     ]
    },
    {
     "name": "stdout",
     "output_type": "stream",
     "text": [
      "[2024-01-07 16:19:28.437245] Epoch: 4 training ends. Status: Average loss: 3.4689312321799144, Average SC accuracy: 0.4444444444444444, Average S2S accuracy: 0.9182635005042633\n",
      "[2024-01-07 16:19:28.566296] Epoch: 4 Evalutation ends. Status: Average loss: 3.5901708602905273, Average SC accuracy: 0.5833333333333334, Average S2S accuracy: 0.9081589064502349\n"
     ]
    },
    {
     "name": "stderr",
     "output_type": "stream",
     "text": [
      "100%|██████████| 7/7 [00:02<00:00,  2.54it/s]\n",
      "100%|██████████| 1/1 [00:00<00:00,  8.41it/s]\n",
      "  0%|          | 0/7 [00:00<?, ?it/s]"
     ]
    },
    {
     "name": "stdout",
     "output_type": "stream",
     "text": [
      "[2024-01-07 16:19:31.327642] Epoch: 5 training ends. Status: Average loss: 3.057671751294817, Average SC accuracy: 0.6296296296296297, Average S2S accuracy: 0.9214266067662968\n",
      "[2024-01-07 16:19:31.447618] Epoch: 5 Evalutation ends. Status: Average loss: 3.0826680660247803, Average SC accuracy: 0.8333333333333334, Average S2S accuracy: 0.916702263989748\n"
     ]
    },
    {
     "name": "stderr",
     "output_type": "stream",
     "text": [
      "100%|██████████| 7/7 [00:02<00:00,  2.49it/s]\n",
      "100%|██████████| 1/1 [00:00<00:00,  7.10it/s]\n",
      "  0%|          | 0/7 [00:00<?, ?it/s]"
     ]
    },
    {
     "name": "stdout",
     "output_type": "stream",
     "text": [
      "[2024-01-07 16:19:34.260787] Epoch: 6 training ends. Status: Average loss: 2.6468903677804128, Average SC accuracy: 0.8148148148148148, Average S2S accuracy: 0.9300449252773448\n",
      "[2024-01-07 16:19:34.403343] Epoch: 6 Evalutation ends. Status: Average loss: 2.6723904609680176, Average SC accuracy: 1.0, Average S2S accuracy: 0.926527125160188\n"
     ]
    },
    {
     "name": "stderr",
     "output_type": "stream",
     "text": [
      "100%|██████████| 7/7 [00:02<00:00,  2.47it/s]\n",
      "100%|██████████| 1/1 [00:00<00:00,  7.03it/s]\n",
      "  0%|          | 0/7 [00:00<?, ?it/s]"
     ]
    },
    {
     "name": "stdout",
     "output_type": "stream",
     "text": [
      "[2024-01-07 16:19:37.244194] Epoch: 7 training ends. Status: Average loss: 2.25467780658177, Average SC accuracy: 0.9629629629629629, Average S2S accuracy: 0.9294489777207298\n",
      "[2024-01-07 16:19:37.387911] Epoch: 7 Evalutation ends. Status: Average loss: 2.3042194843292236, Average SC accuracy: 1.0, Average S2S accuracy: 0.9278086287911149\n"
     ]
    },
    {
     "name": "stderr",
     "output_type": "stream",
     "text": [
      "100%|██████████| 7/7 [00:02<00:00,  2.44it/s]\n",
      "100%|██████████| 1/1 [00:00<00:00,  7.06it/s]\n",
      "  0%|          | 0/7 [00:00<?, ?it/s]"
     ]
    },
    {
     "name": "stdout",
     "output_type": "stream",
     "text": [
      "[2024-01-07 16:19:40.262662] Epoch: 8 training ends. Status: Average loss: 1.9385816199438912, Average SC accuracy: 1.0, Average S2S accuracy: 0.9301824516365637\n",
      "[2024-01-07 16:19:40.405612] Epoch: 8 Evalutation ends. Status: Average loss: 1.9096823930740356, Average SC accuracy: 1.0, Average S2S accuracy: 0.9372063220845792\n"
     ]
    },
    {
     "name": "stderr",
     "output_type": "stream",
     "text": [
      "100%|██████████| 7/7 [00:02<00:00,  2.45it/s]\n",
      "100%|██████████| 1/1 [00:00<00:00,  6.83it/s]\n",
      "  0%|          | 0/2 [00:00<?, ?it/s]"
     ]
    },
    {
     "name": "stdout",
     "output_type": "stream",
     "text": [
      "[2024-01-07 16:19:43.267678] Epoch: 9 training ends. Status: Average loss: 1.612655861037118, Average SC accuracy: 0.9907407407407407, Average S2S accuracy: 0.9362336114421931\n",
      "[2024-01-07 16:19:43.415805] Epoch: 9 Evalutation ends. Status: Average loss: 1.677773118019104, Average SC accuracy: 1.0, Average S2S accuracy: 0.9346433148227253\n"
     ]
    },
    {
     "name": "stderr",
     "output_type": "stream",
     "text": [
      "100%|██████████| 2/2 [00:03<00:00,  1.91s/it]\n"
     ]
    },
    {
     "name": "stdout",
     "output_type": "stream",
     "text": [
      "[INFO] 202302070551 is cleared.\n",
      "[INFO] SentenceTransformer is saved, 0.0003910064697265625 MB\n",
      "[INFO] SimpleEmbedder is saved, 90.92114543914795 MB\n",
      "[INFO] SimpleTransformerStack is saved, 216.4018907546997 MB\n",
      "[INFO] SimpleDecoderHead_S2S is saved, 91.68078327178955 MB\n",
      "[INFO] SimpleEncoderHead_AveragePooling_SC is saved, 2.2815237045288086 MB\n",
      "[INFO] 202302071150 is saved\n",
      "[INFO] finish 202302071150\n",
      "[INFO] <class 'sentence_transformers.SentenceTransformer.SentenceTransformer'> loaded for checkpoints_sbert_1/202302071150/SentenceTransformer.pt\n",
      "[INFO] SimpleEmbedder loaded for 202302071150.\n",
      "[INFO] SimpleTransformerStack loaded for 202302071150.\n",
      "[INFO] SimpleDecoderHead_S2S loaded for 202302071150.\n",
      "[WARN] no metadata found.\n"
     ]
    },
    {
     "name": "stderr",
     "output_type": "stream",
     "text": [
      "100%|██████████| 2/2 [00:00<00:00,  2.77it/s]\n",
      "100%|██████████| 1/1 [00:00<00:00, 16.60it/s]\n",
      "  0%|          | 0/2 [00:00<?, ?it/s]"
     ]
    },
    {
     "name": "stdout",
     "output_type": "stream",
     "text": [
      "[2024-01-07 16:20:24.988074] Epoch: 0 training ends. Status: Average loss: 4.6914286613464355, Average SC accuracy: 0.1111111111111111, Average S2S accuracy: 0.8759091910954375\n",
      "[2024-01-07 16:20:25.050014] Epoch: 0 Evalutation ends. Status: Average loss: 4.250983238220215, Average SC accuracy: 0.0, Average S2S accuracy: 0.8776595744680851\n"
     ]
    },
    {
     "name": "stderr",
     "output_type": "stream",
     "text": [
      "100%|██████████| 2/2 [00:00<00:00,  2.84it/s]\n",
      "100%|██████████| 1/1 [00:00<00:00, 14.47it/s]\n",
      "  0%|          | 0/2 [00:00<?, ?it/s]"
     ]
    },
    {
     "name": "stdout",
     "output_type": "stream",
     "text": [
      "[2024-01-07 16:20:25.756772] Epoch: 1 training ends. Status: Average loss: 4.847105026245117, Average SC accuracy: 0.14814814814814814, Average S2S accuracy: 0.8681948424068768\n",
      "[2024-01-07 16:20:25.828090] Epoch: 1 Evalutation ends. Status: Average loss: 4.202568054199219, Average SC accuracy: 0.0, Average S2S accuracy: 0.9024822695035462\n"
     ]
    },
    {
     "name": "stderr",
     "output_type": "stream",
     "text": [
      "100%|██████████| 2/2 [00:00<00:00,  2.81it/s]\n",
      "100%|██████████| 1/1 [00:00<00:00, 17.53it/s]\n",
      "  0%|          | 0/2 [00:00<?, ?it/s]"
     ]
    },
    {
     "name": "stdout",
     "output_type": "stream",
     "text": [
      "[2024-01-07 16:20:26.543018] Epoch: 2 training ends. Status: Average loss: 4.811755418777466, Average SC accuracy: 0.2222222222222222, Average S2S accuracy: 0.8752479612078466\n",
      "[2024-01-07 16:20:26.601890] Epoch: 2 Evalutation ends. Status: Average loss: 4.155069828033447, Average SC accuracy: 0.0, Average S2S accuracy: 0.8794326241134752\n"
     ]
    },
    {
     "name": "stderr",
     "output_type": "stream",
     "text": [
      "100%|██████████| 2/2 [00:00<00:00,  2.87it/s]\n",
      "100%|██████████| 1/1 [00:00<00:00, 16.04it/s]\n",
      "  0%|          | 0/2 [00:00<?, ?it/s]"
     ]
    },
    {
     "name": "stdout",
     "output_type": "stream",
     "text": [
      "[2024-01-07 16:20:27.300048] Epoch: 3 training ends. Status: Average loss: 4.573094844818115, Average SC accuracy: 0.2222222222222222, Average S2S accuracy: 0.8789949305708618\n",
      "[2024-01-07 16:20:27.364459] Epoch: 3 Evalutation ends. Status: Average loss: 3.8172407150268555, Average SC accuracy: 0.3333333333333333, Average S2S accuracy: 0.900709219858156\n"
     ]
    },
    {
     "name": "stderr",
     "output_type": "stream",
     "text": [
      "100%|██████████| 2/2 [00:00<00:00,  2.78it/s]\n",
      "100%|██████████| 1/1 [00:00<00:00, 18.48it/s]\n",
      "  0%|          | 0/2 [00:00<?, ?it/s]"
     ]
    },
    {
     "name": "stdout",
     "output_type": "stream",
     "text": [
      "[2024-01-07 16:20:28.087132] Epoch: 4 training ends. Status: Average loss: 4.658453702926636, Average SC accuracy: 0.18518518518518517, Average S2S accuracy: 0.8743663213577254\n",
      "[2024-01-07 16:20:28.143655] Epoch: 4 Evalutation ends. Status: Average loss: 3.888566017150879, Average SC accuracy: 0.3333333333333333, Average S2S accuracy: 0.9024822695035462\n"
     ]
    },
    {
     "name": "stderr",
     "output_type": "stream",
     "text": [
      "100%|██████████| 2/2 [00:00<00:00,  2.85it/s]\n",
      "100%|██████████| 1/1 [00:00<00:00, 15.78it/s]\n",
      "  0%|          | 0/2 [00:00<?, ?it/s]"
     ]
    },
    {
     "name": "stdout",
     "output_type": "stream",
     "text": [
      "[2024-01-07 16:20:28.847371] Epoch: 5 training ends. Status: Average loss: 4.576394319534302, Average SC accuracy: 0.2222222222222222, Average S2S accuracy: 0.8789949305708618\n",
      "[2024-01-07 16:20:28.913308] Epoch: 5 Evalutation ends. Status: Average loss: 3.7600619792938232, Average SC accuracy: 0.3333333333333333, Average S2S accuracy: 0.8918439716312057\n"
     ]
    },
    {
     "name": "stderr",
     "output_type": "stream",
     "text": [
      "100%|██████████| 2/2 [00:00<00:00,  2.75it/s]\n",
      "100%|██████████| 1/1 [00:00<00:00, 18.59it/s]\n",
      "  0%|          | 0/2 [00:00<?, ?it/s]"
     ]
    },
    {
     "name": "stdout",
     "output_type": "stream",
     "text": [
      "[2024-01-07 16:20:29.645534] Epoch: 6 training ends. Status: Average loss: 4.458313226699829, Average SC accuracy: 0.2222222222222222, Average S2S accuracy: 0.8803173903460436\n",
      "[2024-01-07 16:20:29.700607] Epoch: 6 Evalutation ends. Status: Average loss: 3.481158494949341, Average SC accuracy: 0.3333333333333333, Average S2S accuracy: 0.9113475177304965\n"
     ]
    },
    {
     "name": "stderr",
     "output_type": "stream",
     "text": [
      "100%|██████████| 2/2 [00:00<00:00,  2.87it/s]\n",
      "100%|██████████| 1/1 [00:00<00:00, 17.26it/s]\n",
      "  0%|          | 0/2 [00:00<?, ?it/s]"
     ]
    },
    {
     "name": "stdout",
     "output_type": "stream",
     "text": [
      "[2024-01-07 16:20:30.397841] Epoch: 7 training ends. Status: Average loss: 4.239680290222168, Average SC accuracy: 0.3333333333333333, Average S2S accuracy: 0.8816398501212255\n",
      "[2024-01-07 16:20:30.457088] Epoch: 7 Evalutation ends. Status: Average loss: 3.795412302017212, Average SC accuracy: 0.3333333333333333, Average S2S accuracy: 0.9078014184397163\n"
     ]
    },
    {
     "name": "stderr",
     "output_type": "stream",
     "text": [
      "100%|██████████| 2/2 [00:00<00:00,  2.86it/s]\n",
      "100%|██████████| 1/1 [00:00<00:00, 18.87it/s]\n",
      "  0%|          | 0/2 [00:00<?, ?it/s]"
     ]
    },
    {
     "name": "stdout",
     "output_type": "stream",
     "text": [
      "[2024-01-07 16:20:31.159799] Epoch: 8 training ends. Status: Average loss: 4.297311305999756, Average SC accuracy: 0.2962962962962963, Average S2S accuracy: 0.8820806700462861\n",
      "[2024-01-07 16:20:31.214174] Epoch: 8 Evalutation ends. Status: Average loss: 4.030257225036621, Average SC accuracy: 0.3333333333333333, Average S2S accuracy: 0.8865248226950354\n"
     ]
    },
    {
     "name": "stderr",
     "output_type": "stream",
     "text": [
      "100%|██████████| 2/2 [00:00<00:00,  2.81it/s]\n",
      "100%|██████████| 1/1 [00:00<00:00, 16.41it/s]\n",
      "  0%|          | 0/16 [00:00<?, ?it/s]"
     ]
    },
    {
     "name": "stdout",
     "output_type": "stream",
     "text": [
      "[2024-01-07 16:20:31.926571] Epoch: 9 training ends. Status: Average loss: 4.186663389205933, Average SC accuracy: 0.2962962962962963, Average S2S accuracy: 0.8840643597090588\n",
      "[2024-01-07 16:20:31.988858] Epoch: 9 Evalutation ends. Status: Average loss: 3.658087968826294, Average SC accuracy: 0.3333333333333333, Average S2S accuracy: 0.8936170212765957\n"
     ]
    },
    {
     "name": "stderr",
     "output_type": "stream",
     "text": [
      "100%|██████████| 16/16 [00:44<00:00,  2.76s/it]\n"
     ]
    },
    {
     "name": "stdout",
     "output_type": "stream",
     "text": [
      "[INFO] 202302071150 is cleared.\n",
      "[INFO] SentenceTransformer is saved, 0.0003910064697265625 MB\n",
      "[INFO] SimpleEmbedder is saved, 90.92114543914795 MB\n",
      "[INFO] SimpleTransformerStack is saved, 216.4018907546997 MB\n",
      "[INFO] SimpleDecoderHead_S2S is saved, 91.68078327178955 MB\n",
      "[INFO] SimpleEncoderHead_AveragePooling_SC is saved, 2.2815237045288086 MB\n",
      "[INFO] 202304102150 is saved\n",
      "[INFO] finish 202304102150\n",
      "[INFO] <class 'sentence_transformers.SentenceTransformer.SentenceTransformer'> loaded for checkpoints_sbert_1/202304102150/SentenceTransformer.pt\n",
      "[INFO] SimpleEmbedder loaded for 202304102150.\n",
      "[INFO] SimpleTransformerStack loaded for 202304102150.\n",
      "[INFO] SimpleDecoderHead_S2S loaded for 202304102150.\n",
      "[WARN] no metadata found.\n"
     ]
    },
    {
     "name": "stderr",
     "output_type": "stream",
     "text": [
      "100%|██████████| 24/24 [00:10<00:00,  2.37it/s]\n",
      " 33%|███▎      | 1/3 [00:00<00:00,  5.56it/s]"
     ]
    },
    {
     "name": "stdout",
     "output_type": "stream",
     "text": [
      "[2024-01-07 16:22:04.095160] Epoch: 0 training ends. Status: Average loss: 6.118535657723744, Average SC accuracy: 0.18518518518518517, Average S2S accuracy: 0.8495303222939529\n"
     ]
    },
    {
     "name": "stderr",
     "output_type": "stream",
     "text": [
      "100%|██████████| 3/3 [00:00<00:00,  6.23it/s]\n",
      "  0%|          | 0/24 [00:00<?, ?it/s]"
     ]
    },
    {
     "name": "stdout",
     "output_type": "stream",
     "text": [
      "[2024-01-07 16:22:04.578463] Epoch: 0 Evalutation ends. Status: Average loss: 6.185165564219157, Average SC accuracy: 0.2619047619047619, Average S2S accuracy: 0.8389496717724289\n"
     ]
    },
    {
     "name": "stderr",
     "output_type": "stream",
     "text": [
      "100%|██████████| 24/24 [00:10<00:00,  2.39it/s]\n",
      " 33%|███▎      | 1/3 [00:00<00:00,  5.37it/s]"
     ]
    },
    {
     "name": "stdout",
     "output_type": "stream",
     "text": [
      "[2024-01-07 16:22:14.617271] Epoch: 1 training ends. Status: Average loss: 5.49694699048996, Average SC accuracy: 0.20105820105820105, Average S2S accuracy: 0.8554059225062645\n"
     ]
    },
    {
     "name": "stderr",
     "output_type": "stream",
     "text": [
      "100%|██████████| 3/3 [00:00<00:00,  6.21it/s]\n",
      "  0%|          | 0/24 [00:00<?, ?it/s]"
     ]
    },
    {
     "name": "stdout",
     "output_type": "stream",
     "text": [
      "[2024-01-07 16:22:15.101761] Epoch: 1 Evalutation ends. Status: Average loss: 5.489169438680013, Average SC accuracy: 0.14285714285714285, Average S2S accuracy: 0.8467177242888403\n"
     ]
    },
    {
     "name": "stderr",
     "output_type": "stream",
     "text": [
      "100%|██████████| 24/24 [00:09<00:00,  2.40it/s]\n",
      " 33%|███▎      | 1/3 [00:00<00:00,  5.55it/s]"
     ]
    },
    {
     "name": "stdout",
     "output_type": "stream",
     "text": [
      "[2024-01-07 16:22:25.084105] Epoch: 2 training ends. Status: Average loss: 4.6104656457901, Average SC accuracy: 0.41534391534391535, Average S2S accuracy: 0.8608618369891252\n"
     ]
    },
    {
     "name": "stderr",
     "output_type": "stream",
     "text": [
      "100%|██████████| 3/3 [00:00<00:00,  6.39it/s]\n",
      "  0%|          | 0/24 [00:00<?, ?it/s]"
     ]
    },
    {
     "name": "stdout",
     "output_type": "stream",
     "text": [
      "[2024-01-07 16:22:25.554925] Epoch: 2 Evalutation ends. Status: Average loss: 4.481588045756022, Average SC accuracy: 0.5714285714285714, Average S2S accuracy: 0.8516411378555798\n"
     ]
    },
    {
     "name": "stderr",
     "output_type": "stream",
     "text": [
      "100%|██████████| 24/24 [00:09<00:00,  2.41it/s]\n",
      " 33%|███▎      | 1/3 [00:00<00:00,  5.69it/s]"
     ]
    },
    {
     "name": "stdout",
     "output_type": "stream",
     "text": [
      "[2024-01-07 16:22:35.521676] Epoch: 3 training ends. Status: Average loss: 3.7317246198654175, Average SC accuracy: 0.7619047619047619, Average S2S accuracy: 0.8679841506918643\n"
     ]
    },
    {
     "name": "stderr",
     "output_type": "stream",
     "text": [
      "100%|██████████| 3/3 [00:00<00:00,  6.17it/s]\n",
      "  0%|          | 0/24 [00:00<?, ?it/s]"
     ]
    },
    {
     "name": "stdout",
     "output_type": "stream",
     "text": [
      "[2024-01-07 16:22:36.009450] Epoch: 3 Evalutation ends. Status: Average loss: 3.692595958709717, Average SC accuracy: 0.8333333333333334, Average S2S accuracy: 0.8589715536105033\n"
     ]
    },
    {
     "name": "stderr",
     "output_type": "stream",
     "text": [
      "100%|██████████| 24/24 [00:10<00:00,  2.40it/s]\n",
      " 33%|███▎      | 1/3 [00:00<00:00,  5.35it/s]"
     ]
    },
    {
     "name": "stdout",
     "output_type": "stream",
     "text": [
      "[2024-01-07 16:22:46.027286] Epoch: 4 training ends. Status: Average loss: 3.076590667168299, Average SC accuracy: 0.9444444444444444, Average S2S accuracy: 0.8761309913223804\n"
     ]
    },
    {
     "name": "stderr",
     "output_type": "stream",
     "text": [
      "100%|██████████| 3/3 [00:00<00:00,  6.15it/s]\n",
      "  0%|          | 0/24 [00:00<?, ?it/s]"
     ]
    },
    {
     "name": "stdout",
     "output_type": "stream",
     "text": [
      "[2024-01-07 16:22:46.517169] Epoch: 4 Evalutation ends. Status: Average loss: 3.005781809488932, Average SC accuracy: 0.9761904761904762, Average S2S accuracy: 0.8692560175054704\n"
     ]
    },
    {
     "name": "stderr",
     "output_type": "stream",
     "text": [
      "100%|██████████| 24/24 [00:09<00:00,  2.44it/s]\n",
      " 33%|███▎      | 1/3 [00:00<00:00,  5.53it/s]"
     ]
    },
    {
     "name": "stdout",
     "output_type": "stream",
     "text": [
      "[2024-01-07 16:22:56.368277] Epoch: 5 training ends. Status: Average loss: 2.555354197820028, Average SC accuracy: 0.9920634920634921, Average S2S accuracy: 0.8840803327860961\n"
     ]
    },
    {
     "name": "stderr",
     "output_type": "stream",
     "text": [
      "100%|██████████| 3/3 [00:00<00:00,  6.21it/s]\n",
      "  0%|          | 0/24 [00:00<?, ?it/s]"
     ]
    },
    {
     "name": "stdout",
     "output_type": "stream",
     "text": [
      "[2024-01-07 16:22:56.852948] Epoch: 5 Evalutation ends. Status: Average loss: 2.60736616452535, Average SC accuracy: 1.0, Average S2S accuracy: 0.8771334792122538\n"
     ]
    },
    {
     "name": "stderr",
     "output_type": "stream",
     "text": [
      "100%|██████████| 24/24 [00:09<00:00,  2.42it/s]\n",
      " 33%|███▎      | 1/3 [00:00<00:00,  5.56it/s]"
     ]
    },
    {
     "name": "stdout",
     "output_type": "stream",
     "text": [
      "[2024-01-07 16:23:06.767391] Epoch: 6 training ends. Status: Average loss: 2.1477667142947516, Average SC accuracy: 1.0, Average S2S accuracy: 0.8934862306049647\n"
     ]
    },
    {
     "name": "stderr",
     "output_type": "stream",
     "text": [
      "100%|██████████| 3/3 [00:00<00:00,  6.45it/s]\n",
      "  0%|          | 0/24 [00:00<?, ?it/s]"
     ]
    },
    {
     "name": "stdout",
     "output_type": "stream",
     "text": [
      "[2024-01-07 16:23:07.234048] Epoch: 6 Evalutation ends. Status: Average loss: 2.2272786299387612, Average SC accuracy: 1.0, Average S2S accuracy: 0.8841356673960613\n"
     ]
    },
    {
     "name": "stderr",
     "output_type": "stream",
     "text": [
      "100%|██████████| 24/24 [00:10<00:00,  2.36it/s]\n",
      " 33%|███▎      | 1/3 [00:00<00:00,  5.40it/s]"
     ]
    },
    {
     "name": "stdout",
     "output_type": "stream",
     "text": [
      "[2024-01-07 16:23:17.406769] Epoch: 7 training ends. Status: Average loss: 1.8443688750267029, Average SC accuracy: 1.0, Average S2S accuracy: 0.9020897880587067\n"
     ]
    },
    {
     "name": "stderr",
     "output_type": "stream",
     "text": [
      "100%|██████████| 3/3 [00:00<00:00,  6.09it/s]\n",
      "  0%|          | 0/24 [00:00<?, ?it/s]"
     ]
    },
    {
     "name": "stdout",
     "output_type": "stream",
     "text": [
      "[2024-01-07 16:23:17.900907] Epoch: 7 Evalutation ends. Status: Average loss: 1.9567519028981526, Average SC accuracy: 1.0, Average S2S accuracy: 0.8905908096280087\n"
     ]
    },
    {
     "name": "stderr",
     "output_type": "stream",
     "text": [
      "100%|██████████| 24/24 [00:10<00:00,  2.37it/s]\n",
      " 33%|███▎      | 1/3 [00:00<00:00,  5.59it/s]"
     ]
    },
    {
     "name": "stdout",
     "output_type": "stream",
     "text": [
      "[2024-01-07 16:23:28.008203] Epoch: 8 training ends. Status: Average loss: 1.5727677742640178, Average SC accuracy: 1.0, Average S2S accuracy: 0.9094342883240961\n"
     ]
    },
    {
     "name": "stderr",
     "output_type": "stream",
     "text": [
      "100%|██████████| 3/3 [00:00<00:00,  6.27it/s]\n",
      "  0%|          | 0/24 [00:00<?, ?it/s]"
     ]
    },
    {
     "name": "stdout",
     "output_type": "stream",
     "text": [
      "[2024-01-07 16:23:28.488093] Epoch: 8 Evalutation ends. Status: Average loss: 1.6483733256657918, Average SC accuracy: 1.0, Average S2S accuracy: 0.90054704595186\n"
     ]
    },
    {
     "name": "stderr",
     "output_type": "stream",
     "text": [
      "100%|██████████| 24/24 [00:10<00:00,  2.37it/s]\n",
      "  0%|          | 0/3 [00:00<?, ?it/s]"
     ]
    },
    {
     "name": "stdout",
     "output_type": "stream",
     "text": [
      "[2024-01-07 16:23:38.614984] Epoch: 9 training ends. Status: Average loss: 1.36215940117836, Average SC accuracy: 1.0, Average S2S accuracy: 0.9175811289546122\n"
     ]
    },
    {
     "name": "stderr",
     "output_type": "stream",
     "text": [
      "100%|██████████| 3/3 [00:00<00:00,  5.75it/s]\n",
      "  0%|          | 0/11 [00:00<?, ?it/s]"
     ]
    },
    {
     "name": "stdout",
     "output_type": "stream",
     "text": [
      "[2024-01-07 16:23:39.138355] Epoch: 9 Evalutation ends. Status: Average loss: 1.4764063159624736, Average SC accuracy: 1.0, Average S2S accuracy: 0.9042669584245077\n"
     ]
    },
    {
     "name": "stderr",
     "output_type": "stream",
     "text": [
      "100%|██████████| 11/11 [00:39<00:00,  3.61s/it]\n"
     ]
    },
    {
     "name": "stdout",
     "output_type": "stream",
     "text": [
      "[INFO] 202304102150 is cleared.\n",
      "[INFO] SentenceTransformer is saved, 0.0003910064697265625 MB\n",
      "[INFO] SimpleEmbedder is saved, 90.92114543914795 MB\n",
      "[INFO] SimpleTransformerStack is saved, 216.4018907546997 MB\n",
      "[INFO] SimpleDecoderHead_S2S is saved, 91.68078327178955 MB\n",
      "[INFO] SimpleEncoderHead_AveragePooling_SC is saved, 2.2815237045288086 MB\n",
      "[INFO] 202304110353 is saved\n",
      "[INFO] finish 202304110353\n",
      "[INFO] <class 'sentence_transformers.SentenceTransformer.SentenceTransformer'> loaded for checkpoints_sbert_1/202304110353/SentenceTransformer.pt\n",
      "[INFO] SimpleEmbedder loaded for 202304110353.\n",
      "[INFO] SimpleTransformerStack loaded for 202304110353.\n",
      "[INFO] SimpleDecoderHead_S2S loaded for 202304110353.\n",
      "[WARN] no metadata found.\n"
     ]
    },
    {
     "name": "stderr",
     "output_type": "stream",
     "text": [
      "100%|██████████| 24/24 [00:10<00:00,  2.36it/s]\n",
      " 33%|███▎      | 1/3 [00:00<00:00,  5.34it/s]"
     ]
    },
    {
     "name": "stdout",
     "output_type": "stream",
     "text": [
      "[2024-01-07 16:25:03.688119] Epoch: 0 training ends. Status: Average loss: 4.748903175195058, Average SC accuracy: 0.13227513227513227, Average S2S accuracy: 0.8528994778519312\n"
     ]
    },
    {
     "name": "stderr",
     "output_type": "stream",
     "text": [
      "100%|██████████| 3/3 [00:00<00:00,  5.98it/s]\n",
      "  0%|          | 0/24 [00:00<?, ?it/s]"
     ]
    },
    {
     "name": "stdout",
     "output_type": "stream",
     "text": [
      "[2024-01-07 16:25:04.191540] Epoch: 0 Evalutation ends. Status: Average loss: 4.416442235310872, Average SC accuracy: 0.21428571428571427, Average S2S accuracy: 0.8634625322997416\n"
     ]
    },
    {
     "name": "stderr",
     "output_type": "stream",
     "text": [
      "100%|██████████| 24/24 [00:10<00:00,  2.35it/s]\n",
      " 33%|███▎      | 1/3 [00:00<00:00,  5.45it/s]"
     ]
    },
    {
     "name": "stdout",
     "output_type": "stream",
     "text": [
      "[2024-01-07 16:25:14.425161] Epoch: 1 training ends. Status: Average loss: 4.206778486569722, Average SC accuracy: 0.4894179894179894, Average S2S accuracy: 0.8584898048572449\n"
     ]
    },
    {
     "name": "stderr",
     "output_type": "stream",
     "text": [
      "100%|██████████| 3/3 [00:00<00:00,  6.06it/s]\n",
      "  0%|          | 0/24 [00:00<?, ?it/s]"
     ]
    },
    {
     "name": "stdout",
     "output_type": "stream",
     "text": [
      "[2024-01-07 16:25:14.922079] Epoch: 1 Evalutation ends. Status: Average loss: 3.8093676567077637, Average SC accuracy: 0.6428571428571429, Average S2S accuracy: 0.8734883720930232\n"
     ]
    },
    {
     "name": "stderr",
     "output_type": "stream",
     "text": [
      "100%|██████████| 24/24 [00:10<00:00,  2.35it/s]\n",
      " 33%|███▎      | 1/3 [00:00<00:00,  5.64it/s]"
     ]
    },
    {
     "name": "stdout",
     "output_type": "stream",
     "text": [
      "[2024-01-07 16:25:25.114606] Epoch: 2 training ends. Status: Average loss: 3.4443493485450745, Average SC accuracy: 0.7857142857142857, Average S2S accuracy: 0.865970469241675\n"
     ]
    },
    {
     "name": "stderr",
     "output_type": "stream",
     "text": [
      "100%|██████████| 3/3 [00:00<00:00,  6.13it/s]\n",
      "  0%|          | 0/24 [00:00<?, ?it/s]"
     ]
    },
    {
     "name": "stdout",
     "output_type": "stream",
     "text": [
      "[2024-01-07 16:25:25.604882] Epoch: 2 Evalutation ends. Status: Average loss: 3.1504457791646323, Average SC accuracy: 0.8571428571428571, Average S2S accuracy: 0.8802067183462532\n"
     ]
    },
    {
     "name": "stderr",
     "output_type": "stream",
     "text": [
      "100%|██████████| 24/24 [00:10<00:00,  2.35it/s]\n",
      " 33%|███▎      | 1/3 [00:00<00:00,  5.22it/s]"
     ]
    },
    {
     "name": "stdout",
     "output_type": "stream",
     "text": [
      "[2024-01-07 16:25:35.801221] Epoch: 3 training ends. Status: Average loss: 2.7611155112584433, Average SC accuracy: 0.9232804232804233, Average S2S accuracy: 0.8754567354795578\n"
     ]
    },
    {
     "name": "stderr",
     "output_type": "stream",
     "text": [
      "100%|██████████| 3/3 [00:00<00:00,  5.93it/s]\n",
      "  0%|          | 0/24 [00:00<?, ?it/s]"
     ]
    },
    {
     "name": "stdout",
     "output_type": "stream",
     "text": [
      "[2024-01-07 16:25:36.308337] Epoch: 3 Evalutation ends. Status: Average loss: 2.5974762439727783, Average SC accuracy: 0.9523809523809523, Average S2S accuracy: 0.8852713178294573\n"
     ]
    },
    {
     "name": "stderr",
     "output_type": "stream",
     "text": [
      "100%|██████████| 24/24 [00:10<00:00,  2.35it/s]\n",
      " 33%|███▎      | 1/3 [00:00<00:00,  5.58it/s]"
     ]
    },
    {
     "name": "stdout",
     "output_type": "stream",
     "text": [
      "[2024-01-07 16:25:46.535309] Epoch: 4 training ends. Status: Average loss: 2.2993458608786264, Average SC accuracy: 0.9814814814814815, Average S2S accuracy: 0.8844358380303606\n"
     ]
    },
    {
     "name": "stderr",
     "output_type": "stream",
     "text": [
      "100%|██████████| 3/3 [00:00<00:00,  6.10it/s]\n",
      "  0%|          | 0/24 [00:00<?, ?it/s]"
     ]
    },
    {
     "name": "stdout",
     "output_type": "stream",
     "text": [
      "[2024-01-07 16:25:47.028210] Epoch: 4 Evalutation ends. Status: Average loss: 2.1161439021428428, Average SC accuracy: 1.0, Average S2S accuracy: 0.897467700258398\n"
     ]
    },
    {
     "name": "stderr",
     "output_type": "stream",
     "text": [
      "100%|██████████| 24/24 [00:10<00:00,  2.38it/s]\n",
      " 33%|███▎      | 1/3 [00:00<00:00,  5.41it/s]"
     ]
    },
    {
     "name": "stdout",
     "output_type": "stream",
     "text": [
      "[2024-01-07 16:25:57.127286] Epoch: 5 training ends. Status: Average loss: 1.9189624190330505, Average SC accuracy: 0.9973544973544973, Average S2S accuracy: 0.8948211671680671\n"
     ]
    },
    {
     "name": "stderr",
     "output_type": "stream",
     "text": [
      "100%|██████████| 3/3 [00:00<00:00,  6.07it/s]\n",
      "  0%|          | 0/24 [00:00<?, ?it/s]"
     ]
    },
    {
     "name": "stdout",
     "output_type": "stream",
     "text": [
      "[2024-01-07 16:25:57.623327] Epoch: 5 Evalutation ends. Status: Average loss: 1.8549081087112427, Average SC accuracy: 1.0, Average S2S accuracy: 0.9050129198966408\n"
     ]
    },
    {
     "name": "stderr",
     "output_type": "stream",
     "text": [
      "100%|██████████| 24/24 [00:10<00:00,  2.35it/s]\n",
      " 33%|███▎      | 1/3 [00:00<00:00,  5.40it/s]"
     ]
    },
    {
     "name": "stdout",
     "output_type": "stream",
     "text": [
      "[2024-01-07 16:26:07.821425] Epoch: 6 training ends. Status: Average loss: 1.5921329359213512, Average SC accuracy: 1.0, Average S2S accuracy: 0.9051719169634727\n"
     ]
    },
    {
     "name": "stderr",
     "output_type": "stream",
     "text": [
      "100%|██████████| 3/3 [00:00<00:00,  6.05it/s]\n",
      "  0%|          | 0/24 [00:00<?, ?it/s]"
     ]
    },
    {
     "name": "stdout",
     "output_type": "stream",
     "text": [
      "[2024-01-07 16:26:08.319230] Epoch: 6 Evalutation ends. Status: Average loss: 1.5823665857315063, Average SC accuracy: 1.0, Average S2S accuracy: 0.9098708010335917\n"
     ]
    },
    {
     "name": "stderr",
     "output_type": "stream",
     "text": [
      "100%|██████████| 24/24 [00:10<00:00,  2.37it/s]\n",
      " 33%|███▎      | 1/3 [00:00<00:00,  5.33it/s]"
     ]
    },
    {
     "name": "stdout",
     "output_type": "stream",
     "text": [
      "[2024-01-07 16:26:18.462787] Epoch: 7 training ends. Status: Average loss: 1.3965876748164494, Average SC accuracy: 1.0, Average S2S accuracy: 0.912203049897991\n"
     ]
    },
    {
     "name": "stderr",
     "output_type": "stream",
     "text": [
      "100%|██████████| 3/3 [00:00<00:00,  6.10it/s]\n",
      "  0%|          | 0/24 [00:00<?, ?it/s]"
     ]
    },
    {
     "name": "stdout",
     "output_type": "stream",
     "text": [
      "[2024-01-07 16:26:18.955788] Epoch: 7 Evalutation ends. Status: Average loss: 1.3829173644383748, Average SC accuracy: 1.0, Average S2S accuracy: 0.9146253229974161\n"
     ]
    },
    {
     "name": "stderr",
     "output_type": "stream",
     "text": [
      "100%|██████████| 24/24 [00:10<00:00,  2.37it/s]\n",
      " 33%|███▎      | 1/3 [00:00<00:00,  5.28it/s]"
     ]
    },
    {
     "name": "stdout",
     "output_type": "stream",
     "text": [
      "[2024-01-07 16:26:29.068572] Epoch: 8 training ends. Status: Average loss: 1.201286015411218, Average SC accuracy: 1.0, Average S2S accuracy: 0.9207441474463156\n"
     ]
    },
    {
     "name": "stderr",
     "output_type": "stream",
     "text": [
      "100%|██████████| 3/3 [00:00<00:00,  5.93it/s]\n",
      "  0%|          | 0/24 [00:00<?, ?it/s]"
     ]
    },
    {
     "name": "stdout",
     "output_type": "stream",
     "text": [
      "[2024-01-07 16:26:29.577142] Epoch: 8 Evalutation ends. Status: Average loss: 1.1984145045280457, Average SC accuracy: 1.0, Average S2S accuracy: 0.9242377260981912\n"
     ]
    },
    {
     "name": "stderr",
     "output_type": "stream",
     "text": [
      "100%|██████████| 24/24 [00:10<00:00,  2.36it/s]\n",
      " 33%|███▎      | 1/3 [00:00<00:00,  5.53it/s]"
     ]
    },
    {
     "name": "stdout",
     "output_type": "stream",
     "text": [
      "[2024-01-07 16:26:39.743096] Epoch: 9 training ends. Status: Average loss: 1.0516923392812412, Average SC accuracy: 1.0, Average S2S accuracy: 0.9288357135447284\n"
     ]
    },
    {
     "name": "stderr",
     "output_type": "stream",
     "text": [
      "100%|██████████| 3/3 [00:00<00:00,  5.86it/s]\n",
      "  0%|          | 0/26 [00:00<?, ?it/s]"
     ]
    },
    {
     "name": "stdout",
     "output_type": "stream",
     "text": [
      "[2024-01-07 16:26:40.257224] Epoch: 9 Evalutation ends. Status: Average loss: 1.0991997321446736, Average SC accuracy: 1.0, Average S2S accuracy: 0.9288888888888889\n"
     ]
    },
    {
     "name": "stderr",
     "output_type": "stream",
     "text": [
      "100%|██████████| 26/26 [01:22<00:00,  3.15s/it]\n"
     ]
    },
    {
     "name": "stdout",
     "output_type": "stream",
     "text": [
      "[INFO] 202304110353 is cleared.\n",
      "[INFO] SentenceTransformer is saved, 0.0003910064697265625 MB\n",
      "[INFO] SimpleEmbedder is saved, 90.92114543914795 MB\n",
      "[INFO] SimpleTransformerStack is saved, 216.4018907546997 MB\n",
      "[INFO] SimpleDecoderHead_S2S is saved, 91.68078327178955 MB\n",
      "[INFO] SimpleEncoderHead_AveragePooling_SC is saved, 2.2815237045288086 MB\n",
      "[INFO] 202304110953 is saved\n",
      "[INFO] finish 202304110953\n",
      "[INFO] <class 'sentence_transformers.SentenceTransformer.SentenceTransformer'> loaded for checkpoints_sbert_1/202304110953/SentenceTransformer.pt\n",
      "[INFO] SimpleEmbedder loaded for 202304110953.\n",
      "[INFO] SimpleTransformerStack loaded for 202304110953.\n",
      "[INFO] SimpleDecoderHead_S2S loaded for 202304110953.\n",
      "[WARN] no metadata found.\n"
     ]
    },
    {
     "name": "stderr",
     "output_type": "stream",
     "text": [
      "100%|██████████| 68/68 [00:28<00:00,  2.35it/s]\n",
      " 12%|█▎        | 1/8 [00:00<00:01,  5.47it/s]"
     ]
    },
    {
     "name": "stdout",
     "output_type": "stream",
     "text": [
      "[2024-01-07 16:29:16.870402] Epoch: 0 training ends. Status: Average loss: 3.920820513192345, Average SC accuracy: 0.30185185185185187, Average S2S accuracy: 0.8827491167233709\n"
     ]
    },
    {
     "name": "stderr",
     "output_type": "stream",
     "text": [
      "100%|██████████| 8/8 [00:01<00:00,  5.76it/s]\n",
      "  0%|          | 0/68 [00:00<?, ?it/s]"
     ]
    },
    {
     "name": "stdout",
     "output_type": "stream",
     "text": [
      "[2024-01-07 16:29:18.259763] Epoch: 0 Evalutation ends. Status: Average loss: 3.262954920530319, Average SC accuracy: 0.6416666666666667, Average S2S accuracy: 0.8895210658984516\n"
     ]
    },
    {
     "name": "stderr",
     "output_type": "stream",
     "text": [
      "100%|██████████| 68/68 [00:28<00:00,  2.37it/s]\n",
      " 12%|█▎        | 1/8 [00:00<00:01,  5.39it/s]"
     ]
    },
    {
     "name": "stdout",
     "output_type": "stream",
     "text": [
      "[2024-01-07 16:29:46.933619] Epoch: 1 training ends. Status: Average loss: 2.4338539172621334, Average SC accuracy: 0.8712962962962963, Average S2S accuracy: 0.9008971800575766\n"
     ]
    },
    {
     "name": "stderr",
     "output_type": "stream",
     "text": [
      "100%|██████████| 8/8 [00:01<00:00,  5.78it/s]\n",
      "  0%|          | 0/68 [00:00<?, ?it/s]"
     ]
    },
    {
     "name": "stdout",
     "output_type": "stream",
     "text": [
      "[2024-01-07 16:29:48.318206] Epoch: 1 Evalutation ends. Status: Average loss: 1.9294329732656479, Average SC accuracy: 0.9666666666666667, Average S2S accuracy: 0.9025207057976233\n"
     ]
    },
    {
     "name": "stderr",
     "output_type": "stream",
     "text": [
      "100%|██████████| 68/68 [00:28<00:00,  2.35it/s]\n",
      " 12%|█▎        | 1/8 [00:00<00:01,  5.24it/s]"
     ]
    },
    {
     "name": "stdout",
     "output_type": "stream",
     "text": [
      "[2024-01-07 16:30:17.308592] Epoch: 2 training ends. Status: Average loss: 1.4605471895021551, Average SC accuracy: 0.9935185185185185, Average S2S accuracy: 0.9181333420570531\n"
     ]
    },
    {
     "name": "stderr",
     "output_type": "stream",
     "text": [
      "100%|██████████| 8/8 [00:01<00:00,  5.68it/s]\n",
      "  0%|          | 0/68 [00:00<?, ?it/s]"
     ]
    },
    {
     "name": "stdout",
     "output_type": "stream",
     "text": [
      "[2024-01-07 16:30:18.722956] Epoch: 2 Evalutation ends. Status: Average loss: 1.2750222980976105, Average SC accuracy: 1.0, Average S2S accuracy: 0.9203456967951026\n"
     ]
    },
    {
     "name": "stderr",
     "output_type": "stream",
     "text": [
      "100%|██████████| 68/68 [00:28<00:00,  2.36it/s]\n",
      " 12%|█▎        | 1/8 [00:00<00:01,  5.55it/s]"
     ]
    },
    {
     "name": "stdout",
     "output_type": "stream",
     "text": [
      "[2024-01-07 16:30:47.599264] Epoch: 3 training ends. Status: Average loss: 1.0318469974924536, Average SC accuracy: 1.0, Average S2S accuracy: 0.9322003402250719\n"
     ]
    },
    {
     "name": "stderr",
     "output_type": "stream",
     "text": [
      "100%|██████████| 8/8 [00:01<00:00,  5.55it/s]\n",
      "  0%|          | 0/68 [00:00<?, ?it/s]"
     ]
    },
    {
     "name": "stdout",
     "output_type": "stream",
     "text": [
      "[2024-01-07 16:30:49.041387] Epoch: 3 Evalutation ends. Status: Average loss: 0.9975681081414223, Average SC accuracy: 0.9916666666666667, Average S2S accuracy: 0.9336334173568599\n"
     ]
    },
    {
     "name": "stderr",
     "output_type": "stream",
     "text": [
      "100%|██████████| 68/68 [00:29<00:00,  2.33it/s]\n",
      " 12%|█▎        | 1/8 [00:00<00:01,  5.52it/s]"
     ]
    },
    {
     "name": "stdout",
     "output_type": "stream",
     "text": [
      "[2024-01-07 16:31:18.184949] Epoch: 4 training ends. Status: Average loss: 0.8053419589996338, Average SC accuracy: 1.0, Average S2S accuracy: 0.9434662064904475\n"
     ]
    },
    {
     "name": "stderr",
     "output_type": "stream",
     "text": [
      "100%|██████████| 8/8 [00:01<00:00,  5.68it/s]\n",
      "  0%|          | 0/68 [00:00<?, ?it/s]"
     ]
    },
    {
     "name": "stdout",
     "output_type": "stream",
     "text": [
      "[2024-01-07 16:31:19.593629] Epoch: 4 Evalutation ends. Status: Average loss: 0.8452579900622368, Average SC accuracy: 0.9916666666666667, Average S2S accuracy: 0.9404753330932661\n"
     ]
    },
    {
     "name": "stderr",
     "output_type": "stream",
     "text": [
      "100%|██████████| 68/68 [00:28<00:00,  2.35it/s]\n",
      " 12%|█▎        | 1/8 [00:00<00:01,  5.63it/s]"
     ]
    },
    {
     "name": "stdout",
     "output_type": "stream",
     "text": [
      "[2024-01-07 16:31:48.577708] Epoch: 5 training ends. Status: Average loss: 0.6668227455195259, Average SC accuracy: 1.0, Average S2S accuracy: 0.9505610442292594\n"
     ]
    },
    {
     "name": "stderr",
     "output_type": "stream",
     "text": [
      "100%|██████████| 8/8 [00:01<00:00,  5.74it/s]\n",
      "  0%|          | 0/68 [00:00<?, ?it/s]"
     ]
    },
    {
     "name": "stdout",
     "output_type": "stream",
     "text": [
      "[2024-01-07 16:31:49.973314] Epoch: 5 Evalutation ends. Status: Average loss: 0.7160735428333282, Average SC accuracy: 1.0, Average S2S accuracy: 0.9483255311487216\n"
     ]
    },
    {
     "name": "stderr",
     "output_type": "stream",
     "text": [
      "100%|██████████| 68/68 [00:28<00:00,  2.35it/s]\n",
      " 12%|█▎        | 1/8 [00:00<00:01,  5.39it/s]"
     ]
    },
    {
     "name": "stdout",
     "output_type": "stream",
     "text": [
      "[2024-01-07 16:32:18.882265] Epoch: 6 training ends. Status: Average loss: 0.5629931140471908, Average SC accuracy: 1.0, Average S2S accuracy: 0.9567971408008374\n"
     ]
    },
    {
     "name": "stderr",
     "output_type": "stream",
     "text": [
      "100%|██████████| 8/8 [00:01<00:00,  5.60it/s]\n",
      "  0%|          | 0/68 [00:00<?, ?it/s]"
     ]
    },
    {
     "name": "stdout",
     "output_type": "stream",
     "text": [
      "[2024-01-07 16:32:20.313693] Epoch: 6 Evalutation ends. Status: Average loss: 0.6654688492417336, Average SC accuracy: 1.0, Average S2S accuracy: 0.9501980554555276\n"
     ]
    },
    {
     "name": "stderr",
     "output_type": "stream",
     "text": [
      "100%|██████████| 68/68 [00:29<00:00,  2.34it/s]\n",
      " 12%|█▎        | 1/8 [00:00<00:01,  5.42it/s]"
     ]
    },
    {
     "name": "stdout",
     "output_type": "stream",
     "text": [
      "[2024-01-07 16:32:49.335736] Epoch: 7 training ends. Status: Average loss: 0.4890352040529251, Average SC accuracy: 1.0, Average S2S accuracy: 0.9622849057838262\n"
     ]
    },
    {
     "name": "stderr",
     "output_type": "stream",
     "text": [
      "100%|██████████| 8/8 [00:01<00:00,  5.59it/s]\n",
      "  0%|          | 0/68 [00:00<?, ?it/s]"
     ]
    },
    {
     "name": "stdout",
     "output_type": "stream",
     "text": [
      "[2024-01-07 16:32:50.769790] Epoch: 7 Evalutation ends. Status: Average loss: 0.5937592349946499, Average SC accuracy: 0.9916666666666667, Average S2S accuracy: 0.9538350738206698\n"
     ]
    },
    {
     "name": "stderr",
     "output_type": "stream",
     "text": [
      "100%|██████████| 68/68 [00:29<00:00,  2.34it/s]\n",
      " 12%|█▎        | 1/8 [00:00<00:01,  5.46it/s]"
     ]
    },
    {
     "name": "stdout",
     "output_type": "stream",
     "text": [
      "[2024-01-07 16:33:19.820859] Epoch: 8 training ends. Status: Average loss: 0.44167137540438595, Average SC accuracy: 1.0, Average S2S accuracy: 0.9646198639099712\n"
     ]
    },
    {
     "name": "stderr",
     "output_type": "stream",
     "text": [
      "100%|██████████| 8/8 [00:01<00:00,  5.65it/s]\n",
      "  0%|          | 0/68 [00:00<?, ?it/s]"
     ]
    },
    {
     "name": "stdout",
     "output_type": "stream",
     "text": [
      "[2024-01-07 16:33:21.238664] Epoch: 8 Evalutation ends. Status: Average loss: 0.5401065498590469, Average SC accuracy: 0.9916666666666667, Average S2S accuracy: 0.9586604249189773\n"
     ]
    },
    {
     "name": "stderr",
     "output_type": "stream",
     "text": [
      "100%|██████████| 68/68 [00:29<00:00,  2.34it/s]\n",
      " 12%|█▎        | 1/8 [00:00<00:01,  5.40it/s]"
     ]
    },
    {
     "name": "stdout",
     "output_type": "stream",
     "text": [
      "[2024-01-07 16:33:50.334465] Epoch: 9 training ends. Status: Average loss: 0.40387898157624635, Average SC accuracy: 1.0, Average S2S accuracy: 0.967441442030882\n"
     ]
    },
    {
     "name": "stderr",
     "output_type": "stream",
     "text": [
      "100%|██████████| 8/8 [00:01<00:00,  5.57it/s]\n",
      "  0%|          | 0/6 [00:00<?, ?it/s]"
     ]
    },
    {
     "name": "stdout",
     "output_type": "stream",
     "text": [
      "[2024-01-07 16:33:51.771083] Epoch: 9 Evalutation ends. Status: Average loss: 0.5300373621284962, Average SC accuracy: 0.9916666666666667, Average S2S accuracy: 0.9587684551674469\n"
     ]
    },
    {
     "name": "stderr",
     "output_type": "stream",
     "text": [
      "100%|██████████| 6/6 [00:22<00:00,  3.72s/it]\n"
     ]
    },
    {
     "name": "stdout",
     "output_type": "stream",
     "text": [
      "[INFO] 202304110953 is cleared.\n",
      "[INFO] SentenceTransformer is saved, 0.0003910064697265625 MB\n",
      "[INFO] SimpleEmbedder is saved, 90.92114543914795 MB\n",
      "[INFO] SimpleTransformerStack is saved, 216.4018907546997 MB\n",
      "[INFO] SimpleDecoderHead_S2S is saved, 91.68078327178955 MB\n",
      "[INFO] SimpleEncoderHead_AveragePooling_SC is saved, 2.2815237045288086 MB\n",
      "[INFO] 202304140402 is saved\n",
      "[INFO] finish 202304140402\n",
      "[INFO] <class 'sentence_transformers.SentenceTransformer.SentenceTransformer'> loaded for checkpoints_sbert_1/202304140402/SentenceTransformer.pt\n",
      "[INFO] SimpleEmbedder loaded for 202304140402.\n",
      "[INFO] SimpleTransformerStack loaded for 202304140402.\n",
      "[INFO] SimpleDecoderHead_S2S loaded for 202304140402.\n",
      "[WARN] no metadata found.\n"
     ]
    },
    {
     "name": "stderr",
     "output_type": "stream",
     "text": [
      "100%|██████████| 6/6 [00:02<00:00,  2.67it/s]\n",
      "100%|██████████| 1/1 [00:00<00:00,  8.39it/s]\n",
      "  0%|          | 0/6 [00:00<?, ?it/s]"
     ]
    },
    {
     "name": "stdout",
     "output_type": "stream",
     "text": [
      "[2024-01-07 16:35:02.145856] Epoch: 0 training ends. Status: Average loss: 4.318209250768025, Average SC accuracy: 0.08641975308641975, Average S2S accuracy: 0.8754897692642577\n",
      "[2024-01-07 16:35:02.266673] Epoch: 0 Evalutation ends. Status: Average loss: 4.249323844909668, Average SC accuracy: 0.2222222222222222, Average S2S accuracy: 0.8586013272077591\n"
     ]
    },
    {
     "name": "stderr",
     "output_type": "stream",
     "text": [
      "100%|██████████| 6/6 [00:02<00:00,  2.64it/s]\n",
      "100%|██████████| 1/1 [00:00<00:00,  8.58it/s]\n",
      "  0%|          | 0/6 [00:00<?, ?it/s]"
     ]
    },
    {
     "name": "stdout",
     "output_type": "stream",
     "text": [
      "[2024-01-07 16:35:04.544916] Epoch: 1 training ends. Status: Average loss: 4.2067402601242065, Average SC accuracy: 0.1728395061728395, Average S2S accuracy: 0.8764693077927732\n",
      "[2024-01-07 16:35:04.665375] Epoch: 1 Evalutation ends. Status: Average loss: 4.451269149780273, Average SC accuracy: 0.1111111111111111, Average S2S accuracy: 0.8631955079122001\n"
     ]
    },
    {
     "name": "stderr",
     "output_type": "stream",
     "text": [
      "100%|██████████| 6/6 [00:02<00:00,  2.61it/s]\n",
      "100%|██████████| 1/1 [00:00<00:00,  8.34it/s]\n",
      "  0%|          | 0/6 [00:00<?, ?it/s]"
     ]
    },
    {
     "name": "stdout",
     "output_type": "stream",
     "text": [
      "[2024-01-07 16:35:06.963312] Epoch: 2 training ends. Status: Average loss: 4.065807143847148, Average SC accuracy: 0.2839506172839506, Average S2S accuracy: 0.875\n",
      "[2024-01-07 16:35:07.084656] Epoch: 2 Evalutation ends. Status: Average loss: 3.9928293228149414, Average SC accuracy: 0.1111111111111111, Average S2S accuracy: 0.8621745788667687\n"
     ]
    },
    {
     "name": "stderr",
     "output_type": "stream",
     "text": [
      "100%|██████████| 6/6 [00:02<00:00,  2.66it/s]\n",
      "100%|██████████| 1/1 [00:00<00:00,  8.59it/s]\n",
      "  0%|          | 0/6 [00:00<?, ?it/s]"
     ]
    },
    {
     "name": "stdout",
     "output_type": "stream",
     "text": [
      "[2024-01-07 16:35:09.345050] Epoch: 3 training ends. Status: Average loss: 3.943822662035624, Average SC accuracy: 0.2716049382716049, Average S2S accuracy: 0.882346538963866\n",
      "[2024-01-07 16:35:09.463369] Epoch: 3 Evalutation ends. Status: Average loss: 3.7945146560668945, Average SC accuracy: 0.5555555555555556, Average S2S accuracy: 0.8657478305257784\n"
     ]
    },
    {
     "name": "stderr",
     "output_type": "stream",
     "text": [
      "100%|██████████| 6/6 [00:02<00:00,  2.63it/s]\n",
      "100%|██████████| 1/1 [00:00<00:00,  8.24it/s]\n",
      "  0%|          | 0/6 [00:00<?, ?it/s]"
     ]
    },
    {
     "name": "stdout",
     "output_type": "stream",
     "text": [
      "[2024-01-07 16:35:11.748508] Epoch: 4 training ends. Status: Average loss: 3.542129953702291, Average SC accuracy: 0.5308641975308642, Average S2S accuracy: 0.8829451458424031\n",
      "[2024-01-07 16:35:11.871538] Epoch: 4 Evalutation ends. Status: Average loss: 3.7056884765625, Average SC accuracy: 0.7777777777777778, Average S2S accuracy: 0.8621745788667687\n"
     ]
    },
    {
     "name": "stderr",
     "output_type": "stream",
     "text": [
      "100%|██████████| 6/6 [00:02<00:00,  2.66it/s]\n",
      "100%|██████████| 1/1 [00:00<00:00,  8.46it/s]\n",
      "  0%|          | 0/6 [00:00<?, ?it/s]"
     ]
    },
    {
     "name": "stdout",
     "output_type": "stream",
     "text": [
      "[2024-01-07 16:35:14.124930] Epoch: 5 training ends. Status: Average loss: 3.4112373193105063, Average SC accuracy: 0.7160493827160493, Average S2S accuracy: 0.8845777100565956\n",
      "[2024-01-07 16:35:14.244599] Epoch: 5 Evalutation ends. Status: Average loss: 3.1643900871276855, Average SC accuracy: 0.7777777777777778, Average S2S accuracy: 0.8739152628892292\n"
     ]
    },
    {
     "name": "stderr",
     "output_type": "stream",
     "text": [
      "100%|██████████| 6/6 [00:02<00:00,  2.62it/s]\n",
      "100%|██████████| 1/1 [00:00<00:00,  8.37it/s]\n",
      "  0%|          | 0/6 [00:00<?, ?it/s]"
     ]
    },
    {
     "name": "stdout",
     "output_type": "stream",
     "text": [
      "[2024-01-07 16:35:16.534859] Epoch: 6 training ends. Status: Average loss: 3.139239271481832, Average SC accuracy: 0.7901234567901234, Average S2S accuracy: 0.8884414453635177\n",
      "[2024-01-07 16:35:16.655905] Epoch: 6 Evalutation ends. Status: Average loss: 3.0726590156555176, Average SC accuracy: 1.0, Average S2S accuracy: 0.8718734047983665\n"
     ]
    },
    {
     "name": "stderr",
     "output_type": "stream",
     "text": [
      "100%|██████████| 6/6 [00:02<00:00,  2.65it/s]\n",
      "100%|██████████| 1/1 [00:00<00:00,  8.45it/s]\n",
      "  0%|          | 0/6 [00:00<?, ?it/s]"
     ]
    },
    {
     "name": "stdout",
     "output_type": "stream",
     "text": [
      "[2024-01-07 16:35:18.923944] Epoch: 7 training ends. Status: Average loss: 2.8493396441141763, Average SC accuracy: 0.9259259259259259, Average S2S accuracy: 0.8919786678276013\n",
      "[2024-01-07 16:35:19.044610] Epoch: 7 Evalutation ends. Status: Average loss: 2.759812355041504, Average SC accuracy: 1.0, Average S2S accuracy: 0.8831036242981113\n"
     ]
    },
    {
     "name": "stderr",
     "output_type": "stream",
     "text": [
      "100%|██████████| 6/6 [00:02<00:00,  2.63it/s]\n",
      "100%|██████████| 1/1 [00:00<00:00,  8.94it/s]\n",
      "  0%|          | 0/6 [00:00<?, ?it/s]"
     ]
    },
    {
     "name": "stdout",
     "output_type": "stream",
     "text": [
      "[2024-01-07 16:35:21.328787] Epoch: 8 training ends. Status: Average loss: 2.5524847904841104, Average SC accuracy: 0.9753086419753086, Average S2S accuracy: 0.8943186765346104\n",
      "[2024-01-07 16:35:21.443884] Epoch: 8 Evalutation ends. Status: Average loss: 2.4841904640197754, Average SC accuracy: 1.0, Average S2S accuracy: 0.8805513016845329\n"
     ]
    },
    {
     "name": "stderr",
     "output_type": "stream",
     "text": [
      "100%|██████████| 6/6 [00:02<00:00,  2.66it/s]\n",
      "100%|██████████| 1/1 [00:00<00:00,  8.67it/s]\n",
      "  0%|          | 0/5 [00:00<?, ?it/s]"
     ]
    },
    {
     "name": "stdout",
     "output_type": "stream",
     "text": [
      "[2024-01-07 16:35:23.699480] Epoch: 9 training ends. Status: Average loss: 2.242328643798828, Average SC accuracy: 0.9876543209876543, Average S2S accuracy: 0.8992707879843274\n",
      "[2024-01-07 16:35:23.816272] Epoch: 9 Evalutation ends. Status: Average loss: 2.3456218242645264, Average SC accuracy: 1.0, Average S2S accuracy: 0.8805513016845329\n"
     ]
    },
    {
     "name": "stderr",
     "output_type": "stream",
     "text": [
      "100%|██████████| 5/5 [00:14<00:00,  2.97s/it]\n"
     ]
    },
    {
     "name": "stdout",
     "output_type": "stream",
     "text": [
      "[INFO] 202304140402 is cleared.\n",
      "[INFO] SentenceTransformer is saved, 0.0003910064697265625 MB\n",
      "[INFO] SimpleEmbedder is saved, 90.92114543914795 MB\n",
      "[INFO] SimpleTransformerStack is saved, 216.4018907546997 MB\n",
      "[INFO] SimpleDecoderHead_S2S is saved, 91.68078327178955 MB\n",
      "[INFO] SimpleEncoderHead_AveragePooling_SC is saved, 2.2815237045288086 MB\n",
      "[INFO] 202304191023 is saved\n",
      "[INFO] finish 202304191023\n",
      "[INFO] <class 'sentence_transformers.SentenceTransformer.SentenceTransformer'> loaded for checkpoints_sbert_1/202304191023/SentenceTransformer.pt\n",
      "[INFO] SimpleEmbedder loaded for 202304191023.\n",
      "[INFO] SimpleTransformerStack loaded for 202304191023.\n",
      "[INFO] SimpleDecoderHead_S2S loaded for 202304191023.\n",
      "[WARN] no metadata found.\n"
     ]
    },
    {
     "name": "stderr",
     "output_type": "stream",
     "text": [
      "100%|██████████| 6/6 [00:02<00:00,  2.72it/s]\n",
      "100%|██████████| 1/1 [00:00<00:00,  8.85it/s]\n",
      "  0%|          | 0/6 [00:00<?, ?it/s]"
     ]
    },
    {
     "name": "stdout",
     "output_type": "stream",
     "text": [
      "[2024-01-07 16:36:17.739603] Epoch: 0 training ends. Status: Average loss: 5.047548055648804, Average SC accuracy: 0.16049382716049382, Average S2S accuracy: 0.8719477244067408\n",
      "[2024-01-07 16:36:17.854122] Epoch: 0 Evalutation ends. Status: Average loss: 4.633785724639893, Average SC accuracy: 0.0, Average S2S accuracy: 0.8627551020408163\n"
     ]
    },
    {
     "name": "stderr",
     "output_type": "stream",
     "text": [
      "100%|██████████| 6/6 [00:02<00:00,  2.68it/s]\n",
      "100%|██████████| 1/1 [00:00<00:00,  8.32it/s]\n",
      "  0%|          | 0/6 [00:00<?, ?it/s]"
     ]
    },
    {
     "name": "stdout",
     "output_type": "stream",
     "text": [
      "[2024-01-07 16:36:20.096431] Epoch: 1 training ends. Status: Average loss: 4.893378575642903, Average SC accuracy: 0.14814814814814814, Average S2S accuracy: 0.8703427719821163\n",
      "[2024-01-07 16:36:20.218105] Epoch: 1 Evalutation ends. Status: Average loss: 5.040647506713867, Average SC accuracy: 0.1111111111111111, Average S2S accuracy: 0.8596938775510204\n"
     ]
    },
    {
     "name": "stderr",
     "output_type": "stream",
     "text": [
      "100%|██████████| 6/6 [00:02<00:00,  2.69it/s]\n",
      "100%|██████████| 1/1 [00:00<00:00,  7.89it/s]\n",
      "  0%|          | 0/6 [00:00<?, ?it/s]"
     ]
    },
    {
     "name": "stdout",
     "output_type": "stream",
     "text": [
      "[2024-01-07 16:36:22.448999] Epoch: 2 training ends. Status: Average loss: 4.76767094930013, Average SC accuracy: 0.16049382716049382, Average S2S accuracy: 0.8732087584546601\n",
      "[2024-01-07 16:36:22.578079] Epoch: 2 Evalutation ends. Status: Average loss: 4.59907341003418, Average SC accuracy: 0.2222222222222222, Average S2S accuracy: 0.8566326530612245\n"
     ]
    },
    {
     "name": "stderr",
     "output_type": "stream",
     "text": [
      "100%|██████████| 6/6 [00:02<00:00,  2.65it/s]\n",
      "100%|██████████| 1/1 [00:00<00:00,  8.18it/s]\n",
      "  0%|          | 0/6 [00:00<?, ?it/s]"
     ]
    },
    {
     "name": "stdout",
     "output_type": "stream",
     "text": [
      "[2024-01-07 16:36:24.839954] Epoch: 3 training ends. Status: Average loss: 4.487087249755859, Average SC accuracy: 0.18518518518518517, Average S2S accuracy: 0.8761893843861057\n",
      "[2024-01-07 16:36:24.963918] Epoch: 3 Evalutation ends. Status: Average loss: 4.498561859130859, Average SC accuracy: 0.2222222222222222, Average S2S accuracy: 0.8698979591836735\n"
     ]
    },
    {
     "name": "stderr",
     "output_type": "stream",
     "text": [
      "100%|██████████| 6/6 [00:02<00:00,  2.68it/s]\n",
      "100%|██████████| 1/1 [00:00<00:00,  8.37it/s]\n",
      "  0%|          | 0/6 [00:00<?, ?it/s]"
     ]
    },
    {
     "name": "stdout",
     "output_type": "stream",
     "text": [
      "[2024-01-07 16:36:27.206415] Epoch: 4 training ends. Status: Average loss: 4.4335563977559405, Average SC accuracy: 0.25925925925925924, Average S2S accuracy: 0.8795712484237075\n",
      "[2024-01-07 16:36:27.327546] Epoch: 4 Evalutation ends. Status: Average loss: 4.306634902954102, Average SC accuracy: 0.3333333333333333, Average S2S accuracy: 0.8658163265306122\n"
     ]
    },
    {
     "name": "stderr",
     "output_type": "stream",
     "text": [
      "100%|██████████| 6/6 [00:02<00:00,  2.67it/s]\n",
      "100%|██████████| 1/1 [00:00<00:00,  8.33it/s]\n",
      "  0%|          | 0/6 [00:00<?, ?it/s]"
     ]
    },
    {
     "name": "stdout",
     "output_type": "stream",
     "text": [
      "[2024-01-07 16:36:29.575701] Epoch: 5 training ends. Status: Average loss: 4.152659018834432, Average SC accuracy: 0.32098765432098764, Average S2S accuracy: 0.8783102143757882\n",
      "[2024-01-07 16:36:29.697455] Epoch: 5 Evalutation ends. Status: Average loss: 4.026035308837891, Average SC accuracy: 0.3333333333333333, Average S2S accuracy: 0.8688775510204082\n"
     ]
    },
    {
     "name": "stderr",
     "output_type": "stream",
     "text": [
      "100%|██████████| 6/6 [00:02<00:00,  2.67it/s]\n",
      "100%|██████████| 1/1 [00:00<00:00,  8.07it/s]\n",
      "  0%|          | 0/6 [00:00<?, ?it/s]"
     ]
    },
    {
     "name": "stdout",
     "output_type": "stream",
     "text": [
      "[2024-01-07 16:36:31.949517] Epoch: 6 training ends. Status: Average loss: 3.9624340534210205, Average SC accuracy: 0.35802469135802467, Average S2S accuracy: 0.8780809354579846\n",
      "[2024-01-07 16:36:32.075130] Epoch: 6 Evalutation ends. Status: Average loss: 3.9064409732818604, Average SC accuracy: 0.4444444444444444, Average S2S accuracy: 0.8795918367346939\n"
     ]
    },
    {
     "name": "stderr",
     "output_type": "stream",
     "text": [
      "100%|██████████| 6/6 [00:02<00:00,  2.68it/s]\n",
      "100%|██████████| 1/1 [00:00<00:00,  8.21it/s]\n",
      "  0%|          | 0/6 [00:00<?, ?it/s]"
     ]
    },
    {
     "name": "stdout",
     "output_type": "stream",
     "text": [
      "[2024-01-07 16:36:34.319369] Epoch: 7 training ends. Status: Average loss: 3.7251649300257363, Average SC accuracy: 0.5061728395061729, Average S2S accuracy: 0.8829531124613091\n",
      "[2024-01-07 16:36:34.442779] Epoch: 7 Evalutation ends. Status: Average loss: 3.7662391662597656, Average SC accuracy: 0.5555555555555556, Average S2S accuracy: 0.8744897959183674\n"
     ]
    },
    {
     "name": "stderr",
     "output_type": "stream",
     "text": [
      "100%|██████████| 6/6 [00:02<00:00,  2.68it/s]\n",
      "100%|██████████| 1/1 [00:00<00:00,  8.74it/s]\n",
      "  0%|          | 0/6 [00:00<?, ?it/s]"
     ]
    },
    {
     "name": "stdout",
     "output_type": "stream",
     "text": [
      "[2024-01-07 16:36:36.682663] Epoch: 8 training ends. Status: Average loss: 3.49431041876475, Average SC accuracy: 0.691358024691358, Average S2S accuracy: 0.8875386908173793\n",
      "[2024-01-07 16:36:36.798596] Epoch: 8 Evalutation ends. Status: Average loss: 3.378777027130127, Average SC accuracy: 0.8888888888888888, Average S2S accuracy: 0.8724489795918368\n"
     ]
    },
    {
     "name": "stderr",
     "output_type": "stream",
     "text": [
      "100%|██████████| 6/6 [00:02<00:00,  2.66it/s]\n",
      "100%|██████████| 1/1 [00:00<00:00,  8.78it/s]\n",
      "  0%|          | 0/8 [00:00<?, ?it/s]"
     ]
    },
    {
     "name": "stdout",
     "output_type": "stream",
     "text": [
      "[2024-01-07 16:36:39.059039] Epoch: 9 training ends. Status: Average loss: 3.269094467163086, Average SC accuracy: 0.8271604938271605, Average S2S accuracy: 0.8911498337727846\n",
      "[2024-01-07 16:36:39.174074] Epoch: 9 Evalutation ends. Status: Average loss: 3.1643729209899902, Average SC accuracy: 0.8888888888888888, Average S2S accuracy: 0.878061224489796\n"
     ]
    },
    {
     "name": "stderr",
     "output_type": "stream",
     "text": [
      "100%|██████████| 8/8 [00:19<00:00,  2.45s/it]\n"
     ]
    },
    {
     "name": "stdout",
     "output_type": "stream",
     "text": [
      "[INFO] 202304191023 is cleared.\n",
      "[INFO] SentenceTransformer is saved, 0.0003910064697265625 MB\n",
      "[INFO] SimpleEmbedder is saved, 90.92114543914795 MB\n",
      "[INFO] SimpleTransformerStack is saved, 216.4018907546997 MB\n",
      "[INFO] SimpleDecoderHead_S2S is saved, 91.68078327178955 MB\n",
      "[INFO] SimpleEncoderHead_AveragePooling_SC is saved, 2.2815237045288086 MB\n",
      "[INFO] 202304270449 is saved\n",
      "[INFO] finish 202304270449\n",
      "[INFO] <class 'sentence_transformers.SentenceTransformer.SentenceTransformer'> loaded for checkpoints_sbert_1/202304270449/SentenceTransformer.pt\n",
      "[INFO] SimpleEmbedder loaded for 202304270449.\n",
      "[INFO] SimpleTransformerStack loaded for 202304270449.\n",
      "[INFO] SimpleDecoderHead_S2S loaded for 202304270449.\n",
      "[WARN] no metadata found.\n"
     ]
    },
    {
     "name": "stderr",
     "output_type": "stream",
     "text": [
      "100%|██████████| 12/12 [00:05<00:00,  2.38it/s]\n",
      " 50%|█████     | 1/2 [00:00<00:00,  5.21it/s]"
     ]
    },
    {
     "name": "stdout",
     "output_type": "stream",
     "text": [
      "[2024-01-07 16:37:40.895977] Epoch: 0 training ends. Status: Average loss: 3.663650929927826, Average SC accuracy: 0.042328042328042326, Average S2S accuracy: 0.9120599394841746\n"
     ]
    },
    {
     "name": "stderr",
     "output_type": "stream",
     "text": [
      "100%|██████████| 2/2 [00:00<00:00,  7.35it/s]\n",
      "  0%|          | 0/12 [00:00<?, ?it/s]"
     ]
    },
    {
     "name": "stdout",
     "output_type": "stream",
     "text": [
      "[2024-01-07 16:37:41.171089] Epoch: 0 Evalutation ends. Status: Average loss: 3.5558886528015137, Average SC accuracy: 0.14285714285714285, Average S2S accuracy: 0.9170893054024256\n"
     ]
    },
    {
     "name": "stderr",
     "output_type": "stream",
     "text": [
      "100%|██████████| 12/12 [00:05<00:00,  2.37it/s]\n",
      " 50%|█████     | 1/2 [00:00<00:00,  5.39it/s]"
     ]
    },
    {
     "name": "stdout",
     "output_type": "stream",
     "text": [
      "[2024-01-07 16:37:46.229758] Epoch: 1 training ends. Status: Average loss: 3.4626482923825583, Average SC accuracy: 0.08994708994708994, Average S2S accuracy: 0.9168627827673983\n"
     ]
    },
    {
     "name": "stderr",
     "output_type": "stream",
     "text": [
      "100%|██████████| 2/2 [00:00<00:00,  7.78it/s]\n",
      "  0%|          | 0/12 [00:00<?, ?it/s]"
     ]
    },
    {
     "name": "stdout",
     "output_type": "stream",
     "text": [
      "[2024-01-07 16:37:46.488851] Epoch: 1 Evalutation ends. Status: Average loss: 3.2519214153289795, Average SC accuracy: 0.23809523809523808, Average S2S accuracy: 0.9146637265711136\n"
     ]
    },
    {
     "name": "stderr",
     "output_type": "stream",
     "text": [
      "100%|██████████| 12/12 [00:05<00:00,  2.36it/s]\n",
      " 50%|█████     | 1/2 [00:00<00:00,  5.44it/s]"
     ]
    },
    {
     "name": "stdout",
     "output_type": "stream",
     "text": [
      "[2024-01-07 16:37:51.578314] Epoch: 2 training ends. Status: Average loss: 3.0526381929715476, Average SC accuracy: 0.31216931216931215, Average S2S accuracy: 0.9198645598194131\n"
     ]
    },
    {
     "name": "stderr",
     "output_type": "stream",
     "text": [
      "100%|██████████| 2/2 [00:00<00:00,  7.65it/s]\n",
      "  0%|          | 0/12 [00:00<?, ?it/s]"
     ]
    },
    {
     "name": "stdout",
     "output_type": "stream",
     "text": [
      "[2024-01-07 16:37:51.841515] Epoch: 2 Evalutation ends. Status: Average loss: 2.7796103954315186, Average SC accuracy: 0.47619047619047616, Average S2S accuracy: 0.9283351708930541\n"
     ]
    },
    {
     "name": "stderr",
     "output_type": "stream",
     "text": [
      "100%|██████████| 12/12 [00:05<00:00,  2.38it/s]\n",
      " 50%|█████     | 1/2 [00:00<00:00,  5.71it/s]"
     ]
    },
    {
     "name": "stdout",
     "output_type": "stream",
     "text": [
      "[2024-01-07 16:37:56.877604] Epoch: 3 training ends. Status: Average loss: 2.533867617448171, Average SC accuracy: 0.656084656084656, Average S2S accuracy: 0.9254358580279526\n"
     ]
    },
    {
     "name": "stderr",
     "output_type": "stream",
     "text": [
      "100%|██████████| 2/2 [00:00<00:00,  7.79it/s]\n",
      "  0%|          | 0/12 [00:00<?, ?it/s]"
     ]
    },
    {
     "name": "stdout",
     "output_type": "stream",
     "text": [
      "[2024-01-07 16:37:57.135964] Epoch: 3 Evalutation ends. Status: Average loss: 2.2058743238449097, Average SC accuracy: 0.8095238095238095, Average S2S accuracy: 0.9272326350606395\n"
     ]
    },
    {
     "name": "stderr",
     "output_type": "stream",
     "text": [
      "100%|██████████| 12/12 [00:05<00:00,  2.39it/s]\n",
      " 50%|█████     | 1/2 [00:00<00:00,  5.64it/s]"
     ]
    },
    {
     "name": "stdout",
     "output_type": "stream",
     "text": [
      "[2024-01-07 16:38:02.166437] Epoch: 4 training ends. Status: Average loss: 2.0656352241834006, Average SC accuracy: 0.8783068783068783, Average S2S accuracy: 0.9296383459007732\n"
     ]
    },
    {
     "name": "stderr",
     "output_type": "stream",
     "text": [
      "100%|██████████| 2/2 [00:00<00:00,  7.85it/s]\n",
      "  0%|          | 0/12 [00:00<?, ?it/s]"
     ]
    },
    {
     "name": "stdout",
     "output_type": "stream",
     "text": [
      "[2024-01-07 16:38:02.422830] Epoch: 4 Evalutation ends. Status: Average loss: 1.731789231300354, Average SC accuracy: 0.9523809523809523, Average S2S accuracy: 0.9316427783902976\n"
     ]
    },
    {
     "name": "stderr",
     "output_type": "stream",
     "text": [
      "100%|██████████| 12/12 [00:04<00:00,  2.40it/s]\n",
      " 50%|█████     | 1/2 [00:00<00:00,  5.62it/s]"
     ]
    },
    {
     "name": "stdout",
     "output_type": "stream",
     "text": [
      "[2024-01-07 16:38:07.423926] Epoch: 5 training ends. Status: Average loss: 1.5940377513567607, Average SC accuracy: 0.9788359788359788, Average S2S accuracy: 0.9327842082512847\n"
     ]
    },
    {
     "name": "stderr",
     "output_type": "stream",
     "text": [
      "100%|██████████| 2/2 [00:00<00:00,  7.73it/s]\n",
      "  0%|          | 0/12 [00:00<?, ?it/s]"
     ]
    },
    {
     "name": "stdout",
     "output_type": "stream",
     "text": [
      "[2024-01-07 16:38:07.684336] Epoch: 5 Evalutation ends. Status: Average loss: 1.3714995384216309, Average SC accuracy: 1.0, Average S2S accuracy: 0.9345093715545755\n"
     ]
    },
    {
     "name": "stderr",
     "output_type": "stream",
     "text": [
      "100%|██████████| 12/12 [00:05<00:00,  2.38it/s]\n",
      " 50%|█████     | 1/2 [00:00<00:00,  5.43it/s]"
     ]
    },
    {
     "name": "stdout",
     "output_type": "stream",
     "text": [
      "[2024-01-07 16:38:12.733726] Epoch: 6 training ends. Status: Average loss: 1.3043935298919678, Average SC accuracy: 1.0, Average S2S accuracy: 0.9352336583257288\n"
     ]
    },
    {
     "name": "stderr",
     "output_type": "stream",
     "text": [
      "100%|██████████| 2/2 [00:00<00:00,  7.68it/s]\n",
      "  0%|          | 0/12 [00:00<?, ?it/s]"
     ]
    },
    {
     "name": "stdout",
     "output_type": "stream",
     "text": [
      "[2024-01-07 16:38:12.996765] Epoch: 6 Evalutation ends. Status: Average loss: 1.0904208421707153, Average SC accuracy: 1.0, Average S2S accuracy: 0.9300992282249173\n"
     ]
    },
    {
     "name": "stderr",
     "output_type": "stream",
     "text": [
      "100%|██████████| 12/12 [00:05<00:00,  2.38it/s]\n",
      " 50%|█████     | 1/2 [00:00<00:00,  5.71it/s]"
     ]
    },
    {
     "name": "stdout",
     "output_type": "stream",
     "text": [
      "[2024-01-07 16:38:18.038686] Epoch: 7 training ends. Status: Average loss: 1.0813738306363423, Average SC accuracy: 1.0, Average S2S accuracy: 0.9398443878776236\n"
     ]
    },
    {
     "name": "stderr",
     "output_type": "stream",
     "text": [
      "100%|██████████| 2/2 [00:00<00:00,  8.10it/s]\n",
      "  0%|          | 0/12 [00:00<?, ?it/s]"
     ]
    },
    {
     "name": "stdout",
     "output_type": "stream",
     "text": [
      "[2024-01-07 16:38:18.286751] Epoch: 7 Evalutation ends. Status: Average loss: 0.9584283828735352, Average SC accuracy: 1.0, Average S2S accuracy: 0.9400220507166482\n"
     ]
    },
    {
     "name": "stderr",
     "output_type": "stream",
     "text": [
      "100%|██████████| 12/12 [00:05<00:00,  2.39it/s]\n",
      " 50%|█████     | 1/2 [00:00<00:00,  5.62it/s]"
     ]
    },
    {
     "name": "stdout",
     "output_type": "stream",
     "text": [
      "[2024-01-07 16:38:23.315563] Epoch: 8 training ends. Status: Average loss: 0.9414970477422079, Average SC accuracy: 1.0, Average S2S accuracy: 0.9422938379520677\n"
     ]
    },
    {
     "name": "stderr",
     "output_type": "stream",
     "text": [
      "100%|██████████| 2/2 [00:00<00:00,  7.34it/s]\n",
      "  0%|          | 0/12 [00:00<?, ?it/s]"
     ]
    },
    {
     "name": "stdout",
     "output_type": "stream",
     "text": [
      "[2024-01-07 16:38:23.589728] Epoch: 8 Evalutation ends. Status: Average loss: 0.8349759876728058, Average SC accuracy: 1.0, Average S2S accuracy: 0.9444321940463065\n"
     ]
    },
    {
     "name": "stderr",
     "output_type": "stream",
     "text": [
      "100%|██████████| 12/12 [00:05<00:00,  2.38it/s]\n",
      " 50%|█████     | 1/2 [00:00<00:00,  5.62it/s]"
     ]
    },
    {
     "name": "stdout",
     "output_type": "stream",
     "text": [
      "[2024-01-07 16:38:28.625805] Epoch: 9 training ends. Status: Average loss: 0.8325685411691666, Average SC accuracy: 1.0, Average S2S accuracy: 0.9465443542577205\n"
     ]
    },
    {
     "name": "stderr",
     "output_type": "stream",
     "text": [
      "100%|██████████| 2/2 [00:00<00:00,  7.82it/s]\n",
      "  0%|          | 0/7 [00:00<?, ?it/s]"
     ]
    },
    {
     "name": "stdout",
     "output_type": "stream",
     "text": [
      "[2024-01-07 16:38:28.882958] Epoch: 9 Evalutation ends. Status: Average loss: 0.6727157235145569, Average SC accuracy: 1.0, Average S2S accuracy: 0.9477398015435502\n"
     ]
    },
    {
     "name": "stderr",
     "output_type": "stream",
     "text": [
      "100%|██████████| 7/7 [00:20<00:00,  2.92s/it]\n"
     ]
    },
    {
     "name": "stdout",
     "output_type": "stream",
     "text": [
      "[INFO] 202304270449 is cleared.\n",
      "[INFO] SentenceTransformer is saved, 0.0003910064697265625 MB\n",
      "[INFO] SimpleEmbedder is saved, 90.92114543914795 MB\n",
      "[INFO] SimpleTransformerStack is saved, 216.4018907546997 MB\n",
      "[INFO] SimpleDecoderHead_S2S is saved, 91.68078327178955 MB\n",
      "[INFO] SimpleEncoderHead_AveragePooling_SC is saved, 2.2815237045288086 MB\n",
      "[INFO] 202305091133 is saved\n",
      "[INFO] finish 202305091133\n",
      "[INFO] <class 'sentence_transformers.SentenceTransformer.SentenceTransformer'> loaded for checkpoints_sbert_1/202305091133/SentenceTransformer.pt\n",
      "[INFO] SimpleEmbedder loaded for 202305091133.\n",
      "[INFO] SimpleTransformerStack loaded for 202305091133.\n",
      "[INFO] SimpleDecoderHead_S2S loaded for 202305091133.\n",
      "[WARN] no metadata found.\n"
     ]
    },
    {
     "name": "stderr",
     "output_type": "stream",
     "text": [
      "100%|██████████| 13/13 [00:05<00:00,  2.40it/s]\n",
      " 50%|█████     | 1/2 [00:00<00:00,  5.53it/s]"
     ]
    },
    {
     "name": "stdout",
     "output_type": "stream",
     "text": [
      "[2024-01-07 16:39:25.793977] Epoch: 0 training ends. Status: Average loss: 3.205573026950543, Average SC accuracy: 0.14285714285714285, Average S2S accuracy: 0.9109053903223688\n"
     ]
    },
    {
     "name": "stderr",
     "output_type": "stream",
     "text": [
      "100%|██████████| 2/2 [00:00<00:00,  7.27it/s]\n",
      "  0%|          | 0/13 [00:00<?, ?it/s]"
     ]
    },
    {
     "name": "stdout",
     "output_type": "stream",
     "text": [
      "[2024-01-07 16:39:26.070895] Epoch: 0 Evalutation ends. Status: Average loss: 3.141655445098877, Average SC accuracy: 0.18181818181818182, Average S2S accuracy: 0.9148597573105232\n"
     ]
    },
    {
     "name": "stderr",
     "output_type": "stream",
     "text": [
      "100%|██████████| 13/13 [00:05<00:00,  2.39it/s]\n",
      " 50%|█████     | 1/2 [00:00<00:00,  5.31it/s]"
     ]
    },
    {
     "name": "stdout",
     "output_type": "stream",
     "text": [
      "[2024-01-07 16:39:31.503109] Epoch: 1 training ends. Status: Average loss: 3.0193311067727895, Average SC accuracy: 0.24630541871921183, Average S2S accuracy: 0.9140130873437945\n"
     ]
    },
    {
     "name": "stderr",
     "output_type": "stream",
     "text": [
      "100%|██████████| 2/2 [00:00<00:00,  7.30it/s]\n",
      "  0%|          | 0/13 [00:00<?, ?it/s]"
     ]
    },
    {
     "name": "stdout",
     "output_type": "stream",
     "text": [
      "[2024-01-07 16:39:31.779519] Epoch: 1 Evalutation ends. Status: Average loss: 2.834052562713623, Average SC accuracy: 0.36363636363636365, Average S2S accuracy: 0.9226178635369008\n"
     ]
    },
    {
     "name": "stderr",
     "output_type": "stream",
     "text": [
      "100%|██████████| 13/13 [00:05<00:00,  2.39it/s]\n",
      " 50%|█████     | 1/2 [00:00<00:00,  5.57it/s]"
     ]
    },
    {
     "name": "stdout",
     "output_type": "stream",
     "text": [
      "[2024-01-07 16:39:37.215757] Epoch: 2 training ends. Status: Average loss: 2.6534362389491153, Average SC accuracy: 0.4975369458128079, Average S2S accuracy: 0.9198126627711027\n"
     ]
    },
    {
     "name": "stderr",
     "output_type": "stream",
     "text": [
      "100%|██████████| 2/2 [00:00<00:00,  7.46it/s]\n",
      "  0%|          | 0/13 [00:00<?, ?it/s]"
     ]
    },
    {
     "name": "stdout",
     "output_type": "stream",
     "text": [
      "[2024-01-07 16:39:37.485719] Epoch: 2 Evalutation ends. Status: Average loss: 2.480592966079712, Average SC accuracy: 0.5454545454545454, Average S2S accuracy: 0.9297791923612493\n"
     ]
    },
    {
     "name": "stderr",
     "output_type": "stream",
     "text": [
      "100%|██████████| 13/13 [00:05<00:00,  2.40it/s]\n",
      " 50%|█████     | 1/2 [00:00<00:00,  5.56it/s]"
     ]
    },
    {
     "name": "stdout",
     "output_type": "stream",
     "text": [
      "[2024-01-07 16:39:42.912967] Epoch: 3 training ends. Status: Average loss: 2.182329141176664, Average SC accuracy: 0.7487684729064039, Average S2S accuracy: 0.9249119121090758\n"
     ]
    },
    {
     "name": "stderr",
     "output_type": "stream",
     "text": [
      "100%|██████████| 2/2 [00:00<00:00,  7.52it/s]\n",
      "  0%|          | 0/13 [00:00<?, ?it/s]"
     ]
    },
    {
     "name": "stdout",
     "output_type": "stream",
     "text": [
      "[2024-01-07 16:39:43.180545] Epoch: 3 Evalutation ends. Status: Average loss: 2.1070905923843384, Average SC accuracy: 0.7727272727272727, Average S2S accuracy: 0.926198527949075\n"
     ]
    },
    {
     "name": "stderr",
     "output_type": "stream",
     "text": [
      "100%|██████████| 13/13 [00:05<00:00,  2.41it/s]\n",
      " 50%|█████     | 1/2 [00:00<00:00,  5.67it/s]"
     ]
    },
    {
     "name": "stdout",
     "output_type": "stream",
     "text": [
      "[2024-01-07 16:39:48.575788] Epoch: 4 training ends. Status: Average loss: 1.7988506188759437, Average SC accuracy: 0.896551724137931, Average S2S accuracy: 0.9280633795110849\n"
     ]
    },
    {
     "name": "stderr",
     "output_type": "stream",
     "text": [
      "100%|██████████| 2/2 [00:00<00:00,  7.66it/s]\n",
      "  0%|          | 0/13 [00:00<?, ?it/s]"
     ]
    },
    {
     "name": "stdout",
     "output_type": "stream",
     "text": [
      "[2024-01-07 16:39:48.838441] Epoch: 4 Evalutation ends. Status: Average loss: 1.7240607738494873, Average SC accuracy: 0.9545454545454546, Average S2S accuracy: 0.9333598567734235\n"
     ]
    },
    {
     "name": "stderr",
     "output_type": "stream",
     "text": [
      "100%|██████████| 13/13 [00:05<00:00,  2.40it/s]\n",
      " 50%|█████     | 1/2 [00:00<00:00,  5.54it/s]"
     ]
    },
    {
     "name": "stdout",
     "output_type": "stream",
     "text": [
      "[2024-01-07 16:39:54.258066] Epoch: 5 training ends. Status: Average loss: 1.469347440279447, Average SC accuracy: 0.9605911330049262, Average S2S accuracy: 0.9310616505810518\n"
     ]
    },
    {
     "name": "stderr",
     "output_type": "stream",
     "text": [
      "100%|██████████| 2/2 [00:00<00:00,  7.35it/s]\n",
      "  0%|          | 0/13 [00:00<?, ?it/s]"
     ]
    },
    {
     "name": "stdout",
     "output_type": "stream",
     "text": [
      "[2024-01-07 16:39:54.531795] Epoch: 5 Evalutation ends. Status: Average loss: 1.4598978757858276, Average SC accuracy: 1.0, Average S2S accuracy: 0.9299781181619255\n"
     ]
    },
    {
     "name": "stderr",
     "output_type": "stream",
     "text": [
      "100%|██████████| 13/13 [00:05<00:00,  2.40it/s]\n",
      " 50%|█████     | 1/2 [00:00<00:00,  5.46it/s]"
     ]
    },
    {
     "name": "stdout",
     "output_type": "stream",
     "text": [
      "[2024-01-07 16:39:59.940472] Epoch: 6 training ends. Status: Average loss: 1.2203768354195814, Average SC accuracy: 0.9950738916256158, Average S2S accuracy: 0.9335127918937255\n"
     ]
    },
    {
     "name": "stderr",
     "output_type": "stream",
     "text": [
      "100%|██████████| 2/2 [00:00<00:00,  7.21it/s]\n",
      "  0%|          | 0/13 [00:00<?, ?it/s]"
     ]
    },
    {
     "name": "stdout",
     "output_type": "stream",
     "text": [
      "[2024-01-07 16:40:00.219442] Epoch: 6 Evalutation ends. Status: Average loss: 1.165785014629364, Average SC accuracy: 1.0, Average S2S accuracy: 0.9389297791923612\n"
     ]
    },
    {
     "name": "stderr",
     "output_type": "stream",
     "text": [
      "100%|██████████| 13/13 [00:05<00:00,  2.43it/s]\n",
      " 50%|█████     | 1/2 [00:00<00:00,  5.51it/s]"
     ]
    },
    {
     "name": "stdout",
     "output_type": "stream",
     "text": [
      "[2024-01-07 16:40:05.573943] Epoch: 7 training ends. Status: Average loss: 1.024536357476161, Average SC accuracy: 1.0, Average S2S accuracy: 0.9390059746569497\n"
     ]
    },
    {
     "name": "stderr",
     "output_type": "stream",
     "text": [
      "100%|██████████| 2/2 [00:00<00:00,  7.42it/s]\n",
      "  0%|          | 0/13 [00:00<?, ?it/s]"
     ]
    },
    {
     "name": "stdout",
     "output_type": "stream",
     "text": [
      "[2024-01-07 16:40:05.844808] Epoch: 7 Evalutation ends. Status: Average loss: 1.060621440410614, Average SC accuracy: 1.0, Average S2S accuracy: 0.9357469663815396\n"
     ]
    },
    {
     "name": "stderr",
     "output_type": "stream",
     "text": [
      "100%|██████████| 13/13 [00:05<00:00,  2.44it/s]\n",
      " 50%|█████     | 1/2 [00:00<00:00,  5.58it/s]"
     ]
    },
    {
     "name": "stdout",
     "output_type": "stream",
     "text": [
      "[2024-01-07 16:40:11.173208] Epoch: 8 training ends. Status: Average loss: 0.9157579174408546, Average SC accuracy: 1.0, Average S2S accuracy: 0.9420261309172083\n"
     ]
    },
    {
     "name": "stderr",
     "output_type": "stream",
     "text": [
      "100%|██████████| 2/2 [00:00<00:00,  7.54it/s]\n",
      "  0%|          | 0/13 [00:00<?, ?it/s]"
     ]
    },
    {
     "name": "stdout",
     "output_type": "stream",
     "text": [
      "[2024-01-07 16:40:11.440094] Epoch: 8 Evalutation ends. Status: Average loss: 0.9409269392490387, Average SC accuracy: 1.0, Average S2S accuracy: 0.9403222597970957\n"
     ]
    },
    {
     "name": "stderr",
     "output_type": "stream",
     "text": [
      "100%|██████████| 13/13 [00:05<00:00,  2.44it/s]\n",
      " 50%|█████     | 1/2 [00:00<00:00,  5.44it/s]"
     ]
    },
    {
     "name": "stdout",
     "output_type": "stream",
     "text": [
      "[2024-01-07 16:40:16.771670] Epoch: 9 training ends. Status: Average loss: 0.829412254003378, Average SC accuracy: 1.0, Average S2S accuracy: 0.9449587464163001\n"
     ]
    },
    {
     "name": "stderr",
     "output_type": "stream",
     "text": [
      "100%|██████████| 2/2 [00:00<00:00,  7.32it/s]\n",
      "  0%|          | 0/15 [00:00<?, ?it/s]"
     ]
    },
    {
     "name": "stdout",
     "output_type": "stream",
     "text": [
      "[2024-01-07 16:40:17.048592] Epoch: 9 Evalutation ends. Status: Average loss: 0.8534606993198395, Average SC accuracy: 1.0, Average S2S accuracy: 0.9498706982295604\n"
     ]
    },
    {
     "name": "stderr",
     "output_type": "stream",
     "text": [
      "100%|██████████| 15/15 [00:32<00:00,  2.16s/it]\n"
     ]
    },
    {
     "name": "stdout",
     "output_type": "stream",
     "text": [
      "[INFO] 202305091133 is cleared.\n",
      "[INFO] SentenceTransformer is saved, 0.0003910064697265625 MB\n",
      "[INFO] SimpleEmbedder is saved, 90.92114543914795 MB\n",
      "[INFO] SimpleTransformerStack is saved, 216.4018907546997 MB\n",
      "[INFO] SimpleDecoderHead_S2S is saved, 91.68078327178955 MB\n",
      "[INFO] SimpleEncoderHead_AveragePooling_SC is saved, 2.2815237045288086 MB\n",
      "[INFO] 202305221222 is saved\n",
      "[INFO] finish 202305221222\n",
      "[INFO] <class 'sentence_transformers.SentenceTransformer.SentenceTransformer'> loaded for checkpoints_sbert_1/202305221222/SentenceTransformer.pt\n",
      "[INFO] SimpleEmbedder loaded for 202305221222.\n",
      "[INFO] SimpleTransformerStack loaded for 202305221222.\n",
      "[INFO] SimpleDecoderHead_S2S loaded for 202305221222.\n",
      "[WARN] no metadata found.\n"
     ]
    },
    {
     "name": "stderr",
     "output_type": "stream",
     "text": [
      "100%|██████████| 28/28 [00:11<00:00,  2.36it/s]\n",
      " 25%|██▌       | 1/4 [00:00<00:00,  5.90it/s]"
     ]
    },
    {
     "name": "stdout",
     "output_type": "stream",
     "text": [
      "[2024-01-07 16:41:25.115125] Epoch: 0 training ends. Status: Average loss: 5.83495443207877, Average SC accuracy: 0.16367713004484305, Average S2S accuracy: 0.8500883700748235\n"
     ]
    },
    {
     "name": "stderr",
     "output_type": "stream",
     "text": [
      "100%|██████████| 4/4 [00:00<00:00,  6.73it/s]\n",
      "  0%|          | 0/28 [00:00<?, ?it/s]"
     ]
    },
    {
     "name": "stdout",
     "output_type": "stream",
     "text": [
      "[2024-01-07 16:41:25.710901] Epoch: 0 Evalutation ends. Status: Average loss: 6.387030839920044, Average SC accuracy: 0.2653061224489796, Average S2S accuracy: 0.8304889741131352\n"
     ]
    },
    {
     "name": "stderr",
     "output_type": "stream",
     "text": [
      "100%|██████████| 28/28 [00:12<00:00,  2.33it/s]\n",
      " 25%|██▌       | 1/4 [00:00<00:00,  5.64it/s]"
     ]
    },
    {
     "name": "stdout",
     "output_type": "stream",
     "text": [
      "[2024-01-07 16:41:37.740418] Epoch: 1 training ends. Status: Average loss: 4.785458658422742, Average SC accuracy: 0.5448430493273543, Average S2S accuracy: 0.8588407116172253\n"
     ]
    },
    {
     "name": "stderr",
     "output_type": "stream",
     "text": [
      "100%|██████████| 4/4 [00:00<00:00,  6.68it/s]\n",
      "  0%|          | 0/28 [00:00<?, ?it/s]"
     ]
    },
    {
     "name": "stdout",
     "output_type": "stream",
     "text": [
      "[2024-01-07 16:41:38.340489] Epoch: 1 Evalutation ends. Status: Average loss: 4.768756985664368, Average SC accuracy: 0.8979591836734694, Average S2S accuracy: 0.8456375838926175\n"
     ]
    },
    {
     "name": "stderr",
     "output_type": "stream",
     "text": [
      "100%|██████████| 28/28 [00:12<00:00,  2.33it/s]\n",
      " 25%|██▌       | 1/4 [00:00<00:00,  5.34it/s]"
     ]
    },
    {
     "name": "stdout",
     "output_type": "stream",
     "text": [
      "[2024-01-07 16:41:50.367207] Epoch: 2 training ends. Status: Average loss: 3.6004546540124074, Average SC accuracy: 0.8968609865470852, Average S2S accuracy: 0.8660267332705395\n"
     ]
    },
    {
     "name": "stderr",
     "output_type": "stream",
     "text": [
      "100%|██████████| 4/4 [00:00<00:00,  6.44it/s]\n",
      "  0%|          | 0/28 [00:00<?, ?it/s]"
     ]
    },
    {
     "name": "stdout",
     "output_type": "stream",
     "text": [
      "[2024-01-07 16:41:50.989311] Epoch: 2 Evalutation ends. Status: Average loss: 3.470741927623749, Average SC accuracy: 0.9591836734693877, Average S2S accuracy: 0.8625119846596356\n"
     ]
    },
    {
     "name": "stderr",
     "output_type": "stream",
     "text": [
      "100%|██████████| 28/28 [00:12<00:00,  2.32it/s]\n",
      " 25%|██▌       | 1/4 [00:00<00:00,  5.53it/s]"
     ]
    },
    {
     "name": "stdout",
     "output_type": "stream",
     "text": [
      "[2024-01-07 16:42:03.056489] Epoch: 3 training ends. Status: Average loss: 2.6968385747500827, Average SC accuracy: 0.9730941704035875, Average S2S accuracy: 0.8795521171776609\n"
     ]
    },
    {
     "name": "stderr",
     "output_type": "stream",
     "text": [
      "100%|██████████| 4/4 [00:00<00:00,  6.55it/s]\n",
      "  0%|          | 0/28 [00:00<?, ?it/s]"
     ]
    },
    {
     "name": "stdout",
     "output_type": "stream",
     "text": [
      "[2024-01-07 16:42:03.668660] Epoch: 3 Evalutation ends. Status: Average loss: 2.6864353716373444, Average SC accuracy: 1.0, Average S2S accuracy: 0.8744007670182167\n"
     ]
    },
    {
     "name": "stderr",
     "output_type": "stream",
     "text": [
      "100%|██████████| 28/28 [00:12<00:00,  2.33it/s]\n",
      " 25%|██▌       | 1/4 [00:00<00:00,  5.62it/s]"
     ]
    },
    {
     "name": "stdout",
     "output_type": "stream",
     "text": [
      "[2024-01-07 16:42:15.696145] Epoch: 4 training ends. Status: Average loss: 2.118727594614029, Average SC accuracy: 0.9932735426008968, Average S2S accuracy: 0.8909820190710029\n"
     ]
    },
    {
     "name": "stderr",
     "output_type": "stream",
     "text": [
      "100%|██████████| 4/4 [00:00<00:00,  6.64it/s]\n",
      "  0%|          | 0/28 [00:00<?, ?it/s]"
     ]
    },
    {
     "name": "stdout",
     "output_type": "stream",
     "text": [
      "[2024-01-07 16:42:16.299931] Epoch: 4 Evalutation ends. Status: Average loss: 2.026978701353073, Average SC accuracy: 1.0, Average S2S accuracy: 0.8897411313518696\n"
     ]
    },
    {
     "name": "stderr",
     "output_type": "stream",
     "text": [
      "100%|██████████| 28/28 [00:11<00:00,  2.35it/s]\n",
      " 25%|██▌       | 1/4 [00:00<00:00,  5.79it/s]"
     ]
    },
    {
     "name": "stdout",
     "output_type": "stream",
     "text": [
      "[2024-01-07 16:42:28.239002] Epoch: 5 training ends. Status: Average loss: 1.6935412543160575, Average SC accuracy: 1.0, Average S2S accuracy: 0.902538919874271\n"
     ]
    },
    {
     "name": "stderr",
     "output_type": "stream",
     "text": [
      "100%|██████████| 4/4 [00:00<00:00,  6.76it/s]\n",
      "  0%|          | 0/28 [00:00<?, ?it/s]"
     ]
    },
    {
     "name": "stdout",
     "output_type": "stream",
     "text": [
      "[2024-01-07 16:42:28.832730] Epoch: 5 Evalutation ends. Status: Average loss: 1.6395210921764374, Average SC accuracy: 1.0, Average S2S accuracy: 0.9019175455417067\n"
     ]
    },
    {
     "name": "stderr",
     "output_type": "stream",
     "text": [
      "100%|██████████| 28/28 [00:11<00:00,  2.34it/s]\n",
      " 25%|██▌       | 1/4 [00:00<00:00,  5.71it/s]"
     ]
    },
    {
     "name": "stdout",
     "output_type": "stream",
     "text": [
      "[2024-01-07 16:42:40.787102] Epoch: 6 training ends. Status: Average loss: 1.394139404807772, Average SC accuracy: 1.0, Average S2S accuracy: 0.9134714093704029\n"
     ]
    },
    {
     "name": "stderr",
     "output_type": "stream",
     "text": [
      "100%|██████████| 4/4 [00:00<00:00,  6.71it/s]\n",
      "  0%|          | 0/28 [00:00<?, ?it/s]"
     ]
    },
    {
     "name": "stdout",
     "output_type": "stream",
     "text": [
      "[2024-01-07 16:42:41.384317] Epoch: 6 Evalutation ends. Status: Average loss: 1.4027548134326935, Average SC accuracy: 1.0, Average S2S accuracy: 0.9146692233940557\n"
     ]
    },
    {
     "name": "stderr",
     "output_type": "stream",
     "text": [
      "100%|██████████| 28/28 [00:12<00:00,  2.33it/s]\n",
      " 25%|██▌       | 1/4 [00:00<00:00,  5.48it/s]"
     ]
    },
    {
     "name": "stdout",
     "output_type": "stream",
     "text": [
      "[2024-01-07 16:42:53.404561] Epoch: 7 training ends. Status: Average loss: 1.1777019522019796, Average SC accuracy: 1.0, Average S2S accuracy: 0.92303866058483\n"
     ]
    },
    {
     "name": "stderr",
     "output_type": "stream",
     "text": [
      "100%|██████████| 4/4 [00:00<00:00,  6.69it/s]\n",
      "  0%|          | 0/28 [00:00<?, ?it/s]"
     ]
    },
    {
     "name": "stdout",
     "output_type": "stream",
     "text": [
      "[2024-01-07 16:42:54.004292] Epoch: 7 Evalutation ends. Status: Average loss: 1.1983096301555634, Average SC accuracy: 1.0, Average S2S accuracy: 0.924352828379674\n"
     ]
    },
    {
     "name": "stderr",
     "output_type": "stream",
     "text": [
      "100%|██████████| 28/28 [00:11<00:00,  2.35it/s]\n",
      " 25%|██▌       | 1/4 [00:00<00:00,  5.70it/s]"
     ]
    },
    {
     "name": "stdout",
     "output_type": "stream",
     "text": [
      "[2024-01-07 16:43:05.909092] Epoch: 8 training ends. Status: Average loss: 1.0104724253926958, Average SC accuracy: 1.0, Average S2S accuracy: 0.9305421795129591\n"
     ]
    },
    {
     "name": "stderr",
     "output_type": "stream",
     "text": [
      "100%|██████████| 4/4 [00:00<00:00,  6.68it/s]\n",
      "  0%|          | 0/28 [00:00<?, ?it/s]"
     ]
    },
    {
     "name": "stdout",
     "output_type": "stream",
     "text": [
      "[2024-01-07 16:43:06.509834] Epoch: 8 Evalutation ends. Status: Average loss: 1.0095140933990479, Average SC accuracy: 1.0, Average S2S accuracy: 0.9267497603068073\n"
     ]
    },
    {
     "name": "stderr",
     "output_type": "stream",
     "text": [
      "100%|██████████| 28/28 [00:11<00:00,  2.34it/s]\n",
      " 25%|██▌       | 1/4 [00:00<00:00,  5.73it/s]"
     ]
    },
    {
     "name": "stdout",
     "output_type": "stream",
     "text": [
      "[2024-01-07 16:43:18.500481] Epoch: 9 training ends. Status: Average loss: 0.9126582826886859, Average SC accuracy: 1.0, Average S2S accuracy: 0.9361936310046672\n"
     ]
    },
    {
     "name": "stderr",
     "output_type": "stream",
     "text": [
      "100%|██████████| 4/4 [00:00<00:00,  6.62it/s]\n",
      "  0%|          | 0/69 [00:00<?, ?it/s]"
     ]
    },
    {
     "name": "stdout",
     "output_type": "stream",
     "text": [
      "[2024-01-07 16:43:19.106372] Epoch: 9 Evalutation ends. Status: Average loss: 0.8710743933916092, Average SC accuracy: 1.0, Average S2S accuracy: 0.9381591562799616\n"
     ]
    },
    {
     "name": "stderr",
     "output_type": "stream",
     "text": [
      "100%|██████████| 69/69 [03:34<00:00,  3.11s/it]\n"
     ]
    },
    {
     "name": "stdout",
     "output_type": "stream",
     "text": [
      "[INFO] 202305221222 is cleared.\n",
      "[INFO] SentenceTransformer is saved, 0.0003910064697265625 MB\n",
      "[INFO] SimpleEmbedder is saved, 90.92114543914795 MB\n",
      "[INFO] SimpleTransformerStack is saved, 216.4018907546997 MB\n",
      "[INFO] SimpleDecoderHead_S2S is saved, 91.68078327178955 MB\n",
      "[INFO] SimpleEncoderHead_AveragePooling_SC is saved, 2.2815237045288086 MB\n",
      "[INFO] 202307030930 is saved\n",
      "[INFO] finish 202307030930\n",
      "[INFO] <class 'sentence_transformers.SentenceTransformer.SentenceTransformer'> loaded for checkpoints_sbert_1/202307030930/SentenceTransformer.pt\n",
      "[INFO] SimpleEmbedder loaded for 202307030930.\n",
      "[INFO] SimpleTransformerStack loaded for 202307030930.\n",
      "[INFO] SimpleDecoderHead_S2S loaded for 202307030930.\n",
      "[WARN] no metadata found.\n"
     ]
    },
    {
     "name": "stderr",
     "output_type": "stream",
     "text": [
      "100%|██████████| 148/148 [01:01<00:00,  2.39it/s]\n",
      "  6%|▌         | 1/17 [00:00<00:02,  5.35it/s]"
     ]
    },
    {
     "name": "stdout",
     "output_type": "stream",
     "text": [
      "[2024-01-07 16:48:29.777768] Epoch: 0 training ends. Status: Average loss: 2.585953946049149, Average SC accuracy: 0.5988150655945832, Average S2S accuracy: 0.9195742655032979\n"
     ]
    },
    {
     "name": "stderr",
     "output_type": "stream",
     "text": [
      "100%|██████████| 17/17 [00:02<00:00,  5.77it/s]\n",
      "  0%|          | 0/148 [00:00<?, ?it/s]"
     ]
    },
    {
     "name": "stdout",
     "output_type": "stream",
     "text": [
      "[2024-01-07 16:48:32.723819] Epoch: 0 Evalutation ends. Status: Average loss: 1.6580003990846521, Average SC accuracy: 0.8702290076335878, Average S2S accuracy: 0.9274494352508537\n"
     ]
    },
    {
     "name": "stderr",
     "output_type": "stream",
     "text": [
      "100%|██████████| 148/148 [01:02<00:00,  2.38it/s]\n",
      "  6%|▌         | 1/17 [00:00<00:02,  5.46it/s]"
     ]
    },
    {
     "name": "stdout",
     "output_type": "stream",
     "text": [
      "[2024-01-07 16:49:34.789680] Epoch: 1 training ends. Status: Average loss: 1.1543757847032032, Average SC accuracy: 0.9674143038510368, Average S2S accuracy: 0.9377695162880187\n"
     ]
    },
    {
     "name": "stderr",
     "output_type": "stream",
     "text": [
      "100%|██████████| 17/17 [00:02<00:00,  6.18it/s]\n",
      "  0%|          | 0/148 [00:00<?, ?it/s]"
     ]
    },
    {
     "name": "stdout",
     "output_type": "stream",
     "text": [
      "[2024-01-07 16:49:37.542913] Epoch: 1 Evalutation ends. Status: Average loss: 0.9325826343368081, Average SC accuracy: 0.9923664122137404, Average S2S accuracy: 0.9404430435163296\n"
     ]
    },
    {
     "name": "stderr",
     "output_type": "stream",
     "text": [
      "100%|██████████| 148/148 [01:01<00:00,  2.42it/s]\n",
      "  6%|▌         | 1/17 [00:00<00:02,  5.48it/s]"
     ]
    },
    {
     "name": "stdout",
     "output_type": "stream",
     "text": [
      "[2024-01-07 16:50:38.755031] Epoch: 2 training ends. Status: Average loss: 0.7205800367770968, Average SC accuracy: 0.9978840457046128, Average S2S accuracy: 0.9507872888068886\n"
     ]
    },
    {
     "name": "stderr",
     "output_type": "stream",
     "text": [
      "100%|██████████| 17/17 [00:02<00:00,  6.08it/s]\n",
      "  0%|          | 0/148 [00:00<?, ?it/s]"
     ]
    },
    {
     "name": "stdout",
     "output_type": "stream",
     "text": [
      "[2024-01-07 16:50:41.554263] Epoch: 2 Evalutation ends. Status: Average loss: 0.6897704075364506, Average SC accuracy: 1.0, Average S2S accuracy: 0.9497767270816916\n"
     ]
    },
    {
     "name": "stderr",
     "output_type": "stream",
     "text": [
      "100%|██████████| 148/148 [01:00<00:00,  2.46it/s]\n",
      "  6%|▌         | 1/17 [00:00<00:02,  5.74it/s]"
     ]
    },
    {
     "name": "stdout",
     "output_type": "stream",
     "text": [
      "[2024-01-07 16:51:41.728143] Epoch: 3 training ends. Status: Average loss: 0.5553415834500983, Average SC accuracy: 0.9995768091409225, Average S2S accuracy: 0.9584577001408447\n"
     ]
    },
    {
     "name": "stderr",
     "output_type": "stream",
     "text": [
      "100%|██████████| 17/17 [00:02<00:00,  6.35it/s]\n",
      "  0%|          | 0/148 [00:00<?, ?it/s]"
     ]
    },
    {
     "name": "stdout",
     "output_type": "stream",
     "text": [
      "[2024-01-07 16:51:44.407496] Epoch: 3 Evalutation ends. Status: Average loss: 0.5808940670069527, Average SC accuracy: 1.0, Average S2S accuracy: 0.9566587864460205\n"
     ]
    },
    {
     "name": "stderr",
     "output_type": "stream",
     "text": [
      "100%|██████████| 148/148 [01:00<00:00,  2.43it/s]\n",
      "  6%|▌         | 1/17 [00:00<00:02,  6.24it/s]"
     ]
    },
    {
     "name": "stdout",
     "output_type": "stream",
     "text": [
      "[2024-01-07 16:52:45.364618] Epoch: 4 training ends. Status: Average loss: 0.45781740103219004, Average SC accuracy: 1.0, Average S2S accuracy: 0.9638109874740978\n"
     ]
    },
    {
     "name": "stderr",
     "output_type": "stream",
     "text": [
      "100%|██████████| 17/17 [00:02<00:00,  6.46it/s]\n",
      "  0%|          | 0/148 [00:00<?, ?it/s]"
     ]
    },
    {
     "name": "stdout",
     "output_type": "stream",
     "text": [
      "[2024-01-07 16:52:47.999967] Epoch: 4 Evalutation ends. Status: Average loss: 0.505561006419799, Average SC accuracy: 1.0, Average S2S accuracy: 0.9596007354872603\n"
     ]
    },
    {
     "name": "stderr",
     "output_type": "stream",
     "text": [
      "100%|██████████| 148/148 [01:00<00:00,  2.46it/s]\n",
      "  6%|▌         | 1/17 [00:00<00:02,  6.13it/s]"
     ]
    },
    {
     "name": "stdout",
     "output_type": "stream",
     "text": [
      "[2024-01-07 16:53:48.261736] Epoch: 5 training ends. Status: Average loss: 0.4030483582535306, Average SC accuracy: 1.0, Average S2S accuracy: 0.9676807623397223\n"
     ]
    },
    {
     "name": "stderr",
     "output_type": "stream",
     "text": [
      "100%|██████████| 17/17 [00:02<00:00,  6.51it/s]\n",
      "  0%|          | 0/148 [00:00<?, ?it/s]"
     ]
    },
    {
     "name": "stdout",
     "output_type": "stream",
     "text": [
      "[2024-01-07 16:53:50.874752] Epoch: 5 Evalutation ends. Status: Average loss: 0.4809971223859226, Average SC accuracy: 1.0, Average S2S accuracy: 0.9604938271604938\n"
     ]
    },
    {
     "name": "stderr",
     "output_type": "stream",
     "text": [
      "100%|██████████| 148/148 [01:00<00:00,  2.45it/s]\n",
      "  6%|▌         | 1/17 [00:00<00:02,  6.01it/s]"
     ]
    },
    {
     "name": "stdout",
     "output_type": "stream",
     "text": [
      "[2024-01-07 16:54:51.206868] Epoch: 6 training ends. Status: Average loss: 0.36821654771228096, Average SC accuracy: 1.0, Average S2S accuracy: 0.9696067605500256\n"
     ]
    },
    {
     "name": "stderr",
     "output_type": "stream",
     "text": [
      "100%|██████████| 17/17 [00:02<00:00,  6.36it/s]\n",
      "  0%|          | 0/148 [00:00<?, ?it/s]"
     ]
    },
    {
     "name": "stdout",
     "output_type": "stream",
     "text": [
      "[2024-01-07 16:54:53.880260] Epoch: 6 Evalutation ends. Status: Average loss: 0.44450971659492045, Average SC accuracy: 1.0, Average S2S accuracy: 0.9641187286577357\n"
     ]
    },
    {
     "name": "stderr",
     "output_type": "stream",
     "text": [
      "100%|██████████| 148/148 [01:01<00:00,  2.40it/s]\n",
      "  6%|▌         | 1/17 [00:00<00:02,  5.72it/s]"
     ]
    },
    {
     "name": "stdout",
     "output_type": "stream",
     "text": [
      "[2024-01-07 16:55:55.656125] Epoch: 7 training ends. Status: Average loss: 0.3240026578911253, Average SC accuracy: 1.0, Average S2S accuracy: 0.9730419512040945\n"
     ]
    },
    {
     "name": "stderr",
     "output_type": "stream",
     "text": [
      "100%|██████████| 17/17 [00:02<00:00,  5.87it/s]\n",
      "  0%|          | 0/148 [00:00<?, ?it/s]"
     ]
    },
    {
     "name": "stdout",
     "output_type": "stream",
     "text": [
      "[2024-01-07 16:55:58.555865] Epoch: 7 Evalutation ends. Status: Average loss: 0.39301736740504994, Average SC accuracy: 1.0, Average S2S accuracy: 0.9679012345679012\n"
     ]
    },
    {
     "name": "stderr",
     "output_type": "stream",
     "text": [
      "100%|██████████| 148/148 [01:01<00:00,  2.42it/s]\n",
      "  6%|▌         | 1/17 [00:00<00:02,  5.50it/s]"
     ]
    },
    {
     "name": "stdout",
     "output_type": "stream",
     "text": [
      "[2024-01-07 16:56:59.777643] Epoch: 8 training ends. Status: Average loss: 0.2645804585033172, Average SC accuracy: 1.0, Average S2S accuracy: 0.9778421313590041\n"
     ]
    },
    {
     "name": "stderr",
     "output_type": "stream",
     "text": [
      "100%|██████████| 17/17 [00:02<00:00,  6.43it/s]\n",
      "  0%|          | 0/148 [00:00<?, ?it/s]"
     ]
    },
    {
     "name": "stdout",
     "output_type": "stream",
     "text": [
      "[2024-01-07 16:57:02.423834] Epoch: 8 Evalutation ends. Status: Average loss: 0.34516609503942375, Average SC accuracy: 1.0, Average S2S accuracy: 0.9707206023990894\n"
     ]
    },
    {
     "name": "stderr",
     "output_type": "stream",
     "text": [
      "100%|██████████| 148/148 [01:00<00:00,  2.43it/s]\n",
      "  6%|▌         | 1/17 [00:00<00:02,  6.14it/s]"
     ]
    },
    {
     "name": "stdout",
     "output_type": "stream",
     "text": [
      "[2024-01-07 16:58:03.419205] Epoch: 9 training ends. Status: Average loss: 0.2269798522261349, Average SC accuracy: 1.0, Average S2S accuracy: 0.9807005102413721\n"
     ]
    },
    {
     "name": "stderr",
     "output_type": "stream",
     "text": [
      "100%|██████████| 17/17 [00:02<00:00,  6.44it/s]\n",
      "  0%|          | 0/10 [00:00<?, ?it/s]"
     ]
    },
    {
     "name": "stdout",
     "output_type": "stream",
     "text": [
      "[2024-01-07 16:58:06.059329] Epoch: 9 Evalutation ends. Status: Average loss: 0.34697481113321643, Average SC accuracy: 1.0, Average S2S accuracy: 0.9706505559933456\n"
     ]
    },
    {
     "name": "stderr",
     "output_type": "stream",
     "text": [
      "100%|██████████| 10/10 [00:27<00:00,  2.73s/it]\n"
     ]
    },
    {
     "name": "stdout",
     "output_type": "stream",
     "text": [
      "[INFO] 202307030930 is cleared.\n",
      "[INFO] SentenceTransformer is saved, 0.0003910064697265625 MB\n",
      "[INFO] SimpleEmbedder is saved, 90.92114543914795 MB\n",
      "[INFO] SimpleTransformerStack is saved, 216.4018907546997 MB\n",
      "[INFO] SimpleDecoderHead_S2S is saved, 91.68078327178955 MB\n",
      "[INFO] SimpleEncoderHead_AveragePooling_SC is saved, 2.2815237045288086 MB\n",
      "[INFO] 202307050919 is saved\n",
      "[INFO] finish 202307050919\n",
      "[INFO] <class 'sentence_transformers.SentenceTransformer.SentenceTransformer'> loaded for checkpoints_sbert_1/202307050919/SentenceTransformer.pt\n",
      "[INFO] SimpleEmbedder loaded for 202307050919.\n",
      "[INFO] SimpleTransformerStack loaded for 202307050919.\n",
      "[INFO] SimpleDecoderHead_S2S loaded for 202307050919.\n",
      "[WARN] no metadata found.\n"
     ]
    },
    {
     "name": "stderr",
     "output_type": "stream",
     "text": [
      "100%|██████████| 13/13 [00:05<00:00,  2.51it/s]\n",
      " 50%|█████     | 1/2 [00:00<00:00,  6.28it/s]"
     ]
    },
    {
     "name": "stdout",
     "output_type": "stream",
     "text": [
      "[2024-01-07 16:59:04.293054] Epoch: 0 training ends. Status: Average loss: 4.172071585288415, Average SC accuracy: 0.11822660098522167, Average S2S accuracy: 0.8913057468305554\n"
     ]
    },
    {
     "name": "stderr",
     "output_type": "stream",
     "text": [
      "100%|██████████| 2/2 [00:00<00:00,  8.91it/s]\n",
      "  0%|          | 0/13 [00:00<?, ?it/s]"
     ]
    },
    {
     "name": "stdout",
     "output_type": "stream",
     "text": [
      "[2024-01-07 16:59:04.519525] Epoch: 0 Evalutation ends. Status: Average loss: 3.882667303085327, Average SC accuracy: 0.18181818181818182, Average S2S accuracy: 0.9028882377563834\n"
     ]
    },
    {
     "name": "stderr",
     "output_type": "stream",
     "text": [
      "100%|██████████| 13/13 [00:05<00:00,  2.50it/s]\n",
      " 50%|█████     | 1/2 [00:00<00:00,  6.38it/s]"
     ]
    },
    {
     "name": "stdout",
     "output_type": "stream",
     "text": [
      "[2024-01-07 16:59:09.712819] Epoch: 1 training ends. Status: Average loss: 3.9975247383117676, Average SC accuracy: 0.15763546798029557, Average S2S accuracy: 0.8953171589763391\n"
     ]
    },
    {
     "name": "stderr",
     "output_type": "stream",
     "text": [
      "100%|██████████| 2/2 [00:00<00:00,  9.08it/s]\n",
      "  0%|          | 0/13 [00:00<?, ?it/s]"
     ]
    },
    {
     "name": "stdout",
     "output_type": "stream",
     "text": [
      "[2024-01-07 16:59:09.934660] Epoch: 1 Evalutation ends. Status: Average loss: 3.685626268386841, Average SC accuracy: 0.18181818181818182, Average S2S accuracy: 0.907074089577229\n"
     ]
    },
    {
     "name": "stderr",
     "output_type": "stream",
     "text": [
      "100%|██████████| 13/13 [00:05<00:00,  2.52it/s]\n",
      " 50%|█████     | 1/2 [00:00<00:00,  6.32it/s]"
     ]
    },
    {
     "name": "stdout",
     "output_type": "stream",
     "text": [
      "[2024-01-07 16:59:15.095953] Epoch: 2 training ends. Status: Average loss: 3.6476685450627255, Average SC accuracy: 0.13793103448275862, Average S2S accuracy: 0.9021816075680545\n"
     ]
    },
    {
     "name": "stderr",
     "output_type": "stream",
     "text": [
      "100%|██████████| 2/2 [00:00<00:00,  8.82it/s]\n",
      "  0%|          | 0/13 [00:00<?, ?it/s]"
     ]
    },
    {
     "name": "stdout",
     "output_type": "stream",
     "text": [
      "[2024-01-07 16:59:15.324132] Epoch: 2 Evalutation ends. Status: Average loss: 3.240897297859192, Average SC accuracy: 0.36363636363636365, Average S2S accuracy: 0.9110506488070322\n"
     ]
    },
    {
     "name": "stderr",
     "output_type": "stream",
     "text": [
      "100%|██████████| 13/13 [00:05<00:00,  2.47it/s]\n",
      " 50%|█████     | 1/2 [00:00<00:00,  5.65it/s]"
     ]
    },
    {
     "name": "stdout",
     "output_type": "stream",
     "text": [
      "[2024-01-07 16:59:20.582762] Epoch: 3 training ends. Status: Average loss: 3.3795210398160496, Average SC accuracy: 0.3054187192118227, Average S2S accuracy: 0.9069223673767081\n"
     ]
    },
    {
     "name": "stderr",
     "output_type": "stream",
     "text": [
      "100%|██████████| 2/2 [00:00<00:00,  7.75it/s]\n",
      "  0%|          | 0/13 [00:00<?, ?it/s]"
     ]
    },
    {
     "name": "stdout",
     "output_type": "stream",
     "text": [
      "[2024-01-07 16:59:20.842240] Epoch: 3 Evalutation ends. Status: Average loss: 3.0731831789016724, Average SC accuracy: 0.36363636363636365, Average S2S accuracy: 0.9160736709920468\n"
     ]
    },
    {
     "name": "stderr",
     "output_type": "stream",
     "text": [
      "100%|██████████| 13/13 [00:05<00:00,  2.40it/s]\n",
      " 50%|█████     | 1/2 [00:00<00:00,  6.36it/s]"
     ]
    },
    {
     "name": "stdout",
     "output_type": "stream",
     "text": [
      "[2024-01-07 16:59:26.270814] Epoch: 4 training ends. Status: Average loss: 2.9675058401547947, Average SC accuracy: 0.5024630541871922, Average S2S accuracy: 0.9128858570907609\n"
     ]
    },
    {
     "name": "stderr",
     "output_type": "stream",
     "text": [
      "100%|██████████| 2/2 [00:00<00:00,  8.92it/s]\n",
      "  0%|          | 0/13 [00:00<?, ?it/s]"
     ]
    },
    {
     "name": "stdout",
     "output_type": "stream",
     "text": [
      "[2024-01-07 16:59:26.496406] Epoch: 4 Evalutation ends. Status: Average loss: 2.7203304767608643, Average SC accuracy: 0.5454545454545454, Average S2S accuracy: 0.9225617413143574\n"
     ]
    },
    {
     "name": "stderr",
     "output_type": "stream",
     "text": [
      "100%|██████████| 13/13 [00:05<00:00,  2.43it/s]\n",
      " 50%|█████     | 1/2 [00:00<00:00,  6.34it/s]"
     ]
    },
    {
     "name": "stdout",
     "output_type": "stream",
     "text": [
      "[2024-01-07 16:59:31.847329] Epoch: 5 training ends. Status: Average loss: 2.609949515416072, Average SC accuracy: 0.6600985221674877, Average S2S accuracy: 0.9187635411974172\n"
     ]
    },
    {
     "name": "stderr",
     "output_type": "stream",
     "text": [
      "100%|██████████| 2/2 [00:00<00:00,  8.90it/s]\n",
      "  0%|          | 0/13 [00:00<?, ?it/s]"
     ]
    },
    {
     "name": "stdout",
     "output_type": "stream",
     "text": [
      "[2024-01-07 16:59:32.073755] Epoch: 5 Evalutation ends. Status: Average loss: 2.440212368965149, Average SC accuracy: 0.6818181818181818, Average S2S accuracy: 0.924445374633738\n"
     ]
    },
    {
     "name": "stderr",
     "output_type": "stream",
     "text": [
      "100%|██████████| 13/13 [00:05<00:00,  2.46it/s]\n",
      " 50%|█████     | 1/2 [00:00<00:00,  6.33it/s]"
     ]
    },
    {
     "name": "stdout",
     "output_type": "stream",
     "text": [
      "[2024-01-07 16:59:37.369505] Epoch: 6 training ends. Status: Average loss: 2.264495317752545, Average SC accuracy: 0.7635467980295566, Average S2S accuracy: 0.9188493468048137\n"
     ]
    },
    {
     "name": "stderr",
     "output_type": "stream",
     "text": [
      "100%|██████████| 2/2 [00:00<00:00,  8.87it/s]\n",
      "  0%|          | 0/13 [00:00<?, ?it/s]"
     ]
    },
    {
     "name": "stdout",
     "output_type": "stream",
     "text": [
      "[2024-01-07 16:59:37.596822] Epoch: 6 Evalutation ends. Status: Average loss: 2.0438115000724792, Average SC accuracy: 0.8181818181818182, Average S2S accuracy: 0.9284219338635412\n"
     ]
    },
    {
     "name": "stderr",
     "output_type": "stream",
     "text": [
      "100%|██████████| 13/13 [00:05<00:00,  2.50it/s]\n",
      " 50%|█████     | 1/2 [00:00<00:00,  6.30it/s]"
     ]
    },
    {
     "name": "stdout",
     "output_type": "stream",
     "text": [
      "[2024-01-07 16:59:42.805583] Epoch: 7 training ends. Status: Average loss: 1.984927223278926, Average SC accuracy: 0.8669950738916257, Average S2S accuracy: 0.9224102795117661\n"
     ]
    },
    {
     "name": "stderr",
     "output_type": "stream",
     "text": [
      "100%|██████████| 2/2 [00:00<00:00,  8.66it/s]\n",
      "  0%|          | 0/13 [00:00<?, ?it/s]"
     ]
    },
    {
     "name": "stdout",
     "output_type": "stream",
     "text": [
      "[2024-01-07 16:59:43.037956] Epoch: 7 Evalutation ends. Status: Average loss: 1.7592580318450928, Average SC accuracy: 0.8636363636363636, Average S2S accuracy: 0.9277940560904144\n"
     ]
    },
    {
     "name": "stderr",
     "output_type": "stream",
     "text": [
      "100%|██████████| 13/13 [00:05<00:00,  2.52it/s]\n",
      " 50%|█████     | 1/2 [00:00<00:00,  6.38it/s]"
     ]
    },
    {
     "name": "stdout",
     "output_type": "stream",
     "text": [
      "[2024-01-07 16:59:48.196971] Epoch: 8 training ends. Status: Average loss: 1.6745354395646315, Average SC accuracy: 0.9310344827586207, Average S2S accuracy: 0.9265074972649463\n"
     ]
    },
    {
     "name": "stderr",
     "output_type": "stream",
     "text": [
      "100%|██████████| 2/2 [00:00<00:00,  8.35it/s]\n",
      "  0%|          | 0/13 [00:00<?, ?it/s]"
     ]
    },
    {
     "name": "stdout",
     "output_type": "stream",
     "text": [
      "[2024-01-07 16:59:48.438039] Epoch: 8 Evalutation ends. Status: Average loss: 1.6326321959495544, Average SC accuracy: 0.8636363636363636, Average S2S accuracy: 0.9292591042277103\n"
     ]
    },
    {
     "name": "stderr",
     "output_type": "stream",
     "text": [
      "100%|██████████| 13/13 [00:05<00:00,  2.46it/s]\n",
      " 50%|█████     | 1/2 [00:00<00:00,  5.70it/s]"
     ]
    },
    {
     "name": "stdout",
     "output_type": "stream",
     "text": [
      "[2024-01-07 16:59:53.727506] Epoch: 9 training ends. Status: Average loss: 1.468003749847412, Average SC accuracy: 0.9507389162561576, Average S2S accuracy: 0.9309693888495613\n"
     ]
    },
    {
     "name": "stderr",
     "output_type": "stream",
     "text": [
      "100%|██████████| 2/2 [00:00<00:00,  7.64it/s]\n",
      "  0%|          | 0/6 [00:00<?, ?it/s]"
     ]
    },
    {
     "name": "stdout",
     "output_type": "stream",
     "text": [
      "[2024-01-07 16:59:53.991406] Epoch: 9 Evalutation ends. Status: Average loss: 1.4119521975517273, Average SC accuracy: 1.0, Average S2S accuracy: 0.9334449560485559\n"
     ]
    },
    {
     "name": "stderr",
     "output_type": "stream",
     "text": [
      "100%|██████████| 6/6 [00:16<00:00,  2.72s/it]\n"
     ]
    },
    {
     "name": "stdout",
     "output_type": "stream",
     "text": [
      "[INFO] 202307050919 is cleared.\n",
      "[INFO] SentenceTransformer is saved, 0.0003910064697265625 MB\n",
      "[INFO] SimpleEmbedder is saved, 90.92114543914795 MB\n",
      "[INFO] SimpleTransformerStack is saved, 216.4018907546997 MB\n",
      "[INFO] SimpleDecoderHead_S2S is saved, 91.68078327178955 MB\n",
      "[INFO] SimpleEncoderHead_AveragePooling_SC is saved, 2.2815237045288086 MB\n",
      "[INFO] 202307070327 is saved\n",
      "[INFO] finish 202307070327\n",
      "[INFO] <class 'sentence_transformers.SentenceTransformer.SentenceTransformer'> loaded for checkpoints_sbert_1/202307070327/SentenceTransformer.pt\n",
      "[INFO] SimpleEmbedder loaded for 202307070327.\n",
      "[INFO] SimpleTransformerStack loaded for 202307070327.\n",
      "[INFO] SimpleDecoderHead_S2S loaded for 202307070327.\n",
      "[WARN] no metadata found.\n"
     ]
    },
    {
     "name": "stderr",
     "output_type": "stream",
     "text": [
      "100%|██████████| 7/7 [00:02<00:00,  2.52it/s]\n",
      "100%|██████████| 1/1 [00:00<00:00,  8.12it/s]\n",
      "  0%|          | 0/7 [00:00<?, ?it/s]"
     ]
    },
    {
     "name": "stdout",
     "output_type": "stream",
     "text": [
      "[2024-01-07 17:00:53.197412] Epoch: 0 training ends. Status: Average loss: 3.559300252369472, Average SC accuracy: 0.37962962962962965, Average S2S accuracy: 0.9222021194107004\n",
      "[2024-01-07 17:00:53.322109] Epoch: 0 Evalutation ends. Status: Average loss: 3.3727049827575684, Average SC accuracy: 0.08333333333333333, Average S2S accuracy: 0.9324368645457527\n"
     ]
    },
    {
     "name": "stderr",
     "output_type": "stream",
     "text": [
      "100%|██████████| 7/7 [00:02<00:00,  2.55it/s]\n",
      "100%|██████████| 1/1 [00:00<00:00,  8.09it/s]\n",
      "  0%|          | 0/7 [00:00<?, ?it/s]"
     ]
    },
    {
     "name": "stdout",
     "output_type": "stream",
     "text": [
      "[2024-01-07 17:00:56.070460] Epoch: 1 training ends. Status: Average loss: 3.434683629444667, Average SC accuracy: 0.4166666666666667, Average S2S accuracy: 0.9228667429752981\n",
      "[2024-01-07 17:00:56.195630] Epoch: 1 Evalutation ends. Status: Average loss: 3.1129581928253174, Average SC accuracy: 0.3333333333333333, Average S2S accuracy: 0.9367005575598557\n"
     ]
    },
    {
     "name": "stderr",
     "output_type": "stream",
     "text": [
      "100%|██████████| 7/7 [00:02<00:00,  2.51it/s]\n",
      "100%|██████████| 1/1 [00:00<00:00,  8.01it/s]\n",
      "  0%|          | 0/7 [00:00<?, ?it/s]"
     ]
    },
    {
     "name": "stdout",
     "output_type": "stream",
     "text": [
      "[2024-01-07 17:00:58.986619] Epoch: 2 training ends. Status: Average loss: 3.278271641050066, Average SC accuracy: 0.4722222222222222, Average S2S accuracy: 0.9244175312926929\n",
      "[2024-01-07 17:00:59.112861] Epoch: 2 Evalutation ends. Status: Average loss: 2.9469754695892334, Average SC accuracy: 0.3333333333333333, Average S2S accuracy: 0.9393243686454575\n"
     ]
    },
    {
     "name": "stderr",
     "output_type": "stream",
     "text": [
      "100%|██████████| 7/7 [00:02<00:00,  2.53it/s]\n",
      "100%|██████████| 1/1 [00:00<00:00,  7.83it/s]\n",
      "  0%|          | 0/7 [00:00<?, ?it/s]"
     ]
    },
    {
     "name": "stdout",
     "output_type": "stream",
     "text": [
      "[2024-01-07 17:01:01.879347] Epoch: 3 training ends. Status: Average loss: 3.057096140725272, Average SC accuracy: 0.4722222222222222, Average S2S accuracy: 0.924565225418159\n",
      "[2024-01-07 17:01:02.008392] Epoch: 3 Evalutation ends. Status: Average loss: 2.8953936100006104, Average SC accuracy: 0.3333333333333333, Average S2S accuracy: 0.9419481797310594\n"
     ]
    },
    {
     "name": "stderr",
     "output_type": "stream",
     "text": [
      "100%|██████████| 7/7 [00:02<00:00,  2.53it/s]\n",
      "100%|██████████| 1/1 [00:00<00:00,  7.66it/s]\n",
      "  0%|          | 0/7 [00:00<?, ?it/s]"
     ]
    },
    {
     "name": "stdout",
     "output_type": "stream",
     "text": [
      "[2024-01-07 17:01:04.776405] Epoch: 4 training ends. Status: Average loss: 2.768505334854126, Average SC accuracy: 0.5277777777777778, Average S2S accuracy: 0.9263375549237529\n",
      "[2024-01-07 17:01:04.908396] Epoch: 4 Evalutation ends. Status: Average loss: 2.4048571586608887, Average SC accuracy: 0.3333333333333333, Average S2S accuracy: 0.9458838963594621\n"
     ]
    },
    {
     "name": "stderr",
     "output_type": "stream",
     "text": [
      "100%|██████████| 7/7 [00:02<00:00,  2.48it/s]\n",
      "100%|██████████| 1/1 [00:00<00:00,  8.14it/s]\n",
      "  0%|          | 0/7 [00:00<?, ?it/s]"
     ]
    },
    {
     "name": "stdout",
     "output_type": "stream",
     "text": [
      "[2024-01-07 17:01:07.728095] Epoch: 5 training ends. Status: Average loss: 2.4404611928122386, Average SC accuracy: 0.6574074074074074, Average S2S accuracy: 0.9292914374330761\n",
      "[2024-01-07 17:01:07.852372] Epoch: 5 Evalutation ends. Status: Average loss: 2.151184558868408, Average SC accuracy: 0.3333333333333333, Average S2S accuracy: 0.9435880616595606\n"
     ]
    },
    {
     "name": "stderr",
     "output_type": "stream",
     "text": [
      "100%|██████████| 7/7 [00:02<00:00,  2.46it/s]\n",
      "100%|██████████| 1/1 [00:00<00:00,  7.00it/s]\n",
      "  0%|          | 0/7 [00:00<?, ?it/s]"
     ]
    },
    {
     "name": "stdout",
     "output_type": "stream",
     "text": [
      "[2024-01-07 17:01:10.699664] Epoch: 6 training ends. Status: Average loss: 2.121536135673523, Average SC accuracy: 0.8148148148148148, Average S2S accuracy: 0.9300668315917734\n",
      "[2024-01-07 17:01:10.844014] Epoch: 6 Evalutation ends. Status: Average loss: 1.8469774723052979, Average SC accuracy: 0.5833333333333334, Average S2S accuracy: 0.9426041325024598\n"
     ]
    },
    {
     "name": "stderr",
     "output_type": "stream",
     "text": [
      "100%|██████████| 7/7 [00:02<00:00,  2.48it/s]\n",
      "100%|██████████| 1/1 [00:00<00:00,  8.30it/s]\n",
      "  0%|          | 0/7 [00:00<?, ?it/s]"
     ]
    },
    {
     "name": "stdout",
     "output_type": "stream",
     "text": [
      "[2024-01-07 17:01:13.672493] Epoch: 7 training ends. Status: Average loss: 1.805698105267116, Average SC accuracy: 0.9166666666666666, Average S2S accuracy: 0.9342391906361924\n",
      "[2024-01-07 17:01:13.794374] Epoch: 7 Evalutation ends. Status: Average loss: 1.4711477756500244, Average SC accuracy: 0.9166666666666666, Average S2S accuracy: 0.9445719908166612\n"
     ]
    },
    {
     "name": "stderr",
     "output_type": "stream",
     "text": [
      "100%|██████████| 7/7 [00:02<00:00,  2.53it/s]\n",
      "100%|██████████| 1/1 [00:00<00:00,  7.93it/s]\n",
      "  0%|          | 0/7 [00:00<?, ?it/s]"
     ]
    },
    {
     "name": "stdout",
     "output_type": "stream",
     "text": [
      "[2024-01-07 17:01:16.567437] Epoch: 8 training ends. Status: Average loss: 1.5883500576019287, Average SC accuracy: 1.0, Average S2S accuracy: 0.935162278920356\n",
      "[2024-01-07 17:01:16.695057] Epoch: 8 Evalutation ends. Status: Average loss: 1.3166778087615967, Average SC accuracy: 1.0, Average S2S accuracy: 0.9419481797310594\n"
     ]
    },
    {
     "name": "stderr",
     "output_type": "stream",
     "text": [
      "100%|██████████| 7/7 [00:02<00:00,  2.56it/s]\n",
      "100%|██████████| 1/1 [00:00<00:00,  7.45it/s]\n",
      "  0%|          | 0/12 [00:00<?, ?it/s]"
     ]
    },
    {
     "name": "stdout",
     "output_type": "stream",
     "text": [
      "[2024-01-07 17:01:19.435302] Epoch: 9 training ends. Status: Average loss: 1.3815860407693046, Average SC accuracy: 1.0, Average S2S accuracy: 0.9363438319240852\n",
      "[2024-01-07 17:01:19.571032] Epoch: 9 Evalutation ends. Status: Average loss: 1.0933815240859985, Average SC accuracy: 1.0, Average S2S accuracy: 0.9448999672023615\n"
     ]
    },
    {
     "name": "stderr",
     "output_type": "stream",
     "text": [
      "100%|██████████| 12/12 [00:30<00:00,  2.52s/it]\n"
     ]
    },
    {
     "name": "stdout",
     "output_type": "stream",
     "text": [
      "[INFO] 202307070327 is cleared.\n",
      "[INFO] SentenceTransformer is saved, 0.0003910064697265625 MB\n",
      "[INFO] SimpleEmbedder is saved, 90.92114543914795 MB\n",
      "[INFO] SimpleTransformerStack is saved, 216.4018907546997 MB\n",
      "[INFO] SimpleDecoderHead_S2S is saved, 91.68078327178955 MB\n",
      "[INFO] SimpleEncoderHead_AveragePooling_SC is saved, 2.2815237045288086 MB\n",
      "[INFO] 202307191009 is saved\n",
      "[INFO] finish 202307191009\n",
      "[INFO] <class 'sentence_transformers.SentenceTransformer.SentenceTransformer'> loaded for checkpoints_sbert_1/202307191009/SentenceTransformer.pt\n",
      "[INFO] SimpleEmbedder loaded for 202307191009.\n",
      "[INFO] SimpleTransformerStack loaded for 202307191009.\n",
      "[INFO] SimpleDecoderHead_S2S loaded for 202307191009.\n",
      "[WARN] no metadata found.\n"
     ]
    },
    {
     "name": "stderr",
     "output_type": "stream",
     "text": [
      "100%|██████████| 14/14 [00:05<00:00,  2.51it/s]\n",
      " 50%|█████     | 1/2 [00:00<00:00,  6.52it/s]"
     ]
    },
    {
     "name": "stdout",
     "output_type": "stream",
     "text": [
      "[2024-01-07 17:02:41.016435] Epoch: 0 training ends. Status: Average loss: 4.170820985521589, Average SC accuracy: 0.17592592592592593, Average S2S accuracy: 0.8886662031166919\n"
     ]
    },
    {
     "name": "stderr",
     "output_type": "stream",
     "text": [
      "100%|██████████| 2/2 [00:00<00:00,  8.25it/s]\n",
      "  0%|          | 0/14 [00:00<?, ?it/s]"
     ]
    },
    {
     "name": "stdout",
     "output_type": "stream",
     "text": [
      "[2024-01-07 17:02:41.260366] Epoch: 0 Evalutation ends. Status: Average loss: 3.8304316997528076, Average SC accuracy: 0.375, Average S2S accuracy: 0.8874355925485533\n"
     ]
    },
    {
     "name": "stderr",
     "output_type": "stream",
     "text": [
      "100%|██████████| 14/14 [00:05<00:00,  2.56it/s]\n",
      " 50%|█████     | 1/2 [00:00<00:00,  6.04it/s]"
     ]
    },
    {
     "name": "stdout",
     "output_type": "stream",
     "text": [
      "[2024-01-07 17:02:46.728527] Epoch: 1 training ends. Status: Average loss: 3.9122592551367625, Average SC accuracy: 0.2175925925925926, Average S2S accuracy: 0.8933289705100413\n"
     ]
    },
    {
     "name": "stderr",
     "output_type": "stream",
     "text": [
      "100%|██████████| 2/2 [00:00<00:00,  8.05it/s]\n",
      "  0%|          | 0/14 [00:00<?, ?it/s]"
     ]
    },
    {
     "name": "stdout",
     "output_type": "stream",
     "text": [
      "[2024-01-07 17:02:46.978741] Epoch: 1 Evalutation ends. Status: Average loss: 3.5078099966049194, Average SC accuracy: 0.5, Average S2S accuracy: 0.8973444312326595\n"
     ]
    },
    {
     "name": "stderr",
     "output_type": "stream",
     "text": [
      "100%|██████████| 14/14 [00:05<00:00,  2.51it/s]\n",
      " 50%|█████     | 1/2 [00:00<00:00,  6.47it/s]"
     ]
    },
    {
     "name": "stdout",
     "output_type": "stream",
     "text": [
      "[2024-01-07 17:02:52.549174] Epoch: 2 training ends. Status: Average loss: 3.6037886823926653, Average SC accuracy: 0.3611111111111111, Average S2S accuracy: 0.8973577651437686\n"
     ]
    },
    {
     "name": "stderr",
     "output_type": "stream",
     "text": [
      "100%|██████████| 2/2 [00:00<00:00,  8.46it/s]\n",
      "  0%|          | 0/14 [00:00<?, ?it/s]"
     ]
    },
    {
     "name": "stdout",
     "output_type": "stream",
     "text": [
      "[2024-01-07 17:02:52.787284] Epoch: 2 Evalutation ends. Status: Average loss: 3.4045196771621704, Average SC accuracy: 0.5, Average S2S accuracy: 0.9009116131589378\n"
     ]
    },
    {
     "name": "stderr",
     "output_type": "stream",
     "text": [
      "100%|██████████| 14/14 [00:05<00:00,  2.52it/s]\n",
      " 50%|█████     | 1/2 [00:00<00:00,  5.68it/s]"
     ]
    },
    {
     "name": "stdout",
     "output_type": "stream",
     "text": [
      "[2024-01-07 17:02:58.355235] Epoch: 3 training ends. Status: Average loss: 3.207986984934126, Average SC accuracy: 0.5277777777777778, Average S2S accuracy: 0.9011616017015011\n"
     ]
    },
    {
     "name": "stderr",
     "output_type": "stream",
     "text": [
      "100%|██████████| 2/2 [00:00<00:00,  7.39it/s]\n",
      "  0%|          | 0/14 [00:00<?, ?it/s]"
     ]
    },
    {
     "name": "stdout",
     "output_type": "stream",
     "text": [
      "[2024-01-07 17:02:58.627290] Epoch: 3 Evalutation ends. Status: Average loss: 2.9095263481140137, Average SC accuracy: 0.6666666666666666, Average S2S accuracy: 0.9036860879904876\n"
     ]
    },
    {
     "name": "stderr",
     "output_type": "stream",
     "text": [
      "100%|██████████| 14/14 [00:05<00:00,  2.44it/s]\n",
      " 50%|█████     | 1/2 [00:00<00:00,  5.64it/s]"
     ]
    },
    {
     "name": "stdout",
     "output_type": "stream",
     "text": [
      "[2024-01-07 17:03:04.361462] Epoch: 4 training ends. Status: Average loss: 2.7247154031481062, Average SC accuracy: 0.75, Average S2S accuracy: 0.906540144791198\n"
     ]
    },
    {
     "name": "stderr",
     "output_type": "stream",
     "text": [
      "100%|██████████| 2/2 [00:00<00:00,  7.21it/s]\n",
      "  0%|          | 0/14 [00:00<?, ?it/s]"
     ]
    },
    {
     "name": "stdout",
     "output_type": "stream",
     "text": [
      "[2024-01-07 17:03:04.640637] Epoch: 4 Evalutation ends. Status: Average loss: 2.4899373054504395, Average SC accuracy: 0.9166666666666666, Average S2S accuracy: 0.9094332144272691\n"
     ]
    },
    {
     "name": "stderr",
     "output_type": "stream",
     "text": [
      "100%|██████████| 14/14 [00:05<00:00,  2.51it/s]\n",
      " 50%|█████     | 1/2 [00:00<00:00,  5.54it/s]"
     ]
    },
    {
     "name": "stdout",
     "output_type": "stream",
     "text": [
      "[2024-01-07 17:03:10.210474] Epoch: 5 training ends. Status: Average loss: 2.3320259281567166, Average SC accuracy: 0.9027777777777778, Average S2S accuracy: 0.9124095055012474\n"
     ]
    },
    {
     "name": "stderr",
     "output_type": "stream",
     "text": [
      "100%|██████████| 2/2 [00:00<00:00,  7.25it/s]\n",
      "  0%|          | 0/14 [00:00<?, ?it/s]"
     ]
    },
    {
     "name": "stdout",
     "output_type": "stream",
     "text": [
      "[2024-01-07 17:03:10.488336] Epoch: 5 Evalutation ends. Status: Average loss: 2.1567095518112183, Average SC accuracy: 0.9166666666666666, Average S2S accuracy: 0.9112168053904083\n"
     ]
    },
    {
     "name": "stderr",
     "output_type": "stream",
     "text": [
      "100%|██████████| 14/14 [00:05<00:00,  2.51it/s]\n",
      " 50%|█████     | 1/2 [00:00<00:00,  6.52it/s]"
     ]
    },
    {
     "name": "stdout",
     "output_type": "stream",
     "text": [
      "[2024-01-07 17:03:16.078089] Epoch: 6 training ends. Status: Average loss: 1.9790992821965898, Average SC accuracy: 0.9490740740740741, Average S2S accuracy: 0.9184220213505665\n"
     ]
    },
    {
     "name": "stderr",
     "output_type": "stream",
     "text": [
      "100%|██████████| 2/2 [00:00<00:00,  8.47it/s]\n",
      "  0%|          | 0/14 [00:00<?, ?it/s]"
     ]
    },
    {
     "name": "stdout",
     "output_type": "stream",
     "text": [
      "[2024-01-07 17:03:16.315581] Epoch: 6 Evalutation ends. Status: Average loss: 1.8741275072097778, Average SC accuracy: 0.9583333333333334, Average S2S accuracy: 0.9193420531113754\n"
     ]
    },
    {
     "name": "stderr",
     "output_type": "stream",
     "text": [
      "100%|██████████| 14/14 [00:05<00:00,  2.53it/s]\n",
      " 50%|█████     | 1/2 [00:00<00:00,  5.80it/s]"
     ]
    },
    {
     "name": "stdout",
     "output_type": "stream",
     "text": [
      "[2024-01-07 17:03:21.846900] Epoch: 7 training ends. Status: Average loss: 1.7050084812300546, Average SC accuracy: 0.9722222222222222, Average S2S accuracy: 0.9211828704650497\n"
     ]
    },
    {
     "name": "stderr",
     "output_type": "stream",
     "text": [
      "100%|██████████| 2/2 [00:00<00:00,  7.50it/s]\n",
      "  0%|          | 0/14 [00:00<?, ?it/s]"
     ]
    },
    {
     "name": "stdout",
     "output_type": "stream",
     "text": [
      "[2024-01-07 17:03:22.114866] Epoch: 7 Evalutation ends. Status: Average loss: 1.6315101981163025, Average SC accuracy: 0.9583333333333334, Average S2S accuracy: 0.9242964724534285\n"
     ]
    },
    {
     "name": "stderr",
     "output_type": "stream",
     "text": [
      "100%|██████████| 14/14 [00:05<00:00,  2.44it/s]\n",
      " 50%|█████     | 1/2 [00:00<00:00,  6.23it/s]"
     ]
    },
    {
     "name": "stdout",
     "output_type": "stream",
     "text": [
      "[2024-01-07 17:03:27.849786] Epoch: 8 training ends. Status: Average loss: 1.423889424119677, Average SC accuracy: 0.9953703703703703, Average S2S accuracy: 0.9268886253016483\n"
     ]
    },
    {
     "name": "stderr",
     "output_type": "stream",
     "text": [
      "100%|██████████| 2/2 [00:00<00:00,  8.15it/s]\n",
      "  0%|          | 0/14 [00:00<?, ?it/s]"
     ]
    },
    {
     "name": "stdout",
     "output_type": "stream",
     "text": [
      "[2024-01-07 17:03:28.097238] Epoch: 8 Evalutation ends. Status: Average loss: 1.4093984961509705, Average SC accuracy: 1.0, Average S2S accuracy: 0.9237019421323821\n"
     ]
    },
    {
     "name": "stderr",
     "output_type": "stream",
     "text": [
      "100%|██████████| 14/14 [00:05<00:00,  2.53it/s]\n",
      " 50%|█████     | 1/2 [00:00<00:00,  6.56it/s]"
     ]
    },
    {
     "name": "stdout",
     "output_type": "stream",
     "text": [
      "[2024-01-07 17:03:33.638974] Epoch: 9 training ends. Status: Average loss: 1.252785005739757, Average SC accuracy: 1.0, Average S2S accuracy: 0.9313059838848214\n"
     ]
    },
    {
     "name": "stderr",
     "output_type": "stream",
     "text": [
      "100%|██████████| 2/2 [00:00<00:00,  8.50it/s]\n",
      "  0%|          | 0/11 [00:00<?, ?it/s]"
     ]
    },
    {
     "name": "stdout",
     "output_type": "stream",
     "text": [
      "[2024-01-07 17:03:33.875866] Epoch: 9 Evalutation ends. Status: Average loss: 1.2427651286125183, Average SC accuracy: 1.0, Average S2S accuracy: 0.93004359889021\n"
     ]
    },
    {
     "name": "stderr",
     "output_type": "stream",
     "text": [
      "100%|██████████| 11/11 [00:32<00:00,  2.99s/it]\n"
     ]
    },
    {
     "name": "stdout",
     "output_type": "stream",
     "text": [
      "[INFO] 202307191009 is cleared.\n",
      "[INFO] SentenceTransformer is saved, 0.0003910064697265625 MB\n",
      "[INFO] SimpleEmbedder is saved, 90.92114543914795 MB\n",
      "[INFO] SimpleTransformerStack is saved, 216.4018907546997 MB\n",
      "[INFO] SimpleDecoderHead_S2S is saved, 91.68078327178955 MB\n",
      "[INFO] SimpleEncoderHead_AveragePooling_SC is saved, 2.2815237045288086 MB\n",
      "[INFO] 202308030456 is saved\n",
      "[INFO] finish 202308030456\n"
     ]
    }
   ],
   "source": [
    "import re\n",
    "import json\n",
    "import transformers\n",
    "from torch.utils.data import DataLoader, Dataset\n",
    "from torchtext.data.functional import to_map_style_dataset\n",
    "from transformers import AutoTokenizer, DistilBertModel\n",
    "from datetime import datetime\n",
    "from tqdm import tqdm\n",
    "from sentence_transformers import SentenceTransformer\n",
    "\n",
    "\n",
    "GPUS = [1]\n",
    "torch.cuda.set_device(GPUS[0])\n",
    "\n",
    "epochs=10\n",
    "\n",
    "# source\n",
    "seq_max = 256\n",
    "batch_size = 16\n",
    "\n",
    "\n",
    "# model & head\n",
    "dim_hidden = 768\n",
    "# dim_feedforward = 768\n",
    "dim_feedforward = 3072\n",
    "n_head = 12\n",
    "n_layer = 6\n",
    "\n",
    "# optimizer\n",
    "lr_base_optimizer = 1e-4\n",
    "betas_optimizer = (0.9, 0.999)\n",
    "eps_optimizer = 1e-9\n",
    "\n",
    "# scheduler\n",
    "warmup = 200\n",
    "\n",
    "tokenizer = AutoTokenizer.from_pretrained(\"bert-base-uncased\")\n",
    "collator = Collator_SC(tokenizer, seq_max)  # TODO: here\n",
    "\n",
    "# labels\n",
    "index_label_2_labelid = {label:id_label for id_label, label in enumerate(sorted([\"product\",\"testcase\",\"testbed\",\"usererror\",\"targetvm\",\"nimbus\",\"infra\"]))}\n",
    "index_labelid_2_label = {id_label: label for label, id_label in index_label_2_labelid.items()}\n",
    "num_labels=len(index_label_2_labelid)\n",
    "\n",
    "\n",
    "folder_data = 'data'\n",
    "folder_output = 'outputs_gosv_sentencebert'\n",
    "postfix_train = '_train_0.35_15.csv'\n",
    "postfix_test = '_test.csv'\n",
    "\n",
    "versions_data = sorted([int(filename.split('_test.csv')[0]) for filename in os.listdir(folder_data) if '_test.csv' in filename and filename[0] != '.'])\n",
    "# versions_data = versions_data[1:]     #TODO remove\n",
    "\n",
    "version_data_last = 202205240000\n",
    "for version_data in versions_data:\n",
    "    main(\n",
    "        folder_data, folder_output, version_data, version_data_last, postfix_train, postfix_test,\n",
    "        tokenizer, collator, index_label_2_labelid, index_labelid_2_label, num_labels,\n",
    "        epochs, seq_max, batch_size, dim_hidden, dim_feedforward, n_head, n_layer,\n",
    "        lr_base_optimizer, betas_optimizer, eps_optimizer, warmup, GPUS\n",
    "    )\n",
    "    \n",
    "    print('[INFO] finish {}'.format(version_data))\n",
    "    version_data_last = version_data\n",
    "# end"
   ]
  },
  {
   "cell_type": "code",
   "execution_count": 9,
   "id": "ba9b0b30",
   "metadata": {},
   "outputs": [
    {
     "name": "stdout",
     "output_type": "stream",
     "text": [
      "done\n"
     ]
    }
   ],
   "source": [
    "print('done')"
   ]
  }
 ],
 "metadata": {
  "kernelspec": {
   "display_name": "Python 3.8.8 ('base')",
   "language": "python",
   "name": "python3"
  },
  "language_info": {
   "codemirror_mode": {
    "name": "ipython",
    "version": 3
   },
   "file_extension": ".py",
   "mimetype": "text/x-python",
   "name": "python",
   "nbconvert_exporter": "python",
   "pygments_lexer": "ipython3",
   "version": "3.8.8"
  },
  "vscode": {
   "interpreter": {
    "hash": "d4d1e4263499bec80672ea0156c357c1ee493ec2b1c70f0acce89fc37c4a6abe"
   }
  }
 },
 "nbformat": 4,
 "nbformat_minor": 5
}
