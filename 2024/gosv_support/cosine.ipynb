{
 "cells": [
  {
   "cell_type": "code",
   "execution_count": 1,
   "id": "d4865fef-9006-422c-82fa-9b4a6799a74d",
   "metadata": {},
   "outputs": [],
   "source": [
    "import os, sys\n",
    "\n",
    "from sentence_transformers import SentenceTransformer\n",
    "model = SentenceTransformer('all-MiniLM-L6-v2')"
   ]
  },
  {
   "cell_type": "code",
   "execution_count": 2,
   "id": "a7bfdeb5-e190-47e6-8cb9-ac4fe66ca542",
   "metadata": {},
   "outputs": [],
   "source": [
    "from scipy import spatial\n",
    "def details_cosine_distance(e1, e2):\n",
    "    return spatial.distance.cosine(e1, e2)\n",
    "# end\n"
   ]
  },
  {
   "cell_type": "code",
   "execution_count": 12,
   "id": "4f330f24-a6a5-424d-9ad7-77ded2e1b90e",
   "metadata": {},
   "outputs": [],
   "source": [
    "from main_preprocess_pretrain_big2_new4_function import process_entitys"
   ]
  },
  {
   "cell_type": "code",
   "execution_count": 19,
   "id": "4b56b17a-b5e4-4c6a-9eb4-640859fe179c",
   "metadata": {},
   "outputs": [
    {
     "name": "stdout",
     "output_type": "stream",
     "text": [
      "[0]x[1]: 0.3552827835083008\n",
      "[0]x[2]: 0.20444566011428833\n",
      "[0]x[3]: 0.18103009462356567\n",
      "[0]x[4]: 0.5716642141342163\n",
      "[1]x[2]: 0.2704594135284424\n",
      "[1]x[3]: 0.42432230710983276\n",
      "[1]x[4]: 0.4015995264053345\n",
      "[2]x[3]: 0.35930508375167847\n",
      "[2]x[4]: 0.5726844668388367\n",
      "[3]x[4]: 0.46657615900039673\n"
     ]
    }
   ],
   "source": [
    "folder_data = 'dataset'\n",
    "filenames = [n for n in os.listdir(folder_data) if n[0] != '.']\n",
    "\n",
    "\n",
    "sentences = []\n",
    "\n",
    "for filename in filenames:\n",
    "    path_file = os.path.join(folder_data, filename)\n",
    "    with open(path_file, 'r') as file:\n",
    "        lines_all = file.read().splitlines()\n",
    "        lines_all = process_entitys(lines_all)\n",
    "        sentence = ' '.join(lines_all)\n",
    "        sentences.append((filename, sentence, len(sentence.split(' '))))\n",
    "    # end\n",
    "# end\n",
    "\n",
    "sentences.append(('jinyuj_added','vsan master backup failure op vm connected validator number number vms are connected'))\n",
    "\n",
    "# sentences_r = [sentence.split() for sentence in sentences]\n",
    "# [sentence.reverse() for sentence in sentences_r]\n",
    "# sentences_r = [' '.join(sentence) for sentence in sentences_r]\n",
    "\n",
    "#Sentences are encoded by calling model.encode()\n",
    "embeddings = model.encode([s[1] for s in sentences])\n",
    "\n",
    "for i1, s1 in enumerate(embeddings):\n",
    "    for i2, s2 in enumerate(embeddings):\n",
    "        if i2<= i1:\n",
    "            continue\n",
    "        # end\n",
    "        \n",
    "        print('[{}]x[{}]: {}'.format(i1, i2, details_cosine_distance(s1, s2)))\n",
    "    # end\n",
    "# end"
   ]
  },
  {
   "cell_type": "code",
   "execution_count": 20,
   "id": "5e1e4f1e-0886-455e-b209-2dbdf9af0f53",
   "metadata": {},
   "outputs": [
    {
     "data": {
      "text/plain": [
       "[('3055012_error_log.txt',\n",
       "  'apply profile op profile applied validator verified all profile requests have been applied successfully apply profile op main vc task validator number virtual machine re configure com vmware vc runtime fault runtime fault summary apply profile op data health validator number number checks passed for data health',\n",
       "  47),\n",
       " ('3053311_error_log.txt',\n",
       "  'host failback op vm connected validator number number vms are connected host failback op vm powered on validator number number vms are powered on apply profile op vm connected validator number number vms are connected apply profile op vm powered on validator number number vms are powered on apply profile op profile applied validator verified all profile requests have been applied successfully apply profile op main vc task validator number virtual machine re configure com vmware vc runtime fault runtime fault summary com vmware vc invalid state the operation is not allowed in the current state apply profile op vm connected validator number number vms are connected apply profile op vm powered on validator number number vms are powered on apply profile op data health validator number number checks passed for data health vsan master backup failure op vm connected validator number number vms are connected vsan master backup failure op vm powered on validator number number vms are powered on vsan master backup failure op data health validator number number checks passed for data health host failback op vm connected validator number number vms are connected host failback op vm powered on validator number number vms are powered on host failback op cluster health validator number number checks passed for cluster health host failback op data health validator number number checks passed for data health host failback op vm connected validator number number vms are connected host failback op vm powered on validator number number vms are powered on host failback op cluster health validator number number checks passed for cluster health profile restore op general validator timestamp found un healthy data object after wait for re sync profile restore op main vc task validator number virtual machine re configure com vmware vc invalid state the operation is not allowed in the current state com vmware vc invalid vm configuration invalid virtual machine configuration check compliance apply profile op check compliance re sync completed op additional vm connected validator number number vms are connected check compliance apply profile op check compliance re sync completed op additional vm powered on validator number number vms are powered on check compliance apply profile op check compliance re sync completed op additional general validator number number vms are compliant number non compliant number not applicable number unknown number out of date number na no profile or can not get it from vc check compliance apply profile op check compliance re sync completed op additional vm connected validator number number vms are connected check compliance apply profile op check compliance re sync completed op additional vm powered on validator number number vms are powered on delete profile op profile not exists validator number number profile s deleted',\n",
       "  453),\n",
       " ('3053191_error_log.txt',\n",
       "  'prepare vms with data disk apply profile op profile applied validator verified all profile requests have been applied successfully prepare vms with data disk apply profile op general validator timestamp found un healthy data object after wait for re sync prepare vms with data disk apply profile op main vc task validator number virtual machine re configure com vmware vc invalid vm configuration invalid virtual machine configuration prepare vms with data disk apply profile op cluster health validator number number checks passed for cluster health prepare vms with data disk check compliance power on v mop general validator timestamp found un healthy data object after wait for re sync prepare vms with data disk check compliance power on v mop general validator number number vms are compliant number non compliant number not applicable number unknown number out of date number na no profile or can not get it from vc apply profile op profile applied validator verified all profile requests have been applied successfully apply profile op main vc task validator number virtual machine re configure com vmware vc invalid vm configuration invalid virtual machine configuration apply profile op profile applied validator verified all profile requests have been applied successfully apply profile op general validator timestamp found un healthy data object after wait for re sync apply profile op main vc task validator number virtual machine re configure com vmware vc invalid state the operation is not allowed in the current state com vmware vc invalid vm configuration invalid virtual machine configuration apply profile op host ha state validator number number hosts have the correct ha state',\n",
       "  267),\n",
       " ('3056403_error_log.txt',\n",
       "  'profile restore op main vc task validator number virtual machine re configure com vmware vc runtime fault runtime fault summary',\n",
       "  20),\n",
       " ('jinyuj_added',\n",
       "  'vsan master backup failure op vm connected validator number number vms are connected')]"
      ]
     },
     "execution_count": 20,
     "metadata": {},
     "output_type": "execute_result"
    }
   ],
   "source": [
    "sentences"
   ]
  }
 ],
 "metadata": {
  "kernelspec": {
   "display_name": "Python 3",
   "language": "python",
   "name": "python3"
  },
  "language_info": {
   "codemirror_mode": {
    "name": "ipython",
    "version": 3
   },
   "file_extension": ".py",
   "mimetype": "text/x-python",
   "name": "python",
   "nbconvert_exporter": "python",
   "pygments_lexer": "ipython3",
   "version": "3.8.8"
  }
 },
 "nbformat": 4,
 "nbformat_minor": 5
}
